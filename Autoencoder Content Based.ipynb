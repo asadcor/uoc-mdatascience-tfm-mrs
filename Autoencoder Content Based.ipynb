{
 "cells": [
  {
   "cell_type": "markdown",
   "id": "9098ed11",
   "metadata": {},
   "source": [
    "# Autoencoder Content-Based Recommender"
   ]
  },
  {
   "cell_type": "code",
   "execution_count": 1,
   "id": "ae516742",
   "metadata": {},
   "outputs": [
    {
     "name": "stderr",
     "output_type": "stream",
     "text": [
      "\u001b[1;38;5;214mCOMET WARNING:\u001b[0m As you are running in a Jupyter environment, you will need to call `experiment.end()` when finished to ensure all metrics and code are logged before exiting.\n",
      "[codecarbon INFO @ 19:12:21] [setup] RAM Tracking...\n",
      "[codecarbon INFO @ 19:12:21] [setup] GPU Tracking...\n",
      "[codecarbon INFO @ 19:12:21] No GPU found.\n",
      "[codecarbon INFO @ 19:12:21] [setup] CPU Tracking...\n",
      "[codecarbon WARNING @ 19:12:21] No CPU tracking mode found. Falling back on CPU constant mode.\n",
      "[codecarbon WARNING @ 19:12:23] We saw that you have a Intel(R) Xeon(R) CPU E5-2630 v3 @ 2.40GHz but we don't know it. Please contact us.\n",
      "[codecarbon INFO @ 19:12:23] CPU Model on constant consumption mode: Intel(R) Xeon(R) CPU E5-2630 v3 @ 2.40GHz\n",
      "[codecarbon INFO @ 19:12:23] >>> Tracker's metadata:\n",
      "[codecarbon INFO @ 19:12:23]   Platform system: Linux-5.4.0-147-generic-x86_64-with-glibc2.29\n",
      "[codecarbon INFO @ 19:12:23]   Python version: 3.8.10\n",
      "[codecarbon INFO @ 19:12:23]   Available RAM : 31.360 GB\n",
      "[codecarbon INFO @ 19:12:23]   CPU count: 8\n",
      "[codecarbon INFO @ 19:12:23]   CPU model: Intel(R) Xeon(R) CPU E5-2630 v3 @ 2.40GHz\n",
      "[codecarbon INFO @ 19:12:23]   GPU count: None\n",
      "[codecarbon INFO @ 19:12:23]   GPU model: None\n",
      "\u001b[1;38;5;39mCOMET INFO:\u001b[0m Couldn't find a Git repository in '/home/asadcor' nor in any parent directory. Set `COMET_GIT_DIRECTORY` if your Git Repository is elsewhere.\n",
      "\u001b[1;38;5;39mCOMET INFO:\u001b[0m Experiment is live on comet.com https://www.comet.com/sadcor/general/9f3c6c3e73894ded991bf51e75072ec1\n",
      "\n"
     ]
    }
   ],
   "source": [
    "from comet_ml import Experiment\n",
    "experiment = Experiment(api_key=\"ummagUWZ5eIZzmhPtFkA8oopu\")"
   ]
  },
  {
   "cell_type": "code",
   "execution_count": 2,
   "id": "c3b0e5cc",
   "metadata": {},
   "outputs": [
    {
     "name": "stderr",
     "output_type": "stream",
     "text": [
      "Matplotlib created a temporary config/cache directory at /tmp/matplotlib-sz7c9quk because the default path (/home/asadcor/.cache/matplotlib) is not a writable directory; it is highly recommended to set the MPLCONFIGDIR environment variable to a writable directory, in particular to speed up the import of Matplotlib and to better support multiprocessing.\n",
      "2023-05-03 19:12:32.097017: W tensorflow/stream_executor/platform/default/dso_loader.cc:64] Could not load dynamic library 'libcudart.so.11.0'; dlerror: libcudart.so.11.0: cannot open shared object file: No such file or directory\n",
      "2023-05-03 19:12:32.097082: I tensorflow/stream_executor/cuda/cudart_stub.cc:29] Ignore above cudart dlerror if you do not have a GPU set up on your machine.\n"
     ]
    }
   ],
   "source": [
    "from tqdm import tqdm\n",
    "import time\n",
    "\n",
    "import csv\n",
    "import numpy as np\n",
    "import pandas as pd\n",
    "import scipy.sparse as sp\n",
    "\n",
    "import matplotlib.pyplot as plt\n",
    "\n",
    "from sklearn.model_selection import train_test_split\n",
    "from sklearn.preprocessing import MinMaxScaler\n",
    "from sklearn.metrics.pairwise import cosine_similarity \n",
    "\n",
    "import keras\n",
    "import tensorflow as tf\n",
    "from keras.callbacks import ModelCheckpoint\n",
    "from keras.models import load_model\n",
    "from sklearn.preprocessing import OneHotEncoder\n",
    "from sklearn.metrics import confusion_matrix\n",
    "from sklearn.metrics import f1_score\n",
    "from sklearn.metrics import roc_auc_score\n",
    "\n",
    "from keras.layers import (GlobalAveragePooling2D, Flatten, Dense, Dropout, Conv2D, Conv2DTranspose, BatchNormalization, AlphaDropout, MaxPooling2D, UpSampling2D, Rescaling, Resizing, LeakyReLU)\n",
    "from keras.callbacks import EarlyStopping, ModelCheckpoint, ReduceLROnPlateau\n",
    "from tensorflow.keras.optimizers import Adam, SGD\n",
    "from keras import Sequential, Model"
   ]
  },
  {
   "cell_type": "markdown",
   "id": "1fd3bf97",
   "metadata": {},
   "source": [
    "## Part 1: Autoencoder"
   ]
  },
  {
   "cell_type": "code",
   "execution_count": 3,
   "id": "1bd8ae7f",
   "metadata": {},
   "outputs": [],
   "source": [
    "playlists_dataset_with_mood = pd.read_csv('working/playlists_dataset_with_mood.csv')"
   ]
  },
  {
   "cell_type": "markdown",
   "id": "9fae6570",
   "metadata": {},
   "source": [
    "### Data cleaning"
   ]
  },
  {
   "cell_type": "code",
   "execution_count": 4,
   "id": "247a9471",
   "metadata": {},
   "outputs": [],
   "source": [
    "df_unique_songs = playlists_dataset_with_mood.drop_duplicates(['track_uri'])\n",
    "\n",
    "df_tracks = df_unique_songs['track_uri']\n",
    "df_track_names = df_unique_songs['track_name']\n",
    "\n",
    "df_songs_clean = df_unique_songs.drop(columns=[\n",
    "    'pid', 'pos', 'name', 'description', 'modified_at', 'num_tracks','num_albums','num_followers',\n",
    "    'num_edits', 'artist_name', 'track_name','album_name', 'track_uri','album_release_date'])\n",
    "\n",
    "\n",
    "mean_popularity = df_songs_clean['track_popularity'].mean()\n",
    "df_songs_clean['track_popularity'] = df_songs_clean['track_popularity'].fillna(mean_popularity)\n",
    "\n",
    "df_songs_clean['track_explicit'] = df_songs_clean['track_explicit'].fillna(False)\n",
    "\n",
    "df_songs_clean['track_explicit'] = df_songs_clean['track_explicit'].astype(int)"
   ]
  },
  {
   "cell_type": "code",
   "execution_count": 5,
   "id": "0d876ba4",
   "metadata": {},
   "outputs": [],
   "source": [
    "# encode the moods as one-hot vectors\n",
    "one_hot_encoder = OneHotEncoder()\n",
    "mood_encoded = one_hot_encoder.fit_transform(df_songs_clean[[\"mood\"]])\n",
    "\n",
    "# convert the encoded moods to a dataframe\n",
    "mood_df = pd.DataFrame(mood_encoded.toarray(), columns=one_hot_encoder.get_feature_names([\"mood\"]))\n",
    "\n",
    "# index reset\n",
    "mood_df = mood_df.reset_index(drop=True)\n",
    "df_songs_clean = df_songs_clean.reset_index(drop=True)\n",
    "\n",
    "# concatenate the encoded moods to the original dataframe\n",
    "df_songs_to_encode = pd.concat([df_songs_clean, mood_df], axis=1)"
   ]
  },
  {
   "cell_type": "code",
   "execution_count": 6,
   "id": "14668de3",
   "metadata": {},
   "outputs": [],
   "source": [
    "# mood_map = {'Energetic': np.array([0, 1]),'Calm': np.array([0, -1]),'Sad': np.array([-1, 0]),'Happy': np.array([1, 0]),'Anxious': np.array([-1, 1]),'Depression': np.array([-1, -1]),'Exuberance': np.array([1, 1]),'Contentment': np.array([1, -1])}\n",
    "# df_songs_clean['mood'] = df_songs_clean['mood'].map(mood_map)"
   ]
  },
  {
   "cell_type": "code",
   "execution_count": 7,
   "id": "eeb3069f",
   "metadata": {},
   "outputs": [
    {
     "data": {
      "text/html": [
       "<div>\n",
       "<style scoped>\n",
       "    .dataframe tbody tr th:only-of-type {\n",
       "        vertical-align: middle;\n",
       "    }\n",
       "\n",
       "    .dataframe tbody tr th {\n",
       "        vertical-align: top;\n",
       "    }\n",
       "\n",
       "    .dataframe thead th {\n",
       "        text-align: right;\n",
       "    }\n",
       "</style>\n",
       "<table border=\"1\" class=\"dataframe\">\n",
       "  <thead>\n",
       "    <tr style=\"text-align: right;\">\n",
       "      <th></th>\n",
       "      <th>danceability</th>\n",
       "      <th>energy</th>\n",
       "      <th>key</th>\n",
       "      <th>loudness</th>\n",
       "      <th>mode</th>\n",
       "      <th>speechiness</th>\n",
       "      <th>acousticness</th>\n",
       "      <th>instrumentalness</th>\n",
       "      <th>liveness</th>\n",
       "      <th>valence</th>\n",
       "      <th>...</th>\n",
       "      <th>track_popularity</th>\n",
       "      <th>track_explicit</th>\n",
       "      <th>mood_Anxious</th>\n",
       "      <th>mood_Calm</th>\n",
       "      <th>mood_Contentment</th>\n",
       "      <th>mood_Depression</th>\n",
       "      <th>mood_Energetic</th>\n",
       "      <th>mood_Exuberance</th>\n",
       "      <th>mood_Happy</th>\n",
       "      <th>mood_Sad</th>\n",
       "    </tr>\n",
       "  </thead>\n",
       "  <tbody>\n",
       "    <tr>\n",
       "      <th>0</th>\n",
       "      <td>0.674</td>\n",
       "      <td>0.413</td>\n",
       "      <td>2</td>\n",
       "      <td>-7.816</td>\n",
       "      <td>1</td>\n",
       "      <td>0.0274</td>\n",
       "      <td>0.836</td>\n",
       "      <td>0.000019</td>\n",
       "      <td>0.0980</td>\n",
       "      <td>0.503</td>\n",
       "      <td>...</td>\n",
       "      <td>68.0</td>\n",
       "      <td>0</td>\n",
       "      <td>1.0</td>\n",
       "      <td>0.0</td>\n",
       "      <td>0.0</td>\n",
       "      <td>0.0</td>\n",
       "      <td>0.0</td>\n",
       "      <td>0.0</td>\n",
       "      <td>0.0</td>\n",
       "      <td>0.0</td>\n",
       "    </tr>\n",
       "    <tr>\n",
       "      <th>1</th>\n",
       "      <td>0.630</td>\n",
       "      <td>0.530</td>\n",
       "      <td>0</td>\n",
       "      <td>-7.259</td>\n",
       "      <td>1</td>\n",
       "      <td>0.0434</td>\n",
       "      <td>0.400</td>\n",
       "      <td>0.000000</td>\n",
       "      <td>0.1770</td>\n",
       "      <td>0.417</td>\n",
       "      <td>...</td>\n",
       "      <td>79.0</td>\n",
       "      <td>0</td>\n",
       "      <td>1.0</td>\n",
       "      <td>0.0</td>\n",
       "      <td>0.0</td>\n",
       "      <td>0.0</td>\n",
       "      <td>0.0</td>\n",
       "      <td>0.0</td>\n",
       "      <td>0.0</td>\n",
       "      <td>0.0</td>\n",
       "    </tr>\n",
       "    <tr>\n",
       "      <th>2</th>\n",
       "      <td>0.456</td>\n",
       "      <td>0.636</td>\n",
       "      <td>1</td>\n",
       "      <td>-6.552</td>\n",
       "      <td>1</td>\n",
       "      <td>0.0432</td>\n",
       "      <td>0.462</td>\n",
       "      <td>0.000189</td>\n",
       "      <td>0.2520</td>\n",
       "      <td>0.492</td>\n",
       "      <td>...</td>\n",
       "      <td>33.0</td>\n",
       "      <td>0</td>\n",
       "      <td>0.0</td>\n",
       "      <td>0.0</td>\n",
       "      <td>0.0</td>\n",
       "      <td>0.0</td>\n",
       "      <td>0.0</td>\n",
       "      <td>0.0</td>\n",
       "      <td>0.0</td>\n",
       "      <td>1.0</td>\n",
       "    </tr>\n",
       "    <tr>\n",
       "      <th>3</th>\n",
       "      <td>0.586</td>\n",
       "      <td>0.128</td>\n",
       "      <td>7</td>\n",
       "      <td>-9.297</td>\n",
       "      <td>1</td>\n",
       "      <td>0.0496</td>\n",
       "      <td>0.963</td>\n",
       "      <td>0.000000</td>\n",
       "      <td>0.0858</td>\n",
       "      <td>0.371</td>\n",
       "      <td>...</td>\n",
       "      <td>69.0</td>\n",
       "      <td>0</td>\n",
       "      <td>0.0</td>\n",
       "      <td>0.0</td>\n",
       "      <td>0.0</td>\n",
       "      <td>0.0</td>\n",
       "      <td>0.0</td>\n",
       "      <td>0.0</td>\n",
       "      <td>0.0</td>\n",
       "      <td>1.0</td>\n",
       "    </tr>\n",
       "  </tbody>\n",
       "</table>\n",
       "<p>4 rows × 23 columns</p>\n",
       "</div>"
      ],
      "text/plain": [
       "   danceability  energy  key  loudness  mode  speechiness  acousticness  \\\n",
       "0         0.674   0.413    2    -7.816     1       0.0274         0.836   \n",
       "1         0.630   0.530    0    -7.259     1       0.0434         0.400   \n",
       "2         0.456   0.636    1    -6.552     1       0.0432         0.462   \n",
       "3         0.586   0.128    7    -9.297     1       0.0496         0.963   \n",
       "\n",
       "   instrumentalness  liveness  valence  ...  track_popularity  track_explicit  \\\n",
       "0          0.000019    0.0980    0.503  ...              68.0               0   \n",
       "1          0.000000    0.1770    0.417  ...              79.0               0   \n",
       "2          0.000189    0.2520    0.492  ...              33.0               0   \n",
       "3          0.000000    0.0858    0.371  ...              69.0               0   \n",
       "\n",
       "   mood_Anxious  mood_Calm  mood_Contentment  mood_Depression  mood_Energetic  \\\n",
       "0           1.0        0.0               0.0              0.0             0.0   \n",
       "1           1.0        0.0               0.0              0.0             0.0   \n",
       "2           0.0        0.0               0.0              0.0             0.0   \n",
       "3           0.0        0.0               0.0              0.0             0.0   \n",
       "\n",
       "   mood_Exuberance  mood_Happy  mood_Sad  \n",
       "0              0.0         0.0       0.0  \n",
       "1              0.0         0.0       0.0  \n",
       "2              0.0         0.0       1.0  \n",
       "3              0.0         0.0       1.0  \n",
       "\n",
       "[4 rows x 23 columns]"
      ]
     },
     "execution_count": 7,
     "metadata": {},
     "output_type": "execute_result"
    }
   ],
   "source": [
    "df_songs_to_encode = df_songs_to_encode.drop(columns=['mood'])\n",
    "df_songs_to_encode.head(4)"
   ]
  },
  {
   "cell_type": "code",
   "execution_count": 8,
   "id": "39cf47b1",
   "metadata": {},
   "outputs": [
    {
     "data": {
      "text/plain": [
       "array(['Anxious', 'Sad', 'Calm', 'Energetic', 'Exuberance', 'Depression',\n",
       "       'Happy', 'Contentment'], dtype=object)"
      ]
     },
     "execution_count": 8,
     "metadata": {},
     "output_type": "execute_result"
    }
   ],
   "source": [
    "df_songs_clean['mood'].unique()"
   ]
  },
  {
   "cell_type": "markdown",
   "id": "663ccabb",
   "metadata": {},
   "source": [
    "### Standardizing the data"
   ]
  },
  {
   "cell_type": "code",
   "execution_count": 9,
   "id": "fd844f49",
   "metadata": {
    "scrolled": false
   },
   "outputs": [],
   "source": [
    "scaler = MinMaxScaler()\n",
    "scaler.fit(df_songs_to_encode)\n",
    "songs_scaled = scaler.transform(df_songs_to_encode)"
   ]
  },
  {
   "cell_type": "code",
   "execution_count": 10,
   "id": "b6b703b4",
   "metadata": {},
   "outputs": [
    {
     "data": {
      "text/plain": [
       "(268230, 23)"
      ]
     },
     "execution_count": 10,
     "metadata": {},
     "output_type": "execute_result"
    }
   ],
   "source": [
    "songs_scaled.shape"
   ]
  },
  {
   "cell_type": "code",
   "execution_count": 11,
   "id": "55760edc",
   "metadata": {},
   "outputs": [
    {
     "data": {
      "text/html": [
       "<div>\n",
       "<style scoped>\n",
       "    .dataframe tbody tr th:only-of-type {\n",
       "        vertical-align: middle;\n",
       "    }\n",
       "\n",
       "    .dataframe tbody tr th {\n",
       "        vertical-align: top;\n",
       "    }\n",
       "\n",
       "    .dataframe thead th {\n",
       "        text-align: right;\n",
       "    }\n",
       "</style>\n",
       "<table border=\"1\" class=\"dataframe\">\n",
       "  <thead>\n",
       "    <tr style=\"text-align: right;\">\n",
       "      <th></th>\n",
       "      <th>0</th>\n",
       "      <th>1</th>\n",
       "      <th>2</th>\n",
       "      <th>3</th>\n",
       "      <th>4</th>\n",
       "      <th>5</th>\n",
       "      <th>6</th>\n",
       "      <th>7</th>\n",
       "      <th>8</th>\n",
       "      <th>9</th>\n",
       "      <th>...</th>\n",
       "      <th>13</th>\n",
       "      <th>14</th>\n",
       "      <th>15</th>\n",
       "      <th>16</th>\n",
       "      <th>17</th>\n",
       "      <th>18</th>\n",
       "      <th>19</th>\n",
       "      <th>20</th>\n",
       "      <th>21</th>\n",
       "      <th>22</th>\n",
       "    </tr>\n",
       "  </thead>\n",
       "  <tbody>\n",
       "    <tr>\n",
       "      <th>0</th>\n",
       "      <td>0.680808</td>\n",
       "      <td>0.413</td>\n",
       "      <td>0.181818</td>\n",
       "      <td>0.807327</td>\n",
       "      <td>1.0</td>\n",
       "      <td>0.028277</td>\n",
       "      <td>0.839357</td>\n",
       "      <td>0.000019</td>\n",
       "      <td>0.0980</td>\n",
       "      <td>0.503</td>\n",
       "      <td>...</td>\n",
       "      <td>0.739130</td>\n",
       "      <td>0.0</td>\n",
       "      <td>1.0</td>\n",
       "      <td>0.0</td>\n",
       "      <td>0.0</td>\n",
       "      <td>0.0</td>\n",
       "      <td>0.0</td>\n",
       "      <td>0.0</td>\n",
       "      <td>0.0</td>\n",
       "      <td>0.0</td>\n",
       "    </tr>\n",
       "    <tr>\n",
       "      <th>1</th>\n",
       "      <td>0.636364</td>\n",
       "      <td>0.530</td>\n",
       "      <td>0.000000</td>\n",
       "      <td>0.815944</td>\n",
       "      <td>1.0</td>\n",
       "      <td>0.044788</td>\n",
       "      <td>0.401606</td>\n",
       "      <td>0.000000</td>\n",
       "      <td>0.1770</td>\n",
       "      <td>0.417</td>\n",
       "      <td>...</td>\n",
       "      <td>0.858696</td>\n",
       "      <td>0.0</td>\n",
       "      <td>1.0</td>\n",
       "      <td>0.0</td>\n",
       "      <td>0.0</td>\n",
       "      <td>0.0</td>\n",
       "      <td>0.0</td>\n",
       "      <td>0.0</td>\n",
       "      <td>0.0</td>\n",
       "      <td>0.0</td>\n",
       "    </tr>\n",
       "    <tr>\n",
       "      <th>2</th>\n",
       "      <td>0.460606</td>\n",
       "      <td>0.636</td>\n",
       "      <td>0.090909</td>\n",
       "      <td>0.826882</td>\n",
       "      <td>1.0</td>\n",
       "      <td>0.044582</td>\n",
       "      <td>0.463855</td>\n",
       "      <td>0.000189</td>\n",
       "      <td>0.2520</td>\n",
       "      <td>0.492</td>\n",
       "      <td>...</td>\n",
       "      <td>0.358696</td>\n",
       "      <td>0.0</td>\n",
       "      <td>0.0</td>\n",
       "      <td>0.0</td>\n",
       "      <td>0.0</td>\n",
       "      <td>0.0</td>\n",
       "      <td>0.0</td>\n",
       "      <td>0.0</td>\n",
       "      <td>0.0</td>\n",
       "      <td>1.0</td>\n",
       "    </tr>\n",
       "    <tr>\n",
       "      <th>3</th>\n",
       "      <td>0.591919</td>\n",
       "      <td>0.128</td>\n",
       "      <td>0.636364</td>\n",
       "      <td>0.784415</td>\n",
       "      <td>1.0</td>\n",
       "      <td>0.051187</td>\n",
       "      <td>0.966867</td>\n",
       "      <td>0.000000</td>\n",
       "      <td>0.0858</td>\n",
       "      <td>0.371</td>\n",
       "      <td>...</td>\n",
       "      <td>0.750000</td>\n",
       "      <td>0.0</td>\n",
       "      <td>0.0</td>\n",
       "      <td>0.0</td>\n",
       "      <td>0.0</td>\n",
       "      <td>0.0</td>\n",
       "      <td>0.0</td>\n",
       "      <td>0.0</td>\n",
       "      <td>0.0</td>\n",
       "      <td>1.0</td>\n",
       "    </tr>\n",
       "  </tbody>\n",
       "</table>\n",
       "<p>4 rows × 23 columns</p>\n",
       "</div>"
      ],
      "text/plain": [
       "         0      1         2         3    4         5         6         7   \\\n",
       "0  0.680808  0.413  0.181818  0.807327  1.0  0.028277  0.839357  0.000019   \n",
       "1  0.636364  0.530  0.000000  0.815944  1.0  0.044788  0.401606  0.000000   \n",
       "2  0.460606  0.636  0.090909  0.826882  1.0  0.044582  0.463855  0.000189   \n",
       "3  0.591919  0.128  0.636364  0.784415  1.0  0.051187  0.966867  0.000000   \n",
       "\n",
       "       8      9   ...        13   14   15   16   17   18   19   20   21   22  \n",
       "0  0.0980  0.503  ...  0.739130  0.0  1.0  0.0  0.0  0.0  0.0  0.0  0.0  0.0  \n",
       "1  0.1770  0.417  ...  0.858696  0.0  1.0  0.0  0.0  0.0  0.0  0.0  0.0  0.0  \n",
       "2  0.2520  0.492  ...  0.358696  0.0  0.0  0.0  0.0  0.0  0.0  0.0  0.0  1.0  \n",
       "3  0.0858  0.371  ...  0.750000  0.0  0.0  0.0  0.0  0.0  0.0  0.0  0.0  1.0  \n",
       "\n",
       "[4 rows x 23 columns]"
      ]
     },
     "execution_count": 11,
     "metadata": {},
     "output_type": "execute_result"
    }
   ],
   "source": [
    "df_songs_scaled = pd.DataFrame(songs_scaled)\n",
    "df_songs_scaled.head(4)"
   ]
  },
  {
   "cell_type": "code",
   "execution_count": null,
   "id": "ac92c9f6",
   "metadata": {},
   "outputs": [],
   "source": []
  },
  {
   "cell_type": "code",
   "execution_count": 12,
   "id": "49433641",
   "metadata": {},
   "outputs": [],
   "source": [
    "train, val_test = train_test_split(songs_scaled, test_size=0.2, shuffle=True, random_state=12)\n",
    "val, test = train_test_split(val_test, test_size=0.5, shuffle=True, random_state=12)"
   ]
  },
  {
   "attachments": {
    "image-2.png": {
     "image/png": "[encoded data removed]"
    }
   },
   "cell_type": "markdown",
   "id": "4dd3c0f2",
   "metadata": {},
   "source": [
    "## Autoencoder design and training\n",
    "\n",
    "\n",
    "![image-2.png](attachment:image-2.png)\n",
    "A well-trained autoencoder is capable to provide a good latent representation. This representation is quite different from the original data but it has all the information contained in the input layer.\n",
    "\n",
    "https://datascience.stackexchange.com/questions/33338/autoencoder-for-features-selection"
   ]
  },
  {
   "cell_type": "code",
   "execution_count": null,
   "id": "0171f48b",
   "metadata": {},
   "outputs": [],
   "source": []
  },
  {
   "cell_type": "code",
   "execution_count": 13,
   "id": "10e31970",
   "metadata": {},
   "outputs": [
    {
     "name": "stderr",
     "output_type": "stream",
     "text": [
      "2023-05-03 19:12:40.408331: W tensorflow/stream_executor/platform/default/dso_loader.cc:64] Could not load dynamic library 'libcuda.so.1'; dlerror: libcuda.so.1: cannot open shared object file: No such file or directory\n",
      "2023-05-03 19:12:40.408384: W tensorflow/stream_executor/cuda/cuda_driver.cc:269] failed call to cuInit: UNKNOWN ERROR (303)\n",
      "2023-05-03 19:12:40.408410: I tensorflow/stream_executor/cuda/cuda_diagnostics.cc:156] kernel driver does not appear to be running on this host (JptHub01): /proc/driver/nvidia/version does not exist\n",
      "2023-05-03 19:12:40.408646: I tensorflow/core/platform/cpu_feature_guard.cc:142] This TensorFlow binary is optimized with oneAPI Deep Neural Network Library (oneDNN) to use the following CPU instructions in performance-critical operations:  AVX2 FMA\n",
      "To enable them in other operations, rebuild TensorFlow with the appropriate compiler flags.\n"
     ]
    }
   ],
   "source": [
    "input_song = keras.layers.Input(shape=(23,))\n",
    "\n",
    "# Encoder\n",
    "x = Dense(128, activation='relu')(input_song)\n",
    "x = BatchNormalization()(x)\n",
    "x = LeakyReLU()(x)\n",
    "x = Dropout(0.2)(x)\n",
    "\n",
    "x = Dense(64, activation='relu')(x)\n",
    "x = BatchNormalization()(x)\n",
    "x = LeakyReLU()(x)\n",
    "x = Dropout(0.2)(x)\n",
    "\n",
    "x = Dense(32, activation='relu')(x)\n",
    "x = BatchNormalization()(x)\n",
    "x = LeakyReLU()(x)\n",
    "x = Dropout(0.2)(x)\n",
    "\n",
    "encoded = Dense(16, activation='relu')(x)\n",
    "\n",
    "# Decoder\n",
    "x = Dense(32, activation='relu')(encoded)\n",
    "x = BatchNormalization()(x)\n",
    "x = LeakyReLU()(x)\n",
    "x = Dropout(0.2)(x)\n",
    "\n",
    "x = Dense(64, activation='relu')(x)\n",
    "x = BatchNormalization()(x)\n",
    "x = LeakyReLU()(x)\n",
    "x = Dropout(0.2)(x)\n",
    "\n",
    "x = Dense(128, activation='relu')(x)\n",
    "x = BatchNormalization()(x)\n",
    "x = LeakyReLU()(x)\n",
    "x = Dropout(0.2)(x)\n",
    "\n",
    "decoded = Dense(23, activation='sigmoid')(x)\n",
    "\n",
    "autoencoder_ = Model(inputs=input_song, outputs=decoded)"
   ]
  },
  {
   "cell_type": "code",
   "execution_count": 14,
   "id": "87ebb9ea",
   "metadata": {},
   "outputs": [],
   "source": [
    "# Compile model\n",
    "autoencoder_.compile(optimizer=Adam(learning_rate=0.001),\n",
    "              loss='mean_squared_error',\n",
    "              metrics=['accuracy'])\n",
    "\n",
    "\n",
    "# EarlyStopping,ReduceLROnPlateau, and ModelCheckpoint\n",
    "early_stop = EarlyStopping(monitor='val_loss', patience=10, mode='min')\n",
    "# reduce_lr = ReduceLROnPlateau(monitor='val_loss', factor=0.2, patience=3, min_lr=0.00001)\n",
    "\n",
    "model_checkpoint_autoencoder = ModelCheckpoint('models/best_weights_autoencoder.h5',\n",
    "                                       monitor='val_loss',\n",
    "                                       save_best_only=True,\n",
    "                                       mode='min')"
   ]
  },
  {
   "cell_type": "code",
   "execution_count": 15,
   "id": "5bcdba3e",
   "metadata": {
    "collapsed": true
   },
   "outputs": [
    {
     "name": "stderr",
     "output_type": "stream",
     "text": [
      "\u001b[1;38;5;39mCOMET INFO:\u001b[0m Ignoring automatic log_parameter('verbose') because 'keras:verbose' is in COMET_LOGGING_PARAMETERS_IGNORE\n",
      "2023-05-03 19:12:40.754080: I tensorflow/compiler/mlir/mlir_graph_optimization_pass.cc:185] None of the MLIR Optimization Passes are enabled (registered 2)\n"
     ]
    },
    {
     "name": "stdout",
     "output_type": "stream",
     "text": [
      "Epoch 1/100\n"
     ]
    },
    {
     "name": "stderr",
     "output_type": "stream",
     "text": [
      "\u001b[1;38;5;39mCOMET INFO:\u001b[0m ignoring tensorflow summary log of metrics because of keras; set `comet_ml.loggers.tensorboard_logger.LOG_METRICS = True` to override\n",
      "[codecarbon INFO @ 19:12:41] Energy consumed for RAM : 0.000049 kWh. RAM Power : 11.759872913360596 W\n",
      "[codecarbon INFO @ 19:12:41] Energy consumed for all CPUs : 0.000177 kWh. All CPUs Power : 42.5 W\n",
      "[codecarbon INFO @ 19:12:41] 0.000226 kWh of electricity used since the begining.\n"
     ]
    },
    {
     "name": "stdout",
     "output_type": "stream",
     "text": [
      "4132/6706 [=================>............] - ETA: 8s - loss: 0.0248 - accuracy: 0.5765"
     ]
    },
    {
     "name": "stderr",
     "output_type": "stream",
     "text": [
      "[codecarbon INFO @ 19:12:56] Energy consumed for RAM : 0.000098 kWh. RAM Power : 11.759872913360596 W\n",
      "[codecarbon INFO @ 19:12:56] Energy consumed for all CPUs : 0.000354 kWh. All CPUs Power : 42.5 W\n",
      "[codecarbon INFO @ 19:12:56] 0.000452 kWh of electricity used since the begining.\n"
     ]
    },
    {
     "name": "stdout",
     "output_type": "stream",
     "text": [
      "6706/6706 [==============================] - 26s 4ms/step - loss: 0.0210 - accuracy: 0.5766 - val_loss: 0.0092 - val_accuracy: 0.4674\n",
      "Epoch 2/100\n",
      "1305/6706 [====>.........................] - ETA: 18s - loss: 0.0134 - accuracy: 0.5694"
     ]
    },
    {
     "name": "stderr",
     "output_type": "stream",
     "text": [
      "[codecarbon INFO @ 19:13:11] Energy consumed for RAM : 0.000147 kWh. RAM Power : 11.759872913360596 W\n",
      "[codecarbon INFO @ 19:13:11] Energy consumed for all CPUs : 0.000531 kWh. All CPUs Power : 42.5 W\n"
     ]
    },
    {
     "name": "stdout",
     "output_type": "stream",
     "text": [
      "\b\b\b\b\b\b\b\b\b\b\b\b\b\b\b\b\b\b\b\b\b\b\b\b\b\b\b\b\b\b\b\b\b\b\b\b\b\b\b\b\b\b\b\b\b\b\b\b\b\b\b\b\b\b\b\b\b\b\b\b\b\b\b\b\b\b\b\b\b\b\b\b\b\b\b\b\b\b\b\b\b\b\b\b\b\b\b\r",
      "1321/6706 [====>.........................] - ETA: 18s - loss: 0.0134 - accuracy: 0.5694"
     ]
    },
    {
     "name": "stderr",
     "output_type": "stream",
     "text": [
      "[codecarbon INFO @ 19:13:11] 0.000678 kWh of electricity used since the begining.\n"
     ]
    },
    {
     "name": "stdout",
     "output_type": "stream",
     "text": [
      "5811/6706 [========================>.....] - ETA: 2s - loss: 0.0126 - accuracy: 0.5902"
     ]
    },
    {
     "name": "stderr",
     "output_type": "stream",
     "text": [
      "[codecarbon INFO @ 19:13:26] Energy consumed for RAM : 0.000196 kWh. RAM Power : 11.759872913360596 W\n",
      "[codecarbon INFO @ 19:13:26] Energy consumed for all CPUs : 0.000708 kWh. All CPUs Power : 42.5 W\n",
      "[codecarbon INFO @ 19:13:26] 0.000904 kWh of electricity used since the begining.\n"
     ]
    },
    {
     "name": "stdout",
     "output_type": "stream",
     "text": [
      "6706/6706 [==============================] - 23s 3ms/step - loss: 0.0124 - accuracy: 0.5950 - val_loss: 0.0079 - val_accuracy: 0.6704\n",
      "Epoch 3/100\n",
      "3293/6706 [=============>................] - ETA: 11s - loss: 0.0113 - accuracy: 0.6218"
     ]
    },
    {
     "name": "stderr",
     "output_type": "stream",
     "text": [
      "[codecarbon INFO @ 19:13:41] Energy consumed for RAM : 0.000245 kWh. RAM Power : 11.759872913360596 W\n",
      "[codecarbon INFO @ 19:13:41] Energy consumed for all CPUs : 0.000885 kWh. All CPUs Power : 42.5 W\n",
      "[codecarbon INFO @ 19:13:41] 0.001130 kWh of electricity used since the begining.\n"
     ]
    },
    {
     "name": "stdout",
     "output_type": "stream",
     "text": [
      "6706/6706 [==============================] - 23s 3ms/step - loss: 0.0110 - accuracy: 0.6386 - val_loss: 0.0067 - val_accuracy: 0.7580\n",
      "Epoch 4/100\n",
      " 747/6706 [==>...........................] - ETA: 19s - loss: 0.0102 - accuracy: 0.6583"
     ]
    },
    {
     "name": "stderr",
     "output_type": "stream",
     "text": [
      "[codecarbon INFO @ 19:13:56] Energy consumed for RAM : 0.000294 kWh. RAM Power : 11.759872913360596 W\n",
      "[codecarbon INFO @ 19:13:56] Energy consumed for all CPUs : 0.001062 kWh. All CPUs Power : 42.5 W\n",
      "[codecarbon INFO @ 19:13:56] 0.001356 kWh of electricity used since the begining.\n"
     ]
    },
    {
     "name": "stdout",
     "output_type": "stream",
     "text": [
      "5206/6706 [======================>.......] - ETA: 5s - loss: 0.0098 - accuracy: 0.6646"
     ]
    },
    {
     "name": "stderr",
     "output_type": "stream",
     "text": [
      "[codecarbon INFO @ 19:14:11] Energy consumed for RAM : 0.000343 kWh. RAM Power : 11.759872913360596 W\n",
      "[codecarbon INFO @ 19:14:11] Energy consumed for all CPUs : 0.001239 kWh. All CPUs Power : 42.5 W\n"
     ]
    },
    {
     "name": "stdout",
     "output_type": "stream",
     "text": [
      "\b\b\b\b\b\b\b\b\b\b\b\b\b\b\b\b\b\b\b\b\b\b\b\b\b\b\b\b\b\b\b\b\b\b\b\b\b\b\b\b\b\b\b\b\b\b\b\b\b\b\b\b\b\b\b\b\b\b\b\b\b\b\b\b\b\b\b\b\b\b\b\b\b\b\b\b\b\b\b\b\b\b\b\b\b\b\r",
      "5222/6706 [======================>.......] - ETA: 4s - loss: 0.0098 - accuracy: 0.6647"
     ]
    },
    {
     "name": "stderr",
     "output_type": "stream",
     "text": [
      "[codecarbon INFO @ 19:14:11] 0.001582 kWh of electricity used since the begining.\n"
     ]
    },
    {
     "name": "stdout",
     "output_type": "stream",
     "text": [
      "6706/6706 [==============================] - 23s 3ms/step - loss: 0.0097 - accuracy: 0.6694 - val_loss: 0.0056 - val_accuracy: 0.6923\n",
      "Epoch 5/100\n",
      "2632/6706 [==========>...................] - ETA: 13s - loss: 0.0090 - accuracy: 0.6996"
     ]
    },
    {
     "name": "stderr",
     "output_type": "stream",
     "text": [
      "[codecarbon INFO @ 19:14:26] Energy consumed for RAM : 0.000392 kWh. RAM Power : 11.759872913360596 W\n",
      "[codecarbon INFO @ 19:14:26] Energy consumed for all CPUs : 0.001416 kWh. All CPUs Power : 42.5 W\n",
      "[codecarbon INFO @ 19:14:26] 0.001808 kWh of electricity used since the begining.\n"
     ]
    },
    {
     "name": "stdout",
     "output_type": "stream",
     "text": [
      "6706/6706 [==============================] - 23s 4ms/step - loss: 0.0089 - accuracy: 0.6937 - val_loss: 0.0051 - val_accuracy: 0.6575\n",
      "Epoch 6/100\n",
      " 118/6706 [..............................] - ETA: 23s - loss: 0.0087 - accuracy: 0.6941"
     ]
    },
    {
     "name": "stderr",
     "output_type": "stream",
     "text": [
      "[codecarbon INFO @ 19:14:41] Energy consumed for RAM : 0.000441 kWh. RAM Power : 11.759872913360596 W\n",
      "[codecarbon INFO @ 19:14:41] Energy consumed for all CPUs : 0.001593 kWh. All CPUs Power : 42.5 W\n",
      "[codecarbon INFO @ 19:14:41] 0.002034 kWh of electricity used since the begining.\n"
     ]
    },
    {
     "name": "stdout",
     "output_type": "stream",
     "text": [
      "4592/6706 [===================>..........] - ETA: 7s - loss: 0.0085 - accuracy: 0.7025"
     ]
    },
    {
     "name": "stderr",
     "output_type": "stream",
     "text": [
      "[codecarbon INFO @ 19:14:56] Energy consumed for RAM : 0.000490 kWh. RAM Power : 11.759872913360596 W\n",
      "[codecarbon INFO @ 19:14:56] Energy consumed for all CPUs : 0.001771 kWh. All CPUs Power : 42.5 W\n",
      "[codecarbon INFO @ 19:14:56] 0.002260 kWh of electricity used since the begining.\n"
     ]
    },
    {
     "name": "stdout",
     "output_type": "stream",
     "text": [
      "6706/6706 [==============================] - 24s 4ms/step - loss: 0.0084 - accuracy: 0.6993 - val_loss: 0.0048 - val_accuracy: 0.6758\n",
      "Epoch 7/100\n",
      "2011/6706 [=======>......................] - ETA: 15s - loss: 0.0081 - accuracy: 0.7114"
     ]
    },
    {
     "name": "stderr",
     "output_type": "stream",
     "text": [
      "[codecarbon INFO @ 19:15:11] Energy consumed for RAM : 0.000539 kWh. RAM Power : 11.759872913360596 W\n",
      "[codecarbon INFO @ 19:15:11] Energy consumed for all CPUs : 0.001948 kWh. All CPUs Power : 42.5 W\n",
      "[codecarbon INFO @ 19:15:11] 0.002486 kWh of electricity used since the begining.\n"
     ]
    },
    {
     "name": "stdout",
     "output_type": "stream",
     "text": [
      "6533/6706 [============================>.] - ETA: 0s - loss: 0.0078 - accuracy: 0.7125"
     ]
    },
    {
     "name": "stderr",
     "output_type": "stream",
     "text": [
      "[codecarbon INFO @ 19:15:26] Energy consumed for RAM : 0.000588 kWh. RAM Power : 11.759872913360596 W\n",
      "[codecarbon INFO @ 19:15:26] Energy consumed for all CPUs : 0.002125 kWh. All CPUs Power : 42.5 W\n",
      "[codecarbon INFO @ 19:15:26] 0.002712 kWh of electricity used since the begining.\n"
     ]
    },
    {
     "name": "stdout",
     "output_type": "stream",
     "text": [
      "6706/6706 [==============================] - 24s 4ms/step - loss: 0.0078 - accuracy: 0.7124 - val_loss: 0.0042 - val_accuracy: 0.6675\n",
      "Epoch 8/100\n",
      "3943/6706 [================>.............] - ETA: 9s - loss: 0.0075 - accuracy: 0.7078"
     ]
    },
    {
     "name": "stderr",
     "output_type": "stream",
     "text": [
      "[codecarbon INFO @ 19:15:41] Energy consumed for RAM : 0.000637 kWh. RAM Power : 11.759872913360596 W\n",
      "[codecarbon INFO @ 19:15:41] Energy consumed for all CPUs : 0.002302 kWh. All CPUs Power : 42.5 W\n",
      "[codecarbon INFO @ 19:15:41] 0.002938 kWh of electricity used since the begining.\n"
     ]
    },
    {
     "name": "stdout",
     "output_type": "stream",
     "text": [
      "6706/6706 [==============================] - 23s 3ms/step - loss: 0.0074 - accuracy: 0.7065 - val_loss: 0.0039 - val_accuracy: 0.6883\n",
      "Epoch 9/100\n",
      "1393/6706 [=====>........................] - ETA: 17s - loss: 0.0072 - accuracy: 0.7025"
     ]
    },
    {
     "name": "stderr",
     "output_type": "stream",
     "text": [
      "[codecarbon INFO @ 19:15:56] Energy consumed for RAM : 0.000686 kWh. RAM Power : 11.759872913360596 W\n",
      "[codecarbon INFO @ 19:15:56] Energy consumed for all CPUs : 0.002479 kWh. All CPUs Power : 42.5 W\n",
      "[codecarbon INFO @ 19:15:56] 0.003165 kWh of electricity used since the begining.\n"
     ]
    },
    {
     "name": "stdout",
     "output_type": "stream",
     "text": [
      "5795/6706 [========================>.....] - ETA: 3s - loss: 0.0071 - accuracy: 0.6993"
     ]
    },
    {
     "name": "stderr",
     "output_type": "stream",
     "text": [
      "[codecarbon INFO @ 19:16:11] Energy consumed for RAM : 0.000735 kWh. RAM Power : 11.759872913360596 W\n",
      "[codecarbon INFO @ 19:16:11] Energy consumed for all CPUs : 0.002656 kWh. All CPUs Power : 42.5 W\n",
      "[codecarbon INFO @ 19:16:11] 0.003391 kWh of electricity used since the begining.\n"
     ]
    },
    {
     "name": "stdout",
     "output_type": "stream",
     "text": [
      "6706/6706 [==============================] - 24s 4ms/step - loss: 0.0071 - accuracy: 0.6970 - val_loss: 0.0036 - val_accuracy: 0.7772\n",
      "Epoch 10/100\n",
      "3087/6706 [============>.................] - ETA: 12s - loss: 0.0070 - accuracy: 0.7105"
     ]
    },
    {
     "name": "stderr",
     "output_type": "stream",
     "text": [
      "[codecarbon INFO @ 19:16:26] Energy consumed for RAM : 0.000784 kWh. RAM Power : 11.759872913360596 W\n",
      "[codecarbon INFO @ 19:16:26] Energy consumed for all CPUs : 0.002833 kWh. All CPUs Power : 42.5 W\n",
      "[codecarbon INFO @ 19:16:26] 0.003617 kWh of electricity used since the begining.\n"
     ]
    },
    {
     "name": "stdout",
     "output_type": "stream",
     "text": [
      "6706/6706 [==============================] - 24s 4ms/step - loss: 0.0069 - accuracy: 0.7183 - val_loss: 0.0035 - val_accuracy: 0.8077\n",
      "Epoch 11/100\n",
      " 472/6706 [=>............................] - ETA: 21s - loss: 0.0067 - accuracy: 0.7205"
     ]
    },
    {
     "name": "stderr",
     "output_type": "stream",
     "text": [
      "[codecarbon INFO @ 19:16:41] Energy consumed for RAM : 0.000833 kWh. RAM Power : 11.759872913360596 W\n",
      "[codecarbon INFO @ 19:16:41] Energy consumed for all CPUs : 0.003010 kWh. All CPUs Power : 42.5 W\n",
      "[codecarbon INFO @ 19:16:41] 0.003843 kWh of electricity used since the begining.\n"
     ]
    },
    {
     "name": "stdout",
     "output_type": "stream",
     "text": [
      "4876/6706 [====================>.........] - ETA: 6s - loss: 0.0068 - accuracy: 0.7227"
     ]
    },
    {
     "name": "stderr",
     "output_type": "stream",
     "text": [
      "[codecarbon INFO @ 19:16:56] Energy consumed for RAM : 0.000882 kWh. RAM Power : 11.759872913360596 W\n",
      "[codecarbon INFO @ 19:16:56] Energy consumed for all CPUs : 0.003187 kWh. All CPUs Power : 42.5 W\n",
      "[codecarbon INFO @ 19:16:56] 0.004069 kWh of electricity used since the begining.\n"
     ]
    },
    {
     "name": "stdout",
     "output_type": "stream",
     "text": [
      "6706/6706 [==============================] - 24s 4ms/step - loss: 0.0068 - accuracy: 0.7198 - val_loss: 0.0034 - val_accuracy: 0.7888\n",
      "Epoch 12/100\n",
      "2223/6706 [========>.....................] - ETA: 15s - loss: 0.0067 - accuracy: 0.7326"
     ]
    },
    {
     "name": "stderr",
     "output_type": "stream",
     "text": [
      "[codecarbon INFO @ 19:17:11] Energy consumed for RAM : 0.000931 kWh. RAM Power : 11.759872913360596 W\n",
      "[codecarbon INFO @ 19:17:11] Energy consumed for all CPUs : 0.003364 kWh. All CPUs Power : 42.5 W\n",
      "[codecarbon INFO @ 19:17:11] 0.004295 kWh of electricity used since the begining.\n"
     ]
    },
    {
     "name": "stdout",
     "output_type": "stream",
     "text": [
      "6649/6706 [============================>.] - ETA: 0s - loss: 0.0067 - accuracy: 0.7230"
     ]
    },
    {
     "name": "stderr",
     "output_type": "stream",
     "text": [
      "[codecarbon INFO @ 19:17:26] Energy consumed for RAM : 0.000980 kWh. RAM Power : 11.759872913360596 W\n",
      "[codecarbon INFO @ 19:17:26] Energy consumed for all CPUs : 0.003541 kWh. All CPUs Power : 42.5 W\n",
      "[codecarbon INFO @ 19:17:26] 0.004521 kWh of electricity used since the begining.\n"
     ]
    },
    {
     "name": "stdout",
     "output_type": "stream",
     "text": [
      "6706/6706 [==============================] - 24s 4ms/step - loss: 0.0067 - accuracy: 0.7231 - val_loss: 0.0033 - val_accuracy: 0.7897\n",
      "Epoch 13/100\n",
      "4108/6706 [=================>............] - ETA: 8s - loss: 0.0066 - accuracy: 0.7261"
     ]
    },
    {
     "name": "stderr",
     "output_type": "stream",
     "text": [
      "[codecarbon INFO @ 19:17:41] Energy consumed for RAM : 0.001029 kWh. RAM Power : 11.759872913360596 W\n",
      "[codecarbon INFO @ 19:17:41] Energy consumed for all CPUs : 0.003718 kWh. All CPUs Power : 42.5 W\n",
      "[codecarbon INFO @ 19:17:41] 0.004747 kWh of electricity used since the begining.\n"
     ]
    },
    {
     "name": "stdout",
     "output_type": "stream",
     "text": [
      "6706/6706 [==============================] - 24s 4ms/step - loss: 0.0066 - accuracy: 0.7267 - val_loss: 0.0033 - val_accuracy: 0.8375\n",
      "Epoch 14/100\n",
      "1472/6706 [=====>........................] - ETA: 17s - loss: 0.0065 - accuracy: 0.7352"
     ]
    },
    {
     "name": "stderr",
     "output_type": "stream",
     "text": [
      "[codecarbon INFO @ 19:17:56] Energy consumed for RAM : 0.001078 kWh. RAM Power : 11.759872913360596 W\n",
      "[codecarbon INFO @ 19:17:56] Energy consumed for all CPUs : 0.003895 kWh. All CPUs Power : 42.5 W\n",
      "[codecarbon INFO @ 19:17:56] 0.004973 kWh of electricity used since the begining.\n"
     ]
    },
    {
     "name": "stdout",
     "output_type": "stream",
     "text": [
      "5873/6706 [=========================>....] - ETA: 2s - loss: 0.0065 - accuracy: 0.7312"
     ]
    },
    {
     "name": "stderr",
     "output_type": "stream",
     "text": [
      "[codecarbon INFO @ 19:18:11] Energy consumed for RAM : 0.001127 kWh. RAM Power : 11.759872913360596 W\n",
      "[codecarbon INFO @ 19:18:11] Energy consumed for all CPUs : 0.004072 kWh. All CPUs Power : 42.5 W\n",
      "[codecarbon INFO @ 19:18:11] 0.005199 kWh of electricity used since the begining.\n"
     ]
    },
    {
     "name": "stdout",
     "output_type": "stream",
     "text": [
      "6706/6706 [==============================] - 24s 4ms/step - loss: 0.0065 - accuracy: 0.7320 - val_loss: 0.0031 - val_accuracy: 0.8622\n",
      "Epoch 15/100\n",
      "3283/6706 [=============>................] - ETA: 11s - loss: 0.0064 - accuracy: 0.7250"
     ]
    },
    {
     "name": "stderr",
     "output_type": "stream",
     "text": [
      "[codecarbon INFO @ 19:18:26] Energy consumed for RAM : 0.001176 kWh. RAM Power : 11.759872913360596 W\n",
      "[codecarbon INFO @ 19:18:26] Energy consumed for all CPUs : 0.004249 kWh. All CPUs Power : 42.5 W\n",
      "[codecarbon INFO @ 19:18:26] 0.005425 kWh of electricity used since the begining.\n"
     ]
    },
    {
     "name": "stdout",
     "output_type": "stream",
     "text": [
      "6706/6706 [==============================] - 24s 4ms/step - loss: 0.0064 - accuracy: 0.7306 - val_loss: 0.0031 - val_accuracy: 0.7714\n",
      "Epoch 16/100\n",
      " 693/6706 [==>...........................] - ETA: 20s - loss: 0.0064 - accuracy: 0.7301"
     ]
    },
    {
     "name": "stderr",
     "output_type": "stream",
     "text": [
      "[codecarbon INFO @ 19:18:41] Energy consumed for RAM : 0.001225 kWh. RAM Power : 11.759872913360596 W\n",
      "[codecarbon INFO @ 19:18:41] Energy consumed for all CPUs : 0.004426 kWh. All CPUs Power : 42.5 W\n",
      "[codecarbon INFO @ 19:18:41] 0.005651 kWh of electricity used since the begining.\n"
     ]
    },
    {
     "name": "stdout",
     "output_type": "stream",
     "text": [
      "5211/6706 [======================>.......] - ETA: 4s - loss: 0.0064 - accuracy: 0.7414"
     ]
    },
    {
     "name": "stderr",
     "output_type": "stream",
     "text": [
      "[codecarbon INFO @ 19:18:56] Energy consumed for RAM : 0.001274 kWh. RAM Power : 11.759872913360596 W\n"
     ]
    },
    {
     "name": "stdout",
     "output_type": "stream",
     "text": [
      "\b\b\b\b\b\b\b\b\b\b\b\b\b\b\b\b\b\b\b\b\b\b\b\b\b\b\b\b\b\b\b\b\b\b\b\b\b\b\b\b\b\b\b\b\b\b\b\b\b\b\b\b\b\b\b\b\b\b\b\b\b\b\b\b\b\b\b\b\b\b\b\b\b\b\b\b\b\b\b\b\b\b\b\b\b\b\r",
      "5227/6706 [======================>.......] - ETA: 4s - loss: 0.0064 - accuracy: 0.7415"
     ]
    },
    {
     "name": "stderr",
     "output_type": "stream",
     "text": [
      "[codecarbon INFO @ 19:18:56] Energy consumed for all CPUs : 0.004604 kWh. All CPUs Power : 42.5 W\n",
      "[codecarbon INFO @ 19:18:56] 0.005877 kWh of electricity used since the begining.\n"
     ]
    },
    {
     "name": "stdout",
     "output_type": "stream",
     "text": [
      "6706/6706 [==============================] - 23s 3ms/step - loss: 0.0064 - accuracy: 0.7432 - val_loss: 0.0031 - val_accuracy: 0.8564\n",
      "Epoch 17/100\n",
      "2701/6706 [===========>..................] - ETA: 13s - loss: 0.0064 - accuracy: 0.7428"
     ]
    },
    {
     "name": "stderr",
     "output_type": "stream",
     "text": [
      "[codecarbon INFO @ 19:19:11] Energy consumed for RAM : 0.001323 kWh. RAM Power : 11.759872913360596 W\n",
      "[codecarbon INFO @ 19:19:11] Energy consumed for all CPUs : 0.004781 kWh. All CPUs Power : 42.5 W\n",
      "[codecarbon INFO @ 19:19:11] 0.006103 kWh of electricity used since the begining.\n"
     ]
    },
    {
     "name": "stdout",
     "output_type": "stream",
     "text": [
      "6706/6706 [==============================] - 24s 4ms/step - loss: 0.0064 - accuracy: 0.7365 - val_loss: 0.0031 - val_accuracy: 0.8290\n",
      "Epoch 18/100\n",
      "  13/6706 [..............................] - ETA: 29s - loss: 0.0063 - accuracy: 0.7308"
     ]
    },
    {
     "name": "stderr",
     "output_type": "stream",
     "text": [
      "[codecarbon INFO @ 19:19:26] Energy consumed for RAM : 0.001372 kWh. RAM Power : 11.759872913360596 W\n",
      "[codecarbon INFO @ 19:19:26] Energy consumed for all CPUs : 0.004958 kWh. All CPUs Power : 42.5 W\n",
      "[codecarbon INFO @ 19:19:26] 0.006329 kWh of electricity used since the begining.\n"
     ]
    },
    {
     "name": "stdout",
     "output_type": "stream",
     "text": [
      "4535/6706 [===================>..........] - ETA: 7s - loss: 0.0063 - accuracy: 0.7483"
     ]
    },
    {
     "name": "stderr",
     "output_type": "stream",
     "text": [
      "[codecarbon INFO @ 19:19:41] Energy consumed for RAM : 0.001421 kWh. RAM Power : 11.759872913360596 W\n",
      "[codecarbon INFO @ 19:19:41] Energy consumed for all CPUs : 0.005135 kWh. All CPUs Power : 42.5 W\n",
      "[codecarbon INFO @ 19:19:41] 0.006555 kWh of electricity used since the begining.\n"
     ]
    },
    {
     "name": "stdout",
     "output_type": "stream",
     "text": [
      "6706/6706 [==============================] - 24s 4ms/step - loss: 0.0063 - accuracy: 0.7471 - val_loss: 0.0031 - val_accuracy: 0.8369\n",
      "Epoch 19/100\n",
      "1896/6706 [=======>......................] - ETA: 16s - loss: 0.0062 - accuracy: 0.7456"
     ]
    },
    {
     "name": "stderr",
     "output_type": "stream",
     "text": [
      "[codecarbon INFO @ 19:19:56] Energy consumed for RAM : 0.001470 kWh. RAM Power : 11.759872913360596 W\n",
      "[codecarbon INFO @ 19:19:56] Energy consumed for all CPUs : 0.005312 kWh. All CPUs Power : 42.5 W\n",
      "[codecarbon INFO @ 19:19:56] 0.006781 kWh of electricity used since the begining.\n"
     ]
    },
    {
     "name": "stdout",
     "output_type": "stream",
     "text": [
      "6386/6706 [===========================>..] - ETA: 1s - loss: 0.0062 - accuracy: 0.7492"
     ]
    },
    {
     "name": "stderr",
     "output_type": "stream",
     "text": [
      "[codecarbon INFO @ 19:20:11] Energy consumed for RAM : 0.001519 kWh. RAM Power : 11.759872913360596 W\n",
      "[codecarbon INFO @ 19:20:11] Energy consumed for all CPUs : 0.005489 kWh. All CPUs Power : 42.5 W\n",
      "[codecarbon INFO @ 19:20:11] 0.007007 kWh of electricity used since the begining.\n"
     ]
    },
    {
     "name": "stdout",
     "output_type": "stream",
     "text": [
      "6706/6706 [==============================] - 23s 4ms/step - loss: 0.0062 - accuracy: 0.7501 - val_loss: 0.0029 - val_accuracy: 0.8662\n",
      "Epoch 20/100\n",
      "3903/6706 [================>.............] - ETA: 9s - loss: 0.0062 - accuracy: 0.7524"
     ]
    },
    {
     "name": "stderr",
     "output_type": "stream",
     "text": [
      "[codecarbon INFO @ 19:20:26] Energy consumed for RAM : 0.001568 kWh. RAM Power : 11.759872913360596 W\n",
      "[codecarbon INFO @ 19:20:26] Energy consumed for all CPUs : 0.005666 kWh. All CPUs Power : 42.5 W\n",
      "[codecarbon INFO @ 19:20:26] 0.007233 kWh of electricity used since the begining.\n"
     ]
    },
    {
     "name": "stdout",
     "output_type": "stream",
     "text": [
      "6706/6706 [==============================] - 23s 3ms/step - loss: 0.0062 - accuracy: 0.7469 - val_loss: 0.0029 - val_accuracy: 0.8407\n",
      "Epoch 21/100\n",
      "1459/6706 [=====>........................] - ETA: 17s - loss: 0.0062 - accuracy: 0.7353"
     ]
    },
    {
     "name": "stderr",
     "output_type": "stream",
     "text": [
      "[codecarbon INFO @ 19:20:41] Energy consumed for RAM : 0.001617 kWh. RAM Power : 11.759872913360596 W\n",
      "[codecarbon INFO @ 19:20:41] Energy consumed for all CPUs : 0.005843 kWh. All CPUs Power : 42.5 W\n",
      "[codecarbon INFO @ 19:20:41] 0.007459 kWh of electricity used since the begining.\n"
     ]
    },
    {
     "name": "stdout",
     "output_type": "stream",
     "text": [
      "5989/6706 [=========================>....] - ETA: 2s - loss: 0.0062 - accuracy: 0.7371"
     ]
    },
    {
     "name": "stderr",
     "output_type": "stream",
     "text": [
      "[codecarbon INFO @ 19:20:56] Energy consumed for RAM : 0.001666 kWh. RAM Power : 11.759872913360596 W\n",
      "[codecarbon INFO @ 19:20:56] Energy consumed for all CPUs : 0.006020 kWh. All CPUs Power : 42.5 W\n",
      "[codecarbon INFO @ 19:20:56] 0.007686 kWh of electricity used since the begining.\n"
     ]
    },
    {
     "name": "stdout",
     "output_type": "stream",
     "text": [
      "6706/6706 [==============================] - 23s 4ms/step - loss: 0.0062 - accuracy: 0.7393 - val_loss: 0.0029 - val_accuracy: 0.8558\n",
      "Epoch 22/100\n",
      "3348/6706 [=============>................] - ETA: 11s - loss: 0.0061 - accuracy: 0.7528"
     ]
    },
    {
     "name": "stderr",
     "output_type": "stream",
     "text": [
      "[codecarbon INFO @ 19:21:11] Energy consumed for RAM : 0.001714 kWh. RAM Power : 11.759872913360596 W\n",
      "[codecarbon INFO @ 19:21:11] Energy consumed for all CPUs : 0.006197 kWh. All CPUs Power : 42.5 W\n",
      "[codecarbon INFO @ 19:21:11] 0.007912 kWh of electricity used since the begining.\n"
     ]
    },
    {
     "name": "stdout",
     "output_type": "stream",
     "text": [
      "6706/6706 [==============================] - 24s 4ms/step - loss: 0.0061 - accuracy: 0.7521 - val_loss: 0.0029 - val_accuracy: 0.8672\n",
      "Epoch 23/100\n",
      " 602/6706 [=>............................] - ETA: 20s - loss: 0.0062 - accuracy: 0.7363"
     ]
    },
    {
     "name": "stderr",
     "output_type": "stream",
     "text": [
      "[codecarbon INFO @ 19:21:26] Energy consumed for RAM : 0.001763 kWh. RAM Power : 11.759872913360596 W\n",
      "[codecarbon INFO @ 19:21:26] Energy consumed for all CPUs : 0.006374 kWh. All CPUs Power : 42.5 W\n",
      "[codecarbon INFO @ 19:21:26] 0.008138 kWh of electricity used since the begining.\n"
     ]
    },
    {
     "name": "stdout",
     "output_type": "stream",
     "text": [
      "5086/6706 [=====================>........] - ETA: 5s - loss: 0.0061 - accuracy: 0.7408"
     ]
    },
    {
     "name": "stderr",
     "output_type": "stream",
     "text": [
      "[codecarbon INFO @ 19:21:41] Energy consumed for RAM : 0.001812 kWh. RAM Power : 11.759872913360596 W\n",
      "[codecarbon INFO @ 19:21:41] Energy consumed for all CPUs : 0.006551 kWh. All CPUs Power : 42.5 W\n",
      "[codecarbon INFO @ 19:21:41] 0.008364 kWh of electricity used since the begining.\n"
     ]
    },
    {
     "name": "stdout",
     "output_type": "stream",
     "text": [
      "6706/6706 [==============================] - 23s 3ms/step - loss: 0.0061 - accuracy: 0.7406 - val_loss: 0.0029 - val_accuracy: 0.8294\n",
      "Epoch 24/100\n",
      "2512/6706 [==========>...................] - ETA: 14s - loss: 0.0061 - accuracy: 0.7388"
     ]
    },
    {
     "name": "stderr",
     "output_type": "stream",
     "text": [
      "[codecarbon INFO @ 19:21:56] Energy consumed for RAM : 0.001861 kWh. RAM Power : 11.759872913360596 W\n",
      "[codecarbon INFO @ 19:21:56] Energy consumed for all CPUs : 0.006728 kWh. All CPUs Power : 42.5 W\n",
      "[codecarbon INFO @ 19:21:56] 0.008590 kWh of electricity used since the begining.\n"
     ]
    },
    {
     "name": "stdout",
     "output_type": "stream",
     "text": [
      "6694/6706 [============================>.] - ETA: 0s - loss: 0.0060 - accuracy: 0.7428"
     ]
    },
    {
     "name": "stderr",
     "output_type": "stream",
     "text": [
      "[codecarbon INFO @ 19:22:11] Energy consumed for RAM : 0.001910 kWh. RAM Power : 11.759872913360596 W\n",
      "[codecarbon INFO @ 19:22:11] Energy consumed for all CPUs : 0.006905 kWh. All CPUs Power : 42.5 W\n",
      "[codecarbon INFO @ 19:22:11] 0.008816 kWh of electricity used since the begining.\n"
     ]
    },
    {
     "name": "stdout",
     "output_type": "stream",
     "text": [
      "6706/6706 [==============================] - 24s 4ms/step - loss: 0.0060 - accuracy: 0.7428 - val_loss: 0.0028 - val_accuracy: 0.8511\n",
      "Epoch 25/100\n",
      "4386/6706 [==================>...........] - ETA: 7s - loss: 0.0060 - accuracy: 0.7513"
     ]
    },
    {
     "name": "stderr",
     "output_type": "stream",
     "text": [
      "[codecarbon INFO @ 19:22:26] Energy consumed for RAM : 0.001959 kWh. RAM Power : 11.759872913360596 W\n",
      "[codecarbon INFO @ 19:22:26] Energy consumed for all CPUs : 0.007082 kWh. All CPUs Power : 42.5 W\n",
      "[codecarbon INFO @ 19:22:26] 0.009042 kWh of electricity used since the begining.\n"
     ]
    },
    {
     "name": "stdout",
     "output_type": "stream",
     "text": [
      "6706/6706 [==============================] - 24s 4ms/step - loss: 0.0060 - accuracy: 0.7521 - val_loss: 0.0028 - val_accuracy: 0.8515\n",
      "Epoch 26/100\n",
      "1793/6706 [=======>......................] - ETA: 16s - loss: 0.0060 - accuracy: 0.7354"
     ]
    },
    {
     "name": "stderr",
     "output_type": "stream",
     "text": [
      "[codecarbon INFO @ 19:22:41] Energy consumed for RAM : 0.002008 kWh. RAM Power : 11.759872913360596 W\n",
      "[codecarbon INFO @ 19:22:41] Energy consumed for all CPUs : 0.007259 kWh. All CPUs Power : 42.5 W\n",
      "[codecarbon INFO @ 19:22:41] 0.009268 kWh of electricity used since the begining.\n"
     ]
    },
    {
     "name": "stdout",
     "output_type": "stream",
     "text": [
      "6260/6706 [===========================>..] - ETA: 1s - loss: 0.0060 - accuracy: 0.7428"
     ]
    },
    {
     "name": "stderr",
     "output_type": "stream",
     "text": [
      "[codecarbon INFO @ 19:22:56] Energy consumed for RAM : 0.002057 kWh. RAM Power : 11.759872913360596 W\n",
      "[codecarbon INFO @ 19:22:56] Energy consumed for all CPUs : 0.007437 kWh. All CPUs Power : 42.5 W\n",
      "[codecarbon INFO @ 19:22:56] 0.009494 kWh of electricity used since the begining.\n"
     ]
    },
    {
     "name": "stdout",
     "output_type": "stream",
     "text": [
      "6706/6706 [==============================] - 24s 4ms/step - loss: 0.0060 - accuracy: 0.7439 - val_loss: 0.0029 - val_accuracy: 0.8648\n",
      "Epoch 27/100\n",
      "3680/6706 [===============>..............] - ETA: 10s - loss: 0.0059 - accuracy: 0.7578"
     ]
    },
    {
     "name": "stderr",
     "output_type": "stream",
     "text": [
      "[codecarbon INFO @ 19:23:11] Energy consumed for RAM : 0.002106 kWh. RAM Power : 11.759872913360596 W\n",
      "[codecarbon INFO @ 19:23:11] Energy consumed for all CPUs : 0.007614 kWh. All CPUs Power : 42.5 W\n",
      "[codecarbon INFO @ 19:23:11] 0.009720 kWh of electricity used since the begining.\n"
     ]
    },
    {
     "name": "stdout",
     "output_type": "stream",
     "text": [
      "6706/6706 [==============================] - 24s 4ms/step - loss: 0.0059 - accuracy: 0.7541 - val_loss: 0.0028 - val_accuracy: 0.8421\n",
      "Epoch 28/100\n",
      " 995/6706 [===>..........................] - ETA: 19s - loss: 0.0060 - accuracy: 0.7522"
     ]
    },
    {
     "name": "stderr",
     "output_type": "stream",
     "text": [
      "[codecarbon INFO @ 19:23:26] Energy consumed for RAM : 0.002155 kWh. RAM Power : 11.759872913360596 W\n",
      "[codecarbon INFO @ 19:23:26] Energy consumed for all CPUs : 0.007791 kWh. All CPUs Power : 42.5 W\n",
      "[codecarbon INFO @ 19:23:26] 0.009946 kWh of electricity used since the begining.\n"
     ]
    },
    {
     "name": "stdout",
     "output_type": "stream",
     "text": [
      "5410/6706 [=======================>......] - ETA: 4s - loss: 0.0059 - accuracy: 0.7607"
     ]
    },
    {
     "name": "stderr",
     "output_type": "stream",
     "text": [
      "[codecarbon INFO @ 19:23:41] Energy consumed for RAM : 0.002204 kWh. RAM Power : 11.759872913360596 W\n",
      "[codecarbon INFO @ 19:23:41] Energy consumed for all CPUs : 0.007968 kWh. All CPUs Power : 42.5 W\n",
      "[codecarbon INFO @ 19:23:41] 0.010172 kWh of electricity used since the begining.\n"
     ]
    },
    {
     "name": "stdout",
     "output_type": "stream",
     "text": [
      "6706/6706 [==============================] - 24s 4ms/step - loss: 0.0059 - accuracy: 0.7617 - val_loss: 0.0028 - val_accuracy: 0.8641\n",
      "Epoch 29/100\n",
      "2811/6706 [===========>..................] - ETA: 13s - loss: 0.0059 - accuracy: 0.7632"
     ]
    },
    {
     "name": "stderr",
     "output_type": "stream",
     "text": [
      "[codecarbon INFO @ 19:23:56] Energy consumed for RAM : 0.002253 kWh. RAM Power : 11.759872913360596 W\n",
      "[codecarbon INFO @ 19:23:56] Energy consumed for all CPUs : 0.008145 kWh. All CPUs Power : 42.5 W\n",
      "[codecarbon INFO @ 19:23:56] 0.010398 kWh of electricity used since the begining.\n"
     ]
    },
    {
     "name": "stdout",
     "output_type": "stream",
     "text": [
      "6706/6706 [==============================] - 24s 4ms/step - loss: 0.0059 - accuracy: 0.7596 - val_loss: 0.0027 - val_accuracy: 0.8563\n",
      "Epoch 30/100\n",
      " 200/6706 [..............................] - ETA: 22s - loss: 0.0062 - accuracy: 0.7586"
     ]
    },
    {
     "name": "stderr",
     "output_type": "stream",
     "text": [
      "[codecarbon INFO @ 19:24:11] Energy consumed for RAM : 0.002302 kWh. RAM Power : 11.759872913360596 W\n",
      "[codecarbon INFO @ 19:24:11] Energy consumed for all CPUs : 0.008322 kWh. All CPUs Power : 42.5 W\n",
      "[codecarbon INFO @ 19:24:11] 0.010624 kWh of electricity used since the begining.\n"
     ]
    },
    {
     "name": "stdout",
     "output_type": "stream",
     "text": [
      "4583/6706 [===================>..........] - ETA: 7s - loss: 0.0059 - accuracy: 0.7569"
     ]
    },
    {
     "name": "stderr",
     "output_type": "stream",
     "text": [
      "[codecarbon INFO @ 19:24:26] Energy consumed for RAM : 0.002351 kWh. RAM Power : 11.759872913360596 W\n",
      "[codecarbon INFO @ 19:24:26] Energy consumed for all CPUs : 0.008499 kWh. All CPUs Power : 42.5 W\n",
      "[codecarbon INFO @ 19:24:26] 0.010850 kWh of electricity used since the begining.\n"
     ]
    },
    {
     "name": "stdout",
     "output_type": "stream",
     "text": [
      "6706/6706 [==============================] - 24s 4ms/step - loss: 0.0059 - accuracy: 0.7550 - val_loss: 0.0027 - val_accuracy: 0.8591\n",
      "Epoch 31/100\n",
      "1982/6706 [=======>......................] - ETA: 16s - loss: 0.0059 - accuracy: 0.7470"
     ]
    },
    {
     "name": "stderr",
     "output_type": "stream",
     "text": [
      "[codecarbon INFO @ 19:24:41] Energy consumed for RAM : 0.002400 kWh. RAM Power : 11.759872913360596 W\n",
      "[codecarbon INFO @ 19:24:41] Energy consumed for all CPUs : 0.008676 kWh. All CPUs Power : 42.5 W\n",
      "[codecarbon INFO @ 19:24:41] 0.011076 kWh of electricity used since the begining.\n"
     ]
    },
    {
     "name": "stdout",
     "output_type": "stream",
     "text": [
      "6413/6706 [===========================>..] - ETA: 0s - loss: 0.0059 - accuracy: 0.7520"
     ]
    },
    {
     "name": "stderr",
     "output_type": "stream",
     "text": [
      "[codecarbon INFO @ 19:24:56] Energy consumed for RAM : 0.002449 kWh. RAM Power : 11.759872913360596 W\n",
      "[codecarbon INFO @ 19:24:56] Energy consumed for all CPUs : 0.008853 kWh. All CPUs Power : 42.5 W\n",
      "[codecarbon INFO @ 19:24:56] 0.011302 kWh of electricity used since the begining.\n"
     ]
    },
    {
     "name": "stdout",
     "output_type": "stream",
     "text": [
      "6706/6706 [==============================] - 24s 4ms/step - loss: 0.0059 - accuracy: 0.7519 - val_loss: 0.0027 - val_accuracy: 0.8664\n",
      "Epoch 32/100\n",
      "3692/6706 [===============>..............] - ETA: 10s - loss: 0.0058 - accuracy: 0.7565"
     ]
    },
    {
     "name": "stderr",
     "output_type": "stream",
     "text": [
      "[codecarbon INFO @ 19:25:11] Energy consumed for RAM : 0.002498 kWh. RAM Power : 11.759872913360596 W\n",
      "[codecarbon INFO @ 19:25:11] Energy consumed for all CPUs : 0.009030 kWh. All CPUs Power : 42.5 W\n",
      "[codecarbon INFO @ 19:25:11] 0.011528 kWh of electricity used since the begining.\n"
     ]
    },
    {
     "name": "stdout",
     "output_type": "stream",
     "text": [
      "6706/6706 [==============================] - 24s 4ms/step - loss: 0.0058 - accuracy: 0.7515 - val_loss: 0.0027 - val_accuracy: 0.8630\n",
      "Epoch 33/100\n",
      "1105/6706 [===>..........................] - ETA: 18s - loss: 0.0059 - accuracy: 0.7401"
     ]
    },
    {
     "name": "stderr",
     "output_type": "stream",
     "text": [
      "[codecarbon INFO @ 19:25:26] Energy consumed for RAM : 0.002547 kWh. RAM Power : 11.759872913360596 W\n",
      "[codecarbon INFO @ 19:25:26] Energy consumed for all CPUs : 0.009207 kWh. All CPUs Power : 42.5 W\n",
      "[codecarbon INFO @ 19:25:26] 0.011754 kWh of electricity used since the begining.\n"
     ]
    },
    {
     "name": "stdout",
     "output_type": "stream",
     "text": [
      "5573/6706 [=======================>......] - ETA: 3s - loss: 0.0058 - accuracy: 0.7554"
     ]
    },
    {
     "name": "stderr",
     "output_type": "stream",
     "text": [
      "[codecarbon INFO @ 19:25:41] Energy consumed for RAM : 0.002596 kWh. RAM Power : 11.759872913360596 W\n",
      "[codecarbon INFO @ 19:25:41] Energy consumed for all CPUs : 0.009384 kWh. All CPUs Power : 42.5 W\n",
      "[codecarbon INFO @ 19:25:41] 0.011980 kWh of electricity used since the begining.\n"
     ]
    },
    {
     "name": "stdout",
     "output_type": "stream",
     "text": [
      "6706/6706 [==============================] - 24s 4ms/step - loss: 0.0058 - accuracy: 0.7543 - val_loss: 0.0027 - val_accuracy: 0.8616\n",
      "Epoch 34/100\n",
      "2967/6706 [============>.................] - ETA: 12s - loss: 0.0058 - accuracy: 0.7546"
     ]
    },
    {
     "name": "stderr",
     "output_type": "stream",
     "text": [
      "[codecarbon INFO @ 19:25:56] Energy consumed for RAM : 0.002645 kWh. RAM Power : 11.759872913360596 W\n",
      "[codecarbon INFO @ 19:25:56] Energy consumed for all CPUs : 0.009561 kWh. All CPUs Power : 42.5 W\n",
      "[codecarbon INFO @ 19:25:56] 0.012207 kWh of electricity used since the begining.\n"
     ]
    },
    {
     "name": "stdout",
     "output_type": "stream",
     "text": [
      "6706/6706 [==============================] - 24s 4ms/step - loss: 0.0058 - accuracy: 0.7559 - val_loss: 0.0027 - val_accuracy: 0.8675\n",
      "Epoch 35/100\n",
      " 393/6706 [>.............................] - ETA: 21s - loss: 0.0057 - accuracy: 0.7742"
     ]
    },
    {
     "name": "stderr",
     "output_type": "stream",
     "text": [
      "[codecarbon INFO @ 19:26:11] Energy consumed for RAM : 0.002694 kWh. RAM Power : 11.759872913360596 W\n",
      "[codecarbon INFO @ 19:26:11] Energy consumed for all CPUs : 0.009738 kWh. All CPUs Power : 42.5 W\n",
      "[codecarbon INFO @ 19:26:11] 0.012433 kWh of electricity used since the begining.\n"
     ]
    },
    {
     "name": "stdout",
     "output_type": "stream",
     "text": [
      "4812/6706 [====================>.........] - ETA: 6s - loss: 0.0058 - accuracy: 0.7614"
     ]
    },
    {
     "name": "stderr",
     "output_type": "stream",
     "text": [
      "[codecarbon INFO @ 19:26:26] Energy consumed for RAM : 0.002743 kWh. RAM Power : 11.759872913360596 W\n",
      "[codecarbon INFO @ 19:26:26] Energy consumed for all CPUs : 0.009915 kWh. All CPUs Power : 42.5 W\n",
      "[codecarbon INFO @ 19:26:26] 0.012659 kWh of electricity used since the begining.\n"
     ]
    },
    {
     "name": "stdout",
     "output_type": "stream",
     "text": [
      "6706/6706 [==============================] - 24s 4ms/step - loss: 0.0058 - accuracy: 0.7623 - val_loss: 0.0027 - val_accuracy: 0.8655\n",
      "Epoch 36/100\n",
      "2186/6706 [========>.....................] - ETA: 15s - loss: 0.0058 - accuracy: 0.7578"
     ]
    },
    {
     "name": "stderr",
     "output_type": "stream",
     "text": [
      "[codecarbon INFO @ 19:26:41] Energy consumed for RAM : 0.002792 kWh. RAM Power : 11.759872913360596 W\n",
      "[codecarbon INFO @ 19:26:41] Energy consumed for all CPUs : 0.010092 kWh. All CPUs Power : 42.5 W\n",
      "[codecarbon INFO @ 19:26:41] 0.012885 kWh of electricity used since the begining.\n"
     ]
    },
    {
     "name": "stdout",
     "output_type": "stream",
     "text": [
      "6651/6706 [============================>.] - ETA: 0s - loss: 0.0058 - accuracy: 0.7649"
     ]
    },
    {
     "name": "stderr",
     "output_type": "stream",
     "text": [
      "[codecarbon INFO @ 19:26:56] Energy consumed for RAM : 0.002841 kWh. RAM Power : 11.759872913360596 W\n",
      "[codecarbon INFO @ 19:26:56] Energy consumed for all CPUs : 0.010270 kWh. All CPUs Power : 42.5 W\n",
      "[codecarbon INFO @ 19:26:56] 0.013111 kWh of electricity used since the begining.\n"
     ]
    },
    {
     "name": "stdout",
     "output_type": "stream",
     "text": [
      "6706/6706 [==============================] - 24s 4ms/step - loss: 0.0058 - accuracy: 0.7647 - val_loss: 0.0027 - val_accuracy: 0.8675\n",
      "Epoch 37/100\n",
      "4151/6706 [=================>............] - ETA: 8s - loss: 0.0058 - accuracy: 0.7746"
     ]
    },
    {
     "name": "stderr",
     "output_type": "stream",
     "text": [
      "[codecarbon INFO @ 19:27:11] Energy consumed for RAM : 0.002890 kWh. RAM Power : 11.759872913360596 W\n",
      "[codecarbon INFO @ 19:27:11] Energy consumed for all CPUs : 0.010447 kWh. All CPUs Power : 42.5 W\n",
      "[codecarbon INFO @ 19:27:11] 0.013337 kWh of electricity used since the begining.\n"
     ]
    },
    {
     "name": "stdout",
     "output_type": "stream",
     "text": [
      "6706/6706 [==============================] - 24s 4ms/step - loss: 0.0057 - accuracy: 0.7760 - val_loss: 0.0027 - val_accuracy: 0.8695\n",
      "Epoch 38/100\n",
      "1527/6706 [=====>........................] - ETA: 17s - loss: 0.0057 - accuracy: 0.7904"
     ]
    },
    {
     "name": "stderr",
     "output_type": "stream",
     "text": [
      "[codecarbon INFO @ 19:27:26] Energy consumed for RAM : 0.002939 kWh. RAM Power : 11.759872913360596 W\n",
      "[codecarbon INFO @ 19:27:26] Energy consumed for all CPUs : 0.010624 kWh. All CPUs Power : 42.5 W\n",
      "[codecarbon INFO @ 19:27:26] 0.013563 kWh of electricity used since the begining.\n"
     ]
    },
    {
     "name": "stdout",
     "output_type": "stream",
     "text": [
      "5964/6706 [=========================>....] - ETA: 2s - loss: 0.0057 - accuracy: 0.7807"
     ]
    },
    {
     "name": "stderr",
     "output_type": "stream",
     "text": [
      "[codecarbon INFO @ 19:27:41] Energy consumed for RAM : 0.002988 kWh. RAM Power : 11.759872913360596 W\n",
      "[codecarbon INFO @ 19:27:41] Energy consumed for all CPUs : 0.010801 kWh. All CPUs Power : 42.5 W\n",
      "[codecarbon INFO @ 19:27:41] 0.013789 kWh of electricity used since the begining.\n"
     ]
    },
    {
     "name": "stdout",
     "output_type": "stream",
     "text": [
      "6706/6706 [==============================] - 24s 4ms/step - loss: 0.0057 - accuracy: 0.7809 - val_loss: 0.0027 - val_accuracy: 0.8662\n",
      "Epoch 39/100\n",
      "3378/6706 [==============>...............] - ETA: 11s - loss: 0.0057 - accuracy: 0.7771"
     ]
    },
    {
     "name": "stderr",
     "output_type": "stream",
     "text": [
      "[codecarbon INFO @ 19:27:56] Energy consumed for RAM : 0.003037 kWh. RAM Power : 11.759872913360596 W\n",
      "[codecarbon INFO @ 19:27:56] Energy consumed for all CPUs : 0.010978 kWh. All CPUs Power : 42.5 W\n",
      "[codecarbon INFO @ 19:27:56] 0.014015 kWh of electricity used since the begining.\n"
     ]
    },
    {
     "name": "stdout",
     "output_type": "stream",
     "text": [
      "6706/6706 [==============================] - 24s 4ms/step - loss: 0.0057 - accuracy: 0.7747 - val_loss: 0.0026 - val_accuracy: 0.8669\n",
      "Epoch 40/100\n",
      " 789/6706 [==>...........................] - ETA: 19s - loss: 0.0057 - accuracy: 0.7629"
     ]
    },
    {
     "name": "stderr",
     "output_type": "stream",
     "text": [
      "[codecarbon INFO @ 19:28:11] Energy consumed for RAM : 0.003086 kWh. RAM Power : 11.759872913360596 W\n",
      "[codecarbon INFO @ 19:28:11] Energy consumed for all CPUs : 0.011155 kWh. All CPUs Power : 42.5 W\n",
      "[codecarbon INFO @ 19:28:11] 0.014241 kWh of electricity used since the begining.\n"
     ]
    },
    {
     "name": "stdout",
     "output_type": "stream",
     "text": [
      "5253/6706 [======================>.......] - ETA: 4s - loss: 0.0057 - accuracy: 0.7716"
     ]
    },
    {
     "name": "stderr",
     "output_type": "stream",
     "text": [
      "[codecarbon INFO @ 19:28:26] Energy consumed for RAM : 0.003135 kWh. RAM Power : 11.759872913360596 W\n",
      "[codecarbon INFO @ 19:28:26] Energy consumed for all CPUs : 0.011332 kWh. All CPUs Power : 42.5 W\n",
      "[codecarbon INFO @ 19:28:26] 0.014467 kWh of electricity used since the begining.\n"
     ]
    },
    {
     "name": "stdout",
     "output_type": "stream",
     "text": [
      "6706/6706 [==============================] - 23s 3ms/step - loss: 0.0057 - accuracy: 0.7719 - val_loss: 0.0026 - val_accuracy: 0.8678\n",
      "Epoch 41/100\n",
      "2730/6706 [===========>..................] - ETA: 13s - loss: 0.0057 - accuracy: 0.7692"
     ]
    },
    {
     "name": "stderr",
     "output_type": "stream",
     "text": [
      "[codecarbon INFO @ 19:28:41] Energy consumed for RAM : 0.003184 kWh. RAM Power : 11.759872913360596 W\n",
      "[codecarbon INFO @ 19:28:41] Energy consumed for all CPUs : 0.011509 kWh. All CPUs Power : 42.5 W\n",
      "[codecarbon INFO @ 19:28:41] 0.014693 kWh of electricity used since the begining.\n"
     ]
    },
    {
     "name": "stdout",
     "output_type": "stream",
     "text": [
      "6706/6706 [==============================] - 23s 3ms/step - loss: 0.0057 - accuracy: 0.7705 - val_loss: 0.0026 - val_accuracy: 0.8644\n",
      "Epoch 42/100\n",
      " 181/6706 [..............................] - ETA: 22s - loss: 0.0057 - accuracy: 0.7716"
     ]
    },
    {
     "name": "stderr",
     "output_type": "stream",
     "text": [
      "[codecarbon INFO @ 19:28:56] Energy consumed for RAM : 0.003233 kWh. RAM Power : 11.759872913360596 W\n",
      "[codecarbon INFO @ 19:28:56] Energy consumed for all CPUs : 0.011686 kWh. All CPUs Power : 42.5 W\n",
      "[codecarbon INFO @ 19:28:56] 0.014919 kWh of electricity used since the begining.\n"
     ]
    },
    {
     "name": "stdout",
     "output_type": "stream",
     "text": [
      "4654/6706 [===================>..........] - ETA: 6s - loss: 0.0056 - accuracy: 0.7758"
     ]
    },
    {
     "name": "stderr",
     "output_type": "stream",
     "text": [
      "[codecarbon INFO @ 19:29:11] Energy consumed for RAM : 0.003282 kWh. RAM Power : 11.759872913360596 W\n",
      "[codecarbon INFO @ 19:29:11] Energy consumed for all CPUs : 0.011863 kWh. All CPUs Power : 42.5 W\n",
      "[codecarbon INFO @ 19:29:11] 0.015145 kWh of electricity used since the begining.\n"
     ]
    },
    {
     "name": "stdout",
     "output_type": "stream",
     "text": [
      "6706/6706 [==============================] - 24s 4ms/step - loss: 0.0056 - accuracy: 0.7756 - val_loss: 0.0026 - val_accuracy: 0.8652\n",
      "Epoch 43/100\n",
      "1991/6706 [=======>......................] - ETA: 16s - loss: 0.0056 - accuracy: 0.7684"
     ]
    },
    {
     "name": "stderr",
     "output_type": "stream",
     "text": [
      "[codecarbon INFO @ 19:29:26] Energy consumed for RAM : 0.003331 kWh. RAM Power : 11.759872913360596 W\n",
      "[codecarbon INFO @ 19:29:26] Energy consumed for all CPUs : 0.012040 kWh. All CPUs Power : 42.5 W\n",
      "[codecarbon INFO @ 19:29:26] 0.015371 kWh of electricity used since the begining.\n"
     ]
    },
    {
     "name": "stdout",
     "output_type": "stream",
     "text": [
      "6359/6706 [===========================>..] - ETA: 1s - loss: 0.0056 - accuracy: 0.7726"
     ]
    },
    {
     "name": "stderr",
     "output_type": "stream",
     "text": [
      "[codecarbon INFO @ 19:29:41] Energy consumed for RAM : 0.003380 kWh. RAM Power : 11.759872913360596 W\n",
      "[codecarbon INFO @ 19:29:41] Energy consumed for all CPUs : 0.012217 kWh. All CPUs Power : 42.5 W\n",
      "[codecarbon INFO @ 19:29:41] 0.015597 kWh of electricity used since the begining.\n"
     ]
    },
    {
     "name": "stdout",
     "output_type": "stream",
     "text": [
      "6706/6706 [==============================] - 24s 4ms/step - loss: 0.0056 - accuracy: 0.7732 - val_loss: 0.0026 - val_accuracy: 0.8688\n",
      "Epoch 44/100\n",
      "3702/6706 [===============>..............] - ETA: 10s - loss: 0.0057 - accuracy: 0.7725"
     ]
    },
    {
     "name": "stderr",
     "output_type": "stream",
     "text": [
      "[codecarbon INFO @ 19:29:56] Energy consumed for RAM : 0.003429 kWh. RAM Power : 11.759872913360596 W\n",
      "[codecarbon INFO @ 19:29:56] Energy consumed for all CPUs : 0.012394 kWh. All CPUs Power : 42.5 W\n",
      "[codecarbon INFO @ 19:29:56] 0.015823 kWh of electricity used since the begining.\n"
     ]
    },
    {
     "name": "stdout",
     "output_type": "stream",
     "text": [
      "6706/6706 [==============================] - 24s 4ms/step - loss: 0.0056 - accuracy: 0.7792 - val_loss: 0.0026 - val_accuracy: 0.8619\n",
      "Epoch 45/100\n",
      "1105/6706 [===>..........................] - ETA: 18s - loss: 0.0056 - accuracy: 0.7753"
     ]
    },
    {
     "name": "stderr",
     "output_type": "stream",
     "text": [
      "[codecarbon INFO @ 19:30:11] Energy consumed for RAM : 0.003478 kWh. RAM Power : 11.759872913360596 W\n",
      "[codecarbon INFO @ 19:30:11] Energy consumed for all CPUs : 0.012571 kWh. All CPUs Power : 42.5 W\n",
      "[codecarbon INFO @ 19:30:11] 0.016049 kWh of electricity used since the begining.\n"
     ]
    },
    {
     "name": "stdout",
     "output_type": "stream",
     "text": [
      "5509/6706 [=======================>......] - ETA: 4s - loss: 0.0056 - accuracy: 0.7806"
     ]
    },
    {
     "name": "stderr",
     "output_type": "stream",
     "text": [
      "[codecarbon INFO @ 19:30:26] Energy consumed for RAM : 0.003527 kWh. RAM Power : 11.759872913360596 W\n",
      "[codecarbon INFO @ 19:30:26] Energy consumed for all CPUs : 0.012748 kWh. All CPUs Power : 42.5 W\n",
      "[codecarbon INFO @ 19:30:26] 0.016275 kWh of electricity used since the begining.\n"
     ]
    },
    {
     "name": "stdout",
     "output_type": "stream",
     "text": [
      "6706/6706 [==============================] - 24s 4ms/step - loss: 0.0056 - accuracy: 0.7776 - val_loss: 0.0026 - val_accuracy: 0.8689\n",
      "Epoch 46/100\n",
      "2956/6706 [============>.................] - ETA: 12s - loss: 0.0056 - accuracy: 0.7767"
     ]
    },
    {
     "name": "stderr",
     "output_type": "stream",
     "text": [
      "[codecarbon INFO @ 19:30:41] Energy consumed for RAM : 0.003576 kWh. RAM Power : 11.759872913360596 W\n",
      "[codecarbon INFO @ 19:30:41] Energy consumed for all CPUs : 0.012925 kWh. All CPUs Power : 42.5 W\n",
      "[codecarbon INFO @ 19:30:41] 0.016501 kWh of electricity used since the begining.\n"
     ]
    },
    {
     "name": "stdout",
     "output_type": "stream",
     "text": [
      "6706/6706 [==============================] - 23s 3ms/step - loss: 0.0056 - accuracy: 0.7760 - val_loss: 0.0026 - val_accuracy: 0.8671\n",
      "Epoch 47/100\n",
      " 482/6706 [=>............................] - ETA: 20s - loss: 0.0056 - accuracy: 0.7722"
     ]
    },
    {
     "name": "stderr",
     "output_type": "stream",
     "text": [
      "[codecarbon INFO @ 19:30:56] Energy consumed for RAM : 0.003625 kWh. RAM Power : 11.759872913360596 W\n",
      "[codecarbon INFO @ 19:30:56] Energy consumed for all CPUs : 0.013102 kWh. All CPUs Power : 42.5 W\n",
      "[codecarbon INFO @ 19:30:56] 0.016727 kWh of electricity used since the begining.\n"
     ]
    },
    {
     "name": "stdout",
     "output_type": "stream",
     "text": [
      "4927/6706 [=====================>........] - ETA: 5s - loss: 0.0056 - accuracy: 0.7714"
     ]
    },
    {
     "name": "stderr",
     "output_type": "stream",
     "text": [
      "[codecarbon INFO @ 19:31:11] Energy consumed for RAM : 0.003674 kWh. RAM Power : 11.759872913360596 W\n",
      "[codecarbon INFO @ 19:31:11] Energy consumed for all CPUs : 0.013280 kWh. All CPUs Power : 42.5 W\n",
      "[codecarbon INFO @ 19:31:11] 0.016953 kWh of electricity used since the begining.\n"
     ]
    },
    {
     "name": "stdout",
     "output_type": "stream",
     "text": [
      "6706/6706 [==============================] - 23s 4ms/step - loss: 0.0056 - accuracy: 0.7695 - val_loss: 0.0025 - val_accuracy: 0.8664\n",
      "Epoch 48/100\n",
      "2412/6706 [=========>....................] - ETA: 14s - loss: 0.0056 - accuracy: 0.7740"
     ]
    },
    {
     "name": "stderr",
     "output_type": "stream",
     "text": [
      "[codecarbon INFO @ 19:31:26] Energy consumed for RAM : 0.003723 kWh. RAM Power : 11.759872913360596 W\n",
      "[codecarbon INFO @ 19:31:26] Energy consumed for all CPUs : 0.013457 kWh. All CPUs Power : 42.5 W\n",
      "[codecarbon INFO @ 19:31:26] 0.017180 kWh of electricity used since the begining.\n"
     ]
    },
    {
     "name": "stdout",
     "output_type": "stream",
     "text": [
      "6692/6706 [============================>.] - ETA: 0s - loss: 0.0056 - accuracy: 0.7771"
     ]
    },
    {
     "name": "stderr",
     "output_type": "stream",
     "text": [
      "[codecarbon INFO @ 19:31:41] Energy consumed for RAM : 0.003772 kWh. RAM Power : 11.759872913360596 W\n",
      "[codecarbon INFO @ 19:31:41] Energy consumed for all CPUs : 0.013634 kWh. All CPUs Power : 42.5 W\n",
      "[codecarbon INFO @ 19:31:41] 0.017406 kWh of electricity used since the begining.\n"
     ]
    },
    {
     "name": "stdout",
     "output_type": "stream",
     "text": [
      "6706/6706 [==============================] - 24s 4ms/step - loss: 0.0056 - accuracy: 0.7771 - val_loss: 0.0025 - val_accuracy: 0.8687\n",
      "Epoch 49/100\n",
      "4130/6706 [=================>............] - ETA: 8s - loss: 0.0056 - accuracy: 0.7635"
     ]
    },
    {
     "name": "stderr",
     "output_type": "stream",
     "text": [
      "[codecarbon INFO @ 19:31:56] Energy consumed for RAM : 0.003821 kWh. RAM Power : 11.759872913360596 W\n",
      "[codecarbon INFO @ 19:31:56] Energy consumed for all CPUs : 0.013811 kWh. All CPUs Power : 42.5 W\n",
      "[codecarbon INFO @ 19:31:56] 0.017632 kWh of electricity used since the begining.\n"
     ]
    },
    {
     "name": "stdout",
     "output_type": "stream",
     "text": [
      "6706/6706 [==============================] - 24s 4ms/step - loss: 0.0056 - accuracy: 0.7645 - val_loss: 0.0026 - val_accuracy: 0.8690\n",
      "Epoch 50/100\n",
      "1591/6706 [======>.......................] - ETA: 17s - loss: 0.0055 - accuracy: 0.7650"
     ]
    },
    {
     "name": "stderr",
     "output_type": "stream",
     "text": [
      "[codecarbon INFO @ 19:32:11] Energy consumed for RAM : 0.003870 kWh. RAM Power : 11.759872913360596 W\n",
      "[codecarbon INFO @ 19:32:11] Energy consumed for all CPUs : 0.013988 kWh. All CPUs Power : 42.5 W\n",
      "[codecarbon INFO @ 19:32:11] 0.017858 kWh of electricity used since the begining.\n"
     ]
    },
    {
     "name": "stdout",
     "output_type": "stream",
     "text": [
      "6027/6706 [=========================>....] - ETA: 2s - loss: 0.0055 - accuracy: 0.7774"
     ]
    },
    {
     "name": "stderr",
     "output_type": "stream",
     "text": [
      "[codecarbon INFO @ 19:32:26] Energy consumed for RAM : 0.003919 kWh. RAM Power : 11.759872913360596 W\n",
      "[codecarbon INFO @ 19:32:26] Energy consumed for all CPUs : 0.014165 kWh. All CPUs Power : 42.5 W\n",
      "[codecarbon INFO @ 19:32:26] 0.018084 kWh of electricity used since the begining.\n"
     ]
    },
    {
     "name": "stdout",
     "output_type": "stream",
     "text": [
      "6706/6706 [==============================] - 24s 4ms/step - loss: 0.0055 - accuracy: 0.7774 - val_loss: 0.0025 - val_accuracy: 0.8692\n",
      "Epoch 51/100\n",
      "3555/6706 [==============>...............] - ETA: 10s - loss: 0.0056 - accuracy: 0.7825"
     ]
    },
    {
     "name": "stderr",
     "output_type": "stream",
     "text": [
      "[codecarbon INFO @ 19:32:41] Energy consumed for RAM : 0.003968 kWh. RAM Power : 11.759872913360596 W\n",
      "[codecarbon INFO @ 19:32:41] Energy consumed for all CPUs : 0.014342 kWh. All CPUs Power : 42.5 W\n",
      "[codecarbon INFO @ 19:32:41] 0.018310 kWh of electricity used since the begining.\n"
     ]
    },
    {
     "name": "stdout",
     "output_type": "stream",
     "text": [
      "6706/6706 [==============================] - 23s 3ms/step - loss: 0.0055 - accuracy: 0.7829 - val_loss: 0.0026 - val_accuracy: 0.8695\n",
      "Epoch 52/100\n",
      "1073/6706 [===>..........................] - ETA: 18s - loss: 0.0056 - accuracy: 0.7740"
     ]
    },
    {
     "name": "stderr",
     "output_type": "stream",
     "text": [
      "[codecarbon INFO @ 19:32:56] Energy consumed for RAM : 0.004017 kWh. RAM Power : 11.759872913360596 W\n",
      "[codecarbon INFO @ 19:32:56] Energy consumed for all CPUs : 0.014519 kWh. All CPUs Power : 42.5 W\n",
      "[codecarbon INFO @ 19:32:56] 0.018536 kWh of electricity used since the begining.\n"
     ]
    },
    {
     "name": "stdout",
     "output_type": "stream",
     "text": [
      "5503/6706 [=======================>......] - ETA: 4s - loss: 0.0056 - accuracy: 0.7783"
     ]
    },
    {
     "name": "stderr",
     "output_type": "stream",
     "text": [
      "[codecarbon INFO @ 19:33:11] Energy consumed for RAM : 0.004066 kWh. RAM Power : 11.759872913360596 W\n",
      "[codecarbon INFO @ 19:33:11] Energy consumed for all CPUs : 0.014696 kWh. All CPUs Power : 42.5 W\n",
      "[codecarbon INFO @ 19:33:11] 0.018762 kWh of electricity used since the begining.\n"
     ]
    },
    {
     "name": "stdout",
     "output_type": "stream",
     "text": [
      "6706/6706 [==============================] - 24s 4ms/step - loss: 0.0055 - accuracy: 0.7796 - val_loss: 0.0025 - val_accuracy: 0.8696\n",
      "Epoch 53/100\n",
      "2875/6706 [===========>..................] - ETA: 13s - loss: 0.0055 - accuracy: 0.7911"
     ]
    },
    {
     "name": "stderr",
     "output_type": "stream",
     "text": [
      "[codecarbon INFO @ 19:33:26] Energy consumed for RAM : 0.004115 kWh. RAM Power : 11.759872913360596 W\n",
      "[codecarbon INFO @ 19:33:26] Energy consumed for all CPUs : 0.014873 kWh. All CPUs Power : 42.5 W\n",
      "[codecarbon INFO @ 19:33:26] 0.018988 kWh of electricity used since the begining.\n"
     ]
    },
    {
     "name": "stdout",
     "output_type": "stream",
     "text": [
      "6706/6706 [==============================] - 24s 4ms/step - loss: 0.0055 - accuracy: 0.7878 - val_loss: 0.0025 - val_accuracy: 0.8695\n",
      "Epoch 54/100\n",
      " 240/6706 [>.............................] - ETA: 22s - loss: 0.0056 - accuracy: 0.7827"
     ]
    },
    {
     "name": "stderr",
     "output_type": "stream",
     "text": [
      "[codecarbon INFO @ 19:33:41] Energy consumed for RAM : 0.004164 kWh. RAM Power : 11.759872913360596 W\n",
      "[codecarbon INFO @ 19:33:41] Energy consumed for all CPUs : 0.015050 kWh. All CPUs Power : 42.5 W\n",
      "[codecarbon INFO @ 19:33:41] 0.019214 kWh of electricity used since the begining.\n"
     ]
    },
    {
     "name": "stdout",
     "output_type": "stream",
     "text": [
      "4655/6706 [===================>..........] - ETA: 6s - loss: 0.0055 - accuracy: 0.7862"
     ]
    },
    {
     "name": "stderr",
     "output_type": "stream",
     "text": [
      "[codecarbon INFO @ 19:33:56] Energy consumed for RAM : 0.004213 kWh. RAM Power : 11.759872913360596 W\n",
      "[codecarbon INFO @ 19:33:56] Energy consumed for all CPUs : 0.015227 kWh. All CPUs Power : 42.5 W\n",
      "[codecarbon INFO @ 19:33:56] 0.019440 kWh of electricity used since the begining.\n"
     ]
    },
    {
     "name": "stdout",
     "output_type": "stream",
     "text": [
      "6706/6706 [==============================] - 24s 4ms/step - loss: 0.0055 - accuracy: 0.7868 - val_loss: 0.0025 - val_accuracy: 0.8694\n",
      "Epoch 55/100\n",
      "2094/6706 [========>.....................] - ETA: 15s - loss: 0.0055 - accuracy: 0.7944"
     ]
    },
    {
     "name": "stderr",
     "output_type": "stream",
     "text": [
      "[codecarbon INFO @ 19:34:11] Energy consumed for RAM : 0.004262 kWh. RAM Power : 11.759872913360596 W\n",
      "[codecarbon INFO @ 19:34:11] Energy consumed for all CPUs : 0.015404 kWh. All CPUs Power : 42.5 W\n",
      "[codecarbon INFO @ 19:34:11] 0.019666 kWh of electricity used since the begining.\n"
     ]
    },
    {
     "name": "stdout",
     "output_type": "stream",
     "text": [
      "6464/6706 [===========================>..] - ETA: 0s - loss: 0.0055 - accuracy: 0.7867"
     ]
    },
    {
     "name": "stderr",
     "output_type": "stream",
     "text": [
      "[codecarbon INFO @ 19:34:26] Energy consumed for RAM : 0.004311 kWh. RAM Power : 11.759872913360596 W\n",
      "[codecarbon INFO @ 19:34:26] Energy consumed for all CPUs : 0.015581 kWh. All CPUs Power : 42.5 W\n",
      "[codecarbon INFO @ 19:34:26] 0.019892 kWh of electricity used since the begining.\n"
     ]
    },
    {
     "name": "stdout",
     "output_type": "stream",
     "text": [
      "6706/6706 [==============================] - 24s 4ms/step - loss: 0.0055 - accuracy: 0.7862 - val_loss: 0.0025 - val_accuracy: 0.8693\n",
      "Epoch 56/100\n",
      "3957/6706 [================>.............] - ETA: 9s - loss: 0.0055 - accuracy: 0.7732"
     ]
    },
    {
     "name": "stderr",
     "output_type": "stream",
     "text": [
      "[codecarbon INFO @ 19:34:41] Energy consumed for RAM : 0.004360 kWh. RAM Power : 11.759872913360596 W\n",
      "[codecarbon INFO @ 19:34:41] Energy consumed for all CPUs : 0.015758 kWh. All CPUs Power : 42.5 W\n",
      "[codecarbon INFO @ 19:34:41] 0.020118 kWh of electricity used since the begining.\n"
     ]
    },
    {
     "name": "stdout",
     "output_type": "stream",
     "text": [
      "6706/6706 [==============================] - 24s 4ms/step - loss: 0.0055 - accuracy: 0.7709 - val_loss: 0.0025 - val_accuracy: 0.8695\n",
      "Epoch 57/100\n",
      "1331/6706 [====>.........................] - ETA: 17s - loss: 0.0055 - accuracy: 0.7702"
     ]
    },
    {
     "name": "stderr",
     "output_type": "stream",
     "text": [
      "[codecarbon INFO @ 19:34:56] Energy consumed for RAM : 0.004409 kWh. RAM Power : 11.759872913360596 W\n",
      "[codecarbon INFO @ 19:34:56] Energy consumed for all CPUs : 0.015935 kWh. All CPUs Power : 42.5 W\n",
      "[codecarbon INFO @ 19:34:56] 0.020344 kWh of electricity used since the begining.\n"
     ]
    },
    {
     "name": "stdout",
     "output_type": "stream",
     "text": [
      "5821/6706 [=========================>....] - ETA: 2s - loss: 0.0055 - accuracy: 0.7670"
     ]
    },
    {
     "name": "stderr",
     "output_type": "stream",
     "text": [
      "[codecarbon INFO @ 19:35:11] Energy consumed for RAM : 0.004458 kWh. RAM Power : 11.759872913360596 W\n",
      "[codecarbon INFO @ 19:35:11] Energy consumed for all CPUs : 0.016112 kWh. All CPUs Power : 42.5 W\n",
      "[codecarbon INFO @ 19:35:11] 0.020570 kWh of electricity used since the begining.\n"
     ]
    },
    {
     "name": "stdout",
     "output_type": "stream",
     "text": [
      "6706/6706 [==============================] - 23s 3ms/step - loss: 0.0055 - accuracy: 0.7701 - val_loss: 0.0025 - val_accuracy: 0.8694\n",
      "Epoch 58/100\n",
      "3317/6706 [=============>................] - ETA: 11s - loss: 0.0055 - accuracy: 0.7771"
     ]
    },
    {
     "name": "stderr",
     "output_type": "stream",
     "text": [
      "[codecarbon INFO @ 19:35:26] Energy consumed for RAM : 0.004507 kWh. RAM Power : 11.759872913360596 W\n",
      "[codecarbon INFO @ 19:35:26] Energy consumed for all CPUs : 0.016290 kWh. All CPUs Power : 42.5 W\n",
      "[codecarbon INFO @ 19:35:26] 0.020796 kWh of electricity used since the begining.\n"
     ]
    },
    {
     "name": "stdout",
     "output_type": "stream",
     "text": [
      "6706/6706 [==============================] - 23s 3ms/step - loss: 0.0055 - accuracy: 0.7734 - val_loss: 0.0026 - val_accuracy: 0.8694\n",
      "Epoch 59/100\n",
      " 810/6706 [==>...........................] - ETA: 19s - loss: 0.0054 - accuracy: 0.7754"
     ]
    },
    {
     "name": "stderr",
     "output_type": "stream",
     "text": [
      "[codecarbon INFO @ 19:35:41] Energy consumed for RAM : 0.004556 kWh. RAM Power : 11.759872913360596 W\n",
      "[codecarbon INFO @ 19:35:41] Energy consumed for all CPUs : 0.016467 kWh. All CPUs Power : 42.5 W\n",
      "[codecarbon INFO @ 19:35:41] 0.021022 kWh of electricity used since the begining.\n"
     ]
    },
    {
     "name": "stdout",
     "output_type": "stream",
     "text": [
      "5285/6706 [======================>.......] - ETA: 4s - loss: 0.0055 - accuracy: 0.7697"
     ]
    },
    {
     "name": "stderr",
     "output_type": "stream",
     "text": [
      "[codecarbon INFO @ 19:35:56] Energy consumed for RAM : 0.004605 kWh. RAM Power : 11.759872913360596 W\n",
      "[codecarbon INFO @ 19:35:56] Energy consumed for all CPUs : 0.016644 kWh. All CPUs Power : 42.5 W\n",
      "[codecarbon INFO @ 19:35:56] 0.021248 kWh of electricity used since the begining.\n"
     ]
    },
    {
     "name": "stdout",
     "output_type": "stream",
     "text": [
      "6706/6706 [==============================] - 24s 4ms/step - loss: 0.0055 - accuracy: 0.7706 - val_loss: 0.0025 - val_accuracy: 0.8695\n",
      "Epoch 60/100\n",
      "2549/6706 [==========>...................] - ETA: 14s - loss: 0.0055 - accuracy: 0.7767"
     ]
    },
    {
     "name": "stderr",
     "output_type": "stream",
     "text": [
      "[codecarbon INFO @ 19:36:11] Energy consumed for RAM : 0.004654 kWh. RAM Power : 11.759872913360596 W\n",
      "[codecarbon INFO @ 19:36:11] Energy consumed for all CPUs : 0.016821 kWh. All CPUs Power : 42.5 W\n",
      "[codecarbon INFO @ 19:36:11] 0.021474 kWh of electricity used since the begining.\n"
     ]
    },
    {
     "name": "stdout",
     "output_type": "stream",
     "text": [
      "6700/6706 [============================>.] - ETA: 0s - loss: 0.0055 - accuracy: 0.7807"
     ]
    },
    {
     "name": "stderr",
     "output_type": "stream",
     "text": [
      "[codecarbon INFO @ 19:36:26] Energy consumed for RAM : 0.004703 kWh. RAM Power : 11.759872913360596 W\n",
      "[codecarbon INFO @ 19:36:26] Energy consumed for all CPUs : 0.016998 kWh. All CPUs Power : 42.5 W\n",
      "[codecarbon INFO @ 19:36:26] 0.021700 kWh of electricity used since the begining.\n"
     ]
    },
    {
     "name": "stdout",
     "output_type": "stream",
     "text": [
      "6706/6706 [==============================] - 24s 4ms/step - loss: 0.0055 - accuracy: 0.7807 - val_loss: 0.0025 - val_accuracy: 0.8695\n",
      "Epoch 61/100\n",
      "4341/6706 [==================>...........] - ETA: 7s - loss: 0.0055 - accuracy: 0.7820"
     ]
    },
    {
     "name": "stderr",
     "output_type": "stream",
     "text": [
      "[codecarbon INFO @ 19:36:41] Energy consumed for RAM : 0.004752 kWh. RAM Power : 11.759872913360596 W\n",
      "[codecarbon INFO @ 19:36:41] Energy consumed for all CPUs : 0.017175 kWh. All CPUs Power : 42.5 W\n",
      "[codecarbon INFO @ 19:36:41] 0.021926 kWh of electricity used since the begining.\n"
     ]
    },
    {
     "name": "stdout",
     "output_type": "stream",
     "text": [
      "6706/6706 [==============================] - 24s 4ms/step - loss: 0.0055 - accuracy: 0.7768 - val_loss: 0.0026 - val_accuracy: 0.8373\n",
      "Epoch 62/100\n",
      "1776/6706 [======>.......................] - ETA: 16s - loss: 0.0054 - accuracy: 0.7753"
     ]
    },
    {
     "name": "stderr",
     "output_type": "stream",
     "text": [
      "[codecarbon INFO @ 19:36:56] Energy consumed for RAM : 0.004801 kWh. RAM Power : 11.759872913360596 W\n",
      "[codecarbon INFO @ 19:36:56] Energy consumed for all CPUs : 0.017352 kWh. All CPUs Power : 42.5 W\n",
      "[codecarbon INFO @ 19:36:56] 0.022152 kWh of electricity used since the begining.\n"
     ]
    },
    {
     "name": "stdout",
     "output_type": "stream",
     "text": [
      "6270/6706 [===========================>..] - ETA: 1s - loss: 0.0055 - accuracy: 0.7765"
     ]
    },
    {
     "name": "stderr",
     "output_type": "stream",
     "text": [
      "[codecarbon INFO @ 19:37:11] Energy consumed for RAM : 0.004850 kWh. RAM Power : 11.759872913360596 W\n",
      "[codecarbon INFO @ 19:37:11] Energy consumed for all CPUs : 0.017529 kWh. All CPUs Power : 42.5 W\n",
      "[codecarbon INFO @ 19:37:11] 0.022379 kWh of electricity used since the begining.\n"
     ]
    },
    {
     "name": "stdout",
     "output_type": "stream",
     "text": [
      "6706/6706 [==============================] - 23s 4ms/step - loss: 0.0055 - accuracy: 0.7772 - val_loss: 0.0025 - val_accuracy: 0.8694\n",
      "Epoch 63/100\n",
      "3692/6706 [===============>..............] - ETA: 10s - loss: 0.0055 - accuracy: 0.7799"
     ]
    },
    {
     "name": "stderr",
     "output_type": "stream",
     "text": [
      "[codecarbon INFO @ 19:37:26] Energy consumed for RAM : 0.004899 kWh. RAM Power : 11.759872913360596 W\n",
      "[codecarbon INFO @ 19:37:26] Energy consumed for all CPUs : 0.017706 kWh. All CPUs Power : 42.5 W\n",
      "[codecarbon INFO @ 19:37:26] 0.022605 kWh of electricity used since the begining.\n"
     ]
    },
    {
     "name": "stdout",
     "output_type": "stream",
     "text": [
      "6706/6706 [==============================] - 24s 4ms/step - loss: 0.0055 - accuracy: 0.7852 - val_loss: 0.0025 - val_accuracy: 0.8695\n",
      "Epoch 64/100\n",
      "1095/6706 [===>..........................] - ETA: 19s - loss: 0.0053 - accuracy: 0.7893"
     ]
    },
    {
     "name": "stderr",
     "output_type": "stream",
     "text": [
      "[codecarbon INFO @ 19:37:41] Energy consumed for RAM : 0.004948 kWh. RAM Power : 11.759872913360596 W\n",
      "[codecarbon INFO @ 19:37:41] Energy consumed for all CPUs : 0.017883 kWh. All CPUs Power : 42.5 W\n",
      "[codecarbon INFO @ 19:37:41] 0.022831 kWh of electricity used since the begining.\n"
     ]
    },
    {
     "name": "stdout",
     "output_type": "stream",
     "text": [
      "5505/6706 [=======================>......] - ETA: 4s - loss: 0.0054 - accuracy: 0.7886"
     ]
    },
    {
     "name": "stderr",
     "output_type": "stream",
     "text": [
      "[codecarbon INFO @ 19:37:56] Energy consumed for RAM : 0.004997 kWh. RAM Power : 11.759872913360596 W\n",
      "[codecarbon INFO @ 19:37:56] Energy consumed for all CPUs : 0.018060 kWh. All CPUs Power : 42.5 W\n",
      "[codecarbon INFO @ 19:37:56] 0.023057 kWh of electricity used since the begining.\n"
     ]
    },
    {
     "name": "stdout",
     "output_type": "stream",
     "text": [
      "6706/6706 [==============================] - 24s 4ms/step - loss: 0.0054 - accuracy: 0.7893 - val_loss: 0.0025 - val_accuracy: 0.8694\n",
      "Epoch 65/100\n",
      "2873/6706 [===========>..................] - ETA: 12s - loss: 0.0054 - accuracy: 0.7917"
     ]
    },
    {
     "name": "stderr",
     "output_type": "stream",
     "text": [
      "[codecarbon INFO @ 19:38:11] Energy consumed for RAM : 0.005046 kWh. RAM Power : 11.759872913360596 W\n",
      "[codecarbon INFO @ 19:38:11] Energy consumed for all CPUs : 0.018237 kWh. All CPUs Power : 42.5 W\n",
      "[codecarbon INFO @ 19:38:11] 0.023283 kWh of electricity used since the begining.\n"
     ]
    },
    {
     "name": "stdout",
     "output_type": "stream",
     "text": [
      "6706/6706 [==============================] - 24s 4ms/step - loss: 0.0054 - accuracy: 0.7881 - val_loss: 0.0025 - val_accuracy: 0.8695\n",
      "Epoch 66/100\n",
      " 320/6706 [>.............................] - ETA: 21s - loss: 0.0054 - accuracy: 0.7785"
     ]
    },
    {
     "name": "stderr",
     "output_type": "stream",
     "text": [
      "[codecarbon INFO @ 19:38:26] Energy consumed for RAM : 0.005095 kWh. RAM Power : 11.759872913360596 W\n",
      "[codecarbon INFO @ 19:38:26] Energy consumed for all CPUs : 0.018414 kWh. All CPUs Power : 42.5 W\n",
      "[codecarbon INFO @ 19:38:26] 0.023509 kWh of electricity used since the begining.\n"
     ]
    },
    {
     "name": "stdout",
     "output_type": "stream",
     "text": [
      "4740/6706 [====================>.........] - ETA: 6s - loss: 0.0054 - accuracy: 0.7787"
     ]
    },
    {
     "name": "stderr",
     "output_type": "stream",
     "text": [
      "[codecarbon INFO @ 19:38:41] Energy consumed for RAM : 0.005144 kWh. RAM Power : 11.759872913360596 W\n",
      "[codecarbon INFO @ 19:38:41] Energy consumed for all CPUs : 0.018591 kWh. All CPUs Power : 42.5 W\n",
      "[codecarbon INFO @ 19:38:41] 0.023735 kWh of electricity used since the begining.\n"
     ]
    },
    {
     "name": "stdout",
     "output_type": "stream",
     "text": [
      "6706/6706 [==============================] - 24s 4ms/step - loss: 0.0054 - accuracy: 0.7780 - val_loss: 0.0025 - val_accuracy: 0.8689\n",
      "Epoch 67/100\n",
      "2113/6706 [========>.....................] - ETA: 15s - loss: 0.0054 - accuracy: 0.7855"
     ]
    },
    {
     "name": "stderr",
     "output_type": "stream",
     "text": [
      "[codecarbon INFO @ 19:38:56] Energy consumed for RAM : 0.005192 kWh. RAM Power : 11.759872913360596 W\n",
      "[codecarbon INFO @ 19:38:56] Energy consumed for all CPUs : 0.018768 kWh. All CPUs Power : 42.5 W\n"
     ]
    },
    {
     "name": "stdout",
     "output_type": "stream",
     "text": [
      "\b\b\b\b\b\b\b\b\b\b\b\b\b\b\b\b\b\b\b\b\b\b\b\b\b\b\b\b\b\b\b\b\b\b\b\b\b\b\b\b\b\b\b\b\b\b\b\b\b\b\b\b\b\b\b\b\b\b\b\b\b\b\b\b\b\b\b\b\b\b\b\b\b\b\b\b\b\b\b\b\b\b\b\b\b\b\b\r",
      "2129/6706 [========>.....................] - ETA: 15s - loss: 0.0054 - accuracy: 0.7856"
     ]
    },
    {
     "name": "stderr",
     "output_type": "stream",
     "text": [
      "[codecarbon INFO @ 19:38:56] 0.023961 kWh of electricity used since the begining.\n"
     ]
    },
    {
     "name": "stdout",
     "output_type": "stream",
     "text": [
      "6531/6706 [============================>.] - ETA: 0s - loss: 0.0054 - accuracy: 0.7865"
     ]
    },
    {
     "name": "stderr",
     "output_type": "stream",
     "text": [
      "[codecarbon INFO @ 19:39:11] Energy consumed for RAM : 0.005241 kWh. RAM Power : 11.759872913360596 W\n",
      "[codecarbon INFO @ 19:39:11] Energy consumed for all CPUs : 0.018945 kWh. All CPUs Power : 42.5 W\n",
      "[codecarbon INFO @ 19:39:11] 0.024187 kWh of electricity used since the begining.\n"
     ]
    },
    {
     "name": "stdout",
     "output_type": "stream",
     "text": [
      "6706/6706 [==============================] - 24s 4ms/step - loss: 0.0054 - accuracy: 0.7861 - val_loss: 0.0025 - val_accuracy: 0.8679\n",
      "Epoch 68/100\n",
      "3875/6706 [================>.............] - ETA: 9s - loss: 0.0054 - accuracy: 0.7776"
     ]
    },
    {
     "name": "stderr",
     "output_type": "stream",
     "text": [
      "[codecarbon INFO @ 19:39:26] Energy consumed for RAM : 0.005290 kWh. RAM Power : 11.759872913360596 W\n",
      "[codecarbon INFO @ 19:39:26] Energy consumed for all CPUs : 0.019122 kWh. All CPUs Power : 42.5 W\n",
      "[codecarbon INFO @ 19:39:26] 0.024413 kWh of electricity used since the begining.\n"
     ]
    },
    {
     "name": "stdout",
     "output_type": "stream",
     "text": [
      "6706/6706 [==============================] - 24s 4ms/step - loss: 0.0054 - accuracy: 0.7778 - val_loss: 0.0025 - val_accuracy: 0.8692\n",
      "Epoch 69/100\n",
      "1240/6706 [====>.........................] - ETA: 19s - loss: 0.0054 - accuracy: 0.7784"
     ]
    },
    {
     "name": "stderr",
     "output_type": "stream",
     "text": [
      "[codecarbon INFO @ 19:39:41] Energy consumed for RAM : 0.005339 kWh. RAM Power : 11.759872913360596 W\n",
      "[codecarbon INFO @ 19:39:41] Energy consumed for all CPUs : 0.019300 kWh. All CPUs Power : 42.5 W\n",
      "[codecarbon INFO @ 19:39:41] 0.024639 kWh of electricity used since the begining.\n"
     ]
    },
    {
     "name": "stdout",
     "output_type": "stream",
     "text": [
      "5673/6706 [========================>.....] - ETA: 3s - loss: 0.0054 - accuracy: 0.7810"
     ]
    },
    {
     "name": "stderr",
     "output_type": "stream",
     "text": [
      "[codecarbon INFO @ 19:39:56] Energy consumed for RAM : 0.005388 kWh. RAM Power : 11.759872913360596 W\n",
      "[codecarbon INFO @ 19:39:56] Energy consumed for all CPUs : 0.019477 kWh. All CPUs Power : 42.5 W\n",
      "[codecarbon INFO @ 19:39:56] 0.024865 kWh of electricity used since the begining.\n"
     ]
    },
    {
     "name": "stdout",
     "output_type": "stream",
     "text": [
      "6706/6706 [==============================] - 24s 4ms/step - loss: 0.0054 - accuracy: 0.7797 - val_loss: 0.0025 - val_accuracy: 0.8683\n",
      "Epoch 70/100\n",
      "3141/6706 [=============>................] - ETA: 11s - loss: 0.0054 - accuracy: 0.7782"
     ]
    },
    {
     "name": "stderr",
     "output_type": "stream",
     "text": [
      "[codecarbon INFO @ 19:40:11] Energy consumed for RAM : 0.005437 kWh. RAM Power : 11.759872913360596 W\n",
      "[codecarbon INFO @ 19:40:11] Energy consumed for all CPUs : 0.019654 kWh. All CPUs Power : 42.5 W\n",
      "[codecarbon INFO @ 19:40:11] 0.025091 kWh of electricity used since the begining.\n"
     ]
    },
    {
     "name": "stdout",
     "output_type": "stream",
     "text": [
      "6706/6706 [==============================] - 24s 4ms/step - loss: 0.0054 - accuracy: 0.7746 - val_loss: 0.0025 - val_accuracy: 0.8688\n",
      "Training time: 27.73 minutes\n"
     ]
    }
   ],
   "source": [
    "# Train model\n",
    "start_time = time.time()\n",
    "\n",
    "trained_model_autoencoder_ = autoencoder_.fit(\n",
    "    train, train,\n",
    "    epochs=100,\n",
    "    validation_data=(val, val),\n",
    "    callbacks=[early_stop, model_checkpoint_autoencoder],\n",
    "    verbose=1)\n",
    "\n",
    "end_time = time.time()\n",
    "print('Training time: ' + str(round((end_time-start_time)/60,2)) + \" minutes\")"
   ]
  },
  {
   "cell_type": "markdown",
   "id": "a703ee07",
   "metadata": {},
   "source": [
    "6706/6706 [==============================] - 24s 4ms/step - loss: 0.0054 - accuracy: 0.7746 - val_loss: 0.0025 - val_accuracy: 0.8688\n",
    "Training time: 27.73 minutes"
   ]
  },
  {
   "cell_type": "code",
   "execution_count": 16,
   "id": "56a39354",
   "metadata": {},
   "outputs": [],
   "source": [
    "def plot_prediction(mfit, hide_plot=None):\n",
    "     \"\"\"\n",
    "    Plots the training loss and accuracy curves.\n",
    "\n",
    "    Parameters:\n",
    "        mfit (keras.callbacks.History): The History object obtained from model training.\n",
    "        hide_plot (bool, optional): Specifies whether to hide the plot or display it. Defaults to None.\n",
    "\n",
    "    \"\"\"\n",
    "    plt.style.use(\"ggplot\")\n",
    "    fig, (ax1, ax2) = plt.subplots(1, 2, figsize=(18,6))\n",
    "    fig.suptitle('Training Loss and Accuracy')\n",
    "    \n",
    "    if hide_plot != 'loss':\n",
    "        ax1.plot(mfit.history[\"loss\"], label=\"train_loss\")\n",
    "        ax1.plot(mfit.history[\"val_loss\"], label=\"val_loss\")\n",
    "        ax1.set_title(\"Loss\")\n",
    "        ax1.set_xlabel(\"epoch\")\n",
    "        ax1.set_ylabel(\"loss\")\n",
    "        ax1.legend(loc=\"lower left\")\n",
    "    else:\n",
    "        ax1.set_visible(False)\n",
    "        ax1.axis('off')\n",
    "        fig.suptitle('Training Accuracy')\n",
    "        fig.set_size_inches(18,6)\n",
    "    \n",
    "    if hide_plot != 'accuracy':\n",
    "        ax2.plot(mfit.history[\"accuracy\"], label=\"train_accuracy\")\n",
    "        ax2.plot(mfit.history[\"val_accuracy\"], label=\"val_accuracy\")\n",
    "        ax2.set_title(\"Accuracy\")\n",
    "        ax2.set_xlabel(\"epoch\")\n",
    "        ax2.set_ylabel(\"accuracy\")\n",
    "        ax2.legend(loc=\"lower left\")\n",
    "    else:\n",
    "        ax2.set_visible(False)\n",
    "        ax2.axis('off')\n",
    "        fig.suptitle('Training Loss')\n",
    "        fig.set_size_inches(18,6)\n",
    "    \n",
    "    plt.show()"
   ]
  },
  {
   "cell_type": "code",
   "execution_count": 17,
   "id": "a14a5519",
   "metadata": {
    "scrolled": true
   },
   "outputs": [
    {
     "data": {
      "image/png": "[encoded data removed]",
      "text/plain": [
       "<Figure size 1296x432 with 2 Axes>"
      ]
     },
     "metadata": {},
     "output_type": "display_data"
    }
   ],
   "source": [
    "plot_prediction(trained_model_autoencoder_)"
   ]
  },
  {
   "cell_type": "code",
   "execution_count": 18,
   "id": "c6b04ec4",
   "metadata": {
    "scrolled": true
   },
   "outputs": [
    {
     "data": {
      "image/svg+xml": [
       "<svg xmlns=\"http://www.w3.org/2000/svg\" xmlns:xlink=\"http://www.w3.org/1999/xlink\" width=\"675pt\" height=\"2951pt\" viewBox=\"0.00 0.00 506.00 2213.00\">\n",
       "<g id=\"graph0\" class=\"graph\" transform=\"scale(0.75 0.75) rotate(0) translate(4 2209)\">\n",
       "<title>G</title>\n",
       "<polygon fill=\"white\" stroke=\"transparent\" points=\"-4,4 -4,-2209 502,-2209 502,4 -4,4\"/>\n",
       "<!-- 140094431968944 -->\n",
       "<g id=\"node1\" class=\"node\">\n",
       "<title>140094431968944</title>\n",
       "<polygon fill=\"none\" stroke=\"black\" points=\"85,-2158.5 85,-2204.5 413,-2204.5 413,-2158.5 85,-2158.5\"/>\n",
       "<text text-anchor=\"middle\" x=\"164\" y=\"-2177.8\" font-family=\"Times,serif\" font-size=\"14.00\">input_1: InputLayer</text>\n",
       "<polyline fill=\"none\" stroke=\"black\" points=\"243,-2158.5 243,-2204.5 \"/>\n",
       "<text text-anchor=\"middle\" x=\"277\" y=\"-2189.3\" font-family=\"Times,serif\" font-size=\"14.00\">input:</text>\n",
       "<polyline fill=\"none\" stroke=\"black\" points=\"243,-2181.5 311,-2181.5 \"/>\n",
       "<text text-anchor=\"middle\" x=\"277\" y=\"-2166.3\" font-family=\"Times,serif\" font-size=\"14.00\">output:</text>\n",
       "<polyline fill=\"none\" stroke=\"black\" points=\"311,-2158.5 311,-2204.5 \"/>\n",
       "<text text-anchor=\"middle\" x=\"362\" y=\"-2189.3\" font-family=\"Times,serif\" font-size=\"14.00\">[(None, 23)]</text>\n",
       "<polyline fill=\"none\" stroke=\"black\" points=\"311,-2181.5 413,-2181.5 \"/>\n",
       "<text text-anchor=\"middle\" x=\"362\" y=\"-2166.3\" font-family=\"Times,serif\" font-size=\"14.00\">[(None, 23)]</text>\n",
       "</g>\n",
       "<!-- 140094431968848 -->\n",
       "<g id=\"node2\" class=\"node\">\n",
       "<title>140094431968848</title>\n",
       "<polygon fill=\"none\" stroke=\"black\" points=\"108.5,-2075.5 108.5,-2121.5 389.5,-2121.5 389.5,-2075.5 108.5,-2075.5\"/>\n",
       "<text text-anchor=\"middle\" x=\"164.5\" y=\"-2094.8\" font-family=\"Times,serif\" font-size=\"14.00\">dense: Dense</text>\n",
       "<polyline fill=\"none\" stroke=\"black\" points=\"220.5,-2075.5 220.5,-2121.5 \"/>\n",
       "<text text-anchor=\"middle\" x=\"254.5\" y=\"-2106.3\" font-family=\"Times,serif\" font-size=\"14.00\">input:</text>\n",
       "<polyline fill=\"none\" stroke=\"black\" points=\"220.5,-2098.5 288.5,-2098.5 \"/>\n",
       "<text text-anchor=\"middle\" x=\"254.5\" y=\"-2083.3\" font-family=\"Times,serif\" font-size=\"14.00\">output:</text>\n",
       "<polyline fill=\"none\" stroke=\"black\" points=\"288.5,-2075.5 288.5,-2121.5 \"/>\n",
       "<text text-anchor=\"middle\" x=\"339\" y=\"-2106.3\" font-family=\"Times,serif\" font-size=\"14.00\">(None, 23)</text>\n",
       "<polyline fill=\"none\" stroke=\"black\" points=\"288.5,-2098.5 389.5,-2098.5 \"/>\n",
       "<text text-anchor=\"middle\" x=\"339\" y=\"-2083.3\" font-family=\"Times,serif\" font-size=\"14.00\">(None, 128)</text>\n",
       "</g>\n",
       "<!-- 140094431968944&#45;&gt;140094431968848 -->\n",
       "<g id=\"edge1\" class=\"edge\">\n",
       "<title>140094431968944-&gt;140094431968848</title>\n",
       "<path fill=\"none\" stroke=\"black\" d=\"M249,-2158.37C249,-2150.15 249,-2140.66 249,-2131.73\"/>\n",
       "<polygon fill=\"black\" stroke=\"black\" points=\"252.5,-2131.61 249,-2121.61 245.5,-2131.61 252.5,-2131.61\"/>\n",
       "</g>\n",
       "<!-- 140094432018384 -->\n",
       "<g id=\"node3\" class=\"node\">\n",
       "<title>140094432018384</title>\n",
       "<polygon fill=\"none\" stroke=\"black\" points=\"8,-1992.5 8,-2038.5 490,-2038.5 490,-1992.5 8,-1992.5\"/>\n",
       "<text text-anchor=\"middle\" x=\"164.5\" y=\"-2011.8\" font-family=\"Times,serif\" font-size=\"14.00\">batch_normalization: BatchNormalization</text>\n",
       "<polyline fill=\"none\" stroke=\"black\" points=\"321,-1992.5 321,-2038.5 \"/>\n",
       "<text text-anchor=\"middle\" x=\"355\" y=\"-2023.3\" font-family=\"Times,serif\" font-size=\"14.00\">input:</text>\n",
       "<polyline fill=\"none\" stroke=\"black\" points=\"321,-2015.5 389,-2015.5 \"/>\n",
       "<text text-anchor=\"middle\" x=\"355\" y=\"-2000.3\" font-family=\"Times,serif\" font-size=\"14.00\">output:</text>\n",
       "<polyline fill=\"none\" stroke=\"black\" points=\"389,-1992.5 389,-2038.5 \"/>\n",
       "<text text-anchor=\"middle\" x=\"439.5\" y=\"-2023.3\" font-family=\"Times,serif\" font-size=\"14.00\">(None, 128)</text>\n",
       "<polyline fill=\"none\" stroke=\"black\" points=\"389,-2015.5 490,-2015.5 \"/>\n",
       "<text text-anchor=\"middle\" x=\"439.5\" y=\"-2000.3\" font-family=\"Times,serif\" font-size=\"14.00\">(None, 128)</text>\n",
       "</g>\n",
       "<!-- 140094431968848&#45;&gt;140094432018384 -->\n",
       "<g id=\"edge2\" class=\"edge\">\n",
       "<title>140094431968848-&gt;140094432018384</title>\n",
       "<path fill=\"none\" stroke=\"black\" d=\"M249,-2075.37C249,-2067.15 249,-2057.66 249,-2048.73\"/>\n",
       "<polygon fill=\"black\" stroke=\"black\" points=\"252.5,-2048.61 249,-2038.61 245.5,-2048.61 252.5,-2048.61\"/>\n",
       "</g>\n",
       "<!-- 140094431696064 -->\n",
       "<g id=\"node4\" class=\"node\">\n",
       "<title>140094431696064</title>\n",
       "<polygon fill=\"none\" stroke=\"black\" points=\"71.5,-1909.5 71.5,-1955.5 426.5,-1955.5 426.5,-1909.5 71.5,-1909.5\"/>\n",
       "<text text-anchor=\"middle\" x=\"164.5\" y=\"-1928.8\" font-family=\"Times,serif\" font-size=\"14.00\">leaky_re_lu: LeakyReLU</text>\n",
       "<polyline fill=\"none\" stroke=\"black\" points=\"257.5,-1909.5 257.5,-1955.5 \"/>\n",
       "<text text-anchor=\"middle\" x=\"291.5\" y=\"-1940.3\" font-family=\"Times,serif\" font-size=\"14.00\">input:</text>\n",
       "<polyline fill=\"none\" stroke=\"black\" points=\"257.5,-1932.5 325.5,-1932.5 \"/>\n",
       "<text text-anchor=\"middle\" x=\"291.5\" y=\"-1917.3\" font-family=\"Times,serif\" font-size=\"14.00\">output:</text>\n",
       "<polyline fill=\"none\" stroke=\"black\" points=\"325.5,-1909.5 325.5,-1955.5 \"/>\n",
       "<text text-anchor=\"middle\" x=\"376\" y=\"-1940.3\" font-family=\"Times,serif\" font-size=\"14.00\">(None, 128)</text>\n",
       "<polyline fill=\"none\" stroke=\"black\" points=\"325.5,-1932.5 426.5,-1932.5 \"/>\n",
       "<text text-anchor=\"middle\" x=\"376\" y=\"-1917.3\" font-family=\"Times,serif\" font-size=\"14.00\">(None, 128)</text>\n",
       "</g>\n",
       "<!-- 140094432018384&#45;&gt;140094431696064 -->\n",
       "<g id=\"edge3\" class=\"edge\">\n",
       "<title>140094432018384-&gt;140094431696064</title>\n",
       "<path fill=\"none\" stroke=\"black\" d=\"M249,-1992.37C249,-1984.15 249,-1974.66 249,-1965.73\"/>\n",
       "<polygon fill=\"black\" stroke=\"black\" points=\"252.5,-1965.61 249,-1955.61 245.5,-1965.61 252.5,-1965.61\"/>\n",
       "</g>\n",
       "<!-- 140094431158528 -->\n",
       "<g id=\"node5\" class=\"node\">\n",
       "<title>140094431158528</title>\n",
       "<polygon fill=\"none\" stroke=\"black\" points=\"94.5,-1826.5 94.5,-1872.5 403.5,-1872.5 403.5,-1826.5 94.5,-1826.5\"/>\n",
       "<text text-anchor=\"middle\" x=\"164.5\" y=\"-1845.8\" font-family=\"Times,serif\" font-size=\"14.00\">dropout: Dropout</text>\n",
       "<polyline fill=\"none\" stroke=\"black\" points=\"234.5,-1826.5 234.5,-1872.5 \"/>\n",
       "<text text-anchor=\"middle\" x=\"268.5\" y=\"-1857.3\" font-family=\"Times,serif\" font-size=\"14.00\">input:</text>\n",
       "<polyline fill=\"none\" stroke=\"black\" points=\"234.5,-1849.5 302.5,-1849.5 \"/>\n",
       "<text text-anchor=\"middle\" x=\"268.5\" y=\"-1834.3\" font-family=\"Times,serif\" font-size=\"14.00\">output:</text>\n",
       "<polyline fill=\"none\" stroke=\"black\" points=\"302.5,-1826.5 302.5,-1872.5 \"/>\n",
       "<text text-anchor=\"middle\" x=\"353\" y=\"-1857.3\" font-family=\"Times,serif\" font-size=\"14.00\">(None, 128)</text>\n",
       "<polyline fill=\"none\" stroke=\"black\" points=\"302.5,-1849.5 403.5,-1849.5 \"/>\n",
       "<text text-anchor=\"middle\" x=\"353\" y=\"-1834.3\" font-family=\"Times,serif\" font-size=\"14.00\">(None, 128)</text>\n",
       "</g>\n",
       "<!-- 140094431696064&#45;&gt;140094431158528 -->\n",
       "<g id=\"edge4\" class=\"edge\">\n",
       "<title>140094431696064-&gt;140094431158528</title>\n",
       "<path fill=\"none\" stroke=\"black\" d=\"M249,-1909.37C249,-1901.15 249,-1891.66 249,-1882.73\"/>\n",
       "<polygon fill=\"black\" stroke=\"black\" points=\"252.5,-1882.61 249,-1872.61 245.5,-1882.61 252.5,-1882.61\"/>\n",
       "</g>\n",
       "<!-- 140094430917920 -->\n",
       "<g id=\"node6\" class=\"node\">\n",
       "<title>140094430917920</title>\n",
       "<polygon fill=\"none\" stroke=\"black\" points=\"100.5,-1743.5 100.5,-1789.5 397.5,-1789.5 397.5,-1743.5 100.5,-1743.5\"/>\n",
       "<text text-anchor=\"middle\" x=\"164.5\" y=\"-1762.8\" font-family=\"Times,serif\" font-size=\"14.00\">dense_1: Dense</text>\n",
       "<polyline fill=\"none\" stroke=\"black\" points=\"228.5,-1743.5 228.5,-1789.5 \"/>\n",
       "<text text-anchor=\"middle\" x=\"262.5\" y=\"-1774.3\" font-family=\"Times,serif\" font-size=\"14.00\">input:</text>\n",
       "<polyline fill=\"none\" stroke=\"black\" points=\"228.5,-1766.5 296.5,-1766.5 \"/>\n",
       "<text text-anchor=\"middle\" x=\"262.5\" y=\"-1751.3\" font-family=\"Times,serif\" font-size=\"14.00\">output:</text>\n",
       "<polyline fill=\"none\" stroke=\"black\" points=\"296.5,-1743.5 296.5,-1789.5 \"/>\n",
       "<text text-anchor=\"middle\" x=\"347\" y=\"-1774.3\" font-family=\"Times,serif\" font-size=\"14.00\">(None, 128)</text>\n",
       "<polyline fill=\"none\" stroke=\"black\" points=\"296.5,-1766.5 397.5,-1766.5 \"/>\n",
       "<text text-anchor=\"middle\" x=\"347\" y=\"-1751.3\" font-family=\"Times,serif\" font-size=\"14.00\">(None, 64)</text>\n",
       "</g>\n",
       "<!-- 140094431158528&#45;&gt;140094430917920 -->\n",
       "<g id=\"edge5\" class=\"edge\">\n",
       "<title>140094431158528-&gt;140094430917920</title>\n",
       "<path fill=\"none\" stroke=\"black\" d=\"M249,-1826.37C249,-1818.15 249,-1808.66 249,-1799.73\"/>\n",
       "<polygon fill=\"black\" stroke=\"black\" points=\"252.5,-1799.61 249,-1789.61 245.5,-1799.61 252.5,-1799.61\"/>\n",
       "</g>\n",
       "<!-- 140094430917968 -->\n",
       "<g id=\"node7\" class=\"node\">\n",
       "<title>140094430917968</title>\n",
       "<polygon fill=\"none\" stroke=\"black\" points=\"4.5,-1660.5 4.5,-1706.5 493.5,-1706.5 493.5,-1660.5 4.5,-1660.5\"/>\n",
       "<text text-anchor=\"middle\" x=\"169\" y=\"-1679.8\" font-family=\"Times,serif\" font-size=\"14.00\">batch_normalization_1: BatchNormalization</text>\n",
       "<polyline fill=\"none\" stroke=\"black\" points=\"333.5,-1660.5 333.5,-1706.5 \"/>\n",
       "<text text-anchor=\"middle\" x=\"367.5\" y=\"-1691.3\" font-family=\"Times,serif\" font-size=\"14.00\">input:</text>\n",
       "<polyline fill=\"none\" stroke=\"black\" points=\"333.5,-1683.5 401.5,-1683.5 \"/>\n",
       "<text text-anchor=\"middle\" x=\"367.5\" y=\"-1668.3\" font-family=\"Times,serif\" font-size=\"14.00\">output:</text>\n",
       "<polyline fill=\"none\" stroke=\"black\" points=\"401.5,-1660.5 401.5,-1706.5 \"/>\n",
       "<text text-anchor=\"middle\" x=\"447.5\" y=\"-1691.3\" font-family=\"Times,serif\" font-size=\"14.00\">(None, 64)</text>\n",
       "<polyline fill=\"none\" stroke=\"black\" points=\"401.5,-1683.5 493.5,-1683.5 \"/>\n",
       "<text text-anchor=\"middle\" x=\"447.5\" y=\"-1668.3\" font-family=\"Times,serif\" font-size=\"14.00\">(None, 64)</text>\n",
       "</g>\n",
       "<!-- 140094430917920&#45;&gt;140094430917968 -->\n",
       "<g id=\"edge6\" class=\"edge\">\n",
       "<title>140094430917920-&gt;140094430917968</title>\n",
       "<path fill=\"none\" stroke=\"black\" d=\"M249,-1743.37C249,-1735.15 249,-1725.66 249,-1716.73\"/>\n",
       "<polygon fill=\"black\" stroke=\"black\" points=\"252.5,-1716.61 249,-1706.61 245.5,-1716.61 252.5,-1716.61\"/>\n",
       "</g>\n",
       "<!-- 140094430496512 -->\n",
       "<g id=\"node8\" class=\"node\">\n",
       "<title>140094430496512</title>\n",
       "<polygon fill=\"none\" stroke=\"black\" points=\"68,-1577.5 68,-1623.5 430,-1623.5 430,-1577.5 68,-1577.5\"/>\n",
       "<text text-anchor=\"middle\" x=\"169\" y=\"-1596.8\" font-family=\"Times,serif\" font-size=\"14.00\">leaky_re_lu_1: LeakyReLU</text>\n",
       "<polyline fill=\"none\" stroke=\"black\" points=\"270,-1577.5 270,-1623.5 \"/>\n",
       "<text text-anchor=\"middle\" x=\"304\" y=\"-1608.3\" font-family=\"Times,serif\" font-size=\"14.00\">input:</text>\n",
       "<polyline fill=\"none\" stroke=\"black\" points=\"270,-1600.5 338,-1600.5 \"/>\n",
       "<text text-anchor=\"middle\" x=\"304\" y=\"-1585.3\" font-family=\"Times,serif\" font-size=\"14.00\">output:</text>\n",
       "<polyline fill=\"none\" stroke=\"black\" points=\"338,-1577.5 338,-1623.5 \"/>\n",
       "<text text-anchor=\"middle\" x=\"384\" y=\"-1608.3\" font-family=\"Times,serif\" font-size=\"14.00\">(None, 64)</text>\n",
       "<polyline fill=\"none\" stroke=\"black\" points=\"338,-1600.5 430,-1600.5 \"/>\n",
       "<text text-anchor=\"middle\" x=\"384\" y=\"-1585.3\" font-family=\"Times,serif\" font-size=\"14.00\">(None, 64)</text>\n",
       "</g>\n",
       "<!-- 140094430917968&#45;&gt;140094430496512 -->\n",
       "<g id=\"edge7\" class=\"edge\">\n",
       "<title>140094430917968-&gt;140094430496512</title>\n",
       "<path fill=\"none\" stroke=\"black\" d=\"M249,-1660.37C249,-1652.15 249,-1642.66 249,-1633.73\"/>\n",
       "<polygon fill=\"black\" stroke=\"black\" points=\"252.5,-1633.61 249,-1623.61 245.5,-1633.61 252.5,-1633.61\"/>\n",
       "</g>\n",
       "<!-- 140094430496656 -->\n",
       "<g id=\"node9\" class=\"node\">\n",
       "<title>140094430496656</title>\n",
       "<polygon fill=\"none\" stroke=\"black\" points=\"91,-1494.5 91,-1540.5 407,-1540.5 407,-1494.5 91,-1494.5\"/>\n",
       "<text text-anchor=\"middle\" x=\"169\" y=\"-1513.8\" font-family=\"Times,serif\" font-size=\"14.00\">dropout_1: Dropout</text>\n",
       "<polyline fill=\"none\" stroke=\"black\" points=\"247,-1494.5 247,-1540.5 \"/>\n",
       "<text text-anchor=\"middle\" x=\"281\" y=\"-1525.3\" font-family=\"Times,serif\" font-size=\"14.00\">input:</text>\n",
       "<polyline fill=\"none\" stroke=\"black\" points=\"247,-1517.5 315,-1517.5 \"/>\n",
       "<text text-anchor=\"middle\" x=\"281\" y=\"-1502.3\" font-family=\"Times,serif\" font-size=\"14.00\">output:</text>\n",
       "<polyline fill=\"none\" stroke=\"black\" points=\"315,-1494.5 315,-1540.5 \"/>\n",
       "<text text-anchor=\"middle\" x=\"361\" y=\"-1525.3\" font-family=\"Times,serif\" font-size=\"14.00\">(None, 64)</text>\n",
       "<polyline fill=\"none\" stroke=\"black\" points=\"315,-1517.5 407,-1517.5 \"/>\n",
       "<text text-anchor=\"middle\" x=\"361\" y=\"-1502.3\" font-family=\"Times,serif\" font-size=\"14.00\">(None, 64)</text>\n",
       "</g>\n",
       "<!-- 140094430496512&#45;&gt;140094430496656 -->\n",
       "<g id=\"edge8\" class=\"edge\">\n",
       "<title>140094430496512-&gt;140094430496656</title>\n",
       "<path fill=\"none\" stroke=\"black\" d=\"M249,-1577.37C249,-1569.15 249,-1559.66 249,-1550.73\"/>\n",
       "<polygon fill=\"black\" stroke=\"black\" points=\"252.5,-1550.61 249,-1540.61 245.5,-1550.61 252.5,-1550.61\"/>\n",
       "</g>\n",
       "<!-- 140094430542672 -->\n",
       "<g id=\"node10\" class=\"node\">\n",
       "<title>140094430542672</title>\n",
       "<polygon fill=\"none\" stroke=\"black\" points=\"105,-1411.5 105,-1457.5 393,-1457.5 393,-1411.5 105,-1411.5\"/>\n",
       "<text text-anchor=\"middle\" x=\"169\" y=\"-1430.8\" font-family=\"Times,serif\" font-size=\"14.00\">dense_2: Dense</text>\n",
       "<polyline fill=\"none\" stroke=\"black\" points=\"233,-1411.5 233,-1457.5 \"/>\n",
       "<text text-anchor=\"middle\" x=\"267\" y=\"-1442.3\" font-family=\"Times,serif\" font-size=\"14.00\">input:</text>\n",
       "<polyline fill=\"none\" stroke=\"black\" points=\"233,-1434.5 301,-1434.5 \"/>\n",
       "<text text-anchor=\"middle\" x=\"267\" y=\"-1419.3\" font-family=\"Times,serif\" font-size=\"14.00\">output:</text>\n",
       "<polyline fill=\"none\" stroke=\"black\" points=\"301,-1411.5 301,-1457.5 \"/>\n",
       "<text text-anchor=\"middle\" x=\"347\" y=\"-1442.3\" font-family=\"Times,serif\" font-size=\"14.00\">(None, 64)</text>\n",
       "<polyline fill=\"none\" stroke=\"black\" points=\"301,-1434.5 393,-1434.5 \"/>\n",
       "<text text-anchor=\"middle\" x=\"347\" y=\"-1419.3\" font-family=\"Times,serif\" font-size=\"14.00\">(None, 32)</text>\n",
       "</g>\n",
       "<!-- 140094430496656&#45;&gt;140094430542672 -->\n",
       "<g id=\"edge9\" class=\"edge\">\n",
       "<title>140094430496656-&gt;140094430542672</title>\n",
       "<path fill=\"none\" stroke=\"black\" d=\"M249,-1494.37C249,-1486.15 249,-1476.66 249,-1467.73\"/>\n",
       "<polygon fill=\"black\" stroke=\"black\" points=\"252.5,-1467.61 249,-1457.61 245.5,-1467.61 252.5,-1467.61\"/>\n",
       "</g>\n",
       "<!-- 140094430609568 -->\n",
       "<g id=\"node11\" class=\"node\">\n",
       "<title>140094430609568</title>\n",
       "<polygon fill=\"none\" stroke=\"black\" points=\"4.5,-1328.5 4.5,-1374.5 493.5,-1374.5 493.5,-1328.5 4.5,-1328.5\"/>\n",
       "<text text-anchor=\"middle\" x=\"169\" y=\"-1347.8\" font-family=\"Times,serif\" font-size=\"14.00\">batch_normalization_2: BatchNormalization</text>\n",
       "<polyline fill=\"none\" stroke=\"black\" points=\"333.5,-1328.5 333.5,-1374.5 \"/>\n",
       "<text text-anchor=\"middle\" x=\"367.5\" y=\"-1359.3\" font-family=\"Times,serif\" font-size=\"14.00\">input:</text>\n",
       "<polyline fill=\"none\" stroke=\"black\" points=\"333.5,-1351.5 401.5,-1351.5 \"/>\n",
       "<text text-anchor=\"middle\" x=\"367.5\" y=\"-1336.3\" font-family=\"Times,serif\" font-size=\"14.00\">output:</text>\n",
       "<polyline fill=\"none\" stroke=\"black\" points=\"401.5,-1328.5 401.5,-1374.5 \"/>\n",
       "<text text-anchor=\"middle\" x=\"447.5\" y=\"-1359.3\" font-family=\"Times,serif\" font-size=\"14.00\">(None, 32)</text>\n",
       "<polyline fill=\"none\" stroke=\"black\" points=\"401.5,-1351.5 493.5,-1351.5 \"/>\n",
       "<text text-anchor=\"middle\" x=\"447.5\" y=\"-1336.3\" font-family=\"Times,serif\" font-size=\"14.00\">(None, 32)</text>\n",
       "</g>\n",
       "<!-- 140094430542672&#45;&gt;140094430609568 -->\n",
       "<g id=\"edge10\" class=\"edge\">\n",
       "<title>140094430542672-&gt;140094430609568</title>\n",
       "<path fill=\"none\" stroke=\"black\" d=\"M249,-1411.37C249,-1403.15 249,-1393.66 249,-1384.73\"/>\n",
       "<polygon fill=\"black\" stroke=\"black\" points=\"252.5,-1384.61 249,-1374.61 245.5,-1384.61 252.5,-1384.61\"/>\n",
       "</g>\n",
       "<!-- 140094430611344 -->\n",
       "<g id=\"node12\" class=\"node\">\n",
       "<title>140094430611344</title>\n",
       "<polygon fill=\"none\" stroke=\"black\" points=\"68,-1245.5 68,-1291.5 430,-1291.5 430,-1245.5 68,-1245.5\"/>\n",
       "<text text-anchor=\"middle\" x=\"169\" y=\"-1264.8\" font-family=\"Times,serif\" font-size=\"14.00\">leaky_re_lu_2: LeakyReLU</text>\n",
       "<polyline fill=\"none\" stroke=\"black\" points=\"270,-1245.5 270,-1291.5 \"/>\n",
       "<text text-anchor=\"middle\" x=\"304\" y=\"-1276.3\" font-family=\"Times,serif\" font-size=\"14.00\">input:</text>\n",
       "<polyline fill=\"none\" stroke=\"black\" points=\"270,-1268.5 338,-1268.5 \"/>\n",
       "<text text-anchor=\"middle\" x=\"304\" y=\"-1253.3\" font-family=\"Times,serif\" font-size=\"14.00\">output:</text>\n",
       "<polyline fill=\"none\" stroke=\"black\" points=\"338,-1245.5 338,-1291.5 \"/>\n",
       "<text text-anchor=\"middle\" x=\"384\" y=\"-1276.3\" font-family=\"Times,serif\" font-size=\"14.00\">(None, 32)</text>\n",
       "<polyline fill=\"none\" stroke=\"black\" points=\"338,-1268.5 430,-1268.5 \"/>\n",
       "<text text-anchor=\"middle\" x=\"384\" y=\"-1253.3\" font-family=\"Times,serif\" font-size=\"14.00\">(None, 32)</text>\n",
       "</g>\n",
       "<!-- 140094430609568&#45;&gt;140094430611344 -->\n",
       "<g id=\"edge11\" class=\"edge\">\n",
       "<title>140094430609568-&gt;140094430611344</title>\n",
       "<path fill=\"none\" stroke=\"black\" d=\"M249,-1328.37C249,-1320.15 249,-1310.66 249,-1301.73\"/>\n",
       "<polygon fill=\"black\" stroke=\"black\" points=\"252.5,-1301.61 249,-1291.61 245.5,-1301.61 252.5,-1301.61\"/>\n",
       "</g>\n",
       "<!-- 140094430495600 -->\n",
       "<g id=\"node13\" class=\"node\">\n",
       "<title>140094430495600</title>\n",
       "<polygon fill=\"none\" stroke=\"black\" points=\"91,-1162.5 91,-1208.5 407,-1208.5 407,-1162.5 91,-1162.5\"/>\n",
       "<text text-anchor=\"middle\" x=\"169\" y=\"-1181.8\" font-family=\"Times,serif\" font-size=\"14.00\">dropout_2: Dropout</text>\n",
       "<polyline fill=\"none\" stroke=\"black\" points=\"247,-1162.5 247,-1208.5 \"/>\n",
       "<text text-anchor=\"middle\" x=\"281\" y=\"-1193.3\" font-family=\"Times,serif\" font-size=\"14.00\">input:</text>\n",
       "<polyline fill=\"none\" stroke=\"black\" points=\"247,-1185.5 315,-1185.5 \"/>\n",
       "<text text-anchor=\"middle\" x=\"281\" y=\"-1170.3\" font-family=\"Times,serif\" font-size=\"14.00\">output:</text>\n",
       "<polyline fill=\"none\" stroke=\"black\" points=\"315,-1162.5 315,-1208.5 \"/>\n",
       "<text text-anchor=\"middle\" x=\"361\" y=\"-1193.3\" font-family=\"Times,serif\" font-size=\"14.00\">(None, 32)</text>\n",
       "<polyline fill=\"none\" stroke=\"black\" points=\"315,-1185.5 407,-1185.5 \"/>\n",
       "<text text-anchor=\"middle\" x=\"361\" y=\"-1170.3\" font-family=\"Times,serif\" font-size=\"14.00\">(None, 32)</text>\n",
       "</g>\n",
       "<!-- 140094430611344&#45;&gt;140094430495600 -->\n",
       "<g id=\"edge12\" class=\"edge\">\n",
       "<title>140094430611344-&gt;140094430495600</title>\n",
       "<path fill=\"none\" stroke=\"black\" d=\"M249,-1245.37C249,-1237.15 249,-1227.66 249,-1218.73\"/>\n",
       "<polygon fill=\"black\" stroke=\"black\" points=\"252.5,-1218.61 249,-1208.61 245.5,-1218.61 252.5,-1218.61\"/>\n",
       "</g>\n",
       "<!-- 140094430574672 -->\n",
       "<g id=\"node14\" class=\"node\">\n",
       "<title>140094430574672</title>\n",
       "<polygon fill=\"none\" stroke=\"black\" points=\"105,-1079.5 105,-1125.5 393,-1125.5 393,-1079.5 105,-1079.5\"/>\n",
       "<text text-anchor=\"middle\" x=\"169\" y=\"-1098.8\" font-family=\"Times,serif\" font-size=\"14.00\">dense_3: Dense</text>\n",
       "<polyline fill=\"none\" stroke=\"black\" points=\"233,-1079.5 233,-1125.5 \"/>\n",
       "<text text-anchor=\"middle\" x=\"267\" y=\"-1110.3\" font-family=\"Times,serif\" font-size=\"14.00\">input:</text>\n",
       "<polyline fill=\"none\" stroke=\"black\" points=\"233,-1102.5 301,-1102.5 \"/>\n",
       "<text text-anchor=\"middle\" x=\"267\" y=\"-1087.3\" font-family=\"Times,serif\" font-size=\"14.00\">output:</text>\n",
       "<polyline fill=\"none\" stroke=\"black\" points=\"301,-1079.5 301,-1125.5 \"/>\n",
       "<text text-anchor=\"middle\" x=\"347\" y=\"-1110.3\" font-family=\"Times,serif\" font-size=\"14.00\">(None, 32)</text>\n",
       "<polyline fill=\"none\" stroke=\"black\" points=\"301,-1102.5 393,-1102.5 \"/>\n",
       "<text text-anchor=\"middle\" x=\"347\" y=\"-1087.3\" font-family=\"Times,serif\" font-size=\"14.00\">(None, 16)</text>\n",
       "</g>\n",
       "<!-- 140094430495600&#45;&gt;140094430574672 -->\n",
       "<g id=\"edge13\" class=\"edge\">\n",
       "<title>140094430495600-&gt;140094430574672</title>\n",
       "<path fill=\"none\" stroke=\"black\" d=\"M249,-1162.37C249,-1154.15 249,-1144.66 249,-1135.73\"/>\n",
       "<polygon fill=\"black\" stroke=\"black\" points=\"252.5,-1135.61 249,-1125.61 245.5,-1135.61 252.5,-1135.61\"/>\n",
       "</g>\n",
       "<!-- 140094430543296 -->\n",
       "<g id=\"node15\" class=\"node\">\n",
       "<title>140094430543296</title>\n",
       "<polygon fill=\"none\" stroke=\"black\" points=\"105,-996.5 105,-1042.5 393,-1042.5 393,-996.5 105,-996.5\"/>\n",
       "<text text-anchor=\"middle\" x=\"169\" y=\"-1015.8\" font-family=\"Times,serif\" font-size=\"14.00\">dense_4: Dense</text>\n",
       "<polyline fill=\"none\" stroke=\"black\" points=\"233,-996.5 233,-1042.5 \"/>\n",
       "<text text-anchor=\"middle\" x=\"267\" y=\"-1027.3\" font-family=\"Times,serif\" font-size=\"14.00\">input:</text>\n",
       "<polyline fill=\"none\" stroke=\"black\" points=\"233,-1019.5 301,-1019.5 \"/>\n",
       "<text text-anchor=\"middle\" x=\"267\" y=\"-1004.3\" font-family=\"Times,serif\" font-size=\"14.00\">output:</text>\n",
       "<polyline fill=\"none\" stroke=\"black\" points=\"301,-996.5 301,-1042.5 \"/>\n",
       "<text text-anchor=\"middle\" x=\"347\" y=\"-1027.3\" font-family=\"Times,serif\" font-size=\"14.00\">(None, 16)</text>\n",
       "<polyline fill=\"none\" stroke=\"black\" points=\"301,-1019.5 393,-1019.5 \"/>\n",
       "<text text-anchor=\"middle\" x=\"347\" y=\"-1004.3\" font-family=\"Times,serif\" font-size=\"14.00\">(None, 32)</text>\n",
       "</g>\n",
       "<!-- 140094430574672&#45;&gt;140094430543296 -->\n",
       "<g id=\"edge14\" class=\"edge\">\n",
       "<title>140094430574672-&gt;140094430543296</title>\n",
       "<path fill=\"none\" stroke=\"black\" d=\"M249,-1079.37C249,-1071.15 249,-1061.66 249,-1052.73\"/>\n",
       "<polygon fill=\"black\" stroke=\"black\" points=\"252.5,-1052.61 249,-1042.61 245.5,-1052.61 252.5,-1052.61\"/>\n",
       "</g>\n",
       "<!-- 140094431697888 -->\n",
       "<g id=\"node16\" class=\"node\">\n",
       "<title>140094431697888</title>\n",
       "<polygon fill=\"none\" stroke=\"black\" points=\"4.5,-913.5 4.5,-959.5 493.5,-959.5 493.5,-913.5 4.5,-913.5\"/>\n",
       "<text text-anchor=\"middle\" x=\"169\" y=\"-932.8\" font-family=\"Times,serif\" font-size=\"14.00\">batch_normalization_3: BatchNormalization</text>\n",
       "<polyline fill=\"none\" stroke=\"black\" points=\"333.5,-913.5 333.5,-959.5 \"/>\n",
       "<text text-anchor=\"middle\" x=\"367.5\" y=\"-944.3\" font-family=\"Times,serif\" font-size=\"14.00\">input:</text>\n",
       "<polyline fill=\"none\" stroke=\"black\" points=\"333.5,-936.5 401.5,-936.5 \"/>\n",
       "<text text-anchor=\"middle\" x=\"367.5\" y=\"-921.3\" font-family=\"Times,serif\" font-size=\"14.00\">output:</text>\n",
       "<polyline fill=\"none\" stroke=\"black\" points=\"401.5,-913.5 401.5,-959.5 \"/>\n",
       "<text text-anchor=\"middle\" x=\"447.5\" y=\"-944.3\" font-family=\"Times,serif\" font-size=\"14.00\">(None, 32)</text>\n",
       "<polyline fill=\"none\" stroke=\"black\" points=\"401.5,-936.5 493.5,-936.5 \"/>\n",
       "<text text-anchor=\"middle\" x=\"447.5\" y=\"-921.3\" font-family=\"Times,serif\" font-size=\"14.00\">(None, 32)</text>\n",
       "</g>\n",
       "<!-- 140094430543296&#45;&gt;140094431697888 -->\n",
       "<g id=\"edge15\" class=\"edge\">\n",
       "<title>140094430543296-&gt;140094431697888</title>\n",
       "<path fill=\"none\" stroke=\"black\" d=\"M249,-996.37C249,-988.15 249,-978.66 249,-969.73\"/>\n",
       "<polygon fill=\"black\" stroke=\"black\" points=\"252.5,-969.61 249,-959.61 245.5,-969.61 252.5,-969.61\"/>\n",
       "</g>\n",
       "<!-- 140094430920224 -->\n",
       "<g id=\"node17\" class=\"node\">\n",
       "<title>140094430920224</title>\n",
       "<polygon fill=\"none\" stroke=\"black\" points=\"68,-830.5 68,-876.5 430,-876.5 430,-830.5 68,-830.5\"/>\n",
       "<text text-anchor=\"middle\" x=\"169\" y=\"-849.8\" font-family=\"Times,serif\" font-size=\"14.00\">leaky_re_lu_3: LeakyReLU</text>\n",
       "<polyline fill=\"none\" stroke=\"black\" points=\"270,-830.5 270,-876.5 \"/>\n",
       "<text text-anchor=\"middle\" x=\"304\" y=\"-861.3\" font-family=\"Times,serif\" font-size=\"14.00\">input:</text>\n",
       "<polyline fill=\"none\" stroke=\"black\" points=\"270,-853.5 338,-853.5 \"/>\n",
       "<text text-anchor=\"middle\" x=\"304\" y=\"-838.3\" font-family=\"Times,serif\" font-size=\"14.00\">output:</text>\n",
       "<polyline fill=\"none\" stroke=\"black\" points=\"338,-830.5 338,-876.5 \"/>\n",
       "<text text-anchor=\"middle\" x=\"384\" y=\"-861.3\" font-family=\"Times,serif\" font-size=\"14.00\">(None, 32)</text>\n",
       "<polyline fill=\"none\" stroke=\"black\" points=\"338,-853.5 430,-853.5 \"/>\n",
       "<text text-anchor=\"middle\" x=\"384\" y=\"-838.3\" font-family=\"Times,serif\" font-size=\"14.00\">(None, 32)</text>\n",
       "</g>\n",
       "<!-- 140094431697888&#45;&gt;140094430920224 -->\n",
       "<g id=\"edge16\" class=\"edge\">\n",
       "<title>140094431697888-&gt;140094430920224</title>\n",
       "<path fill=\"none\" stroke=\"black\" d=\"M249,-913.37C249,-905.15 249,-895.66 249,-886.73\"/>\n",
       "<polygon fill=\"black\" stroke=\"black\" points=\"252.5,-886.61 249,-876.61 245.5,-886.61 252.5,-886.61\"/>\n",
       "</g>\n",
       "<!-- 140094430647248 -->\n",
       "<g id=\"node18\" class=\"node\">\n",
       "<title>140094430647248</title>\n",
       "<polygon fill=\"none\" stroke=\"black\" points=\"91,-747.5 91,-793.5 407,-793.5 407,-747.5 91,-747.5\"/>\n",
       "<text text-anchor=\"middle\" x=\"169\" y=\"-766.8\" font-family=\"Times,serif\" font-size=\"14.00\">dropout_3: Dropout</text>\n",
       "<polyline fill=\"none\" stroke=\"black\" points=\"247,-747.5 247,-793.5 \"/>\n",
       "<text text-anchor=\"middle\" x=\"281\" y=\"-778.3\" font-family=\"Times,serif\" font-size=\"14.00\">input:</text>\n",
       "<polyline fill=\"none\" stroke=\"black\" points=\"247,-770.5 315,-770.5 \"/>\n",
       "<text text-anchor=\"middle\" x=\"281\" y=\"-755.3\" font-family=\"Times,serif\" font-size=\"14.00\">output:</text>\n",
       "<polyline fill=\"none\" stroke=\"black\" points=\"315,-747.5 315,-793.5 \"/>\n",
       "<text text-anchor=\"middle\" x=\"361\" y=\"-778.3\" font-family=\"Times,serif\" font-size=\"14.00\">(None, 32)</text>\n",
       "<polyline fill=\"none\" stroke=\"black\" points=\"315,-770.5 407,-770.5 \"/>\n",
       "<text text-anchor=\"middle\" x=\"361\" y=\"-755.3\" font-family=\"Times,serif\" font-size=\"14.00\">(None, 32)</text>\n",
       "</g>\n",
       "<!-- 140094430920224&#45;&gt;140094430647248 -->\n",
       "<g id=\"edge17\" class=\"edge\">\n",
       "<title>140094430920224-&gt;140094430647248</title>\n",
       "<path fill=\"none\" stroke=\"black\" d=\"M249,-830.37C249,-822.15 249,-812.66 249,-803.73\"/>\n",
       "<polygon fill=\"black\" stroke=\"black\" points=\"252.5,-803.61 249,-793.61 245.5,-803.61 252.5,-803.61\"/>\n",
       "</g>\n",
       "<!-- 140094430649744 -->\n",
       "<g id=\"node19\" class=\"node\">\n",
       "<title>140094430649744</title>\n",
       "<polygon fill=\"none\" stroke=\"black\" points=\"105,-664.5 105,-710.5 393,-710.5 393,-664.5 105,-664.5\"/>\n",
       "<text text-anchor=\"middle\" x=\"169\" y=\"-683.8\" font-family=\"Times,serif\" font-size=\"14.00\">dense_5: Dense</text>\n",
       "<polyline fill=\"none\" stroke=\"black\" points=\"233,-664.5 233,-710.5 \"/>\n",
       "<text text-anchor=\"middle\" x=\"267\" y=\"-695.3\" font-family=\"Times,serif\" font-size=\"14.00\">input:</text>\n",
       "<polyline fill=\"none\" stroke=\"black\" points=\"233,-687.5 301,-687.5 \"/>\n",
       "<text text-anchor=\"middle\" x=\"267\" y=\"-672.3\" font-family=\"Times,serif\" font-size=\"14.00\">output:</text>\n",
       "<polyline fill=\"none\" stroke=\"black\" points=\"301,-664.5 301,-710.5 \"/>\n",
       "<text text-anchor=\"middle\" x=\"347\" y=\"-695.3\" font-family=\"Times,serif\" font-size=\"14.00\">(None, 32)</text>\n",
       "<polyline fill=\"none\" stroke=\"black\" points=\"301,-687.5 393,-687.5 \"/>\n",
       "<text text-anchor=\"middle\" x=\"347\" y=\"-672.3\" font-family=\"Times,serif\" font-size=\"14.00\">(None, 64)</text>\n",
       "</g>\n",
       "<!-- 140094430647248&#45;&gt;140094430649744 -->\n",
       "<g id=\"edge18\" class=\"edge\">\n",
       "<title>140094430647248-&gt;140094430649744</title>\n",
       "<path fill=\"none\" stroke=\"black\" d=\"M249,-747.37C249,-739.15 249,-729.66 249,-720.73\"/>\n",
       "<polygon fill=\"black\" stroke=\"black\" points=\"252.5,-720.61 249,-710.61 245.5,-720.61 252.5,-720.61\"/>\n",
       "</g>\n",
       "<!-- 140094430632880 -->\n",
       "<g id=\"node20\" class=\"node\">\n",
       "<title>140094430632880</title>\n",
       "<polygon fill=\"none\" stroke=\"black\" points=\"4.5,-581.5 4.5,-627.5 493.5,-627.5 493.5,-581.5 4.5,-581.5\"/>\n",
       "<text text-anchor=\"middle\" x=\"169\" y=\"-600.8\" font-family=\"Times,serif\" font-size=\"14.00\">batch_normalization_4: BatchNormalization</text>\n",
       "<polyline fill=\"none\" stroke=\"black\" points=\"333.5,-581.5 333.5,-627.5 \"/>\n",
       "<text text-anchor=\"middle\" x=\"367.5\" y=\"-612.3\" font-family=\"Times,serif\" font-size=\"14.00\">input:</text>\n",
       "<polyline fill=\"none\" stroke=\"black\" points=\"333.5,-604.5 401.5,-604.5 \"/>\n",
       "<text text-anchor=\"middle\" x=\"367.5\" y=\"-589.3\" font-family=\"Times,serif\" font-size=\"14.00\">output:</text>\n",
       "<polyline fill=\"none\" stroke=\"black\" points=\"401.5,-581.5 401.5,-627.5 \"/>\n",
       "<text text-anchor=\"middle\" x=\"447.5\" y=\"-612.3\" font-family=\"Times,serif\" font-size=\"14.00\">(None, 64)</text>\n",
       "<polyline fill=\"none\" stroke=\"black\" points=\"401.5,-604.5 493.5,-604.5 \"/>\n",
       "<text text-anchor=\"middle\" x=\"447.5\" y=\"-589.3\" font-family=\"Times,serif\" font-size=\"14.00\">(None, 64)</text>\n",
       "</g>\n",
       "<!-- 140094430649744&#45;&gt;140094430632880 -->\n",
       "<g id=\"edge19\" class=\"edge\">\n",
       "<title>140094430649744-&gt;140094430632880</title>\n",
       "<path fill=\"none\" stroke=\"black\" d=\"M249,-664.37C249,-656.15 249,-646.66 249,-637.73\"/>\n",
       "<polygon fill=\"black\" stroke=\"black\" points=\"252.5,-637.61 249,-627.61 245.5,-637.61 252.5,-637.61\"/>\n",
       "</g>\n",
       "<!-- 140094430703728 -->\n",
       "<g id=\"node21\" class=\"node\">\n",
       "<title>140094430703728</title>\n",
       "<polygon fill=\"none\" stroke=\"black\" points=\"68,-498.5 68,-544.5 430,-544.5 430,-498.5 68,-498.5\"/>\n",
       "<text text-anchor=\"middle\" x=\"169\" y=\"-517.8\" font-family=\"Times,serif\" font-size=\"14.00\">leaky_re_lu_4: LeakyReLU</text>\n",
       "<polyline fill=\"none\" stroke=\"black\" points=\"270,-498.5 270,-544.5 \"/>\n",
       "<text text-anchor=\"middle\" x=\"304\" y=\"-529.3\" font-family=\"Times,serif\" font-size=\"14.00\">input:</text>\n",
       "<polyline fill=\"none\" stroke=\"black\" points=\"270,-521.5 338,-521.5 \"/>\n",
       "<text text-anchor=\"middle\" x=\"304\" y=\"-506.3\" font-family=\"Times,serif\" font-size=\"14.00\">output:</text>\n",
       "<polyline fill=\"none\" stroke=\"black\" points=\"338,-498.5 338,-544.5 \"/>\n",
       "<text text-anchor=\"middle\" x=\"384\" y=\"-529.3\" font-family=\"Times,serif\" font-size=\"14.00\">(None, 64)</text>\n",
       "<polyline fill=\"none\" stroke=\"black\" points=\"338,-521.5 430,-521.5 \"/>\n",
       "<text text-anchor=\"middle\" x=\"384\" y=\"-506.3\" font-family=\"Times,serif\" font-size=\"14.00\">(None, 64)</text>\n",
       "</g>\n",
       "<!-- 140094430632880&#45;&gt;140094430703728 -->\n",
       "<g id=\"edge20\" class=\"edge\">\n",
       "<title>140094430632880-&gt;140094430703728</title>\n",
       "<path fill=\"none\" stroke=\"black\" d=\"M249,-581.37C249,-573.15 249,-563.66 249,-554.73\"/>\n",
       "<polygon fill=\"black\" stroke=\"black\" points=\"252.5,-554.61 249,-544.61 245.5,-554.61 252.5,-554.61\"/>\n",
       "</g>\n",
       "<!-- 140094430704544 -->\n",
       "<g id=\"node22\" class=\"node\">\n",
       "<title>140094430704544</title>\n",
       "<polygon fill=\"none\" stroke=\"black\" points=\"91,-415.5 91,-461.5 407,-461.5 407,-415.5 91,-415.5\"/>\n",
       "<text text-anchor=\"middle\" x=\"169\" y=\"-434.8\" font-family=\"Times,serif\" font-size=\"14.00\">dropout_4: Dropout</text>\n",
       "<polyline fill=\"none\" stroke=\"black\" points=\"247,-415.5 247,-461.5 \"/>\n",
       "<text text-anchor=\"middle\" x=\"281\" y=\"-446.3\" font-family=\"Times,serif\" font-size=\"14.00\">input:</text>\n",
       "<polyline fill=\"none\" stroke=\"black\" points=\"247,-438.5 315,-438.5 \"/>\n",
       "<text text-anchor=\"middle\" x=\"281\" y=\"-423.3\" font-family=\"Times,serif\" font-size=\"14.00\">output:</text>\n",
       "<polyline fill=\"none\" stroke=\"black\" points=\"315,-415.5 315,-461.5 \"/>\n",
       "<text text-anchor=\"middle\" x=\"361\" y=\"-446.3\" font-family=\"Times,serif\" font-size=\"14.00\">(None, 64)</text>\n",
       "<polyline fill=\"none\" stroke=\"black\" points=\"315,-438.5 407,-438.5 \"/>\n",
       "<text text-anchor=\"middle\" x=\"361\" y=\"-423.3\" font-family=\"Times,serif\" font-size=\"14.00\">(None, 64)</text>\n",
       "</g>\n",
       "<!-- 140094430703728&#45;&gt;140094430704544 -->\n",
       "<g id=\"edge21\" class=\"edge\">\n",
       "<title>140094430703728-&gt;140094430704544</title>\n",
       "<path fill=\"none\" stroke=\"black\" d=\"M249,-498.37C249,-490.15 249,-480.66 249,-471.73\"/>\n",
       "<polygon fill=\"black\" stroke=\"black\" points=\"252.5,-471.61 249,-461.61 245.5,-471.61 252.5,-471.61\"/>\n",
       "</g>\n",
       "<!-- 140094430705600 -->\n",
       "<g id=\"node23\" class=\"node\">\n",
       "<title>140094430705600</title>\n",
       "<polygon fill=\"none\" stroke=\"black\" points=\"100.5,-332.5 100.5,-378.5 397.5,-378.5 397.5,-332.5 100.5,-332.5\"/>\n",
       "<text text-anchor=\"middle\" x=\"164.5\" y=\"-351.8\" font-family=\"Times,serif\" font-size=\"14.00\">dense_6: Dense</text>\n",
       "<polyline fill=\"none\" stroke=\"black\" points=\"228.5,-332.5 228.5,-378.5 \"/>\n",
       "<text text-anchor=\"middle\" x=\"262.5\" y=\"-363.3\" font-family=\"Times,serif\" font-size=\"14.00\">input:</text>\n",
       "<polyline fill=\"none\" stroke=\"black\" points=\"228.5,-355.5 296.5,-355.5 \"/>\n",
       "<text text-anchor=\"middle\" x=\"262.5\" y=\"-340.3\" font-family=\"Times,serif\" font-size=\"14.00\">output:</text>\n",
       "<polyline fill=\"none\" stroke=\"black\" points=\"296.5,-332.5 296.5,-378.5 \"/>\n",
       "<text text-anchor=\"middle\" x=\"347\" y=\"-363.3\" font-family=\"Times,serif\" font-size=\"14.00\">(None, 64)</text>\n",
       "<polyline fill=\"none\" stroke=\"black\" points=\"296.5,-355.5 397.5,-355.5 \"/>\n",
       "<text text-anchor=\"middle\" x=\"347\" y=\"-340.3\" font-family=\"Times,serif\" font-size=\"14.00\">(None, 128)</text>\n",
       "</g>\n",
       "<!-- 140094430704544&#45;&gt;140094430705600 -->\n",
       "<g id=\"edge22\" class=\"edge\">\n",
       "<title>140094430704544-&gt;140094430705600</title>\n",
       "<path fill=\"none\" stroke=\"black\" d=\"M249,-415.37C249,-407.15 249,-397.66 249,-388.73\"/>\n",
       "<polygon fill=\"black\" stroke=\"black\" points=\"252.5,-388.61 249,-378.61 245.5,-388.61 252.5,-388.61\"/>\n",
       "</g>\n",
       "<!-- 140094430678512 -->\n",
       "<g id=\"node24\" class=\"node\">\n",
       "<title>140094430678512</title>\n",
       "<polygon fill=\"none\" stroke=\"black\" points=\"0,-249.5 0,-295.5 498,-295.5 498,-249.5 0,-249.5\"/>\n",
       "<text text-anchor=\"middle\" x=\"164.5\" y=\"-268.8\" font-family=\"Times,serif\" font-size=\"14.00\">batch_normalization_5: BatchNormalization</text>\n",
       "<polyline fill=\"none\" stroke=\"black\" points=\"329,-249.5 329,-295.5 \"/>\n",
       "<text text-anchor=\"middle\" x=\"363\" y=\"-280.3\" font-family=\"Times,serif\" font-size=\"14.00\">input:</text>\n",
       "<polyline fill=\"none\" stroke=\"black\" points=\"329,-272.5 397,-272.5 \"/>\n",
       "<text text-anchor=\"middle\" x=\"363\" y=\"-257.3\" font-family=\"Times,serif\" font-size=\"14.00\">output:</text>\n",
       "<polyline fill=\"none\" stroke=\"black\" points=\"397,-249.5 397,-295.5 \"/>\n",
       "<text text-anchor=\"middle\" x=\"447.5\" y=\"-280.3\" font-family=\"Times,serif\" font-size=\"14.00\">(None, 128)</text>\n",
       "<polyline fill=\"none\" stroke=\"black\" points=\"397,-272.5 498,-272.5 \"/>\n",
       "<text text-anchor=\"middle\" x=\"447.5\" y=\"-257.3\" font-family=\"Times,serif\" font-size=\"14.00\">(None, 128)</text>\n",
       "</g>\n",
       "<!-- 140094430705600&#45;&gt;140094430678512 -->\n",
       "<g id=\"edge23\" class=\"edge\">\n",
       "<title>140094430705600-&gt;140094430678512</title>\n",
       "<path fill=\"none\" stroke=\"black\" d=\"M249,-332.37C249,-324.15 249,-314.66 249,-305.73\"/>\n",
       "<polygon fill=\"black\" stroke=\"black\" points=\"252.5,-305.61 249,-295.61 245.5,-305.61 252.5,-305.61\"/>\n",
       "</g>\n",
       "<!-- 140094430234032 -->\n",
       "<g id=\"node25\" class=\"node\">\n",
       "<title>140094430234032</title>\n",
       "<polygon fill=\"none\" stroke=\"black\" points=\"63.5,-166.5 63.5,-212.5 434.5,-212.5 434.5,-166.5 63.5,-166.5\"/>\n",
       "<text text-anchor=\"middle\" x=\"164.5\" y=\"-185.8\" font-family=\"Times,serif\" font-size=\"14.00\">leaky_re_lu_5: LeakyReLU</text>\n",
       "<polyline fill=\"none\" stroke=\"black\" points=\"265.5,-166.5 265.5,-212.5 \"/>\n",
       "<text text-anchor=\"middle\" x=\"299.5\" y=\"-197.3\" font-family=\"Times,serif\" font-size=\"14.00\">input:</text>\n",
       "<polyline fill=\"none\" stroke=\"black\" points=\"265.5,-189.5 333.5,-189.5 \"/>\n",
       "<text text-anchor=\"middle\" x=\"299.5\" y=\"-174.3\" font-family=\"Times,serif\" font-size=\"14.00\">output:</text>\n",
       "<polyline fill=\"none\" stroke=\"black\" points=\"333.5,-166.5 333.5,-212.5 \"/>\n",
       "<text text-anchor=\"middle\" x=\"384\" y=\"-197.3\" font-family=\"Times,serif\" font-size=\"14.00\">(None, 128)</text>\n",
       "<polyline fill=\"none\" stroke=\"black\" points=\"333.5,-189.5 434.5,-189.5 \"/>\n",
       "<text text-anchor=\"middle\" x=\"384\" y=\"-174.3\" font-family=\"Times,serif\" font-size=\"14.00\">(None, 128)</text>\n",
       "</g>\n",
       "<!-- 140094430678512&#45;&gt;140094430234032 -->\n",
       "<g id=\"edge24\" class=\"edge\">\n",
       "<title>140094430678512-&gt;140094430234032</title>\n",
       "<path fill=\"none\" stroke=\"black\" d=\"M249,-249.37C249,-241.15 249,-231.66 249,-222.73\"/>\n",
       "<polygon fill=\"black\" stroke=\"black\" points=\"252.5,-222.61 249,-212.61 245.5,-222.61 252.5,-222.61\"/>\n",
       "</g>\n",
       "<!-- 140094430232688 -->\n",
       "<g id=\"node26\" class=\"node\">\n",
       "<title>140094430232688</title>\n",
       "<polygon fill=\"none\" stroke=\"black\" points=\"86.5,-83.5 86.5,-129.5 411.5,-129.5 411.5,-83.5 86.5,-83.5\"/>\n",
       "<text text-anchor=\"middle\" x=\"164.5\" y=\"-102.8\" font-family=\"Times,serif\" font-size=\"14.00\">dropout_5: Dropout</text>\n",
       "<polyline fill=\"none\" stroke=\"black\" points=\"242.5,-83.5 242.5,-129.5 \"/>\n",
       "<text text-anchor=\"middle\" x=\"276.5\" y=\"-114.3\" font-family=\"Times,serif\" font-size=\"14.00\">input:</text>\n",
       "<polyline fill=\"none\" stroke=\"black\" points=\"242.5,-106.5 310.5,-106.5 \"/>\n",
       "<text text-anchor=\"middle\" x=\"276.5\" y=\"-91.3\" font-family=\"Times,serif\" font-size=\"14.00\">output:</text>\n",
       "<polyline fill=\"none\" stroke=\"black\" points=\"310.5,-83.5 310.5,-129.5 \"/>\n",
       "<text text-anchor=\"middle\" x=\"361\" y=\"-114.3\" font-family=\"Times,serif\" font-size=\"14.00\">(None, 128)</text>\n",
       "<polyline fill=\"none\" stroke=\"black\" points=\"310.5,-106.5 411.5,-106.5 \"/>\n",
       "<text text-anchor=\"middle\" x=\"361\" y=\"-91.3\" font-family=\"Times,serif\" font-size=\"14.00\">(None, 128)</text>\n",
       "</g>\n",
       "<!-- 140094430234032&#45;&gt;140094430232688 -->\n",
       "<g id=\"edge25\" class=\"edge\">\n",
       "<title>140094430234032-&gt;140094430232688</title>\n",
       "<path fill=\"none\" stroke=\"black\" d=\"M249,-166.37C249,-158.15 249,-148.66 249,-139.73\"/>\n",
       "<polygon fill=\"black\" stroke=\"black\" points=\"252.5,-139.61 249,-129.61 245.5,-139.61 252.5,-139.61\"/>\n",
       "</g>\n",
       "<!-- 140094430235376 -->\n",
       "<g id=\"node27\" class=\"node\">\n",
       "<title>140094430235376</title>\n",
       "<polygon fill=\"none\" stroke=\"black\" points=\"100.5,-0.5 100.5,-46.5 397.5,-46.5 397.5,-0.5 100.5,-0.5\"/>\n",
       "<text text-anchor=\"middle\" x=\"164.5\" y=\"-19.8\" font-family=\"Times,serif\" font-size=\"14.00\">dense_7: Dense</text>\n",
       "<polyline fill=\"none\" stroke=\"black\" points=\"228.5,-0.5 228.5,-46.5 \"/>\n",
       "<text text-anchor=\"middle\" x=\"262.5\" y=\"-31.3\" font-family=\"Times,serif\" font-size=\"14.00\">input:</text>\n",
       "<polyline fill=\"none\" stroke=\"black\" points=\"228.5,-23.5 296.5,-23.5 \"/>\n",
       "<text text-anchor=\"middle\" x=\"262.5\" y=\"-8.3\" font-family=\"Times,serif\" font-size=\"14.00\">output:</text>\n",
       "<polyline fill=\"none\" stroke=\"black\" points=\"296.5,-0.5 296.5,-46.5 \"/>\n",
       "<text text-anchor=\"middle\" x=\"347\" y=\"-31.3\" font-family=\"Times,serif\" font-size=\"14.00\">(None, 128)</text>\n",
       "<polyline fill=\"none\" stroke=\"black\" points=\"296.5,-23.5 397.5,-23.5 \"/>\n",
       "<text text-anchor=\"middle\" x=\"347\" y=\"-8.3\" font-family=\"Times,serif\" font-size=\"14.00\">(None, 23)</text>\n",
       "</g>\n",
       "<!-- 140094430232688&#45;&gt;140094430235376 -->\n",
       "<g id=\"edge26\" class=\"edge\">\n",
       "<title>140094430232688-&gt;140094430235376</title>\n",
       "<path fill=\"none\" stroke=\"black\" d=\"M249,-83.37C249,-75.15 249,-65.66 249,-56.73\"/>\n",
       "<polygon fill=\"black\" stroke=\"black\" points=\"252.5,-56.61 249,-46.61 245.5,-56.61 252.5,-56.61\"/>\n",
       "</g>\n",
       "</g>\n",
       "</svg>"
      ],
      "text/plain": [
       "<IPython.core.display.SVG object>"
      ]
     },
     "execution_count": 18,
     "metadata": {},
     "output_type": "execute_result"
    }
   ],
   "source": [
    "from keras.utils.vis_utils import model_to_dot\n",
    "from IPython.display import SVG\n",
    "\n",
    "SVG(model_to_dot(autoencoder_, show_shapes=True, show_layer_names=True, rankdir='TB').create(prog='dot', format='svg'))"
   ]
  },
  {
   "cell_type": "code",
   "execution_count": 19,
   "id": "1b7e9602",
   "metadata": {},
   "outputs": [
    {
     "name": "stdout",
     "output_type": "stream",
     "text": [
      "Model: \"autoencoder_model\"\n",
      "_________________________________________________________________\n",
      "Layer (type)                 Output Shape              Param #   \n",
      "=================================================================\n",
      "input_1 (InputLayer)         [(None, 23)]              0         \n",
      "_________________________________________________________________\n",
      "dense (Dense)                (None, 128)               3072      \n",
      "_________________________________________________________________\n",
      "batch_normalization (BatchNo (None, 128)               512       \n",
      "_________________________________________________________________\n",
      "leaky_re_lu (LeakyReLU)      (None, 128)               0         \n",
      "_________________________________________________________________\n",
      "dropout (Dropout)            (None, 128)               0         \n",
      "_________________________________________________________________\n",
      "dense_1 (Dense)              (None, 64)                8256      \n",
      "_________________________________________________________________\n",
      "batch_normalization_1 (Batch (None, 64)                256       \n",
      "_________________________________________________________________\n",
      "leaky_re_lu_1 (LeakyReLU)    (None, 64)                0         \n",
      "_________________________________________________________________\n",
      "dropout_1 (Dropout)          (None, 64)                0         \n",
      "_________________________________________________________________\n",
      "dense_2 (Dense)              (None, 32)                2080      \n",
      "_________________________________________________________________\n",
      "batch_normalization_2 (Batch (None, 32)                128       \n",
      "_________________________________________________________________\n",
      "leaky_re_lu_2 (LeakyReLU)    (None, 32)                0         \n",
      "_________________________________________________________________\n",
      "dropout_2 (Dropout)          (None, 32)                0         \n",
      "_________________________________________________________________\n",
      "dense_3 (Dense)              (None, 16)                528       \n",
      "_________________________________________________________________\n",
      "dense_4 (Dense)              (None, 32)                544       \n",
      "_________________________________________________________________\n",
      "batch_normalization_3 (Batch (None, 32)                128       \n",
      "_________________________________________________________________\n",
      "leaky_re_lu_3 (LeakyReLU)    (None, 32)                0         \n",
      "_________________________________________________________________\n",
      "dropout_3 (Dropout)          (None, 32)                0         \n",
      "_________________________________________________________________\n",
      "dense_5 (Dense)              (None, 64)                2112      \n",
      "_________________________________________________________________\n",
      "batch_normalization_4 (Batch (None, 64)                256       \n",
      "_________________________________________________________________\n",
      "leaky_re_lu_4 (LeakyReLU)    (None, 64)                0         \n",
      "_________________________________________________________________\n",
      "dropout_4 (Dropout)          (None, 64)                0         \n",
      "_________________________________________________________________\n",
      "dense_6 (Dense)              (None, 128)               8320      \n",
      "_________________________________________________________________\n",
      "batch_normalization_5 (Batch (None, 128)               512       \n",
      "_________________________________________________________________\n",
      "leaky_re_lu_5 (LeakyReLU)    (None, 128)               0         \n",
      "_________________________________________________________________\n",
      "dropout_5 (Dropout)          (None, 128)               0         \n",
      "_________________________________________________________________\n",
      "dense_7 (Dense)              (None, 23)                2967      \n",
      "=================================================================\n",
      "Total params: 29,671\n",
      "Trainable params: 28,775\n",
      "Non-trainable params: 896\n",
      "_________________________________________________________________\n"
     ]
    }
   ],
   "source": [
    "autoencoder_._name = 'autoencoder_model'\n",
    "autoencoder_.summary()"
   ]
  },
  {
   "cell_type": "markdown",
   "id": "83886c06",
   "metadata": {},
   "source": [
    "### Evaluation"
   ]
  },
  {
   "cell_type": "code",
   "execution_count": 20,
   "id": "1749b7a4",
   "metadata": {},
   "outputs": [
    {
     "name": "stderr",
     "output_type": "stream",
     "text": [
      "[codecarbon INFO @ 19:40:26] Energy consumed for RAM : 0.005486 kWh. RAM Power : 11.759872913360596 W\n",
      "[codecarbon INFO @ 19:40:26] Energy consumed for all CPUs : 0.019831 kWh. All CPUs Power : 42.5 W\n",
      "[codecarbon INFO @ 19:40:26] 0.025317 kWh of electricity used since the begining.\n"
     ]
    },
    {
     "name": "stdout",
     "output_type": "stream",
     "text": [
      "Final loss in test data: 0.0024974187836050987\n",
      "Final accuracy in test data: 0.868098258972168\n"
     ]
    }
   ],
   "source": [
    "loss, accuracy = autoencoder_.evaluate(test, test, verbose=0)\n",
    "\n",
    "print(\"Final loss in test data:\", loss)\n",
    "print(\"Final accuracy in test data:\", accuracy)"
   ]
  },
  {
   "cell_type": "code",
   "execution_count": 22,
   "id": "81c463db",
   "metadata": {},
   "outputs": [
    {
     "name": "stdout",
     "output_type": "stream",
     "text": [
      "Ratio de compresión: 1.00\n"
     ]
    },
    {
     "name": "stderr",
     "output_type": "stream",
     "text": [
      "[codecarbon INFO @ 19:41:41] Energy consumed for RAM : 0.005731 kWh. RAM Power : 11.759872913360596 W\n",
      "[codecarbon INFO @ 19:41:41] Energy consumed for all CPUs : 0.020716 kWh. All CPUs Power : 42.5 W\n",
      "[codecarbon INFO @ 19:41:41] 0.026447 kWh of electricity used since the begining.\n"
     ]
    }
   ],
   "source": [
    "# Compression ratio\n",
    "\n",
    "compression_ratio = (23) / np.prod(autoencoder_.get_layer('dense_7').output_shape[1:])\n",
    "\n",
    "print(f\"Ratio de compresión: {compression_ratio:.2f}\")"
   ]
  },
  {
   "cell_type": "markdown",
   "id": "2a4e0231",
   "metadata": {},
   "source": [
    "#### Encoder"
   ]
  },
  {
   "cell_type": "code",
   "execution_count": 23,
   "id": "f0f85f99",
   "metadata": {},
   "outputs": [
    {
     "name": "stdout",
     "output_type": "stream",
     "text": [
      "Model: \"model_1\"\n",
      "_________________________________________________________________\n",
      "Layer (type)                 Output Shape              Param #   \n",
      "=================================================================\n",
      "input_1 (InputLayer)         [(None, 23)]              0         \n",
      "_________________________________________________________________\n",
      "dense (Dense)                (None, 128)               3072      \n",
      "_________________________________________________________________\n",
      "batch_normalization (BatchNo (None, 128)               512       \n",
      "_________________________________________________________________\n",
      "leaky_re_lu (LeakyReLU)      (None, 128)               0         \n",
      "_________________________________________________________________\n",
      "dropout (Dropout)            (None, 128)               0         \n",
      "_________________________________________________________________\n",
      "dense_1 (Dense)              (None, 64)                8256      \n",
      "_________________________________________________________________\n",
      "batch_normalization_1 (Batch (None, 64)                256       \n",
      "_________________________________________________________________\n",
      "leaky_re_lu_1 (LeakyReLU)    (None, 64)                0         \n",
      "_________________________________________________________________\n",
      "dropout_1 (Dropout)          (None, 64)                0         \n",
      "_________________________________________________________________\n",
      "dense_2 (Dense)              (None, 32)                2080      \n",
      "_________________________________________________________________\n",
      "batch_normalization_2 (Batch (None, 32)                128       \n",
      "_________________________________________________________________\n",
      "leaky_re_lu_2 (LeakyReLU)    (None, 32)                0         \n",
      "_________________________________________________________________\n",
      "dropout_2 (Dropout)          (None, 32)                0         \n",
      "_________________________________________________________________\n",
      "dense_3 (Dense)              (None, 16)                528       \n",
      "=================================================================\n",
      "Total params: 14,832\n",
      "Trainable params: 14,384\n",
      "Non-trainable params: 448\n",
      "_________________________________________________________________\n"
     ]
    },
    {
     "name": "stderr",
     "output_type": "stream",
     "text": [
      "[codecarbon INFO @ 19:41:56] Energy consumed for RAM : 0.005780 kWh. RAM Power : 11.759872913360596 W\n",
      "[codecarbon INFO @ 19:41:56] Energy consumed for all CPUs : 0.020893 kWh. All CPUs Power : 42.5 W\n",
      "[codecarbon INFO @ 19:41:56] 0.026673 kWh of electricity used since the begining.\n",
      "[codecarbon INFO @ 19:42:11] Energy consumed for RAM : 0.005829 kWh. RAM Power : 11.759872913360596 W\n",
      "[codecarbon INFO @ 19:42:11] Energy consumed for all CPUs : 0.021070 kWh. All CPUs Power : 42.5 W\n",
      "[codecarbon INFO @ 19:42:11] 0.026899 kWh of electricity used since the begining.\n"
     ]
    }
   ],
   "source": [
    "encoder = Model(autoencoder_.input, autoencoder_.layers[13].output)\n",
    "encoder.summary()"
   ]
  },
  {
   "cell_type": "markdown",
   "id": "d0335902",
   "metadata": {},
   "source": [
    "## Part 2: Content-Based Recommender\n",
    "\n",
    "### Preprocess data and encoding"
   ]
  },
  {
   "cell_type": "code",
   "execution_count": 93,
   "id": "e5b2087d",
   "metadata": {},
   "outputs": [
    {
     "data": {
      "text/plain": [
       "(45464, 30)"
      ]
     },
     "execution_count": 93,
     "metadata": {},
     "output_type": "execute_result"
    }
   ],
   "source": [
    "pdwm_10k = playlists_dataset_with_mood.sample(n=50000, random_state=12)\n",
    "\n",
    "mask = pdwm_10k['pid'].duplicated(keep=False)\n",
    "pdwm_10k_filtered = pdwm_10k[mask]\n",
    "\n",
    "pdwm_10k_filtered.shape"
   ]
  },
  {
   "cell_type": "code",
   "execution_count": 94,
   "id": "38875526",
   "metadata": {},
   "outputs": [],
   "source": [
    "train_r, val_test_r = train_test_split(pdwm_10k_filtered, test_size=0.3, random_state=10, stratify = pdwm_10k_filtered['pid'])"
   ]
  },
  {
   "cell_type": "code",
   "execution_count": 113,
   "id": "c68f7ecd",
   "metadata": {},
   "outputs": [
    {
     "data": {
      "text/html": [
       "<div>\n",
       "<style scoped>\n",
       "    .dataframe tbody tr th:only-of-type {\n",
       "        vertical-align: middle;\n",
       "    }\n",
       "\n",
       "    .dataframe tbody tr th {\n",
       "        vertical-align: top;\n",
       "    }\n",
       "\n",
       "    .dataframe thead th {\n",
       "        text-align: right;\n",
       "    }\n",
       "</style>\n",
       "<table border=\"1\" class=\"dataframe\">\n",
       "  <thead>\n",
       "    <tr style=\"text-align: right;\">\n",
       "      <th></th>\n",
       "      <th>pid</th>\n",
       "      <th>pos</th>\n",
       "      <th>name</th>\n",
       "      <th>description</th>\n",
       "      <th>modified_at</th>\n",
       "      <th>num_tracks</th>\n",
       "      <th>num_albums</th>\n",
       "      <th>num_followers</th>\n",
       "      <th>num_edits</th>\n",
       "      <th>artist_name</th>\n",
       "      <th>...</th>\n",
       "      <th>instrumentalness</th>\n",
       "      <th>liveness</th>\n",
       "      <th>valence</th>\n",
       "      <th>tempo</th>\n",
       "      <th>duration_ms</th>\n",
       "      <th>time_signature</th>\n",
       "      <th>album_release_date</th>\n",
       "      <th>track_popularity</th>\n",
       "      <th>track_explicit</th>\n",
       "      <th>mood</th>\n",
       "    </tr>\n",
       "  </thead>\n",
       "  <tbody>\n",
       "    <tr>\n",
       "      <th>112879</th>\n",
       "      <td>64725</td>\n",
       "      <td>96</td>\n",
       "      <td>ACL 2014</td>\n",
       "      <td>NaN</td>\n",
       "      <td>1404345600</td>\n",
       "      <td>246</td>\n",
       "      <td>114</td>\n",
       "      <td>1</td>\n",
       "      <td>14</td>\n",
       "      <td>AFI</td>\n",
       "      <td>...</td>\n",
       "      <td>0.000160</td>\n",
       "      <td>0.1240</td>\n",
       "      <td>0.672</td>\n",
       "      <td>121.836</td>\n",
       "      <td>190493</td>\n",
       "      <td>4</td>\n",
       "      <td>2003</td>\n",
       "      <td>62.0</td>\n",
       "      <td>False</td>\n",
       "      <td>Sad</td>\n",
       "    </tr>\n",
       "    <tr>\n",
       "      <th>1078162</th>\n",
       "      <td>631247</td>\n",
       "      <td>105</td>\n",
       "      <td>Forever</td>\n",
       "      <td>NaN</td>\n",
       "      <td>1509321600</td>\n",
       "      <td>133</td>\n",
       "      <td>85</td>\n",
       "      <td>2</td>\n",
       "      <td>14</td>\n",
       "      <td>J. Cole</td>\n",
       "      <td>...</td>\n",
       "      <td>0.000000</td>\n",
       "      <td>0.6890</td>\n",
       "      <td>0.482</td>\n",
       "      <td>81.004</td>\n",
       "      <td>278573</td>\n",
       "      <td>4</td>\n",
       "      <td>2013-06-14</td>\n",
       "      <td>19.0</td>\n",
       "      <td>True</td>\n",
       "      <td>Sad</td>\n",
       "    </tr>\n",
       "    <tr>\n",
       "      <th>48661</th>\n",
       "      <td>11747</td>\n",
       "      <td>139</td>\n",
       "      <td>favorite</td>\n",
       "      <td>NaN</td>\n",
       "      <td>1504742400</td>\n",
       "      <td>142</td>\n",
       "      <td>120</td>\n",
       "      <td>1</td>\n",
       "      <td>36</td>\n",
       "      <td>Kendrick Lamar</td>\n",
       "      <td>...</td>\n",
       "      <td>0.000054</td>\n",
       "      <td>0.0958</td>\n",
       "      <td>0.421</td>\n",
       "      <td>150.011</td>\n",
       "      <td>177000</td>\n",
       "      <td>4</td>\n",
       "      <td>2017-04-14</td>\n",
       "      <td>85.0</td>\n",
       "      <td>True</td>\n",
       "      <td>Energetic</td>\n",
       "    </tr>\n",
       "    <tr>\n",
       "      <th>310532</th>\n",
       "      <td>146743</td>\n",
       "      <td>12</td>\n",
       "      <td>Workout</td>\n",
       "      <td>NaN</td>\n",
       "      <td>1508198400</td>\n",
       "      <td>80</td>\n",
       "      <td>62</td>\n",
       "      <td>1</td>\n",
       "      <td>17</td>\n",
       "      <td>Chevelle</td>\n",
       "      <td>...</td>\n",
       "      <td>0.000060</td>\n",
       "      <td>0.2040</td>\n",
       "      <td>0.289</td>\n",
       "      <td>95.023</td>\n",
       "      <td>223173</td>\n",
       "      <td>3</td>\n",
       "      <td>1999-09-09</td>\n",
       "      <td>0.0</td>\n",
       "      <td>False</td>\n",
       "      <td>Sad</td>\n",
       "    </tr>\n",
       "    <tr>\n",
       "      <th>651937</th>\n",
       "      <td>308780</td>\n",
       "      <td>64</td>\n",
       "      <td>Cumbia Mix</td>\n",
       "      <td>NaN</td>\n",
       "      <td>1501027200</td>\n",
       "      <td>96</td>\n",
       "      <td>71</td>\n",
       "      <td>1</td>\n",
       "      <td>4</td>\n",
       "      <td>Los Yaguaru</td>\n",
       "      <td>...</td>\n",
       "      <td>0.000000</td>\n",
       "      <td>0.1050</td>\n",
       "      <td>0.946</td>\n",
       "      <td>171.616</td>\n",
       "      <td>224667</td>\n",
       "      <td>4</td>\n",
       "      <td>2002-01-01</td>\n",
       "      <td>0.0</td>\n",
       "      <td>False</td>\n",
       "      <td>Sad</td>\n",
       "    </tr>\n",
       "    <tr>\n",
       "      <th>...</th>\n",
       "      <td>...</td>\n",
       "      <td>...</td>\n",
       "      <td>...</td>\n",
       "      <td>...</td>\n",
       "      <td>...</td>\n",
       "      <td>...</td>\n",
       "      <td>...</td>\n",
       "      <td>...</td>\n",
       "      <td>...</td>\n",
       "      <td>...</td>\n",
       "      <td>...</td>\n",
       "      <td>...</td>\n",
       "      <td>...</td>\n",
       "      <td>...</td>\n",
       "      <td>...</td>\n",
       "      <td>...</td>\n",
       "      <td>...</td>\n",
       "      <td>...</td>\n",
       "      <td>...</td>\n",
       "      <td>...</td>\n",
       "      <td>...</td>\n",
       "    </tr>\n",
       "    <tr>\n",
       "      <th>1003982</th>\n",
       "      <td>574085</td>\n",
       "      <td>2</td>\n",
       "      <td>Stuff I like</td>\n",
       "      <td>NaN</td>\n",
       "      <td>1509235200</td>\n",
       "      <td>54</td>\n",
       "      <td>48</td>\n",
       "      <td>1</td>\n",
       "      <td>8</td>\n",
       "      <td>Shawn Mendes</td>\n",
       "      <td>...</td>\n",
       "      <td>0.000000</td>\n",
       "      <td>0.0486</td>\n",
       "      <td>0.764</td>\n",
       "      <td>149.882</td>\n",
       "      <td>206880</td>\n",
       "      <td>4</td>\n",
       "      <td>2015-04-13</td>\n",
       "      <td>0.0</td>\n",
       "      <td>False</td>\n",
       "      <td>Energetic</td>\n",
       "    </tr>\n",
       "    <tr>\n",
       "      <th>580951</th>\n",
       "      <td>282746</td>\n",
       "      <td>15</td>\n",
       "      <td>summer 17</td>\n",
       "      <td>NaN</td>\n",
       "      <td>1508112000</td>\n",
       "      <td>92</td>\n",
       "      <td>75</td>\n",
       "      <td>4</td>\n",
       "      <td>45</td>\n",
       "      <td>Lil Uzi Vert</td>\n",
       "      <td>...</td>\n",
       "      <td>0.000000</td>\n",
       "      <td>0.2080</td>\n",
       "      <td>0.398</td>\n",
       "      <td>139.952</td>\n",
       "      <td>175203</td>\n",
       "      <td>4</td>\n",
       "      <td>2016-08-10</td>\n",
       "      <td>67.0</td>\n",
       "      <td>True</td>\n",
       "      <td>Anxious</td>\n",
       "    </tr>\n",
       "    <tr>\n",
       "      <th>1218076</th>\n",
       "      <td>834411</td>\n",
       "      <td>18</td>\n",
       "      <td>oldies</td>\n",
       "      <td>NaN</td>\n",
       "      <td>1509408000</td>\n",
       "      <td>49</td>\n",
       "      <td>48</td>\n",
       "      <td>1</td>\n",
       "      <td>34</td>\n",
       "      <td>Calvin Harris</td>\n",
       "      <td>...</td>\n",
       "      <td>0.000001</td>\n",
       "      <td>0.2540</td>\n",
       "      <td>0.511</td>\n",
       "      <td>104.066</td>\n",
       "      <td>230813</td>\n",
       "      <td>4</td>\n",
       "      <td>2017-06-30</td>\n",
       "      <td>74.0</td>\n",
       "      <td>True</td>\n",
       "      <td>Sad</td>\n",
       "    </tr>\n",
       "    <tr>\n",
       "      <th>467137</th>\n",
       "      <td>198992</td>\n",
       "      <td>111</td>\n",
       "      <td>Christmas</td>\n",
       "      <td>NaN</td>\n",
       "      <td>1448323200</td>\n",
       "      <td>113</td>\n",
       "      <td>43</td>\n",
       "      <td>1</td>\n",
       "      <td>5</td>\n",
       "      <td>Dave Koz</td>\n",
       "      <td>...</td>\n",
       "      <td>0.000074</td>\n",
       "      <td>0.1100</td>\n",
       "      <td>0.737</td>\n",
       "      <td>96.973</td>\n",
       "      <td>251320</td>\n",
       "      <td>4</td>\n",
       "      <td>2014-01-01</td>\n",
       "      <td>2.0</td>\n",
       "      <td>False</td>\n",
       "      <td>Sad</td>\n",
       "    </tr>\n",
       "    <tr>\n",
       "      <th>1156057</th>\n",
       "      <td>694470</td>\n",
       "      <td>24</td>\n",
       "      <td>Invierno</td>\n",
       "      <td>NaN</td>\n",
       "      <td>1460678400</td>\n",
       "      <td>78</td>\n",
       "      <td>74</td>\n",
       "      <td>1</td>\n",
       "      <td>42</td>\n",
       "      <td>The Amazing</td>\n",
       "      <td>...</td>\n",
       "      <td>0.728000</td>\n",
       "      <td>0.0577</td>\n",
       "      <td>0.565</td>\n",
       "      <td>101.451</td>\n",
       "      <td>294560</td>\n",
       "      <td>4</td>\n",
       "      <td>2011</td>\n",
       "      <td>0.0</td>\n",
       "      <td>False</td>\n",
       "      <td>Anxious</td>\n",
       "    </tr>\n",
       "  </tbody>\n",
       "</table>\n",
       "<p>31824 rows × 30 columns</p>\n",
       "</div>"
      ],
      "text/plain": [
       "            pid  pos          name description  modified_at  num_tracks  \\\n",
       "112879    64725   96      ACL 2014         NaN   1404345600         246   \n",
       "1078162  631247  105       Forever         NaN   1509321600         133   \n",
       "48661     11747  139      favorite         NaN   1504742400         142   \n",
       "310532   146743   12       Workout         NaN   1508198400          80   \n",
       "651937   308780   64    Cumbia Mix         NaN   1501027200          96   \n",
       "...         ...  ...           ...         ...          ...         ...   \n",
       "1003982  574085    2  Stuff I like         NaN   1509235200          54   \n",
       "580951   282746   15     summer 17         NaN   1508112000          92   \n",
       "1218076  834411   18        oldies         NaN   1509408000          49   \n",
       "467137   198992  111     Christmas         NaN   1448323200         113   \n",
       "1156057  694470   24      Invierno         NaN   1460678400          78   \n",
       "\n",
       "         num_albums  num_followers  num_edits     artist_name  ...  \\\n",
       "112879          114              1         14             AFI  ...   \n",
       "1078162          85              2         14         J. Cole  ...   \n",
       "48661           120              1         36  Kendrick Lamar  ...   \n",
       "310532           62              1         17        Chevelle  ...   \n",
       "651937           71              1          4     Los Yaguaru  ...   \n",
       "...             ...            ...        ...             ...  ...   \n",
       "1003982          48              1          8    Shawn Mendes  ...   \n",
       "580951           75              4         45    Lil Uzi Vert  ...   \n",
       "1218076          48              1         34   Calvin Harris  ...   \n",
       "467137           43              1          5        Dave Koz  ...   \n",
       "1156057          74              1         42     The Amazing  ...   \n",
       "\n",
       "        instrumentalness liveness valence    tempo  duration_ms  \\\n",
       "112879          0.000160   0.1240   0.672  121.836       190493   \n",
       "1078162         0.000000   0.6890   0.482   81.004       278573   \n",
       "48661           0.000054   0.0958   0.421  150.011       177000   \n",
       "310532          0.000060   0.2040   0.289   95.023       223173   \n",
       "651937          0.000000   0.1050   0.946  171.616       224667   \n",
       "...                  ...      ...     ...      ...          ...   \n",
       "1003982         0.000000   0.0486   0.764  149.882       206880   \n",
       "580951          0.000000   0.2080   0.398  139.952       175203   \n",
       "1218076         0.000001   0.2540   0.511  104.066       230813   \n",
       "467137          0.000074   0.1100   0.737   96.973       251320   \n",
       "1156057         0.728000   0.0577   0.565  101.451       294560   \n",
       "\n",
       "         time_signature  album_release_date  track_popularity  track_explicit  \\\n",
       "112879                4                2003              62.0           False   \n",
       "1078162               4          2013-06-14              19.0            True   \n",
       "48661                 4          2017-04-14              85.0            True   \n",
       "310532                3          1999-09-09               0.0           False   \n",
       "651937                4          2002-01-01               0.0           False   \n",
       "...                 ...                 ...               ...             ...   \n",
       "1003982               4          2015-04-13               0.0           False   \n",
       "580951                4          2016-08-10              67.0            True   \n",
       "1218076               4          2017-06-30              74.0            True   \n",
       "467137                4          2014-01-01               2.0           False   \n",
       "1156057               4                2011               0.0           False   \n",
       "\n",
       "              mood  \n",
       "112879         Sad  \n",
       "1078162        Sad  \n",
       "48661    Energetic  \n",
       "310532         Sad  \n",
       "651937         Sad  \n",
       "...            ...  \n",
       "1003982  Energetic  \n",
       "580951     Anxious  \n",
       "1218076        Sad  \n",
       "467137         Sad  \n",
       "1156057    Anxious  \n",
       "\n",
       "[31824 rows x 30 columns]"
      ]
     },
     "execution_count": 113,
     "metadata": {},
     "output_type": "execute_result"
    }
   ],
   "source": [
    "train_r"
   ]
  },
  {
   "cell_type": "code",
   "execution_count": 114,
   "id": "dca0e14e",
   "metadata": {},
   "outputs": [
    {
     "name": "stderr",
     "output_type": "stream",
     "text": [
      "[codecarbon INFO @ 20:34:26] Energy consumed for RAM : 0.016066 kWh. RAM Power : 11.759872913360596 W\n",
      "[codecarbon INFO @ 20:34:26] Energy consumed for all CPUs : 0.058075 kWh. All CPUs Power : 42.5 W\n",
      "[codecarbon INFO @ 20:34:26] 0.074141 kWh of electricity used since the begining.\n"
     ]
    }
   ],
   "source": [
    "train_r = train_r.reset_index(drop=True)"
   ]
  },
  {
   "cell_type": "code",
   "execution_count": 116,
   "id": "2c74242c",
   "metadata": {},
   "outputs": [],
   "source": [
    "pdwm_10k_filteredT = train_r.copy()\n",
    "\n",
    "mean_popularity = df_songs_clean['track_popularity'].mean()\n",
    "pdwm_10k_filteredT.loc[:, 'track_popularity'] = pdwm_10k_filteredT['track_popularity'].fillna(mean_popularity)\n",
    "\n",
    "pdwm_10k_filteredT.loc[:, 'track_explicit'] = pdwm_10k_filteredT['track_explicit'].fillna(False)\n",
    "\n",
    "pdwm_10k_filteredT.loc[:, 'track_explicit'] = pdwm_10k_filteredT['track_explicit'].astype(int)\n",
    "\n",
    "# encode the moods as one-hot vectors\n",
    "one_hot_encoder = OneHotEncoder()\n",
    "mood_to_encoder_r = one_hot_encoder.fit_transform(pdwm_10k_filteredT[[\"mood\"]])\n",
    "\n",
    "# convert the encoded moods to a dataframe\n",
    "mood_df_r = pd.DataFrame(mood_to_encoder_r.toarray(), columns=one_hot_encoder.get_feature_names([\"mood\"]))\n",
    "\n",
    "# index reset\n",
    "mood_df_r = mood_df_r.reset_index(drop=True)\n",
    "pdwm_10k_filteredT = pdwm_10k_filteredT.reset_index(drop=True)\n",
    "\n",
    "# concatenate the encoded moods to the original dataframe\n",
    "df_songs_to_encode_r = pd.concat([pdwm_10k_filteredT, mood_df_r], axis=1)"
   ]
  },
  {
   "cell_type": "code",
   "execution_count": 117,
   "id": "b8554335",
   "metadata": {},
   "outputs": [],
   "source": [
    "df_unique_songs = df_songs_to_encode_r.drop_duplicates(['track_uri'])\n",
    "\n",
    "df_tracks = df_songs_to_encode_r['track_uri']\n",
    "df_track_names = df_songs_to_encode_r['track_name']\n",
    "\n",
    "train_clean_r = df_songs_to_encode_r.drop(columns=[\n",
    "    'pid', 'pos', 'name', 'description', 'modified_at', 'num_tracks','num_albums','num_followers',\n",
    "    'num_edits', 'artist_name', 'track_name','album_name', 'track_uri','album_release_date', 'mood'])"
   ]
  },
  {
   "cell_type": "code",
   "execution_count": 118,
   "id": "677d5703",
   "metadata": {},
   "outputs": [
    {
     "name": "stderr",
     "output_type": "stream",
     "text": [
      "[codecarbon INFO @ 20:34:41] Energy consumed for RAM : 0.016115 kWh. RAM Power : 11.759872913360596 W\n",
      "[codecarbon INFO @ 20:34:41] Energy consumed for all CPUs : 0.058252 kWh. All CPUs Power : 42.5 W\n",
      "[codecarbon INFO @ 20:34:41] 0.074367 kWh of electricity used since the begining.\n"
     ]
    }
   ],
   "source": [
    "t_scaler = MinMaxScaler()\n",
    "t_scaler.fit(train_clean_r)\n",
    "t_songs_scaled = t_scaler.transform(train_clean_r)"
   ]
  },
  {
   "cell_type": "code",
   "execution_count": 119,
   "id": "f7de0b19",
   "metadata": {},
   "outputs": [
    {
     "name": "stdout",
     "output_type": "stream",
     "text": [
      "(13640, 30)\n",
      "(31824, 30)\n",
      "(31824, 23)\n"
     ]
    }
   ],
   "source": [
    "print(val_test_r.shape)\n",
    "print(train_r.shape)\n",
    "print(t_songs_scaled.shape)"
   ]
  },
  {
   "cell_type": "markdown",
   "id": "e98a7395",
   "metadata": {},
   "source": [
    "After encoding the data with the encoder, we are left with a lower-dimensional representation of the original data, which still contains the most important features of the songs. "
   ]
  },
  {
   "cell_type": "code",
   "execution_count": 120,
   "id": "699f93fa",
   "metadata": {},
   "outputs": [],
   "source": [
    "# Encode\n",
    "encoded_data = encoder.predict(t_songs_scaled)"
   ]
  },
  {
   "cell_type": "code",
   "execution_count": 121,
   "id": "f6e63af0",
   "metadata": {},
   "outputs": [
    {
     "data": {
      "text/plain": [
       "(31824, 16)"
      ]
     },
     "execution_count": 121,
     "metadata": {},
     "output_type": "execute_result"
    }
   ],
   "source": [
    "encoded_data.shape"
   ]
  },
  {
   "cell_type": "markdown",
   "id": "2c992737",
   "metadata": {},
   "source": [
    "### Cosine Similarity Matrix"
   ]
  },
  {
   "cell_type": "code",
   "execution_count": 122,
   "id": "fcfd2511",
   "metadata": {},
   "outputs": [],
   "source": [
    "train_scaled_cos_matrix = cosine_similarity(encoded_data)"
   ]
  },
  {
   "cell_type": "code",
   "execution_count": 123,
   "id": "74c5a6ad",
   "metadata": {},
   "outputs": [
    {
     "data": {
      "text/plain": [
       "(31824, 31824)"
      ]
     },
     "execution_count": 123,
     "metadata": {},
     "output_type": "execute_result"
    }
   ],
   "source": [
    "train_scaled_cos_matrix.shape"
   ]
  },
  {
   "cell_type": "code",
   "execution_count": null,
   "id": "37093e4d",
   "metadata": {},
   "outputs": [],
   "source": []
  },
  {
   "cell_type": "code",
   "execution_count": 124,
   "id": "20203e02",
   "metadata": {},
   "outputs": [],
   "source": [
    "def cos_similar_songs_playlist(cos_matrix, target_playlist_id, cand_list_size):\n",
    "    \"\"\"\n",
    "    Generates a list of cosine-similar songs for a given target playlist.\n",
    "\n",
    "    Parameters:\n",
    "        cos_matrix (ndarray): The cosine similarity matrix.\n",
    "        target_playlist_id (int): The ID of the target playlist.\n",
    "        cand_list_size (int): The desired size of the candidate song list.\n",
    "\n",
    "    Returns:\n",
    "        list: A list of cosine-similar songs.\n",
    "\n",
    "    \"\"\"\n",
    "    target_track_inx = np.where(train_r[\"pid\"] == target_playlist_id)[0] # index of tracks in training playlist of target playlist\n",
    "    candidate_cos_matrix = cos_matrix\n",
    "\n",
    "    ## For each song in the playlist, find k similar songs\n",
    "    cand_list = []\n",
    "    # cand_list_size = k*15\n",
    "    k = np.floor(cand_list_size/len(target_track_inx)) # round(cand_list_size/len(target_track_inx))\n",
    "    k_rest = cand_list_size - k*len(target_track_inx)\n",
    "    # e.g., for a candidate list size of 30, get 3 songs for each track first\n",
    "    for inx, i in enumerate(target_track_inx):\n",
    "        candidate_song_rec = candidate_cos_matrix[i, ] #ith row of matrix\n",
    "        candidate_song_rec_inx = np.argsort(candidate_song_rec)\n",
    "        unique_candidate_song_sorted = train_r['track_uri'][candidate_song_rec_inx][::-1].drop_duplicates()\n",
    "        tracks_in_target_playlist = train_r.loc[train_r[\"pid\"] == target_playlist_id, \"track_uri\"]\n",
    "        song_to_recommend = np.array(unique_candidate_song_sorted.loc[~unique_candidate_song_sorted.isin(tracks_in_target_playlist)])\n",
    "\n",
    "        if (k_rest != 0 & inx <= k_rest): # 30-24 = 6; for the first 6 tracks recommend k + 1 songs\n",
    "            k_song_to_recommend = song_to_recommend[:int(k+1)]\n",
    "        else:\n",
    "            k_song_to_recommend = song_to_recommend[:int(k)]\n",
    "            \n",
    "        if inx == 0:\n",
    "            cand_list = k_song_to_recommend\n",
    "        else:\n",
    "            cand_list = np.append(cand_list, k_song_to_recommend)\n",
    "    return list(cand_list) # turn np array into list"
   ]
  },
  {
   "cell_type": "markdown",
   "id": "983dd3be",
   "metadata": {},
   "source": [
    "##  Model Performance Metrics"
   ]
  },
  {
   "cell_type": "code",
   "execution_count": 125,
   "id": "51d44dfc",
   "metadata": {},
   "outputs": [],
   "source": [
    "def nholdout(playlist_id, df):\n",
    "    \"\"\"\n",
    "    Returns the number of songs held out in the validation/test set for a given playlist ID.\n",
    "\n",
    "    Parameters:\n",
    "        playlist_id (int): The ID of the playlist.\n",
    "        df (pandas.DataFrame): The DataFrame containing the playlist data.\n",
    "\n",
    "    Returns:\n",
    "        int: The number of songs held out in the validation/test set.\n",
    "\n",
    "    \"\"\"\n",
    "    return len(df[df.pid == playlist_id].track_uri)"
   ]
  },
  {
   "cell_type": "code",
   "execution_count": 126,
   "id": "aa6ff888",
   "metadata": {},
   "outputs": [],
   "source": [
    "def r_precision(predictions, val_set):\n",
    "    \"\"\"\n",
    "    Computes the R-Precision score for a given playlist prediction set.\n",
    "\n",
    "    Parameters:\n",
    "        predictions (list or numpy.ndarray): A list or 1-D numpy array containing the predicted track URIs.\n",
    "        val_set (pandas.Series): A pandas Series representing the ground truth track URIs for the validation set.\n",
    "\n",
    "    Returns:\n",
    "        float: The R-Precision score.\n",
    "\n",
    "    \"\"\"\n",
    "    if val_set.shape[0] > 0:\n",
    "        score = np.sum(val_set.isin(predictions))/val_set.shape[0]\n",
    "    else:\n",
    "        score = 0.0\n",
    "    return score"
   ]
  },
  {
   "cell_type": "code",
   "execution_count": 127,
   "id": "2b7b091f",
   "metadata": {},
   "outputs": [],
   "source": [
    "def dcg_at_k(r, k, method=0):\n",
    "    \"\"\"\n",
    "    Computes the Discounted Cumulative Gain (DCG) at a specified rank `k` given a list of relevance scores.\n",
    "\n",
    "    Parameters:\n",
    "        r (list or numpy.ndarray): A list or 1-D numpy array containing the relevance scores.\n",
    "        k (int): The rank at which to compute the DCG.\n",
    "        method (int, optional): The formula to use for computing the DCG. 0 for the default formula, 1 for the alternative formula. Default is 0.\n",
    "\n",
    "    Returns:\n",
    "        float: The DCG at rank `k`.\n",
    "\n",
    "    Raises:\n",
    "        ValueError: If `method` is not 0 or 1.\n",
    "\n",
    "    \"\"\"\n",
    "    r = np.asfarray(r)[:k]\n",
    "    if r.size:\n",
    "        if method == 0:\n",
    "            return r[0] + np.sum(r[1:] / np.log2(np.arange(2, r.size + 1)))\n",
    "        elif method == 1:\n",
    "            return np.sum(r / np.log2(np.arange(2, r.size + 2)))\n",
    "        else:\n",
    "            raise ValueError('method must be 0 or 1.')\n",
    "    return 0.\n",
    "\n",
    "\n",
    "def ndcg_at_k(r, k, method=0):\n",
    "    \"\"\"\n",
    "    Computes the Normalized Discounted Cumulative Gain (NDCG) at a specified rank `k` given a list of relevance scores.\n",
    "\n",
    "    Parameters:\n",
    "        r (list or numpy.ndarray): A list or 1-D numpy array containing the relevance scores.\n",
    "        k (int): The rank at which to compute the NDCG.\n",
    "        method (int, optional): The formula to use for computing the NDCG. 0 for the default formula, 1 for the alternative formula. Default is 0.\n",
    "\n",
    "    Returns:\n",
    "        float: The NDCG at rank `k`.\n",
    "\n",
    "    \"\"\"\n",
    "    dcg_max = dcg_at_k(sorted(r, reverse=True), k, method)\n",
    "    if not dcg_max:\n",
    "        return 0.\n",
    "    return dcg_at_k(r, k, method) / dcg_max"
   ]
  },
  {
   "cell_type": "code",
   "execution_count": null,
   "id": "96841e0c",
   "metadata": {},
   "outputs": [],
   "source": []
  },
  {
   "cell_type": "code",
   "execution_count": 128,
   "id": "c5268090",
   "metadata": {},
   "outputs": [],
   "source": [
    "unique_playlistid = train_r['pid'].drop_duplicates()"
   ]
  },
  {
   "cell_type": "code",
   "execution_count": 129,
   "id": "aeabcc9b",
   "metadata": {
    "collapsed": true
   },
   "outputs": [
    {
     "name": "stderr",
     "output_type": "stream",
     "text": [
      "[codecarbon INFO @ 20:34:56] Energy consumed for RAM : 0.016164 kWh. RAM Power : 11.759872913360596 W\n",
      "[codecarbon INFO @ 20:34:56] Energy consumed for all CPUs : 0.058429 kWh. All CPUs Power : 42.5 W\n",
      "[codecarbon INFO @ 20:34:56] 0.074593 kWh of electricity used since the begining.\n",
      "[codecarbon INFO @ 20:35:11] Energy consumed for RAM : 0.016213 kWh. RAM Power : 11.759872913360596 W\n",
      "[codecarbon INFO @ 20:35:11] Energy consumed for all CPUs : 0.058606 kWh. All CPUs Power : 42.5 W\n",
      "[codecarbon INFO @ 20:35:11] 0.074819 kWh of electricity used since the begining.\n",
      "[codecarbon INFO @ 20:35:26] Energy consumed for RAM : 0.016262 kWh. RAM Power : 11.759872913360596 W\n",
      "[codecarbon INFO @ 20:35:26] Energy consumed for all CPUs : 0.058783 kWh. All CPUs Power : 42.5 W\n",
      "[codecarbon INFO @ 20:35:26] 0.075045 kWh of electricity used since the begining.\n",
      "[codecarbon INFO @ 20:35:41] Energy consumed for RAM : 0.016311 kWh. RAM Power : 11.759872913360596 W\n",
      "[codecarbon INFO @ 20:35:41] Energy consumed for all CPUs : 0.058960 kWh. All CPUs Power : 42.5 W\n",
      "[codecarbon INFO @ 20:35:41] 0.075271 kWh of electricity used since the begining.\n",
      "[codecarbon INFO @ 20:35:56] Energy consumed for RAM : 0.016360 kWh. RAM Power : 11.759872913360596 W\n",
      "[codecarbon INFO @ 20:35:56] Energy consumed for all CPUs : 0.059137 kWh. All CPUs Power : 42.5 W\n",
      "[codecarbon INFO @ 20:35:56] 0.075498 kWh of electricity used since the begining.\n",
      "[codecarbon INFO @ 20:36:11] Energy consumed for RAM : 0.016409 kWh. RAM Power : 11.759872913360596 W\n",
      "[codecarbon INFO @ 20:36:11] Energy consumed for all CPUs : 0.059314 kWh. All CPUs Power : 42.5 W\n",
      "[codecarbon INFO @ 20:36:11] 0.075723 kWh of electricity used since the begining.\n",
      "[codecarbon INFO @ 20:36:26] Energy consumed for RAM : 0.016458 kWh. RAM Power : 11.759872913360596 W\n",
      "[codecarbon INFO @ 20:36:26] Energy consumed for all CPUs : 0.059491 kWh. All CPUs Power : 42.5 W\n",
      "[codecarbon INFO @ 20:36:26] 0.075949 kWh of electricity used since the begining.\n",
      "[codecarbon INFO @ 20:36:41] Energy consumed for RAM : 0.016507 kWh. RAM Power : 11.759872913360596 W\n",
      "[codecarbon INFO @ 20:36:41] Energy consumed for all CPUs : 0.059668 kWh. All CPUs Power : 42.5 W\n",
      "[codecarbon INFO @ 20:36:41] 0.076175 kWh of electricity used since the begining.\n",
      "[codecarbon INFO @ 20:36:56] Energy consumed for RAM : 0.016556 kWh. RAM Power : 11.759872913360596 W\n",
      "[codecarbon INFO @ 20:36:56] Energy consumed for all CPUs : 0.059845 kWh. All CPUs Power : 42.5 W\n",
      "[codecarbon INFO @ 20:36:56] 0.076401 kWh of electricity used since the begining.\n",
      "[codecarbon INFO @ 20:37:11] Energy consumed for RAM : 0.016605 kWh. RAM Power : 11.759872913360596 W\n",
      "[codecarbon INFO @ 20:37:11] Energy consumed for all CPUs : 0.060023 kWh. All CPUs Power : 42.5 W\n",
      "[codecarbon INFO @ 20:37:11] 0.076627 kWh of electricity used since the begining.\n",
      "[codecarbon INFO @ 20:37:26] Energy consumed for RAM : 0.016654 kWh. RAM Power : 11.759872913360596 W\n",
      "[codecarbon INFO @ 20:37:26] Energy consumed for all CPUs : 0.060200 kWh. All CPUs Power : 42.5 W\n",
      "[codecarbon INFO @ 20:37:26] 0.076853 kWh of electricity used since the begining.\n",
      "[codecarbon INFO @ 20:37:41] Energy consumed for RAM : 0.016703 kWh. RAM Power : 11.759872913360596 W\n",
      "[codecarbon INFO @ 20:37:41] Energy consumed for all CPUs : 0.060377 kWh. All CPUs Power : 42.5 W\n",
      "[codecarbon INFO @ 20:37:41] 0.077079 kWh of electricity used since the begining.\n",
      "[codecarbon INFO @ 20:37:56] Energy consumed for RAM : 0.016752 kWh. RAM Power : 11.759872913360596 W\n",
      "[codecarbon INFO @ 20:37:56] Energy consumed for all CPUs : 0.060554 kWh. All CPUs Power : 42.5 W\n",
      "[codecarbon INFO @ 20:37:56] 0.077305 kWh of electricity used since the begining.\n",
      "[codecarbon INFO @ 20:38:11] Energy consumed for RAM : 0.016801 kWh. RAM Power : 11.759872913360596 W\n",
      "[codecarbon INFO @ 20:38:11] Energy consumed for all CPUs : 0.060731 kWh. All CPUs Power : 42.5 W\n",
      "[codecarbon INFO @ 20:38:11] 0.077532 kWh of electricity used since the begining.\n",
      "[codecarbon INFO @ 20:38:26] Energy consumed for RAM : 0.016850 kWh. RAM Power : 11.759872913360596 W\n",
      "[codecarbon INFO @ 20:38:26] Energy consumed for all CPUs : 0.060908 kWh. All CPUs Power : 42.5 W\n",
      "[codecarbon INFO @ 20:38:26] 0.077758 kWh of electricity used since the begining.\n",
      "[codecarbon INFO @ 20:38:41] Energy consumed for RAM : 0.016899 kWh. RAM Power : 11.759872913360596 W\n",
      "[codecarbon INFO @ 20:38:41] Energy consumed for all CPUs : 0.061085 kWh. All CPUs Power : 42.5 W\n",
      "[codecarbon INFO @ 20:38:41] 0.077984 kWh of electricity used since the begining.\n",
      "[codecarbon INFO @ 20:38:56] Energy consumed for RAM : 0.016948 kWh. RAM Power : 11.759872913360596 W\n",
      "[codecarbon INFO @ 20:38:56] Energy consumed for all CPUs : 0.061262 kWh. All CPUs Power : 42.5 W\n",
      "[codecarbon INFO @ 20:38:56] 0.078210 kWh of electricity used since the begining.\n",
      "[codecarbon INFO @ 20:39:11] Energy consumed for RAM : 0.016997 kWh. RAM Power : 11.759872913360596 W\n",
      "[codecarbon INFO @ 20:39:11] Energy consumed for all CPUs : 0.061439 kWh. All CPUs Power : 42.5 W\n",
      "[codecarbon INFO @ 20:39:11] 0.078436 kWh of electricity used since the begining.\n",
      "[codecarbon INFO @ 20:39:26] Energy consumed for RAM : 0.017046 kWh. RAM Power : 11.759872913360596 W\n",
      "[codecarbon INFO @ 20:39:26] Energy consumed for all CPUs : 0.061616 kWh. All CPUs Power : 42.5 W\n",
      "[codecarbon INFO @ 20:39:26] 0.078662 kWh of electricity used since the begining.\n",
      "[codecarbon INFO @ 20:39:41] Energy consumed for RAM : 0.017095 kWh. RAM Power : 11.759872913360596 W\n",
      "[codecarbon INFO @ 20:39:41] Energy consumed for all CPUs : 0.061793 kWh. All CPUs Power : 42.5 W\n",
      "[codecarbon INFO @ 20:39:41] 0.078888 kWh of electricity used since the begining.\n",
      "[codecarbon INFO @ 20:39:56] Energy consumed for RAM : 0.017144 kWh. RAM Power : 11.759872913360596 W\n",
      "[codecarbon INFO @ 20:39:56] Energy consumed for all CPUs : 0.061970 kWh. All CPUs Power : 42.5 W\n",
      "[codecarbon INFO @ 20:39:56] 0.079114 kWh of electricity used since the begining.\n",
      "[codecarbon INFO @ 20:40:11] Energy consumed for RAM : 0.017193 kWh. RAM Power : 11.759872913360596 W\n",
      "[codecarbon INFO @ 20:40:11] Energy consumed for all CPUs : 0.062147 kWh. All CPUs Power : 42.5 W\n",
      "[codecarbon INFO @ 20:40:11] 0.079340 kWh of electricity used since the begining.\n",
      "[codecarbon INFO @ 20:40:26] Energy consumed for RAM : 0.017242 kWh. RAM Power : 11.759872913360596 W\n",
      "[codecarbon INFO @ 20:40:26] Energy consumed for all CPUs : 0.062324 kWh. All CPUs Power : 42.5 W\n",
      "[codecarbon INFO @ 20:40:26] 0.079566 kWh of electricity used since the begining.\n",
      "[codecarbon INFO @ 20:40:41] Energy consumed for RAM : 0.017291 kWh. RAM Power : 11.759872913360596 W\n",
      "[codecarbon INFO @ 20:40:41] Energy consumed for all CPUs : 0.062501 kWh. All CPUs Power : 42.5 W\n",
      "[codecarbon INFO @ 20:40:41] 0.079792 kWh of electricity used since the begining.\n",
      "[codecarbon INFO @ 20:40:56] Energy consumed for RAM : 0.017340 kWh. RAM Power : 11.759872913360596 W\n",
      "[codecarbon INFO @ 20:40:56] Energy consumed for all CPUs : 0.062678 kWh. All CPUs Power : 42.5 W\n",
      "[codecarbon INFO @ 20:40:56] 0.080018 kWh of electricity used since the begining.\n",
      "[codecarbon INFO @ 20:41:11] Energy consumed for RAM : 0.017389 kWh. RAM Power : 11.759872913360596 W\n",
      "[codecarbon INFO @ 20:41:11] Energy consumed for all CPUs : 0.062856 kWh. All CPUs Power : 42.5 W\n",
      "[codecarbon INFO @ 20:41:11] 0.080244 kWh of electricity used since the begining.\n",
      "[codecarbon INFO @ 20:41:26] Energy consumed for RAM : 0.017437 kWh. RAM Power : 11.759872913360596 W\n",
      "[codecarbon INFO @ 20:41:26] Energy consumed for all CPUs : 0.063032 kWh. All CPUs Power : 42.5 W\n",
      "[codecarbon INFO @ 20:41:26] 0.080470 kWh of electricity used since the begining.\n",
      "[codecarbon INFO @ 20:41:41] Energy consumed for RAM : 0.017486 kWh. RAM Power : 11.759872913360596 W\n",
      "[codecarbon INFO @ 20:41:41] Energy consumed for all CPUs : 0.063210 kWh. All CPUs Power : 42.5 W\n",
      "[codecarbon INFO @ 20:41:41] 0.080696 kWh of electricity used since the begining.\n",
      "[codecarbon INFO @ 20:41:56] Energy consumed for RAM : 0.017535 kWh. RAM Power : 11.759872913360596 W\n",
      "[codecarbon INFO @ 20:41:56] Energy consumed for all CPUs : 0.063387 kWh. All CPUs Power : 42.5 W\n",
      "[codecarbon INFO @ 20:41:56] 0.080922 kWh of electricity used since the begining.\n",
      "[codecarbon INFO @ 20:42:11] Energy consumed for RAM : 0.017584 kWh. RAM Power : 11.759872913360596 W\n"
     ]
    },
    {
     "name": "stderr",
     "output_type": "stream",
     "text": [
      "[codecarbon INFO @ 20:42:11] Energy consumed for all CPUs : 0.063564 kWh. All CPUs Power : 42.5 W\n",
      "[codecarbon INFO @ 20:42:11] 0.081148 kWh of electricity used since the begining.\n",
      "[codecarbon INFO @ 20:42:26] Energy consumed for RAM : 0.017633 kWh. RAM Power : 11.759872913360596 W\n",
      "[codecarbon INFO @ 20:42:26] Energy consumed for all CPUs : 0.063741 kWh. All CPUs Power : 42.5 W\n",
      "[codecarbon INFO @ 20:42:26] 0.081374 kWh of electricity used since the begining.\n",
      "[codecarbon INFO @ 20:42:41] Energy consumed for RAM : 0.017682 kWh. RAM Power : 11.759872913360596 W\n",
      "[codecarbon INFO @ 20:42:41] Energy consumed for all CPUs : 0.063918 kWh. All CPUs Power : 42.5 W\n",
      "[codecarbon INFO @ 20:42:41] 0.081600 kWh of electricity used since the begining.\n",
      "[codecarbon INFO @ 20:42:56] Energy consumed for RAM : 0.017731 kWh. RAM Power : 11.759872913360596 W\n",
      "[codecarbon INFO @ 20:42:56] Energy consumed for all CPUs : 0.064095 kWh. All CPUs Power : 42.5 W\n",
      "[codecarbon INFO @ 20:42:56] 0.081826 kWh of electricity used since the begining.\n",
      "[codecarbon INFO @ 20:43:11] Energy consumed for RAM : 0.017780 kWh. RAM Power : 11.759872913360596 W\n",
      "[codecarbon INFO @ 20:43:11] Energy consumed for all CPUs : 0.064272 kWh. All CPUs Power : 42.5 W\n",
      "[codecarbon INFO @ 20:43:11] 0.082052 kWh of electricity used since the begining.\n",
      "[codecarbon INFO @ 20:43:26] Energy consumed for RAM : 0.017829 kWh. RAM Power : 11.759872913360596 W\n",
      "[codecarbon INFO @ 20:43:26] Energy consumed for all CPUs : 0.064449 kWh. All CPUs Power : 42.5 W\n",
      "[codecarbon INFO @ 20:43:26] 0.082279 kWh of electricity used since the begining.\n",
      "[codecarbon INFO @ 20:43:41] Energy consumed for RAM : 0.017878 kWh. RAM Power : 11.759872913360596 W\n",
      "[codecarbon INFO @ 20:43:41] Energy consumed for all CPUs : 0.064626 kWh. All CPUs Power : 42.5 W\n",
      "[codecarbon INFO @ 20:43:41] 0.082505 kWh of electricity used since the begining.\n"
     ]
    }
   ],
   "source": [
    "rps = []\n",
    "ndcgs = []\n",
    "for pid in unique_playlistid:\n",
    "    ps = cos_similar_songs_playlist(train_scaled_cos_matrix, pid, nholdout(pid, val_test_r)*15)\n",
    "    vs = val_test_r[val_test_r.pid == pid].track_uri\n",
    "    rps.append(r_precision(ps, vs))\n",
    "    \n",
    "    r = np.zeros(len(ps))\n",
    "    for i, p in enumerate(ps):\n",
    "        if np.any(vs.isin([p])):\n",
    "            r[i] = 1\n",
    "    ndcgs.append(ndcg_at_k(r, len(r)))"
   ]
  },
  {
   "cell_type": "code",
   "execution_count": 131,
   "id": "73a593da",
   "metadata": {},
   "outputs": [
    {
     "name": "stdout",
     "output_type": "stream",
     "text": [
      "Avg. R-Precision:  0.003109996961409906\n",
      "Avg. NDCG:  0.0015399342342090135\n",
      "Total Sum:  0.00232496559780946\n"
     ]
    },
    {
     "name": "stderr",
     "output_type": "stream",
     "text": [
      "[codecarbon INFO @ 20:44:26] Energy consumed for RAM : 0.018025 kWh. RAM Power : 11.759872913360596 W\n",
      "[codecarbon INFO @ 20:44:26] Energy consumed for all CPUs : 0.065157 kWh. All CPUs Power : 42.5 W\n",
      "[codecarbon INFO @ 20:44:26] 0.083183 kWh of electricity used since the begining.\n",
      "[codecarbon INFO @ 20:44:41] Energy consumed for RAM : 0.018074 kWh. RAM Power : 11.759872913360596 W\n",
      "[codecarbon INFO @ 20:44:41] Energy consumed for all CPUs : 0.065335 kWh. All CPUs Power : 42.5 W\n",
      "[codecarbon INFO @ 20:44:41] 0.083409 kWh of electricity used since the begining.\n",
      "[codecarbon INFO @ 20:44:56] Energy consumed for RAM : 0.018123 kWh. RAM Power : 11.759872913360596 W\n",
      "[codecarbon INFO @ 20:44:56] Energy consumed for all CPUs : 0.065512 kWh. All CPUs Power : 42.5 W\n",
      "[codecarbon INFO @ 20:44:56] 0.083635 kWh of electricity used since the begining.\n"
     ]
    }
   ],
   "source": [
    "avg_rp = np.mean(rps)\n",
    "avg_ndcg = np.mean(ndcgs)\n",
    "\n",
    "print('Avg. R-Precision: ', avg_rp)\n",
    "print('Avg. NDCG: ', avg_ndcg)\n",
    "\n",
    "print('Total Sum: ', np.mean([avg_rp, avg_ndcg]))"
   ]
  },
  {
   "cell_type": "code",
   "execution_count": 132,
   "id": "84f4028d",
   "metadata": {},
   "outputs": [
    {
     "name": "stderr",
     "output_type": "stream",
     "text": [
      "[codecarbon INFO @ 20:45:06] Energy consumed for RAM : 0.018156 kWh. RAM Power : 11.759872913360596 W\n",
      "[codecarbon INFO @ 20:45:06] Energy consumed for all CPUs : 0.065629 kWh. All CPUs Power : 42.5 W\n",
      "[codecarbon INFO @ 20:45:06] 0.083785 kWh of electricity used since the begining.\n",
      "\u001b[1;38;5;39mCOMET INFO:\u001b[0m ---------------------------------------------------------------------------------------\n",
      "\u001b[1;38;5;39mCOMET INFO:\u001b[0m Comet.ml Experiment Summary\n",
      "\u001b[1;38;5;39mCOMET INFO:\u001b[0m ---------------------------------------------------------------------------------------\n",
      "\u001b[1;38;5;39mCOMET INFO:\u001b[0m   Data:\n",
      "\u001b[1;38;5;39mCOMET INFO:\u001b[0m     display_summary_level : 1\n",
      "\u001b[1;38;5;39mCOMET INFO:\u001b[0m     url                   : https://www.comet.com/sadcor/general/9f3c6c3e73894ded991bf51e75072ec1\n",
      "\u001b[1;38;5;39mCOMET INFO:\u001b[0m   Metrics [count] (min, max):\n",
      "\u001b[1;38;5;39mCOMET INFO:\u001b[0m     accuracy [70]                  : (0.5766087174415588, 0.7892806529998779)\n",
      "\u001b[1;38;5;39mCOMET INFO:\u001b[0m     batch_accuracy [46970]         : (0.05113636329770088, 0.90625)\n",
      "\u001b[1;38;5;39mCOMET INFO:\u001b[0m     batch_loss [46970]             : (0.003835004288703203, 0.21519538760185242)\n",
      "\u001b[1;38;5;39mCOMET INFO:\u001b[0m     epoch_duration [70]            : (23.10158566199243, 26.325586879858747)\n",
      "\u001b[1;38;5;39mCOMET INFO:\u001b[0m     loss [70]                      : (0.005395420361310244, 0.02097652666270733)\n",
      "\u001b[1;38;5;39mCOMET INFO:\u001b[0m     val_accuracy [70]              : (0.46739739179611206, 0.8695522546768188)\n",
      "\u001b[1;38;5;39mCOMET INFO:\u001b[0m     val_loss [70]                  : (0.0024636967573314905, 0.009202633053064346)\n",
      "\u001b[1;38;5;39mCOMET INFO:\u001b[0m     validate_batch_accuracy [5880] : (0.4375, 0.875)\n",
      "\u001b[1;38;5;39mCOMET INFO:\u001b[0m     validate_batch_loss [5880]     : (0.0019911807030439377, 0.00958345178514719)\n",
      "\u001b[1;38;5;39mCOMET INFO:\u001b[0m   Others:\n",
      "\u001b[1;38;5;39mCOMET INFO:\u001b[0m     trainable_params : 29671\n",
      "\u001b[1;38;5;39mCOMET INFO:\u001b[0m   Parameters:\n",
      "\u001b[1;38;5;39mCOMET INFO:\u001b[0m     Adam_amsgrad       : False\n",
      "\u001b[1;38;5;39mCOMET INFO:\u001b[0m     Adam_beta_1        : 0.9\n",
      "\u001b[1;38;5;39mCOMET INFO:\u001b[0m     Adam_beta_2        : 0.999\n",
      "\u001b[1;38;5;39mCOMET INFO:\u001b[0m     Adam_decay         : 0.0\n",
      "\u001b[1;38;5;39mCOMET INFO:\u001b[0m     Adam_epsilon       : 1e-07\n",
      "\u001b[1;38;5;39mCOMET INFO:\u001b[0m     Adam_learning_rate : 0.001\n",
      "\u001b[1;38;5;39mCOMET INFO:\u001b[0m     Adam_name          : Adam\n",
      "\u001b[1;38;5;39mCOMET INFO:\u001b[0m     Optimizer          : Adam\n",
      "\u001b[1;38;5;39mCOMET INFO:\u001b[0m     categories         : auto\n",
      "\u001b[1;38;5;39mCOMET INFO:\u001b[0m     clip               : False\n",
      "\u001b[1;38;5;39mCOMET INFO:\u001b[0m     copy               : True\n",
      "\u001b[1;38;5;39mCOMET INFO:\u001b[0m     drop               : 1\n",
      "\u001b[1;38;5;39mCOMET INFO:\u001b[0m     dtype              : <class 'numpy.float64'>\n",
      "\u001b[1;38;5;39mCOMET INFO:\u001b[0m     epochs             : 100\n",
      "\u001b[1;38;5;39mCOMET INFO:\u001b[0m     feature_range      : (0, 1)\n",
      "\u001b[1;38;5;39mCOMET INFO:\u001b[0m     handle_unknown     : error\n",
      "\u001b[1;38;5;39mCOMET INFO:\u001b[0m     sparse             : True\n",
      "\u001b[1;38;5;39mCOMET INFO:\u001b[0m     steps              : 6706\n",
      "\u001b[1;38;5;39mCOMET INFO:\u001b[0m   Uploads:\n",
      "\u001b[1;38;5;39mCOMET INFO:\u001b[0m     asset               : 1 (689 bytes)\n",
      "\u001b[1;38;5;39mCOMET INFO:\u001b[0m     environment details : 1\n",
      "\u001b[1;38;5;39mCOMET INFO:\u001b[0m     filename            : 1\n",
      "\u001b[1;38;5;39mCOMET INFO:\u001b[0m     installed packages  : 1\n",
      "\u001b[1;38;5;39mCOMET INFO:\u001b[0m     model graph         : 1\n",
      "\u001b[1;38;5;39mCOMET INFO:\u001b[0m     notebook            : 1\n",
      "\u001b[1;38;5;39mCOMET INFO:\u001b[0m     os packages         : 1\n",
      "\u001b[1;38;5;39mCOMET INFO:\u001b[0m     source_code         : 1\n",
      "\u001b[1;38;5;39mCOMET INFO:\u001b[0m \n",
      "\u001b[1;38;5;39mCOMET INFO:\u001b[0m Please wait for metadata to finish uploading (timeout is 3600 seconds)\n"
     ]
    }
   ],
   "source": [
    "experiment.end()"
   ]
  },
  {
   "cell_type": "code",
   "execution_count": null,
   "id": "5f515924",
   "metadata": {},
   "outputs": [],
   "source": []
  }
 ],
 "metadata": {
  "kernelspec": {
   "display_name": "Python 3 (ipykernel)",
   "language": "python",
   "name": "python3"
  },
  "language_info": {
   "codemirror_mode": {
    "name": "ipython",
    "version": 3
   },
   "file_extension": ".py",
   "mimetype": "text/x-python",
   "name": "python",
   "nbconvert_exporter": "python",
   "pygments_lexer": "ipython3",
   "version": "3.8.10"
  }
 },
 "nbformat": 4,
 "nbformat_minor": 5
}
