{
 "cells": [
  {
   "cell_type": "markdown",
   "id": "5f3c0381",
   "metadata": {},
   "source": [
    "## Collaborative Filtering Recommender"
   ]
  },
  {
   "cell_type": "code",
   "execution_count": 1,
   "id": "ae516742",
   "metadata": {},
   "outputs": [
    {
     "name": "stderr",
     "output_type": "stream",
     "text": [
      "\u001b[1;38;5;214mCOMET WARNING:\u001b[0m As you are running in a Jupyter environment, you will need to call `experiment.end()` when finished to ensure all metrics and code are logged before exiting.\n",
      "[codecarbon INFO @ 10:11:45] [setup] RAM Tracking...\n",
      "[codecarbon INFO @ 10:11:45] [setup] GPU Tracking...\n",
      "[codecarbon INFO @ 10:11:45] No GPU found.\n",
      "[codecarbon INFO @ 10:11:45] [setup] CPU Tracking...\n",
      "[codecarbon WARNING @ 10:11:45] No CPU tracking mode found. Falling back on CPU constant mode.\n",
      "[codecarbon WARNING @ 10:11:46] We saw that you have a Intel(R) Xeon(R) CPU E5-2630 v3 @ 2.40GHz but we don't know it. Please contact us.\n",
      "[codecarbon INFO @ 10:11:46] CPU Model on constant consumption mode: Intel(R) Xeon(R) CPU E5-2630 v3 @ 2.40GHz\n",
      "[codecarbon INFO @ 10:11:46] >>> Tracker's metadata:\n",
      "[codecarbon INFO @ 10:11:46]   Platform system: Linux-5.4.0-147-generic-x86_64-with-glibc2.29\n",
      "[codecarbon INFO @ 10:11:46]   Python version: 3.8.10\n",
      "[codecarbon INFO @ 10:11:46]   Available RAM : 31.360 GB\n",
      "[codecarbon INFO @ 10:11:46]   CPU count: 8\n",
      "[codecarbon INFO @ 10:11:46]   CPU model: Intel(R) Xeon(R) CPU E5-2630 v3 @ 2.40GHz\n",
      "[codecarbon INFO @ 10:11:46]   GPU count: None\n",
      "[codecarbon INFO @ 10:11:46]   GPU model: None\n",
      "\u001b[1;38;5;39mCOMET INFO:\u001b[0m Couldn't find a Git repository in '/home/asadcor' nor in any parent directory. Set `COMET_GIT_DIRECTORY` if your Git Repository is elsewhere.\n",
      "\u001b[1;38;5;39mCOMET INFO:\u001b[0m Experiment is live on comet.com https://www.comet.com/sadcor/general/bf65e21ab30141ec93b0fb71f9be1ea8\n",
      "\n"
     ]
    }
   ],
   "source": [
    "from comet_ml import Experiment\n",
    "experiment = Experiment(api_key=\"ummagUWZ5eIZzmhPtFkA8oopu\")"
   ]
  },
  {
   "cell_type": "code",
   "execution_count": 2,
   "id": "c3b0e5cc",
   "metadata": {},
   "outputs": [],
   "source": [
    "from tqdm import tqdm\n",
    "\n",
    "import csv\n",
    "import numpy as np\n",
    "import pandas as pd\n",
    "import scipy.sparse as sp\n",
    "\n",
    "from sklearn.model_selection import train_test_split\n",
    "from sklearn.neighbors import NearestNeighbors\n",
    "from scipy.sparse import csr_matrix"
   ]
  },
  {
   "cell_type": "code",
   "execution_count": null,
   "id": "589a5107",
   "metadata": {},
   "outputs": [],
   "source": []
  },
  {
   "cell_type": "markdown",
   "id": "9098ed11",
   "metadata": {},
   "source": [
    "## 0. Preprocessing, split data and binary sparse matrix"
   ]
  },
  {
   "cell_type": "code",
   "execution_count": 3,
   "id": "1bd8ae7f",
   "metadata": {},
   "outputs": [],
   "source": [
    "playlists_dataset_with_mood = pd.read_csv('working/playlists_dataset_with_mood.csv')"
   ]
  },
  {
   "cell_type": "code",
   "execution_count": 4,
   "id": "2046f3bb",
   "metadata": {},
   "outputs": [
    {
     "name": "stderr",
     "output_type": "stream",
     "text": [
      "[codecarbon INFO @ 10:12:05] Energy consumed for RAM : 0.000050 kWh. RAM Power : 11.759872913360596 W\n",
      "[codecarbon INFO @ 10:12:05] Energy consumed for all CPUs : 0.000180 kWh. All CPUs Power : 42.5 W\n",
      "[codecarbon INFO @ 10:12:05] 0.000230 kWh of electricity used since the begining.\n"
     ]
    }
   ],
   "source": [
    "playlists_dataset_with_mood = playlists_dataset_with_mood.drop('description', axis=1)\n",
    "playlists_dataset_with_mood = playlists_dataset_with_mood.dropna()"
   ]
  },
  {
   "cell_type": "code",
   "execution_count": 5,
   "id": "353af3dc",
   "metadata": {},
   "outputs": [],
   "source": [
    "pdwm_100k = playlists_dataset_with_mood.sample(n=102773, random_state=12)\n",
    "\n",
    "mask = pdwm_100k['pid'].duplicated(keep=False)\n",
    "pdwm_100k_filtered = pdwm_100k[mask]"
   ]
  },
  {
   "cell_type": "code",
   "execution_count": 6,
   "id": "5f37b956",
   "metadata": {},
   "outputs": [
    {
     "data": {
      "text/plain": [
       "(100000, 29)"
      ]
     },
     "execution_count": 6,
     "metadata": {},
     "output_type": "execute_result"
    }
   ],
   "source": [
    "pdwm_100k_filtered.shape"
   ]
  },
  {
   "cell_type": "code",
   "execution_count": 7,
   "id": "ce73b8f4",
   "metadata": {},
   "outputs": [],
   "source": [
    "# Primer split: 80% para entrenamiento y 20% para el conjunto validación-testeo\n",
    "train, val_test = train_test_split(pdwm_100k_filtered, test_size=0.2, shuffle=True, random_state=12, stratify=pdwm_100k_filtered['pid'])\n",
    "\n",
    "# Segundo split: utilizando el conjunto validación-testeo: 10% para val y 10% para test.\n",
    "val, test = train_test_split(val_test, test_size=0.5, shuffle=True, random_state=12)"
   ]
  },
  {
   "cell_type": "code",
   "execution_count": 8,
   "id": "107045ad",
   "metadata": {},
   "outputs": [
    {
     "name": "stderr",
     "output_type": "stream",
     "text": [
      "[codecarbon INFO @ 10:12:20] Energy consumed for RAM : 0.000099 kWh. RAM Power : 11.759872913360596 W\n",
      "[codecarbon INFO @ 10:12:20] Energy consumed for all CPUs : 0.000357 kWh. All CPUs Power : 42.5 W\n",
      "[codecarbon INFO @ 10:12:20] 0.000456 kWh of electricity used since the begining.\n",
      "[codecarbon INFO @ 10:12:35] Energy consumed for RAM : 0.000148 kWh. RAM Power : 11.759872913360596 W\n",
      "[codecarbon INFO @ 10:12:35] Energy consumed for all CPUs : 0.000534 kWh. All CPUs Power : 42.5 W\n",
      "[codecarbon INFO @ 10:12:35] 0.000682 kWh of electricity used since the begining.\n",
      "[codecarbon INFO @ 10:12:50] Energy consumed for RAM : 0.000197 kWh. RAM Power : 11.759872913360596 W\n",
      "[codecarbon INFO @ 10:12:50] Energy consumed for all CPUs : 0.000711 kWh. All CPUs Power : 42.5 W\n",
      "[codecarbon INFO @ 10:12:50] 0.000908 kWh of electricity used since the begining.\n",
      "[codecarbon INFO @ 10:13:05] Energy consumed for RAM : 0.000246 kWh. RAM Power : 11.759872913360596 W\n",
      "[codecarbon INFO @ 10:13:05] Energy consumed for all CPUs : 0.000888 kWh. All CPUs Power : 42.5 W\n",
      "[codecarbon INFO @ 10:13:05] 0.001134 kWh of electricity used since the begining.\n",
      "[codecarbon INFO @ 10:13:20] Energy consumed for RAM : 0.000295 kWh. RAM Power : 11.759872913360596 W\n",
      "[codecarbon INFO @ 10:13:20] Energy consumed for all CPUs : 0.001065 kWh. All CPUs Power : 42.5 W\n",
      "[codecarbon INFO @ 10:13:20] 0.001360 kWh of electricity used since the begining.\n",
      "[codecarbon INFO @ 10:13:35] Energy consumed for RAM : 0.000344 kWh. RAM Power : 11.759872913360596 W\n",
      "[codecarbon INFO @ 10:13:35] Energy consumed for all CPUs : 0.001242 kWh. All CPUs Power : 42.5 W\n",
      "[codecarbon INFO @ 10:13:35] 0.001586 kWh of electricity used since the begining.\n",
      "[codecarbon INFO @ 10:13:50] Energy consumed for RAM : 0.000393 kWh. RAM Power : 11.759872913360596 W\n",
      "[codecarbon INFO @ 10:13:50] Energy consumed for all CPUs : 0.001419 kWh. All CPUs Power : 42.5 W\n",
      "[codecarbon INFO @ 10:13:50] 0.001812 kWh of electricity used since the begining.\n",
      "[codecarbon INFO @ 10:14:05] Energy consumed for RAM : 0.000442 kWh. RAM Power : 11.759872913360596 W\n",
      "[codecarbon INFO @ 10:14:05] Energy consumed for all CPUs : 0.001597 kWh. All CPUs Power : 42.5 W\n",
      "[codecarbon INFO @ 10:14:05] 0.002038 kWh of electricity used since the begining.\n",
      "[codecarbon INFO @ 10:14:20] Energy consumed for RAM : 0.000491 kWh. RAM Power : 11.759872913360596 W\n",
      "[codecarbon INFO @ 10:14:20] Energy consumed for all CPUs : 0.001774 kWh. All CPUs Power : 42.5 W\n",
      "[codecarbon INFO @ 10:14:20] 0.002264 kWh of electricity used since the begining.\n",
      "[codecarbon INFO @ 10:14:35] Energy consumed for RAM : 0.000540 kWh. RAM Power : 11.759872913360596 W\n",
      "[codecarbon INFO @ 10:14:35] Energy consumed for all CPUs : 0.001951 kWh. All CPUs Power : 42.5 W\n",
      "[codecarbon INFO @ 10:14:35] 0.002490 kWh of electricity used since the begining.\n",
      "[codecarbon INFO @ 10:14:50] Energy consumed for RAM : 0.000589 kWh. RAM Power : 11.759872913360596 W\n",
      "[codecarbon INFO @ 10:14:50] Energy consumed for all CPUs : 0.002128 kWh. All CPUs Power : 42.5 W\n",
      "[codecarbon INFO @ 10:14:50] 0.002716 kWh of electricity used since the begining.\n",
      "[codecarbon INFO @ 10:15:05] Energy consumed for RAM : 0.000638 kWh. RAM Power : 11.759872913360596 W\n",
      "[codecarbon INFO @ 10:15:05] Energy consumed for all CPUs : 0.002305 kWh. All CPUs Power : 42.5 W\n",
      "[codecarbon INFO @ 10:15:05] 0.002942 kWh of electricity used since the begining.\n",
      "[codecarbon INFO @ 10:15:20] Energy consumed for RAM : 0.000687 kWh. RAM Power : 11.759872913360596 W\n",
      "[codecarbon INFO @ 10:15:20] Energy consumed for all CPUs : 0.002482 kWh. All CPUs Power : 42.5 W\n",
      "[codecarbon INFO @ 10:15:20] 0.003168 kWh of electricity used since the begining.\n",
      "[codecarbon INFO @ 10:15:35] Energy consumed for RAM : 0.000736 kWh. RAM Power : 11.759872913360596 W\n",
      "[codecarbon INFO @ 10:15:35] Energy consumed for all CPUs : 0.002660 kWh. All CPUs Power : 42.5 W\n",
      "[codecarbon INFO @ 10:15:35] 0.003395 kWh of electricity used since the begining.\n"
     ]
    }
   ],
   "source": [
    "# Create Binary Sparse Matrix\n",
    "s_matrix = pd.crosstab(train.pid, train.track_uri)\n",
    "s_matrix = s_matrix.clip(upper=1)\n",
    "\n",
    "assert np.max(s_matrix.describe().loc['max']) == 1\n",
    "\n",
    "sparse_matrix = csr_matrix(s_matrix)"
   ]
  },
  {
   "cell_type": "code",
   "execution_count": 9,
   "id": "4f476929",
   "metadata": {},
   "outputs": [
    {
     "name": "stdout",
     "output_type": "stream",
     "text": [
      "False\n",
      "False\n"
     ]
    }
   ],
   "source": [
    "print(np.isnan(sparse_matrix.data).any())\n",
    "print(np.isinf(sparse_matrix.data).any())"
   ]
  },
  {
   "cell_type": "code",
   "execution_count": 10,
   "id": "a3f0c095",
   "metadata": {},
   "outputs": [
    {
     "data": {
      "text/plain": [
       "<15414x40583 sparse matrix of type '<class 'numpy.int64'>'\n",
       "\twith 79939 stored elements in Compressed Sparse Row format>"
      ]
     },
     "execution_count": 10,
     "metadata": {},
     "output_type": "execute_result"
    }
   ],
   "source": [
    "sparse_matrix"
   ]
  },
  {
   "cell_type": "code",
   "execution_count": 11,
   "id": "84cce9bd",
   "metadata": {},
   "outputs": [
    {
     "data": {
      "text/plain": [
       "NearestNeighbors(algorithm='brute', metric='cosine')"
      ]
     },
     "execution_count": 11,
     "metadata": {},
     "output_type": "execute_result"
    }
   ],
   "source": [
    "# Train kNN model\n",
    "model_kNN = NearestNeighbors(metric='cosine', algorithm='brute')\n",
    "\n",
    "model_kNN.fit(sparse_matrix)"
   ]
  },
  {
   "cell_type": "markdown",
   "id": "43d36bea",
   "metadata": {},
   "source": [
    "The cosine similarity metric is commonly used in collaborative filtering models. it measures the similarity between two vectors based on their orientation, regardless of their magnitude. This is useful for recommendation systems as it allows us to compare the similarity between playlists or songs even if they have different numbers of tracks or different levels of popularity.\n",
    "\n",
    "The brute force algorithm is a good choice when the dataset is not too large, which may force us to reduce the matrix and the data of the model. The brute force algorithm simply calculates the distance between each pair of points in the dataset, which can be computationally expensive for large datasets, but for smaller datasets it provides an accurate and simple solution."
   ]
  },
  {
   "cell_type": "code",
   "execution_count": null,
   "id": "8fbcd580",
   "metadata": {},
   "outputs": [],
   "source": []
  },
  {
   "cell_type": "markdown",
   "id": "83bf3ab3",
   "metadata": {},
   "source": [
    "### Making Predictions"
   ]
  },
  {
   "cell_type": "code",
   "execution_count": 12,
   "id": "1f86df87",
   "metadata": {},
   "outputs": [],
   "source": [
    "def nholdout(playlist_id, df):\n",
    "    \"\"\"\n",
    "    Returns the number of songs held out in the validation/test set for a given playlist ID.\n",
    "\n",
    "    Parameters:\n",
    "        playlist_id (int): The ID of the playlist.\n",
    "        df (pandas.DataFrame): The DataFrame containing the playlist data.\n",
    "\n",
    "    Returns:\n",
    "        int: The number of songs held out in the validation/test set.\n",
    "\n",
    "    \"\"\"\n",
    "    return len(df[df.pid == playlist_id].track_uri)\n",
    "\n",
    "def kpredict(knnmodel, playlist_id, df):\n",
    "    \"\"\"\n",
    "    Generates a list of 15*k predictions for a given playlist ID, where k is the number of holdouts.\n",
    "\n",
    "    Parameters:\n",
    "        knnmodel: The k-Nearest Neighbors model used for prediction.\n",
    "        playlist_id (int): The ID of the playlist for which to generate predictions.\n",
    "        df (pandas.DataFrame): The DataFrame containing the playlist data.\n",
    "\n",
    "    Returns:\n",
    "        list: A list of 15*k predictions for the specified playlist ID.\n",
    "\n",
    "    \"\"\"\n",
    "    \n",
    "    k = nholdout(playlist_id, df)*15 # number of holdouts\n",
    "    ref_songs = s_matrix.columns.values[s_matrix.loc[playlist_id] == 1] # songs already in playlist\n",
    "    dist, ind = knnmodel.kneighbors(np.array(s_matrix.loc[playlist_id]).reshape(1, -1), n_neighbors = 99)\n",
    "    rec_ind = s_matrix.index[ind[0]] # recommended playlists\n",
    "    \n",
    "    n_pred = 0\n",
    "    pred = []\n",
    "    for i in rec_ind:\n",
    "        new_songs = s_matrix.columns.values[s_matrix.loc[i] == 1] # potential recommendations\n",
    "        for song in new_songs:\n",
    "            if song not in ref_songs: # only getting songs not already in target playlist\n",
    "                pred.append(song)\n",
    "                n_pred += 1\n",
    "                if n_pred == k:\n",
    "                    break\n",
    "        if n_pred == k:\n",
    "            break\n",
    "    \n",
    "    return pred"
   ]
  },
  {
   "cell_type": "code",
   "execution_count": null,
   "id": "fcfd2511",
   "metadata": {},
   "outputs": [],
   "source": []
  },
  {
   "cell_type": "markdown",
   "id": "f62643b0",
   "metadata": {},
   "source": [
    "### Metrics"
   ]
  },
  {
   "cell_type": "code",
   "execution_count": 13,
   "id": "774bb9ad",
   "metadata": {},
   "outputs": [],
   "source": [
    "def r_precision(predictions, val_set):\n",
    "    \"\"\"\n",
    "    Computes the R-Precision score for a given playlist prediction set.\n",
    "\n",
    "    Parameters:\n",
    "        predictions (list or numpy.ndarray): A list or 1-D numpy array containing the predicted track URIs.\n",
    "        val_set (pandas.Series): A pandas Series representing the ground truth track URIs for the validation set.\n",
    "\n",
    "    Returns:\n",
    "        float: The R-Precision score.\n",
    "\n",
    "    \"\"\"\n",
    "    if val_set.shape[0] > 0:\n",
    "        score = np.sum(val_set.isin(predictions))/val_set.shape[0]\n",
    "    else:\n",
    "        score = 0.0\n",
    "    return score"
   ]
  },
  {
   "cell_type": "code",
   "execution_count": 14,
   "id": "36046dc8",
   "metadata": {},
   "outputs": [],
   "source": [
    "def dcg_at_k(r, k, method=0):\n",
    "    \"\"\"\n",
    "    Computes the Discounted Cumulative Gain (DCG) at a specified rank `k` given a list of relevance scores.\n",
    "\n",
    "    Parameters:\n",
    "        r (list or numpy.ndarray): A list or 1-D numpy array containing the relevance scores.\n",
    "        k (int): The rank at which to compute the DCG.\n",
    "        method (int, optional): The formula to use for computing the DCG. 0 for the default formula, 1 for the alternative formula. Default is 0.\n",
    "\n",
    "    Returns:\n",
    "        float: The DCG at rank `k`.\n",
    "\n",
    "    Raises:\n",
    "        ValueError: If `method` is not 0 or 1.\n",
    "\n",
    "    \"\"\"\n",
    "    r = np.asfarray(r)[:k]\n",
    "    if r.size:\n",
    "        if method == 0:\n",
    "            return r[0] + np.sum(r[1:] / np.log2(np.arange(2, r.size + 1)))\n",
    "        elif method == 1:\n",
    "            return np.sum(r / np.log2(np.arange(2, r.size + 2)))\n",
    "        else:\n",
    "            raise ValueError('method must be 0 or 1.')\n",
    "    return 0.\n",
    "\n",
    "\n",
    "def ndcg_at_k(r, k, method=0):\n",
    "    \"\"\"\n",
    "    Computes the Normalized Discounted Cumulative Gain (NDCG) at a specified rank `k` given a list of relevance scores.\n",
    "\n",
    "    Parameters:\n",
    "        r (list or numpy.ndarray): A list or 1-D numpy array containing the relevance scores.\n",
    "        k (int): The rank at which to compute the NDCG.\n",
    "        method (int, optional): The formula to use for computing the NDCG. 0 for the default formula, 1 for the alternative formula. Default is 0.\n",
    "\n",
    "    Returns:\n",
    "        float: The NDCG at rank `k`.\n",
    "\n",
    "    \"\"\"\n",
    "    dcg_max = dcg_at_k(sorted(r, reverse=True), k, method)\n",
    "    if not dcg_max:\n",
    "        return 0.\n",
    "    return dcg_at_k(r, k, method) / dcg_max"
   ]
  },
  {
   "cell_type": "code",
   "execution_count": null,
   "id": "1d763b59",
   "metadata": {},
   "outputs": [],
   "source": []
  },
  {
   "cell_type": "markdown",
   "id": "983dd3be",
   "metadata": {},
   "source": [
    "## Baseline Model Performance"
   ]
  },
  {
   "cell_type": "code",
   "execution_count": 15,
   "id": "0739f913",
   "metadata": {},
   "outputs": [
    {
     "name": "stderr",
     "output_type": "stream",
     "text": [
      "  0%|▏                                                                                                                     | 32/15414 [00:00<03:34, 71.73it/s][codecarbon INFO @ 10:15:50] Energy consumed for RAM : 0.000784 kWh. RAM Power : 11.759872913360596 W\n",
      "[codecarbon INFO @ 10:15:50] Energy consumed for all CPUs : 0.002836 kWh. All CPUs Power : 42.5 W\n",
      "[codecarbon INFO @ 10:15:50] 0.003620 kWh of electricity used since the begining.\n",
      "  8%|█████████                                                                                                           | 1203/15414 [00:15<03:04, 77.12it/s][codecarbon INFO @ 10:16:05] Energy consumed for RAM : 0.000833 kWh. RAM Power : 11.759872913360596 W\n",
      "[codecarbon INFO @ 10:16:05] Energy consumed for all CPUs : 0.003013 kWh. All CPUs Power : 42.5 W\n",
      "[codecarbon INFO @ 10:16:05] 0.003846 kWh of electricity used since the begining.\n",
      " 16%|██████████████████▊                                                                                                 | 2496/15414 [00:30<02:13, 96.69it/s][codecarbon INFO @ 10:16:20] Energy consumed for RAM : 0.000882 kWh. RAM Power : 11.759872913360596 W\n",
      "[codecarbon INFO @ 10:16:20] Energy consumed for all CPUs : 0.003190 kWh. All CPUs Power : 42.5 W\n",
      "[codecarbon INFO @ 10:16:20] 0.004072 kWh of electricity used since the begining.\n",
      " 25%|████████████████████████████▋                                                                                       | 3814/15414 [00:45<02:07, 90.68it/s][codecarbon INFO @ 10:16:35] Energy consumed for RAM : 0.000931 kWh. RAM Power : 11.759872913360596 W\n",
      "[codecarbon INFO @ 10:16:35] Energy consumed for all CPUs : 0.003367 kWh. All CPUs Power : 42.5 W\n",
      "[codecarbon INFO @ 10:16:35] 0.004298 kWh of electricity used since the begining.\n",
      " 32%|█████████████████████████████████████▋                                                                              | 5008/15414 [01:00<01:45, 99.08it/s][codecarbon INFO @ 10:16:50] Energy consumed for RAM : 0.000980 kWh. RAM Power : 11.759872913360596 W\n",
      "[codecarbon INFO @ 10:16:50] Energy consumed for all CPUs : 0.003544 kWh. All CPUs Power : 42.5 W\n",
      " 33%|█████████████████████████████████████▊                                                                              | 5019/15414 [01:00<01:47, 96.90it/s][codecarbon INFO @ 10:16:50] 0.004524 kWh of electricity used since the begining.\n",
      " 41%|███████████████████████████████████████████████▌                                                                    | 6326/15414 [01:15<01:44, 87.15it/s][codecarbon INFO @ 10:17:05] Energy consumed for RAM : 0.001029 kWh. RAM Power : 11.759872913360596 W\n",
      "[codecarbon INFO @ 10:17:05] Energy consumed for all CPUs : 0.003721 kWh. All CPUs Power : 42.5 W\n",
      "[codecarbon INFO @ 10:17:05] 0.004750 kWh of electricity used since the begining.\n",
      " 49%|████████████████████████████████████████████████████████▉                                                           | 7565/15414 [01:30<01:21, 96.89it/s][codecarbon INFO @ 10:17:20] Energy consumed for RAM : 0.001078 kWh. RAM Power : 11.759872913360596 W\n",
      "[codecarbon INFO @ 10:17:20] Energy consumed for all CPUs : 0.003898 kWh. All CPUs Power : 42.5 W\n",
      "[codecarbon INFO @ 10:17:20] 0.004976 kWh of electricity used since the begining.\n",
      " 57%|██████████████████████████████████████████████████████████████████▌                                                 | 8837/15414 [01:45<01:15, 87.60it/s][codecarbon INFO @ 10:17:35] Energy consumed for RAM : 0.001127 kWh. RAM Power : 11.759872913360596 W\n",
      "[codecarbon INFO @ 10:17:35] Energy consumed for all CPUs : 0.004075 kWh. All CPUs Power : 42.5 W\n",
      "[codecarbon INFO @ 10:17:35] 0.005202 kWh of electricity used since the begining.\n",
      " 66%|███████████████████████████████████████████████████████████████████████████▌                                       | 10120/15414 [02:00<01:19, 66.98it/s][codecarbon INFO @ 10:17:50] Energy consumed for RAM : 0.001176 kWh. RAM Power : 11.759872913360596 W\n",
      "[codecarbon INFO @ 10:17:50] Energy consumed for all CPUs : 0.004252 kWh. All CPUs Power : 42.5 W\n",
      "[codecarbon INFO @ 10:17:50] 0.005428 kWh of electricity used since the begining.\n",
      " 74%|████████████████████████████████████████████████████████████████████████████████████▉                              | 11380/15414 [02:15<00:45, 88.93it/s][codecarbon INFO @ 10:18:05] Energy consumed for RAM : 0.001225 kWh. RAM Power : 11.759872913360596 W\n",
      "[codecarbon INFO @ 10:18:05] Energy consumed for all CPUs : 0.004429 kWh. All CPUs Power : 42.5 W\n",
      "[codecarbon INFO @ 10:18:05] 0.005654 kWh of electricity used since the begining.\n",
      " 82%|██████████████████████████████████████████████████████████████████████████████████████████████▋                    | 12699/15414 [02:30<00:29, 91.38it/s][codecarbon INFO @ 10:18:20] Energy consumed for RAM : 0.001274 kWh. RAM Power : 11.759872913360596 W\n",
      "[codecarbon INFO @ 10:18:20] Energy consumed for all CPUs : 0.004606 kWh. All CPUs Power : 42.5 W\n",
      "[codecarbon INFO @ 10:18:20] 0.005880 kWh of electricity used since the begining.\n",
      " 91%|████████████████████████████████████████████████████████████████████████████████████████████████████████▍          | 13997/15414 [02:45<00:14, 95.45it/s][codecarbon INFO @ 10:18:35] Energy consumed for RAM : 0.001323 kWh. RAM Power : 11.759872913360596 W\n",
      "[codecarbon INFO @ 10:18:35] Energy consumed for all CPUs : 0.004783 kWh. All CPUs Power : 42.5 W\n",
      "[codecarbon INFO @ 10:18:35] 0.006107 kWh of electricity used since the begining.\n",
      " 99%|█████████████████████████████████████████████████████████████████████████████████████████████████████████████████▊ | 15260/15414 [03:00<00:01, 81.23it/s][codecarbon INFO @ 10:18:50] Energy consumed for RAM : 0.001372 kWh. RAM Power : 11.759872913360596 W\n",
      "[codecarbon INFO @ 10:18:50] Energy consumed for all CPUs : 0.004960 kWh. All CPUs Power : 42.5 W\n",
      "[codecarbon INFO @ 10:18:50] 0.006333 kWh of electricity used since the begining.\n",
      "100%|███████████████████████████████████████████████████████████████████████████████████████████████████████████████████| 15414/15414 [03:02<00:00, 84.50it/s]\n"
     ]
    }
   ],
   "source": [
    "rps = []\n",
    "ndcgs = []\n",
    "\n",
    "for pid in tqdm(s_matrix.index):\n",
    "    ps = kpredict(model_kNN, pid, val)\n",
    "    vs = val[val.pid == pid].track_uri\n",
    "    rps.append(r_precision(ps, vs))\n",
    "\n",
    "    r = np.zeros(len(ps))\n",
    "    for i, p in enumerate(ps):\n",
    "        if np.any(vs.isin([p])):\n",
    "            r[i] = 1\n",
    "    ndcgs.append(ndcg_at_k(r, len(r)))"
   ]
  },
  {
   "cell_type": "code",
   "execution_count": 16,
   "id": "b63e256e",
   "metadata": {},
   "outputs": [
    {
     "name": "stdout",
     "output_type": "stream",
     "text": [
      "Avg. R-Precision:  0.006411919899658319\n",
      "Avg. NDCG:  0.003375014498975917\n",
      "Total Sum:  0.004893467199317118\n"
     ]
    }
   ],
   "source": [
    "avg_rp = np.mean(rps)\n",
    "avg_ndcg = np.mean(ndcgs)\n",
    "\n",
    "print('Avg. R-Precision: ', avg_rp)\n",
    "print('Avg. NDCG: ', avg_ndcg)\n",
    "print('Total Sum: ', np.mean([avg_rp, avg_ndcg]))"
   ]
  },
  {
   "cell_type": "code",
   "execution_count": 17,
   "id": "12592a3d",
   "metadata": {},
   "outputs": [
    {
     "name": "stderr",
     "output_type": "stream",
     "text": [
      "[codecarbon INFO @ 10:18:52] Energy consumed for RAM : 0.001379 kWh. RAM Power : 11.759872913360596 W\n",
      "[codecarbon INFO @ 10:18:52] Energy consumed for all CPUs : 0.004984 kWh. All CPUs Power : 42.5 W\n",
      "[codecarbon INFO @ 10:18:52] 0.006363 kWh of electricity used since the begining.\n",
      "\u001b[1;38;5;39mCOMET INFO:\u001b[0m ---------------------------------------------------------------------------------------\n",
      "\u001b[1;38;5;39mCOMET INFO:\u001b[0m Comet.ml Experiment Summary\n",
      "\u001b[1;38;5;39mCOMET INFO:\u001b[0m ---------------------------------------------------------------------------------------\n",
      "\u001b[1;38;5;39mCOMET INFO:\u001b[0m   Data:\n",
      "\u001b[1;38;5;39mCOMET INFO:\u001b[0m     display_summary_level : 1\n",
      "\u001b[1;38;5;39mCOMET INFO:\u001b[0m     url                   : https://www.comet.com/sadcor/general/bf65e21ab30141ec93b0fb71f9be1ea8\n",
      "\u001b[1;38;5;39mCOMET INFO:\u001b[0m   Parameters:\n",
      "\u001b[1;38;5;39mCOMET INFO:\u001b[0m     algorithm     : brute\n",
      "\u001b[1;38;5;39mCOMET INFO:\u001b[0m     leaf_size     : 30\n",
      "\u001b[1;38;5;39mCOMET INFO:\u001b[0m     metric        : cosine\n",
      "\u001b[1;38;5;39mCOMET INFO:\u001b[0m     metric_params : 1\n",
      "\u001b[1;38;5;39mCOMET INFO:\u001b[0m     n_jobs        : 1\n",
      "\u001b[1;38;5;39mCOMET INFO:\u001b[0m     n_neighbors   : 5\n",
      "\u001b[1;38;5;39mCOMET INFO:\u001b[0m     p             : 2\n",
      "\u001b[1;38;5;39mCOMET INFO:\u001b[0m     radius        : 1.0\n",
      "\u001b[1;38;5;39mCOMET INFO:\u001b[0m   Uploads:\n",
      "\u001b[1;38;5;39mCOMET INFO:\u001b[0m     asset               : 1 (702 bytes)\n",
      "\u001b[1;38;5;39mCOMET INFO:\u001b[0m     environment details : 1\n",
      "\u001b[1;38;5;39mCOMET INFO:\u001b[0m     filename            : 1\n",
      "\u001b[1;38;5;39mCOMET INFO:\u001b[0m     installed packages  : 1\n",
      "\u001b[1;38;5;39mCOMET INFO:\u001b[0m     notebook            : 1\n",
      "\u001b[1;38;5;39mCOMET INFO:\u001b[0m     os packages         : 1\n",
      "\u001b[1;38;5;39mCOMET INFO:\u001b[0m     source_code         : 1\n",
      "\u001b[1;38;5;39mCOMET INFO:\u001b[0m \n",
      "\u001b[1;38;5;39mCOMET INFO:\u001b[0m Please wait for metadata to finish uploading (timeout is 3600 seconds)\n"
     ]
    }
   ],
   "source": [
    "experiment.end()"
   ]
  },
  {
   "cell_type": "code",
   "execution_count": null,
   "id": "ceb23c52",
   "metadata": {},
   "outputs": [],
   "source": []
  }
 ],
 "metadata": {
  "kernelspec": {
   "display_name": "Python 3 (ipykernel)",
   "language": "python",
   "name": "python3"
  },
  "language_info": {
   "codemirror_mode": {
    "name": "ipython",
    "version": 3
   },
   "file_extension": ".py",
   "mimetype": "text/x-python",
   "name": "python",
   "nbconvert_exporter": "python",
   "pygments_lexer": "ipython3",
   "version": "3.8.10"
  }
 },
 "nbformat": 4,
 "nbformat_minor": 5
}
