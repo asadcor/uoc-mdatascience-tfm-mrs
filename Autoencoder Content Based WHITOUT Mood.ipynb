{
 "cells": [
  {
   "cell_type": "markdown",
   "id": "9098ed11",
   "metadata": {},
   "source": [
    "# Autoencoder Content-Based Recommender - NO MOOD\n",
    "\n",
    "Same as the Autoencoder Content-Based but without the Mood column."
   ]
  },
  {
   "cell_type": "code",
   "execution_count": 2,
   "id": "ae516742",
   "metadata": {},
   "outputs": [
    {
     "name": "stderr",
     "output_type": "stream",
     "text": [
      "\u001b[1;38;5;214mCOMET WARNING:\u001b[0m As you are running in a Jupyter environment, you will need to call `experiment.end()` when finished to ensure all metrics and code are logged before exiting.\n",
      "[codecarbon INFO @ 11:19:05] [setup] RAM Tracking...\n",
      "[codecarbon INFO @ 11:19:05] [setup] GPU Tracking...\n",
      "[codecarbon INFO @ 11:19:05] No GPU found.\n",
      "[codecarbon INFO @ 11:19:05] [setup] CPU Tracking...\n",
      "[codecarbon WARNING @ 11:19:05] No CPU tracking mode found. Falling back on CPU constant mode.\n",
      "[codecarbon WARNING @ 11:19:06] We saw that you have a Intel(R) Xeon(R) CPU E5-2630 v3 @ 2.40GHz but we don't know it. Please contact us.\n",
      "[codecarbon INFO @ 11:19:06] CPU Model on constant consumption mode: Intel(R) Xeon(R) CPU E5-2630 v3 @ 2.40GHz\n",
      "[codecarbon INFO @ 11:19:06] >>> Tracker's metadata:\n",
      "[codecarbon INFO @ 11:19:06]   Platform system: Linux-5.4.0-147-generic-x86_64-with-glibc2.29\n",
      "[codecarbon INFO @ 11:19:06]   Python version: 3.8.10\n",
      "[codecarbon INFO @ 11:19:06]   Available RAM : 31.360 GB\n",
      "[codecarbon INFO @ 11:19:06]   CPU count: 8\n",
      "[codecarbon INFO @ 11:19:06]   CPU model: Intel(R) Xeon(R) CPU E5-2630 v3 @ 2.40GHz\n",
      "[codecarbon INFO @ 11:19:06]   GPU count: None\n",
      "[codecarbon INFO @ 11:19:06]   GPU model: None\n",
      "\u001b[1;38;5;39mCOMET INFO:\u001b[0m Couldn't find a Git repository in '/home/asadcor' nor in any parent directory. Set `COMET_GIT_DIRECTORY` if your Git Repository is elsewhere.\n",
      "\u001b[1;38;5;39mCOMET INFO:\u001b[0m Experiment is live on comet.com https://www.comet.com/sadcor/general/887968865d1f4013a0ca19887dbfbf64\n",
      "\n"
     ]
    }
   ],
   "source": [
    "from comet_ml import Experiment\n",
    "experiment = Experiment(api_key=\"ummagUWZ5eIZzmhPtFkA8oopu\")"
   ]
  },
  {
   "cell_type": "code",
   "execution_count": 3,
   "id": "c3b0e5cc",
   "metadata": {},
   "outputs": [
    {
     "name": "stderr",
     "output_type": "stream",
     "text": [
      "Matplotlib created a temporary config/cache directory at /tmp/matplotlib-lrlfharb because the default path (/home/asadcor/.cache/matplotlib) is not a writable directory; it is highly recommended to set the MPLCONFIGDIR environment variable to a writable directory, in particular to speed up the import of Matplotlib and to better support multiprocessing.\n",
      "2023-05-04 11:19:16.543328: W tensorflow/stream_executor/platform/default/dso_loader.cc:64] Could not load dynamic library 'libcudart.so.11.0'; dlerror: libcudart.so.11.0: cannot open shared object file: No such file or directory\n",
      "2023-05-04 11:19:16.543385: I tensorflow/stream_executor/cuda/cudart_stub.cc:29] Ignore above cudart dlerror if you do not have a GPU set up on your machine.\n"
     ]
    }
   ],
   "source": [
    "from tqdm import tqdm\n",
    "import time\n",
    "\n",
    "import csv\n",
    "import numpy as np\n",
    "import pandas as pd\n",
    "import scipy.sparse as sp\n",
    "\n",
    "import matplotlib.pyplot as plt\n",
    "\n",
    "from sklearn.model_selection import train_test_split\n",
    "from sklearn.preprocessing import MinMaxScaler\n",
    "from sklearn.metrics.pairwise import cosine_similarity \n",
    "\n",
    "import keras\n",
    "import tensorflow as tf\n",
    "from keras.callbacks import ModelCheckpoint\n",
    "from keras.models import load_model\n",
    "from sklearn.preprocessing import OneHotEncoder\n",
    "from sklearn.metrics import confusion_matrix\n",
    "from sklearn.metrics import f1_score\n",
    "from sklearn.metrics import roc_auc_score\n",
    "\n",
    "from keras.layers import (GlobalAveragePooling2D, Flatten, Dense, Dropout, Conv2D, Conv2DTranspose, BatchNormalization, AlphaDropout, MaxPooling2D, UpSampling2D, Rescaling, Resizing, LeakyReLU)\n",
    "from keras.callbacks import EarlyStopping, ModelCheckpoint, ReduceLROnPlateau\n",
    "from tensorflow.keras.optimizers import Adam, SGD\n",
    "from keras import Sequential, Model"
   ]
  },
  {
   "cell_type": "markdown",
   "id": "1fd3bf97",
   "metadata": {},
   "source": [
    "## Part 1: Autoencoder"
   ]
  },
  {
   "cell_type": "code",
   "execution_count": 4,
   "id": "1bd8ae7f",
   "metadata": {},
   "outputs": [],
   "source": [
    "playlists_dataset_with_mood = pd.read_csv('working/playlists_dataset_with_mood.csv')"
   ]
  },
  {
   "cell_type": "markdown",
   "id": "9fae6570",
   "metadata": {},
   "source": [
    "### Data cleaning"
   ]
  },
  {
   "cell_type": "code",
   "execution_count": 5,
   "id": "247a9471",
   "metadata": {},
   "outputs": [],
   "source": [
    "df_unique_songs = playlists_dataset_with_mood.drop_duplicates(['track_uri'])\n",
    "\n",
    "df_tracks = df_unique_songs['track_uri']\n",
    "df_track_names = df_unique_songs['track_name']\n",
    "\n",
    "df_songs_clean = df_unique_songs.drop(columns=[\n",
    "    'pid', 'pos', 'name', 'description', 'modified_at', 'num_tracks','num_albums','num_followers',\n",
    "    'num_edits', 'artist_name', 'track_name','album_name', 'track_uri','album_release_date', 'mood'])\n",
    "\n",
    "\n",
    "mean_popularity = df_songs_clean['track_popularity'].mean()\n",
    "df_songs_clean['track_popularity'] = df_songs_clean['track_popularity'].fillna(mean_popularity)\n",
    "\n",
    "df_songs_clean['track_explicit'] = df_songs_clean['track_explicit'].fillna(False)\n",
    "\n",
    "df_songs_clean['track_explicit'] = df_songs_clean['track_explicit'].astype(int)"
   ]
  },
  {
   "cell_type": "code",
   "execution_count": 6,
   "id": "0d876ba4",
   "metadata": {},
   "outputs": [],
   "source": [
    "# index reset\n",
    "df_songs_clean = df_songs_clean.reset_index(drop=True)"
   ]
  },
  {
   "cell_type": "code",
   "execution_count": 7,
   "id": "14668de3",
   "metadata": {},
   "outputs": [],
   "source": [
    "# mood_map = {'Energetic': np.array([0, 1]),'Calm': np.array([0, -1]),'Sad': np.array([-1, 0]),'Happy': np.array([1, 0]),'Anxious': np.array([-1, 1]),'Depression': np.array([-1, -1]),'Exuberance': np.array([1, 1]),'Contentment': np.array([1, -1])}\n",
    "# df_songs_clean['mood'] = df_songs_clean['mood'].map(mood_map)"
   ]
  },
  {
   "cell_type": "code",
   "execution_count": 8,
   "id": "eeb3069f",
   "metadata": {},
   "outputs": [
    {
     "data": {
      "text/html": [
       "<div>\n",
       "<style scoped>\n",
       "    .dataframe tbody tr th:only-of-type {\n",
       "        vertical-align: middle;\n",
       "    }\n",
       "\n",
       "    .dataframe tbody tr th {\n",
       "        vertical-align: top;\n",
       "    }\n",
       "\n",
       "    .dataframe thead th {\n",
       "        text-align: right;\n",
       "    }\n",
       "</style>\n",
       "<table border=\"1\" class=\"dataframe\">\n",
       "  <thead>\n",
       "    <tr style=\"text-align: right;\">\n",
       "      <th></th>\n",
       "      <th>danceability</th>\n",
       "      <th>energy</th>\n",
       "      <th>key</th>\n",
       "      <th>loudness</th>\n",
       "      <th>mode</th>\n",
       "      <th>speechiness</th>\n",
       "      <th>acousticness</th>\n",
       "      <th>instrumentalness</th>\n",
       "      <th>liveness</th>\n",
       "      <th>valence</th>\n",
       "      <th>tempo</th>\n",
       "      <th>duration_ms</th>\n",
       "      <th>time_signature</th>\n",
       "      <th>track_popularity</th>\n",
       "      <th>track_explicit</th>\n",
       "    </tr>\n",
       "  </thead>\n",
       "  <tbody>\n",
       "    <tr>\n",
       "      <th>0</th>\n",
       "      <td>0.674</td>\n",
       "      <td>0.413</td>\n",
       "      <td>2</td>\n",
       "      <td>-7.816</td>\n",
       "      <td>1</td>\n",
       "      <td>0.0274</td>\n",
       "      <td>0.836</td>\n",
       "      <td>0.000019</td>\n",
       "      <td>0.0980</td>\n",
       "      <td>0.503</td>\n",
       "      <td>124.893</td>\n",
       "      <td>237907</td>\n",
       "      <td>3</td>\n",
       "      <td>68.0</td>\n",
       "      <td>0</td>\n",
       "    </tr>\n",
       "    <tr>\n",
       "      <th>1</th>\n",
       "      <td>0.630</td>\n",
       "      <td>0.530</td>\n",
       "      <td>0</td>\n",
       "      <td>-7.259</td>\n",
       "      <td>1</td>\n",
       "      <td>0.0434</td>\n",
       "      <td>0.400</td>\n",
       "      <td>0.000000</td>\n",
       "      <td>0.1770</td>\n",
       "      <td>0.417</td>\n",
       "      <td>108.038</td>\n",
       "      <td>225053</td>\n",
       "      <td>3</td>\n",
       "      <td>79.0</td>\n",
       "      <td>0</td>\n",
       "    </tr>\n",
       "    <tr>\n",
       "      <th>2</th>\n",
       "      <td>0.456</td>\n",
       "      <td>0.636</td>\n",
       "      <td>1</td>\n",
       "      <td>-6.552</td>\n",
       "      <td>1</td>\n",
       "      <td>0.0432</td>\n",
       "      <td>0.462</td>\n",
       "      <td>0.000189</td>\n",
       "      <td>0.2520</td>\n",
       "      <td>0.492</td>\n",
       "      <td>183.866</td>\n",
       "      <td>205760</td>\n",
       "      <td>3</td>\n",
       "      <td>33.0</td>\n",
       "      <td>0</td>\n",
       "    </tr>\n",
       "    <tr>\n",
       "      <th>3</th>\n",
       "      <td>0.586</td>\n",
       "      <td>0.128</td>\n",
       "      <td>7</td>\n",
       "      <td>-9.297</td>\n",
       "      <td>1</td>\n",
       "      <td>0.0496</td>\n",
       "      <td>0.963</td>\n",
       "      <td>0.000000</td>\n",
       "      <td>0.0858</td>\n",
       "      <td>0.371</td>\n",
       "      <td>123.498</td>\n",
       "      <td>276067</td>\n",
       "      <td>4</td>\n",
       "      <td>69.0</td>\n",
       "      <td>0</td>\n",
       "    </tr>\n",
       "  </tbody>\n",
       "</table>\n",
       "</div>"
      ],
      "text/plain": [
       "   danceability  energy  key  loudness  mode  speechiness  acousticness  \\\n",
       "0         0.674   0.413    2    -7.816     1       0.0274         0.836   \n",
       "1         0.630   0.530    0    -7.259     1       0.0434         0.400   \n",
       "2         0.456   0.636    1    -6.552     1       0.0432         0.462   \n",
       "3         0.586   0.128    7    -9.297     1       0.0496         0.963   \n",
       "\n",
       "   instrumentalness  liveness  valence    tempo  duration_ms  time_signature  \\\n",
       "0          0.000019    0.0980    0.503  124.893       237907               3   \n",
       "1          0.000000    0.1770    0.417  108.038       225053               3   \n",
       "2          0.000189    0.2520    0.492  183.866       205760               3   \n",
       "3          0.000000    0.0858    0.371  123.498       276067               4   \n",
       "\n",
       "   track_popularity  track_explicit  \n",
       "0              68.0               0  \n",
       "1              79.0               0  \n",
       "2              33.0               0  \n",
       "3              69.0               0  "
      ]
     },
     "execution_count": 8,
     "metadata": {},
     "output_type": "execute_result"
    },
    {
     "name": "stderr",
     "output_type": "stream",
     "text": [
      "[codecarbon INFO @ 11:19:25] Energy consumed for RAM : 0.000049 kWh. RAM Power : 11.759872913360596 W\n",
      "[codecarbon INFO @ 11:19:25] Energy consumed for all CPUs : 0.000177 kWh. All CPUs Power : 42.5 W\n",
      "[codecarbon INFO @ 11:19:25] 0.000226 kWh of electricity used since the begining.\n"
     ]
    }
   ],
   "source": [
    "df_songs_clean.head(4)"
   ]
  },
  {
   "cell_type": "markdown",
   "id": "663ccabb",
   "metadata": {},
   "source": [
    "### Standardizing the data"
   ]
  },
  {
   "cell_type": "code",
   "execution_count": 9,
   "id": "fd844f49",
   "metadata": {
    "scrolled": false
   },
   "outputs": [],
   "source": [
    "scaler = MinMaxScaler()\n",
    "scaler.fit(df_songs_clean)\n",
    "songs_scaled = scaler.transform(df_songs_clean)"
   ]
  },
  {
   "cell_type": "code",
   "execution_count": 10,
   "id": "b6b703b4",
   "metadata": {},
   "outputs": [
    {
     "data": {
      "text/plain": [
       "(268230, 15)"
      ]
     },
     "execution_count": 10,
     "metadata": {},
     "output_type": "execute_result"
    },
    {
     "name": "stderr",
     "output_type": "stream",
     "text": [
      "[codecarbon INFO @ 11:19:40] Energy consumed for RAM : 0.000098 kWh. RAM Power : 11.759872913360596 W\n",
      "[codecarbon INFO @ 11:19:40] Energy consumed for all CPUs : 0.000354 kWh. All CPUs Power : 42.5 W\n",
      "[codecarbon INFO @ 11:19:40] 0.000452 kWh of electricity used since the begining.\n"
     ]
    }
   ],
   "source": [
    "songs_scaled.shape"
   ]
  },
  {
   "cell_type": "code",
   "execution_count": 11,
   "id": "55760edc",
   "metadata": {},
   "outputs": [
    {
     "data": {
      "text/html": [
       "<div>\n",
       "<style scoped>\n",
       "    .dataframe tbody tr th:only-of-type {\n",
       "        vertical-align: middle;\n",
       "    }\n",
       "\n",
       "    .dataframe tbody tr th {\n",
       "        vertical-align: top;\n",
       "    }\n",
       "\n",
       "    .dataframe thead th {\n",
       "        text-align: right;\n",
       "    }\n",
       "</style>\n",
       "<table border=\"1\" class=\"dataframe\">\n",
       "  <thead>\n",
       "    <tr style=\"text-align: right;\">\n",
       "      <th></th>\n",
       "      <th>0</th>\n",
       "      <th>1</th>\n",
       "      <th>2</th>\n",
       "      <th>3</th>\n",
       "      <th>4</th>\n",
       "      <th>5</th>\n",
       "      <th>6</th>\n",
       "      <th>7</th>\n",
       "      <th>8</th>\n",
       "      <th>9</th>\n",
       "      <th>10</th>\n",
       "      <th>11</th>\n",
       "      <th>12</th>\n",
       "      <th>13</th>\n",
       "      <th>14</th>\n",
       "    </tr>\n",
       "  </thead>\n",
       "  <tbody>\n",
       "    <tr>\n",
       "      <th>0</th>\n",
       "      <td>0.680808</td>\n",
       "      <td>0.413</td>\n",
       "      <td>0.181818</td>\n",
       "      <td>0.807327</td>\n",
       "      <td>1.0</td>\n",
       "      <td>0.028277</td>\n",
       "      <td>0.839357</td>\n",
       "      <td>0.000019</td>\n",
       "      <td>0.0980</td>\n",
       "      <td>0.503</td>\n",
       "      <td>0.506762</td>\n",
       "      <td>0.043487</td>\n",
       "      <td>0.6</td>\n",
       "      <td>0.739130</td>\n",
       "      <td>0.0</td>\n",
       "    </tr>\n",
       "    <tr>\n",
       "      <th>1</th>\n",
       "      <td>0.636364</td>\n",
       "      <td>0.530</td>\n",
       "      <td>0.000000</td>\n",
       "      <td>0.815944</td>\n",
       "      <td>1.0</td>\n",
       "      <td>0.044788</td>\n",
       "      <td>0.401606</td>\n",
       "      <td>0.000000</td>\n",
       "      <td>0.1770</td>\n",
       "      <td>0.417</td>\n",
       "      <td>0.438372</td>\n",
       "      <td>0.041107</td>\n",
       "      <td>0.6</td>\n",
       "      <td>0.858696</td>\n",
       "      <td>0.0</td>\n",
       "    </tr>\n",
       "    <tr>\n",
       "      <th>2</th>\n",
       "      <td>0.460606</td>\n",
       "      <td>0.636</td>\n",
       "      <td>0.090909</td>\n",
       "      <td>0.826882</td>\n",
       "      <td>1.0</td>\n",
       "      <td>0.044582</td>\n",
       "      <td>0.463855</td>\n",
       "      <td>0.000189</td>\n",
       "      <td>0.2520</td>\n",
       "      <td>0.492</td>\n",
       "      <td>0.746049</td>\n",
       "      <td>0.037535</td>\n",
       "      <td>0.6</td>\n",
       "      <td>0.358696</td>\n",
       "      <td>0.0</td>\n",
       "    </tr>\n",
       "    <tr>\n",
       "      <th>3</th>\n",
       "      <td>0.591919</td>\n",
       "      <td>0.128</td>\n",
       "      <td>0.636364</td>\n",
       "      <td>0.784415</td>\n",
       "      <td>1.0</td>\n",
       "      <td>0.051187</td>\n",
       "      <td>0.966867</td>\n",
       "      <td>0.000000</td>\n",
       "      <td>0.0858</td>\n",
       "      <td>0.371</td>\n",
       "      <td>0.501102</td>\n",
       "      <td>0.050553</td>\n",
       "      <td>0.8</td>\n",
       "      <td>0.750000</td>\n",
       "      <td>0.0</td>\n",
       "    </tr>\n",
       "  </tbody>\n",
       "</table>\n",
       "</div>"
      ],
      "text/plain": [
       "         0      1         2         3    4         5         6         7   \\\n",
       "0  0.680808  0.413  0.181818  0.807327  1.0  0.028277  0.839357  0.000019   \n",
       "1  0.636364  0.530  0.000000  0.815944  1.0  0.044788  0.401606  0.000000   \n",
       "2  0.460606  0.636  0.090909  0.826882  1.0  0.044582  0.463855  0.000189   \n",
       "3  0.591919  0.128  0.636364  0.784415  1.0  0.051187  0.966867  0.000000   \n",
       "\n",
       "       8      9         10        11   12        13   14  \n",
       "0  0.0980  0.503  0.506762  0.043487  0.6  0.739130  0.0  \n",
       "1  0.1770  0.417  0.438372  0.041107  0.6  0.858696  0.0  \n",
       "2  0.2520  0.492  0.746049  0.037535  0.6  0.358696  0.0  \n",
       "3  0.0858  0.371  0.501102  0.050553  0.8  0.750000  0.0  "
      ]
     },
     "execution_count": 11,
     "metadata": {},
     "output_type": "execute_result"
    },
    {
     "name": "stderr",
     "output_type": "stream",
     "text": [
      "[codecarbon INFO @ 11:19:55] Energy consumed for RAM : 0.000147 kWh. RAM Power : 11.759872913360596 W\n",
      "[codecarbon INFO @ 11:19:55] Energy consumed for all CPUs : 0.000531 kWh. All CPUs Power : 42.5 W\n",
      "[codecarbon INFO @ 11:19:55] 0.000678 kWh of electricity used since the begining.\n"
     ]
    }
   ],
   "source": [
    "df_songs_scaled = pd.DataFrame(songs_scaled)\n",
    "df_songs_scaled.head(4)"
   ]
  },
  {
   "cell_type": "code",
   "execution_count": null,
   "id": "ac92c9f6",
   "metadata": {},
   "outputs": [],
   "source": []
  },
  {
   "cell_type": "code",
   "execution_count": 12,
   "id": "49433641",
   "metadata": {},
   "outputs": [
    {
     "name": "stderr",
     "output_type": "stream",
     "text": [
      "[codecarbon INFO @ 11:20:10] Energy consumed for RAM : 0.000196 kWh. RAM Power : 11.759872913360596 W\n",
      "[codecarbon INFO @ 11:20:10] Energy consumed for all CPUs : 0.000708 kWh. All CPUs Power : 42.5 W\n",
      "[codecarbon INFO @ 11:20:10] 0.000904 kWh of electricity used since the begining.\n",
      "[codecarbon INFO @ 11:20:25] Energy consumed for RAM : 0.000245 kWh. RAM Power : 11.759872913360596 W\n",
      "[codecarbon INFO @ 11:20:25] Energy consumed for all CPUs : 0.000885 kWh. All CPUs Power : 42.5 W\n",
      "[codecarbon INFO @ 11:20:25] 0.001130 kWh of electricity used since the begining.\n",
      "[codecarbon INFO @ 11:20:40] Energy consumed for RAM : 0.000294 kWh. RAM Power : 11.759872913360596 W\n",
      "[codecarbon INFO @ 11:20:40] Energy consumed for all CPUs : 0.001062 kWh. All CPUs Power : 42.5 W\n",
      "[codecarbon INFO @ 11:20:40] 0.001356 kWh of electricity used since the begining.\n",
      "[codecarbon INFO @ 11:20:55] Energy consumed for RAM : 0.000343 kWh. RAM Power : 11.759872913360596 W\n",
      "[codecarbon INFO @ 11:20:55] Energy consumed for all CPUs : 0.001239 kWh. All CPUs Power : 42.5 W\n",
      "[codecarbon INFO @ 11:20:55] 0.001582 kWh of electricity used since the begining.\n"
     ]
    }
   ],
   "source": [
    "train, val_test = train_test_split(songs_scaled, test_size=0.2, shuffle=True, random_state=12)\n",
    "val, test = train_test_split(val_test, test_size=0.5, shuffle=True, random_state=12)"
   ]
  },
  {
   "attachments": {
    "image-2.png": {
     "image/png": "[encoded data removed]"
    }
   },
   "cell_type": "markdown",
   "id": "4dd3c0f2",
   "metadata": {},
   "source": [
    "## Autoencoder design and training\n",
    "\n",
    "\n",
    "![image-2.png](attachment:image-2.png)\n",
    "A well-trained autoencoder is capable to provide a good latent representation. This representation is quite different from the original data but it has all the information contained in the input layer.\n",
    "\n",
    "https://datascience.stackexchange.com/questions/33338/autoencoder-for-features-selection"
   ]
  },
  {
   "cell_type": "code",
   "execution_count": null,
   "id": "0171f48b",
   "metadata": {},
   "outputs": [],
   "source": []
  },
  {
   "cell_type": "code",
   "execution_count": 17,
   "id": "10e31970",
   "metadata": {},
   "outputs": [],
   "source": [
    "input_song = keras.layers.Input(shape=(15,))\n",
    "\n",
    "# Encoder\n",
    "x = Dense(128, activation='relu')(input_song)\n",
    "x = BatchNormalization()(x)\n",
    "x = LeakyReLU()(x)\n",
    "x = Dropout(0.2)(x)\n",
    "\n",
    "x = Dense(64, activation='relu')(x)\n",
    "x = BatchNormalization()(x)\n",
    "x = LeakyReLU()(x)\n",
    "x = Dropout(0.2)(x)\n",
    "\n",
    "x = Dense(32, activation='relu')(x)\n",
    "x = BatchNormalization()(x)\n",
    "x = LeakyReLU()(x)\n",
    "x = Dropout(0.2)(x)\n",
    "\n",
    "x = Dense(16, activation='relu')(x)\n",
    "x = BatchNormalization()(x)\n",
    "x = LeakyReLU()(x)\n",
    "x = Dropout(0.2)(x)\n",
    "\n",
    "encoded = Dense(8, activation='relu')(x)\n",
    "\n",
    "# Decoder\n",
    "x = Dense(16, activation='relu')(encoded)\n",
    "x = BatchNormalization()(x)\n",
    "x = LeakyReLU()(x)\n",
    "x = Dropout(0.2)(x)\n",
    "\n",
    "x = Dense(32, activation='relu')(encoded)\n",
    "x = BatchNormalization()(x)\n",
    "x = LeakyReLU()(x)\n",
    "x = Dropout(0.2)(x)\n",
    "\n",
    "x = Dense(64, activation='relu')(x)\n",
    "x = BatchNormalization()(x)\n",
    "x = LeakyReLU()(x)\n",
    "x = Dropout(0.2)(x)\n",
    "\n",
    "x = Dense(128, activation='relu')(x)\n",
    "x = BatchNormalization()(x)\n",
    "x = LeakyReLU()(x)\n",
    "x = Dropout(0.2)(x)\n",
    "\n",
    "decoded = Dense(15, activation='sigmoid')(x)\n",
    "\n",
    "autoencoder_ = Model(inputs=input_song, outputs=decoded)"
   ]
  },
  {
   "cell_type": "code",
   "execution_count": 18,
   "id": "87ebb9ea",
   "metadata": {},
   "outputs": [],
   "source": [
    "# Compile model\n",
    "autoencoder_.compile(optimizer=Adam(learning_rate=0.001),\n",
    "              loss='mean_squared_error',\n",
    "              metrics=['accuracy'])\n",
    "\n",
    "\n",
    "# EarlyStopping,ReduceLROnPlateau, and ModelCheckpoint\n",
    "early_stop = EarlyStopping(monitor='val_loss', patience=10, mode='min')\n",
    "# reduce_lr = ReduceLROnPlateau(monitor='val_loss', factor=0.2, patience=3, min_lr=0.00001)\n",
    "\n",
    "model_checkpoint_autoencoder = ModelCheckpoint('models/autoencoder_no_mood/best_weights_autoencoder.h5',\n",
    "                                       monitor='val_loss',\n",
    "                                       save_best_only=True,\n",
    "                                       mode='min')"
   ]
  },
  {
   "cell_type": "code",
   "execution_count": 19,
   "id": "5bcdba3e",
   "metadata": {},
   "outputs": [
    {
     "name": "stdout",
     "output_type": "stream",
     "text": [
      "Epoch 1/100\n"
     ]
    },
    {
     "name": "stderr",
     "output_type": "stream",
     "text": [
      "\u001b[1;38;5;39mCOMET INFO:\u001b[0m ignoring tensorflow summary log of metrics because of keras; set `comet_ml.loggers.tensorboard_logger.LOG_METRICS = True` to override\n"
     ]
    },
    {
     "name": "stdout",
     "output_type": "stream",
     "text": [
      " 483/6706 [=>............................] - ETA: 22s - loss: 0.0683 - accuracy: 0.3493"
     ]
    },
    {
     "name": "stderr",
     "output_type": "stream",
     "text": [
      "[codecarbon INFO @ 11:22:40] Energy consumed for RAM : 0.000686 kWh. RAM Power : 11.759872913360596 W\n",
      "[codecarbon INFO @ 11:22:40] Energy consumed for all CPUs : 0.002479 kWh. All CPUs Power : 42.5 W\n",
      "[codecarbon INFO @ 11:22:40] 0.003165 kWh of electricity used since the begining.\n"
     ]
    },
    {
     "name": "stdout",
     "output_type": "stream",
     "text": [
      "4524/6706 [===================>..........] - ETA: 8s - loss: 0.0321 - accuracy: 0.6587"
     ]
    },
    {
     "name": "stderr",
     "output_type": "stream",
     "text": [
      "[codecarbon INFO @ 11:22:55] Energy consumed for RAM : 0.000735 kWh. RAM Power : 11.759872913360596 W\n",
      "[codecarbon INFO @ 11:22:55] Energy consumed for all CPUs : 0.002656 kWh. All CPUs Power : 42.5 W\n",
      "[codecarbon INFO @ 11:22:55] 0.003391 kWh of electricity used since the begining.\n"
     ]
    },
    {
     "name": "stdout",
     "output_type": "stream",
     "text": [
      "6706/6706 [==============================] - 28s 4ms/step - loss: 0.0286 - accuracy: 0.6853 - val_loss: 0.0144 - val_accuracy: 0.7891\n",
      "Epoch 2/100\n",
      "1515/6706 [=====>........................] - ETA: 18s - loss: 0.0196 - accuracy: 0.7539"
     ]
    },
    {
     "name": "stderr",
     "output_type": "stream",
     "text": [
      "[codecarbon INFO @ 11:23:10] Energy consumed for RAM : 0.000784 kWh. RAM Power : 11.759872913360596 W\n",
      "[codecarbon INFO @ 11:23:10] Energy consumed for all CPUs : 0.002833 kWh. All CPUs Power : 42.5 W\n",
      "[codecarbon INFO @ 11:23:10] 0.003617 kWh of electricity used since the begining.\n"
     ]
    },
    {
     "name": "stdout",
     "output_type": "stream",
     "text": [
      "5607/6706 [========================>.....] - ETA: 4s - loss: 0.0186 - accuracy: 0.7627"
     ]
    },
    {
     "name": "stderr",
     "output_type": "stream",
     "text": [
      "[codecarbon INFO @ 11:23:25] Energy consumed for RAM : 0.000833 kWh. RAM Power : 11.759872913360596 W\n",
      "[codecarbon INFO @ 11:23:25] Energy consumed for all CPUs : 0.003010 kWh. All CPUs Power : 42.5 W\n",
      "[codecarbon INFO @ 11:23:25] 0.003843 kWh of electricity used since the begining.\n"
     ]
    },
    {
     "name": "stdout",
     "output_type": "stream",
     "text": [
      "6706/6706 [==============================] - 25s 4ms/step - loss: 0.0185 - accuracy: 0.7645 - val_loss: 0.0119 - val_accuracy: 0.8260\n",
      "Epoch 3/100\n",
      "2730/6706 [===========>..................] - ETA: 14s - loss: 0.0168 - accuracy: 0.7788"
     ]
    },
    {
     "name": "stderr",
     "output_type": "stream",
     "text": [
      "[codecarbon INFO @ 11:23:40] Energy consumed for RAM : 0.000882 kWh. RAM Power : 11.759872913360596 W\n",
      "[codecarbon INFO @ 11:23:40] Energy consumed for all CPUs : 0.003187 kWh. All CPUs Power : 42.5 W\n",
      "[codecarbon INFO @ 11:23:40] 0.004069 kWh of electricity used since the begining.\n"
     ]
    },
    {
     "name": "stdout",
     "output_type": "stream",
     "text": [
      "6700/6706 [============================>.] - ETA: 0s - loss: 0.0162 - accuracy: 0.7799"
     ]
    },
    {
     "name": "stderr",
     "output_type": "stream",
     "text": [
      "[codecarbon INFO @ 11:23:55] Energy consumed for RAM : 0.000931 kWh. RAM Power : 11.759872913360596 W\n",
      "[codecarbon INFO @ 11:23:55] Energy consumed for all CPUs : 0.003364 kWh. All CPUs Power : 42.5 W\n",
      "[codecarbon INFO @ 11:23:55] 0.004295 kWh of electricity used since the begining.\n"
     ]
    },
    {
     "name": "stdout",
     "output_type": "stream",
     "text": [
      "6706/6706 [==============================] - 25s 4ms/step - loss: 0.0162 - accuracy: 0.7798 - val_loss: 0.0095 - val_accuracy: 0.8313\n",
      "Epoch 4/100\n",
      "3953/6706 [================>.............] - ETA: 10s - loss: 0.0148 - accuracy: 0.7851"
     ]
    },
    {
     "name": "stderr",
     "output_type": "stream",
     "text": [
      "[codecarbon INFO @ 11:24:10] Energy consumed for RAM : 0.000980 kWh. RAM Power : 11.759872913360596 W\n",
      "[codecarbon INFO @ 11:24:10] Energy consumed for all CPUs : 0.003541 kWh. All CPUs Power : 42.5 W\n",
      "[codecarbon INFO @ 11:24:10] 0.004521 kWh of electricity used since the begining.\n"
     ]
    },
    {
     "name": "stdout",
     "output_type": "stream",
     "text": [
      "6706/6706 [==============================] - 26s 4ms/step - loss: 0.0144 - accuracy: 0.7873 - val_loss: 0.0085 - val_accuracy: 0.8315\n",
      "Epoch 5/100\n",
      "1033/6706 [===>..........................] - ETA: 20s - loss: 0.0134 - accuracy: 0.7934"
     ]
    },
    {
     "name": "stderr",
     "output_type": "stream",
     "text": [
      "[codecarbon INFO @ 11:24:25] Energy consumed for RAM : 0.001029 kWh. RAM Power : 11.759872913360596 W\n",
      "[codecarbon INFO @ 11:24:25] Energy consumed for all CPUs : 0.003718 kWh. All CPUs Power : 42.5 W\n",
      "[codecarbon INFO @ 11:24:25] 0.004747 kWh of electricity used since the begining.\n"
     ]
    },
    {
     "name": "stdout",
     "output_type": "stream",
     "text": [
      "5177/6706 [======================>.......] - ETA: 5s - loss: 0.0130 - accuracy: 0.7960"
     ]
    },
    {
     "name": "stderr",
     "output_type": "stream",
     "text": [
      "[codecarbon INFO @ 11:24:40] Energy consumed for RAM : 0.001078 kWh. RAM Power : 11.759872913360596 W\n"
     ]
    },
    {
     "name": "stdout",
     "output_type": "stream",
     "text": [
      "\b\b\b\b\b\b\b\b\b\b\b\b\b\b\b\b\b\b\b\b\b\b\b\b\b\b\b\b\b\b\b\b\b\b\b\b\b\b\b\b\b\b\b\b\b\b\b\b\b\b\b\b\b\b\b\b\b\b\b\b\b\b\b\b\b\b\b\b\b\b\b\b\b\b\b\b\b\b\b\b\b\b\b\b\b\b\r",
      "5191/6706 [======================>.......] - ETA: 5s - loss: 0.0129 - accuracy: 0.7960"
     ]
    },
    {
     "name": "stderr",
     "output_type": "stream",
     "text": [
      "[codecarbon INFO @ 11:24:40] Energy consumed for all CPUs : 0.003895 kWh. All CPUs Power : 42.5 W\n",
      "[codecarbon INFO @ 11:24:40] 0.004973 kWh of electricity used since the begining.\n"
     ]
    },
    {
     "name": "stdout",
     "output_type": "stream",
     "text": [
      "6706/6706 [==============================] - 26s 4ms/step - loss: 0.0128 - accuracy: 0.7973 - val_loss: 0.0073 - val_accuracy: 0.8364\n",
      "Epoch 6/100\n",
      "2276/6706 [=========>....................] - ETA: 15s - loss: 0.0120 - accuracy: 0.8041"
     ]
    },
    {
     "name": "stderr",
     "output_type": "stream",
     "text": [
      "[codecarbon INFO @ 11:24:55] Energy consumed for RAM : 0.001127 kWh. RAM Power : 11.759872913360596 W\n",
      "[codecarbon INFO @ 11:24:55] Energy consumed for all CPUs : 0.004072 kWh. All CPUs Power : 42.5 W\n",
      "[codecarbon INFO @ 11:24:55] 0.005199 kWh of electricity used since the begining.\n"
     ]
    },
    {
     "name": "stdout",
     "output_type": "stream",
     "text": [
      "6427/6706 [===========================>..] - ETA: 1s - loss: 0.0119 - accuracy: 0.8026"
     ]
    },
    {
     "name": "stderr",
     "output_type": "stream",
     "text": [
      "[codecarbon INFO @ 11:25:10] Energy consumed for RAM : 0.001176 kWh. RAM Power : 11.759872913360596 W\n",
      "[codecarbon INFO @ 11:25:10] Energy consumed for all CPUs : 0.004249 kWh. All CPUs Power : 42.5 W\n",
      "[codecarbon INFO @ 11:25:10] 0.005425 kWh of electricity used since the begining.\n"
     ]
    },
    {
     "name": "stdout",
     "output_type": "stream",
     "text": [
      "6706/6706 [==============================] - 25s 4ms/step - loss: 0.0118 - accuracy: 0.8022 - val_loss: 0.0069 - val_accuracy: 0.8440\n",
      "Epoch 7/100\n",
      "3518/6706 [==============>...............] - ETA: 11s - loss: 0.0114 - accuracy: 0.8029"
     ]
    },
    {
     "name": "stderr",
     "output_type": "stream",
     "text": [
      "[codecarbon INFO @ 11:25:25] Energy consumed for RAM : 0.001225 kWh. RAM Power : 11.759872913360596 W\n",
      "[codecarbon INFO @ 11:25:25] Energy consumed for all CPUs : 0.004427 kWh. All CPUs Power : 42.5 W\n",
      "[codecarbon INFO @ 11:25:25] 0.005651 kWh of electricity used since the begining.\n"
     ]
    },
    {
     "name": "stdout",
     "output_type": "stream",
     "text": [
      "6706/6706 [==============================] - 26s 4ms/step - loss: 0.0114 - accuracy: 0.8022 - val_loss: 0.0069 - val_accuracy: 0.8559\n",
      "Epoch 8/100\n",
      " 533/6706 [=>............................] - ETA: 22s - loss: 0.0113 - accuracy: 0.7947"
     ]
    },
    {
     "name": "stderr",
     "output_type": "stream",
     "text": [
      "[codecarbon INFO @ 11:25:40] Energy consumed for RAM : 0.001274 kWh. RAM Power : 11.759872913360596 W\n",
      "[codecarbon INFO @ 11:25:40] Energy consumed for all CPUs : 0.004604 kWh. All CPUs Power : 42.5 W\n",
      "[codecarbon INFO @ 11:25:40] 0.005877 kWh of electricity used since the begining.\n"
     ]
    },
    {
     "name": "stdout",
     "output_type": "stream",
     "text": [
      "4694/6706 [===================>..........] - ETA: 7s - loss: 0.0112 - accuracy: 0.8009"
     ]
    },
    {
     "name": "stderr",
     "output_type": "stream",
     "text": [
      "[codecarbon INFO @ 11:25:55] Energy consumed for RAM : 0.001323 kWh. RAM Power : 11.759872913360596 W\n",
      "[codecarbon INFO @ 11:25:55] Energy consumed for all CPUs : 0.004781 kWh. All CPUs Power : 42.5 W\n",
      "[codecarbon INFO @ 11:25:55] 0.006103 kWh of electricity used since the begining.\n"
     ]
    },
    {
     "name": "stdout",
     "output_type": "stream",
     "text": [
      "6706/6706 [==============================] - 25s 4ms/step - loss: 0.0111 - accuracy: 0.8006 - val_loss: 0.0065 - val_accuracy: 0.8426\n",
      "Epoch 9/100\n",
      "1800/6706 [=======>......................] - ETA: 17s - loss: 0.0111 - accuracy: 0.8004"
     ]
    },
    {
     "name": "stderr",
     "output_type": "stream",
     "text": [
      "[codecarbon INFO @ 11:26:10] Energy consumed for RAM : 0.001372 kWh. RAM Power : 11.759872913360596 W\n"
     ]
    },
    {
     "name": "stdout",
     "output_type": "stream",
     "text": [
      "\b\b\b\b\b\b\b\b\b\b\b\b\b\b\b\b\b\b\b\b\b\b\b\b\b\b\b\b\b\b\b\b\b\b\b\b\b\b\b\b\b\b\b\b\b\b\b\b\b\b\b\b\b\b\b\b\b\b\b\b\b\b\b\b\b\b\b\b\b\b\b\b\b\b\b\b\b\b\b\b\b\b\b\b\b\b\b\r",
      "1814/6706 [=======>......................] - ETA: 17s - loss: 0.0111 - accuracy: 0.8002"
     ]
    },
    {
     "name": "stderr",
     "output_type": "stream",
     "text": [
      "[codecarbon INFO @ 11:26:10] Energy consumed for all CPUs : 0.004958 kWh. All CPUs Power : 42.5 W\n",
      "[codecarbon INFO @ 11:26:10] 0.006329 kWh of electricity used since the begining.\n"
     ]
    },
    {
     "name": "stdout",
     "output_type": "stream",
     "text": [
      "5912/6706 [=========================>....] - ETA: 2s - loss: 0.0110 - accuracy: 0.8008"
     ]
    },
    {
     "name": "stderr",
     "output_type": "stream",
     "text": [
      "[codecarbon INFO @ 11:26:25] Energy consumed for RAM : 0.001421 kWh. RAM Power : 11.759872913360596 W\n"
     ]
    },
    {
     "name": "stdout",
     "output_type": "stream",
     "text": [
      "\b\b\b\b\b\b\b\b\b\b\b\b\b\b\b\b\b\b\b\b\b\b\b\b\b\b\b\b\b\b\b\b\b\b\b\b\b\b\b\b\b\b\b\b\b\b\b\b\b\b\b\b\b\b\b\b\b\b\b\b\b\b\b\b\b\b\b\b\b\b\b\b\b\b\b\b\b\b\b\b\b\b\b\b\b\b\r",
      "5926/6706 [=========================>....] - ETA: 2s - loss: 0.0110 - accuracy: 0.8007"
     ]
    },
    {
     "name": "stderr",
     "output_type": "stream",
     "text": [
      "[codecarbon INFO @ 11:26:25] Energy consumed for all CPUs : 0.005135 kWh. All CPUs Power : 42.5 W\n",
      "[codecarbon INFO @ 11:26:25] 0.006555 kWh of electricity used since the begining.\n"
     ]
    },
    {
     "name": "stdout",
     "output_type": "stream",
     "text": [
      "6706/6706 [==============================] - 26s 4ms/step - loss: 0.0110 - accuracy: 0.8006 - val_loss: 0.0063 - val_accuracy: 0.8603\n",
      "Epoch 10/100\n",
      "2851/6706 [===========>..................] - ETA: 14s - loss: 0.0109 - accuracy: 0.8012"
     ]
    },
    {
     "name": "stderr",
     "output_type": "stream",
     "text": [
      "[codecarbon INFO @ 11:26:40] Energy consumed for RAM : 0.001470 kWh. RAM Power : 11.759872913360596 W\n",
      "[codecarbon INFO @ 11:26:40] Energy consumed for all CPUs : 0.005312 kWh. All CPUs Power : 42.5 W\n",
      "[codecarbon INFO @ 11:26:40] 0.006781 kWh of electricity used since the begining.\n"
     ]
    },
    {
     "name": "stdout",
     "output_type": "stream",
     "text": [
      "6692/6706 [============================>.] - ETA: 0s - loss: 0.0108 - accuracy: 0.8030"
     ]
    },
    {
     "name": "stderr",
     "output_type": "stream",
     "text": [
      "[codecarbon INFO @ 11:26:55] Energy consumed for RAM : 0.001519 kWh. RAM Power : 11.759872913360596 W\n",
      "[codecarbon INFO @ 11:26:55] Energy consumed for all CPUs : 0.005489 kWh. All CPUs Power : 42.5 W\n",
      "[codecarbon INFO @ 11:26:55] 0.007007 kWh of electricity used since the begining.\n"
     ]
    },
    {
     "name": "stdout",
     "output_type": "stream",
     "text": [
      "6706/6706 [==============================] - 26s 4ms/step - loss: 0.0108 - accuracy: 0.8031 - val_loss: 0.0062 - val_accuracy: 0.8537\n",
      "Epoch 11/100\n",
      "4083/6706 [=================>............] - ETA: 9s - loss: 0.0107 - accuracy: 0.8048"
     ]
    },
    {
     "name": "stderr",
     "output_type": "stream",
     "text": [
      "[codecarbon INFO @ 11:27:10] Energy consumed for RAM : 0.001567 kWh. RAM Power : 11.759872913360596 W\n",
      "[codecarbon INFO @ 11:27:10] Energy consumed for all CPUs : 0.005666 kWh. All CPUs Power : 42.5 W\n",
      "[codecarbon INFO @ 11:27:10] 0.007233 kWh of electricity used since the begining.\n"
     ]
    },
    {
     "name": "stdout",
     "output_type": "stream",
     "text": [
      "6706/6706 [==============================] - 25s 4ms/step - loss: 0.0107 - accuracy: 0.8057 - val_loss: 0.0063 - val_accuracy: 0.8584\n",
      "Epoch 12/100\n",
      "1209/6706 [====>.........................] - ETA: 19s - loss: 0.0107 - accuracy: 0.8066"
     ]
    },
    {
     "name": "stderr",
     "output_type": "stream",
     "text": [
      "[codecarbon INFO @ 11:27:25] Energy consumed for RAM : 0.001616 kWh. RAM Power : 11.759872913360596 W\n",
      "[codecarbon INFO @ 11:27:25] Energy consumed for all CPUs : 0.005843 kWh. All CPUs Power : 42.5 W\n",
      "[codecarbon INFO @ 11:27:25] 0.007459 kWh of electricity used since the begining.\n"
     ]
    },
    {
     "name": "stdout",
     "output_type": "stream",
     "text": [
      "5280/6706 [======================>.......] - ETA: 5s - loss: 0.0106 - accuracy: 0.8051"
     ]
    },
    {
     "name": "stderr",
     "output_type": "stream",
     "text": [
      "[codecarbon INFO @ 11:27:40] Energy consumed for RAM : 0.001665 kWh. RAM Power : 11.759872913360596 W\n",
      "[codecarbon INFO @ 11:27:40] Energy consumed for all CPUs : 0.006020 kWh. All CPUs Power : 42.5 W\n",
      "[codecarbon INFO @ 11:27:40] 0.007685 kWh of electricity used since the begining.\n"
     ]
    },
    {
     "name": "stdout",
     "output_type": "stream",
     "text": [
      "6706/6706 [==============================] - 26s 4ms/step - loss: 0.0106 - accuracy: 0.8053 - val_loss: 0.0062 - val_accuracy: 0.8599\n",
      "Epoch 13/100\n",
      "2311/6706 [=========>....................] - ETA: 16s - loss: 0.0105 - accuracy: 0.8020"
     ]
    },
    {
     "name": "stderr",
     "output_type": "stream",
     "text": [
      "[codecarbon INFO @ 11:27:55] Energy consumed for RAM : 0.001714 kWh. RAM Power : 11.759872913360596 W\n",
      "[codecarbon INFO @ 11:27:55] Energy consumed for all CPUs : 0.006197 kWh. All CPUs Power : 42.5 W\n",
      "[codecarbon INFO @ 11:27:55] 0.007912 kWh of electricity used since the begining.\n"
     ]
    },
    {
     "name": "stdout",
     "output_type": "stream",
     "text": [
      "6493/6706 [============================>.] - ETA: 0s - loss: 0.0105 - accuracy: 0.8058"
     ]
    },
    {
     "name": "stderr",
     "output_type": "stream",
     "text": [
      "[codecarbon INFO @ 11:28:10] Energy consumed for RAM : 0.001763 kWh. RAM Power : 11.759872913360596 W\n",
      "[codecarbon INFO @ 11:28:10] Energy consumed for all CPUs : 0.006374 kWh. All CPUs Power : 42.5 W\n",
      "[codecarbon INFO @ 11:28:10] 0.008138 kWh of electricity used since the begining.\n"
     ]
    },
    {
     "name": "stdout",
     "output_type": "stream",
     "text": [
      "6706/6706 [==============================] - 25s 4ms/step - loss: 0.0105 - accuracy: 0.8062 - val_loss: 0.0061 - val_accuracy: 0.8608\n",
      "Epoch 14/100\n",
      "3615/6706 [===============>..............] - ETA: 11s - loss: 0.0104 - accuracy: 0.8079"
     ]
    },
    {
     "name": "stderr",
     "output_type": "stream",
     "text": [
      "[codecarbon INFO @ 11:28:25] Energy consumed for RAM : 0.001812 kWh. RAM Power : 11.759872913360596 W\n",
      "[codecarbon INFO @ 11:28:25] Energy consumed for all CPUs : 0.006551 kWh. All CPUs Power : 42.5 W\n",
      "[codecarbon INFO @ 11:28:25] 0.008364 kWh of electricity used since the begining.\n"
     ]
    },
    {
     "name": "stdout",
     "output_type": "stream",
     "text": [
      "6706/6706 [==============================] - 25s 4ms/step - loss: 0.0104 - accuracy: 0.8082 - val_loss: 0.0060 - val_accuracy: 0.8465\n",
      "Epoch 15/100\n",
      " 729/6706 [==>...........................] - ETA: 21s - loss: 0.0103 - accuracy: 0.8073"
     ]
    },
    {
     "name": "stderr",
     "output_type": "stream",
     "text": [
      "[codecarbon INFO @ 11:28:40] Energy consumed for RAM : 0.001861 kWh. RAM Power : 11.759872913360596 W\n",
      "[codecarbon INFO @ 11:28:40] Energy consumed for all CPUs : 0.006728 kWh. All CPUs Power : 42.5 W\n",
      "[codecarbon INFO @ 11:28:40] 0.008590 kWh of electricity used since the begining.\n"
     ]
    },
    {
     "name": "stdout",
     "output_type": "stream",
     "text": [
      "4866/6706 [====================>.........] - ETA: 6s - loss: 0.0103 - accuracy: 0.8080"
     ]
    },
    {
     "name": "stderr",
     "output_type": "stream",
     "text": [
      "[codecarbon INFO @ 11:28:55] Energy consumed for RAM : 0.001910 kWh. RAM Power : 11.759872913360596 W\n",
      "[codecarbon INFO @ 11:28:55] Energy consumed for all CPUs : 0.006905 kWh. All CPUs Power : 42.5 W\n",
      "[codecarbon INFO @ 11:28:55] 0.008816 kWh of electricity used since the begining.\n"
     ]
    },
    {
     "name": "stdout",
     "output_type": "stream",
     "text": [
      "6706/6706 [==============================] - 25s 4ms/step - loss: 0.0103 - accuracy: 0.8082 - val_loss: 0.0059 - val_accuracy: 0.8580\n",
      "Epoch 16/100\n",
      "1948/6706 [=======>......................] - ETA: 17s - loss: 0.0103 - accuracy: 0.8054"
     ]
    },
    {
     "name": "stderr",
     "output_type": "stream",
     "text": [
      "[codecarbon INFO @ 11:29:10] Energy consumed for RAM : 0.001959 kWh. RAM Power : 11.759872913360596 W\n",
      "[codecarbon INFO @ 11:29:10] Energy consumed for all CPUs : 0.007082 kWh. All CPUs Power : 42.5 W\n",
      "[codecarbon INFO @ 11:29:10] 0.009042 kWh of electricity used since the begining.\n"
     ]
    },
    {
     "name": "stdout",
     "output_type": "stream",
     "text": [
      "6089/6706 [==========================>...] - ETA: 2s - loss: 0.0102 - accuracy: 0.8063"
     ]
    },
    {
     "name": "stderr",
     "output_type": "stream",
     "text": [
      "[codecarbon INFO @ 11:29:25] Energy consumed for RAM : 0.002008 kWh. RAM Power : 11.759872913360596 W\n",
      "[codecarbon INFO @ 11:29:25] Energy consumed for all CPUs : 0.007259 kWh. All CPUs Power : 42.5 W\n",
      "[codecarbon INFO @ 11:29:25] 0.009268 kWh of electricity used since the begining.\n"
     ]
    },
    {
     "name": "stdout",
     "output_type": "stream",
     "text": [
      "6706/6706 [==============================] - 25s 4ms/step - loss: 0.0102 - accuracy: 0.8069 - val_loss: 0.0057 - val_accuracy: 0.8575\n",
      "Epoch 17/100\n",
      "3183/6706 [=============>................] - ETA: 12s - loss: 0.0101 - accuracy: 0.8035"
     ]
    },
    {
     "name": "stderr",
     "output_type": "stream",
     "text": [
      "[codecarbon INFO @ 11:29:40] Energy consumed for RAM : 0.002057 kWh. RAM Power : 11.759872913360596 W\n",
      "[codecarbon INFO @ 11:29:40] Energy consumed for all CPUs : 0.007437 kWh. All CPUs Power : 42.5 W\n",
      "[codecarbon INFO @ 11:29:40] 0.009494 kWh of electricity used since the begining.\n"
     ]
    },
    {
     "name": "stdout",
     "output_type": "stream",
     "text": [
      "6706/6706 [==============================] - 25s 4ms/step - loss: 0.0101 - accuracy: 0.8058 - val_loss: 0.0063 - val_accuracy: 0.8372\n",
      "Epoch 18/100\n",
      " 348/6706 [>.............................] - ETA: 22s - loss: 0.0103 - accuracy: 0.8051"
     ]
    },
    {
     "name": "stderr",
     "output_type": "stream",
     "text": [
      "[codecarbon INFO @ 11:29:55] Energy consumed for RAM : 0.002106 kWh. RAM Power : 11.759872913360596 W\n",
      "[codecarbon INFO @ 11:29:55] Energy consumed for all CPUs : 0.007614 kWh. All CPUs Power : 42.5 W\n",
      "[codecarbon INFO @ 11:29:55] 0.009720 kWh of electricity used since the begining.\n"
     ]
    },
    {
     "name": "stdout",
     "output_type": "stream",
     "text": [
      "4543/6706 [===================>..........] - ETA: 7s - loss: 0.0102 - accuracy: 0.8069"
     ]
    },
    {
     "name": "stderr",
     "output_type": "stream",
     "text": [
      "[codecarbon INFO @ 11:30:10] Energy consumed for RAM : 0.002155 kWh. RAM Power : 11.759872913360596 W\n",
      "[codecarbon INFO @ 11:30:10] Energy consumed for all CPUs : 0.007791 kWh. All CPUs Power : 42.5 W\n",
      "[codecarbon INFO @ 11:30:10] 0.009946 kWh of electricity used since the begining.\n"
     ]
    },
    {
     "name": "stdout",
     "output_type": "stream",
     "text": [
      "6706/6706 [==============================] - 25s 4ms/step - loss: 0.0101 - accuracy: 0.8080 - val_loss: 0.0059 - val_accuracy: 0.8631\n",
      "Epoch 19/100\n",
      "1585/6706 [======>.......................] - ETA: 19s - loss: 0.0101 - accuracy: 0.8109"
     ]
    },
    {
     "name": "stderr",
     "output_type": "stream",
     "text": [
      "[codecarbon INFO @ 11:30:25] Energy consumed for RAM : 0.002204 kWh. RAM Power : 11.759872913360596 W\n",
      "[codecarbon INFO @ 11:30:25] Energy consumed for all CPUs : 0.007968 kWh. All CPUs Power : 42.5 W\n",
      "[codecarbon INFO @ 11:30:25] 0.010172 kWh of electricity used since the begining.\n"
     ]
    },
    {
     "name": "stdout",
     "output_type": "stream",
     "text": [
      "5775/6706 [========================>.....] - ETA: 3s - loss: 0.0101 - accuracy: 0.8085"
     ]
    },
    {
     "name": "stderr",
     "output_type": "stream",
     "text": [
      "[codecarbon INFO @ 11:30:40] Energy consumed for RAM : 0.002253 kWh. RAM Power : 11.759872913360596 W\n",
      "[codecarbon INFO @ 11:30:40] Energy consumed for all CPUs : 0.008145 kWh. All CPUs Power : 42.5 W\n",
      "[codecarbon INFO @ 11:30:40] 0.010398 kWh of electricity used since the begining.\n"
     ]
    },
    {
     "name": "stdout",
     "output_type": "stream",
     "text": [
      "6706/6706 [==============================] - 26s 4ms/step - loss: 0.0101 - accuracy: 0.8081 - val_loss: 0.0061 - val_accuracy: 0.8490\n",
      "Epoch 20/100\n",
      "2837/6706 [===========>..................] - ETA: 14s - loss: 0.0100 - accuracy: 0.8085"
     ]
    },
    {
     "name": "stderr",
     "output_type": "stream",
     "text": [
      "[codecarbon INFO @ 11:30:55] Energy consumed for RAM : 0.002302 kWh. RAM Power : 11.759872913360596 W\n"
     ]
    },
    {
     "name": "stdout",
     "output_type": "stream",
     "text": [
      "\b\b\b\b\b\b\b\b\b\b\b\b\b\b\b\b\b\b\b\b\b\b\b\b\b\b\b\b\b\b\b\b\b\b\b\b\b\b\b\b\b\b\b\b\b\b\b\b\b\b\b\b\b\b\b\b\b\b\b\b\b\b\b\b\b\b\b\b\b\b\b\b\b\b\b\b\b\b\b\b\b\b\b\b\b\b\b\r",
      "2852/6706 [===========>..................] - ETA: 14s - loss: 0.0100 - accuracy: 0.8086"
     ]
    },
    {
     "name": "stderr",
     "output_type": "stream",
     "text": [
      "[codecarbon INFO @ 11:30:55] Energy consumed for all CPUs : 0.008322 kWh. All CPUs Power : 42.5 W\n",
      "[codecarbon INFO @ 11:30:55] 0.010624 kWh of electricity used since the begining.\n"
     ]
    },
    {
     "name": "stdout",
     "output_type": "stream",
     "text": [
      "6706/6706 [==============================] - 25s 4ms/step - loss: 0.0101 - accuracy: 0.8076 - val_loss: 0.0059 - val_accuracy: 0.8512\n",
      "Epoch 21/100\n",
      "  26/6706 [..............................] - ETA: 27s - loss: 0.0099 - accuracy: 0.7873"
     ]
    },
    {
     "name": "stderr",
     "output_type": "stream",
     "text": [
      "[codecarbon INFO @ 11:31:10] Energy consumed for RAM : 0.002351 kWh. RAM Power : 11.759872913360596 W\n",
      "[codecarbon INFO @ 11:31:10] Energy consumed for all CPUs : 0.008499 kWh. All CPUs Power : 42.5 W\n",
      "[codecarbon INFO @ 11:31:10] 0.010850 kWh of electricity used since the begining.\n"
     ]
    },
    {
     "name": "stdout",
     "output_type": "stream",
     "text": [
      "4087/6706 [=================>............] - ETA: 9s - loss: 0.0100 - accuracy: 0.8118"
     ]
    },
    {
     "name": "stderr",
     "output_type": "stream",
     "text": [
      "[codecarbon INFO @ 11:31:25] Energy consumed for RAM : 0.002400 kWh. RAM Power : 11.759872913360596 W\n",
      "[codecarbon INFO @ 11:31:25] Energy consumed for all CPUs : 0.008676 kWh. All CPUs Power : 42.5 W\n"
     ]
    },
    {
     "name": "stdout",
     "output_type": "stream",
     "text": [
      "\b\b\b\b\b\b\b\b\b\b\b\b\b\b\b\b\b\b\b\b\b\b\b\b\b\b\b\b\b\b\b\b\b\b\b\b\b\b\b\b\b\b\b\b\b\b\b\b\b\b\b\b\b\b\b\b\b\b\b\b\b\b\b\b\b\b\b\b\b\b\b\b\b\b\b\b\b\b\b\b\b\b\b\b\b\b\r",
      "4102/6706 [=================>............] - ETA: 9s - loss: 0.0100 - accuracy: 0.8118"
     ]
    },
    {
     "name": "stderr",
     "output_type": "stream",
     "text": [
      "[codecarbon INFO @ 11:31:25] 0.011076 kWh of electricity used since the begining.\n"
     ]
    },
    {
     "name": "stdout",
     "output_type": "stream",
     "text": [
      "6706/6706 [==============================] - 25s 4ms/step - loss: 0.0100 - accuracy: 0.8118 - val_loss: 0.0062 - val_accuracy: 0.8612\n",
      "Epoch 22/100\n",
      "1246/6706 [====>.........................] - ETA: 20s - loss: 0.0100 - accuracy: 0.8144"
     ]
    },
    {
     "name": "stderr",
     "output_type": "stream",
     "text": [
      "[codecarbon INFO @ 11:31:40] Energy consumed for RAM : 0.002449 kWh. RAM Power : 11.759872913360596 W\n",
      "[codecarbon INFO @ 11:31:40] Energy consumed for all CPUs : 0.008853 kWh. All CPUs Power : 42.5 W\n",
      "[codecarbon INFO @ 11:31:40] 0.011302 kWh of electricity used since the begining.\n"
     ]
    },
    {
     "name": "stdout",
     "output_type": "stream",
     "text": [
      "5356/6706 [======================>.......] - ETA: 4s - loss: 0.0100 - accuracy: 0.8109"
     ]
    },
    {
     "name": "stderr",
     "output_type": "stream",
     "text": [
      "[codecarbon INFO @ 11:31:55] Energy consumed for RAM : 0.002498 kWh. RAM Power : 11.759872913360596 W\n",
      "[codecarbon INFO @ 11:31:55] Energy consumed for all CPUs : 0.009030 kWh. All CPUs Power : 42.5 W\n",
      "[codecarbon INFO @ 11:31:55] 0.011528 kWh of electricity used since the begining.\n"
     ]
    },
    {
     "name": "stdout",
     "output_type": "stream",
     "text": [
      "6706/6706 [==============================] - 26s 4ms/step - loss: 0.0100 - accuracy: 0.8108 - val_loss: 0.0059 - val_accuracy: 0.8606\n",
      "Epoch 23/100\n",
      "2437/6706 [=========>....................] - ETA: 15s - loss: 0.0099 - accuracy: 0.8107"
     ]
    },
    {
     "name": "stderr",
     "output_type": "stream",
     "text": [
      "[codecarbon INFO @ 11:32:10] Energy consumed for RAM : 0.002547 kWh. RAM Power : 11.759872913360596 W\n",
      "[codecarbon INFO @ 11:32:10] Energy consumed for all CPUs : 0.009207 kWh. All CPUs Power : 42.5 W\n",
      "[codecarbon INFO @ 11:32:10] 0.011754 kWh of electricity used since the begining.\n"
     ]
    },
    {
     "name": "stdout",
     "output_type": "stream",
     "text": [
      "6575/6706 [============================>.] - ETA: 0s - loss: 0.0099 - accuracy: 0.8076"
     ]
    },
    {
     "name": "stderr",
     "output_type": "stream",
     "text": [
      "[codecarbon INFO @ 11:32:25] Energy consumed for RAM : 0.002596 kWh. RAM Power : 11.759872913360596 W\n",
      "[codecarbon INFO @ 11:32:25] Energy consumed for all CPUs : 0.009384 kWh. All CPUs Power : 42.5 W\n",
      "[codecarbon INFO @ 11:32:25] 0.011980 kWh of electricity used since the begining.\n"
     ]
    },
    {
     "name": "stdout",
     "output_type": "stream",
     "text": [
      "6706/6706 [==============================] - 25s 4ms/step - loss: 0.0099 - accuracy: 0.8077 - val_loss: 0.0059 - val_accuracy: 0.8391\n",
      "Epoch 24/100\n",
      "3737/6706 [===============>..............] - ETA: 10s - loss: 0.0099 - accuracy: 0.8075"
     ]
    },
    {
     "name": "stderr",
     "output_type": "stream",
     "text": [
      "[codecarbon INFO @ 11:32:40] Energy consumed for RAM : 0.002645 kWh. RAM Power : 11.759872913360596 W\n",
      "[codecarbon INFO @ 11:32:40] Energy consumed for all CPUs : 0.009561 kWh. All CPUs Power : 42.5 W\n",
      "[codecarbon INFO @ 11:32:40] 0.012206 kWh of electricity used since the begining.\n"
     ]
    },
    {
     "name": "stdout",
     "output_type": "stream",
     "text": [
      "6706/6706 [==============================] - 25s 4ms/step - loss: 0.0099 - accuracy: 0.8087 - val_loss: 0.0058 - val_accuracy: 0.8572\n",
      "Epoch 25/100\n",
      " 894/6706 [==>...........................] - ETA: 21s - loss: 0.0100 - accuracy: 0.8124"
     ]
    },
    {
     "name": "stderr",
     "output_type": "stream",
     "text": [
      "[codecarbon INFO @ 11:32:55] Energy consumed for RAM : 0.002694 kWh. RAM Power : 11.759872913360596 W\n",
      "[codecarbon INFO @ 11:32:55] Energy consumed for all CPUs : 0.009738 kWh. All CPUs Power : 42.5 W\n",
      "[codecarbon INFO @ 11:32:55] 0.012432 kWh of electricity used since the begining.\n"
     ]
    },
    {
     "name": "stdout",
     "output_type": "stream",
     "text": [
      "4988/6706 [=====================>........] - ETA: 6s - loss: 0.0099 - accuracy: 0.8100"
     ]
    },
    {
     "name": "stderr",
     "output_type": "stream",
     "text": [
      "[codecarbon INFO @ 11:33:10] Energy consumed for RAM : 0.002743 kWh. RAM Power : 11.759872913360596 W\n",
      "[codecarbon INFO @ 11:33:10] Energy consumed for all CPUs : 0.009915 kWh. All CPUs Power : 42.5 W\n",
      "[codecarbon INFO @ 11:33:10] 0.012658 kWh of electricity used since the begining.\n"
     ]
    },
    {
     "name": "stdout",
     "output_type": "stream",
     "text": [
      "6706/6706 [==============================] - 26s 4ms/step - loss: 0.0099 - accuracy: 0.8099 - val_loss: 0.0058 - val_accuracy: 0.8472\n",
      "Epoch 26/100\n",
      "2155/6706 [========>.....................] - ETA: 16s - loss: 0.0099 - accuracy: 0.8091"
     ]
    },
    {
     "name": "stderr",
     "output_type": "stream",
     "text": [
      "[codecarbon INFO @ 11:33:25] Energy consumed for RAM : 0.002792 kWh. RAM Power : 11.759872913360596 W\n",
      "[codecarbon INFO @ 11:33:25] Energy consumed for all CPUs : 0.010092 kWh. All CPUs Power : 42.5 W\n",
      "[codecarbon INFO @ 11:33:25] 0.012885 kWh of electricity used since the begining.\n"
     ]
    },
    {
     "name": "stdout",
     "output_type": "stream",
     "text": [
      "6208/6706 [==========================>...] - ETA: 1s - loss: 0.0099 - accuracy: 0.8101"
     ]
    },
    {
     "name": "stderr",
     "output_type": "stream",
     "text": [
      "[codecarbon INFO @ 11:33:40] Energy consumed for RAM : 0.002841 kWh. RAM Power : 11.759872913360596 W\n",
      "[codecarbon INFO @ 11:33:40] Energy consumed for all CPUs : 0.010269 kWh. All CPUs Power : 42.5 W\n",
      "[codecarbon INFO @ 11:33:40] 0.013111 kWh of electricity used since the begining.\n"
     ]
    },
    {
     "name": "stdout",
     "output_type": "stream",
     "text": [
      "6706/6706 [==============================] - 26s 4ms/step - loss: 0.0099 - accuracy: 0.8106 - val_loss: 0.0058 - val_accuracy: 0.8515\n",
      "Training time: 11.11 minutes\n"
     ]
    }
   ],
   "source": [
    "# Train model\n",
    "start_time = time.time()\n",
    "\n",
    "trained_model_autoencoder_ = autoencoder_.fit(\n",
    "    train, train,\n",
    "    epochs=100,\n",
    "    validation_data=(val, val),\n",
    "    callbacks=[early_stop, model_checkpoint_autoencoder],\n",
    "    verbose=1)\n",
    "\n",
    "end_time = time.time()\n",
    "print('Training time: ' + str(round((end_time-start_time)/60,2)) + \" minutes\")"
   ]
  },
  {
   "cell_type": "markdown",
   "id": "a703ee07",
   "metadata": {},
   "source": [
    "6706/6706 [==============================] - 26s 4ms/step - loss: 0.0099 - accuracy: 0.8106 - val_loss: 0.0058 - val_accuracy: 0.8515\n",
    "Training time: 11.11 minutes\n",
    "\n",
    "vs\n",
    "\n",
    "6706/6706 [==============================] - 24s 4ms/step - loss: 0.0054 - accuracy: 0.7746 - val_loss: 0.0025 - val_accuracy: 0.8688\n",
    "Training time: 27.73 minutes"
   ]
  },
  {
   "cell_type": "code",
   "execution_count": 20,
   "id": "56a39354",
   "metadata": {},
   "outputs": [],
   "source": [
    "def plot_prediction(mfit, hide_plot=None):\n",
    "     \"\"\"\n",
    "    Plots the training loss and accuracy curves.\n",
    "\n",
    "    Parameters:\n",
    "        mfit (keras.callbacks.History): The History object obtained from model training.\n",
    "        hide_plot (bool, optional): Specifies whether to hide the plot or display it. Defaults to None.\n",
    "\n",
    "    \"\"\"\n",
    "    plt.style.use(\"ggplot\")\n",
    "    fig, (ax1, ax2) = plt.subplots(1, 2, figsize=(18,6))\n",
    "    fig.suptitle('Training Loss and Accuracy')\n",
    "    \n",
    "    if hide_plot != 'loss':\n",
    "        ax1.plot(mfit.history[\"loss\"], label=\"train_loss\")\n",
    "        ax1.plot(mfit.history[\"val_loss\"], label=\"val_loss\")\n",
    "        ax1.set_title(\"Loss\")\n",
    "        ax1.set_xlabel(\"epoch\")\n",
    "        ax1.set_ylabel(\"loss\")\n",
    "        ax1.legend(loc=\"lower left\")\n",
    "    else:\n",
    "        ax1.set_visible(False)\n",
    "        ax1.axis('off')\n",
    "        fig.suptitle('Training Accuracy')\n",
    "        fig.set_size_inches(18,6)\n",
    "    \n",
    "    if hide_plot != 'accuracy':\n",
    "        ax2.plot(mfit.history[\"accuracy\"], label=\"train_accuracy\")\n",
    "        ax2.plot(mfit.history[\"val_accuracy\"], label=\"val_accuracy\")\n",
    "        ax2.set_title(\"Accuracy\")\n",
    "        ax2.set_xlabel(\"epoch\")\n",
    "        ax2.set_ylabel(\"accuracy\")\n",
    "        ax2.legend(loc=\"lower left\")\n",
    "    else:\n",
    "        ax2.set_visible(False)\n",
    "        ax2.axis('off')\n",
    "        fig.suptitle('Training Loss')\n",
    "        fig.set_size_inches(18,6)\n",
    "    \n",
    "    plt.show()"
   ]
  },
  {
   "cell_type": "code",
   "execution_count": 21,
   "id": "a14a5519",
   "metadata": {
    "scrolled": true
   },
   "outputs": [
    {
     "data": {
      "image/png": "[encoded data removed]",
      "text/plain": [
       "<Figure size 1296x432 with 2 Axes>"
      ]
     },
     "metadata": {},
     "output_type": "display_data"
    }
   ],
   "source": [
    "plot_prediction(trained_model_autoencoder_)"
   ]
  },
  {
   "cell_type": "code",
   "execution_count": 22,
   "id": "c6b04ec4",
   "metadata": {
    "scrolled": true
   },
   "outputs": [
    {
     "data": {
      "image/svg+xml": [
       "<svg xmlns=\"http://www.w3.org/2000/svg\" xmlns:xlink=\"http://www.w3.org/1999/xlink\" width=\"687pt\" height=\"3393pt\" viewBox=\"0.00 0.00 515.00 2545.00\">\n",
       "<g id=\"graph0\" class=\"graph\" transform=\"scale(0.75 0.75) rotate(0) translate(4 2541)\">\n",
       "<title>G</title>\n",
       "<polygon fill=\"white\" stroke=\"transparent\" points=\"-4,4 -4,-2541 511,-2541 511,4 -4,4\"/>\n",
       "<!-- 140248300506800 -->\n",
       "<g id=\"node1\" class=\"node\">\n",
       "<title>140248300506800</title>\n",
       "<polygon fill=\"none\" stroke=\"black\" points=\"89.5,-2490.5 89.5,-2536.5 417.5,-2536.5 417.5,-2490.5 89.5,-2490.5\"/>\n",
       "<text text-anchor=\"middle\" x=\"168.5\" y=\"-2509.8\" font-family=\"Times,serif\" font-size=\"14.00\">input_3: InputLayer</text>\n",
       "<polyline fill=\"none\" stroke=\"black\" points=\"247.5,-2490.5 247.5,-2536.5 \"/>\n",
       "<text text-anchor=\"middle\" x=\"281.5\" y=\"-2521.3\" font-family=\"Times,serif\" font-size=\"14.00\">input:</text>\n",
       "<polyline fill=\"none\" stroke=\"black\" points=\"247.5,-2513.5 315.5,-2513.5 \"/>\n",
       "<text text-anchor=\"middle\" x=\"281.5\" y=\"-2498.3\" font-family=\"Times,serif\" font-size=\"14.00\">output:</text>\n",
       "<polyline fill=\"none\" stroke=\"black\" points=\"315.5,-2490.5 315.5,-2536.5 \"/>\n",
       "<text text-anchor=\"middle\" x=\"366.5\" y=\"-2521.3\" font-family=\"Times,serif\" font-size=\"14.00\">[(None, 15)]</text>\n",
       "<polyline fill=\"none\" stroke=\"black\" points=\"315.5,-2513.5 417.5,-2513.5 \"/>\n",
       "<text text-anchor=\"middle\" x=\"366.5\" y=\"-2498.3\" font-family=\"Times,serif\" font-size=\"14.00\">[(None, 15)]</text>\n",
       "</g>\n",
       "<!-- 140248300094800 -->\n",
       "<g id=\"node2\" class=\"node\">\n",
       "<title>140248300094800</title>\n",
       "<polygon fill=\"none\" stroke=\"black\" points=\"100.5,-2407.5 100.5,-2453.5 406.5,-2453.5 406.5,-2407.5 100.5,-2407.5\"/>\n",
       "<text text-anchor=\"middle\" x=\"169\" y=\"-2426.8\" font-family=\"Times,serif\" font-size=\"14.00\">dense_20: Dense</text>\n",
       "<polyline fill=\"none\" stroke=\"black\" points=\"237.5,-2407.5 237.5,-2453.5 \"/>\n",
       "<text text-anchor=\"middle\" x=\"271.5\" y=\"-2438.3\" font-family=\"Times,serif\" font-size=\"14.00\">input:</text>\n",
       "<polyline fill=\"none\" stroke=\"black\" points=\"237.5,-2430.5 305.5,-2430.5 \"/>\n",
       "<text text-anchor=\"middle\" x=\"271.5\" y=\"-2415.3\" font-family=\"Times,serif\" font-size=\"14.00\">output:</text>\n",
       "<polyline fill=\"none\" stroke=\"black\" points=\"305.5,-2407.5 305.5,-2453.5 \"/>\n",
       "<text text-anchor=\"middle\" x=\"356\" y=\"-2438.3\" font-family=\"Times,serif\" font-size=\"14.00\">(None, 15)</text>\n",
       "<polyline fill=\"none\" stroke=\"black\" points=\"305.5,-2430.5 406.5,-2430.5 \"/>\n",
       "<text text-anchor=\"middle\" x=\"356\" y=\"-2415.3\" font-family=\"Times,serif\" font-size=\"14.00\">(None, 128)</text>\n",
       "</g>\n",
       "<!-- 140248300506800&#45;&gt;140248300094800 -->\n",
       "<g id=\"edge1\" class=\"edge\">\n",
       "<title>140248300506800-&gt;140248300094800</title>\n",
       "<path fill=\"none\" stroke=\"black\" d=\"M253.5,-2490.37C253.5,-2482.15 253.5,-2472.66 253.5,-2463.73\"/>\n",
       "<polygon fill=\"black\" stroke=\"black\" points=\"257,-2463.61 253.5,-2453.61 250,-2463.61 257,-2463.61\"/>\n",
       "</g>\n",
       "<!-- 140248300503536 -->\n",
       "<g id=\"node3\" class=\"node\">\n",
       "<title>140248300503536</title>\n",
       "<polygon fill=\"none\" stroke=\"black\" points=\"0,-2324.5 0,-2370.5 507,-2370.5 507,-2324.5 0,-2324.5\"/>\n",
       "<text text-anchor=\"middle\" x=\"169\" y=\"-2343.8\" font-family=\"Times,serif\" font-size=\"14.00\">batch_normalization_16: BatchNormalization</text>\n",
       "<polyline fill=\"none\" stroke=\"black\" points=\"338,-2324.5 338,-2370.5 \"/>\n",
       "<text text-anchor=\"middle\" x=\"372\" y=\"-2355.3\" font-family=\"Times,serif\" font-size=\"14.00\">input:</text>\n",
       "<polyline fill=\"none\" stroke=\"black\" points=\"338,-2347.5 406,-2347.5 \"/>\n",
       "<text text-anchor=\"middle\" x=\"372\" y=\"-2332.3\" font-family=\"Times,serif\" font-size=\"14.00\">output:</text>\n",
       "<polyline fill=\"none\" stroke=\"black\" points=\"406,-2324.5 406,-2370.5 \"/>\n",
       "<text text-anchor=\"middle\" x=\"456.5\" y=\"-2355.3\" font-family=\"Times,serif\" font-size=\"14.00\">(None, 128)</text>\n",
       "<polyline fill=\"none\" stroke=\"black\" points=\"406,-2347.5 507,-2347.5 \"/>\n",
       "<text text-anchor=\"middle\" x=\"456.5\" y=\"-2332.3\" font-family=\"Times,serif\" font-size=\"14.00\">(None, 128)</text>\n",
       "</g>\n",
       "<!-- 140248300094800&#45;&gt;140248300503536 -->\n",
       "<g id=\"edge2\" class=\"edge\">\n",
       "<title>140248300094800-&gt;140248300503536</title>\n",
       "<path fill=\"none\" stroke=\"black\" d=\"M253.5,-2407.37C253.5,-2399.15 253.5,-2389.66 253.5,-2380.73\"/>\n",
       "<polygon fill=\"black\" stroke=\"black\" points=\"257,-2380.61 253.5,-2370.61 250,-2380.61 257,-2380.61\"/>\n",
       "</g>\n",
       "<!-- 140248300506848 -->\n",
       "<g id=\"node4\" class=\"node\">\n",
       "<title>140248300506848</title>\n",
       "<polygon fill=\"none\" stroke=\"black\" points=\"63.5,-2241.5 63.5,-2287.5 443.5,-2287.5 443.5,-2241.5 63.5,-2241.5\"/>\n",
       "<text text-anchor=\"middle\" x=\"169\" y=\"-2260.8\" font-family=\"Times,serif\" font-size=\"14.00\">leaky_re_lu_16: LeakyReLU</text>\n",
       "<polyline fill=\"none\" stroke=\"black\" points=\"274.5,-2241.5 274.5,-2287.5 \"/>\n",
       "<text text-anchor=\"middle\" x=\"308.5\" y=\"-2272.3\" font-family=\"Times,serif\" font-size=\"14.00\">input:</text>\n",
       "<polyline fill=\"none\" stroke=\"black\" points=\"274.5,-2264.5 342.5,-2264.5 \"/>\n",
       "<text text-anchor=\"middle\" x=\"308.5\" y=\"-2249.3\" font-family=\"Times,serif\" font-size=\"14.00\">output:</text>\n",
       "<polyline fill=\"none\" stroke=\"black\" points=\"342.5,-2241.5 342.5,-2287.5 \"/>\n",
       "<text text-anchor=\"middle\" x=\"393\" y=\"-2272.3\" font-family=\"Times,serif\" font-size=\"14.00\">(None, 128)</text>\n",
       "<polyline fill=\"none\" stroke=\"black\" points=\"342.5,-2264.5 443.5,-2264.5 \"/>\n",
       "<text text-anchor=\"middle\" x=\"393\" y=\"-2249.3\" font-family=\"Times,serif\" font-size=\"14.00\">(None, 128)</text>\n",
       "</g>\n",
       "<!-- 140248300503536&#45;&gt;140248300506848 -->\n",
       "<g id=\"edge3\" class=\"edge\">\n",
       "<title>140248300503536-&gt;140248300506848</title>\n",
       "<path fill=\"none\" stroke=\"black\" d=\"M253.5,-2324.37C253.5,-2316.15 253.5,-2306.66 253.5,-2297.73\"/>\n",
       "<polygon fill=\"black\" stroke=\"black\" points=\"257,-2297.61 253.5,-2287.61 250,-2297.61 257,-2297.61\"/>\n",
       "</g>\n",
       "<!-- 140248301004400 -->\n",
       "<g id=\"node5\" class=\"node\">\n",
       "<title>140248301004400</title>\n",
       "<polygon fill=\"none\" stroke=\"black\" points=\"86.5,-2158.5 86.5,-2204.5 420.5,-2204.5 420.5,-2158.5 86.5,-2158.5\"/>\n",
       "<text text-anchor=\"middle\" x=\"169\" y=\"-2177.8\" font-family=\"Times,serif\" font-size=\"14.00\">dropout_16: Dropout</text>\n",
       "<polyline fill=\"none\" stroke=\"black\" points=\"251.5,-2158.5 251.5,-2204.5 \"/>\n",
       "<text text-anchor=\"middle\" x=\"285.5\" y=\"-2189.3\" font-family=\"Times,serif\" font-size=\"14.00\">input:</text>\n",
       "<polyline fill=\"none\" stroke=\"black\" points=\"251.5,-2181.5 319.5,-2181.5 \"/>\n",
       "<text text-anchor=\"middle\" x=\"285.5\" y=\"-2166.3\" font-family=\"Times,serif\" font-size=\"14.00\">output:</text>\n",
       "<polyline fill=\"none\" stroke=\"black\" points=\"319.5,-2158.5 319.5,-2204.5 \"/>\n",
       "<text text-anchor=\"middle\" x=\"370\" y=\"-2189.3\" font-family=\"Times,serif\" font-size=\"14.00\">(None, 128)</text>\n",
       "<polyline fill=\"none\" stroke=\"black\" points=\"319.5,-2181.5 420.5,-2181.5 \"/>\n",
       "<text text-anchor=\"middle\" x=\"370\" y=\"-2166.3\" font-family=\"Times,serif\" font-size=\"14.00\">(None, 128)</text>\n",
       "</g>\n",
       "<!-- 140248300506848&#45;&gt;140248301004400 -->\n",
       "<g id=\"edge4\" class=\"edge\">\n",
       "<title>140248300506848-&gt;140248301004400</title>\n",
       "<path fill=\"none\" stroke=\"black\" d=\"M253.5,-2241.37C253.5,-2233.15 253.5,-2223.66 253.5,-2214.73\"/>\n",
       "<polygon fill=\"black\" stroke=\"black\" points=\"257,-2214.61 253.5,-2204.61 250,-2214.61 257,-2214.61\"/>\n",
       "</g>\n",
       "<!-- 140248301005552 -->\n",
       "<g id=\"node6\" class=\"node\">\n",
       "<title>140248301005552</title>\n",
       "<polygon fill=\"none\" stroke=\"black\" points=\"100.5,-2075.5 100.5,-2121.5 406.5,-2121.5 406.5,-2075.5 100.5,-2075.5\"/>\n",
       "<text text-anchor=\"middle\" x=\"169\" y=\"-2094.8\" font-family=\"Times,serif\" font-size=\"14.00\">dense_21: Dense</text>\n",
       "<polyline fill=\"none\" stroke=\"black\" points=\"237.5,-2075.5 237.5,-2121.5 \"/>\n",
       "<text text-anchor=\"middle\" x=\"271.5\" y=\"-2106.3\" font-family=\"Times,serif\" font-size=\"14.00\">input:</text>\n",
       "<polyline fill=\"none\" stroke=\"black\" points=\"237.5,-2098.5 305.5,-2098.5 \"/>\n",
       "<text text-anchor=\"middle\" x=\"271.5\" y=\"-2083.3\" font-family=\"Times,serif\" font-size=\"14.00\">output:</text>\n",
       "<polyline fill=\"none\" stroke=\"black\" points=\"305.5,-2075.5 305.5,-2121.5 \"/>\n",
       "<text text-anchor=\"middle\" x=\"356\" y=\"-2106.3\" font-family=\"Times,serif\" font-size=\"14.00\">(None, 128)</text>\n",
       "<polyline fill=\"none\" stroke=\"black\" points=\"305.5,-2098.5 406.5,-2098.5 \"/>\n",
       "<text text-anchor=\"middle\" x=\"356\" y=\"-2083.3\" font-family=\"Times,serif\" font-size=\"14.00\">(None, 64)</text>\n",
       "</g>\n",
       "<!-- 140248301004400&#45;&gt;140248301005552 -->\n",
       "<g id=\"edge5\" class=\"edge\">\n",
       "<title>140248301004400-&gt;140248301005552</title>\n",
       "<path fill=\"none\" stroke=\"black\" d=\"M253.5,-2158.37C253.5,-2150.15 253.5,-2140.66 253.5,-2131.73\"/>\n",
       "<polygon fill=\"black\" stroke=\"black\" points=\"257,-2131.61 253.5,-2121.61 250,-2131.61 257,-2131.61\"/>\n",
       "</g>\n",
       "<!-- 140248300052688 -->\n",
       "<g id=\"node7\" class=\"node\">\n",
       "<title>140248300052688</title>\n",
       "<polygon fill=\"none\" stroke=\"black\" points=\"4.5,-1992.5 4.5,-2038.5 502.5,-2038.5 502.5,-1992.5 4.5,-1992.5\"/>\n",
       "<text text-anchor=\"middle\" x=\"173.5\" y=\"-2011.8\" font-family=\"Times,serif\" font-size=\"14.00\">batch_normalization_17: BatchNormalization</text>\n",
       "<polyline fill=\"none\" stroke=\"black\" points=\"342.5,-1992.5 342.5,-2038.5 \"/>\n",
       "<text text-anchor=\"middle\" x=\"376.5\" y=\"-2023.3\" font-family=\"Times,serif\" font-size=\"14.00\">input:</text>\n",
       "<polyline fill=\"none\" stroke=\"black\" points=\"342.5,-2015.5 410.5,-2015.5 \"/>\n",
       "<text text-anchor=\"middle\" x=\"376.5\" y=\"-2000.3\" font-family=\"Times,serif\" font-size=\"14.00\">output:</text>\n",
       "<polyline fill=\"none\" stroke=\"black\" points=\"410.5,-1992.5 410.5,-2038.5 \"/>\n",
       "<text text-anchor=\"middle\" x=\"456.5\" y=\"-2023.3\" font-family=\"Times,serif\" font-size=\"14.00\">(None, 64)</text>\n",
       "<polyline fill=\"none\" stroke=\"black\" points=\"410.5,-2015.5 502.5,-2015.5 \"/>\n",
       "<text text-anchor=\"middle\" x=\"456.5\" y=\"-2000.3\" font-family=\"Times,serif\" font-size=\"14.00\">(None, 64)</text>\n",
       "</g>\n",
       "<!-- 140248301005552&#45;&gt;140248300052688 -->\n",
       "<g id=\"edge6\" class=\"edge\">\n",
       "<title>140248301005552-&gt;140248300052688</title>\n",
       "<path fill=\"none\" stroke=\"black\" d=\"M253.5,-2075.37C253.5,-2067.15 253.5,-2057.66 253.5,-2048.73\"/>\n",
       "<polygon fill=\"black\" stroke=\"black\" points=\"257,-2048.61 253.5,-2038.61 250,-2048.61 257,-2048.61\"/>\n",
       "</g>\n",
       "<!-- 140248298365808 -->\n",
       "<g id=\"node8\" class=\"node\">\n",
       "<title>140248298365808</title>\n",
       "<polygon fill=\"none\" stroke=\"black\" points=\"68,-1909.5 68,-1955.5 439,-1955.5 439,-1909.5 68,-1909.5\"/>\n",
       "<text text-anchor=\"middle\" x=\"173.5\" y=\"-1928.8\" font-family=\"Times,serif\" font-size=\"14.00\">leaky_re_lu_17: LeakyReLU</text>\n",
       "<polyline fill=\"none\" stroke=\"black\" points=\"279,-1909.5 279,-1955.5 \"/>\n",
       "<text text-anchor=\"middle\" x=\"313\" y=\"-1940.3\" font-family=\"Times,serif\" font-size=\"14.00\">input:</text>\n",
       "<polyline fill=\"none\" stroke=\"black\" points=\"279,-1932.5 347,-1932.5 \"/>\n",
       "<text text-anchor=\"middle\" x=\"313\" y=\"-1917.3\" font-family=\"Times,serif\" font-size=\"14.00\">output:</text>\n",
       "<polyline fill=\"none\" stroke=\"black\" points=\"347,-1909.5 347,-1955.5 \"/>\n",
       "<text text-anchor=\"middle\" x=\"393\" y=\"-1940.3\" font-family=\"Times,serif\" font-size=\"14.00\">(None, 64)</text>\n",
       "<polyline fill=\"none\" stroke=\"black\" points=\"347,-1932.5 439,-1932.5 \"/>\n",
       "<text text-anchor=\"middle\" x=\"393\" y=\"-1917.3\" font-family=\"Times,serif\" font-size=\"14.00\">(None, 64)</text>\n",
       "</g>\n",
       "<!-- 140248300052688&#45;&gt;140248298365808 -->\n",
       "<g id=\"edge7\" class=\"edge\">\n",
       "<title>140248300052688-&gt;140248298365808</title>\n",
       "<path fill=\"none\" stroke=\"black\" d=\"M253.5,-1992.37C253.5,-1984.15 253.5,-1974.66 253.5,-1965.73\"/>\n",
       "<polygon fill=\"black\" stroke=\"black\" points=\"257,-1965.61 253.5,-1955.61 250,-1965.61 257,-1965.61\"/>\n",
       "</g>\n",
       "<!-- 140248298365424 -->\n",
       "<g id=\"node9\" class=\"node\">\n",
       "<title>140248298365424</title>\n",
       "<polygon fill=\"none\" stroke=\"black\" points=\"91,-1826.5 91,-1872.5 416,-1872.5 416,-1826.5 91,-1826.5\"/>\n",
       "<text text-anchor=\"middle\" x=\"173.5\" y=\"-1845.8\" font-family=\"Times,serif\" font-size=\"14.00\">dropout_17: Dropout</text>\n",
       "<polyline fill=\"none\" stroke=\"black\" points=\"256,-1826.5 256,-1872.5 \"/>\n",
       "<text text-anchor=\"middle\" x=\"290\" y=\"-1857.3\" font-family=\"Times,serif\" font-size=\"14.00\">input:</text>\n",
       "<polyline fill=\"none\" stroke=\"black\" points=\"256,-1849.5 324,-1849.5 \"/>\n",
       "<text text-anchor=\"middle\" x=\"290\" y=\"-1834.3\" font-family=\"Times,serif\" font-size=\"14.00\">output:</text>\n",
       "<polyline fill=\"none\" stroke=\"black\" points=\"324,-1826.5 324,-1872.5 \"/>\n",
       "<text text-anchor=\"middle\" x=\"370\" y=\"-1857.3\" font-family=\"Times,serif\" font-size=\"14.00\">(None, 64)</text>\n",
       "<polyline fill=\"none\" stroke=\"black\" points=\"324,-1849.5 416,-1849.5 \"/>\n",
       "<text text-anchor=\"middle\" x=\"370\" y=\"-1834.3\" font-family=\"Times,serif\" font-size=\"14.00\">(None, 64)</text>\n",
       "</g>\n",
       "<!-- 140248298365808&#45;&gt;140248298365424 -->\n",
       "<g id=\"edge8\" class=\"edge\">\n",
       "<title>140248298365808-&gt;140248298365424</title>\n",
       "<path fill=\"none\" stroke=\"black\" d=\"M253.5,-1909.37C253.5,-1901.15 253.5,-1891.66 253.5,-1882.73\"/>\n",
       "<polygon fill=\"black\" stroke=\"black\" points=\"257,-1882.61 253.5,-1872.61 250,-1882.61 257,-1882.61\"/>\n",
       "</g>\n",
       "<!-- 140254324657696 -->\n",
       "<g id=\"node10\" class=\"node\">\n",
       "<title>140254324657696</title>\n",
       "<polygon fill=\"none\" stroke=\"black\" points=\"105,-1743.5 105,-1789.5 402,-1789.5 402,-1743.5 105,-1743.5\"/>\n",
       "<text text-anchor=\"middle\" x=\"173.5\" y=\"-1762.8\" font-family=\"Times,serif\" font-size=\"14.00\">dense_22: Dense</text>\n",
       "<polyline fill=\"none\" stroke=\"black\" points=\"242,-1743.5 242,-1789.5 \"/>\n",
       "<text text-anchor=\"middle\" x=\"276\" y=\"-1774.3\" font-family=\"Times,serif\" font-size=\"14.00\">input:</text>\n",
       "<polyline fill=\"none\" stroke=\"black\" points=\"242,-1766.5 310,-1766.5 \"/>\n",
       "<text text-anchor=\"middle\" x=\"276\" y=\"-1751.3\" font-family=\"Times,serif\" font-size=\"14.00\">output:</text>\n",
       "<polyline fill=\"none\" stroke=\"black\" points=\"310,-1743.5 310,-1789.5 \"/>\n",
       "<text text-anchor=\"middle\" x=\"356\" y=\"-1774.3\" font-family=\"Times,serif\" font-size=\"14.00\">(None, 64)</text>\n",
       "<polyline fill=\"none\" stroke=\"black\" points=\"310,-1766.5 402,-1766.5 \"/>\n",
       "<text text-anchor=\"middle\" x=\"356\" y=\"-1751.3\" font-family=\"Times,serif\" font-size=\"14.00\">(None, 32)</text>\n",
       "</g>\n",
       "<!-- 140248298365424&#45;&gt;140254324657696 -->\n",
       "<g id=\"edge9\" class=\"edge\">\n",
       "<title>140248298365424-&gt;140254324657696</title>\n",
       "<path fill=\"none\" stroke=\"black\" d=\"M253.5,-1826.37C253.5,-1818.15 253.5,-1808.66 253.5,-1799.73\"/>\n",
       "<polygon fill=\"black\" stroke=\"black\" points=\"257,-1799.61 253.5,-1789.61 250,-1799.61 257,-1799.61\"/>\n",
       "</g>\n",
       "<!-- 140248300397136 -->\n",
       "<g id=\"node11\" class=\"node\">\n",
       "<title>140248300397136</title>\n",
       "<polygon fill=\"none\" stroke=\"black\" points=\"4.5,-1660.5 4.5,-1706.5 502.5,-1706.5 502.5,-1660.5 4.5,-1660.5\"/>\n",
       "<text text-anchor=\"middle\" x=\"173.5\" y=\"-1679.8\" font-family=\"Times,serif\" font-size=\"14.00\">batch_normalization_18: BatchNormalization</text>\n",
       "<polyline fill=\"none\" stroke=\"black\" points=\"342.5,-1660.5 342.5,-1706.5 \"/>\n",
       "<text text-anchor=\"middle\" x=\"376.5\" y=\"-1691.3\" font-family=\"Times,serif\" font-size=\"14.00\">input:</text>\n",
       "<polyline fill=\"none\" stroke=\"black\" points=\"342.5,-1683.5 410.5,-1683.5 \"/>\n",
       "<text text-anchor=\"middle\" x=\"376.5\" y=\"-1668.3\" font-family=\"Times,serif\" font-size=\"14.00\">output:</text>\n",
       "<polyline fill=\"none\" stroke=\"black\" points=\"410.5,-1660.5 410.5,-1706.5 \"/>\n",
       "<text text-anchor=\"middle\" x=\"456.5\" y=\"-1691.3\" font-family=\"Times,serif\" font-size=\"14.00\">(None, 32)</text>\n",
       "<polyline fill=\"none\" stroke=\"black\" points=\"410.5,-1683.5 502.5,-1683.5 \"/>\n",
       "<text text-anchor=\"middle\" x=\"456.5\" y=\"-1668.3\" font-family=\"Times,serif\" font-size=\"14.00\">(None, 32)</text>\n",
       "</g>\n",
       "<!-- 140254324657696&#45;&gt;140248300397136 -->\n",
       "<g id=\"edge10\" class=\"edge\">\n",
       "<title>140254324657696-&gt;140248300397136</title>\n",
       "<path fill=\"none\" stroke=\"black\" d=\"M253.5,-1743.37C253.5,-1735.15 253.5,-1725.66 253.5,-1716.73\"/>\n",
       "<polygon fill=\"black\" stroke=\"black\" points=\"257,-1716.61 253.5,-1706.61 250,-1716.61 257,-1716.61\"/>\n",
       "</g>\n",
       "<!-- 140248298352752 -->\n",
       "<g id=\"node12\" class=\"node\">\n",
       "<title>140248298352752</title>\n",
       "<polygon fill=\"none\" stroke=\"black\" points=\"68,-1577.5 68,-1623.5 439,-1623.5 439,-1577.5 68,-1577.5\"/>\n",
       "<text text-anchor=\"middle\" x=\"173.5\" y=\"-1596.8\" font-family=\"Times,serif\" font-size=\"14.00\">leaky_re_lu_18: LeakyReLU</text>\n",
       "<polyline fill=\"none\" stroke=\"black\" points=\"279,-1577.5 279,-1623.5 \"/>\n",
       "<text text-anchor=\"middle\" x=\"313\" y=\"-1608.3\" font-family=\"Times,serif\" font-size=\"14.00\">input:</text>\n",
       "<polyline fill=\"none\" stroke=\"black\" points=\"279,-1600.5 347,-1600.5 \"/>\n",
       "<text text-anchor=\"middle\" x=\"313\" y=\"-1585.3\" font-family=\"Times,serif\" font-size=\"14.00\">output:</text>\n",
       "<polyline fill=\"none\" stroke=\"black\" points=\"347,-1577.5 347,-1623.5 \"/>\n",
       "<text text-anchor=\"middle\" x=\"393\" y=\"-1608.3\" font-family=\"Times,serif\" font-size=\"14.00\">(None, 32)</text>\n",
       "<polyline fill=\"none\" stroke=\"black\" points=\"347,-1600.5 439,-1600.5 \"/>\n",
       "<text text-anchor=\"middle\" x=\"393\" y=\"-1585.3\" font-family=\"Times,serif\" font-size=\"14.00\">(None, 32)</text>\n",
       "</g>\n",
       "<!-- 140248300397136&#45;&gt;140248298352752 -->\n",
       "<g id=\"edge11\" class=\"edge\">\n",
       "<title>140248300397136-&gt;140248298352752</title>\n",
       "<path fill=\"none\" stroke=\"black\" d=\"M253.5,-1660.37C253.5,-1652.15 253.5,-1642.66 253.5,-1633.73\"/>\n",
       "<polygon fill=\"black\" stroke=\"black\" points=\"257,-1633.61 253.5,-1623.61 250,-1633.61 257,-1633.61\"/>\n",
       "</g>\n",
       "<!-- 140248298354624 -->\n",
       "<g id=\"node13\" class=\"node\">\n",
       "<title>140248298354624</title>\n",
       "<polygon fill=\"none\" stroke=\"black\" points=\"91,-1494.5 91,-1540.5 416,-1540.5 416,-1494.5 91,-1494.5\"/>\n",
       "<text text-anchor=\"middle\" x=\"173.5\" y=\"-1513.8\" font-family=\"Times,serif\" font-size=\"14.00\">dropout_18: Dropout</text>\n",
       "<polyline fill=\"none\" stroke=\"black\" points=\"256,-1494.5 256,-1540.5 \"/>\n",
       "<text text-anchor=\"middle\" x=\"290\" y=\"-1525.3\" font-family=\"Times,serif\" font-size=\"14.00\">input:</text>\n",
       "<polyline fill=\"none\" stroke=\"black\" points=\"256,-1517.5 324,-1517.5 \"/>\n",
       "<text text-anchor=\"middle\" x=\"290\" y=\"-1502.3\" font-family=\"Times,serif\" font-size=\"14.00\">output:</text>\n",
       "<polyline fill=\"none\" stroke=\"black\" points=\"324,-1494.5 324,-1540.5 \"/>\n",
       "<text text-anchor=\"middle\" x=\"370\" y=\"-1525.3\" font-family=\"Times,serif\" font-size=\"14.00\">(None, 32)</text>\n",
       "<polyline fill=\"none\" stroke=\"black\" points=\"324,-1517.5 416,-1517.5 \"/>\n",
       "<text text-anchor=\"middle\" x=\"370\" y=\"-1502.3\" font-family=\"Times,serif\" font-size=\"14.00\">(None, 32)</text>\n",
       "</g>\n",
       "<!-- 140248298352752&#45;&gt;140248298354624 -->\n",
       "<g id=\"edge12\" class=\"edge\">\n",
       "<title>140248298352752-&gt;140248298354624</title>\n",
       "<path fill=\"none\" stroke=\"black\" d=\"M253.5,-1577.37C253.5,-1569.15 253.5,-1559.66 253.5,-1550.73\"/>\n",
       "<polygon fill=\"black\" stroke=\"black\" points=\"257,-1550.61 253.5,-1540.61 250,-1550.61 257,-1550.61\"/>\n",
       "</g>\n",
       "<!-- 140248298353472 -->\n",
       "<g id=\"node14\" class=\"node\">\n",
       "<title>140248298353472</title>\n",
       "<polygon fill=\"none\" stroke=\"black\" points=\"105,-1411.5 105,-1457.5 402,-1457.5 402,-1411.5 105,-1411.5\"/>\n",
       "<text text-anchor=\"middle\" x=\"173.5\" y=\"-1430.8\" font-family=\"Times,serif\" font-size=\"14.00\">dense_23: Dense</text>\n",
       "<polyline fill=\"none\" stroke=\"black\" points=\"242,-1411.5 242,-1457.5 \"/>\n",
       "<text text-anchor=\"middle\" x=\"276\" y=\"-1442.3\" font-family=\"Times,serif\" font-size=\"14.00\">input:</text>\n",
       "<polyline fill=\"none\" stroke=\"black\" points=\"242,-1434.5 310,-1434.5 \"/>\n",
       "<text text-anchor=\"middle\" x=\"276\" y=\"-1419.3\" font-family=\"Times,serif\" font-size=\"14.00\">output:</text>\n",
       "<polyline fill=\"none\" stroke=\"black\" points=\"310,-1411.5 310,-1457.5 \"/>\n",
       "<text text-anchor=\"middle\" x=\"356\" y=\"-1442.3\" font-family=\"Times,serif\" font-size=\"14.00\">(None, 32)</text>\n",
       "<polyline fill=\"none\" stroke=\"black\" points=\"310,-1434.5 402,-1434.5 \"/>\n",
       "<text text-anchor=\"middle\" x=\"356\" y=\"-1419.3\" font-family=\"Times,serif\" font-size=\"14.00\">(None, 16)</text>\n",
       "</g>\n",
       "<!-- 140248298354624&#45;&gt;140248298353472 -->\n",
       "<g id=\"edge13\" class=\"edge\">\n",
       "<title>140248298354624-&gt;140248298353472</title>\n",
       "<path fill=\"none\" stroke=\"black\" d=\"M253.5,-1494.37C253.5,-1486.15 253.5,-1476.66 253.5,-1467.73\"/>\n",
       "<polygon fill=\"black\" stroke=\"black\" points=\"257,-1467.61 253.5,-1457.61 250,-1467.61 257,-1467.61\"/>\n",
       "</g>\n",
       "<!-- 140248298423488 -->\n",
       "<g id=\"node15\" class=\"node\">\n",
       "<title>140248298423488</title>\n",
       "<polygon fill=\"none\" stroke=\"black\" points=\"4.5,-1328.5 4.5,-1374.5 502.5,-1374.5 502.5,-1328.5 4.5,-1328.5\"/>\n",
       "<text text-anchor=\"middle\" x=\"173.5\" y=\"-1347.8\" font-family=\"Times,serif\" font-size=\"14.00\">batch_normalization_19: BatchNormalization</text>\n",
       "<polyline fill=\"none\" stroke=\"black\" points=\"342.5,-1328.5 342.5,-1374.5 \"/>\n",
       "<text text-anchor=\"middle\" x=\"376.5\" y=\"-1359.3\" font-family=\"Times,serif\" font-size=\"14.00\">input:</text>\n",
       "<polyline fill=\"none\" stroke=\"black\" points=\"342.5,-1351.5 410.5,-1351.5 \"/>\n",
       "<text text-anchor=\"middle\" x=\"376.5\" y=\"-1336.3\" font-family=\"Times,serif\" font-size=\"14.00\">output:</text>\n",
       "<polyline fill=\"none\" stroke=\"black\" points=\"410.5,-1328.5 410.5,-1374.5 \"/>\n",
       "<text text-anchor=\"middle\" x=\"456.5\" y=\"-1359.3\" font-family=\"Times,serif\" font-size=\"14.00\">(None, 16)</text>\n",
       "<polyline fill=\"none\" stroke=\"black\" points=\"410.5,-1351.5 502.5,-1351.5 \"/>\n",
       "<text text-anchor=\"middle\" x=\"456.5\" y=\"-1336.3\" font-family=\"Times,serif\" font-size=\"14.00\">(None, 16)</text>\n",
       "</g>\n",
       "<!-- 140248298353472&#45;&gt;140248298423488 -->\n",
       "<g id=\"edge14\" class=\"edge\">\n",
       "<title>140248298353472-&gt;140248298423488</title>\n",
       "<path fill=\"none\" stroke=\"black\" d=\"M253.5,-1411.37C253.5,-1403.15 253.5,-1393.66 253.5,-1384.73\"/>\n",
       "<polygon fill=\"black\" stroke=\"black\" points=\"257,-1384.61 253.5,-1374.61 250,-1384.61 257,-1384.61\"/>\n",
       "</g>\n",
       "<!-- 140248298426128 -->\n",
       "<g id=\"node16\" class=\"node\">\n",
       "<title>140248298426128</title>\n",
       "<polygon fill=\"none\" stroke=\"black\" points=\"68,-1245.5 68,-1291.5 439,-1291.5 439,-1245.5 68,-1245.5\"/>\n",
       "<text text-anchor=\"middle\" x=\"173.5\" y=\"-1264.8\" font-family=\"Times,serif\" font-size=\"14.00\">leaky_re_lu_19: LeakyReLU</text>\n",
       "<polyline fill=\"none\" stroke=\"black\" points=\"279,-1245.5 279,-1291.5 \"/>\n",
       "<text text-anchor=\"middle\" x=\"313\" y=\"-1276.3\" font-family=\"Times,serif\" font-size=\"14.00\">input:</text>\n",
       "<polyline fill=\"none\" stroke=\"black\" points=\"279,-1268.5 347,-1268.5 \"/>\n",
       "<text text-anchor=\"middle\" x=\"313\" y=\"-1253.3\" font-family=\"Times,serif\" font-size=\"14.00\">output:</text>\n",
       "<polyline fill=\"none\" stroke=\"black\" points=\"347,-1245.5 347,-1291.5 \"/>\n",
       "<text text-anchor=\"middle\" x=\"393\" y=\"-1276.3\" font-family=\"Times,serif\" font-size=\"14.00\">(None, 16)</text>\n",
       "<polyline fill=\"none\" stroke=\"black\" points=\"347,-1268.5 439,-1268.5 \"/>\n",
       "<text text-anchor=\"middle\" x=\"393\" y=\"-1253.3\" font-family=\"Times,serif\" font-size=\"14.00\">(None, 16)</text>\n",
       "</g>\n",
       "<!-- 140248298423488&#45;&gt;140248298426128 -->\n",
       "<g id=\"edge15\" class=\"edge\">\n",
       "<title>140248298423488-&gt;140248298426128</title>\n",
       "<path fill=\"none\" stroke=\"black\" d=\"M253.5,-1328.37C253.5,-1320.15 253.5,-1310.66 253.5,-1301.73\"/>\n",
       "<polygon fill=\"black\" stroke=\"black\" points=\"257,-1301.61 253.5,-1291.61 250,-1301.61 257,-1301.61\"/>\n",
       "</g>\n",
       "<!-- 140248300398912 -->\n",
       "<g id=\"node17\" class=\"node\">\n",
       "<title>140248300398912</title>\n",
       "<polygon fill=\"none\" stroke=\"black\" points=\"91,-1162.5 91,-1208.5 416,-1208.5 416,-1162.5 91,-1162.5\"/>\n",
       "<text text-anchor=\"middle\" x=\"173.5\" y=\"-1181.8\" font-family=\"Times,serif\" font-size=\"14.00\">dropout_19: Dropout</text>\n",
       "<polyline fill=\"none\" stroke=\"black\" points=\"256,-1162.5 256,-1208.5 \"/>\n",
       "<text text-anchor=\"middle\" x=\"290\" y=\"-1193.3\" font-family=\"Times,serif\" font-size=\"14.00\">input:</text>\n",
       "<polyline fill=\"none\" stroke=\"black\" points=\"256,-1185.5 324,-1185.5 \"/>\n",
       "<text text-anchor=\"middle\" x=\"290\" y=\"-1170.3\" font-family=\"Times,serif\" font-size=\"14.00\">output:</text>\n",
       "<polyline fill=\"none\" stroke=\"black\" points=\"324,-1162.5 324,-1208.5 \"/>\n",
       "<text text-anchor=\"middle\" x=\"370\" y=\"-1193.3\" font-family=\"Times,serif\" font-size=\"14.00\">(None, 16)</text>\n",
       "<polyline fill=\"none\" stroke=\"black\" points=\"324,-1185.5 416,-1185.5 \"/>\n",
       "<text text-anchor=\"middle\" x=\"370\" y=\"-1170.3\" font-family=\"Times,serif\" font-size=\"14.00\">(None, 16)</text>\n",
       "</g>\n",
       "<!-- 140248298426128&#45;&gt;140248300398912 -->\n",
       "<g id=\"edge16\" class=\"edge\">\n",
       "<title>140248298426128-&gt;140248300398912</title>\n",
       "<path fill=\"none\" stroke=\"black\" d=\"M253.5,-1245.37C253.5,-1237.15 253.5,-1227.66 253.5,-1218.73\"/>\n",
       "<polygon fill=\"black\" stroke=\"black\" points=\"257,-1218.61 253.5,-1208.61 250,-1218.61 257,-1218.61\"/>\n",
       "</g>\n",
       "<!-- 140248297945984 -->\n",
       "<g id=\"node18\" class=\"node\">\n",
       "<title>140248297945984</title>\n",
       "<polygon fill=\"none\" stroke=\"black\" points=\"105,-1079.5 105,-1125.5 402,-1125.5 402,-1079.5 105,-1079.5\"/>\n",
       "<text text-anchor=\"middle\" x=\"173.5\" y=\"-1098.8\" font-family=\"Times,serif\" font-size=\"14.00\">dense_24: Dense</text>\n",
       "<polyline fill=\"none\" stroke=\"black\" points=\"242,-1079.5 242,-1125.5 \"/>\n",
       "<text text-anchor=\"middle\" x=\"276\" y=\"-1110.3\" font-family=\"Times,serif\" font-size=\"14.00\">input:</text>\n",
       "<polyline fill=\"none\" stroke=\"black\" points=\"242,-1102.5 310,-1102.5 \"/>\n",
       "<text text-anchor=\"middle\" x=\"276\" y=\"-1087.3\" font-family=\"Times,serif\" font-size=\"14.00\">output:</text>\n",
       "<polyline fill=\"none\" stroke=\"black\" points=\"310,-1079.5 310,-1125.5 \"/>\n",
       "<text text-anchor=\"middle\" x=\"356\" y=\"-1110.3\" font-family=\"Times,serif\" font-size=\"14.00\">(None, 16)</text>\n",
       "<polyline fill=\"none\" stroke=\"black\" points=\"310,-1102.5 402,-1102.5 \"/>\n",
       "<text text-anchor=\"middle\" x=\"356\" y=\"-1087.3\" font-family=\"Times,serif\" font-size=\"14.00\">(None, 8)</text>\n",
       "</g>\n",
       "<!-- 140248300398912&#45;&gt;140248297945984 -->\n",
       "<g id=\"edge17\" class=\"edge\">\n",
       "<title>140248300398912-&gt;140248297945984</title>\n",
       "<path fill=\"none\" stroke=\"black\" d=\"M253.5,-1162.37C253.5,-1154.15 253.5,-1144.66 253.5,-1135.73\"/>\n",
       "<polygon fill=\"black\" stroke=\"black\" points=\"257,-1135.61 253.5,-1125.61 250,-1135.61 257,-1135.61\"/>\n",
       "</g>\n",
       "<!-- 140248298052816 -->\n",
       "<g id=\"node19\" class=\"node\">\n",
       "<title>140248298052816</title>\n",
       "<polygon fill=\"none\" stroke=\"black\" points=\"105,-996.5 105,-1042.5 402,-1042.5 402,-996.5 105,-996.5\"/>\n",
       "<text text-anchor=\"middle\" x=\"173.5\" y=\"-1015.8\" font-family=\"Times,serif\" font-size=\"14.00\">dense_26: Dense</text>\n",
       "<polyline fill=\"none\" stroke=\"black\" points=\"242,-996.5 242,-1042.5 \"/>\n",
       "<text text-anchor=\"middle\" x=\"276\" y=\"-1027.3\" font-family=\"Times,serif\" font-size=\"14.00\">input:</text>\n",
       "<polyline fill=\"none\" stroke=\"black\" points=\"242,-1019.5 310,-1019.5 \"/>\n",
       "<text text-anchor=\"middle\" x=\"276\" y=\"-1004.3\" font-family=\"Times,serif\" font-size=\"14.00\">output:</text>\n",
       "<polyline fill=\"none\" stroke=\"black\" points=\"310,-996.5 310,-1042.5 \"/>\n",
       "<text text-anchor=\"middle\" x=\"356\" y=\"-1027.3\" font-family=\"Times,serif\" font-size=\"14.00\">(None, 8)</text>\n",
       "<polyline fill=\"none\" stroke=\"black\" points=\"310,-1019.5 402,-1019.5 \"/>\n",
       "<text text-anchor=\"middle\" x=\"356\" y=\"-1004.3\" font-family=\"Times,serif\" font-size=\"14.00\">(None, 32)</text>\n",
       "</g>\n",
       "<!-- 140248297945984&#45;&gt;140248298052816 -->\n",
       "<g id=\"edge18\" class=\"edge\">\n",
       "<title>140248297945984-&gt;140248298052816</title>\n",
       "<path fill=\"none\" stroke=\"black\" d=\"M253.5,-1079.37C253.5,-1071.15 253.5,-1061.66 253.5,-1052.73\"/>\n",
       "<polygon fill=\"black\" stroke=\"black\" points=\"257,-1052.61 253.5,-1042.61 250,-1052.61 257,-1052.61\"/>\n",
       "</g>\n",
       "<!-- 140248298050752 -->\n",
       "<g id=\"node20\" class=\"node\">\n",
       "<title>140248298050752</title>\n",
       "<polygon fill=\"none\" stroke=\"black\" points=\"4.5,-913.5 4.5,-959.5 502.5,-959.5 502.5,-913.5 4.5,-913.5\"/>\n",
       "<text text-anchor=\"middle\" x=\"173.5\" y=\"-932.8\" font-family=\"Times,serif\" font-size=\"14.00\">batch_normalization_21: BatchNormalization</text>\n",
       "<polyline fill=\"none\" stroke=\"black\" points=\"342.5,-913.5 342.5,-959.5 \"/>\n",
       "<text text-anchor=\"middle\" x=\"376.5\" y=\"-944.3\" font-family=\"Times,serif\" font-size=\"14.00\">input:</text>\n",
       "<polyline fill=\"none\" stroke=\"black\" points=\"342.5,-936.5 410.5,-936.5 \"/>\n",
       "<text text-anchor=\"middle\" x=\"376.5\" y=\"-921.3\" font-family=\"Times,serif\" font-size=\"14.00\">output:</text>\n",
       "<polyline fill=\"none\" stroke=\"black\" points=\"410.5,-913.5 410.5,-959.5 \"/>\n",
       "<text text-anchor=\"middle\" x=\"456.5\" y=\"-944.3\" font-family=\"Times,serif\" font-size=\"14.00\">(None, 32)</text>\n",
       "<polyline fill=\"none\" stroke=\"black\" points=\"410.5,-936.5 502.5,-936.5 \"/>\n",
       "<text text-anchor=\"middle\" x=\"456.5\" y=\"-921.3\" font-family=\"Times,serif\" font-size=\"14.00\">(None, 32)</text>\n",
       "</g>\n",
       "<!-- 140248298052816&#45;&gt;140248298050752 -->\n",
       "<g id=\"edge19\" class=\"edge\">\n",
       "<title>140248298052816-&gt;140248298050752</title>\n",
       "<path fill=\"none\" stroke=\"black\" d=\"M253.5,-996.37C253.5,-988.15 253.5,-978.66 253.5,-969.73\"/>\n",
       "<polygon fill=\"black\" stroke=\"black\" points=\"257,-969.61 253.5,-959.61 250,-969.61 257,-969.61\"/>\n",
       "</g>\n",
       "<!-- 140248298129248 -->\n",
       "<g id=\"node21\" class=\"node\">\n",
       "<title>140248298129248</title>\n",
       "<polygon fill=\"none\" stroke=\"black\" points=\"68,-830.5 68,-876.5 439,-876.5 439,-830.5 68,-830.5\"/>\n",
       "<text text-anchor=\"middle\" x=\"173.5\" y=\"-849.8\" font-family=\"Times,serif\" font-size=\"14.00\">leaky_re_lu_21: LeakyReLU</text>\n",
       "<polyline fill=\"none\" stroke=\"black\" points=\"279,-830.5 279,-876.5 \"/>\n",
       "<text text-anchor=\"middle\" x=\"313\" y=\"-861.3\" font-family=\"Times,serif\" font-size=\"14.00\">input:</text>\n",
       "<polyline fill=\"none\" stroke=\"black\" points=\"279,-853.5 347,-853.5 \"/>\n",
       "<text text-anchor=\"middle\" x=\"313\" y=\"-838.3\" font-family=\"Times,serif\" font-size=\"14.00\">output:</text>\n",
       "<polyline fill=\"none\" stroke=\"black\" points=\"347,-830.5 347,-876.5 \"/>\n",
       "<text text-anchor=\"middle\" x=\"393\" y=\"-861.3\" font-family=\"Times,serif\" font-size=\"14.00\">(None, 32)</text>\n",
       "<polyline fill=\"none\" stroke=\"black\" points=\"347,-853.5 439,-853.5 \"/>\n",
       "<text text-anchor=\"middle\" x=\"393\" y=\"-838.3\" font-family=\"Times,serif\" font-size=\"14.00\">(None, 32)</text>\n",
       "</g>\n",
       "<!-- 140248298050752&#45;&gt;140248298129248 -->\n",
       "<g id=\"edge20\" class=\"edge\">\n",
       "<title>140248298050752-&gt;140248298129248</title>\n",
       "<path fill=\"none\" stroke=\"black\" d=\"M253.5,-913.37C253.5,-905.15 253.5,-895.66 253.5,-886.73\"/>\n",
       "<polygon fill=\"black\" stroke=\"black\" points=\"257,-886.61 253.5,-876.61 250,-886.61 257,-886.61\"/>\n",
       "</g>\n",
       "<!-- 140248298127568 -->\n",
       "<g id=\"node22\" class=\"node\">\n",
       "<title>140248298127568</title>\n",
       "<polygon fill=\"none\" stroke=\"black\" points=\"91,-747.5 91,-793.5 416,-793.5 416,-747.5 91,-747.5\"/>\n",
       "<text text-anchor=\"middle\" x=\"173.5\" y=\"-766.8\" font-family=\"Times,serif\" font-size=\"14.00\">dropout_21: Dropout</text>\n",
       "<polyline fill=\"none\" stroke=\"black\" points=\"256,-747.5 256,-793.5 \"/>\n",
       "<text text-anchor=\"middle\" x=\"290\" y=\"-778.3\" font-family=\"Times,serif\" font-size=\"14.00\">input:</text>\n",
       "<polyline fill=\"none\" stroke=\"black\" points=\"256,-770.5 324,-770.5 \"/>\n",
       "<text text-anchor=\"middle\" x=\"290\" y=\"-755.3\" font-family=\"Times,serif\" font-size=\"14.00\">output:</text>\n",
       "<polyline fill=\"none\" stroke=\"black\" points=\"324,-747.5 324,-793.5 \"/>\n",
       "<text text-anchor=\"middle\" x=\"370\" y=\"-778.3\" font-family=\"Times,serif\" font-size=\"14.00\">(None, 32)</text>\n",
       "<polyline fill=\"none\" stroke=\"black\" points=\"324,-770.5 416,-770.5 \"/>\n",
       "<text text-anchor=\"middle\" x=\"370\" y=\"-755.3\" font-family=\"Times,serif\" font-size=\"14.00\">(None, 32)</text>\n",
       "</g>\n",
       "<!-- 140248298129248&#45;&gt;140248298127568 -->\n",
       "<g id=\"edge21\" class=\"edge\">\n",
       "<title>140248298129248-&gt;140248298127568</title>\n",
       "<path fill=\"none\" stroke=\"black\" d=\"M253.5,-830.37C253.5,-822.15 253.5,-812.66 253.5,-803.73\"/>\n",
       "<polygon fill=\"black\" stroke=\"black\" points=\"257,-803.61 253.5,-793.61 250,-803.61 257,-803.61\"/>\n",
       "</g>\n",
       "<!-- 140248298130016 -->\n",
       "<g id=\"node23\" class=\"node\">\n",
       "<title>140248298130016</title>\n",
       "<polygon fill=\"none\" stroke=\"black\" points=\"105,-664.5 105,-710.5 402,-710.5 402,-664.5 105,-664.5\"/>\n",
       "<text text-anchor=\"middle\" x=\"173.5\" y=\"-683.8\" font-family=\"Times,serif\" font-size=\"14.00\">dense_27: Dense</text>\n",
       "<polyline fill=\"none\" stroke=\"black\" points=\"242,-664.5 242,-710.5 \"/>\n",
       "<text text-anchor=\"middle\" x=\"276\" y=\"-695.3\" font-family=\"Times,serif\" font-size=\"14.00\">input:</text>\n",
       "<polyline fill=\"none\" stroke=\"black\" points=\"242,-687.5 310,-687.5 \"/>\n",
       "<text text-anchor=\"middle\" x=\"276\" y=\"-672.3\" font-family=\"Times,serif\" font-size=\"14.00\">output:</text>\n",
       "<polyline fill=\"none\" stroke=\"black\" points=\"310,-664.5 310,-710.5 \"/>\n",
       "<text text-anchor=\"middle\" x=\"356\" y=\"-695.3\" font-family=\"Times,serif\" font-size=\"14.00\">(None, 32)</text>\n",
       "<polyline fill=\"none\" stroke=\"black\" points=\"310,-687.5 402,-687.5 \"/>\n",
       "<text text-anchor=\"middle\" x=\"356\" y=\"-672.3\" font-family=\"Times,serif\" font-size=\"14.00\">(None, 64)</text>\n",
       "</g>\n",
       "<!-- 140248298127568&#45;&gt;140248298130016 -->\n",
       "<g id=\"edge22\" class=\"edge\">\n",
       "<title>140248298127568-&gt;140248298130016</title>\n",
       "<path fill=\"none\" stroke=\"black\" d=\"M253.5,-747.37C253.5,-739.15 253.5,-729.66 253.5,-720.73\"/>\n",
       "<polygon fill=\"black\" stroke=\"black\" points=\"257,-720.61 253.5,-710.61 250,-720.61 257,-720.61\"/>\n",
       "</g>\n",
       "<!-- 140248298110688 -->\n",
       "<g id=\"node24\" class=\"node\">\n",
       "<title>140248298110688</title>\n",
       "<polygon fill=\"none\" stroke=\"black\" points=\"4.5,-581.5 4.5,-627.5 502.5,-627.5 502.5,-581.5 4.5,-581.5\"/>\n",
       "<text text-anchor=\"middle\" x=\"173.5\" y=\"-600.8\" font-family=\"Times,serif\" font-size=\"14.00\">batch_normalization_22: BatchNormalization</text>\n",
       "<polyline fill=\"none\" stroke=\"black\" points=\"342.5,-581.5 342.5,-627.5 \"/>\n",
       "<text text-anchor=\"middle\" x=\"376.5\" y=\"-612.3\" font-family=\"Times,serif\" font-size=\"14.00\">input:</text>\n",
       "<polyline fill=\"none\" stroke=\"black\" points=\"342.5,-604.5 410.5,-604.5 \"/>\n",
       "<text text-anchor=\"middle\" x=\"376.5\" y=\"-589.3\" font-family=\"Times,serif\" font-size=\"14.00\">output:</text>\n",
       "<polyline fill=\"none\" stroke=\"black\" points=\"410.5,-581.5 410.5,-627.5 \"/>\n",
       "<text text-anchor=\"middle\" x=\"456.5\" y=\"-612.3\" font-family=\"Times,serif\" font-size=\"14.00\">(None, 64)</text>\n",
       "<polyline fill=\"none\" stroke=\"black\" points=\"410.5,-604.5 502.5,-604.5 \"/>\n",
       "<text text-anchor=\"middle\" x=\"456.5\" y=\"-589.3\" font-family=\"Times,serif\" font-size=\"14.00\">(None, 64)</text>\n",
       "</g>\n",
       "<!-- 140248298130016&#45;&gt;140248298110688 -->\n",
       "<g id=\"edge23\" class=\"edge\">\n",
       "<title>140248298130016-&gt;140248298110688</title>\n",
       "<path fill=\"none\" stroke=\"black\" d=\"M253.5,-664.37C253.5,-656.15 253.5,-646.66 253.5,-637.73\"/>\n",
       "<polygon fill=\"black\" stroke=\"black\" points=\"257,-637.61 253.5,-627.61 250,-637.61 257,-637.61\"/>\n",
       "</g>\n",
       "<!-- 140248298183024 -->\n",
       "<g id=\"node25\" class=\"node\">\n",
       "<title>140248298183024</title>\n",
       "<polygon fill=\"none\" stroke=\"black\" points=\"68,-498.5 68,-544.5 439,-544.5 439,-498.5 68,-498.5\"/>\n",
       "<text text-anchor=\"middle\" x=\"173.5\" y=\"-517.8\" font-family=\"Times,serif\" font-size=\"14.00\">leaky_re_lu_22: LeakyReLU</text>\n",
       "<polyline fill=\"none\" stroke=\"black\" points=\"279,-498.5 279,-544.5 \"/>\n",
       "<text text-anchor=\"middle\" x=\"313\" y=\"-529.3\" font-family=\"Times,serif\" font-size=\"14.00\">input:</text>\n",
       "<polyline fill=\"none\" stroke=\"black\" points=\"279,-521.5 347,-521.5 \"/>\n",
       "<text text-anchor=\"middle\" x=\"313\" y=\"-506.3\" font-family=\"Times,serif\" font-size=\"14.00\">output:</text>\n",
       "<polyline fill=\"none\" stroke=\"black\" points=\"347,-498.5 347,-544.5 \"/>\n",
       "<text text-anchor=\"middle\" x=\"393\" y=\"-529.3\" font-family=\"Times,serif\" font-size=\"14.00\">(None, 64)</text>\n",
       "<polyline fill=\"none\" stroke=\"black\" points=\"347,-521.5 439,-521.5 \"/>\n",
       "<text text-anchor=\"middle\" x=\"393\" y=\"-506.3\" font-family=\"Times,serif\" font-size=\"14.00\">(None, 64)</text>\n",
       "</g>\n",
       "<!-- 140248298110688&#45;&gt;140248298183024 -->\n",
       "<g id=\"edge24\" class=\"edge\">\n",
       "<title>140248298110688-&gt;140248298183024</title>\n",
       "<path fill=\"none\" stroke=\"black\" d=\"M253.5,-581.37C253.5,-573.15 253.5,-563.66 253.5,-554.73\"/>\n",
       "<polygon fill=\"black\" stroke=\"black\" points=\"257,-554.61 253.5,-544.61 250,-554.61 257,-554.61\"/>\n",
       "</g>\n",
       "<!-- 140248298181536 -->\n",
       "<g id=\"node26\" class=\"node\">\n",
       "<title>140248298181536</title>\n",
       "<polygon fill=\"none\" stroke=\"black\" points=\"91,-415.5 91,-461.5 416,-461.5 416,-415.5 91,-415.5\"/>\n",
       "<text text-anchor=\"middle\" x=\"173.5\" y=\"-434.8\" font-family=\"Times,serif\" font-size=\"14.00\">dropout_22: Dropout</text>\n",
       "<polyline fill=\"none\" stroke=\"black\" points=\"256,-415.5 256,-461.5 \"/>\n",
       "<text text-anchor=\"middle\" x=\"290\" y=\"-446.3\" font-family=\"Times,serif\" font-size=\"14.00\">input:</text>\n",
       "<polyline fill=\"none\" stroke=\"black\" points=\"256,-438.5 324,-438.5 \"/>\n",
       "<text text-anchor=\"middle\" x=\"290\" y=\"-423.3\" font-family=\"Times,serif\" font-size=\"14.00\">output:</text>\n",
       "<polyline fill=\"none\" stroke=\"black\" points=\"324,-415.5 324,-461.5 \"/>\n",
       "<text text-anchor=\"middle\" x=\"370\" y=\"-446.3\" font-family=\"Times,serif\" font-size=\"14.00\">(None, 64)</text>\n",
       "<polyline fill=\"none\" stroke=\"black\" points=\"324,-438.5 416,-438.5 \"/>\n",
       "<text text-anchor=\"middle\" x=\"370\" y=\"-423.3\" font-family=\"Times,serif\" font-size=\"14.00\">(None, 64)</text>\n",
       "</g>\n",
       "<!-- 140248298183024&#45;&gt;140248298181536 -->\n",
       "<g id=\"edge25\" class=\"edge\">\n",
       "<title>140248298183024-&gt;140248298181536</title>\n",
       "<path fill=\"none\" stroke=\"black\" d=\"M253.5,-498.37C253.5,-490.15 253.5,-480.66 253.5,-471.73\"/>\n",
       "<polygon fill=\"black\" stroke=\"black\" points=\"257,-471.61 253.5,-461.61 250,-471.61 257,-471.61\"/>\n",
       "</g>\n",
       "<!-- 140248298184656 -->\n",
       "<g id=\"node27\" class=\"node\">\n",
       "<title>140248298184656</title>\n",
       "<polygon fill=\"none\" stroke=\"black\" points=\"100.5,-332.5 100.5,-378.5 406.5,-378.5 406.5,-332.5 100.5,-332.5\"/>\n",
       "<text text-anchor=\"middle\" x=\"169\" y=\"-351.8\" font-family=\"Times,serif\" font-size=\"14.00\">dense_28: Dense</text>\n",
       "<polyline fill=\"none\" stroke=\"black\" points=\"237.5,-332.5 237.5,-378.5 \"/>\n",
       "<text text-anchor=\"middle\" x=\"271.5\" y=\"-363.3\" font-family=\"Times,serif\" font-size=\"14.00\">input:</text>\n",
       "<polyline fill=\"none\" stroke=\"black\" points=\"237.5,-355.5 305.5,-355.5 \"/>\n",
       "<text text-anchor=\"middle\" x=\"271.5\" y=\"-340.3\" font-family=\"Times,serif\" font-size=\"14.00\">output:</text>\n",
       "<polyline fill=\"none\" stroke=\"black\" points=\"305.5,-332.5 305.5,-378.5 \"/>\n",
       "<text text-anchor=\"middle\" x=\"356\" y=\"-363.3\" font-family=\"Times,serif\" font-size=\"14.00\">(None, 64)</text>\n",
       "<polyline fill=\"none\" stroke=\"black\" points=\"305.5,-355.5 406.5,-355.5 \"/>\n",
       "<text text-anchor=\"middle\" x=\"356\" y=\"-340.3\" font-family=\"Times,serif\" font-size=\"14.00\">(None, 128)</text>\n",
       "</g>\n",
       "<!-- 140248298181536&#45;&gt;140248298184656 -->\n",
       "<g id=\"edge26\" class=\"edge\">\n",
       "<title>140248298181536-&gt;140248298184656</title>\n",
       "<path fill=\"none\" stroke=\"black\" d=\"M253.5,-415.37C253.5,-407.15 253.5,-397.66 253.5,-388.73\"/>\n",
       "<polygon fill=\"black\" stroke=\"black\" points=\"257,-388.61 253.5,-378.61 250,-388.61 257,-388.61\"/>\n",
       "</g>\n",
       "<!-- 140248298151888 -->\n",
       "<g id=\"node28\" class=\"node\">\n",
       "<title>140248298151888</title>\n",
       "<polygon fill=\"none\" stroke=\"black\" points=\"0,-249.5 0,-295.5 507,-295.5 507,-249.5 0,-249.5\"/>\n",
       "<text text-anchor=\"middle\" x=\"169\" y=\"-268.8\" font-family=\"Times,serif\" font-size=\"14.00\">batch_normalization_23: BatchNormalization</text>\n",
       "<polyline fill=\"none\" stroke=\"black\" points=\"338,-249.5 338,-295.5 \"/>\n",
       "<text text-anchor=\"middle\" x=\"372\" y=\"-280.3\" font-family=\"Times,serif\" font-size=\"14.00\">input:</text>\n",
       "<polyline fill=\"none\" stroke=\"black\" points=\"338,-272.5 406,-272.5 \"/>\n",
       "<text text-anchor=\"middle\" x=\"372\" y=\"-257.3\" font-family=\"Times,serif\" font-size=\"14.00\">output:</text>\n",
       "<polyline fill=\"none\" stroke=\"black\" points=\"406,-249.5 406,-295.5 \"/>\n",
       "<text text-anchor=\"middle\" x=\"456.5\" y=\"-280.3\" font-family=\"Times,serif\" font-size=\"14.00\">(None, 128)</text>\n",
       "<polyline fill=\"none\" stroke=\"black\" points=\"406,-272.5 507,-272.5 \"/>\n",
       "<text text-anchor=\"middle\" x=\"456.5\" y=\"-257.3\" font-family=\"Times,serif\" font-size=\"14.00\">(None, 128)</text>\n",
       "</g>\n",
       "<!-- 140248298184656&#45;&gt;140248298151888 -->\n",
       "<g id=\"edge27\" class=\"edge\">\n",
       "<title>140248298184656-&gt;140248298151888</title>\n",
       "<path fill=\"none\" stroke=\"black\" d=\"M253.5,-332.37C253.5,-324.15 253.5,-314.66 253.5,-305.73\"/>\n",
       "<polygon fill=\"black\" stroke=\"black\" points=\"257,-305.61 253.5,-295.61 250,-305.61 257,-305.61\"/>\n",
       "</g>\n",
       "<!-- 140248297722352 -->\n",
       "<g id=\"node29\" class=\"node\">\n",
       "<title>140248297722352</title>\n",
       "<polygon fill=\"none\" stroke=\"black\" points=\"63.5,-166.5 63.5,-212.5 443.5,-212.5 443.5,-166.5 63.5,-166.5\"/>\n",
       "<text text-anchor=\"middle\" x=\"169\" y=\"-185.8\" font-family=\"Times,serif\" font-size=\"14.00\">leaky_re_lu_23: LeakyReLU</text>\n",
       "<polyline fill=\"none\" stroke=\"black\" points=\"274.5,-166.5 274.5,-212.5 \"/>\n",
       "<text text-anchor=\"middle\" x=\"308.5\" y=\"-197.3\" font-family=\"Times,serif\" font-size=\"14.00\">input:</text>\n",
       "<polyline fill=\"none\" stroke=\"black\" points=\"274.5,-189.5 342.5,-189.5 \"/>\n",
       "<text text-anchor=\"middle\" x=\"308.5\" y=\"-174.3\" font-family=\"Times,serif\" font-size=\"14.00\">output:</text>\n",
       "<polyline fill=\"none\" stroke=\"black\" points=\"342.5,-166.5 342.5,-212.5 \"/>\n",
       "<text text-anchor=\"middle\" x=\"393\" y=\"-197.3\" font-family=\"Times,serif\" font-size=\"14.00\">(None, 128)</text>\n",
       "<polyline fill=\"none\" stroke=\"black\" points=\"342.5,-189.5 443.5,-189.5 \"/>\n",
       "<text text-anchor=\"middle\" x=\"393\" y=\"-174.3\" font-family=\"Times,serif\" font-size=\"14.00\">(None, 128)</text>\n",
       "</g>\n",
       "<!-- 140248298151888&#45;&gt;140248297722352 -->\n",
       "<g id=\"edge28\" class=\"edge\">\n",
       "<title>140248298151888-&gt;140248297722352</title>\n",
       "<path fill=\"none\" stroke=\"black\" d=\"M253.5,-249.37C253.5,-241.15 253.5,-231.66 253.5,-222.73\"/>\n",
       "<polygon fill=\"black\" stroke=\"black\" points=\"257,-222.61 253.5,-212.61 250,-222.61 257,-222.61\"/>\n",
       "</g>\n",
       "<!-- 140248297722832 -->\n",
       "<g id=\"node30\" class=\"node\">\n",
       "<title>140248297722832</title>\n",
       "<polygon fill=\"none\" stroke=\"black\" points=\"86.5,-83.5 86.5,-129.5 420.5,-129.5 420.5,-83.5 86.5,-83.5\"/>\n",
       "<text text-anchor=\"middle\" x=\"169\" y=\"-102.8\" font-family=\"Times,serif\" font-size=\"14.00\">dropout_23: Dropout</text>\n",
       "<polyline fill=\"none\" stroke=\"black\" points=\"251.5,-83.5 251.5,-129.5 \"/>\n",
       "<text text-anchor=\"middle\" x=\"285.5\" y=\"-114.3\" font-family=\"Times,serif\" font-size=\"14.00\">input:</text>\n",
       "<polyline fill=\"none\" stroke=\"black\" points=\"251.5,-106.5 319.5,-106.5 \"/>\n",
       "<text text-anchor=\"middle\" x=\"285.5\" y=\"-91.3\" font-family=\"Times,serif\" font-size=\"14.00\">output:</text>\n",
       "<polyline fill=\"none\" stroke=\"black\" points=\"319.5,-83.5 319.5,-129.5 \"/>\n",
       "<text text-anchor=\"middle\" x=\"370\" y=\"-114.3\" font-family=\"Times,serif\" font-size=\"14.00\">(None, 128)</text>\n",
       "<polyline fill=\"none\" stroke=\"black\" points=\"319.5,-106.5 420.5,-106.5 \"/>\n",
       "<text text-anchor=\"middle\" x=\"370\" y=\"-91.3\" font-family=\"Times,serif\" font-size=\"14.00\">(None, 128)</text>\n",
       "</g>\n",
       "<!-- 140248297722352&#45;&gt;140248297722832 -->\n",
       "<g id=\"edge29\" class=\"edge\">\n",
       "<title>140248297722352-&gt;140248297722832</title>\n",
       "<path fill=\"none\" stroke=\"black\" d=\"M253.5,-166.37C253.5,-158.15 253.5,-148.66 253.5,-139.73\"/>\n",
       "<polygon fill=\"black\" stroke=\"black\" points=\"257,-139.61 253.5,-129.61 250,-139.61 257,-139.61\"/>\n",
       "</g>\n",
       "<!-- 140248297723408 -->\n",
       "<g id=\"node31\" class=\"node\">\n",
       "<title>140248297723408</title>\n",
       "<polygon fill=\"none\" stroke=\"black\" points=\"100.5,-0.5 100.5,-46.5 406.5,-46.5 406.5,-0.5 100.5,-0.5\"/>\n",
       "<text text-anchor=\"middle\" x=\"169\" y=\"-19.8\" font-family=\"Times,serif\" font-size=\"14.00\">dense_29: Dense</text>\n",
       "<polyline fill=\"none\" stroke=\"black\" points=\"237.5,-0.5 237.5,-46.5 \"/>\n",
       "<text text-anchor=\"middle\" x=\"271.5\" y=\"-31.3\" font-family=\"Times,serif\" font-size=\"14.00\">input:</text>\n",
       "<polyline fill=\"none\" stroke=\"black\" points=\"237.5,-23.5 305.5,-23.5 \"/>\n",
       "<text text-anchor=\"middle\" x=\"271.5\" y=\"-8.3\" font-family=\"Times,serif\" font-size=\"14.00\">output:</text>\n",
       "<polyline fill=\"none\" stroke=\"black\" points=\"305.5,-0.5 305.5,-46.5 \"/>\n",
       "<text text-anchor=\"middle\" x=\"356\" y=\"-31.3\" font-family=\"Times,serif\" font-size=\"14.00\">(None, 128)</text>\n",
       "<polyline fill=\"none\" stroke=\"black\" points=\"305.5,-23.5 406.5,-23.5 \"/>\n",
       "<text text-anchor=\"middle\" x=\"356\" y=\"-8.3\" font-family=\"Times,serif\" font-size=\"14.00\">(None, 15)</text>\n",
       "</g>\n",
       "<!-- 140248297722832&#45;&gt;140248297723408 -->\n",
       "<g id=\"edge30\" class=\"edge\">\n",
       "<title>140248297722832-&gt;140248297723408</title>\n",
       "<path fill=\"none\" stroke=\"black\" d=\"M253.5,-83.37C253.5,-75.15 253.5,-65.66 253.5,-56.73\"/>\n",
       "<polygon fill=\"black\" stroke=\"black\" points=\"257,-56.61 253.5,-46.61 250,-56.61 257,-56.61\"/>\n",
       "</g>\n",
       "</g>\n",
       "</svg>"
      ],
      "text/plain": [
       "<IPython.core.display.SVG object>"
      ]
     },
     "execution_count": 22,
     "metadata": {},
     "output_type": "execute_result"
    }
   ],
   "source": [
    "from keras.utils.vis_utils import model_to_dot\n",
    "from IPython.display import SVG\n",
    "\n",
    "SVG(model_to_dot(autoencoder_, show_shapes=True, show_layer_names=True, rankdir='TB').create(prog='dot', format='svg'))"
   ]
  },
  {
   "cell_type": "code",
   "execution_count": 23,
   "id": "1b7e9602",
   "metadata": {},
   "outputs": [
    {
     "name": "stdout",
     "output_type": "stream",
     "text": [
      "Model: \"autoencoder_model\"\n",
      "_________________________________________________________________\n",
      "Layer (type)                 Output Shape              Param #   \n",
      "=================================================================\n",
      "input_3 (InputLayer)         [(None, 15)]              0         \n",
      "_________________________________________________________________\n",
      "dense_20 (Dense)             (None, 128)               2048      \n",
      "_________________________________________________________________\n",
      "batch_normalization_16 (Batc (None, 128)               512       \n",
      "_________________________________________________________________\n",
      "leaky_re_lu_16 (LeakyReLU)   (None, 128)               0         \n",
      "_________________________________________________________________\n",
      "dropout_16 (Dropout)         (None, 128)               0         \n",
      "_________________________________________________________________\n",
      "dense_21 (Dense)             (None, 64)                8256      \n",
      "_________________________________________________________________\n",
      "batch_normalization_17 (Batc (None, 64)                256       \n",
      "_________________________________________________________________\n",
      "leaky_re_lu_17 (LeakyReLU)   (None, 64)                0         \n",
      "_________________________________________________________________\n",
      "dropout_17 (Dropout)         (None, 64)                0         \n",
      "_________________________________________________________________\n",
      "dense_22 (Dense)             (None, 32)                2080      \n",
      "_________________________________________________________________\n",
      "batch_normalization_18 (Batc (None, 32)                128       \n",
      "_________________________________________________________________\n",
      "leaky_re_lu_18 (LeakyReLU)   (None, 32)                0         \n",
      "_________________________________________________________________\n",
      "dropout_18 (Dropout)         (None, 32)                0         \n",
      "_________________________________________________________________\n",
      "dense_23 (Dense)             (None, 16)                528       \n",
      "_________________________________________________________________\n",
      "batch_normalization_19 (Batc (None, 16)                64        \n",
      "_________________________________________________________________\n",
      "leaky_re_lu_19 (LeakyReLU)   (None, 16)                0         \n",
      "_________________________________________________________________\n",
      "dropout_19 (Dropout)         (None, 16)                0         \n",
      "_________________________________________________________________\n",
      "dense_24 (Dense)             (None, 8)                 136       \n",
      "_________________________________________________________________\n",
      "dense_26 (Dense)             (None, 32)                288       \n",
      "_________________________________________________________________\n",
      "batch_normalization_21 (Batc (None, 32)                128       \n",
      "_________________________________________________________________\n",
      "leaky_re_lu_21 (LeakyReLU)   (None, 32)                0         \n",
      "_________________________________________________________________\n",
      "dropout_21 (Dropout)         (None, 32)                0         \n",
      "_________________________________________________________________\n",
      "dense_27 (Dense)             (None, 64)                2112      \n",
      "_________________________________________________________________\n",
      "batch_normalization_22 (Batc (None, 64)                256       \n",
      "_________________________________________________________________\n",
      "leaky_re_lu_22 (LeakyReLU)   (None, 64)                0         \n",
      "_________________________________________________________________\n",
      "dropout_22 (Dropout)         (None, 64)                0         \n",
      "_________________________________________________________________\n",
      "dense_28 (Dense)             (None, 128)               8320      \n",
      "_________________________________________________________________\n",
      "batch_normalization_23 (Batc (None, 128)               512       \n",
      "_________________________________________________________________\n",
      "leaky_re_lu_23 (LeakyReLU)   (None, 128)               0         \n",
      "_________________________________________________________________\n",
      "dropout_23 (Dropout)         (None, 128)               0         \n",
      "_________________________________________________________________\n",
      "dense_29 (Dense)             (None, 15)                1935      \n",
      "=================================================================\n",
      "Total params: 27,559\n",
      "Trainable params: 26,631\n",
      "Non-trainable params: 928\n",
      "_________________________________________________________________\n"
     ]
    }
   ],
   "source": [
    "autoencoder_._name = 'autoencoder_model'\n",
    "autoencoder_.summary()"
   ]
  },
  {
   "cell_type": "markdown",
   "id": "83886c06",
   "metadata": {},
   "source": [
    "### Evaluation"
   ]
  },
  {
   "cell_type": "code",
   "execution_count": 24,
   "id": "1749b7a4",
   "metadata": {},
   "outputs": [
    {
     "name": "stdout",
     "output_type": "stream",
     "text": [
      "Final loss in test data: 0.005746229086071253\n",
      "Final accuracy in test data: 0.8531857132911682\n"
     ]
    },
    {
     "name": "stderr",
     "output_type": "stream",
     "text": [
      "[codecarbon INFO @ 11:33:55] Energy consumed for RAM : 0.002890 kWh. RAM Power : 11.759872913360596 W\n",
      "[codecarbon INFO @ 11:33:55] Energy consumed for all CPUs : 0.010447 kWh. All CPUs Power : 42.5 W\n",
      "[codecarbon INFO @ 11:33:55] 0.013337 kWh of electricity used since the begining.\n",
      "[codecarbon INFO @ 11:34:10] Energy consumed for RAM : 0.002939 kWh. RAM Power : 11.759872913360596 W\n",
      "[codecarbon INFO @ 11:34:10] Energy consumed for all CPUs : 0.010624 kWh. All CPUs Power : 42.5 W\n",
      "[codecarbon INFO @ 11:34:10] 0.013563 kWh of electricity used since the begining.\n",
      "[codecarbon INFO @ 11:34:25] Energy consumed for RAM : 0.002988 kWh. RAM Power : 11.759872913360596 W\n",
      "[codecarbon INFO @ 11:34:25] Energy consumed for all CPUs : 0.010801 kWh. All CPUs Power : 42.5 W\n",
      "[codecarbon INFO @ 11:34:25] 0.013789 kWh of electricity used since the begining.\n",
      "[codecarbon INFO @ 11:34:40] Energy consumed for RAM : 0.003037 kWh. RAM Power : 11.759872913360596 W\n",
      "[codecarbon INFO @ 11:34:40] Energy consumed for all CPUs : 0.010978 kWh. All CPUs Power : 42.5 W\n",
      "[codecarbon INFO @ 11:34:40] 0.014015 kWh of electricity used since the begining.\n",
      "[codecarbon INFO @ 11:34:55] Energy consumed for RAM : 0.003086 kWh. RAM Power : 11.759872913360596 W\n",
      "[codecarbon INFO @ 11:34:55] Energy consumed for all CPUs : 0.011155 kWh. All CPUs Power : 42.5 W\n",
      "[codecarbon INFO @ 11:34:55] 0.014241 kWh of electricity used since the begining.\n",
      "[codecarbon INFO @ 11:35:10] Energy consumed for RAM : 0.003135 kWh. RAM Power : 11.759872913360596 W\n",
      "[codecarbon INFO @ 11:35:10] Energy consumed for all CPUs : 0.011332 kWh. All CPUs Power : 42.5 W\n",
      "[codecarbon INFO @ 11:35:10] 0.014467 kWh of electricity used since the begining.\n",
      "[codecarbon INFO @ 11:35:25] Energy consumed for RAM : 0.003184 kWh. RAM Power : 11.759872913360596 W\n",
      "[codecarbon INFO @ 11:35:25] Energy consumed for all CPUs : 0.011509 kWh. All CPUs Power : 42.5 W\n",
      "[codecarbon INFO @ 11:35:25] 0.014693 kWh of electricity used since the begining.\n",
      "[codecarbon INFO @ 11:35:40] Energy consumed for RAM : 0.003233 kWh. RAM Power : 11.759872913360596 W\n",
      "[codecarbon INFO @ 11:35:40] Energy consumed for all CPUs : 0.011686 kWh. All CPUs Power : 42.5 W\n",
      "[codecarbon INFO @ 11:35:40] 0.014919 kWh of electricity used since the begining.\n",
      "[codecarbon INFO @ 11:35:55] Energy consumed for RAM : 0.003282 kWh. RAM Power : 11.759872913360596 W\n",
      "[codecarbon INFO @ 11:35:55] Energy consumed for all CPUs : 0.011863 kWh. All CPUs Power : 42.5 W\n",
      "[codecarbon INFO @ 11:35:55] 0.015145 kWh of electricity used since the begining.\n",
      "[codecarbon INFO @ 11:36:10] Energy consumed for RAM : 0.003331 kWh. RAM Power : 11.759872913360596 W\n",
      "[codecarbon INFO @ 11:36:10] Energy consumed for all CPUs : 0.012040 kWh. All CPUs Power : 42.5 W\n",
      "[codecarbon INFO @ 11:36:10] 0.015371 kWh of electricity used since the begining.\n",
      "[codecarbon INFO @ 11:36:25] Energy consumed for RAM : 0.003380 kWh. RAM Power : 11.759872913360596 W\n",
      "[codecarbon INFO @ 11:36:25] Energy consumed for all CPUs : 0.012217 kWh. All CPUs Power : 42.5 W\n",
      "[codecarbon INFO @ 11:36:25] 0.015597 kWh of electricity used since the begining.\n",
      "[codecarbon INFO @ 11:36:40] Energy consumed for RAM : 0.003429 kWh. RAM Power : 11.759872913360596 W\n",
      "[codecarbon INFO @ 11:36:40] Energy consumed for all CPUs : 0.012394 kWh. All CPUs Power : 42.5 W\n",
      "[codecarbon INFO @ 11:36:40] 0.015823 kWh of electricity used since the begining.\n",
      "[codecarbon INFO @ 11:36:55] Energy consumed for RAM : 0.003478 kWh. RAM Power : 11.759872913360596 W\n",
      "[codecarbon INFO @ 11:36:55] Energy consumed for all CPUs : 0.012571 kWh. All CPUs Power : 42.5 W\n",
      "[codecarbon INFO @ 11:36:55] 0.016049 kWh of electricity used since the begining.\n",
      "[codecarbon INFO @ 11:37:10] Energy consumed for RAM : 0.003527 kWh. RAM Power : 11.759872913360596 W\n",
      "[codecarbon INFO @ 11:37:10] Energy consumed for all CPUs : 0.012748 kWh. All CPUs Power : 42.5 W\n",
      "[codecarbon INFO @ 11:37:10] 0.016275 kWh of electricity used since the begining.\n",
      "[codecarbon INFO @ 11:37:25] Energy consumed for RAM : 0.003576 kWh. RAM Power : 11.759872913360596 W\n",
      "[codecarbon INFO @ 11:37:25] Energy consumed for all CPUs : 0.012925 kWh. All CPUs Power : 42.5 W\n",
      "[codecarbon INFO @ 11:37:25] 0.016501 kWh of electricity used since the begining.\n",
      "[codecarbon INFO @ 11:37:40] Energy consumed for RAM : 0.003625 kWh. RAM Power : 11.759872913360596 W\n",
      "[codecarbon INFO @ 11:37:40] Energy consumed for all CPUs : 0.013102 kWh. All CPUs Power : 42.5 W\n",
      "[codecarbon INFO @ 11:37:40] 0.016727 kWh of electricity used since the begining.\n",
      "[codecarbon INFO @ 11:37:55] Energy consumed for RAM : 0.003674 kWh. RAM Power : 11.759872913360596 W\n",
      "[codecarbon INFO @ 11:37:55] Energy consumed for all CPUs : 0.013279 kWh. All CPUs Power : 42.5 W\n",
      "[codecarbon INFO @ 11:37:55] 0.016953 kWh of electricity used since the begining.\n",
      "[codecarbon INFO @ 11:38:10] Energy consumed for RAM : 0.003723 kWh. RAM Power : 11.759872913360596 W\n",
      "[codecarbon INFO @ 11:38:10] Energy consumed for all CPUs : 0.013457 kWh. All CPUs Power : 42.5 W\n",
      "[codecarbon INFO @ 11:38:10] 0.017179 kWh of electricity used since the begining.\n",
      "[codecarbon INFO @ 11:38:25] Energy consumed for RAM : 0.003772 kWh. RAM Power : 11.759872913360596 W\n",
      "[codecarbon INFO @ 11:38:25] Energy consumed for all CPUs : 0.013634 kWh. All CPUs Power : 42.5 W\n",
      "[codecarbon INFO @ 11:38:25] 0.017405 kWh of electricity used since the begining.\n",
      "[codecarbon INFO @ 11:38:40] Energy consumed for RAM : 0.003821 kWh. RAM Power : 11.759872913360596 W\n",
      "[codecarbon INFO @ 11:38:40] Energy consumed for all CPUs : 0.013811 kWh. All CPUs Power : 42.5 W\n",
      "[codecarbon INFO @ 11:38:40] 0.017631 kWh of electricity used since the begining.\n",
      "[codecarbon INFO @ 11:38:55] Energy consumed for RAM : 0.003870 kWh. RAM Power : 11.759872913360596 W\n",
      "[codecarbon INFO @ 11:38:55] Energy consumed for all CPUs : 0.013988 kWh. All CPUs Power : 42.5 W\n",
      "[codecarbon INFO @ 11:38:55] 0.017857 kWh of electricity used since the begining.\n",
      "[codecarbon INFO @ 11:39:10] Energy consumed for RAM : 0.003919 kWh. RAM Power : 11.759872913360596 W\n",
      "[codecarbon INFO @ 11:39:10] Energy consumed for all CPUs : 0.014165 kWh. All CPUs Power : 42.5 W\n",
      "[codecarbon INFO @ 11:39:10] 0.018083 kWh of electricity used since the begining.\n",
      "[codecarbon INFO @ 11:39:25] Energy consumed for RAM : 0.003968 kWh. RAM Power : 11.759872913360596 W\n",
      "[codecarbon INFO @ 11:39:25] Energy consumed for all CPUs : 0.014342 kWh. All CPUs Power : 42.5 W\n",
      "[codecarbon INFO @ 11:39:25] 0.018309 kWh of electricity used since the begining.\n",
      "[codecarbon INFO @ 11:39:40] Energy consumed for RAM : 0.004017 kWh. RAM Power : 11.759872913360596 W\n",
      "[codecarbon INFO @ 11:39:40] Energy consumed for all CPUs : 0.014519 kWh. All CPUs Power : 42.5 W\n",
      "[codecarbon INFO @ 11:39:40] 0.018535 kWh of electricity used since the begining.\n",
      "[codecarbon INFO @ 11:39:55] Energy consumed for RAM : 0.004066 kWh. RAM Power : 11.759872913360596 W\n",
      "[codecarbon INFO @ 11:39:55] Energy consumed for all CPUs : 0.014696 kWh. All CPUs Power : 42.5 W\n",
      "[codecarbon INFO @ 11:39:55] 0.018762 kWh of electricity used since the begining.\n",
      "[codecarbon INFO @ 11:40:10] Energy consumed for RAM : 0.004115 kWh. RAM Power : 11.759872913360596 W\n",
      "[codecarbon INFO @ 11:40:10] Energy consumed for all CPUs : 0.014873 kWh. All CPUs Power : 42.5 W\n",
      "[codecarbon INFO @ 11:40:10] 0.018988 kWh of electricity used since the begining.\n",
      "[codecarbon INFO @ 11:40:25] Energy consumed for RAM : 0.004164 kWh. RAM Power : 11.759872913360596 W\n",
      "[codecarbon INFO @ 11:40:25] Energy consumed for all CPUs : 0.015050 kWh. All CPUs Power : 42.5 W\n",
      "[codecarbon INFO @ 11:40:25] 0.019214 kWh of electricity used since the begining.\n",
      "[codecarbon INFO @ 11:40:40] Energy consumed for RAM : 0.004213 kWh. RAM Power : 11.759872913360596 W\n",
      "[codecarbon INFO @ 11:40:40] Energy consumed for all CPUs : 0.015227 kWh. All CPUs Power : 42.5 W\n",
      "[codecarbon INFO @ 11:40:40] 0.019440 kWh of electricity used since the begining.\n",
      "[codecarbon INFO @ 11:40:55] Energy consumed for RAM : 0.004262 kWh. RAM Power : 11.759872913360596 W\n",
      "[codecarbon INFO @ 11:40:55] Energy consumed for all CPUs : 0.015404 kWh. All CPUs Power : 42.5 W\n",
      "[codecarbon INFO @ 11:40:55] 0.019666 kWh of electricity used since the begining.\n"
     ]
    }
   ],
   "source": [
    "loss, accuracy = autoencoder_.evaluate(test, test, verbose=0)\n",
    "\n",
    "print(\"Final loss in test data:\", loss)\n",
    "print(\"Final accuracy in test data:\", accuracy)"
   ]
  },
  {
   "cell_type": "code",
   "execution_count": 22,
   "id": "81c463db",
   "metadata": {},
   "outputs": [
    {
     "name": "stdout",
     "output_type": "stream",
     "text": [
      "Ratio de compresión: 1.00\n"
     ]
    },
    {
     "name": "stderr",
     "output_type": "stream",
     "text": [
      "[codecarbon INFO @ 19:41:41] Energy consumed for RAM : 0.005731 kWh. RAM Power : 11.759872913360596 W\n",
      "[codecarbon INFO @ 19:41:41] Energy consumed for all CPUs : 0.020716 kWh. All CPUs Power : 42.5 W\n",
      "[codecarbon INFO @ 19:41:41] 0.026447 kWh of electricity used since the begining.\n"
     ]
    }
   ],
   "source": [
    "# Compression ratio\n",
    "\n",
    "compression_ratio = (23) / np.prod(autoencoder_.get_layer('dense_7').output_shape[1:])\n",
    "\n",
    "print(f\"Ratio de compresión: {compression_ratio:.2f}\")"
   ]
  },
  {
   "cell_type": "markdown",
   "id": "2a4e0231",
   "metadata": {},
   "source": [
    "#### Encoder"
   ]
  },
  {
   "cell_type": "code",
   "execution_count": 28,
   "id": "f0f85f99",
   "metadata": {},
   "outputs": [
    {
     "name": "stdout",
     "output_type": "stream",
     "text": [
      "Model: \"model_6\"\n",
      "_________________________________________________________________\n",
      "Layer (type)                 Output Shape              Param #   \n",
      "=================================================================\n",
      "input_3 (InputLayer)         [(None, 15)]              0         \n",
      "_________________________________________________________________\n",
      "dense_20 (Dense)             (None, 128)               2048      \n",
      "_________________________________________________________________\n",
      "batch_normalization_16 (Batc (None, 128)               512       \n",
      "_________________________________________________________________\n",
      "leaky_re_lu_16 (LeakyReLU)   (None, 128)               0         \n",
      "_________________________________________________________________\n",
      "dropout_16 (Dropout)         (None, 128)               0         \n",
      "_________________________________________________________________\n",
      "dense_21 (Dense)             (None, 64)                8256      \n",
      "_________________________________________________________________\n",
      "batch_normalization_17 (Batc (None, 64)                256       \n",
      "_________________________________________________________________\n",
      "leaky_re_lu_17 (LeakyReLU)   (None, 64)                0         \n",
      "_________________________________________________________________\n",
      "dropout_17 (Dropout)         (None, 64)                0         \n",
      "_________________________________________________________________\n",
      "dense_22 (Dense)             (None, 32)                2080      \n",
      "_________________________________________________________________\n",
      "batch_normalization_18 (Batc (None, 32)                128       \n",
      "_________________________________________________________________\n",
      "leaky_re_lu_18 (LeakyReLU)   (None, 32)                0         \n",
      "_________________________________________________________________\n",
      "dropout_18 (Dropout)         (None, 32)                0         \n",
      "_________________________________________________________________\n",
      "dense_23 (Dense)             (None, 16)                528       \n",
      "_________________________________________________________________\n",
      "batch_normalization_19 (Batc (None, 16)                64        \n",
      "_________________________________________________________________\n",
      "leaky_re_lu_19 (LeakyReLU)   (None, 16)                0         \n",
      "_________________________________________________________________\n",
      "dropout_19 (Dropout)         (None, 16)                0         \n",
      "_________________________________________________________________\n",
      "dense_24 (Dense)             (None, 8)                 136       \n",
      "=================================================================\n",
      "Total params: 14,008\n",
      "Trainable params: 13,528\n",
      "Non-trainable params: 480\n",
      "_________________________________________________________________\n"
     ]
    },
    {
     "name": "stderr",
     "output_type": "stream",
     "text": [
      "[codecarbon INFO @ 11:41:25] Energy consumed for RAM : 0.004359 kWh. RAM Power : 11.759872913360596 W\n",
      "[codecarbon INFO @ 11:41:25] Energy consumed for all CPUs : 0.015758 kWh. All CPUs Power : 42.5 W\n",
      "[codecarbon INFO @ 11:41:25] 0.020118 kWh of electricity used since the begining.\n"
     ]
    }
   ],
   "source": [
    "encoder = Model(autoencoder_.input, autoencoder_.layers[17].output)\n",
    "encoder.summary()"
   ]
  },
  {
   "cell_type": "markdown",
   "id": "d0335902",
   "metadata": {},
   "source": [
    "## Part 2: Content-Based Recommender\n",
    "\n",
    "### Preprocess data and encoding"
   ]
  },
  {
   "cell_type": "code",
   "execution_count": 29,
   "id": "e5b2087d",
   "metadata": {},
   "outputs": [
    {
     "data": {
      "text/plain": [
       "(45464, 30)"
      ]
     },
     "execution_count": 29,
     "metadata": {},
     "output_type": "execute_result"
    }
   ],
   "source": [
    "pdwm_10k = playlists_dataset_with_mood.sample(n=50000, random_state=12)\n",
    "\n",
    "mask = pdwm_10k['pid'].duplicated(keep=False)\n",
    "pdwm_10k_filtered = pdwm_10k[mask]\n",
    "\n",
    "pdwm_10k_filtered.shape"
   ]
  },
  {
   "cell_type": "code",
   "execution_count": 30,
   "id": "38875526",
   "metadata": {},
   "outputs": [],
   "source": [
    "train_r, val_test_r = train_test_split(pdwm_10k_filtered, test_size=0.3, random_state=10, stratify = pdwm_10k_filtered['pid'])"
   ]
  },
  {
   "cell_type": "code",
   "execution_count": 31,
   "id": "c68f7ecd",
   "metadata": {},
   "outputs": [
    {
     "data": {
      "text/html": [
       "<div>\n",
       "<style scoped>\n",
       "    .dataframe tbody tr th:only-of-type {\n",
       "        vertical-align: middle;\n",
       "    }\n",
       "\n",
       "    .dataframe tbody tr th {\n",
       "        vertical-align: top;\n",
       "    }\n",
       "\n",
       "    .dataframe thead th {\n",
       "        text-align: right;\n",
       "    }\n",
       "</style>\n",
       "<table border=\"1\" class=\"dataframe\">\n",
       "  <thead>\n",
       "    <tr style=\"text-align: right;\">\n",
       "      <th></th>\n",
       "      <th>pid</th>\n",
       "      <th>pos</th>\n",
       "      <th>name</th>\n",
       "      <th>description</th>\n",
       "      <th>modified_at</th>\n",
       "      <th>num_tracks</th>\n",
       "      <th>num_albums</th>\n",
       "      <th>num_followers</th>\n",
       "      <th>num_edits</th>\n",
       "      <th>artist_name</th>\n",
       "      <th>...</th>\n",
       "      <th>instrumentalness</th>\n",
       "      <th>liveness</th>\n",
       "      <th>valence</th>\n",
       "      <th>tempo</th>\n",
       "      <th>duration_ms</th>\n",
       "      <th>time_signature</th>\n",
       "      <th>album_release_date</th>\n",
       "      <th>track_popularity</th>\n",
       "      <th>track_explicit</th>\n",
       "      <th>mood</th>\n",
       "    </tr>\n",
       "  </thead>\n",
       "  <tbody>\n",
       "    <tr>\n",
       "      <th>112879</th>\n",
       "      <td>64725</td>\n",
       "      <td>96</td>\n",
       "      <td>ACL 2014</td>\n",
       "      <td>NaN</td>\n",
       "      <td>1404345600</td>\n",
       "      <td>246</td>\n",
       "      <td>114</td>\n",
       "      <td>1</td>\n",
       "      <td>14</td>\n",
       "      <td>AFI</td>\n",
       "      <td>...</td>\n",
       "      <td>0.000160</td>\n",
       "      <td>0.1240</td>\n",
       "      <td>0.672</td>\n",
       "      <td>121.836</td>\n",
       "      <td>190493</td>\n",
       "      <td>4</td>\n",
       "      <td>2003</td>\n",
       "      <td>62.0</td>\n",
       "      <td>False</td>\n",
       "      <td>Sad</td>\n",
       "    </tr>\n",
       "    <tr>\n",
       "      <th>1078162</th>\n",
       "      <td>631247</td>\n",
       "      <td>105</td>\n",
       "      <td>Forever</td>\n",
       "      <td>NaN</td>\n",
       "      <td>1509321600</td>\n",
       "      <td>133</td>\n",
       "      <td>85</td>\n",
       "      <td>2</td>\n",
       "      <td>14</td>\n",
       "      <td>J. Cole</td>\n",
       "      <td>...</td>\n",
       "      <td>0.000000</td>\n",
       "      <td>0.6890</td>\n",
       "      <td>0.482</td>\n",
       "      <td>81.004</td>\n",
       "      <td>278573</td>\n",
       "      <td>4</td>\n",
       "      <td>2013-06-14</td>\n",
       "      <td>19.0</td>\n",
       "      <td>True</td>\n",
       "      <td>Sad</td>\n",
       "    </tr>\n",
       "    <tr>\n",
       "      <th>48661</th>\n",
       "      <td>11747</td>\n",
       "      <td>139</td>\n",
       "      <td>favorite</td>\n",
       "      <td>NaN</td>\n",
       "      <td>1504742400</td>\n",
       "      <td>142</td>\n",
       "      <td>120</td>\n",
       "      <td>1</td>\n",
       "      <td>36</td>\n",
       "      <td>Kendrick Lamar</td>\n",
       "      <td>...</td>\n",
       "      <td>0.000054</td>\n",
       "      <td>0.0958</td>\n",
       "      <td>0.421</td>\n",
       "      <td>150.011</td>\n",
       "      <td>177000</td>\n",
       "      <td>4</td>\n",
       "      <td>2017-04-14</td>\n",
       "      <td>85.0</td>\n",
       "      <td>True</td>\n",
       "      <td>Energetic</td>\n",
       "    </tr>\n",
       "    <tr>\n",
       "      <th>310532</th>\n",
       "      <td>146743</td>\n",
       "      <td>12</td>\n",
       "      <td>Workout</td>\n",
       "      <td>NaN</td>\n",
       "      <td>1508198400</td>\n",
       "      <td>80</td>\n",
       "      <td>62</td>\n",
       "      <td>1</td>\n",
       "      <td>17</td>\n",
       "      <td>Chevelle</td>\n",
       "      <td>...</td>\n",
       "      <td>0.000060</td>\n",
       "      <td>0.2040</td>\n",
       "      <td>0.289</td>\n",
       "      <td>95.023</td>\n",
       "      <td>223173</td>\n",
       "      <td>3</td>\n",
       "      <td>1999-09-09</td>\n",
       "      <td>0.0</td>\n",
       "      <td>False</td>\n",
       "      <td>Sad</td>\n",
       "    </tr>\n",
       "    <tr>\n",
       "      <th>651937</th>\n",
       "      <td>308780</td>\n",
       "      <td>64</td>\n",
       "      <td>Cumbia Mix</td>\n",
       "      <td>NaN</td>\n",
       "      <td>1501027200</td>\n",
       "      <td>96</td>\n",
       "      <td>71</td>\n",
       "      <td>1</td>\n",
       "      <td>4</td>\n",
       "      <td>Los Yaguaru</td>\n",
       "      <td>...</td>\n",
       "      <td>0.000000</td>\n",
       "      <td>0.1050</td>\n",
       "      <td>0.946</td>\n",
       "      <td>171.616</td>\n",
       "      <td>224667</td>\n",
       "      <td>4</td>\n",
       "      <td>2002-01-01</td>\n",
       "      <td>0.0</td>\n",
       "      <td>False</td>\n",
       "      <td>Sad</td>\n",
       "    </tr>\n",
       "    <tr>\n",
       "      <th>...</th>\n",
       "      <td>...</td>\n",
       "      <td>...</td>\n",
       "      <td>...</td>\n",
       "      <td>...</td>\n",
       "      <td>...</td>\n",
       "      <td>...</td>\n",
       "      <td>...</td>\n",
       "      <td>...</td>\n",
       "      <td>...</td>\n",
       "      <td>...</td>\n",
       "      <td>...</td>\n",
       "      <td>...</td>\n",
       "      <td>...</td>\n",
       "      <td>...</td>\n",
       "      <td>...</td>\n",
       "      <td>...</td>\n",
       "      <td>...</td>\n",
       "      <td>...</td>\n",
       "      <td>...</td>\n",
       "      <td>...</td>\n",
       "      <td>...</td>\n",
       "    </tr>\n",
       "    <tr>\n",
       "      <th>1003982</th>\n",
       "      <td>574085</td>\n",
       "      <td>2</td>\n",
       "      <td>Stuff I like</td>\n",
       "      <td>NaN</td>\n",
       "      <td>1509235200</td>\n",
       "      <td>54</td>\n",
       "      <td>48</td>\n",
       "      <td>1</td>\n",
       "      <td>8</td>\n",
       "      <td>Shawn Mendes</td>\n",
       "      <td>...</td>\n",
       "      <td>0.000000</td>\n",
       "      <td>0.0486</td>\n",
       "      <td>0.764</td>\n",
       "      <td>149.882</td>\n",
       "      <td>206880</td>\n",
       "      <td>4</td>\n",
       "      <td>2015-04-13</td>\n",
       "      <td>0.0</td>\n",
       "      <td>False</td>\n",
       "      <td>Energetic</td>\n",
       "    </tr>\n",
       "    <tr>\n",
       "      <th>580951</th>\n",
       "      <td>282746</td>\n",
       "      <td>15</td>\n",
       "      <td>summer 17</td>\n",
       "      <td>NaN</td>\n",
       "      <td>1508112000</td>\n",
       "      <td>92</td>\n",
       "      <td>75</td>\n",
       "      <td>4</td>\n",
       "      <td>45</td>\n",
       "      <td>Lil Uzi Vert</td>\n",
       "      <td>...</td>\n",
       "      <td>0.000000</td>\n",
       "      <td>0.2080</td>\n",
       "      <td>0.398</td>\n",
       "      <td>139.952</td>\n",
       "      <td>175203</td>\n",
       "      <td>4</td>\n",
       "      <td>2016-08-10</td>\n",
       "      <td>67.0</td>\n",
       "      <td>True</td>\n",
       "      <td>Anxious</td>\n",
       "    </tr>\n",
       "    <tr>\n",
       "      <th>1218076</th>\n",
       "      <td>834411</td>\n",
       "      <td>18</td>\n",
       "      <td>oldies</td>\n",
       "      <td>NaN</td>\n",
       "      <td>1509408000</td>\n",
       "      <td>49</td>\n",
       "      <td>48</td>\n",
       "      <td>1</td>\n",
       "      <td>34</td>\n",
       "      <td>Calvin Harris</td>\n",
       "      <td>...</td>\n",
       "      <td>0.000001</td>\n",
       "      <td>0.2540</td>\n",
       "      <td>0.511</td>\n",
       "      <td>104.066</td>\n",
       "      <td>230813</td>\n",
       "      <td>4</td>\n",
       "      <td>2017-06-30</td>\n",
       "      <td>74.0</td>\n",
       "      <td>True</td>\n",
       "      <td>Sad</td>\n",
       "    </tr>\n",
       "    <tr>\n",
       "      <th>467137</th>\n",
       "      <td>198992</td>\n",
       "      <td>111</td>\n",
       "      <td>Christmas</td>\n",
       "      <td>NaN</td>\n",
       "      <td>1448323200</td>\n",
       "      <td>113</td>\n",
       "      <td>43</td>\n",
       "      <td>1</td>\n",
       "      <td>5</td>\n",
       "      <td>Dave Koz</td>\n",
       "      <td>...</td>\n",
       "      <td>0.000074</td>\n",
       "      <td>0.1100</td>\n",
       "      <td>0.737</td>\n",
       "      <td>96.973</td>\n",
       "      <td>251320</td>\n",
       "      <td>4</td>\n",
       "      <td>2014-01-01</td>\n",
       "      <td>2.0</td>\n",
       "      <td>False</td>\n",
       "      <td>Sad</td>\n",
       "    </tr>\n",
       "    <tr>\n",
       "      <th>1156057</th>\n",
       "      <td>694470</td>\n",
       "      <td>24</td>\n",
       "      <td>Invierno</td>\n",
       "      <td>NaN</td>\n",
       "      <td>1460678400</td>\n",
       "      <td>78</td>\n",
       "      <td>74</td>\n",
       "      <td>1</td>\n",
       "      <td>42</td>\n",
       "      <td>The Amazing</td>\n",
       "      <td>...</td>\n",
       "      <td>0.728000</td>\n",
       "      <td>0.0577</td>\n",
       "      <td>0.565</td>\n",
       "      <td>101.451</td>\n",
       "      <td>294560</td>\n",
       "      <td>4</td>\n",
       "      <td>2011</td>\n",
       "      <td>0.0</td>\n",
       "      <td>False</td>\n",
       "      <td>Anxious</td>\n",
       "    </tr>\n",
       "  </tbody>\n",
       "</table>\n",
       "<p>31824 rows × 30 columns</p>\n",
       "</div>"
      ],
      "text/plain": [
       "            pid  pos          name description  modified_at  num_tracks  \\\n",
       "112879    64725   96      ACL 2014         NaN   1404345600         246   \n",
       "1078162  631247  105       Forever         NaN   1509321600         133   \n",
       "48661     11747  139      favorite         NaN   1504742400         142   \n",
       "310532   146743   12       Workout         NaN   1508198400          80   \n",
       "651937   308780   64    Cumbia Mix         NaN   1501027200          96   \n",
       "...         ...  ...           ...         ...          ...         ...   \n",
       "1003982  574085    2  Stuff I like         NaN   1509235200          54   \n",
       "580951   282746   15     summer 17         NaN   1508112000          92   \n",
       "1218076  834411   18        oldies         NaN   1509408000          49   \n",
       "467137   198992  111     Christmas         NaN   1448323200         113   \n",
       "1156057  694470   24      Invierno         NaN   1460678400          78   \n",
       "\n",
       "         num_albums  num_followers  num_edits     artist_name  ...  \\\n",
       "112879          114              1         14             AFI  ...   \n",
       "1078162          85              2         14         J. Cole  ...   \n",
       "48661           120              1         36  Kendrick Lamar  ...   \n",
       "310532           62              1         17        Chevelle  ...   \n",
       "651937           71              1          4     Los Yaguaru  ...   \n",
       "...             ...            ...        ...             ...  ...   \n",
       "1003982          48              1          8    Shawn Mendes  ...   \n",
       "580951           75              4         45    Lil Uzi Vert  ...   \n",
       "1218076          48              1         34   Calvin Harris  ...   \n",
       "467137           43              1          5        Dave Koz  ...   \n",
       "1156057          74              1         42     The Amazing  ...   \n",
       "\n",
       "        instrumentalness liveness valence    tempo  duration_ms  \\\n",
       "112879          0.000160   0.1240   0.672  121.836       190493   \n",
       "1078162         0.000000   0.6890   0.482   81.004       278573   \n",
       "48661           0.000054   0.0958   0.421  150.011       177000   \n",
       "310532          0.000060   0.2040   0.289   95.023       223173   \n",
       "651937          0.000000   0.1050   0.946  171.616       224667   \n",
       "...                  ...      ...     ...      ...          ...   \n",
       "1003982         0.000000   0.0486   0.764  149.882       206880   \n",
       "580951          0.000000   0.2080   0.398  139.952       175203   \n",
       "1218076         0.000001   0.2540   0.511  104.066       230813   \n",
       "467137          0.000074   0.1100   0.737   96.973       251320   \n",
       "1156057         0.728000   0.0577   0.565  101.451       294560   \n",
       "\n",
       "         time_signature  album_release_date  track_popularity  track_explicit  \\\n",
       "112879                4                2003              62.0           False   \n",
       "1078162               4          2013-06-14              19.0            True   \n",
       "48661                 4          2017-04-14              85.0            True   \n",
       "310532                3          1999-09-09               0.0           False   \n",
       "651937                4          2002-01-01               0.0           False   \n",
       "...                 ...                 ...               ...             ...   \n",
       "1003982               4          2015-04-13               0.0           False   \n",
       "580951                4          2016-08-10              67.0            True   \n",
       "1218076               4          2017-06-30              74.0            True   \n",
       "467137                4          2014-01-01               2.0           False   \n",
       "1156057               4                2011               0.0           False   \n",
       "\n",
       "              mood  \n",
       "112879         Sad  \n",
       "1078162        Sad  \n",
       "48661    Energetic  \n",
       "310532         Sad  \n",
       "651937         Sad  \n",
       "...            ...  \n",
       "1003982  Energetic  \n",
       "580951     Anxious  \n",
       "1218076        Sad  \n",
       "467137         Sad  \n",
       "1156057    Anxious  \n",
       "\n",
       "[31824 rows x 30 columns]"
      ]
     },
     "execution_count": 31,
     "metadata": {},
     "output_type": "execute_result"
    },
    {
     "name": "stderr",
     "output_type": "stream",
     "text": [
      "[codecarbon INFO @ 11:41:40] Energy consumed for RAM : 0.004408 kWh. RAM Power : 11.759872913360596 W\n",
      "[codecarbon INFO @ 11:41:40] Energy consumed for all CPUs : 0.015935 kWh. All CPUs Power : 42.5 W\n",
      "[codecarbon INFO @ 11:41:40] 0.020344 kWh of electricity used since the begining.\n"
     ]
    }
   ],
   "source": [
    "train_r"
   ]
  },
  {
   "cell_type": "code",
   "execution_count": 32,
   "id": "dca0e14e",
   "metadata": {},
   "outputs": [
    {
     "name": "stderr",
     "output_type": "stream",
     "text": [
      "[codecarbon INFO @ 11:41:55] Energy consumed for RAM : 0.004457 kWh. RAM Power : 11.759872913360596 W\n",
      "[codecarbon INFO @ 11:41:55] Energy consumed for all CPUs : 0.016112 kWh. All CPUs Power : 42.5 W\n",
      "[codecarbon INFO @ 11:41:55] 0.020570 kWh of electricity used since the begining.\n",
      "[codecarbon INFO @ 11:42:10] Energy consumed for RAM : 0.004506 kWh. RAM Power : 11.759872913360596 W\n",
      "[codecarbon INFO @ 11:42:10] Energy consumed for all CPUs : 0.016289 kWh. All CPUs Power : 42.5 W\n",
      "[codecarbon INFO @ 11:42:10] 0.020796 kWh of electricity used since the begining.\n"
     ]
    }
   ],
   "source": [
    "train_r = train_r.reset_index(drop=True)"
   ]
  },
  {
   "cell_type": "code",
   "execution_count": 33,
   "id": "2c74242c",
   "metadata": {},
   "outputs": [
    {
     "name": "stderr",
     "output_type": "stream",
     "text": [
      "[codecarbon INFO @ 11:42:25] Energy consumed for RAM : 0.004555 kWh. RAM Power : 11.759872913360596 W\n",
      "[codecarbon INFO @ 11:42:25] Energy consumed for all CPUs : 0.016466 kWh. All CPUs Power : 42.5 W\n",
      "[codecarbon INFO @ 11:42:25] 0.021022 kWh of electricity used since the begining.\n",
      "[codecarbon INFO @ 11:42:40] Energy consumed for RAM : 0.004604 kWh. RAM Power : 11.759872913360596 W\n",
      "[codecarbon INFO @ 11:42:40] Energy consumed for all CPUs : 0.016644 kWh. All CPUs Power : 42.5 W\n",
      "[codecarbon INFO @ 11:42:40] 0.021248 kWh of electricity used since the begining.\n"
     ]
    }
   ],
   "source": [
    "pdwm_10k_filteredT = train_r.copy()\n",
    "\n",
    "mean_popularity = df_songs_clean['track_popularity'].mean()\n",
    "pdwm_10k_filteredT.loc[:, 'track_popularity'] = pdwm_10k_filteredT['track_popularity'].fillna(mean_popularity)\n",
    "\n",
    "pdwm_10k_filteredT.loc[:, 'track_explicit'] = pdwm_10k_filteredT['track_explicit'].fillna(False)\n",
    "\n",
    "pdwm_10k_filteredT.loc[:, 'track_explicit'] = pdwm_10k_filteredT['track_explicit'].astype(int)\n",
    "\n",
    "pdwm_10k_filteredT = pdwm_10k_filteredT.reset_index(drop=True)"
   ]
  },
  {
   "cell_type": "code",
   "execution_count": 34,
   "id": "b8554335",
   "metadata": {},
   "outputs": [],
   "source": [
    "df_unique_songs = pdwm_10k_filteredT.drop_duplicates(['track_uri'])\n",
    "\n",
    "df_tracks = pdwm_10k_filteredT['track_uri']\n",
    "df_track_names = pdwm_10k_filteredT['track_name']\n",
    "\n",
    "train_clean_r = pdwm_10k_filteredT.drop(columns=[\n",
    "    'pid', 'pos', 'name', 'description', 'modified_at', 'num_tracks','num_albums','num_followers',\n",
    "    'num_edits', 'artist_name', 'track_name','album_name', 'track_uri','album_release_date', 'mood'])"
   ]
  },
  {
   "cell_type": "code",
   "execution_count": 35,
   "id": "677d5703",
   "metadata": {},
   "outputs": [],
   "source": [
    "t_scaler = MinMaxScaler()\n",
    "t_scaler.fit(train_clean_r)\n",
    "t_songs_scaled = t_scaler.transform(train_clean_r)"
   ]
  },
  {
   "cell_type": "code",
   "execution_count": 36,
   "id": "f7de0b19",
   "metadata": {},
   "outputs": [
    {
     "name": "stdout",
     "output_type": "stream",
     "text": [
      "(13640, 30)\n",
      "(31824, 30)\n",
      "(31824, 15)\n"
     ]
    },
    {
     "name": "stderr",
     "output_type": "stream",
     "text": [
      "[codecarbon INFO @ 11:42:55] Energy consumed for RAM : 0.004653 kWh. RAM Power : 11.759872913360596 W\n",
      "[codecarbon INFO @ 11:42:55] Energy consumed for all CPUs : 0.016821 kWh. All CPUs Power : 42.5 W\n",
      "[codecarbon INFO @ 11:42:55] 0.021474 kWh of electricity used since the begining.\n"
     ]
    }
   ],
   "source": [
    "print(val_test_r.shape)\n",
    "print(train_r.shape)\n",
    "print(t_songs_scaled.shape)"
   ]
  },
  {
   "cell_type": "markdown",
   "id": "e98a7395",
   "metadata": {},
   "source": [
    "After encoding the data with the encoder, we are left with a lower-dimensional representation of the original data, which still contains the most important features of the songs. "
   ]
  },
  {
   "cell_type": "code",
   "execution_count": 37,
   "id": "699f93fa",
   "metadata": {},
   "outputs": [],
   "source": [
    "# Encode\n",
    "encoded_data = encoder.predict(t_songs_scaled)"
   ]
  },
  {
   "cell_type": "code",
   "execution_count": 38,
   "id": "f6e63af0",
   "metadata": {},
   "outputs": [
    {
     "data": {
      "text/plain": [
       "(31824, 8)"
      ]
     },
     "execution_count": 38,
     "metadata": {},
     "output_type": "execute_result"
    },
    {
     "name": "stderr",
     "output_type": "stream",
     "text": [
      "[codecarbon INFO @ 11:43:10] Energy consumed for RAM : 0.004702 kWh. RAM Power : 11.759872913360596 W\n",
      "[codecarbon INFO @ 11:43:10] Energy consumed for all CPUs : 0.016998 kWh. All CPUs Power : 42.5 W\n",
      "[codecarbon INFO @ 11:43:10] 0.021700 kWh of electricity used since the begining.\n"
     ]
    }
   ],
   "source": [
    "encoded_data.shape"
   ]
  },
  {
   "cell_type": "markdown",
   "id": "2c992737",
   "metadata": {},
   "source": [
    "### Cosine Similarity Matrix"
   ]
  },
  {
   "cell_type": "code",
   "execution_count": 39,
   "id": "fcfd2511",
   "metadata": {},
   "outputs": [],
   "source": [
    "train_scaled_cos_matrix = cosine_similarity(encoded_data)"
   ]
  },
  {
   "cell_type": "code",
   "execution_count": 40,
   "id": "74c5a6ad",
   "metadata": {},
   "outputs": [
    {
     "data": {
      "text/plain": [
       "(31824, 31824)"
      ]
     },
     "execution_count": 40,
     "metadata": {},
     "output_type": "execute_result"
    }
   ],
   "source": [
    "train_scaled_cos_matrix.shape"
   ]
  },
  {
   "cell_type": "code",
   "execution_count": null,
   "id": "37093e4d",
   "metadata": {},
   "outputs": [],
   "source": []
  },
  {
   "cell_type": "code",
   "execution_count": 41,
   "id": "20203e02",
   "metadata": {},
   "outputs": [],
   "source": [
    "def cos_similar_songs_playlist(cos_matrix, target_playlist_id, cand_list_size):\n",
    "    \"\"\"\n",
    "    Generates a list of cosine-similar songs for a given target playlist.\n",
    "\n",
    "    Parameters:\n",
    "        cos_matrix (ndarray): The cosine similarity matrix.\n",
    "        target_playlist_id (int): The ID of the target playlist.\n",
    "        cand_list_size (int): The desired size of the candidate song list.\n",
    "\n",
    "    Returns:\n",
    "        list: A list of cosine-similar songs.\n",
    "\n",
    "    \"\"\"\n",
    "    target_track_inx = np.where(train_r[\"pid\"] == target_playlist_id)[0] # index of tracks in training playlist of target playlist\n",
    "    candidate_cos_matrix = cos_matrix\n",
    "\n",
    "    ## For each song in the playlist, find k similar songs\n",
    "    cand_list = []\n",
    "    # cand_list_size = k*15\n",
    "    k = np.floor(cand_list_size/len(target_track_inx)) # round(cand_list_size/len(target_track_inx))\n",
    "    k_rest = cand_list_size - k*len(target_track_inx)\n",
    "    # e.g., for a candidate list size of 30, get 3 songs for each track first\n",
    "    for inx, i in enumerate(target_track_inx):\n",
    "        candidate_song_rec = candidate_cos_matrix[i, ] #ith row of matrix\n",
    "        candidate_song_rec_inx = np.argsort(candidate_song_rec)\n",
    "        unique_candidate_song_sorted = train_r['track_uri'][candidate_song_rec_inx][::-1].drop_duplicates()\n",
    "        tracks_in_target_playlist = train_r.loc[train_r[\"pid\"] == target_playlist_id, \"track_uri\"]\n",
    "        song_to_recommend = np.array(unique_candidate_song_sorted.loc[~unique_candidate_song_sorted.isin(tracks_in_target_playlist)])\n",
    "\n",
    "        if (k_rest != 0 & inx <= k_rest): # 30-24 = 6; for the first 6 tracks recommend k + 1 songs\n",
    "            k_song_to_recommend = song_to_recommend[:int(k+1)]\n",
    "        else:\n",
    "            k_song_to_recommend = song_to_recommend[:int(k)]\n",
    "            \n",
    "        if inx == 0:\n",
    "            cand_list = k_song_to_recommend\n",
    "        else:\n",
    "            cand_list = np.append(cand_list, k_song_to_recommend)\n",
    "    return list(cand_list) # turn np array into list"
   ]
  },
  {
   "cell_type": "markdown",
   "id": "983dd3be",
   "metadata": {},
   "source": [
    "##  Model Performance Metrics"
   ]
  },
  {
   "cell_type": "code",
   "execution_count": 42,
   "id": "51d44dfc",
   "metadata": {},
   "outputs": [],
   "source": [
    "def nholdout(playlist_id, df):\n",
    "    \"\"\"\n",
    "    Returns the number of songs held out in the validation/test set for a given playlist ID.\n",
    "\n",
    "    Parameters:\n",
    "        playlist_id (int): The ID of the playlist.\n",
    "        df (pandas.DataFrame): The DataFrame containing the playlist data.\n",
    "\n",
    "    Returns:\n",
    "        int: The number of songs held out in the validation/test set.\n",
    "\n",
    "    \"\"\"\n",
    "    return len(df[df.pid == playlist_id].track_uri)"
   ]
  },
  {
   "cell_type": "code",
   "execution_count": 43,
   "id": "aa6ff888",
   "metadata": {},
   "outputs": [],
   "source": [
    "def r_precision(predictions, val_set):\n",
    "    \"\"\"\n",
    "    Computes the R-Precision score for a given playlist prediction set.\n",
    "\n",
    "    Parameters:\n",
    "        predictions (list or numpy.ndarray): A list or 1-D numpy array containing the predicted track URIs.\n",
    "        val_set (pandas.Series): A pandas Series representing the ground truth track URIs for the validation set.\n",
    "\n",
    "    Returns:\n",
    "        float: The R-Precision score.\n",
    "\n",
    "    \"\"\"\n",
    "    if val_set.shape[0] > 0:\n",
    "        score = np.sum(val_set.isin(predictions))/val_set.shape[0]\n",
    "    else:\n",
    "        score = 0.0\n",
    "    return score"
   ]
  },
  {
   "cell_type": "code",
   "execution_count": 44,
   "id": "2b7b091f",
   "metadata": {},
   "outputs": [],
   "source": [
    "def dcg_at_k(r, k, method=0):\n",
    "    \"\"\"\n",
    "    Computes the Discounted Cumulative Gain (DCG) at a specified rank `k` given a list of relevance scores.\n",
    "\n",
    "    Parameters:\n",
    "        r (list or numpy.ndarray): A list or 1-D numpy array containing the relevance scores.\n",
    "        k (int): The rank at which to compute the DCG.\n",
    "        method (int, optional): The formula to use for computing the DCG. 0 for the default formula, 1 for the alternative formula. Default is 0.\n",
    "\n",
    "    Returns:\n",
    "        float: The DCG at rank `k`.\n",
    "\n",
    "    Raises:\n",
    "        ValueError: If `method` is not 0 or 1.\n",
    "\n",
    "    \"\"\"\n",
    "    r = np.asfarray(r)[:k]\n",
    "    if r.size:\n",
    "        if method == 0:\n",
    "            return r[0] + np.sum(r[1:] / np.log2(np.arange(2, r.size + 1)))\n",
    "        elif method == 1:\n",
    "            return np.sum(r / np.log2(np.arange(2, r.size + 2)))\n",
    "        else:\n",
    "            raise ValueError('method must be 0 or 1.')\n",
    "    return 0.\n",
    "\n",
    "\n",
    "def ndcg_at_k(r, k, method=0):\n",
    "    \"\"\"\n",
    "    Computes the Normalized Discounted Cumulative Gain (NDCG) at a specified rank `k` given a list of relevance scores.\n",
    "\n",
    "    Parameters:\n",
    "        r (list or numpy.ndarray): A list or 1-D numpy array containing the relevance scores.\n",
    "        k (int): The rank at which to compute the NDCG.\n",
    "        method (int, optional): The formula to use for computing the NDCG. 0 for the default formula, 1 for the alternative formula. Default is 0.\n",
    "\n",
    "    Returns:\n",
    "        float: The NDCG at rank `k`.\n",
    "\n",
    "    \"\"\"\n",
    "    dcg_max = dcg_at_k(sorted(r, reverse=True), k, method)\n",
    "    if not dcg_max:\n",
    "        return 0.\n",
    "    return dcg_at_k(r, k, method) / dcg_max"
   ]
  },
  {
   "cell_type": "code",
   "execution_count": null,
   "id": "96841e0c",
   "metadata": {},
   "outputs": [],
   "source": []
  },
  {
   "cell_type": "code",
   "execution_count": 45,
   "id": "c5268090",
   "metadata": {},
   "outputs": [],
   "source": [
    "unique_playlistid = train_r['pid'].drop_duplicates()"
   ]
  },
  {
   "cell_type": "code",
   "execution_count": 46,
   "id": "aeabcc9b",
   "metadata": {},
   "outputs": [
    {
     "name": "stderr",
     "output_type": "stream",
     "text": [
      "[codecarbon INFO @ 11:43:25] Energy consumed for RAM : 0.004751 kWh. RAM Power : 11.759872913360596 W\n",
      "[codecarbon INFO @ 11:43:25] Energy consumed for all CPUs : 0.017175 kWh. All CPUs Power : 42.5 W\n",
      "[codecarbon INFO @ 11:43:25] 0.021926 kWh of electricity used since the begining.\n",
      "[codecarbon INFO @ 11:43:40] Energy consumed for RAM : 0.004800 kWh. RAM Power : 11.759872913360596 W\n",
      "[codecarbon INFO @ 11:43:40] Energy consumed for all CPUs : 0.017352 kWh. All CPUs Power : 42.5 W\n",
      "[codecarbon INFO @ 11:43:40] 0.022152 kWh of electricity used since the begining.\n",
      "[codecarbon INFO @ 11:43:55] Energy consumed for RAM : 0.004849 kWh. RAM Power : 11.759872913360596 W\n",
      "[codecarbon INFO @ 11:43:55] Energy consumed for all CPUs : 0.017529 kWh. All CPUs Power : 42.5 W\n",
      "[codecarbon INFO @ 11:43:55] 0.022378 kWh of electricity used since the begining.\n",
      "[codecarbon INFO @ 11:44:10] Energy consumed for RAM : 0.004898 kWh. RAM Power : 11.759872913360596 W\n",
      "[codecarbon INFO @ 11:44:10] Energy consumed for all CPUs : 0.017706 kWh. All CPUs Power : 42.5 W\n",
      "[codecarbon INFO @ 11:44:10] 0.022604 kWh of electricity used since the begining.\n",
      "[codecarbon INFO @ 11:44:25] Energy consumed for RAM : 0.004947 kWh. RAM Power : 11.759872913360596 W\n",
      "[codecarbon INFO @ 11:44:25] Energy consumed for all CPUs : 0.017883 kWh. All CPUs Power : 42.5 W\n",
      "[codecarbon INFO @ 11:44:25] 0.022830 kWh of electricity used since the begining.\n",
      "[codecarbon INFO @ 11:44:40] Energy consumed for RAM : 0.004996 kWh. RAM Power : 11.759872913360596 W\n",
      "[codecarbon INFO @ 11:44:40] Energy consumed for all CPUs : 0.018060 kWh. All CPUs Power : 42.5 W\n",
      "[codecarbon INFO @ 11:44:40] 0.023056 kWh of electricity used since the begining.\n",
      "[codecarbon INFO @ 11:44:55] Energy consumed for RAM : 0.005045 kWh. RAM Power : 11.759872913360596 W\n",
      "[codecarbon INFO @ 11:44:55] Energy consumed for all CPUs : 0.018237 kWh. All CPUs Power : 42.5 W\n",
      "[codecarbon INFO @ 11:44:55] 0.023282 kWh of electricity used since the begining.\n",
      "[codecarbon INFO @ 11:45:10] Energy consumed for RAM : 0.005094 kWh. RAM Power : 11.759872913360596 W\n",
      "[codecarbon INFO @ 11:45:10] Energy consumed for all CPUs : 0.018414 kWh. All CPUs Power : 42.5 W\n",
      "[codecarbon INFO @ 11:45:10] 0.023509 kWh of electricity used since the begining.\n",
      "[codecarbon INFO @ 11:45:25] Energy consumed for RAM : 0.005143 kWh. RAM Power : 11.759872913360596 W\n",
      "[codecarbon INFO @ 11:45:25] Energy consumed for all CPUs : 0.018591 kWh. All CPUs Power : 42.5 W\n",
      "[codecarbon INFO @ 11:45:25] 0.023735 kWh of electricity used since the begining.\n",
      "[codecarbon INFO @ 11:45:40] Energy consumed for RAM : 0.005192 kWh. RAM Power : 11.759872913360596 W\n",
      "[codecarbon INFO @ 11:45:40] Energy consumed for all CPUs : 0.018769 kWh. All CPUs Power : 42.5 W\n",
      "[codecarbon INFO @ 11:45:40] 0.023961 kWh of electricity used since the begining.\n",
      "[codecarbon INFO @ 11:45:55] Energy consumed for RAM : 0.005241 kWh. RAM Power : 11.759872913360596 W\n",
      "[codecarbon INFO @ 11:45:55] Energy consumed for all CPUs : 0.018946 kWh. All CPUs Power : 42.5 W\n",
      "[codecarbon INFO @ 11:45:55] 0.024187 kWh of electricity used since the begining.\n",
      "[codecarbon INFO @ 11:46:10] Energy consumed for RAM : 0.005290 kWh. RAM Power : 11.759872913360596 W\n",
      "[codecarbon INFO @ 11:46:10] Energy consumed for all CPUs : 0.019123 kWh. All CPUs Power : 42.5 W\n",
      "[codecarbon INFO @ 11:46:10] 0.024413 kWh of electricity used since the begining.\n",
      "[codecarbon INFO @ 11:46:25] Energy consumed for RAM : 0.005339 kWh. RAM Power : 11.759872913360596 W\n",
      "[codecarbon INFO @ 11:46:25] Energy consumed for all CPUs : 0.019300 kWh. All CPUs Power : 42.5 W\n",
      "[codecarbon INFO @ 11:46:25] 0.024639 kWh of electricity used since the begining.\n",
      "[codecarbon INFO @ 11:46:40] Energy consumed for RAM : 0.005388 kWh. RAM Power : 11.759872913360596 W\n",
      "[codecarbon INFO @ 11:46:40] Energy consumed for all CPUs : 0.019477 kWh. All CPUs Power : 42.5 W\n",
      "[codecarbon INFO @ 11:46:40] 0.024865 kWh of electricity used since the begining.\n",
      "[codecarbon INFO @ 11:46:55] Energy consumed for RAM : 0.005437 kWh. RAM Power : 11.759872913360596 W\n",
      "[codecarbon INFO @ 11:46:55] Energy consumed for all CPUs : 0.019654 kWh. All CPUs Power : 42.5 W\n",
      "[codecarbon INFO @ 11:46:55] 0.025091 kWh of electricity used since the begining.\n",
      "[codecarbon INFO @ 11:47:10] Energy consumed for RAM : 0.005486 kWh. RAM Power : 11.759872913360596 W\n",
      "[codecarbon INFO @ 11:47:10] Energy consumed for all CPUs : 0.019831 kWh. All CPUs Power : 42.5 W\n",
      "[codecarbon INFO @ 11:47:10] 0.025317 kWh of electricity used since the begining.\n",
      "[codecarbon INFO @ 11:47:25] Energy consumed for RAM : 0.005535 kWh. RAM Power : 11.759872913360596 W\n",
      "[codecarbon INFO @ 11:47:25] Energy consumed for all CPUs : 0.020008 kWh. All CPUs Power : 42.5 W\n",
      "[codecarbon INFO @ 11:47:25] 0.025543 kWh of electricity used since the begining.\n",
      "[codecarbon INFO @ 11:47:40] Energy consumed for RAM : 0.005584 kWh. RAM Power : 11.759872913360596 W\n",
      "[codecarbon INFO @ 11:47:40] Energy consumed for all CPUs : 0.020185 kWh. All CPUs Power : 42.5 W\n",
      "[codecarbon INFO @ 11:47:40] 0.025769 kWh of electricity used since the begining.\n",
      "[codecarbon INFO @ 11:47:55] Energy consumed for RAM : 0.005633 kWh. RAM Power : 11.759872913360596 W\n",
      "[codecarbon INFO @ 11:47:55] Energy consumed for all CPUs : 0.020362 kWh. All CPUs Power : 42.5 W\n",
      "[codecarbon INFO @ 11:47:55] 0.025995 kWh of electricity used since the begining.\n",
      "[codecarbon INFO @ 11:48:10] Energy consumed for RAM : 0.005682 kWh. RAM Power : 11.759872913360596 W\n",
      "[codecarbon INFO @ 11:48:10] Energy consumed for all CPUs : 0.020539 kWh. All CPUs Power : 42.5 W\n",
      "[codecarbon INFO @ 11:48:10] 0.026221 kWh of electricity used since the begining.\n",
      "[codecarbon INFO @ 11:48:25] Energy consumed for RAM : 0.005731 kWh. RAM Power : 11.759872913360596 W\n",
      "[codecarbon INFO @ 11:48:25] Energy consumed for all CPUs : 0.020716 kWh. All CPUs Power : 42.5 W\n",
      "[codecarbon INFO @ 11:48:25] 0.026447 kWh of electricity used since the begining.\n",
      "[codecarbon INFO @ 11:48:40] Energy consumed for RAM : 0.005780 kWh. RAM Power : 11.759872913360596 W\n",
      "[codecarbon INFO @ 11:48:40] Energy consumed for all CPUs : 0.020893 kWh. All CPUs Power : 42.5 W\n",
      "[codecarbon INFO @ 11:48:40] 0.026673 kWh of electricity used since the begining.\n",
      "[codecarbon INFO @ 11:48:55] Energy consumed for RAM : 0.005829 kWh. RAM Power : 11.759872913360596 W\n",
      "[codecarbon INFO @ 11:48:55] Energy consumed for all CPUs : 0.021071 kWh. All CPUs Power : 42.5 W\n",
      "[codecarbon INFO @ 11:48:55] 0.026899 kWh of electricity used since the begining.\n",
      "[codecarbon INFO @ 11:49:10] Energy consumed for RAM : 0.005878 kWh. RAM Power : 11.759872913360596 W\n",
      "[codecarbon INFO @ 11:49:10] Energy consumed for all CPUs : 0.021248 kWh. All CPUs Power : 42.5 W\n",
      "[codecarbon INFO @ 11:49:10] 0.027125 kWh of electricity used since the begining.\n",
      "[codecarbon INFO @ 11:49:25] Energy consumed for RAM : 0.005927 kWh. RAM Power : 11.759872913360596 W\n",
      "[codecarbon INFO @ 11:49:25] Energy consumed for all CPUs : 0.021425 kWh. All CPUs Power : 42.5 W\n",
      "[codecarbon INFO @ 11:49:25] 0.027351 kWh of electricity used since the begining.\n",
      "[codecarbon INFO @ 11:49:40] Energy consumed for RAM : 0.005976 kWh. RAM Power : 11.759872913360596 W\n",
      "[codecarbon INFO @ 11:49:40] Energy consumed for all CPUs : 0.021602 kWh. All CPUs Power : 42.5 W\n",
      "[codecarbon INFO @ 11:49:40] 0.027577 kWh of electricity used since the begining.\n",
      "[codecarbon INFO @ 11:49:55] Energy consumed for RAM : 0.006025 kWh. RAM Power : 11.759872913360596 W\n",
      "[codecarbon INFO @ 11:49:55] Energy consumed for all CPUs : 0.021779 kWh. All CPUs Power : 42.5 W\n",
      "[codecarbon INFO @ 11:49:55] 0.027803 kWh of electricity used since the begining.\n",
      "[codecarbon INFO @ 11:50:10] Energy consumed for RAM : 0.006074 kWh. RAM Power : 11.759872913360596 W\n",
      "[codecarbon INFO @ 11:50:10] Energy consumed for all CPUs : 0.021956 kWh. All CPUs Power : 42.5 W\n",
      "[codecarbon INFO @ 11:50:10] 0.028030 kWh of electricity used since the begining.\n",
      "[codecarbon INFO @ 11:50:25] Energy consumed for RAM : 0.006123 kWh. RAM Power : 11.759872913360596 W\n",
      "[codecarbon INFO @ 11:50:25] Energy consumed for all CPUs : 0.022133 kWh. All CPUs Power : 42.5 W\n",
      "[codecarbon INFO @ 11:50:25] 0.028256 kWh of electricity used since the begining.\n",
      "[codecarbon INFO @ 11:50:40] Energy consumed for RAM : 0.006172 kWh. RAM Power : 11.759872913360596 W\n"
     ]
    },
    {
     "name": "stderr",
     "output_type": "stream",
     "text": [
      "[codecarbon INFO @ 11:50:40] Energy consumed for all CPUs : 0.022310 kWh. All CPUs Power : 42.5 W\n",
      "[codecarbon INFO @ 11:50:40] 0.028482 kWh of electricity used since the begining.\n",
      "[codecarbon INFO @ 11:50:55] Energy consumed for RAM : 0.006221 kWh. RAM Power : 11.759872913360596 W\n",
      "[codecarbon INFO @ 11:50:55] Energy consumed for all CPUs : 0.022487 kWh. All CPUs Power : 42.5 W\n",
      "[codecarbon INFO @ 11:50:55] 0.028708 kWh of electricity used since the begining.\n",
      "[codecarbon INFO @ 11:51:10] Energy consumed for RAM : 0.006270 kWh. RAM Power : 11.759872913360596 W\n",
      "[codecarbon INFO @ 11:51:10] Energy consumed for all CPUs : 0.022664 kWh. All CPUs Power : 42.5 W\n",
      "[codecarbon INFO @ 11:51:10] 0.028934 kWh of electricity used since the begining.\n",
      "[codecarbon INFO @ 11:51:25] Energy consumed for RAM : 0.006319 kWh. RAM Power : 11.759872913360596 W\n",
      "[codecarbon INFO @ 11:51:25] Energy consumed for all CPUs : 0.022841 kWh. All CPUs Power : 42.5 W\n",
      "[codecarbon INFO @ 11:51:25] 0.029160 kWh of electricity used since the begining.\n",
      "[codecarbon INFO @ 11:51:40] Energy consumed for RAM : 0.006368 kWh. RAM Power : 11.759872913360596 W\n",
      "[codecarbon INFO @ 11:51:40] Energy consumed for all CPUs : 0.023018 kWh. All CPUs Power : 42.5 W\n",
      "[codecarbon INFO @ 11:51:40] 0.029386 kWh of electricity used since the begining.\n",
      "[codecarbon INFO @ 11:51:55] Energy consumed for RAM : 0.006417 kWh. RAM Power : 11.759872913360596 W\n",
      "[codecarbon INFO @ 11:51:55] Energy consumed for all CPUs : 0.023195 kWh. All CPUs Power : 42.5 W\n",
      "[codecarbon INFO @ 11:51:55] 0.029612 kWh of electricity used since the begining.\n",
      "[codecarbon INFO @ 11:52:10] Energy consumed for RAM : 0.006465 kWh. RAM Power : 11.759872913360596 W\n",
      "[codecarbon INFO @ 11:52:10] Energy consumed for all CPUs : 0.023372 kWh. All CPUs Power : 42.5 W\n",
      "[codecarbon INFO @ 11:52:10] 0.029838 kWh of electricity used since the begining.\n",
      "[codecarbon INFO @ 11:52:25] Energy consumed for RAM : 0.006514 kWh. RAM Power : 11.759872913360596 W\n",
      "[codecarbon INFO @ 11:52:25] Energy consumed for all CPUs : 0.023549 kWh. All CPUs Power : 42.5 W\n",
      "[codecarbon INFO @ 11:52:25] 0.030064 kWh of electricity used since the begining.\n"
     ]
    }
   ],
   "source": [
    "rps = []\n",
    "ndcgs = []\n",
    "for pid in unique_playlistid:\n",
    "    ps = cos_similar_songs_playlist(train_scaled_cos_matrix, pid, nholdout(pid, val_test_r)*15)\n",
    "    vs = val_test_r[val_test_r.pid == pid].track_uri\n",
    "    rps.append(r_precision(ps, vs))\n",
    "    \n",
    "    r = np.zeros(len(ps))\n",
    "    for i, p in enumerate(ps):\n",
    "        if np.any(vs.isin([p])):\n",
    "            r[i] = 1\n",
    "    ndcgs.append(ndcg_at_k(r, len(r)))"
   ]
  },
  {
   "cell_type": "code",
   "execution_count": 48,
   "id": "73a593da",
   "metadata": {},
   "outputs": [
    {
     "name": "stdout",
     "output_type": "stream",
     "text": [
      "Avg. R-Precision:  0.002658766332421756\n",
      "Avg. NDCG:  0.0013180245734131103\n",
      "Total Sum:  0.001988395452917433\n"
     ]
    }
   ],
   "source": [
    "avg_rp = np.mean(rps)\n",
    "avg_ndcg = np.mean(ndcgs)\n",
    "\n",
    "print('Avg. R-Precision: ', avg_rp)\n",
    "print('Avg. NDCG: ', avg_ndcg)\n",
    "\n",
    "print('Total Sum: ', np.mean([avg_rp, avg_ndcg]))"
   ]
  },
  {
   "cell_type": "code",
   "execution_count": 49,
   "id": "84f4028d",
   "metadata": {},
   "outputs": [
    {
     "name": "stderr",
     "output_type": "stream",
     "text": [
      "[codecarbon INFO @ 11:55:51] Energy consumed for RAM : 0.007188 kWh. RAM Power : 11.759872913360596 W\n",
      "[codecarbon INFO @ 11:55:51] Energy consumed for all CPUs : 0.025983 kWh. All CPUs Power : 42.5 W\n",
      "[codecarbon INFO @ 11:55:51] 0.033171 kWh of electricity used since the begining.\n",
      "\u001b[1;38;5;39mCOMET INFO:\u001b[0m ---------------------------------------------------------------------------------------\n",
      "\u001b[1;38;5;39mCOMET INFO:\u001b[0m Comet.ml Experiment Summary\n",
      "\u001b[1;38;5;39mCOMET INFO:\u001b[0m ---------------------------------------------------------------------------------------\n",
      "\u001b[1;38;5;39mCOMET INFO:\u001b[0m   Data:\n",
      "\u001b[1;38;5;39mCOMET INFO:\u001b[0m     display_summary_level : 1\n",
      "\u001b[1;38;5;39mCOMET INFO:\u001b[0m     url                   : https://www.comet.com/sadcor/general/887968865d1f4013a0ca19887dbfbf64\n",
      "\u001b[1;38;5;39mCOMET INFO:\u001b[0m   Metrics [count] (min, max):\n",
      "\u001b[1;38;5;39mCOMET INFO:\u001b[0m     accuracy [26]                  : (0.6852933764457703, 0.8118219375610352)\n",
      "\u001b[1;38;5;39mCOMET INFO:\u001b[0m     batch_accuracy [17446]         : (0.03125, 0.9375)\n",
      "\u001b[1;38;5;39mCOMET INFO:\u001b[0m     batch_loss [17446]             : (0.007082095369696617, 0.18651185929775238)\n",
      "\u001b[1;38;5;39mCOMET INFO:\u001b[0m     epoch_duration [26]            : (25.190732335904613, 28.063596738036722)\n",
      "\u001b[1;38;5;39mCOMET INFO:\u001b[0m     loss [26]                      : (0.009888016618788242, 0.02860078774392605)\n",
      "\u001b[1;38;5;39mCOMET INFO:\u001b[0m     val_accuracy [26]              : (0.7890616059303284, 0.8630653023719788)\n",
      "\u001b[1;38;5;39mCOMET INFO:\u001b[0m     val_loss [26]                  : (0.005703578237444162, 0.014394387602806091)\n",
      "\u001b[1;38;5;39mCOMET INFO:\u001b[0m     validate_batch_accuracy [2184] : (0.78125, 0.90625)\n",
      "\u001b[1;38;5;39mCOMET INFO:\u001b[0m     validate_batch_loss [2184]     : (0.0050642769783735275, 0.015290435403585434)\n",
      "\u001b[1;38;5;39mCOMET INFO:\u001b[0m   Others:\n",
      "\u001b[1;38;5;39mCOMET INFO:\u001b[0m     trainable_params : 27559\n",
      "\u001b[1;38;5;39mCOMET INFO:\u001b[0m   Parameters:\n",
      "\u001b[1;38;5;39mCOMET INFO:\u001b[0m     Adam_amsgrad       : False\n",
      "\u001b[1;38;5;39mCOMET INFO:\u001b[0m     Adam_beta_1        : 0.9\n",
      "\u001b[1;38;5;39mCOMET INFO:\u001b[0m     Adam_beta_2        : 0.999\n",
      "\u001b[1;38;5;39mCOMET INFO:\u001b[0m     Adam_decay         : 0.0\n",
      "\u001b[1;38;5;39mCOMET INFO:\u001b[0m     Adam_epsilon       : 1e-07\n",
      "\u001b[1;38;5;39mCOMET INFO:\u001b[0m     Adam_learning_rate : 0.001\n",
      "\u001b[1;38;5;39mCOMET INFO:\u001b[0m     Adam_name          : Adam\n",
      "\u001b[1;38;5;39mCOMET INFO:\u001b[0m     Optimizer          : Adam\n",
      "\u001b[1;38;5;39mCOMET INFO:\u001b[0m     clip               : False\n",
      "\u001b[1;38;5;39mCOMET INFO:\u001b[0m     copy               : True\n",
      "\u001b[1;38;5;39mCOMET INFO:\u001b[0m     epochs             : 100\n",
      "\u001b[1;38;5;39mCOMET INFO:\u001b[0m     feature_range      : (0, 1)\n",
      "\u001b[1;38;5;39mCOMET INFO:\u001b[0m     steps              : 6706\n",
      "\u001b[1;38;5;39mCOMET INFO:\u001b[0m   Uploads:\n",
      "\u001b[1;38;5;39mCOMET INFO:\u001b[0m     asset               : 1 (690 bytes)\n",
      "\u001b[1;38;5;39mCOMET INFO:\u001b[0m     environment details : 1\n",
      "\u001b[1;38;5;39mCOMET INFO:\u001b[0m     filename            : 1\n",
      "\u001b[1;38;5;39mCOMET INFO:\u001b[0m     installed packages  : 1\n",
      "\u001b[1;38;5;39mCOMET INFO:\u001b[0m     model graph         : 1\n",
      "\u001b[1;38;5;39mCOMET INFO:\u001b[0m     notebook            : 1\n",
      "\u001b[1;38;5;39mCOMET INFO:\u001b[0m     os packages         : 1\n",
      "\u001b[1;38;5;39mCOMET INFO:\u001b[0m     source_code         : 1\n",
      "\u001b[1;38;5;39mCOMET INFO:\u001b[0m \n",
      "\u001b[1;38;5;39mCOMET INFO:\u001b[0m Please wait for metadata to finish uploading (timeout is 3600 seconds)\n"
     ]
    }
   ],
   "source": [
    "experiment.end()"
   ]
  },
  {
   "cell_type": "code",
   "execution_count": null,
   "id": "5f515924",
   "metadata": {},
   "outputs": [],
   "source": []
  }
 ],
 "metadata": {
  "kernelspec": {
   "display_name": "Python 3 (ipykernel)",
   "language": "python",
   "name": "python3"
  },
  "language_info": {
   "codemirror_mode": {
    "name": "ipython",
    "version": 3
   },
   "file_extension": ".py",
   "mimetype": "text/x-python",
   "name": "python",
   "nbconvert_exporter": "python",
   "pygments_lexer": "ipython3",
   "version": "3.8.10"
  }
 },
 "nbformat": 4,
 "nbformat_minor": 5
}
