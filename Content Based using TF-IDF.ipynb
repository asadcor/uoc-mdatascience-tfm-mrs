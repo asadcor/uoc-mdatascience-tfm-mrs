{
 "cells": [
  {
   "cell_type": "markdown",
   "id": "9098ed11",
   "metadata": {},
   "source": [
    "# Content-Based Recommender using TF-IDF"
   ]
  },
  {
   "cell_type": "code",
   "execution_count": 1,
   "id": "ae516742",
   "metadata": {},
   "outputs": [
    {
     "name": "stderr",
     "output_type": "stream",
     "text": [
      "\u001b[1;38;5;214mCOMET WARNING:\u001b[0m As you are running in a Jupyter environment, you will need to call `experiment.end()` when finished to ensure all metrics and code are logged before exiting.\n",
      "[codecarbon INFO @ 10:32:22] [setup] RAM Tracking...\n",
      "[codecarbon INFO @ 10:32:22] [setup] GPU Tracking...\n",
      "[codecarbon INFO @ 10:32:22] No GPU found.\n",
      "[codecarbon INFO @ 10:32:22] [setup] CPU Tracking...\n",
      "[codecarbon WARNING @ 10:32:22] No CPU tracking mode found. Falling back on CPU constant mode.\n",
      "[codecarbon WARNING @ 10:32:24] We saw that you have a Intel(R) Xeon(R) CPU E5-2630 v3 @ 2.40GHz but we don't know it. Please contact us.\n",
      "[codecarbon INFO @ 10:32:24] CPU Model on constant consumption mode: Intel(R) Xeon(R) CPU E5-2630 v3 @ 2.40GHz\n",
      "[codecarbon INFO @ 10:32:24] >>> Tracker's metadata:\n",
      "[codecarbon INFO @ 10:32:24]   Platform system: Linux-5.4.0-147-generic-x86_64-with-glibc2.29\n",
      "[codecarbon INFO @ 10:32:24]   Python version: 3.8.10\n",
      "[codecarbon INFO @ 10:32:24]   Available RAM : 31.360 GB\n",
      "[codecarbon INFO @ 10:32:24]   CPU count: 8\n",
      "[codecarbon INFO @ 10:32:24]   CPU model: Intel(R) Xeon(R) CPU E5-2630 v3 @ 2.40GHz\n",
      "[codecarbon INFO @ 10:32:24]   GPU count: None\n",
      "[codecarbon INFO @ 10:32:24]   GPU model: None\n",
      "\u001b[1;38;5;39mCOMET INFO:\u001b[0m Couldn't find a Git repository in '/home/asadcor' nor in any parent directory. Set `COMET_GIT_DIRECTORY` if your Git Repository is elsewhere.\n",
      "\u001b[1;38;5;39mCOMET INFO:\u001b[0m Experiment is live on comet.com https://www.comet.com/sadcor/general/5622a3b3bb6c480ea7723921d984d727\n",
      "\n"
     ]
    }
   ],
   "source": [
    "from comet_ml import Experiment\n",
    "experiment = Experiment(api_key=\"ummagUWZ5eIZzmhPtFkA8oopu\")"
   ]
  },
  {
   "cell_type": "code",
   "execution_count": 2,
   "id": "c3b0e5cc",
   "metadata": {},
   "outputs": [
    {
     "name": "stderr",
     "output_type": "stream",
     "text": [
      "Matplotlib created a temporary config/cache directory at /tmp/matplotlib-s33mmr3y because the default path (/home/asadcor/.cache/matplotlib) is not a writable directory; it is highly recommended to set the MPLCONFIGDIR environment variable to a writable directory, in particular to speed up the import of Matplotlib and to better support multiprocessing.\n",
      "2023-05-09 10:32:33.775880: W tensorflow/stream_executor/platform/default/dso_loader.cc:64] Could not load dynamic library 'libcudart.so.11.0'; dlerror: libcudart.so.11.0: cannot open shared object file: No such file or directory\n",
      "2023-05-09 10:32:33.775934: I tensorflow/stream_executor/cuda/cudart_stub.cc:29] Ignore above cudart dlerror if you do not have a GPU set up on your machine.\n"
     ]
    }
   ],
   "source": [
    "from tqdm import tqdm\n",
    "import time\n",
    "\n",
    "import csv\n",
    "import numpy as np\n",
    "import pandas as pd\n",
    "import scipy.sparse as sp\n",
    "\n",
    "import matplotlib.pyplot as plt\n",
    "\n",
    "from sklearn.model_selection import train_test_split\n",
    "from sklearn.preprocessing import MinMaxScaler\n",
    "\n",
    "import keras\n",
    "import tensorflow as tf\n",
    "from keras.callbacks import ModelCheckpoint\n",
    "from keras.models import load_model\n",
    "from sklearn.preprocessing import OneHotEncoder\n",
    "from sklearn.metrics import confusion_matrix\n",
    "from sklearn.metrics import f1_score\n",
    "from sklearn.metrics import roc_auc_score\n",
    "\n",
    "from sklearn.feature_extraction.text import TfidfVectorizer, CountVectorizer\n",
    "from sklearn.metrics.pairwise import linear_kernel\n",
    "from sklearn.metrics.pairwise import cosine_similarity "
   ]
  },
  {
   "cell_type": "code",
   "execution_count": 3,
   "id": "edf6da83",
   "metadata": {},
   "outputs": [],
   "source": [
    "import re"
   ]
  },
  {
   "cell_type": "code",
   "execution_count": 4,
   "id": "1bd8ae7f",
   "metadata": {},
   "outputs": [],
   "source": [
    "pdwm = pd.read_csv('working/playlists_dataset_with_mood.csv')"
   ]
  },
  {
   "cell_type": "markdown",
   "id": "9fae6570",
   "metadata": {},
   "source": [
    "### Data cleaning"
   ]
  },
  {
   "cell_type": "code",
   "execution_count": 5,
   "id": "247a9471",
   "metadata": {},
   "outputs": [],
   "source": [
    "pdwm = pdwm.reset_index(drop=True)\n",
    "\n",
    "mean_popularity = pdwm['track_popularity'].mean()\n",
    "pdwm.loc[:, 'track_popularity'] = pdwm['track_popularity'].fillna(mean_popularity)\n",
    "\n",
    "pdwm.loc[:, 'track_explicit'] = pdwm['track_explicit'].fillna(False)\n",
    "\n",
    "pdwm.loc[:, 'track_explicit'] = pdwm['track_explicit'].astype(int)\n",
    "\n",
    "pdwm = pdwm.drop(columns=[\n",
    "    'pos', 'modified_at', 'num_tracks','num_albums','num_followers',\n",
    "    'num_edits', 'artist_name', 'album_release_date', 'mood',\n",
    "    'danceability', 'energy', 'key', 'loudness', 'mode', 'speechiness', 'acousticness', 'instrumentalness',\n",
    "    'liveness', 'valence', 'tempo', 'duration_ms', 'time_signature', 'track_popularity', 'track_explicit'\n",
    "])"
   ]
  },
  {
   "cell_type": "code",
   "execution_count": 6,
   "id": "5d970b74",
   "metadata": {},
   "outputs": [],
   "source": [
    "pdwm['combined_text'] = pdwm['name'] + ' ' + pdwm['description'].fillna('') + ' ' + pdwm['track_name'] + ' ' + pdwm['album_name']"
   ]
  },
  {
   "cell_type": "code",
   "execution_count": 7,
   "id": "80d54bdc",
   "metadata": {},
   "outputs": [
    {
     "name": "stderr",
     "output_type": "stream",
     "text": [
      "[codecarbon INFO @ 10:32:42] Energy consumed for RAM : 0.000049 kWh. RAM Power : 11.759872913360596 W\n",
      "[codecarbon INFO @ 10:32:42] Energy consumed for all CPUs : 0.000178 kWh. All CPUs Power : 42.5 W\n",
      "[codecarbon INFO @ 10:32:42] 0.000227 kWh of electricity used since the begining.\n"
     ]
    }
   ],
   "source": [
    "pattern = r'[^\\w\\s]|\\d|_'\n",
    "pdwm['combined_text'] = pdwm['combined_text'].apply(lambda x: re.sub(pattern, '', x))"
   ]
  },
  {
   "cell_type": "code",
   "execution_count": 8,
   "id": "8cb641c7",
   "metadata": {},
   "outputs": [
    {
     "data": {
      "text/plain": [
       "(66286, 7)"
      ]
     },
     "execution_count": 8,
     "metadata": {},
     "output_type": "execute_result"
    }
   ],
   "source": [
    "pdwm_10k = pdwm.sample(n=70000, random_state=12)\n",
    "\n",
    "mask = pdwm_10k['pid'].duplicated(keep=False)\n",
    "pdwm_10k_filtered = pdwm_10k[mask]\n",
    "\n",
    "# pdwm_10k_filtered = pdwm_10k_filtered.reset_index(drop=True)\n",
    "\n",
    "pdwm_10k_filtered.shape"
   ]
  },
  {
   "cell_type": "code",
   "execution_count": 9,
   "id": "ebf22142",
   "metadata": {},
   "outputs": [],
   "source": [
    "train, val_test = train_test_split(pdwm_10k_filtered, test_size=0.3, random_state=10, stratify = pdwm_10k_filtered['pid'])"
   ]
  },
  {
   "cell_type": "code",
   "execution_count": 10,
   "id": "eeb3069f",
   "metadata": {},
   "outputs": [
    {
     "data": {
      "text/html": [
       "<div>\n",
       "<style scoped>\n",
       "    .dataframe tbody tr th:only-of-type {\n",
       "        vertical-align: middle;\n",
       "    }\n",
       "\n",
       "    .dataframe tbody tr th {\n",
       "        vertical-align: top;\n",
       "    }\n",
       "\n",
       "    .dataframe thead th {\n",
       "        text-align: right;\n",
       "    }\n",
       "</style>\n",
       "<table border=\"1\" class=\"dataframe\">\n",
       "  <thead>\n",
       "    <tr style=\"text-align: right;\">\n",
       "      <th></th>\n",
       "      <th>pid</th>\n",
       "      <th>name</th>\n",
       "      <th>description</th>\n",
       "      <th>track_name</th>\n",
       "      <th>album_name</th>\n",
       "      <th>track_uri</th>\n",
       "      <th>combined_text</th>\n",
       "    </tr>\n",
       "  </thead>\n",
       "  <tbody>\n",
       "    <tr>\n",
       "      <th>1116413</th>\n",
       "      <td>631853</td>\n",
       "      <td>New beginnings</td>\n",
       "      <td>NaN</td>\n",
       "      <td>Dile Que Tu Me Quieres</td>\n",
       "      <td>Odisea</td>\n",
       "      <td>5u5MvmVtitax9R1Mxh3reC</td>\n",
       "      <td>New beginnings   Dile Que Tu Me Quieres Odisea</td>\n",
       "    </tr>\n",
       "    <tr>\n",
       "      <th>1136555</th>\n",
       "      <td>694173</td>\n",
       "      <td>Leonard Cohen</td>\n",
       "      <td>NaN</td>\n",
       "      <td>Hallelujah</td>\n",
       "      <td>Sacred Arias</td>\n",
       "      <td>7kyblSqNcOanGyf6KGJwf6</td>\n",
       "      <td>Leonard Cohen  Hallelujah Sacred Arias</td>\n",
       "    </tr>\n",
       "    <tr>\n",
       "      <th>948225</th>\n",
       "      <td>485267</td>\n",
       "      <td>legend</td>\n",
       "      <td>NaN</td>\n",
       "      <td>All Night Long (All Night) - Single Version</td>\n",
       "      <td>The Definitive Collection</td>\n",
       "      <td>2Wb9ejnmy27DUTUe9YF5Ew</td>\n",
       "      <td>legend  All Night Long All Night  Single Versi...</td>\n",
       "    </tr>\n",
       "    <tr>\n",
       "      <th>323484</th>\n",
       "      <td>146942</td>\n",
       "      <td>Party</td>\n",
       "      <td>NaN</td>\n",
       "      <td>Studio</td>\n",
       "      <td>Oxymoron</td>\n",
       "      <td>29gsi1zZrZxdStACmTQB0Z</td>\n",
       "      <td>Party  Studio Oxymoron</td>\n",
       "    </tr>\n",
       "  </tbody>\n",
       "</table>\n",
       "</div>"
      ],
      "text/plain": [
       "            pid             name description  \\\n",
       "1116413  631853  New beginnings          NaN   \n",
       "1136555  694173    Leonard Cohen         NaN   \n",
       "948225   485267           legend         NaN   \n",
       "323484   146942            Party         NaN   \n",
       "\n",
       "                                          track_name  \\\n",
       "1116413                       Dile Que Tu Me Quieres   \n",
       "1136555                                   Hallelujah   \n",
       "948225   All Night Long (All Night) - Single Version   \n",
       "323484                                        Studio   \n",
       "\n",
       "                        album_name               track_uri  \\\n",
       "1116413                     Odisea  5u5MvmVtitax9R1Mxh3reC   \n",
       "1136555               Sacred Arias  7kyblSqNcOanGyf6KGJwf6   \n",
       "948225   The Definitive Collection  2Wb9ejnmy27DUTUe9YF5Ew   \n",
       "323484                    Oxymoron  29gsi1zZrZxdStACmTQB0Z   \n",
       "\n",
       "                                             combined_text  \n",
       "1116413     New beginnings   Dile Que Tu Me Quieres Odisea  \n",
       "1136555             Leonard Cohen  Hallelujah Sacred Arias  \n",
       "948225   legend  All Night Long All Night  Single Versi...  \n",
       "323484                              Party  Studio Oxymoron  "
      ]
     },
     "execution_count": 10,
     "metadata": {},
     "output_type": "execute_result"
    }
   ],
   "source": [
    "train.head(4)"
   ]
  },
  {
   "cell_type": "code",
   "execution_count": 11,
   "id": "2b62299c",
   "metadata": {},
   "outputs": [
    {
     "data": {
      "text/plain": [
       "pid                  0\n",
       "name                 0\n",
       "description      64944\n",
       "track_name           0\n",
       "album_name           0\n",
       "track_uri            0\n",
       "combined_text        0\n",
       "dtype: int64"
      ]
     },
     "execution_count": 11,
     "metadata": {},
     "output_type": "execute_result"
    }
   ],
   "source": [
    "pdwm_10k_filtered.isna().sum()"
   ]
  },
  {
   "cell_type": "code",
   "execution_count": 12,
   "id": "9705eff4",
   "metadata": {},
   "outputs": [],
   "source": [
    "train = train.reset_index(drop=True)\n",
    "val_test = val_test.reset_index(drop=True)"
   ]
  },
  {
   "attachments": {
    "image-2.png": {
     "image/png": "[encoded data removed]"
    }
   },
   "cell_type": "markdown",
   "id": "52dbd7b7",
   "metadata": {},
   "source": [
    "### TF-IDF\n",
    "\n",
    "![image-2.png](attachment:image-2.png)"
   ]
  },
  {
   "cell_type": "code",
   "execution_count": 13,
   "id": "0171f48b",
   "metadata": {},
   "outputs": [],
   "source": [
    "tf = TfidfVectorizer(analyzer='word', ngram_range=(1, 2), min_df=0, stop_words='english')\n",
    "tfidf_matrix = tf.fit_transform(train['combined_text'])"
   ]
  },
  {
   "cell_type": "code",
   "execution_count": 14,
   "id": "56a39354",
   "metadata": {},
   "outputs": [
    {
     "data": {
      "text/plain": [
       "(46400, 120917)"
      ]
     },
     "execution_count": 14,
     "metadata": {},
     "output_type": "execute_result"
    }
   ],
   "source": [
    "tfidf_matrix.shape"
   ]
  },
  {
   "cell_type": "code",
   "execution_count": null,
   "id": "c0f28763",
   "metadata": {},
   "outputs": [],
   "source": []
  },
  {
   "cell_type": "markdown",
   "id": "2c992737",
   "metadata": {},
   "source": [
    "### Cosine Similarity Matrix"
   ]
  },
  {
   "cell_type": "code",
   "execution_count": 15,
   "id": "fcfd2511",
   "metadata": {},
   "outputs": [
    {
     "name": "stderr",
     "output_type": "stream",
     "text": [
      "[codecarbon INFO @ 10:32:57] Energy consumed for RAM : 0.000098 kWh. RAM Power : 11.759872913360596 W\n",
      "[codecarbon INFO @ 10:32:57] Energy consumed for all CPUs : 0.000354 kWh. All CPUs Power : 42.5 W\n",
      "[codecarbon INFO @ 10:32:57] 0.000452 kWh of electricity used since the begining.\n"
     ]
    }
   ],
   "source": [
    "train_cos_matrix = linear_kernel(tfidf_matrix, tfidf_matrix)"
   ]
  },
  {
   "cell_type": "code",
   "execution_count": 16,
   "id": "74c5a6ad",
   "metadata": {},
   "outputs": [
    {
     "data": {
      "text/plain": [
       "(46400, 46400)"
      ]
     },
     "execution_count": 16,
     "metadata": {},
     "output_type": "execute_result"
    }
   ],
   "source": [
    "train_cos_matrix.shape"
   ]
  },
  {
   "cell_type": "code",
   "execution_count": 17,
   "id": "37093e4d",
   "metadata": {},
   "outputs": [
    {
     "data": {
      "text/plain": [
       "array([[1., 0., 0., ..., 0., 0., 0.],\n",
       "       [0., 1., 0., ..., 0., 0., 0.],\n",
       "       [0., 0., 1., ..., 0., 0., 0.],\n",
       "       ...,\n",
       "       [0., 0., 0., ..., 1., 0., 0.],\n",
       "       [0., 0., 0., ..., 0., 1., 0.],\n",
       "       [0., 0., 0., ..., 0., 0., 1.]])"
      ]
     },
     "execution_count": 17,
     "metadata": {},
     "output_type": "execute_result"
    }
   ],
   "source": [
    "train_cos_matrix"
   ]
  },
  {
   "cell_type": "code",
   "execution_count": 18,
   "id": "20203e02",
   "metadata": {},
   "outputs": [],
   "source": [
    "def cos_similar_songs_playlist(cos_matrix, target_playlist_id, cand_list_size):\n",
    "    \"\"\"\n",
    "    Generates a list of cosine-similar songs for a given target playlist.\n",
    "\n",
    "    Parameters:\n",
    "        cos_matrix (ndarray): The cosine similarity matrix.\n",
    "        target_playlist_id (int): The ID of the target playlist.\n",
    "        cand_list_size (int): The desired size of the candidate song list.\n",
    "\n",
    "    Returns:\n",
    "        list: A list of cosine-similar songs.\n",
    "\n",
    "    \"\"\"\n",
    "    target_track_inx = np.where(train[\"pid\"] == target_playlist_id)[0] # index of tracks in training playlist of target playlist\n",
    "    candidate_cos_matrix = cos_matrix\n",
    "\n",
    "    ## For each song in the playlist, find k similar songs\n",
    "    cand_list = []\n",
    "    # cand_list_size = k*15\n",
    "    k = np.floor(cand_list_size/len(target_track_inx)) # round(cand_list_size/len(target_track_inx))\n",
    "    k_rest = cand_list_size - k*len(target_track_inx)\n",
    "    # e.g., for a candidate list size of 30, get 3 songs for each track first\n",
    "    for inx, i in enumerate(target_track_inx):\n",
    "        candidate_song_rec = candidate_cos_matrix[i, ] #ith row of matrix\n",
    "        candidate_song_rec_inx = np.argsort(candidate_song_rec)\n",
    "        unique_candidate_song_sorted = train['track_uri'][candidate_song_rec_inx][::-1].drop_duplicates()\n",
    "        tracks_in_target_playlist = train.loc[train[\"pid\"] == target_playlist_id, \"track_uri\"]\n",
    "        song_to_recommend = np.array(unique_candidate_song_sorted.loc[~unique_candidate_song_sorted.isin(tracks_in_target_playlist)])\n",
    "\n",
    "        if (k_rest != 0 & inx <= k_rest): # 30-24 = 6; for the first 6 tracks recommend k + 1 songs\n",
    "            k_song_to_recommend = song_to_recommend[:int(k+1)]\n",
    "        else:\n",
    "            k_song_to_recommend = song_to_recommend[:int(k)]\n",
    "            \n",
    "        if inx == 0:\n",
    "            cand_list = k_song_to_recommend\n",
    "        else:\n",
    "            cand_list = np.append(cand_list, k_song_to_recommend)\n",
    "    return list(cand_list) # turn np array into list"
   ]
  },
  {
   "cell_type": "markdown",
   "id": "983dd3be",
   "metadata": {},
   "source": [
    "##  Model Performance Metrics"
   ]
  },
  {
   "cell_type": "code",
   "execution_count": 19,
   "id": "51d44dfc",
   "metadata": {},
   "outputs": [],
   "source": [
    "def nholdout(playlist_id, df):\n",
    "    \"\"\"\n",
    "    Returns the number of songs held out in the validation/test set for a given playlist ID.\n",
    "\n",
    "    Parameters:\n",
    "        playlist_id (int): The ID of the playlist.\n",
    "        df (pandas.DataFrame): The DataFrame containing the playlist data.\n",
    "\n",
    "    Returns:\n",
    "        int: The number of songs held out in the validation/test set.\n",
    "\n",
    "    \"\"\"\n",
    "    return len(df[df.pid == playlist_id].track_uri)"
   ]
  },
  {
   "cell_type": "code",
   "execution_count": 20,
   "id": "aa6ff888",
   "metadata": {},
   "outputs": [],
   "source": [
    "def r_precision(predictions, val_set):\n",
    "    \"\"\"\n",
    "    Computes the R-Precision score for a given playlist prediction set.\n",
    "\n",
    "    Parameters:\n",
    "        predictions (list or numpy.ndarray): A list or 1-D numpy array containing the predicted track URIs.\n",
    "        val_set (pandas.Series): A pandas Series representing the ground truth track URIs for the validation set.\n",
    "\n",
    "    Returns:\n",
    "        float: The R-Precision score.\n",
    "\n",
    "    \"\"\"\n",
    "    if val_set.shape[0] > 0:\n",
    "        score = np.sum(val_set.isin(predictions))/val_set.shape[0]\n",
    "    else:\n",
    "        score = 0.0\n",
    "    return score"
   ]
  },
  {
   "cell_type": "code",
   "execution_count": 21,
   "id": "2b7b091f",
   "metadata": {},
   "outputs": [],
   "source": [
    "def dcg_at_k(r, k, method=0):\n",
    "    \"\"\"\n",
    "    Computes the Discounted Cumulative Gain (DCG) at a specified rank `k` given a list of relevance scores.\n",
    "\n",
    "    Parameters:\n",
    "        r (list or numpy.ndarray): A list or 1-D numpy array containing the relevance scores.\n",
    "        k (int): The rank at which to compute the DCG.\n",
    "        method (int, optional): The formula to use for computing the DCG. 0 for the default formula, 1 for the alternative formula. Default is 0.\n",
    "\n",
    "    Returns:\n",
    "        float: The DCG at rank `k`.\n",
    "\n",
    "    Raises:\n",
    "        ValueError: If `method` is not 0 or 1.\n",
    "\n",
    "    \"\"\"\n",
    "    r = np.asfarray(r)[:k]\n",
    "    if r.size:\n",
    "        if method == 0:\n",
    "            return r[0] + np.sum(r[1:] / np.log2(np.arange(2, r.size + 1)))\n",
    "        elif method == 1:\n",
    "            return np.sum(r / np.log2(np.arange(2, r.size + 2)))\n",
    "        else:\n",
    "            raise ValueError('method must be 0 or 1.')\n",
    "    return 0.\n",
    "\n",
    "\n",
    "def ndcg_at_k(r, k, method=0):\n",
    "    \"\"\"\n",
    "    Computes the Normalized Discounted Cumulative Gain (NDCG) at a specified rank `k` given a list of relevance scores.\n",
    "\n",
    "    Parameters:\n",
    "        r (list or numpy.ndarray): A list or 1-D numpy array containing the relevance scores.\n",
    "        k (int): The rank at which to compute the NDCG.\n",
    "        method (int, optional): The formula to use for computing the NDCG. 0 for the default formula, 1 for the alternative formula. Default is 0.\n",
    "\n",
    "    Returns:\n",
    "        float: The NDCG at rank `k`.\n",
    "\n",
    "    \"\"\"\n",
    "    dcg_max = dcg_at_k(sorted(r, reverse=True), k, method)\n",
    "    if not dcg_max:\n",
    "        return 0.\n",
    "    return dcg_at_k(r, k, method) / dcg_max"
   ]
  },
  {
   "cell_type": "code",
   "execution_count": 22,
   "id": "c5268090",
   "metadata": {},
   "outputs": [],
   "source": [
    "unique_playlistid = train['pid'].drop_duplicates()"
   ]
  },
  {
   "cell_type": "code",
   "execution_count": 23,
   "id": "aeabcc9b",
   "metadata": {
    "scrolled": true
   },
   "outputs": [
    {
     "name": "stderr",
     "output_type": "stream",
     "text": [
      "[codecarbon INFO @ 10:33:12] Energy consumed for RAM : 0.000147 kWh. RAM Power : 11.759872913360596 W\n",
      "[codecarbon INFO @ 10:33:12] Energy consumed for all CPUs : 0.000531 kWh. All CPUs Power : 42.5 W\n",
      "[codecarbon INFO @ 10:33:12] 0.000678 kWh of electricity used since the begining.\n",
      "[codecarbon INFO @ 10:33:27] Energy consumed for RAM : 0.000196 kWh. RAM Power : 11.759872913360596 W\n",
      "[codecarbon INFO @ 10:33:27] Energy consumed for all CPUs : 0.000708 kWh. All CPUs Power : 42.5 W\n",
      "[codecarbon INFO @ 10:33:27] 0.000904 kWh of electricity used since the begining.\n",
      "[codecarbon INFO @ 10:33:42] Energy consumed for RAM : 0.000245 kWh. RAM Power : 11.759872913360596 W\n",
      "[codecarbon INFO @ 10:33:42] Energy consumed for all CPUs : 0.000885 kWh. All CPUs Power : 42.5 W\n",
      "[codecarbon INFO @ 10:33:42] 0.001130 kWh of electricity used since the begining.\n",
      "[codecarbon INFO @ 10:33:57] Energy consumed for RAM : 0.000294 kWh. RAM Power : 11.759872913360596 W\n",
      "[codecarbon INFO @ 10:33:57] Energy consumed for all CPUs : 0.001062 kWh. All CPUs Power : 42.5 W\n",
      "[codecarbon INFO @ 10:33:57] 0.001356 kWh of electricity used since the begining.\n",
      "[codecarbon INFO @ 10:34:12] Energy consumed for RAM : 0.000343 kWh. RAM Power : 11.759872913360596 W\n",
      "[codecarbon INFO @ 10:34:12] Energy consumed for all CPUs : 0.001239 kWh. All CPUs Power : 42.5 W\n",
      "[codecarbon INFO @ 10:34:12] 0.001582 kWh of electricity used since the begining.\n",
      "[codecarbon INFO @ 10:34:27] Energy consumed for RAM : 0.000392 kWh. RAM Power : 11.759872913360596 W\n",
      "[codecarbon INFO @ 10:34:27] Energy consumed for all CPUs : 0.001417 kWh. All CPUs Power : 42.5 W\n",
      "[codecarbon INFO @ 10:34:27] 0.001808 kWh of electricity used since the begining.\n",
      "[codecarbon INFO @ 10:34:42] Energy consumed for RAM : 0.000441 kWh. RAM Power : 11.759872913360596 W\n",
      "[codecarbon INFO @ 10:34:42] Energy consumed for all CPUs : 0.001593 kWh. All CPUs Power : 42.5 W\n",
      "[codecarbon INFO @ 10:34:42] 0.002034 kWh of electricity used since the begining.\n",
      "[codecarbon INFO @ 10:34:57] Energy consumed for RAM : 0.000489 kWh. RAM Power : 11.759872913360596 W\n",
      "[codecarbon INFO @ 10:34:57] Energy consumed for all CPUs : 0.001770 kWh. All CPUs Power : 42.5 W\n",
      "[codecarbon INFO @ 10:34:57] 0.002260 kWh of electricity used since the begining.\n",
      "[codecarbon INFO @ 10:35:12] Energy consumed for RAM : 0.000538 kWh. RAM Power : 11.759872913360596 W\n",
      "[codecarbon INFO @ 10:35:12] Energy consumed for all CPUs : 0.001948 kWh. All CPUs Power : 42.5 W\n",
      "[codecarbon INFO @ 10:35:12] 0.002486 kWh of electricity used since the begining.\n",
      "[codecarbon INFO @ 10:35:27] Energy consumed for RAM : 0.000587 kWh. RAM Power : 11.759872913360596 W\n",
      "[codecarbon INFO @ 10:35:27] Energy consumed for all CPUs : 0.002124 kWh. All CPUs Power : 42.5 W\n",
      "[codecarbon INFO @ 10:35:27] 0.002712 kWh of electricity used since the begining.\n",
      "[codecarbon INFO @ 10:35:42] Energy consumed for RAM : 0.000636 kWh. RAM Power : 11.759872913360596 W\n",
      "[codecarbon INFO @ 10:35:42] Energy consumed for all CPUs : 0.002302 kWh. All CPUs Power : 42.5 W\n",
      "[codecarbon INFO @ 10:35:42] 0.002938 kWh of electricity used since the begining.\n",
      "[codecarbon INFO @ 10:35:57] Energy consumed for RAM : 0.000685 kWh. RAM Power : 11.759872913360596 W\n",
      "[codecarbon INFO @ 10:35:57] Energy consumed for all CPUs : 0.002479 kWh. All CPUs Power : 42.5 W\n",
      "[codecarbon INFO @ 10:35:57] 0.003164 kWh of electricity used since the begining.\n",
      "[codecarbon INFO @ 10:36:12] Energy consumed for RAM : 0.000734 kWh. RAM Power : 11.759872913360596 W\n",
      "[codecarbon INFO @ 10:36:12] Energy consumed for all CPUs : 0.002656 kWh. All CPUs Power : 42.5 W\n",
      "[codecarbon INFO @ 10:36:12] 0.003390 kWh of electricity used since the begining.\n",
      "[codecarbon INFO @ 10:36:27] Energy consumed for RAM : 0.000783 kWh. RAM Power : 11.759872913360596 W\n",
      "[codecarbon INFO @ 10:36:27] Energy consumed for all CPUs : 0.002833 kWh. All CPUs Power : 42.5 W\n",
      "[codecarbon INFO @ 10:36:27] 0.003616 kWh of electricity used since the begining.\n",
      "[codecarbon INFO @ 10:36:42] Energy consumed for RAM : 0.000832 kWh. RAM Power : 11.759872913360596 W\n",
      "[codecarbon INFO @ 10:36:42] Energy consumed for all CPUs : 0.003010 kWh. All CPUs Power : 42.5 W\n",
      "[codecarbon INFO @ 10:36:42] 0.003842 kWh of electricity used since the begining.\n",
      "[codecarbon INFO @ 10:36:57] Energy consumed for RAM : 0.000881 kWh. RAM Power : 11.759872913360596 W\n",
      "[codecarbon INFO @ 10:36:57] Energy consumed for all CPUs : 0.003187 kWh. All CPUs Power : 42.5 W\n",
      "[codecarbon INFO @ 10:36:57] 0.004068 kWh of electricity used since the begining.\n",
      "[codecarbon INFO @ 10:37:12] Energy consumed for RAM : 0.000930 kWh. RAM Power : 11.759872913360596 W\n",
      "[codecarbon INFO @ 10:37:12] Energy consumed for all CPUs : 0.003364 kWh. All CPUs Power : 42.5 W\n",
      "[codecarbon INFO @ 10:37:12] 0.004294 kWh of electricity used since the begining.\n",
      "[codecarbon INFO @ 10:37:27] Energy consumed for RAM : 0.000979 kWh. RAM Power : 11.759872913360596 W\n",
      "[codecarbon INFO @ 10:37:27] Energy consumed for all CPUs : 0.003541 kWh. All CPUs Power : 42.5 W\n",
      "[codecarbon INFO @ 10:37:27] 0.004520 kWh of electricity used since the begining.\n",
      "[codecarbon INFO @ 10:37:42] Energy consumed for RAM : 0.001028 kWh. RAM Power : 11.759872913360596 W\n",
      "[codecarbon INFO @ 10:37:42] Energy consumed for all CPUs : 0.003718 kWh. All CPUs Power : 42.5 W\n",
      "[codecarbon INFO @ 10:37:42] 0.004746 kWh of electricity used since the begining.\n",
      "[codecarbon INFO @ 10:37:57] Energy consumed for RAM : 0.001077 kWh. RAM Power : 11.759872913360596 W\n",
      "[codecarbon INFO @ 10:37:57] Energy consumed for all CPUs : 0.003895 kWh. All CPUs Power : 42.5 W\n",
      "[codecarbon INFO @ 10:37:57] 0.004972 kWh of electricity used since the begining.\n",
      "[codecarbon INFO @ 10:38:12] Energy consumed for RAM : 0.001126 kWh. RAM Power : 11.759872913360596 W\n",
      "[codecarbon INFO @ 10:38:12] Energy consumed for all CPUs : 0.004072 kWh. All CPUs Power : 42.5 W\n",
      "[codecarbon INFO @ 10:38:12] 0.005198 kWh of electricity used since the begining.\n",
      "[codecarbon INFO @ 10:38:27] Energy consumed for RAM : 0.001175 kWh. RAM Power : 11.759872913360596 W\n",
      "[codecarbon INFO @ 10:38:27] Energy consumed for all CPUs : 0.004249 kWh. All CPUs Power : 42.5 W\n",
      "[codecarbon INFO @ 10:38:27] 0.005424 kWh of electricity used since the begining.\n",
      "[codecarbon INFO @ 10:38:42] Energy consumed for RAM : 0.001224 kWh. RAM Power : 11.759872913360596 W\n",
      "[codecarbon INFO @ 10:38:42] Energy consumed for all CPUs : 0.004426 kWh. All CPUs Power : 42.5 W\n",
      "[codecarbon INFO @ 10:38:42] 0.005650 kWh of electricity used since the begining.\n",
      "[codecarbon INFO @ 10:38:57] Energy consumed for RAM : 0.001273 kWh. RAM Power : 11.759872913360596 W\n",
      "[codecarbon INFO @ 10:38:57] Energy consumed for all CPUs : 0.004603 kWh. All CPUs Power : 42.5 W\n",
      "[codecarbon INFO @ 10:38:57] 0.005876 kWh of electricity used since the begining.\n",
      "[codecarbon INFO @ 10:39:12] Energy consumed for RAM : 0.001322 kWh. RAM Power : 11.759872913360596 W\n",
      "[codecarbon INFO @ 10:39:12] Energy consumed for all CPUs : 0.004780 kWh. All CPUs Power : 42.5 W\n",
      "[codecarbon INFO @ 10:39:12] 0.006102 kWh of electricity used since the begining.\n",
      "[codecarbon INFO @ 10:39:27] Energy consumed for RAM : 0.001371 kWh. RAM Power : 11.759872913360596 W\n",
      "[codecarbon INFO @ 10:39:27] Energy consumed for all CPUs : 0.004958 kWh. All CPUs Power : 42.5 W\n",
      "[codecarbon INFO @ 10:39:27] 0.006328 kWh of electricity used since the begining.\n",
      "[codecarbon INFO @ 10:39:42] Energy consumed for RAM : 0.001420 kWh. RAM Power : 11.759872913360596 W\n",
      "[codecarbon INFO @ 10:39:42] Energy consumed for all CPUs : 0.005135 kWh. All CPUs Power : 42.5 W\n",
      "[codecarbon INFO @ 10:39:42] 0.006555 kWh of electricity used since the begining.\n",
      "[codecarbon INFO @ 10:39:57] Energy consumed for RAM : 0.001469 kWh. RAM Power : 11.759872913360596 W\n",
      "[codecarbon INFO @ 10:39:57] Energy consumed for all CPUs : 0.005312 kWh. All CPUs Power : 42.5 W\n",
      "[codecarbon INFO @ 10:39:57] 0.006780 kWh of electricity used since the begining.\n",
      "[codecarbon INFO @ 10:40:12] Energy consumed for RAM : 0.001518 kWh. RAM Power : 11.759872913360596 W\n",
      "[codecarbon INFO @ 10:40:12] Energy consumed for all CPUs : 0.005489 kWh. All CPUs Power : 42.5 W\n",
      "[codecarbon INFO @ 10:40:12] 0.007007 kWh of electricity used since the begining.\n",
      "[codecarbon INFO @ 10:40:27] Energy consumed for RAM : 0.001567 kWh. RAM Power : 11.759872913360596 W\n"
     ]
    },
    {
     "name": "stderr",
     "output_type": "stream",
     "text": [
      "[codecarbon INFO @ 10:40:27] Energy consumed for all CPUs : 0.005666 kWh. All CPUs Power : 42.5 W\n",
      "[codecarbon INFO @ 10:40:27] 0.007232 kWh of electricity used since the begining.\n",
      "[codecarbon INFO @ 10:40:42] Energy consumed for RAM : 0.001616 kWh. RAM Power : 11.759872913360596 W\n",
      "[codecarbon INFO @ 10:40:42] Energy consumed for all CPUs : 0.005843 kWh. All CPUs Power : 42.5 W\n",
      "[codecarbon INFO @ 10:40:42] 0.007459 kWh of electricity used since the begining.\n",
      "[codecarbon INFO @ 10:40:57] Energy consumed for RAM : 0.001665 kWh. RAM Power : 11.759872913360596 W\n",
      "[codecarbon INFO @ 10:40:57] Energy consumed for all CPUs : 0.006020 kWh. All CPUs Power : 42.5 W\n",
      "[codecarbon INFO @ 10:40:57] 0.007685 kWh of electricity used since the begining.\n",
      "[codecarbon INFO @ 10:41:12] Energy consumed for RAM : 0.001714 kWh. RAM Power : 11.759872913360596 W\n",
      "[codecarbon INFO @ 10:41:12] Energy consumed for all CPUs : 0.006197 kWh. All CPUs Power : 42.5 W\n",
      "[codecarbon INFO @ 10:41:12] 0.007910 kWh of electricity used since the begining.\n",
      "[codecarbon INFO @ 10:41:27] Energy consumed for RAM : 0.001763 kWh. RAM Power : 11.759872913360596 W\n",
      "[codecarbon INFO @ 10:41:27] Energy consumed for all CPUs : 0.006374 kWh. All CPUs Power : 42.5 W\n",
      "[codecarbon INFO @ 10:41:27] 0.008136 kWh of electricity used since the begining.\n",
      "[codecarbon INFO @ 10:41:42] Energy consumed for RAM : 0.001812 kWh. RAM Power : 11.759872913360596 W\n",
      "[codecarbon INFO @ 10:41:42] Energy consumed for all CPUs : 0.006551 kWh. All CPUs Power : 42.5 W\n",
      "[codecarbon INFO @ 10:41:42] 0.008363 kWh of electricity used since the begining.\n",
      "[codecarbon INFO @ 10:41:57] Energy consumed for RAM : 0.001861 kWh. RAM Power : 11.759872913360596 W\n",
      "[codecarbon INFO @ 10:41:57] Energy consumed for all CPUs : 0.006728 kWh. All CPUs Power : 42.5 W\n",
      "[codecarbon INFO @ 10:41:57] 0.008589 kWh of electricity used since the begining.\n",
      "[codecarbon INFO @ 10:42:12] Energy consumed for RAM : 0.001910 kWh. RAM Power : 11.759872913360596 W\n",
      "[codecarbon INFO @ 10:42:12] Energy consumed for all CPUs : 0.006905 kWh. All CPUs Power : 42.5 W\n",
      "[codecarbon INFO @ 10:42:12] 0.008815 kWh of electricity used since the begining.\n",
      "[codecarbon INFO @ 10:42:27] Energy consumed for RAM : 0.001958 kWh. RAM Power : 11.759872913360596 W\n",
      "[codecarbon INFO @ 10:42:27] Energy consumed for all CPUs : 0.007082 kWh. All CPUs Power : 42.5 W\n",
      "[codecarbon INFO @ 10:42:27] 0.009041 kWh of electricity used since the begining.\n",
      "[codecarbon INFO @ 10:42:42] Energy consumed for RAM : 0.002007 kWh. RAM Power : 11.759872913360596 W\n",
      "[codecarbon INFO @ 10:42:42] Energy consumed for all CPUs : 0.007259 kWh. All CPUs Power : 42.5 W\n",
      "[codecarbon INFO @ 10:42:42] 0.009267 kWh of electricity used since the begining.\n",
      "[codecarbon INFO @ 10:42:57] Energy consumed for RAM : 0.002056 kWh. RAM Power : 11.759872913360596 W\n",
      "[codecarbon INFO @ 10:42:57] Energy consumed for all CPUs : 0.007436 kWh. All CPUs Power : 42.5 W\n",
      "[codecarbon INFO @ 10:42:57] 0.009493 kWh of electricity used since the begining.\n",
      "[codecarbon INFO @ 10:43:12] Energy consumed for RAM : 0.002105 kWh. RAM Power : 11.759872913360596 W\n",
      "[codecarbon INFO @ 10:43:12] Energy consumed for all CPUs : 0.007613 kWh. All CPUs Power : 42.5 W\n",
      "[codecarbon INFO @ 10:43:12] 0.009719 kWh of electricity used since the begining.\n",
      "[codecarbon INFO @ 10:43:27] Energy consumed for RAM : 0.002154 kWh. RAM Power : 11.759872913360596 W\n",
      "[codecarbon INFO @ 10:43:27] Energy consumed for all CPUs : 0.007790 kWh. All CPUs Power : 42.5 W\n",
      "[codecarbon INFO @ 10:43:27] 0.009945 kWh of electricity used since the begining.\n",
      "[codecarbon INFO @ 10:43:42] Energy consumed for RAM : 0.002203 kWh. RAM Power : 11.759872913360596 W\n",
      "[codecarbon INFO @ 10:43:42] Energy consumed for all CPUs : 0.007967 kWh. All CPUs Power : 42.5 W\n",
      "[codecarbon INFO @ 10:43:42] 0.010171 kWh of electricity used since the begining.\n",
      "[codecarbon INFO @ 10:43:57] Energy consumed for RAM : 0.002252 kWh. RAM Power : 11.759872913360596 W\n",
      "[codecarbon INFO @ 10:43:57] Energy consumed for all CPUs : 0.008144 kWh. All CPUs Power : 42.5 W\n",
      "[codecarbon INFO @ 10:43:57] 0.010397 kWh of electricity used since the begining.\n",
      "[codecarbon INFO @ 10:44:12] Energy consumed for RAM : 0.002301 kWh. RAM Power : 11.759872913360596 W\n",
      "[codecarbon INFO @ 10:44:12] Energy consumed for all CPUs : 0.008322 kWh. All CPUs Power : 42.5 W\n",
      "[codecarbon INFO @ 10:44:12] 0.010623 kWh of electricity used since the begining.\n",
      "[codecarbon INFO @ 10:44:27] Energy consumed for RAM : 0.002350 kWh. RAM Power : 11.759872913360596 W\n",
      "[codecarbon INFO @ 10:44:27] Energy consumed for all CPUs : 0.008499 kWh. All CPUs Power : 42.5 W\n",
      "[codecarbon INFO @ 10:44:27] 0.010849 kWh of electricity used since the begining.\n",
      "[codecarbon INFO @ 10:44:42] Energy consumed for RAM : 0.002399 kWh. RAM Power : 11.759872913360596 W\n",
      "[codecarbon INFO @ 10:44:42] Energy consumed for all CPUs : 0.008676 kWh. All CPUs Power : 42.5 W\n",
      "[codecarbon INFO @ 10:44:42] 0.011075 kWh of electricity used since the begining.\n",
      "[codecarbon INFO @ 10:44:57] Energy consumed for RAM : 0.002448 kWh. RAM Power : 11.759872913360596 W\n",
      "[codecarbon INFO @ 10:44:57] Energy consumed for all CPUs : 0.008853 kWh. All CPUs Power : 42.5 W\n",
      "[codecarbon INFO @ 10:44:57] 0.011301 kWh of electricity used since the begining.\n",
      "[codecarbon INFO @ 10:45:12] Energy consumed for RAM : 0.002497 kWh. RAM Power : 11.759872913360596 W\n",
      "[codecarbon INFO @ 10:45:12] Energy consumed for all CPUs : 0.009030 kWh. All CPUs Power : 42.5 W\n",
      "[codecarbon INFO @ 10:45:12] 0.011527 kWh of electricity used since the begining.\n",
      "[codecarbon INFO @ 10:45:27] Energy consumed for RAM : 0.002546 kWh. RAM Power : 11.759872913360596 W\n",
      "[codecarbon INFO @ 10:45:27] Energy consumed for all CPUs : 0.009207 kWh. All CPUs Power : 42.5 W\n",
      "[codecarbon INFO @ 10:45:27] 0.011753 kWh of electricity used since the begining.\n",
      "[codecarbon INFO @ 10:45:42] Energy consumed for RAM : 0.002595 kWh. RAM Power : 11.759872913360596 W\n",
      "[codecarbon INFO @ 10:45:42] Energy consumed for all CPUs : 0.009384 kWh. All CPUs Power : 42.5 W\n",
      "[codecarbon INFO @ 10:45:42] 0.011979 kWh of electricity used since the begining.\n",
      "[codecarbon INFO @ 10:45:57] Energy consumed for RAM : 0.002644 kWh. RAM Power : 11.759872913360596 W\n",
      "[codecarbon INFO @ 10:45:57] Energy consumed for all CPUs : 0.009561 kWh. All CPUs Power : 42.5 W\n",
      "[codecarbon INFO @ 10:45:57] 0.012205 kWh of electricity used since the begining.\n",
      "[codecarbon INFO @ 10:46:12] Energy consumed for RAM : 0.002693 kWh. RAM Power : 11.759872913360596 W\n",
      "[codecarbon INFO @ 10:46:12] Energy consumed for all CPUs : 0.009738 kWh. All CPUs Power : 42.5 W\n",
      "[codecarbon INFO @ 10:46:12] 0.012431 kWh of electricity used since the begining.\n",
      "[codecarbon INFO @ 10:46:27] Energy consumed for RAM : 0.002742 kWh. RAM Power : 11.759872913360596 W\n",
      "[codecarbon INFO @ 10:46:27] Energy consumed for all CPUs : 0.009915 kWh. All CPUs Power : 42.5 W\n",
      "[codecarbon INFO @ 10:46:27] 0.012657 kWh of electricity used since the begining.\n",
      "[codecarbon INFO @ 10:46:42] Energy consumed for RAM : 0.002791 kWh. RAM Power : 11.759872913360596 W\n",
      "[codecarbon INFO @ 10:46:42] Energy consumed for all CPUs : 0.010092 kWh. All CPUs Power : 42.5 W\n",
      "[codecarbon INFO @ 10:46:42] 0.012883 kWh of electricity used since the begining.\n",
      "[codecarbon INFO @ 10:46:57] Energy consumed for RAM : 0.002840 kWh. RAM Power : 11.759872913360596 W\n",
      "[codecarbon INFO @ 10:46:57] Energy consumed for all CPUs : 0.010269 kWh. All CPUs Power : 42.5 W\n",
      "[codecarbon INFO @ 10:46:57] 0.013109 kWh of electricity used since the begining.\n",
      "[codecarbon INFO @ 10:47:12] Energy consumed for RAM : 0.002889 kWh. RAM Power : 11.759872913360596 W\n",
      "[codecarbon INFO @ 10:47:12] Energy consumed for all CPUs : 0.010446 kWh. All CPUs Power : 42.5 W\n",
      "[codecarbon INFO @ 10:47:12] 0.013335 kWh of electricity used since the begining.\n",
      "[codecarbon INFO @ 10:47:27] Energy consumed for RAM : 0.002938 kWh. RAM Power : 11.759872913360596 W\n",
      "[codecarbon INFO @ 10:47:27] Energy consumed for all CPUs : 0.010623 kWh. All CPUs Power : 42.5 W\n",
      "[codecarbon INFO @ 10:47:27] 0.013561 kWh of electricity used since the begining.\n",
      "[codecarbon INFO @ 10:47:42] Energy consumed for RAM : 0.002987 kWh. RAM Power : 11.759872913360596 W\n",
      "[codecarbon INFO @ 10:47:42] Energy consumed for all CPUs : 0.010801 kWh. All CPUs Power : 42.5 W\n"
     ]
    },
    {
     "name": "stderr",
     "output_type": "stream",
     "text": [
      "[codecarbon INFO @ 10:47:42] 0.013787 kWh of electricity used since the begining.\n",
      "[codecarbon INFO @ 10:47:57] Energy consumed for RAM : 0.003036 kWh. RAM Power : 11.759872913360596 W\n",
      "[codecarbon INFO @ 10:47:57] Energy consumed for all CPUs : 0.010978 kWh. All CPUs Power : 42.5 W\n",
      "[codecarbon INFO @ 10:47:57] 0.014013 kWh of electricity used since the begining.\n",
      "[codecarbon INFO @ 10:48:12] Energy consumed for RAM : 0.003085 kWh. RAM Power : 11.759872913360596 W\n",
      "[codecarbon INFO @ 10:48:12] Energy consumed for all CPUs : 0.011155 kWh. All CPUs Power : 42.5 W\n",
      "[codecarbon INFO @ 10:48:12] 0.014239 kWh of electricity used since the begining.\n",
      "[codecarbon INFO @ 10:48:27] Energy consumed for RAM : 0.003134 kWh. RAM Power : 11.759872913360596 W\n",
      "[codecarbon INFO @ 10:48:27] Energy consumed for all CPUs : 0.011332 kWh. All CPUs Power : 42.5 W\n",
      "[codecarbon INFO @ 10:48:27] 0.014466 kWh of electricity used since the begining.\n",
      "[codecarbon INFO @ 10:48:42] Energy consumed for RAM : 0.003183 kWh. RAM Power : 11.759872913360596 W\n",
      "[codecarbon INFO @ 10:48:42] Energy consumed for all CPUs : 0.011509 kWh. All CPUs Power : 42.5 W\n",
      "[codecarbon INFO @ 10:48:42] 0.014692 kWh of electricity used since the begining.\n",
      "[codecarbon INFO @ 10:48:57] Energy consumed for RAM : 0.003232 kWh. RAM Power : 11.759872913360596 W\n",
      "[codecarbon INFO @ 10:48:57] Energy consumed for all CPUs : 0.011686 kWh. All CPUs Power : 42.5 W\n",
      "[codecarbon INFO @ 10:48:57] 0.014918 kWh of electricity used since the begining.\n",
      "[codecarbon INFO @ 10:49:12] Energy consumed for RAM : 0.003281 kWh. RAM Power : 11.759872913360596 W\n",
      "[codecarbon INFO @ 10:49:12] Energy consumed for all CPUs : 0.011863 kWh. All CPUs Power : 42.5 W\n",
      "[codecarbon INFO @ 10:49:12] 0.015144 kWh of electricity used since the begining.\n",
      "[codecarbon INFO @ 10:49:27] Energy consumed for RAM : 0.003330 kWh. RAM Power : 11.759872913360596 W\n",
      "[codecarbon INFO @ 10:49:27] Energy consumed for all CPUs : 0.012040 kWh. All CPUs Power : 42.5 W\n",
      "[codecarbon INFO @ 10:49:27] 0.015369 kWh of electricity used since the begining.\n",
      "[codecarbon INFO @ 10:49:42] Energy consumed for RAM : 0.003379 kWh. RAM Power : 11.759872913360596 W\n",
      "[codecarbon INFO @ 10:49:42] Energy consumed for all CPUs : 0.012217 kWh. All CPUs Power : 42.5 W\n",
      "[codecarbon INFO @ 10:49:42] 0.015595 kWh of electricity used since the begining.\n",
      "[codecarbon INFO @ 10:49:57] Energy consumed for RAM : 0.003427 kWh. RAM Power : 11.759872913360596 W\n",
      "[codecarbon INFO @ 10:49:57] Energy consumed for all CPUs : 0.012394 kWh. All CPUs Power : 42.5 W\n",
      "[codecarbon INFO @ 10:49:57] 0.015822 kWh of electricity used since the begining.\n"
     ]
    }
   ],
   "source": [
    "rps = []\n",
    "ndcgs = []\n",
    "for pid in unique_playlistid:\n",
    "    ps = cos_similar_songs_playlist(train_cos_matrix, pid, nholdout(pid, val_test)*15)\n",
    "    vs = val_test[val_test.pid == pid].track_uri\n",
    "    rps.append(r_precision(ps, vs))\n",
    "    \n",
    "    r = np.zeros(len(ps))\n",
    "    for i, p in enumerate(ps):\n",
    "        if np.any(vs.isin([p])):\n",
    "            r[i] = 1\n",
    "    ndcgs.append(ndcg_at_k(r, len(r)))"
   ]
  },
  {
   "cell_type": "code",
   "execution_count": 24,
   "id": "73a593da",
   "metadata": {},
   "outputs": [
    {
     "name": "stdout",
     "output_type": "stream",
     "text": [
      "Avg. R-Precision:  0.014743534218295473\n",
      "Avg. NDCG:  0.009316787007303994\n",
      "Total Sum:  0.012030160612799733\n"
     ]
    },
    {
     "name": "stderr",
     "output_type": "stream",
     "text": [
      "[codecarbon INFO @ 10:50:12] Energy consumed for RAM : 0.003476 kWh. RAM Power : 11.759872913360596 W\n",
      "[codecarbon INFO @ 10:50:12] Energy consumed for all CPUs : 0.012571 kWh. All CPUs Power : 42.5 W\n",
      "[codecarbon INFO @ 10:50:12] 0.016047 kWh of electricity used since the begining.\n",
      "[codecarbon INFO @ 10:50:27] Energy consumed for RAM : 0.003525 kWh. RAM Power : 11.759872913360596 W\n",
      "[codecarbon INFO @ 10:50:27] Energy consumed for all CPUs : 0.012748 kWh. All CPUs Power : 42.5 W\n",
      "[codecarbon INFO @ 10:50:27] 0.016273 kWh of electricity used since the begining.\n",
      "[codecarbon INFO @ 10:50:42] Energy consumed for RAM : 0.003574 kWh. RAM Power : 11.759872913360596 W\n",
      "[codecarbon INFO @ 10:50:42] Energy consumed for all CPUs : 0.012925 kWh. All CPUs Power : 42.5 W\n",
      "[codecarbon INFO @ 10:50:42] 0.016499 kWh of electricity used since the begining.\n",
      "[codecarbon INFO @ 10:50:57] Energy consumed for RAM : 0.003623 kWh. RAM Power : 11.759872913360596 W\n",
      "[codecarbon INFO @ 10:50:57] Energy consumed for all CPUs : 0.013102 kWh. All CPUs Power : 42.5 W\n",
      "[codecarbon INFO @ 10:50:57] 0.016725 kWh of electricity used since the begining.\n",
      "[codecarbon INFO @ 10:51:12] Energy consumed for RAM : 0.003672 kWh. RAM Power : 11.759872913360596 W\n",
      "[codecarbon INFO @ 10:51:12] Energy consumed for all CPUs : 0.013279 kWh. All CPUs Power : 42.5 W\n",
      "[codecarbon INFO @ 10:51:12] 0.016951 kWh of electricity used since the begining.\n",
      "[codecarbon INFO @ 10:51:27] Energy consumed for RAM : 0.003721 kWh. RAM Power : 11.759872913360596 W\n",
      "[codecarbon INFO @ 10:51:27] Energy consumed for all CPUs : 0.013456 kWh. All CPUs Power : 42.5 W\n",
      "[codecarbon INFO @ 10:51:27] 0.017177 kWh of electricity used since the begining.\n"
     ]
    }
   ],
   "source": [
    "avg_rp = np.mean(rps)\n",
    "avg_ndcg = np.mean(ndcgs)\n",
    "\n",
    "print('Avg. R-Precision: ', avg_rp)\n",
    "print('Avg. NDCG: ', avg_ndcg)\n",
    "\n",
    "print('Total Sum: ', np.mean([avg_rp, avg_ndcg]))"
   ]
  },
  {
   "cell_type": "code",
   "execution_count": 25,
   "id": "84f4028d",
   "metadata": {},
   "outputs": [
    {
     "name": "stderr",
     "output_type": "stream",
     "text": [
      "[codecarbon INFO @ 10:51:33] Energy consumed for RAM : 0.003741 kWh. RAM Power : 11.759872913360596 W\n",
      "[codecarbon INFO @ 10:51:33] Energy consumed for all CPUs : 0.013528 kWh. All CPUs Power : 42.5 W\n",
      "[codecarbon INFO @ 10:51:33] 0.017270 kWh of electricity used since the begining.\n",
      "\u001b[1;38;5;39mCOMET INFO:\u001b[0m ---------------------------------------------------------------------------------------\n",
      "\u001b[1;38;5;39mCOMET INFO:\u001b[0m Comet.ml Experiment Summary\n",
      "\u001b[1;38;5;39mCOMET INFO:\u001b[0m ---------------------------------------------------------------------------------------\n",
      "\u001b[1;38;5;39mCOMET INFO:\u001b[0m   Data:\n",
      "\u001b[1;38;5;39mCOMET INFO:\u001b[0m     display_summary_level : 1\n",
      "\u001b[1;38;5;39mCOMET INFO:\u001b[0m     url                   : https://www.comet.com/sadcor/general/5622a3b3bb6c480ea7723921d984d727\n",
      "\u001b[1;38;5;39mCOMET INFO:\u001b[0m   Parameters:\n",
      "\u001b[1;38;5;39mCOMET INFO:\u001b[0m     norm         : l2\n",
      "\u001b[1;38;5;39mCOMET INFO:\u001b[0m     smooth_idf   : True\n",
      "\u001b[1;38;5;39mCOMET INFO:\u001b[0m     sublinear_tf : False\n",
      "\u001b[1;38;5;39mCOMET INFO:\u001b[0m     use_idf      : True\n",
      "\u001b[1;38;5;39mCOMET INFO:\u001b[0m   Uploads:\n",
      "\u001b[1;38;5;39mCOMET INFO:\u001b[0m     asset               : 1 (701 bytes)\n",
      "\u001b[1;38;5;39mCOMET INFO:\u001b[0m     environment details : 1\n",
      "\u001b[1;38;5;39mCOMET INFO:\u001b[0m     filename            : 1\n",
      "\u001b[1;38;5;39mCOMET INFO:\u001b[0m     installed packages  : 1\n",
      "\u001b[1;38;5;39mCOMET INFO:\u001b[0m     notebook            : 1\n",
      "\u001b[1;38;5;39mCOMET INFO:\u001b[0m     os packages         : 1\n",
      "\u001b[1;38;5;39mCOMET INFO:\u001b[0m     source_code         : 1\n",
      "\u001b[1;38;5;39mCOMET INFO:\u001b[0m \n",
      "\u001b[1;38;5;39mCOMET INFO:\u001b[0m Please wait for metadata to finish uploading (timeout is 3600 seconds)\n"
     ]
    }
   ],
   "source": [
    "experiment.end()"
   ]
  },
  {
   "cell_type": "code",
   "execution_count": null,
   "id": "5f515924",
   "metadata": {},
   "outputs": [],
   "source": []
  }
 ],
 "metadata": {
  "kernelspec": {
   "display_name": "Python 3 (ipykernel)",
   "language": "python",
   "name": "python3"
  },
  "language_info": {
   "codemirror_mode": {
    "name": "ipython",
    "version": 3
   },
   "file_extension": ".py",
   "mimetype": "text/x-python",
   "name": "python",
   "nbconvert_exporter": "python",
   "pygments_lexer": "ipython3",
   "version": "3.8.10"
  }
 },
 "nbformat": 4,
 "nbformat_minor": 5
}
