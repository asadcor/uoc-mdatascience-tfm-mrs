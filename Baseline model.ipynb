{
 "cells": [
  {
   "cell_type": "markdown",
   "id": "9317a15c",
   "metadata": {},
   "source": [
    "## Baseline Model"
   ]
  },
  {
   "cell_type": "code",
   "execution_count": 64,
   "id": "c3b0e5cc",
   "metadata": {},
   "outputs": [],
   "source": [
    "from sklearn.model_selection import train_test_split\n",
    "from sklearn.neighbors import NearestNeighbors\n",
    "from scipy.sparse import csr_matrix\n",
    "\n",
    "from tqdm import tqdm\n",
    "\n",
    "import csv\n",
    "import numpy as np\n",
    "import pandas as pd\n",
    "from collections import Counter"
   ]
  },
  {
   "cell_type": "code",
   "execution_count": 216,
   "id": "589a5107",
   "metadata": {},
   "outputs": [
    {
     "name": "stderr",
     "output_type": "stream",
     "text": [
      "[codecarbon INFO @ 11:45:31] Energy consumed for RAM : 0.004751 kWh. RAM Power : 11.759872913360596 W\n",
      "[codecarbon INFO @ 11:45:31] Energy consumed for all CPUs : 0.017174 kWh. All CPUs Power : 42.5 W\n",
      "[codecarbon INFO @ 11:45:31] 0.021925 kWh of electricity used since the begining.\n"
     ]
    }
   ],
   "source": [
    "import seaborn as sns"
   ]
  },
  {
   "cell_type": "code",
   "execution_count": 166,
   "id": "f2dadfa5",
   "metadata": {},
   "outputs": [
    {
     "name": "stderr",
     "output_type": "stream",
     "text": [
      "\u001b[1;38;5;214mCOMET WARNING:\u001b[0m To get all data logged automatically, import comet_ml before the following modules: sklearn.\n",
      "[codecarbon INFO @ 11:21:09] Energy consumed for RAM : 0.000616 kWh. RAM Power : 11.759872913360596 W\n",
      "[codecarbon INFO @ 11:21:09] Energy consumed for all CPUs : 0.002225 kWh. All CPUs Power : 42.5 W\n",
      "[codecarbon INFO @ 11:21:09] 0.002841 kWh of electricity used since the begining.\n",
      "\u001b[1;38;5;39mCOMET INFO:\u001b[0m ---------------------------------------------------------------------------------------\n",
      "\u001b[1;38;5;39mCOMET INFO:\u001b[0m Comet.ml Experiment Summary\n",
      "\u001b[1;38;5;39mCOMET INFO:\u001b[0m ---------------------------------------------------------------------------------------\n",
      "\u001b[1;38;5;39mCOMET INFO:\u001b[0m   Data:\n",
      "\u001b[1;38;5;39mCOMET INFO:\u001b[0m     display_summary_level : 1\n",
      "\u001b[1;38;5;39mCOMET INFO:\u001b[0m     url                   : https://www.comet.com/sadcor/general/b944fe03b5b1439f8ec7ed1510b943fc\n",
      "\u001b[1;38;5;39mCOMET INFO:\u001b[0m   Uploads:\n",
      "\u001b[1;38;5;39mCOMET INFO:\u001b[0m     asset               : 1 (694 bytes)\n",
      "\u001b[1;38;5;39mCOMET INFO:\u001b[0m     environment details : 1\n",
      "\u001b[1;38;5;39mCOMET INFO:\u001b[0m     filename            : 1\n",
      "\u001b[1;38;5;39mCOMET INFO:\u001b[0m     installed packages  : 1\n",
      "\u001b[1;38;5;39mCOMET INFO:\u001b[0m     notebook            : 1\n",
      "\u001b[1;38;5;39mCOMET INFO:\u001b[0m     os packages         : 1\n",
      "\u001b[1;38;5;39mCOMET INFO:\u001b[0m     source_code         : 1\n",
      "\u001b[1;38;5;39mCOMET INFO:\u001b[0m \n",
      "\u001b[1;38;5;214mCOMET WARNING:\u001b[0m To get all data logged automatically, import comet_ml before the following modules: sklearn.\n",
      "\u001b[1;38;5;214mCOMET WARNING:\u001b[0m As you are running in a Jupyter environment, you will need to call `experiment.end()` when finished to ensure all metrics and code are logged before exiting.\n",
      "[codecarbon INFO @ 11:21:11] [setup] RAM Tracking...\n",
      "[codecarbon INFO @ 11:21:11] [setup] GPU Tracking...\n",
      "[codecarbon INFO @ 11:21:11] No GPU found.\n",
      "[codecarbon INFO @ 11:21:11] [setup] CPU Tracking...\n",
      "[codecarbon WARNING @ 11:21:11] No CPU tracking mode found. Falling back on CPU constant mode.\n",
      "[codecarbon WARNING @ 11:21:12] We saw that you have a Intel(R) Xeon(R) CPU E5-2630 v3 @ 2.40GHz but we don't know it. Please contact us.\n",
      "[codecarbon INFO @ 11:21:12] CPU Model on constant consumption mode: Intel(R) Xeon(R) CPU E5-2630 v3 @ 2.40GHz\n",
      "[codecarbon INFO @ 11:21:12] >>> Tracker's metadata:\n",
      "[codecarbon INFO @ 11:21:12]   Platform system: Linux-5.4.0-147-generic-x86_64-with-glibc2.29\n",
      "[codecarbon INFO @ 11:21:12]   Python version: 3.8.10\n",
      "[codecarbon INFO @ 11:21:12]   Available RAM : 31.360 GB\n",
      "[codecarbon INFO @ 11:21:12]   CPU count: 8\n",
      "[codecarbon INFO @ 11:21:12]   CPU model: Intel(R) Xeon(R) CPU E5-2630 v3 @ 2.40GHz\n",
      "[codecarbon INFO @ 11:21:12]   GPU count: None\n",
      "[codecarbon INFO @ 11:21:12]   GPU model: None\n",
      "\u001b[1;38;5;39mCOMET INFO:\u001b[0m Couldn't find a Git repository in '/home/asadcor' nor in any parent directory. Set `COMET_GIT_DIRECTORY` if your Git Repository is elsewhere.\n",
      "\u001b[1;38;5;39mCOMET INFO:\u001b[0m Experiment is live on comet.com https://www.comet.com/sadcor/general/c9719edc2a184ee999e7aef5639b3542\n",
      "\n",
      "[codecarbon INFO @ 11:21:30] Energy consumed for RAM : 0.000049 kWh. RAM Power : 11.759872913360596 W\n",
      "[codecarbon INFO @ 11:21:30] Energy consumed for all CPUs : 0.000177 kWh. All CPUs Power : 42.5 W\n",
      "[codecarbon INFO @ 11:21:30] 0.000226 kWh of electricity used since the begining.\n",
      "[codecarbon INFO @ 11:21:45] Energy consumed for RAM : 0.000098 kWh. RAM Power : 11.759872913360596 W\n",
      "[codecarbon INFO @ 11:21:45] Energy consumed for all CPUs : 0.000354 kWh. All CPUs Power : 42.5 W\n",
      "[codecarbon INFO @ 11:21:45] 0.000452 kWh of electricity used since the begining.\n"
     ]
    }
   ],
   "source": [
    "from comet_ml import Experiment\n",
    "\n",
    "experiment = Experiment(api_key=\"ummagUWZ5eIZzmhPtFkA8oopu\")"
   ]
  },
  {
   "cell_type": "markdown",
   "id": "9098ed11",
   "metadata": {},
   "source": [
    "## Popularity Recommender"
   ]
  },
  {
   "cell_type": "code",
   "execution_count": 66,
   "id": "fcfd2511",
   "metadata": {},
   "outputs": [],
   "source": [
    "playlists_dataset_with_mood = pd.read_csv('working/playlists_dataset_with_mood.csv')"
   ]
  },
  {
   "cell_type": "code",
   "execution_count": 12,
   "id": "1f86df87",
   "metadata": {},
   "outputs": [
    {
     "data": {
      "text/plain": [
       "Index(['pid', 'pos', 'name', 'description', 'modified_at', 'num_tracks',\n",
       "       'num_albums', 'num_followers', 'num_edits', 'artist_name', 'track_name',\n",
       "       'album_name', 'track_uri', 'danceability', 'energy', 'key', 'loudness',\n",
       "       'mode', 'speechiness', 'acousticness', 'instrumentalness', 'liveness',\n",
       "       'valence', 'tempo', 'duration_ms', 'time_signature',\n",
       "       'album_release_date', 'track_popularity', 'track_explicit', 'mood'],\n",
       "      dtype='object')"
      ]
     },
     "execution_count": 12,
     "metadata": {},
     "output_type": "execute_result"
    }
   ],
   "source": [
    "playlists_dataset_with_mood.columns"
   ]
  },
  {
   "cell_type": "code",
   "execution_count": null,
   "id": "4c357821",
   "metadata": {},
   "outputs": [],
   "source": []
  },
  {
   "cell_type": "code",
   "execution_count": 94,
   "id": "6a58187c",
   "metadata": {},
   "outputs": [],
   "source": [
    "pdwm_30k = playlists_dataset_with_mood.sample(n=35237, random_state=12)\n",
    "\n",
    "mask = pdwm_30k['pid'].duplicated(keep=False)\n",
    "pdwm_30k_filtered = pdwm_30k[mask]"
   ]
  },
  {
   "cell_type": "code",
   "execution_count": 254,
   "id": "9283629b",
   "metadata": {},
   "outputs": [
    {
     "data": {
      "text/plain": [
       "(30000, 30)"
      ]
     },
     "execution_count": 254,
     "metadata": {},
     "output_type": "execute_result"
    },
    {
     "name": "stderr",
     "output_type": "stream",
     "text": [
      "[codecarbon INFO @ 12:55:47] Energy consumed for RAM : 0.018513 kWh. RAM Power : 11.759872913360596 W\n",
      "[codecarbon INFO @ 12:55:47] Energy consumed for all CPUs : 0.066929 kWh. All CPUs Power : 42.5 W\n",
      "[codecarbon INFO @ 12:55:47] 0.085442 kWh of electricity used since the begining.\n",
      "[codecarbon INFO @ 12:56:02] Energy consumed for RAM : 0.018562 kWh. RAM Power : 11.759872913360596 W\n",
      "[codecarbon INFO @ 12:56:02] Energy consumed for all CPUs : 0.067106 kWh. All CPUs Power : 42.5 W\n",
      "[codecarbon INFO @ 12:56:02] 0.085668 kWh of electricity used since the begining.\n",
      "[codecarbon INFO @ 12:56:17] Energy consumed for RAM : 0.018611 kWh. RAM Power : 11.759872913360596 W\n",
      "[codecarbon INFO @ 12:56:17] Energy consumed for all CPUs : 0.067284 kWh. All CPUs Power : 42.5 W\n",
      "[codecarbon INFO @ 12:56:17] 0.085894 kWh of electricity used since the begining.\n",
      "[codecarbon INFO @ 12:56:32] Energy consumed for RAM : 0.018660 kWh. RAM Power : 11.759872913360596 W\n",
      "[codecarbon INFO @ 12:56:32] Energy consumed for all CPUs : 0.067461 kWh. All CPUs Power : 42.5 W\n",
      "[codecarbon INFO @ 12:56:32] 0.086120 kWh of electricity used since the begining.\n"
     ]
    }
   ],
   "source": [
    "pdwm_30k_filtered.shape"
   ]
  },
  {
   "cell_type": "code",
   "execution_count": 96,
   "id": "1345288a",
   "metadata": {},
   "outputs": [],
   "source": [
    "# Delete\n",
    "\n",
    "# Primer split: 70% para entrenamiento y 30% para el conjunto validación-testeo\n",
    "# train, val_test = train_test_split(pdwm_30k_filtered, test_size=0.3, shuffle=True, random_state=12, stratify=pdwm_30k_filtered['pid'])\n",
    "# Segundo split: utilizando el conjunto validación-testeo: 15% para val y 15% para test.\n",
    "# val, test = train_test_split(val_test, test_size=0.5, shuffle=True, random_state=12)"
   ]
  },
  {
   "cell_type": "markdown",
   "id": "ff77d76a",
   "metadata": {},
   "source": [
    "The stratify parameter is used to ensure that each subset has approximately the same proportion of unique values in that column as the original dataset."
   ]
  },
  {
   "cell_type": "code",
   "execution_count": null,
   "id": "a1cdcb9e",
   "metadata": {},
   "outputs": [],
   "source": []
  },
  {
   "attachments": {
    "image.png": {
     "image/png": "[encoded data removed]"
    }
   },
   "cell_type": "markdown",
   "id": "6777ae1b",
   "metadata": {},
   "source": [
    "#### Sparse Matrix\n",
    "\n",
    "\"A sparse matrix is a matrix that contains mostly zero values. Storing all of the zero values in a large matrix can be inefficient, so sparse matrices are used to conserve memory and speed up computation.\"\n",
    "\n",
    "![image.png](attachment:image.png)\n",
    "\n",
    "- pd.crosstab (from Pandas library) function is used to create a two-dimensional table that shows the frequency of occurrences of each track in each playlist.\n",
    "- csr_matrix() function (SciPy library) is used to convert the binary matrix to a Compressed Sparse Row (CSR) matrix."
   ]
  },
  {
   "cell_type": "code",
   "execution_count": 255,
   "id": "0f1fe28e",
   "metadata": {},
   "outputs": [
    {
     "name": "stderr",
     "output_type": "stream",
     "text": [
      "[codecarbon INFO @ 12:56:47] Energy consumed for RAM : 0.018709 kWh. RAM Power : 11.759872913360596 W\n",
      "[codecarbon INFO @ 12:56:47] Energy consumed for all CPUs : 0.067638 kWh. All CPUs Power : 42.5 W\n",
      "[codecarbon INFO @ 12:56:47] 0.086347 kWh of electricity used since the begining.\n",
      "[codecarbon INFO @ 12:57:02] Energy consumed for RAM : 0.018758 kWh. RAM Power : 11.759872913360596 W\n",
      "[codecarbon INFO @ 12:57:02] Energy consumed for all CPUs : 0.067815 kWh. All CPUs Power : 42.5 W\n",
      "[codecarbon INFO @ 12:57:02] 0.086572 kWh of electricity used since the begining.\n",
      "[codecarbon INFO @ 12:57:17] Energy consumed for RAM : 0.018807 kWh. RAM Power : 11.759872913360596 W\n",
      "[codecarbon INFO @ 12:57:17] Energy consumed for all CPUs : 0.067992 kWh. All CPUs Power : 42.5 W\n",
      "[codecarbon INFO @ 12:57:17] 0.086799 kWh of electricity used since the begining.\n",
      "[codecarbon INFO @ 12:57:32] Energy consumed for RAM : 0.018856 kWh. RAM Power : 11.759872913360596 W\n",
      "[codecarbon INFO @ 12:57:32] Energy consumed for all CPUs : 0.068169 kWh. All CPUs Power : 42.5 W\n",
      "[codecarbon INFO @ 12:57:32] 0.087025 kWh of electricity used since the begining.\n"
     ]
    }
   ],
   "source": [
    "# Create Binary Sparse Matrix\n",
    "s_matrix = pd.crosstab(pdwm_30k_filtered.pid, pdwm_30k_filtered.track_uri)\n",
    "s_matrix = s_matrix.clip(upper=1)\n",
    "assert np.max(s_matrix.describe().loc['max']) == 1\n",
    "\n",
    "sparse_matrix = csr_matrix(s_matrix)"
   ]
  },
  {
   "cell_type": "code",
   "execution_count": 256,
   "id": "0b8b48a9",
   "metadata": {},
   "outputs": [],
   "source": [
    "# Convert the sparse matrix to a dense matrix\n",
    "dense_matrix = sparse_matrix.toarray()"
   ]
  },
  {
   "cell_type": "code",
   "execution_count": 257,
   "id": "d53596f8",
   "metadata": {},
   "outputs": [
    {
     "name": "stderr",
     "output_type": "stream",
     "text": [
      "[codecarbon INFO @ 12:57:47] Energy consumed for RAM : 0.018905 kWh. RAM Power : 11.759872913360596 W\n",
      "[codecarbon INFO @ 12:57:47] Energy consumed for all CPUs : 0.068346 kWh. All CPUs Power : 42.5 W\n",
      "[codecarbon INFO @ 12:57:47] 0.087251 kWh of electricity used since the begining.\n",
      "[codecarbon INFO @ 12:58:02] Energy consumed for RAM : 0.018954 kWh. RAM Power : 11.759872913360596 W\n",
      "[codecarbon INFO @ 12:58:02] Energy consumed for all CPUs : 0.068523 kWh. All CPUs Power : 42.5 W\n",
      "[codecarbon INFO @ 12:58:02] 0.087477 kWh of electricity used since the begining.\n",
      "[codecarbon INFO @ 12:58:17] Energy consumed for RAM : 0.019003 kWh. RAM Power : 11.759872913360596 W\n",
      "[codecarbon INFO @ 12:58:17] Energy consumed for all CPUs : 0.068700 kWh. All CPUs Power : 42.5 W\n",
      "[codecarbon INFO @ 12:58:17] 0.087703 kWh of electricity used since the begining.\n",
      "[codecarbon INFO @ 12:58:32] Energy consumed for RAM : 0.019051 kWh. RAM Power : 11.759872913360596 W\n",
      "[codecarbon INFO @ 12:58:32] Energy consumed for all CPUs : 0.068877 kWh. All CPUs Power : 42.5 W\n",
      "[codecarbon INFO @ 12:58:32] 0.087929 kWh of electricity used since the begining.\n",
      "[codecarbon INFO @ 12:58:47] Energy consumed for RAM : 0.019100 kWh. RAM Power : 11.759872913360596 W\n",
      "[codecarbon INFO @ 12:58:47] Energy consumed for all CPUs : 0.069054 kWh. All CPUs Power : 42.5 W\n",
      "[codecarbon INFO @ 12:58:47] 0.088154 kWh of electricity used since the begining.\n"
     ]
    }
   ],
   "source": [
    "psparse_matrix = pd.DataFrame(dense_matrix, columns=s_matrix.columns.values)\n",
    "\n",
    "# Save\n",
    "psparse_matrix.to_csv('working/psparse_matrix.csv', index=False)"
   ]
  },
  {
   "cell_type": "markdown",
   "id": "55a7b833",
   "metadata": {},
   "source": [
    "The \"obscure\" concept in this code refers to removing a certain percentage of songs from each playlist in the dataset. The purpose of this is to simulate a scenario where the user has already listened to some of the songs in their playlist and wants to receive recommendations for new songs to listen to. By removing some songs from the playlist, the model can be tested on its ability to recommend songs that the user has not yet heard.\n",
    "\n",
    "In this code, the number of obscured songs is set to 50% of the original playlist. However, this value can be adjusted depending on the specific use case or scenario being modeled. The key idea is to create a realistic scenario where some of the songs in the playlist have already been listened to and the model must recommend new songs that the user is likely to enjoy."
   ]
  },
  {
   "cell_type": "code",
   "execution_count": 258,
   "id": "616d4da2",
   "metadata": {
    "collapsed": true
   },
   "outputs": [
    {
     "name": "stderr",
     "output_type": "stream",
     "text": [
      "Removing half of the song in the playlists:   0%|                                                                                    | 0/8606 [00:00<?, ?it/s]\n"
     ]
    },
    {
     "ename": "KeyError",
     "evalue": "0",
     "output_type": "error",
     "traceback": [
      "\u001b[0;31m---------------------------------------------------------------------------\u001b[0m",
      "\u001b[0;31mKeyError\u001b[0m                                  Traceback (most recent call last)",
      "\u001b[0;32m/usr/local/lib/python3.8/dist-packages/pandas/core/indexes/base.py\u001b[0m in \u001b[0;36mget_loc\u001b[0;34m(self, key, method, tolerance)\u001b[0m\n\u001b[1;32m   3360\u001b[0m             \u001b[0;32mtry\u001b[0m\u001b[0;34m:\u001b[0m\u001b[0;34m\u001b[0m\u001b[0;34m\u001b[0m\u001b[0m\n\u001b[0;32m-> 3361\u001b[0;31m                 \u001b[0;32mreturn\u001b[0m \u001b[0mself\u001b[0m\u001b[0;34m.\u001b[0m\u001b[0m_engine\u001b[0m\u001b[0;34m.\u001b[0m\u001b[0mget_loc\u001b[0m\u001b[0;34m(\u001b[0m\u001b[0mcasted_key\u001b[0m\u001b[0;34m)\u001b[0m\u001b[0;34m\u001b[0m\u001b[0;34m\u001b[0m\u001b[0m\n\u001b[0m\u001b[1;32m   3362\u001b[0m             \u001b[0;32mexcept\u001b[0m \u001b[0mKeyError\u001b[0m \u001b[0;32mas\u001b[0m \u001b[0merr\u001b[0m\u001b[0;34m:\u001b[0m\u001b[0;34m\u001b[0m\u001b[0;34m\u001b[0m\u001b[0m\n",
      "\u001b[0;32m/usr/local/lib/python3.8/dist-packages/pandas/_libs/index.pyx\u001b[0m in \u001b[0;36mpandas._libs.index.IndexEngine.get_loc\u001b[0;34m()\u001b[0m\n",
      "\u001b[0;32m/usr/local/lib/python3.8/dist-packages/pandas/_libs/index.pyx\u001b[0m in \u001b[0;36mpandas._libs.index.IndexEngine.get_loc\u001b[0;34m()\u001b[0m\n",
      "\u001b[0;32mpandas/_libs/hashtable_class_helper.pxi\u001b[0m in \u001b[0;36mpandas._libs.hashtable.PyObjectHashTable.get_item\u001b[0;34m()\u001b[0m\n",
      "\u001b[0;32mpandas/_libs/hashtable_class_helper.pxi\u001b[0m in \u001b[0;36mpandas._libs.hashtable.PyObjectHashTable.get_item\u001b[0;34m()\u001b[0m\n",
      "\u001b[0;31mKeyError\u001b[0m: 0",
      "\nThe above exception was the direct cause of the following exception:\n",
      "\u001b[0;31mKeyError\u001b[0m                                  Traceback (most recent call last)",
      "\u001b[0;32m/tmp/ipykernel_15313/3394527373.py\u001b[0m in \u001b[0;36m<module>\u001b[0;34m\u001b[0m\n\u001b[1;32m      7\u001b[0m \u001b[0;31m# We need to add in the user's seed playlist to this dataset.\u001b[0m\u001b[0;34m\u001b[0m\u001b[0;34m\u001b[0m\u001b[0;34m\u001b[0m\u001b[0m\n\u001b[1;32m      8\u001b[0m \u001b[0;32mfor\u001b[0m \u001b[0mi\u001b[0m \u001b[0;32min\u001b[0m \u001b[0mtqdm\u001b[0m\u001b[0;34m(\u001b[0m\u001b[0mrange\u001b[0m\u001b[0;34m(\u001b[0m\u001b[0mpsparse_matrix\u001b[0m\u001b[0;34m.\u001b[0m\u001b[0mshape\u001b[0m\u001b[0;34m[\u001b[0m\u001b[0;36m0\u001b[0m\u001b[0;34m]\u001b[0m\u001b[0;34m)\u001b[0m\u001b[0;34m,\u001b[0m \u001b[0mdesc\u001b[0m\u001b[0;34m=\u001b[0m\u001b[0;34m\"Removing half of the song in the playlists\"\u001b[0m\u001b[0;34m)\u001b[0m\u001b[0;34m:\u001b[0m\u001b[0;34m\u001b[0m\u001b[0;34m\u001b[0m\u001b[0m\n\u001b[0;32m----> 9\u001b[0;31m     \u001b[0mobs_indices\u001b[0m \u001b[0;34m=\u001b[0m \u001b[0mnp\u001b[0m\u001b[0;34m.\u001b[0m\u001b[0mrandom\u001b[0m\u001b[0;34m.\u001b[0m\u001b[0mchoice\u001b[0m\u001b[0;34m(\u001b[0m\u001b[0mnp\u001b[0m\u001b[0;34m.\u001b[0m\u001b[0mwhere\u001b[0m\u001b[0;34m(\u001b[0m\u001b[0mpsparse_matrix\u001b[0m\u001b[0;34m[\u001b[0m\u001b[0mi\u001b[0m\u001b[0;34m]\u001b[0m \u001b[0;34m==\u001b[0m \u001b[0;36m1\u001b[0m\u001b[0;34m)\u001b[0m\u001b[0;34m[\u001b[0m\u001b[0;36m0\u001b[0m\u001b[0;34m]\u001b[0m\u001b[0;34m,\u001b[0m \u001b[0msize\u001b[0m\u001b[0;34m=\u001b[0m\u001b[0mlen\u001b[0m\u001b[0;34m(\u001b[0m\u001b[0mnp\u001b[0m\u001b[0;34m.\u001b[0m\u001b[0mwhere\u001b[0m\u001b[0;34m(\u001b[0m\u001b[0mpsparse_matrix\u001b[0m\u001b[0;34m[\u001b[0m\u001b[0mi\u001b[0m\u001b[0;34m]\u001b[0m \u001b[0;34m==\u001b[0m \u001b[0;36m1\u001b[0m\u001b[0;34m)\u001b[0m\u001b[0;34m[\u001b[0m\u001b[0;36m0\u001b[0m\u001b[0;34m]\u001b[0m\u001b[0;34m)\u001b[0m\u001b[0;34m//\u001b[0m\u001b[0;36m2\u001b[0m\u001b[0;34m,\u001b[0m \u001b[0mreplace\u001b[0m\u001b[0;34m=\u001b[0m\u001b[0;32mFalse\u001b[0m\u001b[0;34m)\u001b[0m\u001b[0;34m\u001b[0m\u001b[0;34m\u001b[0m\u001b[0m\n\u001b[0m\u001b[1;32m     10\u001b[0m     \u001b[0mdf_obs\u001b[0m\u001b[0;34m.\u001b[0m\u001b[0miloc\u001b[0m\u001b[0;34m[\u001b[0m\u001b[0mi\u001b[0m\u001b[0;34m,\u001b[0m \u001b[0mobs_indices\u001b[0m\u001b[0;34m]\u001b[0m \u001b[0;34m=\u001b[0m \u001b[0;36m0\u001b[0m\u001b[0;34m\u001b[0m\u001b[0;34m\u001b[0m\u001b[0m\n\u001b[1;32m     11\u001b[0m     \u001b[0mn_obscured\u001b[0m\u001b[0;34m.\u001b[0m\u001b[0mappend\u001b[0m\u001b[0;34m(\u001b[0m\u001b[0mlen\u001b[0m\u001b[0;34m(\u001b[0m\u001b[0mobs_indices\u001b[0m\u001b[0;34m)\u001b[0m\u001b[0;34m)\u001b[0m\u001b[0;34m\u001b[0m\u001b[0;34m\u001b[0m\u001b[0m\n",
      "\u001b[0;32m/usr/local/lib/python3.8/dist-packages/pandas/core/frame.py\u001b[0m in \u001b[0;36m__getitem__\u001b[0;34m(self, key)\u001b[0m\n\u001b[1;32m   3453\u001b[0m             \u001b[0;32mif\u001b[0m \u001b[0mself\u001b[0m\u001b[0;34m.\u001b[0m\u001b[0mcolumns\u001b[0m\u001b[0;34m.\u001b[0m\u001b[0mnlevels\u001b[0m \u001b[0;34m>\u001b[0m \u001b[0;36m1\u001b[0m\u001b[0;34m:\u001b[0m\u001b[0;34m\u001b[0m\u001b[0;34m\u001b[0m\u001b[0m\n\u001b[1;32m   3454\u001b[0m                 \u001b[0;32mreturn\u001b[0m \u001b[0mself\u001b[0m\u001b[0;34m.\u001b[0m\u001b[0m_getitem_multilevel\u001b[0m\u001b[0;34m(\u001b[0m\u001b[0mkey\u001b[0m\u001b[0;34m)\u001b[0m\u001b[0;34m\u001b[0m\u001b[0;34m\u001b[0m\u001b[0m\n\u001b[0;32m-> 3455\u001b[0;31m             \u001b[0mindexer\u001b[0m \u001b[0;34m=\u001b[0m \u001b[0mself\u001b[0m\u001b[0;34m.\u001b[0m\u001b[0mcolumns\u001b[0m\u001b[0;34m.\u001b[0m\u001b[0mget_loc\u001b[0m\u001b[0;34m(\u001b[0m\u001b[0mkey\u001b[0m\u001b[0;34m)\u001b[0m\u001b[0;34m\u001b[0m\u001b[0;34m\u001b[0m\u001b[0m\n\u001b[0m\u001b[1;32m   3456\u001b[0m             \u001b[0;32mif\u001b[0m \u001b[0mis_integer\u001b[0m\u001b[0;34m(\u001b[0m\u001b[0mindexer\u001b[0m\u001b[0;34m)\u001b[0m\u001b[0;34m:\u001b[0m\u001b[0;34m\u001b[0m\u001b[0;34m\u001b[0m\u001b[0m\n\u001b[1;32m   3457\u001b[0m                 \u001b[0mindexer\u001b[0m \u001b[0;34m=\u001b[0m \u001b[0;34m[\u001b[0m\u001b[0mindexer\u001b[0m\u001b[0;34m]\u001b[0m\u001b[0;34m\u001b[0m\u001b[0;34m\u001b[0m\u001b[0m\n",
      "\u001b[0;32m/usr/local/lib/python3.8/dist-packages/pandas/core/indexes/base.py\u001b[0m in \u001b[0;36mget_loc\u001b[0;34m(self, key, method, tolerance)\u001b[0m\n\u001b[1;32m   3361\u001b[0m                 \u001b[0;32mreturn\u001b[0m \u001b[0mself\u001b[0m\u001b[0;34m.\u001b[0m\u001b[0m_engine\u001b[0m\u001b[0;34m.\u001b[0m\u001b[0mget_loc\u001b[0m\u001b[0;34m(\u001b[0m\u001b[0mcasted_key\u001b[0m\u001b[0;34m)\u001b[0m\u001b[0;34m\u001b[0m\u001b[0;34m\u001b[0m\u001b[0m\n\u001b[1;32m   3362\u001b[0m             \u001b[0;32mexcept\u001b[0m \u001b[0mKeyError\u001b[0m \u001b[0;32mas\u001b[0m \u001b[0merr\u001b[0m\u001b[0;34m:\u001b[0m\u001b[0;34m\u001b[0m\u001b[0;34m\u001b[0m\u001b[0m\n\u001b[0;32m-> 3363\u001b[0;31m                 \u001b[0;32mraise\u001b[0m \u001b[0mKeyError\u001b[0m\u001b[0;34m(\u001b[0m\u001b[0mkey\u001b[0m\u001b[0;34m)\u001b[0m \u001b[0;32mfrom\u001b[0m \u001b[0merr\u001b[0m\u001b[0;34m\u001b[0m\u001b[0;34m\u001b[0m\u001b[0m\n\u001b[0m\u001b[1;32m   3364\u001b[0m \u001b[0;34m\u001b[0m\u001b[0m\n\u001b[1;32m   3365\u001b[0m         \u001b[0;32mif\u001b[0m \u001b[0mis_scalar\u001b[0m\u001b[0;34m(\u001b[0m\u001b[0mkey\u001b[0m\u001b[0;34m)\u001b[0m \u001b[0;32mand\u001b[0m \u001b[0misna\u001b[0m\u001b[0;34m(\u001b[0m\u001b[0mkey\u001b[0m\u001b[0;34m)\u001b[0m \u001b[0;32mand\u001b[0m \u001b[0;32mnot\u001b[0m \u001b[0mself\u001b[0m\u001b[0;34m.\u001b[0m\u001b[0mhasnans\u001b[0m\u001b[0;34m:\u001b[0m\u001b[0;34m\u001b[0m\u001b[0;34m\u001b[0m\u001b[0m\n",
      "\u001b[0;31mKeyError\u001b[0m: 0"
     ]
    }
   ],
   "source": [
    "# Obscure each playlist in set by removing half the songs\n",
    "indx_obs = []\n",
    "n_obscured = []\n",
    "\n",
    "df_obs = pd.DataFrame.copy(psparse_matrix)\n",
    "\n",
    "# We need to add in the user's seed playlist to this dataset.\n",
    "for i in tqdm(range(psparse_matrix.shape[0]), desc=\"Removing half of the song in the playlists\"):\n",
    "    obs_indices = np.random.choice(np.where(psparse_matrix[i] == 1)[0], size=len(np.where(psparse_matrix[i] == 1)[0])//2, replace=False)\n",
    "    df_obs.iloc[i, obs_indices] = 0\n",
    "    n_obscured.append(len(obs_indices))"
   ]
  },
  {
   "cell_type": "code",
   "execution_count": 259,
   "id": "43188411",
   "metadata": {
    "scrolled": true
   },
   "outputs": [
    {
     "name": "stderr",
     "output_type": "stream",
     "text": [
      "Removing half of the songs in the playlists:  16%|███████████▎                                                           | 1367/8606 [00:04<00:23, 312.33it/s][codecarbon INFO @ 13:01:02] Energy consumed for RAM : 0.019541 kWh. RAM Power : 11.759872913360596 W\n",
      "[codecarbon INFO @ 13:01:02] Energy consumed for all CPUs : 0.070647 kWh. All CPUs Power : 42.5 W\n",
      "[codecarbon INFO @ 13:01:02] 0.090188 kWh of electricity used since the begining.\n",
      "Removing half of the songs in the playlists:  69%|████████████████████████████████████████████████▉                      | 5929/8606 [00:19<00:08, 310.89it/s][codecarbon INFO @ 13:01:17] Energy consumed for RAM : 0.019590 kWh. RAM Power : 11.759872913360596 W\n",
      "[codecarbon INFO @ 13:01:17] Energy consumed for all CPUs : 0.070824 kWh. All CPUs Power : 42.5 W\n",
      "[codecarbon INFO @ 13:01:17] 0.090414 kWh of electricity used since the begining.\n",
      "Removing half of the songs in the playlists: 100%|███████████████████████████████████████████████████████████████████████| 8606/8606 [00:28<00:00, 305.00it/s]\n"
     ]
    }
   ],
   "source": [
    "def remove_songs(l, n):\n",
    "    \"\"\"\n",
    "    Randomly removes a specified percentage of songs from a given list.\n",
    "\n",
    "    Parameters:\n",
    "        l (numpy.ndarray): A binary array representing the list of songs, where 1 indicates a song to keep and 0 indicates a song to remove.\n",
    "        n (float): The percentage of songs to remove, specified as a decimal value between 0 and 1.\n",
    "\n",
    "    Returns:\n",
    "        numpy.ndarray: A new binary array representing the modified list of songs, where 1 indicates a kept song and 0 indicates a removed song.\n",
    "\n",
    "    \"\"\"\n",
    "    hits = np.nonzero(l)[0]\n",
    "    num_keep = int((1-n)*len(hits))\n",
    "    idx_keep = np.random.choice(hits, num_keep, replace=False)\n",
    "    new_array = np.zeros(len(l))\n",
    "    new_array[idx_keep] = 1\n",
    "    return new_array\n",
    "\n",
    "obscured_arr = np.array(psparse_matrix)\n",
    "\n",
    "# Obscure each playlist in set by removing half the songs\n",
    "indx_obs = []\n",
    "n_obscured = []\n",
    "\n",
    "#We need to add in the user's seed playlist to this dataset.\n",
    "for i, playlist in tqdm(enumerate(obscured_arr), total=obscured_arr.shape[0], desc=\"Removing half of the songs in the playlists\"):\n",
    "    obs_indices = remove_songs(playlist, 0.5)\n",
    "    obscured_arr[i] = obs_indices\n",
    "    n_obscured.append(int(sum(obs_indices)))\n",
    "\n",
    "obscured_df = pd.DataFrame(obscured_arr, columns=psparse_matrix.columns, index=psparse_matrix.index)"
   ]
  },
  {
   "cell_type": "code",
   "execution_count": 260,
   "id": "72bb1fcf",
   "metadata": {},
   "outputs": [],
   "source": [
    "def get_titles(song_bools, song_pl_df):\n",
    "    \"\"\"\n",
    "    Retrieves the titles of songs based on a binary array and a song playlist DataFrame.\n",
    "\n",
    "    Parameters:\n",
    "        song_bools (numpy.ndarray): A binary array representing the selection of songs, where 1 indicates a selected song and 0 indicates a non-selected song.\n",
    "        song_pl_df (pandas.DataFrame): A DataFrame representing the song playlist, where each column corresponds to a song.\n",
    "\n",
    "    Returns:\n",
    "        list: A list of song titles corresponding to the selected songs.\n",
    "\n",
    "    \"\"\"\n",
    "    return [list(song_pl_df.columns)[i] for i, x in enumerate(song_bools) if x == 1]\n",
    "\n",
    "def get_song_bool_list(songs, song_pl_df):\n",
    "    \"\"\"\n",
    "    Creates a binary array indicating the selection of songs based on a list of song titles and a song playlist DataFrame.\n",
    "\n",
    "    Parameters:\n",
    "        songs (list): A list of song titles.\n",
    "        song_pl_df (pandas.DataFrame): A DataFrame representing the song playlist, where each column corresponds to a song.\n",
    "\n",
    "    Returns:\n",
    "        numpy.ndarray: A binary array indicating the selection of songs, where 1 indicates a selected song and 0 indicates a non-selected song.\n",
    "    \n",
    "    \"\"\"\n",
    "    seed_play = np.zeros(len(list(song_pl_df.columns)))\n",
    "    song_idx = [list(song_pl_df.columns).index(s) for s in songs]\n",
    "    seed_play[song_idx] = 1\n",
    "    return seed_play"
   ]
  },
  {
   "cell_type": "code",
   "execution_count": 261,
   "id": "15b8b735",
   "metadata": {},
   "outputs": [],
   "source": [
    "def baseline(tracks, df, n_pred):\n",
    "    \"\"\"\n",
    "    Generates a baseline recommendation by finding similar tracks based on track popularity.\n",
    "\n",
    "    Parameters:\n",
    "        tracks (list): A list of track URIs representing the seed tracks.\n",
    "        df (pandas.DataFrame): A DataFrame containing track information, including 'track_uri' and 'track_popularity' columns.\n",
    "        n_pred (int): The number of predictions to generate.\n",
    "\n",
    "    Returns:\n",
    "        list: A list of predicted track URIs representing the baseline recommendations.\n",
    "\n",
    "    \"\"\"\n",
    "    recs = []\n",
    "    for t in tracks:\n",
    "        t_popularity = df[df['track_uri'] == t]['track_popularity']\n",
    "        df['rec_df_popular'] = np.abs(df['track_popularity'] - t_popularity.values[0])\n",
    "        one_recs = list(df.sort_values(by=['rec_df_popular'])['track_uri'][1:].values)\n",
    "        recs += [track for track in one_recs if track not in tracks][:n_pred]\n",
    "    preds = Counter(recs).most_common(n_pred)\n",
    "    pred_titles = [p[0] for p in preds]\n",
    "    return pred_titles"
   ]
  },
  {
   "cell_type": "markdown",
   "id": "981821a4",
   "metadata": {},
   "source": [
    "#### Predictions"
   ]
  },
  {
   "cell_type": "code",
   "execution_count": 262,
   "id": "da3136c9",
   "metadata": {},
   "outputs": [
    {
     "name": "stderr",
     "output_type": "stream",
     "text": [
      "Processing data:   0%|                                                                                                               | 0/8606 [00:00<?, ?it/s]/tmp/ipykernel_15313/4259123265.py:5: SettingWithCopyWarning: \n",
      "A value is trying to be set on a copy of a slice from a DataFrame.\n",
      "Try using .loc[row_indexer,col_indexer] = value instead\n",
      "\n",
      "See the caveats in the documentation: https://pandas.pydata.org/pandas-docs/stable/user_guide/indexing.html#returning-a-view-versus-a-copy\n",
      "  df['rec_df_popular'] = np.abs(df['track_popularity'] - t_popularity.values[0])\n",
      "Processing data:   1%|█▏                                                                                                    | 97/8606 [00:05<09:05, 15.59it/s][codecarbon INFO @ 13:01:32] Energy consumed for RAM : 0.019639 kWh. RAM Power : 11.759872913360596 W\n",
      "[codecarbon INFO @ 13:01:32] Energy consumed for all CPUs : 0.071001 kWh. All CPUs Power : 42.5 W\n",
      "[codecarbon INFO @ 13:01:32] 0.090640 kWh of electricity used since the begining.\n",
      "Processing data:   4%|████▏                                                                                                | 359/8606 [00:21<09:23, 14.63it/s][codecarbon INFO @ 13:01:47] Energy consumed for RAM : 0.019688 kWh. RAM Power : 11.759872913360596 W\n",
      "[codecarbon INFO @ 13:01:47] Energy consumed for all CPUs : 0.071178 kWh. All CPUs Power : 42.5 W\n",
      "[codecarbon INFO @ 13:01:47] 0.090866 kWh of electricity used since the begining.\n",
      "Processing data:   7%|███████▍                                                                                             | 633/8606 [00:36<07:43, 17.20it/s][codecarbon INFO @ 13:02:02] Energy consumed for RAM : 0.019737 kWh. RAM Power : 11.759872913360596 W\n",
      "[codecarbon INFO @ 13:02:02] Energy consumed for all CPUs : 0.071355 kWh. All CPUs Power : 42.5 W\n",
      "[codecarbon INFO @ 13:02:02] 0.091092 kWh of electricity used since the begining.\n",
      "Processing data:  11%|██████████▋                                                                                          | 909/8606 [00:50<05:34, 22.99it/s][codecarbon INFO @ 13:02:17] Energy consumed for RAM : 0.019786 kWh. RAM Power : 11.759872913360596 W\n",
      "[codecarbon INFO @ 13:02:17] Energy consumed for all CPUs : 0.071533 kWh. All CPUs Power : 42.5 W\n",
      "[codecarbon INFO @ 13:02:17] 0.091318 kWh of electricity used since the begining.\n",
      "Processing data:  14%|█████████████▋                                                                                      | 1177/8606 [01:06<06:00, 20.62it/s][codecarbon INFO @ 13:02:32] Energy consumed for RAM : 0.019835 kWh. RAM Power : 11.759872913360596 W\n",
      "[codecarbon INFO @ 13:02:32] Energy consumed for all CPUs : 0.071710 kWh. All CPUs Power : 42.5 W\n",
      "[codecarbon INFO @ 13:02:32] 0.091545 kWh of electricity used since the begining.\n",
      "Processing data:  17%|████████████████▊                                                                                   | 1445/8606 [01:21<06:02, 19.74it/s][codecarbon INFO @ 13:02:47] Energy consumed for RAM : 0.019884 kWh. RAM Power : 11.759872913360596 W\n",
      "[codecarbon INFO @ 13:02:47] Energy consumed for all CPUs : 0.071887 kWh. All CPUs Power : 42.5 W\n",
      "[codecarbon INFO @ 13:02:47] 0.091771 kWh of electricity used since the begining.\n",
      "Processing data:  20%|███████████████████▉                                                                                | 1718/8606 [01:36<06:29, 17.67it/s][codecarbon INFO @ 13:03:02] Energy consumed for RAM : 0.019933 kWh. RAM Power : 11.759872913360596 W\n",
      "[codecarbon INFO @ 13:03:02] Energy consumed for all CPUs : 0.072064 kWh. All CPUs Power : 42.5 W\n",
      "[codecarbon INFO @ 13:03:02] 0.091997 kWh of electricity used since the begining.\n",
      "Processing data:  23%|███████████████████████▏                                                                            | 1997/8606 [01:51<05:25, 20.31it/s][codecarbon INFO @ 13:03:17] Energy consumed for RAM : 0.019982 kWh. RAM Power : 11.759872913360596 W\n",
      "[codecarbon INFO @ 13:03:17] Energy consumed for all CPUs : 0.072241 kWh. All CPUs Power : 42.5 W\n",
      "[codecarbon INFO @ 13:03:17] 0.092223 kWh of electricity used since the begining.\n",
      "Processing data:  26%|██████████████████████████▏                                                                         | 2256/8606 [02:06<05:58, 17.73it/s][codecarbon INFO @ 13:03:32] Energy consumed for RAM : 0.020031 kWh. RAM Power : 11.759872913360596 W\n",
      "[codecarbon INFO @ 13:03:32] Energy consumed for all CPUs : 0.072418 kWh. All CPUs Power : 42.5 W\n",
      "Processing data:  26%|██████████████████████████▏                                                                         | 2259/8606 [02:06<05:45, 18.39it/s][codecarbon INFO @ 13:03:32] 0.092449 kWh of electricity used since the begining.\n",
      "Processing data:  29%|█████████████████████████████▎                                                                      | 2522/8606 [02:20<05:31, 18.36it/s][codecarbon INFO @ 13:03:47] Energy consumed for RAM : 0.020080 kWh. RAM Power : 11.759872913360596 W\n",
      "Processing data:  29%|█████████████████████████████▎                                                                      | 2524/8606 [02:21<07:16, 13.92it/s][codecarbon INFO @ 13:03:47] Energy consumed for all CPUs : 0.072595 kWh. All CPUs Power : 42.5 W\n",
      "[codecarbon INFO @ 13:03:47] 0.092675 kWh of electricity used since the begining.\n",
      "Processing data:  32%|████████████████████████████████▍                                                                   | 2791/8606 [02:36<05:01, 19.31it/s][codecarbon INFO @ 13:04:02] Energy consumed for RAM : 0.020129 kWh. RAM Power : 11.759872913360596 W\n",
      "[codecarbon INFO @ 13:04:02] Energy consumed for all CPUs : 0.072772 kWh. All CPUs Power : 42.5 W\n",
      "[codecarbon INFO @ 13:04:02] 0.092901 kWh of electricity used since the begining.\n",
      "Processing data:  36%|███████████████████████████████████▋                                                                | 3067/8606 [02:51<04:59, 18.52it/s][codecarbon INFO @ 13:04:17] Energy consumed for RAM : 0.020177 kWh. RAM Power : 11.759872913360596 W\n",
      "[codecarbon INFO @ 13:04:17] Energy consumed for all CPUs : 0.072949 kWh. All CPUs Power : 42.5 W\n",
      "[codecarbon INFO @ 13:04:17] 0.093127 kWh of electricity used since the begining.\n",
      "Processing data:  39%|██████████████████████████████████████▉                                                             | 3349/8606 [03:06<04:51, 18.02it/s][codecarbon INFO @ 13:04:32] Energy consumed for RAM : 0.020227 kWh. RAM Power : 11.759872913360596 W\n",
      "[codecarbon INFO @ 13:04:32] Energy consumed for all CPUs : 0.073127 kWh. All CPUs Power : 42.5 W\n",
      "[codecarbon INFO @ 13:04:32] 0.093353 kWh of electricity used since the begining.\n",
      "Processing data:  42%|██████████████████████████████████████████                                                          | 3616/8606 [03:21<05:29, 15.15it/s][codecarbon INFO @ 13:04:47] Energy consumed for RAM : 0.020275 kWh. RAM Power : 11.759872913360596 W\n",
      "[codecarbon INFO @ 13:04:47] Energy consumed for all CPUs : 0.073304 kWh. All CPUs Power : 42.5 W\n",
      "[codecarbon INFO @ 13:04:47] 0.093579 kWh of electricity used since the begining.\n",
      "Processing data:  45%|█████████████████████████████████████████████▎                                                      | 3897/8606 [03:36<05:23, 14.54it/s][codecarbon INFO @ 13:05:02] Energy consumed for RAM : 0.020324 kWh. RAM Power : 11.759872913360596 W\n",
      "[codecarbon INFO @ 13:05:02] Energy consumed for all CPUs : 0.073481 kWh. All CPUs Power : 42.5 W\n",
      "[codecarbon INFO @ 13:05:02] 0.093805 kWh of electricity used since the begining.\n",
      "Processing data:  48%|████████████████████████████████████████████████▍                                                   | 4167/8606 [03:51<04:36, 16.03it/s][codecarbon INFO @ 13:05:17] Energy consumed for RAM : 0.020373 kWh. RAM Power : 11.759872913360596 W\n",
      "Processing data:  48%|████████████████████████████████████████████████▍                                                   | 4169/8606 [03:51<04:29, 16.49it/s][codecarbon INFO @ 13:05:17] Energy consumed for all CPUs : 0.073658 kWh. All CPUs Power : 42.5 W\n",
      "[codecarbon INFO @ 13:05:17] 0.094031 kWh of electricity used since the begining.\n",
      "Processing data:  52%|███████████████████████████████████████████████████▋                                                | 4443/8606 [04:06<04:01, 17.22it/s][codecarbon INFO @ 13:05:32] Energy consumed for RAM : 0.020422 kWh. RAM Power : 11.759872913360596 W\n",
      "[codecarbon INFO @ 13:05:32] Energy consumed for all CPUs : 0.073835 kWh. All CPUs Power : 42.5 W\n",
      "[codecarbon INFO @ 13:05:32] 0.094258 kWh of electricity used since the begining.\n",
      "Processing data:  55%|██████████████████████████████████████████████████████▋                                             | 4707/8606 [04:21<03:56, 16.46it/s][codecarbon INFO @ 13:05:47] Energy consumed for RAM : 0.020471 kWh. RAM Power : 11.759872913360596 W\n",
      "[codecarbon INFO @ 13:05:47] Energy consumed for all CPUs : 0.074012 kWh. All CPUs Power : 42.5 W\n",
      "[codecarbon INFO @ 13:05:47] 0.094484 kWh of electricity used since the begining.\n",
      "Processing data:  58%|█████████████████████████████████████████████████████████▉                                          | 4986/8606 [04:36<03:25, 17.59it/s][codecarbon INFO @ 13:06:02] Energy consumed for RAM : 0.020520 kWh. RAM Power : 11.759872913360596 W\n",
      "[codecarbon INFO @ 13:06:02] Energy consumed for all CPUs : 0.074189 kWh. All CPUs Power : 42.5 W\n",
      "[codecarbon INFO @ 13:06:02] 0.094710 kWh of electricity used since the begining.\n",
      "Processing data:  61%|█████████████████████████████████████████████████████████████▏                                      | 5270/8606 [04:51<02:41, 20.61it/s][codecarbon INFO @ 13:06:17] Energy consumed for RAM : 0.020569 kWh. RAM Power : 11.759872913360596 W\n",
      "[codecarbon INFO @ 13:06:17] Energy consumed for all CPUs : 0.074367 kWh. All CPUs Power : 42.5 W\n",
      "[codecarbon INFO @ 13:06:17] 0.094936 kWh of electricity used since the begining.\n",
      "Processing data:  64%|████████████████████████████████████████████████████████████████▏                                   | 5527/8606 [05:06<03:23, 15.12it/s][codecarbon INFO @ 13:06:32] Energy consumed for RAM : 0.020618 kWh. RAM Power : 11.759872913360596 W\n",
      "[codecarbon INFO @ 13:06:32] Energy consumed for all CPUs : 0.074544 kWh. All CPUs Power : 42.5 W\n",
      "[codecarbon INFO @ 13:06:32] 0.095162 kWh of electricity used since the begining.\n",
      "Processing data:  67%|███████████████████████████████████████████████████████████████████▎                                | 5796/8606 [05:21<02:44, 17.13it/s][codecarbon INFO @ 13:06:47] Energy consumed for RAM : 0.020667 kWh. RAM Power : 11.759872913360596 W\n",
      "[codecarbon INFO @ 13:06:47] Energy consumed for all CPUs : 0.074721 kWh. All CPUs Power : 42.5 W\n",
      "[codecarbon INFO @ 13:06:47] 0.095388 kWh of electricity used since the begining.\n",
      "Processing data:  70%|██████████████████████████████████████████████████████████████████████▍                             | 6067/8606 [05:36<01:52, 22.64it/s][codecarbon INFO @ 13:07:02] Energy consumed for RAM : 0.020716 kWh. RAM Power : 11.759872913360596 W\n",
      "Processing data:  71%|██████████████████████████████████████████████████████████████████████▌                             | 6070/8606 [05:36<02:13, 19.02it/s][codecarbon INFO @ 13:07:02] Energy consumed for all CPUs : 0.074898 kWh. All CPUs Power : 42.5 W\n",
      "[codecarbon INFO @ 13:07:02] 0.095615 kWh of electricity used since the begining.\n",
      "Processing data:  74%|█████████████████████████████████████████████████████████████████████████▋                          | 6346/8606 [05:51<02:26, 15.44it/s][codecarbon INFO @ 13:07:17] Energy consumed for RAM : 0.020765 kWh. RAM Power : 11.759872913360596 W\n",
      "[codecarbon INFO @ 13:07:17] Energy consumed for all CPUs : 0.075075 kWh. All CPUs Power : 42.5 W\n",
      "[codecarbon INFO @ 13:07:17] 0.095841 kWh of electricity used since the begining.\n",
      "Processing data:  77%|████████████████████████████████████████████████████████████████████████████▉                       | 6616/8606 [06:06<01:32, 21.52it/s][codecarbon INFO @ 13:07:32] Energy consumed for RAM : 0.020814 kWh. RAM Power : 11.759872913360596 W\n",
      "[codecarbon INFO @ 13:07:32] Energy consumed for all CPUs : 0.075252 kWh. All CPUs Power : 42.5 W\n",
      "[codecarbon INFO @ 13:07:32] 0.096067 kWh of electricity used since the begining.\n",
      "Processing data:  80%|███████████████████████████████████████████████████████████████████████████████▉                    | 6879/8606 [06:21<01:48, 15.93it/s][codecarbon INFO @ 13:07:47] Energy consumed for RAM : 0.020863 kWh. RAM Power : 11.759872913360596 W\n",
      "[codecarbon INFO @ 13:07:47] Energy consumed for all CPUs : 0.075430 kWh. All CPUs Power : 42.5 W\n",
      "[codecarbon INFO @ 13:07:47] 0.096293 kWh of electricity used since the begining.\n",
      "Processing data:  83%|███████████████████████████████████████████████████████████████████████████████████▏                | 7160/8606 [06:36<01:17, 18.58it/s][codecarbon INFO @ 13:08:02] Energy consumed for RAM : 0.020912 kWh. RAM Power : 11.759872913360596 W\n",
      "[codecarbon INFO @ 13:08:02] Energy consumed for all CPUs : 0.075607 kWh. All CPUs Power : 42.5 W\n",
      "[codecarbon INFO @ 13:08:02] 0.096519 kWh of electricity used since the begining.\n",
      "Processing data:  86%|██████████████████████████████████████████████████████████████████████████████████████▍             | 7442/8606 [06:51<01:13, 15.93it/s][codecarbon INFO @ 13:08:17] Energy consumed for RAM : 0.020961 kWh. RAM Power : 11.759872913360596 W\n",
      "[codecarbon INFO @ 13:08:17] Energy consumed for all CPUs : 0.075784 kWh. All CPUs Power : 42.5 W\n",
      "[codecarbon INFO @ 13:08:17] 0.096745 kWh of electricity used since the begining.\n",
      "Processing data:  90%|█████████████████████████████████████████████████████████████████████████████████████████▌          | 7704/8606 [07:06<00:53, 16.76it/s][codecarbon INFO @ 13:08:32] Energy consumed for RAM : 0.021010 kWh. RAM Power : 11.759872913360596 W\n",
      "[codecarbon INFO @ 13:08:32] Energy consumed for all CPUs : 0.075961 kWh. All CPUs Power : 42.5 W\n",
      "[codecarbon INFO @ 13:08:32] 0.096971 kWh of electricity used since the begining.\n",
      "Processing data:  93%|████████████████████████████████████████████████████████████████████████████████████████████▋       | 7981/8606 [07:21<00:32, 18.94it/s][codecarbon INFO @ 13:08:47] Energy consumed for RAM : 0.021059 kWh. RAM Power : 11.759872913360596 W\n",
      "[codecarbon INFO @ 13:08:47] Energy consumed for all CPUs : 0.076138 kWh. All CPUs Power : 42.5 W\n",
      "[codecarbon INFO @ 13:08:47] 0.097197 kWh of electricity used since the begining.\n",
      "Processing data:  96%|███████████████████████████████████████████████████████████████████████████████████████████████▊    | 8243/8606 [07:36<00:19, 18.44it/s][codecarbon INFO @ 13:09:02] Energy consumed for RAM : 0.021108 kWh. RAM Power : 11.759872913360596 W\n",
      "[codecarbon INFO @ 13:09:02] Energy consumed for all CPUs : 0.076315 kWh. All CPUs Power : 42.5 W\n",
      "[codecarbon INFO @ 13:09:02] 0.097423 kWh of electricity used since the begining.\n",
      "Processing data:  99%|███████████████████████████████████████████████████████████████████████████████████████████████████ | 8522/8606 [07:51<00:05, 15.53it/s][codecarbon INFO @ 13:09:17] Energy consumed for RAM : 0.021157 kWh. RAM Power : 11.759872913360596 W\n",
      "[codecarbon INFO @ 13:09:17] Energy consumed for all CPUs : 0.076492 kWh. All CPUs Power : 42.5 W\n",
      "[codecarbon INFO @ 13:09:17] 0.097649 kWh of electricity used since the begining.\n",
      "Processing data: 100%|████████████████████████████████████████████████████████████████████████████████████████████████████| 8606/8606 [07:56<00:00, 18.08it/s]\n"
     ]
    }
   ],
   "source": [
    "pred_songs_bool = []\n",
    "\n",
    "for index, n in tqdm(enumerate(n_obscured), total=len(n_obscured), desc=\"Processing data\"):\n",
    "    pred_songs = baseline(get_titles(obscured_df.iloc[index], psparse_matrix), pdwm_30k_filtered, n)\n",
    "    pred_songs_bool.append(get_song_bool_list(pred_songs, psparse_matrix))"
   ]
  },
  {
   "cell_type": "markdown",
   "id": "8e1742fb",
   "metadata": {},
   "source": [
    "### Metrics"
   ]
  },
  {
   "cell_type": "code",
   "execution_count": 263,
   "id": "268c0933",
   "metadata": {},
   "outputs": [],
   "source": [
    "def dcg_at_k(r, k, method=0):\n",
    "    \"\"\"\n",
    "    Computes the Discounted Cumulative Gain (DCG) at a specified rank `k` given a list of relevance scores.\n",
    "\n",
    "    Parameters:\n",
    "        r (list or numpy.ndarray): A list or 1-D numpy array containing the relevance scores.\n",
    "        k (int): The rank at which to compute the DCG.\n",
    "        method (int, optional): The formula to use for computing the DCG. 0 for the default formula, 1 for the alternative formula. Default is 0.\n",
    "\n",
    "    Returns:\n",
    "        float: The DCG at rank `k`.\n",
    "\n",
    "    Raises:\n",
    "        ValueError: If `method` is not 0 or 1.\n",
    "\n",
    "    \"\"\"\n",
    "    r = np.asfarray(r)[:k]\n",
    "    if r.size:\n",
    "        if method == 0:\n",
    "            return r[0] + np.sum(r[1:] / np.log2(np.arange(2, r.size + 1)))\n",
    "        elif method == 1:\n",
    "            return np.sum(r / np.log2(np.arange(2, r.size + 2)))\n",
    "        else:\n",
    "            raise ValueError('method must be 0 or 1.')\n",
    "    return 0.\n",
    "\n",
    "def ndcg_at_k(r, k, method=0):\n",
    "    \"\"\"\n",
    "    Computes the Normalized Discounted Cumulative Gain (NDCG) at a specified rank `k` given a list of relevance scores.\n",
    "\n",
    "    Parameters:\n",
    "        r (list or numpy.ndarray): A list or 1-D numpy array containing the relevance scores.\n",
    "        k (int): The rank at which to compute the NDCG.\n",
    "        method (int, optional): The formula to use for computing the NDCG. 0 for the default formula, 1 for the alternative formula. Default is 0.\n",
    "\n",
    "    Returns:\n",
    "        float: The NDCG at rank `k`.\n",
    "\n",
    "    \"\"\"\n",
    "    dcg_max = dcg_at_k(sorted(r, reverse=True), k, method)\n",
    "    if not dcg_max:\n",
    "        return 0.\n",
    "    return dcg_at_k(r, k, method) / dcg_max"
   ]
  },
  {
   "cell_type": "code",
   "execution_count": 264,
   "id": "34bb5ddd",
   "metadata": {},
   "outputs": [
    {
     "name": "stderr",
     "output_type": "stream",
     "text": [
      "Scoring model's performance:   9%|███████▉                                                                                 | 768/8606 [00:10<01:43, 76.04it/s][codecarbon INFO @ 13:09:32] Energy consumed for RAM : 0.021206 kWh. RAM Power : 11.759872913360596 W\n",
      "[codecarbon INFO @ 13:09:32] Energy consumed for all CPUs : 0.076669 kWh. All CPUs Power : 42.5 W\n",
      "[codecarbon INFO @ 13:09:32] 0.097876 kWh of electricity used since the begining.\n",
      "Scoring model's performance:  22%|███████████████████▍                                                                    | 1896/8606 [00:25<01:29, 75.29it/s][codecarbon INFO @ 13:09:47] Energy consumed for RAM : 0.021255 kWh. RAM Power : 11.759872913360596 W\n",
      "[codecarbon INFO @ 13:09:47] Energy consumed for all CPUs : 0.076847 kWh. All CPUs Power : 42.5 W\n",
      "[codecarbon INFO @ 13:09:47] 0.098102 kWh of electricity used since the begining.\n",
      "Scoring model's performance:  35%|███████████████████████████████                                                         | 3032/8606 [00:40<01:13, 75.54it/s][codecarbon INFO @ 13:10:02] Energy consumed for RAM : 0.021304 kWh. RAM Power : 11.759872913360596 W\n",
      "[codecarbon INFO @ 13:10:02] Energy consumed for all CPUs : 0.077024 kWh. All CPUs Power : 42.5 W\n",
      "[codecarbon INFO @ 13:10:02] 0.098328 kWh of electricity used since the begining.\n",
      "Scoring model's performance:  48%|██████████████████████████████████████████▌                                             | 4160/8606 [00:55<00:58, 75.40it/s][codecarbon INFO @ 13:10:17] Energy consumed for RAM : 0.021353 kWh. RAM Power : 11.759872913360596 W\n",
      "[codecarbon INFO @ 13:10:17] Energy consumed for all CPUs : 0.077200 kWh. All CPUs Power : 42.5 W\n",
      "[codecarbon INFO @ 13:10:17] 0.098553 kWh of electricity used since the begining.\n",
      "Scoring model's performance:  61%|██████████████████████████████████████████████████████                                  | 5288/8606 [01:10<00:44, 74.88it/s][codecarbon INFO @ 13:10:32] Energy consumed for RAM : 0.021402 kWh. RAM Power : 11.759872913360596 W\n",
      "[codecarbon INFO @ 13:10:32] Energy consumed for all CPUs : 0.077377 kWh. All CPUs Power : 42.5 W\n",
      "[codecarbon INFO @ 13:10:32] 0.098779 kWh of electricity used since the begining.\n",
      "Scoring model's performance:  75%|█████████████████████████████████████████████████████████████████▌                      | 6416/8606 [01:25<00:29, 74.82it/s][codecarbon INFO @ 13:10:47] Energy consumed for RAM : 0.021451 kWh. RAM Power : 11.759872913360596 W\n",
      "[codecarbon INFO @ 13:10:47] Energy consumed for all CPUs : 0.077554 kWh. All CPUs Power : 42.5 W\n",
      "Scoring model's performance:  75%|█████████████████████████████████████████████████████████████████▋                      | 6424/8606 [01:25<00:29, 74.61it/s][codecarbon INFO @ 13:10:47] 0.099005 kWh of electricity used since the begining.\n",
      "Scoring model's performance:  88%|█████████████████████████████████████████████████████████████████████████████▏          | 7544/8606 [01:40<00:14, 74.51it/s][codecarbon INFO @ 13:11:02] Energy consumed for RAM : 0.021500 kWh. RAM Power : 11.759872913360596 W\n",
      "[codecarbon INFO @ 13:11:02] Energy consumed for all CPUs : 0.077731 kWh. All CPUs Power : 42.5 W\n",
      "Scoring model's performance:  88%|█████████████████████████████████████████████████████████████████████████████▏          | 7552/8606 [01:40<00:14, 74.21it/s][codecarbon INFO @ 13:11:02] 0.099231 kWh of electricity used since the begining.\n",
      "Scoring model's performance: 100%|████████████████████████████████████████████████████████████████████████████████████████| 8606/8606 [01:54<00:00, 75.31it/s]"
     ]
    },
    {
     "name": "stdout",
     "output_type": "stream",
     "text": [
      "0.0001839801688744287\n",
      "0.00046479200557750407\n"
     ]
    },
    {
     "name": "stderr",
     "output_type": "stream",
     "text": [
      "\n"
     ]
    }
   ],
   "source": [
    "# Score the model's performance\n",
    "r2 = []\n",
    "ndcgs = []\n",
    "for i, pred in tqdm(enumerate(pred_songs_bool), total=len(pred_songs_bool), desc=\"Scoring model's performance\"):\n",
    "    pred_idx = [idx for idx, p in enumerate(pred) if p == 1]\n",
    "    right = np.array(psparse_matrix.iloc[i]) - np.array(obscured_df.iloc[i])\n",
    "    right_idx = [idx for idx, r in enumerate(right) if r == 1]\n",
    "    try:\n",
    "        r2.append(sum([1 for pidx in pred_idx if pidx in right_idx])/len(pred_idx))\n",
    "    except ZeroDivisionError:\n",
    "        r2.append(0)\n",
    "    r = [1 if idx in pred_idx else 0 for idx in right_idx]\n",
    "    ndcgs.append(ndcg_at_k(r, len(r)))\n",
    "print(np.mean(r2))\n",
    "print(np.mean(ndcgs))"
   ]
  },
  {
   "cell_type": "code",
   "execution_count": 265,
   "id": "768525b2",
   "metadata": {},
   "outputs": [
    {
     "name": "stdout",
     "output_type": "stream",
     "text": [
      "R2 score for baseline: 0.0001839801688744287\n",
      "NDCGS score for baseline: 0.00046479200557750407\n"
     ]
    },
    {
     "name": "stderr",
     "output_type": "stream",
     "text": [
      "[codecarbon INFO @ 13:11:17] Energy consumed for RAM : 0.021549 kWh. RAM Power : 11.759872913360596 W\n",
      "[codecarbon INFO @ 13:11:17] Energy consumed for all CPUs : 0.077908 kWh. All CPUs Power : 42.5 W\n",
      "[codecarbon INFO @ 13:11:17] 0.099457 kWh of electricity used since the begining.\n",
      "[codecarbon INFO @ 13:11:32] Energy consumed for RAM : 0.021598 kWh. RAM Power : 11.759872913360596 W\n",
      "[codecarbon INFO @ 13:11:32] Energy consumed for all CPUs : 0.078085 kWh. All CPUs Power : 42.5 W\n",
      "[codecarbon INFO @ 13:11:32] 0.099683 kWh of electricity used since the begining.\n",
      "[codecarbon INFO @ 13:11:47] Energy consumed for RAM : 0.021647 kWh. RAM Power : 11.759872913360596 W\n",
      "[codecarbon INFO @ 13:11:47] Energy consumed for all CPUs : 0.078262 kWh. All CPUs Power : 42.5 W\n",
      "[codecarbon INFO @ 13:11:47] 0.099909 kWh of electricity used since the begining.\n",
      "[codecarbon INFO @ 13:12:02] Energy consumed for RAM : 0.021696 kWh. RAM Power : 11.759872913360596 W\n",
      "[codecarbon INFO @ 13:12:02] Energy consumed for all CPUs : 0.078439 kWh. All CPUs Power : 42.5 W\n",
      "[codecarbon INFO @ 13:12:02] 0.100135 kWh of electricity used since the begining.\n",
      "[codecarbon INFO @ 13:12:17] Energy consumed for RAM : 0.021745 kWh. RAM Power : 11.759872913360596 W\n",
      "[codecarbon INFO @ 13:12:17] Energy consumed for all CPUs : 0.078617 kWh. All CPUs Power : 42.5 W\n",
      "[codecarbon INFO @ 13:12:17] 0.100361 kWh of electricity used since the begining.\n",
      "[codecarbon INFO @ 13:12:32] Energy consumed for RAM : 0.021794 kWh. RAM Power : 11.759872913360596 W\n",
      "[codecarbon INFO @ 13:12:32] Energy consumed for all CPUs : 0.078794 kWh. All CPUs Power : 42.5 W\n",
      "[codecarbon INFO @ 13:12:32] 0.100587 kWh of electricity used since the begining.\n"
     ]
    }
   ],
   "source": [
    "print(\"R2 score for baseline: {}\".format(np.mean(r2)))\n",
    "print(\"NDCGS score for baseline: {}\".format(np.mean(ndcgs)))"
   ]
  },
  {
   "cell_type": "code",
   "execution_count": null,
   "id": "02846b5f",
   "metadata": {},
   "outputs": [],
   "source": []
  },
  {
   "cell_type": "code",
   "execution_count": 266,
   "id": "a70af8fe",
   "metadata": {},
   "outputs": [
    {
     "name": "stderr",
     "output_type": "stream",
     "text": [
      "[codecarbon INFO @ 13:12:41] Energy consumed for RAM : 0.021822 kWh. RAM Power : 11.759872913360596 W\n",
      "[codecarbon INFO @ 13:12:41] Energy consumed for all CPUs : 0.078895 kWh. All CPUs Power : 42.5 W\n",
      "[codecarbon INFO @ 13:12:41] 0.100717 kWh of electricity used since the begining.\n",
      "\u001b[1;38;5;39mCOMET INFO:\u001b[0m ---------------------------------------------------------------------------------------\n",
      "\u001b[1;38;5;39mCOMET INFO:\u001b[0m Comet.ml Experiment Summary\n",
      "\u001b[1;38;5;39mCOMET INFO:\u001b[0m ---------------------------------------------------------------------------------------\n",
      "\u001b[1;38;5;39mCOMET INFO:\u001b[0m   Data:\n",
      "\u001b[1;38;5;39mCOMET INFO:\u001b[0m     display_summary_level : 1\n",
      "\u001b[1;38;5;39mCOMET INFO:\u001b[0m     url                   : https://www.comet.com/sadcor/general/c9719edc2a184ee999e7aef5639b3542\n",
      "\u001b[1;38;5;39mCOMET INFO:\u001b[0m   Uploads:\n",
      "\u001b[1;38;5;39mCOMET INFO:\u001b[0m     asset               : 1 (685 bytes)\n",
      "\u001b[1;38;5;39mCOMET INFO:\u001b[0m     environment details : 1\n",
      "\u001b[1;38;5;39mCOMET INFO:\u001b[0m     filename            : 1\n",
      "\u001b[1;38;5;39mCOMET INFO:\u001b[0m     installed packages  : 1\n",
      "\u001b[1;38;5;39mCOMET INFO:\u001b[0m     notebook            : 1\n",
      "\u001b[1;38;5;39mCOMET INFO:\u001b[0m     os packages         : 1\n",
      "\u001b[1;38;5;39mCOMET INFO:\u001b[0m     source_code         : 1\n",
      "\u001b[1;38;5;39mCOMET INFO:\u001b[0m \n",
      "\u001b[1;38;5;214mCOMET WARNING:\u001b[0m To get all data logged automatically, import comet_ml before the following modules: sklearn.\n",
      "\u001b[1;38;5;39mCOMET INFO:\u001b[0m Please wait for metadata to finish uploading (timeout is 3600 seconds)\n",
      "\u001b[1;38;5;39mCOMET INFO:\u001b[0m Please wait for assets to finish uploading (timeout is 10800 seconds)\n",
      "\u001b[1;38;5;39mCOMET INFO:\u001b[0m All assets have been sent, waiting for delivery confirmation\n"
     ]
    }
   ],
   "source": [
    "experiment.end()"
   ]
  },
  {
   "cell_type": "code",
   "execution_count": null,
   "id": "642c4f13",
   "metadata": {},
   "outputs": [],
   "source": []
  }
 ],
 "metadata": {
  "kernelspec": {
   "display_name": "Python 3 (ipykernel)",
   "language": "python",
   "name": "python3"
  },
  "language_info": {
   "codemirror_mode": {
    "name": "ipython",
    "version": 3
   },
   "file_extension": ".py",
   "mimetype": "text/x-python",
   "name": "python",
   "nbconvert_exporter": "python",
   "pygments_lexer": "ipython3",
   "version": "3.8.10"
  }
 },
 "nbformat": 4,
 "nbformat_minor": 5
}
