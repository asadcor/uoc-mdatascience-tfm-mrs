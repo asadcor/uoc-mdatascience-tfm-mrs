{
 "cells": [
  {
   "cell_type": "markdown",
   "id": "339c1be2",
   "metadata": {},
   "source": [
    "#### PREPROCESADO DE DATOS"
   ]
  },
  {
   "cell_type": "code",
   "execution_count": null,
   "id": "a89b268e",
   "metadata": {},
   "outputs": [],
   "source": []
  },
  {
   "cell_type": "code",
   "execution_count": 3,
   "id": "4ffd8106",
   "metadata": {},
   "outputs": [
    {
     "name": "stderr",
     "output_type": "stream",
     "text": [
      "\u001b[1;38;5;214mCOMET WARNING:\u001b[0m As you are running in a Jupyter environment, you will need to call `experiment.end()` when finished to ensure all metrics and code are logged before exiting.\n",
      "[codecarbon INFO @ 12:26:44] [setup] RAM Tracking...\n",
      "[codecarbon INFO @ 12:26:44] [setup] GPU Tracking...\n",
      "[codecarbon INFO @ 12:26:44] No GPU found.\n",
      "[codecarbon INFO @ 12:26:44] [setup] CPU Tracking...\n",
      "[codecarbon WARNING @ 12:26:44] No CPU tracking mode found. Falling back on CPU constant mode.\n",
      "[codecarbon WARNING @ 12:26:45] We saw that you have a Intel(R) Xeon(R) CPU E5-2630 v3 @ 2.40GHz but we don't know it. Please contact us.\n",
      "[codecarbon INFO @ 12:26:45] CPU Model on constant consumption mode: Intel(R) Xeon(R) CPU E5-2630 v3 @ 2.40GHz\n",
      "[codecarbon INFO @ 12:26:45] >>> Tracker's metadata:\n",
      "[codecarbon INFO @ 12:26:45]   Platform system: Linux-5.4.0-122-generic-x86_64-with-glibc2.29\n",
      "[codecarbon INFO @ 12:26:45]   Python version: 3.8.10\n",
      "[codecarbon INFO @ 12:26:45]   Available RAM : 31.360 GB\n",
      "[codecarbon INFO @ 12:26:45]   CPU count: 8\n",
      "[codecarbon INFO @ 12:26:45]   CPU model: Intel(R) Xeon(R) CPU E5-2630 v3 @ 2.40GHz\n",
      "[codecarbon INFO @ 12:26:45]   GPU count: None\n",
      "[codecarbon INFO @ 12:26:45]   GPU model: None\n",
      "\u001b[1;38;5;39mCOMET INFO:\u001b[0m Couldn't find a Git repository in '/home/asadcor' nor in any parent directory. Set `COMET_GIT_DIRECTORY` if your Git Repository is elsewhere.\n",
      "\u001b[1;38;5;39mCOMET INFO:\u001b[0m Experiment is live on comet.com https://www.comet.com/sadcor/general/14e86d10fe58446eaa4e234fb4884749\n",
      "\n"
     ]
    }
   ],
   "source": [
    "from comet_ml import Experiment\n",
    "\n",
    "experiment = Experiment(api_key=\"ummagUWZ5eIZzmhPtFkA8oopu\")"
   ]
  },
  {
   "cell_type": "code",
   "execution_count": 16,
   "id": "f1228b4a",
   "metadata": {},
   "outputs": [],
   "source": [
    "%%capture\n",
    "\n",
    "from codecarbon import EmissionsTracker\n",
    "from comet_ml import Experiment\n",
    "\n",
    "emissions_tracker = EmissionsTracker(project_name=\"Notebook TFM\")\n",
    "\n",
    "emissions_tracker.start()"
   ]
  },
  {
   "cell_type": "markdown",
   "id": "cf9e2abf",
   "metadata": {},
   "source": [
    "### 0. Importing the libraries"
   ]
  },
  {
   "cell_type": "code",
   "execution_count": 77,
   "id": "693f03ee",
   "metadata": {},
   "outputs": [],
   "source": []
  },
  {
   "cell_type": "code",
   "execution_count": 2,
   "id": "dd510fe3",
   "metadata": {},
   "outputs": [],
   "source": [
    "import random\n",
    "import json\n",
    "import shutil\n",
    "import re\n",
    "import os\n",
    "from tqdm import tqdm\n",
    "from zipfile import ZipFile\n",
    "\n",
    "import csv\n",
    "import numpy as np # linear algebra\n",
    "import pandas as pd # data processing, CSV file I/O (e.g. pd.read_csv)\n",
    "import pickle\n",
    "\n",
    "import time\n",
    "import spotipy\n",
    "from spotipy.oauth2 import SpotifyClientCredentials\n",
    "from dotenv import load_dotenv"
   ]
  },
  {
   "cell_type": "code",
   "execution_count": null,
   "id": "fe9bbecb",
   "metadata": {},
   "outputs": [],
   "source": []
  },
  {
   "cell_type": "markdown",
   "id": "7ce662a8",
   "metadata": {},
   "source": [
    "### 1.  Extracting Unique Track, Artist, Album URIs and the Playlist data from Spotify Million Playlist Dataset \n",
    "\n",
    "This code extracts the track_uri, artist_uri, and album_uri from the JSON files in the Spotify Million Playlist Dataset. It also formats the CSV files to make them more compact and selects only the unique tracks, removing any repeated tracks present in the playlists."
   ]
  },
  {
   "cell_type": "code",
   "execution_count": 28,
   "id": "37512b7d",
   "metadata": {},
   "outputs": [],
   "source": [
    "def read_mpd_data(folderpath):\n",
    "\n",
    "    #Creating empty Dataframe with required Columns\n",
    "    tracks_df = pd.DataFrame(columns=['pid','track_uri','artist_uri', 'album_uri'])\n",
    "\n",
    "    # Fetching the data from the mpd data folder\n",
    "    json_files = [f for f in os.listdir(folderpath) if os.path.splitext(f)[1] == '.json']\n",
    "    json_files.sort()\n",
    "\n",
    "    # Fetching pid and track_uri for all the playlists\n",
    "    for index, js in tqdm(enumerate(json_files), total=len(json_files)):\n",
    "        with open(os.path.join(folderpath, js)) as json_file:\n",
    "            j = json.load(json_file)\n",
    "\n",
    "            # extracting tracks from playlists in each slice\n",
    "            tracks = pd.json_normalize(j['playlists'], record_path='tracks',\n",
    "                                meta=['pid'])\n",
    "            # append tracks to tracks_df\n",
    "            tracks = tracks[['pid', 'track_uri', 'artist_uri', 'album_uri']]\n",
    "            tracks_df = tracks_df.append(tracks)\n",
    "\n",
    "    # Writing the tracks DataFrame to a CSV file\n",
    "    tracks_df.to_csv('working/tracks_df.csv', index=False)\n",
    "    print(\"CSV file successfully written!\")"
   ]
  },
  {
   "cell_type": "code",
   "execution_count": 29,
   "id": "962cd893",
   "metadata": {},
   "outputs": [
    {
     "name": "stderr",
     "output_type": "stream",
     "text": [
      "100%|███████████████████████████████████████████████████████████████████████████████████████████████████████████████████████████████████████████████████████████████████████████████████████████████████| 1000/1000 [2:20:15<00:00,  8.42s/it]\n"
     ]
    },
    {
     "name": "stdout",
     "output_type": "stream",
     "text": [
      "CSV file successfully written!\n"
     ]
    }
   ],
   "source": [
    "data_dir = 'spotify-million-playlist/data'\n",
    "read_mpd_data(data_dir)"
   ]
  },
  {
   "cell_type": "code",
   "execution_count": 11,
   "id": "63295fec",
   "metadata": {},
   "outputs": [
    {
     "name": "stdout",
     "output_type": "stream",
     "text": [
      "pid.csv file successfully written!\n",
      "track_uri.csv file successfully written!\n",
      "artist_uri.csv file successfully written!\n",
      "album_uri.csv file successfully written!\n"
     ]
    }
   ],
   "source": [
    "tracks_df = pd.read_csv('working/tracks_df.csv')\n",
    "\n",
    "for col in tracks_df.columns:\n",
    "    tracks_df[[col]].to_csv(f'working/{col}.csv', index=False)\n",
    "    print(f\"{col}.csv file successfully written!\")"
   ]
  },
  {
   "cell_type": "code",
   "execution_count": 32,
   "id": "f5938532",
   "metadata": {},
   "outputs": [],
   "source": [
    "track_uri = list(set(pd.read_csv('working/track_uri.csv')['track_uri']))\n",
    "with open('working/unique_tracks.csv', 'w', newline='') as f:\n",
    "    writer = csv.writer(f)\n",
    "    writer.writerow(track_uri)\n",
    "    \n",
    "album_uri = list(set(pd.read_csv('working/album_uri.csv')['album_uri']))\n",
    "with open('working/unique_album.csv', 'w', newline='') as f:\n",
    "    writer = csv.writer(f)\n",
    "    writer.writerow(album_uri)\n",
    "    \n",
    "artist_uri = list(set(pd.read_csv('working/artist_uri.csv')['artist_uri']))\n",
    "with open('working/unique_artist.csv', 'w', newline='') as f:\n",
    "    writer = csv.writer(f)\n",
    "    writer.writerow(artist_uri)"
   ]
  },
  {
   "cell_type": "markdown",
   "id": "117d5175",
   "metadata": {},
   "source": [
    " This code extracts the Playlist data from the JSON files.\n",
    " \n",
    "We are reducing the size of the dataset because the subsequent processing tasks are computationally intensive and may be difficult to handle with the original dataset size.\n",
    "\n",
    "We randomly select only 20 files (equal to 20.000 playlists) of a total of 1.000 json files."
   ]
  },
  {
   "cell_type": "code",
   "execution_count": 29,
   "id": "e96209eb",
   "metadata": {},
   "outputs": [
    {
     "name": "stderr",
     "output_type": "stream",
     "text": [
      "Processing playlists: 100%|███████████████████████████████████████████████████████████████████████████████████████████████████████████████████████████████████████████████████████████████████████████████████| 20/20 [00:07<00:00,  2.53it/s]\n"
     ]
    }
   ],
   "source": [
    "data_dir = 'spotify-million-playlist/data'\n",
    "num_files_to_select = 20\n",
    "\n",
    "files = os.listdir(data_dir)\n",
    "selected_files = random.sample(files, num_files_to_select)\n",
    "\n",
    "playlists = []\n",
    "\n",
    "for file in tqdm(selected_files, desc=\"Processing playlists\"):\n",
    "    file_path = os.path.join(data_dir, file)\n",
    "    data = json.load(open(file_path))\n",
    "    playlists.append(pd.DataFrame(data['playlists']))\n",
    "\n",
    "playlists_data = pd.concat(playlists)\n",
    "playlists_data.to_csv('working/playlists_data.csv', index=False)"
   ]
  },
  {
   "cell_type": "markdown",
   "id": "f22ab102",
   "metadata": {},
   "source": [
    "A sample of the Playlist data."
   ]
  },
  {
   "cell_type": "code",
   "execution_count": 30,
   "id": "0c6a56f0",
   "metadata": {},
   "outputs": [
    {
     "data": {
      "text/html": [
       "<div>\n",
       "<style scoped>\n",
       "    .dataframe tbody tr th:only-of-type {\n",
       "        vertical-align: middle;\n",
       "    }\n",
       "\n",
       "    .dataframe tbody tr th {\n",
       "        vertical-align: top;\n",
       "    }\n",
       "\n",
       "    .dataframe thead th {\n",
       "        text-align: right;\n",
       "    }\n",
       "</style>\n",
       "<table border=\"1\" class=\"dataframe\">\n",
       "  <thead>\n",
       "    <tr style=\"text-align: right;\">\n",
       "      <th></th>\n",
       "      <th>name</th>\n",
       "      <th>collaborative</th>\n",
       "      <th>pid</th>\n",
       "      <th>modified_at</th>\n",
       "      <th>num_tracks</th>\n",
       "      <th>num_albums</th>\n",
       "      <th>num_followers</th>\n",
       "      <th>tracks</th>\n",
       "      <th>num_edits</th>\n",
       "      <th>duration_ms</th>\n",
       "      <th>num_artists</th>\n",
       "      <th>description</th>\n",
       "    </tr>\n",
       "  </thead>\n",
       "  <tbody>\n",
       "    <tr>\n",
       "      <th>19</th>\n",
       "      <td>Throwback</td>\n",
       "      <td>false</td>\n",
       "      <td>64019</td>\n",
       "      <td>1507766400</td>\n",
       "      <td>154</td>\n",
       "      <td>138</td>\n",
       "      <td>1</td>\n",
       "      <td>[{'pos': 0, 'artist_name': 'Plain White T's', ...</td>\n",
       "      <td>131</td>\n",
       "      <td>34025164</td>\n",
       "      <td>118</td>\n",
       "      <td>A nostalgic collection of rock music.</td>\n",
       "    </tr>\n",
       "    <tr>\n",
       "      <th>71</th>\n",
       "      <td>Old But Good</td>\n",
       "      <td>false</td>\n",
       "      <td>64071</td>\n",
       "      <td>1477353600</td>\n",
       "      <td>81</td>\n",
       "      <td>60</td>\n",
       "      <td>2</td>\n",
       "      <td>[{'pos': 0, 'artist_name': 'Jimmy Eat World', ...</td>\n",
       "      <td>31</td>\n",
       "      <td>17866039</td>\n",
       "      <td>44</td>\n",
       "      <td>Songs I used to listen to</td>\n",
       "    </tr>\n",
       "    <tr>\n",
       "      <th>159</th>\n",
       "      <td>DayDreams</td>\n",
       "      <td>false</td>\n",
       "      <td>64159</td>\n",
       "      <td>1509321600</td>\n",
       "      <td>22</td>\n",
       "      <td>18</td>\n",
       "      <td>2</td>\n",
       "      <td>[{'pos': 0, 'artist_name': 'Lana Del Rey', 'tr...</td>\n",
       "      <td>12</td>\n",
       "      <td>4245112</td>\n",
       "      <td>18</td>\n",
       "      <td>&amp;quot;Here&amp;#x27;s to the ones who dream, fooli...</td>\n",
       "    </tr>\n",
       "  </tbody>\n",
       "</table>\n",
       "</div>"
      ],
      "text/plain": [
       "             name collaborative    pid  modified_at  num_tracks  num_albums  \\\n",
       "19      Throwback         false  64019   1507766400         154         138   \n",
       "71   Old But Good         false  64071   1477353600          81          60   \n",
       "159     DayDreams         false  64159   1509321600          22          18   \n",
       "\n",
       "     num_followers                                             tracks  \\\n",
       "19               1  [{'pos': 0, 'artist_name': 'Plain White T's', ...   \n",
       "71               2  [{'pos': 0, 'artist_name': 'Jimmy Eat World', ...   \n",
       "159              2  [{'pos': 0, 'artist_name': 'Lana Del Rey', 'tr...   \n",
       "\n",
       "     num_edits  duration_ms  num_artists  \\\n",
       "19         131     34025164          118   \n",
       "71          31     17866039           44   \n",
       "159         12      4245112           18   \n",
       "\n",
       "                                           description  \n",
       "19               A nostalgic collection of rock music.  \n",
       "71                           Songs I used to listen to  \n",
       "159  &quot;Here&#x27;s to the ones who dream, fooli...  "
      ]
     },
     "execution_count": 30,
     "metadata": {},
     "output_type": "execute_result"
    }
   ],
   "source": [
    "playlists_data[playlists_data['description'].notna()].head(3)"
   ]
  },
  {
   "cell_type": "code",
   "execution_count": 31,
   "id": "2c9ccd9d",
   "metadata": {},
   "outputs": [
    {
     "data": {
      "text/plain": [
       "(20000, 12)"
      ]
     },
     "execution_count": 31,
     "metadata": {},
     "output_type": "execute_result"
    }
   ],
   "source": [
    "playlists_data.shape"
   ]
  },
  {
   "cell_type": "code",
   "execution_count": 36,
   "id": "6bc1aae7",
   "metadata": {},
   "outputs": [
    {
     "name": "stderr",
     "output_type": "stream",
     "text": [
      "Processing playlists: 100%|███████████████████████████████████████████████████████████████████████████████████████████████████████████████████████████████████████████████████████████████████████████████| 1000/1000 [17:33<00:00,  1.05s/it]"
     ]
    },
    {
     "name": "stdout",
     "output_type": "stream",
     "text": [
      "CSV file successfully written!\n"
     ]
    },
    {
     "name": "stderr",
     "output_type": "stream",
     "text": [
      "\n"
     ]
    }
   ],
   "source": [
    "##################################################################################\n",
    "# REMEMBER TO DELETE THIS CELL - deprecated #\n",
    "##################################################################################\n",
    "\n",
    "data_dir = 'spotify-million-playlist/data'\n",
    "output_file = 'working/playlists.csv'\n",
    "\n",
    "with open(output_file, 'w') as f:\n",
    "    first_file = True\n",
    "    for file in tqdm(os.listdir(data_dir), desc=\"Processing playlists\"):\n",
    "        if file.endswith('.json'):\n",
    "            file_path = os.path.join(data_dir, file)\n",
    "            with open(file_path, 'r') as json_file:\n",
    "                data = json.load(json_file)\n",
    "                playlist_df = pd.DataFrame(data['playlists'])\n",
    "                playlist_df.to_csv(f, header=first_file, index=False)\n",
    "                if first_file:\n",
    "                    first_file = False\n",
    "print(\"CSV file successfully written!\")"
   ]
  },
  {
   "cell_type": "markdown",
   "id": "3a1ceeff",
   "metadata": {},
   "source": [
    "To conserve HDD space, we proceede to delete the original Spotify-Million-Playlist data and any other files that are no longer needed."
   ]
  },
  {
   "cell_type": "markdown",
   "id": "b3a815f2",
   "metadata": {},
   "source": [
    "### 2. Extracting Audio Features using Spotipy Library\n",
    "\n",
    "This code is designed to extract audio features for each track in the Spotify Million Playlist Dataset. The audio features are extracted using the Spotipy library which allows access to the Spotify API.\n",
    "\n",
    "These audio features include: danceability, energy, key, loudness, mode, speechiness, acousticness, instrumentalness, liveness, valence, tempo, duration_ms, and time_signature. A description of each audio feature can be found here: [Spotify for Developers.](https://developer.spotify.com/documentation/web-api/reference/get-audio-features)\n",
    "\n",
    "(By extracting the audio features, we gain insights into the characteristics of each track and can use this information to analyze the playlist as a whole. This step is essential for any analysis that requires an understanding of the musical properties of each track.)"
   ]
  },
  {
   "cell_type": "code",
   "execution_count": 38,
   "id": "ac3e3454",
   "metadata": {},
   "outputs": [],
   "source": [
    "with open('working/unique_tracks.csv', 'r') as f:\n",
    "    reader = csv.reader(f)\n",
    "    unique_tracks = list(reader)[0]"
   ]
  },
  {
   "cell_type": "code",
   "execution_count": 39,
   "id": "7e6a7e7c",
   "metadata": {},
   "outputs": [
    {
     "name": "stdout",
     "output_type": "stream",
     "text": [
      "No. of unique Tracks:  2262292\n"
     ]
    }
   ],
   "source": [
    "print('No. of unique Tracks: ', len(unique_tracks))"
   ]
  },
  {
   "cell_type": "code",
   "execution_count": 49,
   "id": "ac2a7806",
   "metadata": {},
   "outputs": [],
   "source": [
    "# Initialize Spotify API\n",
    "load_dotenv('spotify_credentials.env')\n",
    "sp = spotipy.Spotify(client_credentials_manager=SpotifyClientCredentials(), requests_timeout=40)"
   ]
  },
  {
   "cell_type": "code",
   "execution_count": 54,
   "id": "d1825f76",
   "metadata": {},
   "outputs": [
    {
     "name": "stderr",
     "output_type": "stream",
     "text": [
      "100%|████████████████████████████████████████████████████████████████████████████████████████████████████████████████████████████████████████████████████████████████████████████████████████████| 2262292/2262292 [1:05:38<00:00, 574.37it/s]\n"
     ]
    }
   ],
   "source": [
    "#Fetching the spotify audio features, in chunks of 100 uri at a time.\n",
    "start = 0\n",
    "end = len(unique_tracks)\n",
    "\n",
    "# Initialize empty list to hold audio features\n",
    "itemlist = []\n",
    "\n",
    "with tqdm(total=end) as pbar:\n",
    "    for i in range(start, end, 100):\n",
    "        temp_list = unique_tracks[i:i+100]\n",
    "        try:\n",
    "            playlists = sp.audio_features(temp_list)\n",
    "            # Adding audio feature to itemlist\n",
    "            itemlist.extend(playlists)\n",
    "        except Exception as error:\n",
    "            print('Error:', error)\n",
    "            time.sleep(3)\n",
    "            continue\n",
    "        pbar.update(len(temp_list))"
   ]
  },
  {
   "cell_type": "code",
   "execution_count": null,
   "id": "1cbc0727",
   "metadata": {},
   "outputs": [],
   "source": [
    "# Initialize an empty list\n",
    "after_audio_features_list = []\n",
    "\n",
    "# Iterate over each item\n",
    "for item in itemlist:\n",
    "    # Check if the item is not None\n",
    "    if item is not None:\n",
    "        # Append the item to the list\n",
    "        after_audio_features_list.append(item)\n",
    "\n",
    "# Create DataFrame\n",
    "after_audio_features = pd.DataFrame(after_audio_features_list)\n",
    "\n",
    "# Save as csv\n",
    "after_audio_features.to_csv('working/song_audio_features.csv', index= False)"
   ]
  },
  {
   "cell_type": "markdown",
   "id": "710013e7",
   "metadata": {},
   "source": [
    "A sample of the Audio Features extracted."
   ]
  },
  {
   "cell_type": "code",
   "execution_count": 6,
   "id": "babbdae4",
   "metadata": {},
   "outputs": [
    {
     "data": {
      "text/html": [
       "<div>\n",
       "<style scoped>\n",
       "    .dataframe tbody tr th:only-of-type {\n",
       "        vertical-align: middle;\n",
       "    }\n",
       "\n",
       "    .dataframe tbody tr th {\n",
       "        vertical-align: top;\n",
       "    }\n",
       "\n",
       "    .dataframe thead th {\n",
       "        text-align: right;\n",
       "    }\n",
       "</style>\n",
       "<table border=\"1\" class=\"dataframe\">\n",
       "  <thead>\n",
       "    <tr style=\"text-align: right;\">\n",
       "      <th></th>\n",
       "      <th>danceability</th>\n",
       "      <th>energy</th>\n",
       "      <th>key</th>\n",
       "      <th>loudness</th>\n",
       "      <th>mode</th>\n",
       "      <th>speechiness</th>\n",
       "      <th>acousticness</th>\n",
       "      <th>instrumentalness</th>\n",
       "      <th>liveness</th>\n",
       "      <th>valence</th>\n",
       "      <th>tempo</th>\n",
       "      <th>type</th>\n",
       "      <th>id</th>\n",
       "      <th>uri</th>\n",
       "      <th>track_href</th>\n",
       "      <th>analysis_url</th>\n",
       "      <th>duration_ms</th>\n",
       "      <th>time_signature</th>\n",
       "    </tr>\n",
       "  </thead>\n",
       "  <tbody>\n",
       "    <tr>\n",
       "      <th>0</th>\n",
       "      <td>0.648</td>\n",
       "      <td>0.223</td>\n",
       "      <td>7</td>\n",
       "      <td>-18.995</td>\n",
       "      <td>1</td>\n",
       "      <td>0.0305</td>\n",
       "      <td>0.7110</td>\n",
       "      <td>0.000033</td>\n",
       "      <td>0.360</td>\n",
       "      <td>0.490</td>\n",
       "      <td>115.443</td>\n",
       "      <td>audio_features</td>\n",
       "      <td>53oYDp9wNqCWbaa3FrNLoW</td>\n",
       "      <td>spotify:track:53oYDp9wNqCWbaa3FrNLoW</td>\n",
       "      <td>https://api.spotify.com/v1/tracks/53oYDp9wNqCW...</td>\n",
       "      <td>https://api.spotify.com/v1/audio-analysis/53oY...</td>\n",
       "      <td>344027</td>\n",
       "      <td>4</td>\n",
       "    </tr>\n",
       "    <tr>\n",
       "      <th>1</th>\n",
       "      <td>0.563</td>\n",
       "      <td>0.795</td>\n",
       "      <td>9</td>\n",
       "      <td>-4.904</td>\n",
       "      <td>1</td>\n",
       "      <td>0.1030</td>\n",
       "      <td>0.1700</td>\n",
       "      <td>0.000000</td>\n",
       "      <td>0.132</td>\n",
       "      <td>0.566</td>\n",
       "      <td>91.470</td>\n",
       "      <td>audio_features</td>\n",
       "      <td>4JYbUk8tzGLr5UEr7UP6F8</td>\n",
       "      <td>spotify:track:4JYbUk8tzGLr5UEr7UP6F8</td>\n",
       "      <td>https://api.spotify.com/v1/tracks/4JYbUk8tzGLr...</td>\n",
       "      <td>https://api.spotify.com/v1/audio-analysis/4JYb...</td>\n",
       "      <td>1026116</td>\n",
       "      <td>4</td>\n",
       "    </tr>\n",
       "    <tr>\n",
       "      <th>2</th>\n",
       "      <td>0.525</td>\n",
       "      <td>0.923</td>\n",
       "      <td>1</td>\n",
       "      <td>-3.311</td>\n",
       "      <td>0</td>\n",
       "      <td>0.0890</td>\n",
       "      <td>0.0392</td>\n",
       "      <td>0.000000</td>\n",
       "      <td>0.189</td>\n",
       "      <td>0.531</td>\n",
       "      <td>148.420</td>\n",
       "      <td>audio_features</td>\n",
       "      <td>7f0fbvmmNyQxCldwORvPUg</td>\n",
       "      <td>spotify:track:7f0fbvmmNyQxCldwORvPUg</td>\n",
       "      <td>https://api.spotify.com/v1/tracks/7f0fbvmmNyQx...</td>\n",
       "      <td>https://api.spotify.com/v1/audio-analysis/7f0f...</td>\n",
       "      <td>230173</td>\n",
       "      <td>4</td>\n",
       "    </tr>\n",
       "  </tbody>\n",
       "</table>\n",
       "</div>"
      ],
      "text/plain": [
       "   danceability  energy  key  loudness  mode  speechiness  acousticness  \\\n",
       "0         0.648   0.223    7   -18.995     1       0.0305        0.7110   \n",
       "1         0.563   0.795    9    -4.904     1       0.1030        0.1700   \n",
       "2         0.525   0.923    1    -3.311     0       0.0890        0.0392   \n",
       "\n",
       "   instrumentalness  liveness  valence    tempo            type  \\\n",
       "0          0.000033     0.360    0.490  115.443  audio_features   \n",
       "1          0.000000     0.132    0.566   91.470  audio_features   \n",
       "2          0.000000     0.189    0.531  148.420  audio_features   \n",
       "\n",
       "                       id                                   uri  \\\n",
       "0  53oYDp9wNqCWbaa3FrNLoW  spotify:track:53oYDp9wNqCWbaa3FrNLoW   \n",
       "1  4JYbUk8tzGLr5UEr7UP6F8  spotify:track:4JYbUk8tzGLr5UEr7UP6F8   \n",
       "2  7f0fbvmmNyQxCldwORvPUg  spotify:track:7f0fbvmmNyQxCldwORvPUg   \n",
       "\n",
       "                                          track_href  \\\n",
       "0  https://api.spotify.com/v1/tracks/53oYDp9wNqCW...   \n",
       "1  https://api.spotify.com/v1/tracks/4JYbUk8tzGLr...   \n",
       "2  https://api.spotify.com/v1/tracks/7f0fbvmmNyQx...   \n",
       "\n",
       "                                        analysis_url  duration_ms  \\\n",
       "0  https://api.spotify.com/v1/audio-analysis/53oY...       344027   \n",
       "1  https://api.spotify.com/v1/audio-analysis/4JYb...      1026116   \n",
       "2  https://api.spotify.com/v1/audio-analysis/7f0f...       230173   \n",
       "\n",
       "   time_signature  \n",
       "0               4  \n",
       "1               4  \n",
       "2               4  "
      ]
     },
     "execution_count": 6,
     "metadata": {},
     "output_type": "execute_result"
    }
   ],
   "source": [
    "after_audio_features = pd.read_csv('working/song_audio_features.csv')\n",
    "after_audio_features.head(3)"
   ]
  },
  {
   "cell_type": "markdown",
   "id": "66803808",
   "metadata": {},
   "source": [
    "Dropping unwanted columns."
   ]
  },
  {
   "cell_type": "code",
   "execution_count": 7,
   "id": "170a022e",
   "metadata": {},
   "outputs": [
    {
     "data": {
      "text/html": [
       "<div>\n",
       "<style scoped>\n",
       "    .dataframe tbody tr th:only-of-type {\n",
       "        vertical-align: middle;\n",
       "    }\n",
       "\n",
       "    .dataframe tbody tr th {\n",
       "        vertical-align: top;\n",
       "    }\n",
       "\n",
       "    .dataframe thead th {\n",
       "        text-align: right;\n",
       "    }\n",
       "</style>\n",
       "<table border=\"1\" class=\"dataframe\">\n",
       "  <thead>\n",
       "    <tr style=\"text-align: right;\">\n",
       "      <th></th>\n",
       "      <th>danceability</th>\n",
       "      <th>energy</th>\n",
       "      <th>key</th>\n",
       "      <th>loudness</th>\n",
       "      <th>mode</th>\n",
       "      <th>speechiness</th>\n",
       "      <th>acousticness</th>\n",
       "      <th>instrumentalness</th>\n",
       "      <th>liveness</th>\n",
       "      <th>valence</th>\n",
       "      <th>tempo</th>\n",
       "      <th>uri</th>\n",
       "      <th>duration_ms</th>\n",
       "      <th>time_signature</th>\n",
       "    </tr>\n",
       "  </thead>\n",
       "  <tbody>\n",
       "    <tr>\n",
       "      <th>0</th>\n",
       "      <td>0.648</td>\n",
       "      <td>0.223</td>\n",
       "      <td>7</td>\n",
       "      <td>-18.995</td>\n",
       "      <td>1</td>\n",
       "      <td>0.0305</td>\n",
       "      <td>0.7110</td>\n",
       "      <td>0.000033</td>\n",
       "      <td>0.360</td>\n",
       "      <td>0.490</td>\n",
       "      <td>115.443</td>\n",
       "      <td>spotify:track:53oYDp9wNqCWbaa3FrNLoW</td>\n",
       "      <td>344027</td>\n",
       "      <td>4</td>\n",
       "    </tr>\n",
       "    <tr>\n",
       "      <th>1</th>\n",
       "      <td>0.563</td>\n",
       "      <td>0.795</td>\n",
       "      <td>9</td>\n",
       "      <td>-4.904</td>\n",
       "      <td>1</td>\n",
       "      <td>0.1030</td>\n",
       "      <td>0.1700</td>\n",
       "      <td>0.000000</td>\n",
       "      <td>0.132</td>\n",
       "      <td>0.566</td>\n",
       "      <td>91.470</td>\n",
       "      <td>spotify:track:4JYbUk8tzGLr5UEr7UP6F8</td>\n",
       "      <td>1026116</td>\n",
       "      <td>4</td>\n",
       "    </tr>\n",
       "    <tr>\n",
       "      <th>2</th>\n",
       "      <td>0.525</td>\n",
       "      <td>0.923</td>\n",
       "      <td>1</td>\n",
       "      <td>-3.311</td>\n",
       "      <td>0</td>\n",
       "      <td>0.0890</td>\n",
       "      <td>0.0392</td>\n",
       "      <td>0.000000</td>\n",
       "      <td>0.189</td>\n",
       "      <td>0.531</td>\n",
       "      <td>148.420</td>\n",
       "      <td>spotify:track:7f0fbvmmNyQxCldwORvPUg</td>\n",
       "      <td>230173</td>\n",
       "      <td>4</td>\n",
       "    </tr>\n",
       "  </tbody>\n",
       "</table>\n",
       "</div>"
      ],
      "text/plain": [
       "   danceability  energy  key  loudness  mode  speechiness  acousticness  \\\n",
       "0         0.648   0.223    7   -18.995     1       0.0305        0.7110   \n",
       "1         0.563   0.795    9    -4.904     1       0.1030        0.1700   \n",
       "2         0.525   0.923    1    -3.311     0       0.0890        0.0392   \n",
       "\n",
       "   instrumentalness  liveness  valence    tempo  \\\n",
       "0          0.000033     0.360    0.490  115.443   \n",
       "1          0.000000     0.132    0.566   91.470   \n",
       "2          0.000000     0.189    0.531  148.420   \n",
       "\n",
       "                                    uri  duration_ms  time_signature  \n",
       "0  spotify:track:53oYDp9wNqCWbaa3FrNLoW       344027               4  \n",
       "1  spotify:track:4JYbUk8tzGLr5UEr7UP6F8      1026116               4  \n",
       "2  spotify:track:7f0fbvmmNyQxCldwORvPUg       230173               4  "
      ]
     },
     "execution_count": 7,
     "metadata": {},
     "output_type": "execute_result"
    }
   ],
   "source": [
    "after_audio_features = after_audio_features.drop(['type', 'id', 'track_href', 'analysis_url'], axis=1)\n",
    "after_audio_features.to_csv('working/song_audio_features.csv', index= False)\n",
    "after_audio_features.head(3)"
   ]
  },
  {
   "cell_type": "code",
   "execution_count": null,
   "id": "44811256",
   "metadata": {},
   "outputs": [],
   "source": []
  },
  {
   "cell_type": "markdown",
   "id": "915011bb",
   "metadata": {},
   "source": [
    "#### 2.1. Extracting Adiccional Track Info using Spotipy Library\n",
    "\n",
    "We attempted to extract additional track information, such as track popularity, the presence of explicit content, and the album genres of the artist or album.\n",
    "\n",
    "Unfortunately, due to the constraints of the Spotify API, we were only able to apply the code to a sizable portion of the dataset. Furthermore, we encountered other issues such as inconsistencies in the API's response structure and a lack of these features in a large portion of the dataset.\n",
    "\n",
    "As a result, we had to use workarounds that resulted in messy code, and we ultimately had to abandon the idea of incorporating some of the above-mentioned features.\n"
   ]
  },
  {
   "cell_type": "code",
   "execution_count": 5,
   "id": "4bc59125",
   "metadata": {},
   "outputs": [],
   "source": [
    "# Initialize Spotify API\n",
    "load_dotenv('spotify_credentials.env')\n",
    "sp = spotipy.Spotify(client_credentials_manager=SpotifyClientCredentials(), requests_timeout=40)"
   ]
  },
  {
   "cell_type": "code",
   "execution_count": 3,
   "id": "5b55d488",
   "metadata": {},
   "outputs": [],
   "source": [
    "# This cell should be executed after creating the dataset (\"playlists_ex_data\") in section 3.\n",
    "\n",
    "playlists_ex_data = pd.read_csv('working/playlists_ex_data.csv')\n",
    "\n",
    "track_list = playlists_ex_data['track_uri'].unique().tolist()\n",
    "track_list = list(map(lambda x: x.replace('spotify:track:', ''), track_list))"
   ]
  },
  {
   "cell_type": "markdown",
   "id": "cc0edd0a",
   "metadata": {},
   "source": [
    "We decided to separate the track list into other lists extracted from the API due to the API's limitations and the lack of some features. We thought that using sp.albums and sp.artists instead of sp.tracks may yield better results."
   ]
  },
  {
   "cell_type": "code",
   "execution_count": 6,
   "id": "8b46a058",
   "metadata": {},
   "outputs": [
    {
     "name": "stderr",
     "output_type": "stream",
     "text": [
      "100%|████████████████████████████████████████████████████████████████████████████████████████████████████████████████████████████████████████████████████████████████████████████████████████████████| 268230/268230 [16:13<00:00, 275.52it/s]\n"
     ]
    }
   ],
   "source": [
    "# using track_list \n",
    "\n",
    "#Fetching the spotify audio features, in chunks of 100 uri at a time.\n",
    "utrack_list = list(set(track_list))\n",
    "start = 0\n",
    "end = len(track_list)\n",
    "\n",
    "# Initialize empty list to hold audio features\n",
    "album_release_date_t = []\n",
    "album_id_t = []\n",
    "\n",
    "artist_id_t = []\n",
    "\n",
    "track_popularity_t = []\n",
    "track_explicit_t = []\n",
    "\n",
    "with tqdm(total=end) as pbar:\n",
    "    for i in range(start, end, 50):\n",
    "        temp_list = track_list[i:i+50]\n",
    "        try:\n",
    "            extra_features = sp.tracks(temp_list)['tracks']\n",
    "            for x in range(len(extra_features)):\n",
    "                if extra_features[x] is not None:\n",
    "                    # Adding to the lists\n",
    "                    album_release_date_t.append(extra_features[x]['album']['release_date'])\n",
    "                    album_id_t.append(extra_features[x]['album']['id'])\n",
    "\n",
    "                    artist_id_t.append(extra_features[x]['artists'][0]['id'])\n",
    "\n",
    "                    track_popularity_t.append(extra_features[x]['popularity'])\n",
    "                    track_explicit_t.append(extra_features[x]['explicit'])\n",
    "                else:\n",
    "                    album_release_date_t.append(None)\n",
    "                    album_id_t.append(None)\n",
    "                    artist_id_t.append(None)\n",
    "                    track_popularity_t.append(None)\n",
    "                    track_explicit_t.append(None)\n",
    "        except Exception as error:\n",
    "            print('Error:', error)\n",
    "            print(i)\n",
    "            time.sleep(3)\n",
    "            continue\n",
    "        pbar.update(len(temp_list))"
   ]
  },
  {
   "cell_type": "code",
   "execution_count": 11,
   "id": "3c0f9991",
   "metadata": {},
   "outputs": [],
   "source": [
    "# SAVING lists to working environment\n",
    "\n",
    "with open(\"working/album_release_date_t\", \"wb\") as fp:\n",
    "    pickle.dump(album_release_date_t, fp)\n",
    "    \n",
    "with open(\"working/album_id_t\", \"wb\") as fp:\n",
    "    pickle.dump(album_id_t, fp)\n",
    "    \n",
    "with open(\"working/artist_id_t\", \"wb\") as fp:\n",
    "    pickle.dump(artist_id_t, fp)\n",
    "    \n",
    "with open(\"working/track_popularity_t\", \"wb\") as fp:\n",
    "    pickle.dump(track_popularity_t, fp)\n",
    "    \n",
    "with open(\"working/track_explicit_t\", \"wb\") as fp:\n",
    "    pickle.dump(track_explicit_t, fp)"
   ]
  },
  {
   "cell_type": "code",
   "execution_count": 5,
   "id": "6cb023af",
   "metadata": {},
   "outputs": [],
   "source": [
    "# LOADING lists\n",
    "\n",
    "with open(\"working/album_release_date_t\", \"rb\") as fp:\n",
    "    album_release_date_t = pickle.load(fp)\n",
    "    \n",
    "with open(\"working/album_id_t\", \"rb\") as fp:\n",
    "    album_id_t = pickle.load(fp)\n",
    "    \n",
    "with open(\"working/artist_id_t\", \"rb\") as fp:\n",
    "    artist_id_t = pickle.load(fp)\n",
    "    \n",
    "with open(\"working/track_popularity_t\", \"rb\") as fp:\n",
    "    track_popularity_t = pickle.load(fp)\n",
    "    \n",
    "with open(\"working/track_explicit_t\", \"rb\") as fp:\n",
    "    track_explicit_t = pickle.load(fp)"
   ]
  },
  {
   "cell_type": "code",
   "execution_count": null,
   "id": "0dade8d5",
   "metadata": {},
   "outputs": [],
   "source": []
  },
  {
   "cell_type": "markdown",
   "id": "d465517e",
   "metadata": {},
   "source": [
    "##### 2.1.1 Attempting to Extract Other Track Details\n",
    "\n",
    "Although the code below functions correctly, it was not utilized due to the aforementioned issues."
   ]
  },
  {
   "cell_type": "code",
   "execution_count": 5,
   "id": "8d2537c5",
   "metadata": {},
   "outputs": [],
   "source": [
    "album_id_t_1 = album_id_t[:154000]\n",
    "album_id_t_2 = album_id_t[154000:]"
   ]
  },
  {
   "cell_type": "code",
   "execution_count": null,
   "id": "d1fba9fc",
   "metadata": {},
   "outputs": [],
   "source": [
    "# Extracting track info \n",
    "# Using ALBUMS ID (PART 1 of 2)\n",
    "\n",
    "end = len(prova)\n",
    "\n",
    "# Initialize empty list to hold audio features\n",
    "album_genres_1 = []\n",
    "album_popularity = []\n",
    "\n",
    "with tqdm(total=end) as pbar:\n",
    "    for i in range(0, end, 20):\n",
    "        temp_list = prova[i:i+20]\n",
    "        try:\n",
    "            extra_features = sp.albums(temp_list)['albums']\n",
    "            for x in range(len(extra_features)):\n",
    "                if extra_features[x] is not None:\n",
    "                    # Adding audio info to lists\n",
    "                    album_genres_1.append(extra_features[x]['genres'])\n",
    "                    album_popularity.append(extra_features[x]['popularity'])\n",
    "                else:\n",
    "                    album_genres_1.append('None')\n",
    "                    album_popularity.append('None')\n",
    "        except Exception as error:\n",
    "            print('Error:', error)\n",
    "            time.sleep(3)\n",
    "            continue\n",
    "        pbar.update(len(temp_list))"
   ]
  },
  {
   "cell_type": "markdown",
   "id": "a6396ac8",
   "metadata": {},
   "source": [
    "As shown in the following printout, it returns a higher number of 'None' values than anticipated."
   ]
  },
  {
   "cell_type": "code",
   "execution_count": 102,
   "id": "95722a00",
   "metadata": {},
   "outputs": [
    {
     "name": "stdout",
     "output_type": "stream",
     "text": [
      "[[], None, None]\n",
      "[65, None, None]\n"
     ]
    }
   ],
   "source": [
    "print(album_genres_1)\n",
    "print(album_popularity)"
   ]
  },
  {
   "cell_type": "code",
   "execution_count": 120,
   "id": "4d0b1a4b",
   "metadata": {},
   "outputs": [
    {
     "name": "stderr",
     "output_type": "stream",
     "text": [
      "100%|███████████████████████████████████████████████████████████████████████████████████████████████████████████████████████████| 1/1 [00:00<00:00, 16.86it/s]\n"
     ]
    }
   ],
   "source": [
    "end = len(prova)\n",
    "\n",
    "# Initialize empty list to hold audio features\n",
    "extra_features = []\n",
    "\n",
    "with tqdm(total=end) as pbar:\n",
    "    for i in range(0, end, 20):\n",
    "        temp_list = prova[i:i+20]\n",
    "        try:\n",
    "            extra_features = sp.albums(temp_list)['albums']\n",
    "\n",
    "            extra_features.append(extra_features)\n",
    "\n",
    "        except:\n",
    "            for item in temp_list: # add None values to the lists\n",
    "                album_genres_1.append(None)\n",
    "                album_popularity.append(None)\n",
    "        pbar.update(len(temp_list))\n"
   ]
  },
  {
   "cell_type": "markdown",
   "id": "c171a3da",
   "metadata": {},
   "source": [
    "We tested the information returned from the Spotify API to determine whether there were any issues with the data format. However, as shown in the following printout, it returned null values.\n",
    "\n",
    "Although we had already retrieved all of the album track details, we assumed that the issue was with our code and therefore decided to scrap that portion of the code and start anew."
   ]
  },
  {
   "cell_type": "code",
   "execution_count": 119,
   "id": "7c908202",
   "metadata": {},
   "outputs": [
    {
     "data": {
      "text/plain": [
       "[[...]]"
      ]
     },
     "execution_count": 119,
     "metadata": {},
     "output_type": "execute_result"
    }
   ],
   "source": [
    "extra_features"
   ]
  },
  {
   "cell_type": "code",
   "execution_count": null,
   "id": "7573da6b",
   "metadata": {},
   "outputs": [],
   "source": [
    "# Using ARTISTS ID\n",
    "\n",
    "# Initialize empty list to hold audio features\n",
    "artist_genres = []\n",
    "artist_popularity = []\n",
    "\n",
    "with tqdm(total=end) as pbar:\n",
    "    for i in range(0, len(artist_id_t), 50):\n",
    "        temp_list = artist_id_t[i:i+50]\n",
    "        try:\n",
    "            extra_features = sp.artists(temp_list)['artists']\n",
    "            for x in range(len(extra_features)):\n",
    "                # Adding audio info to lists\n",
    "                artist_genres.append(extra_features[x]['genres'])\n",
    "                artist_popularity.append(extra_features[x]['popularity'])\n",
    "        except:\n",
    "            for _ in range(len(temp_list)): # add None values to the lists\n",
    "                artist_genres.append(None)\n",
    "                artist_popularity.append(None)\n",
    "            continue\n",
    "        pbar.update(len(temp_list))"
   ]
  },
  {
   "cell_type": "code",
   "execution_count": 6,
   "id": "88d1e78e",
   "metadata": {},
   "outputs": [],
   "source": [
    "data_info_to_dic = {\n",
    "    'album_release_date': album_release_date_t,\n",
    "    'track_popularity': track_popularity_t,\n",
    "    'track_explicit': track_explicit_t,\n",
    "    'track_id': track_list}\n",
    "\n",
    "df_track_info = pd.DataFrame(data_info_to_dic)"
   ]
  },
  {
   "cell_type": "code",
   "execution_count": null,
   "id": "69d76421",
   "metadata": {},
   "outputs": [],
   "source": []
  },
  {
   "cell_type": "markdown",
   "id": "eda9160d",
   "metadata": {},
   "source": [
    "### 3. Adding Audio Features to Playlist Dataset and Data Cleaning\n",
    "\n",
    "This code extracts track values from the track column in the Playlist dataset, and merges the audio features data from a separate dataframe using the track_uri column. The resulting merged dataset is then cleaned to remove any irrelevant or missing data.\n",
    "\n",
    "The final dataset contains 20,000 playlists with over 1.33 million songs, providing a comprehensive source of audio feature data for analysis and modeling."
   ]
  },
  {
   "cell_type": "code",
   "execution_count": 2,
   "id": "13a0f920",
   "metadata": {},
   "outputs": [],
   "source": [
    "after_audio_features = pd.read_csv('working/song_audio_features.csv')\n",
    "playlists_data = pd.read_csv('working/playlists_data.csv')"
   ]
  },
  {
   "cell_type": "code",
   "execution_count": null,
   "id": "abd30867",
   "metadata": {},
   "outputs": [],
   "source": [
    "playlists_data = playlists_data.explode('tracks')\n",
    "\n",
    "playlists_data['track_uri'] = playlists_data['tracks'].apply(lambda x: x['track_uri'])\n",
    "playlists_data['pos'] = playlists_data['tracks'].apply(lambda x: x['pos'])\n",
    "playlists_data['artist_name'] = playlists_data['tracks'].apply(lambda x: x['artist_name'])\n",
    "playlists_data['track_name'] = playlists_data['tracks'].apply(lambda x: x['track_name'])\n",
    "playlists_data['duration_ms'] = playlists_data['tracks'].apply(lambda x: x['duration_ms'])\n",
    "playlists_data['album_name'] = playlists_data['tracks'].apply(lambda x: x['album_name'])"
   ]
  },
  {
   "cell_type": "code",
   "execution_count": 36,
   "id": "0952efb9",
   "metadata": {},
   "outputs": [],
   "source": [
    "playlists_data = playlists_data.drop(['tracks'], axis=1)"
   ]
  },
  {
   "cell_type": "code",
   "execution_count": 38,
   "id": "a1516c38",
   "metadata": {},
   "outputs": [
    {
     "data": {
      "text/plain": [
       "(1330043, 16)"
      ]
     },
     "execution_count": 38,
     "metadata": {},
     "output_type": "execute_result"
    }
   ],
   "source": [
    "playlists_data.shape"
   ]
  },
  {
   "cell_type": "code",
   "execution_count": 48,
   "id": "6337c181",
   "metadata": {},
   "outputs": [],
   "source": [
    "playlists_ex_data = pd.merge(playlists_data, after_audio_features, left_on='track_uri', right_on='uri', how='inner')\n",
    "playlists_ex_data = playlists_ex_data.sort_values(['pid', 'pos'])"
   ]
  },
  {
   "cell_type": "code",
   "execution_count": 32,
   "id": "918a68c0",
   "metadata": {},
   "outputs": [],
   "source": [
    "playlists_ex_data = playlists_ex_data.drop(['uri', 'duration_ms_x'], axis=1)\n",
    "playlists_ex_data = playlists_ex_data.reindex(columns=['pid', 'pos', 'name', 'description', 'modified_at', 'num_tracks', 'num_albums', 'num_followers', 'num_edits', 'artist_name', 'track_name', 'album_name', 'track_uri','danceability', 'energy', 'key', 'loudness', 'mode', 'speechiness', 'acousticness', 'instrumentalness', 'liveness', 'valence', 'tempo', 'duration_ms_y', 'time_signature'])\n",
    "playlists_ex_data = playlists_ex_data.rename(columns={'duration_ms_y': 'duration_ms'})"
   ]
  },
  {
   "cell_type": "code",
   "execution_count": 35,
   "id": "ee197bf6",
   "metadata": {},
   "outputs": [],
   "source": [
    "playlists_ex_data.to_csv('working/playlists_ex_data.csv', index= False)"
   ]
  },
  {
   "cell_type": "code",
   "execution_count": 36,
   "id": "b4495693",
   "metadata": {},
   "outputs": [
    {
     "data": {
      "text/plain": [
       "(1330040, 26)"
      ]
     },
     "execution_count": 36,
     "metadata": {},
     "output_type": "execute_result"
    }
   ],
   "source": [
    "playlists_ex_data.shape"
   ]
  },
  {
   "cell_type": "markdown",
   "id": "3e7060e3",
   "metadata": {},
   "source": [
    "A sample of the dataset:"
   ]
  },
  {
   "cell_type": "code",
   "execution_count": 38,
   "id": "b040c7d2",
   "metadata": {},
   "outputs": [
    {
     "data": {
      "text/html": [
       "<div>\n",
       "<style scoped>\n",
       "    .dataframe tbody tr th:only-of-type {\n",
       "        vertical-align: middle;\n",
       "    }\n",
       "\n",
       "    .dataframe tbody tr th {\n",
       "        vertical-align: top;\n",
       "    }\n",
       "\n",
       "    .dataframe thead th {\n",
       "        text-align: right;\n",
       "    }\n",
       "</style>\n",
       "<table border=\"1\" class=\"dataframe\">\n",
       "  <thead>\n",
       "    <tr style=\"text-align: right;\">\n",
       "      <th></th>\n",
       "      <th>pid</th>\n",
       "      <th>pos</th>\n",
       "      <th>name</th>\n",
       "      <th>description</th>\n",
       "      <th>modified_at</th>\n",
       "      <th>num_tracks</th>\n",
       "      <th>num_albums</th>\n",
       "      <th>num_followers</th>\n",
       "      <th>num_edits</th>\n",
       "      <th>artist_name</th>\n",
       "      <th>...</th>\n",
       "      <th>loudness</th>\n",
       "      <th>mode</th>\n",
       "      <th>speechiness</th>\n",
       "      <th>acousticness</th>\n",
       "      <th>instrumentalness</th>\n",
       "      <th>liveness</th>\n",
       "      <th>valence</th>\n",
       "      <th>tempo</th>\n",
       "      <th>duration_ms</th>\n",
       "      <th>time_signature</th>\n",
       "    </tr>\n",
       "  </thead>\n",
       "  <tbody>\n",
       "    <tr>\n",
       "      <th>330</th>\n",
       "      <td>11007</td>\n",
       "      <td>0</td>\n",
       "      <td>the playlist</td>\n",
       "      <td>this playlist contains pretty much all my favo...</td>\n",
       "      <td>1508803200</td>\n",
       "      <td>169</td>\n",
       "      <td>150</td>\n",
       "      <td>2</td>\n",
       "      <td>131</td>\n",
       "      <td>Zedd</td>\n",
       "      <td>...</td>\n",
       "      <td>-3.480</td>\n",
       "      <td>1</td>\n",
       "      <td>0.0720</td>\n",
       "      <td>0.0398</td>\n",
       "      <td>0.000000</td>\n",
       "      <td>0.0749</td>\n",
       "      <td>0.176</td>\n",
       "      <td>128.000</td>\n",
       "      <td>271427</td>\n",
       "      <td>4</td>\n",
       "    </tr>\n",
       "    <tr>\n",
       "      <th>331</th>\n",
       "      <td>11007</td>\n",
       "      <td>1</td>\n",
       "      <td>the playlist</td>\n",
       "      <td>this playlist contains pretty much all my favo...</td>\n",
       "      <td>1508803200</td>\n",
       "      <td>169</td>\n",
       "      <td>150</td>\n",
       "      <td>2</td>\n",
       "      <td>131</td>\n",
       "      <td>OutKast</td>\n",
       "      <td>...</td>\n",
       "      <td>-2.261</td>\n",
       "      <td>0</td>\n",
       "      <td>0.0664</td>\n",
       "      <td>0.1030</td>\n",
       "      <td>0.000532</td>\n",
       "      <td>0.1740</td>\n",
       "      <td>0.965</td>\n",
       "      <td>79.526</td>\n",
       "      <td>235213</td>\n",
       "      <td>4</td>\n",
       "    </tr>\n",
       "    <tr>\n",
       "      <th>332</th>\n",
       "      <td>11007</td>\n",
       "      <td>2</td>\n",
       "      <td>the playlist</td>\n",
       "      <td>this playlist contains pretty much all my favo...</td>\n",
       "      <td>1508803200</td>\n",
       "      <td>169</td>\n",
       "      <td>150</td>\n",
       "      <td>2</td>\n",
       "      <td>131</td>\n",
       "      <td>Foster The People</td>\n",
       "      <td>...</td>\n",
       "      <td>-5.849</td>\n",
       "      <td>0</td>\n",
       "      <td>0.0292</td>\n",
       "      <td>0.1450</td>\n",
       "      <td>0.115000</td>\n",
       "      <td>0.0956</td>\n",
       "      <td>0.965</td>\n",
       "      <td>127.975</td>\n",
       "      <td>239600</td>\n",
       "      <td>4</td>\n",
       "    </tr>\n",
       "  </tbody>\n",
       "</table>\n",
       "<p>3 rows × 26 columns</p>\n",
       "</div>"
      ],
      "text/plain": [
       "       pid  pos          name  \\\n",
       "330  11007    0  the playlist   \n",
       "331  11007    1  the playlist   \n",
       "332  11007    2  the playlist   \n",
       "\n",
       "                                           description  modified_at  \\\n",
       "330  this playlist contains pretty much all my favo...   1508803200   \n",
       "331  this playlist contains pretty much all my favo...   1508803200   \n",
       "332  this playlist contains pretty much all my favo...   1508803200   \n",
       "\n",
       "     num_tracks  num_albums  num_followers  num_edits        artist_name  ...  \\\n",
       "330         169         150              2        131               Zedd  ...   \n",
       "331         169         150              2        131            OutKast  ...   \n",
       "332         169         150              2        131  Foster The People  ...   \n",
       "\n",
       "    loudness mode speechiness  acousticness  instrumentalness  liveness  \\\n",
       "330   -3.480    1      0.0720        0.0398          0.000000    0.0749   \n",
       "331   -2.261    0      0.0664        0.1030          0.000532    0.1740   \n",
       "332   -5.849    0      0.0292        0.1450          0.115000    0.0956   \n",
       "\n",
       "     valence    tempo  duration_ms  time_signature  \n",
       "330    0.176  128.000       271427               4  \n",
       "331    0.965   79.526       235213               4  \n",
       "332    0.965  127.975       239600               4  \n",
       "\n",
       "[3 rows x 26 columns]"
      ]
     },
     "execution_count": 38,
     "metadata": {},
     "output_type": "execute_result"
    }
   ],
   "source": [
    "playlists_ex_data[playlists_ex_data['description'].notna()].head(3)"
   ]
  },
  {
   "cell_type": "code",
   "execution_count": 39,
   "id": "7f6529b3",
   "metadata": {},
   "outputs": [
    {
     "data": {
      "text/plain": [
       "Index(['pid', 'pos', 'name', 'description', 'modified_at', 'num_tracks',\n",
       "       'num_albums', 'num_followers', 'num_edits', 'artist_name', 'track_name',\n",
       "       'album_name', 'track_uri', 'danceability', 'energy', 'key', 'loudness',\n",
       "       'mode', 'speechiness', 'acousticness', 'instrumentalness', 'liveness',\n",
       "       'valence', 'tempo', 'duration_ms', 'time_signature'],\n",
       "      dtype='object')"
      ]
     },
     "execution_count": 39,
     "metadata": {},
     "output_type": "execute_result"
    }
   ],
   "source": [
    "playlists_ex_data.columns"
   ]
  },
  {
   "cell_type": "markdown",
   "id": "822463c5",
   "metadata": {},
   "source": [
    "#### 3.1 Adding addicional track info to the Playlist Dataset\n",
    "\n",
    "We add the album release date, the track popularity, and the presence of explicit content to the Dataset."
   ]
  },
  {
   "cell_type": "code",
   "execution_count": 10,
   "id": "762e8184",
   "metadata": {},
   "outputs": [],
   "source": [
    "playlists_ex_data = pd.read_csv('working/playlists_ex_data.csv')"
   ]
  },
  {
   "cell_type": "code",
   "execution_count": 14,
   "id": "74afe20e",
   "metadata": {},
   "outputs": [],
   "source": [
    "playlists_ex_data['track_uri'] = playlists_ex_data['track_uri'].apply(lambda x: x.replace('spotify:track:', ''))\n",
    "playlists_dataset = pd.merge(playlists_ex_data, df_track_info, left_on='track_uri', right_on='track_id', how='left')"
   ]
  },
  {
   "cell_type": "code",
   "execution_count": 36,
   "id": "58b92ab7",
   "metadata": {},
   "outputs": [],
   "source": [
    "playlists_dataset = playlists_dataset.drop(['track_id'], axis=1)"
   ]
  },
  {
   "cell_type": "code",
   "execution_count": 41,
   "id": "9c9ec76f",
   "metadata": {},
   "outputs": [],
   "source": [
    "playlists_dataset.to_csv('working/playlists_dataset.csv', index= False)"
   ]
  },
  {
   "cell_type": "code",
   "execution_count": 37,
   "id": "0a728ab3",
   "metadata": {},
   "outputs": [
    {
     "data": {
      "text/plain": [
       "(1330040, 29)"
      ]
     },
     "execution_count": 37,
     "metadata": {},
     "output_type": "execute_result"
    }
   ],
   "source": [
    "playlists_dataset.shape"
   ]
  },
  {
   "cell_type": "code",
   "execution_count": 39,
   "id": "0052bbf5",
   "metadata": {},
   "outputs": [
    {
     "data": {
      "text/plain": [
       "Index(['pid', 'pos', 'name', 'description', 'modified_at', 'num_tracks',\n",
       "       'num_albums', 'num_followers', 'num_edits', 'artist_name', 'track_name',\n",
       "       'album_name', 'track_uri', 'danceability', 'energy', 'key', 'loudness',\n",
       "       'mode', 'speechiness', 'acousticness', 'instrumentalness', 'liveness',\n",
       "       'valence', 'tempo', 'duration_ms', 'time_signature',\n",
       "       'album_release_date', 'track_popularity', 'track_explicit'],\n",
       "      dtype='object')"
      ]
     },
     "execution_count": 39,
     "metadata": {},
     "output_type": "execute_result"
    }
   ],
   "source": [
    "playlists_dataset.columns"
   ]
  },
  {
   "cell_type": "code",
   "execution_count": 40,
   "id": "4cb04ca7",
   "metadata": {},
   "outputs": [
    {
     "data": {
      "text/html": [
       "<div>\n",
       "<style scoped>\n",
       "    .dataframe tbody tr th:only-of-type {\n",
       "        vertical-align: middle;\n",
       "    }\n",
       "\n",
       "    .dataframe tbody tr th {\n",
       "        vertical-align: top;\n",
       "    }\n",
       "\n",
       "    .dataframe thead th {\n",
       "        text-align: right;\n",
       "    }\n",
       "</style>\n",
       "<table border=\"1\" class=\"dataframe\">\n",
       "  <thead>\n",
       "    <tr style=\"text-align: right;\">\n",
       "      <th></th>\n",
       "      <th>pid</th>\n",
       "      <th>pos</th>\n",
       "      <th>name</th>\n",
       "      <th>description</th>\n",
       "      <th>modified_at</th>\n",
       "      <th>num_tracks</th>\n",
       "      <th>num_albums</th>\n",
       "      <th>num_followers</th>\n",
       "      <th>num_edits</th>\n",
       "      <th>artist_name</th>\n",
       "      <th>...</th>\n",
       "      <th>acousticness</th>\n",
       "      <th>instrumentalness</th>\n",
       "      <th>liveness</th>\n",
       "      <th>valence</th>\n",
       "      <th>tempo</th>\n",
       "      <th>duration_ms</th>\n",
       "      <th>time_signature</th>\n",
       "      <th>album_release_date</th>\n",
       "      <th>track_popularity</th>\n",
       "      <th>track_explicit</th>\n",
       "    </tr>\n",
       "  </thead>\n",
       "  <tbody>\n",
       "    <tr>\n",
       "      <th>330</th>\n",
       "      <td>11007</td>\n",
       "      <td>0</td>\n",
       "      <td>the playlist</td>\n",
       "      <td>this playlist contains pretty much all my favo...</td>\n",
       "      <td>1508803200</td>\n",
       "      <td>169</td>\n",
       "      <td>150</td>\n",
       "      <td>2</td>\n",
       "      <td>131</td>\n",
       "      <td>Zedd</td>\n",
       "      <td>...</td>\n",
       "      <td>0.0398</td>\n",
       "      <td>0.000000</td>\n",
       "      <td>0.0749</td>\n",
       "      <td>0.176</td>\n",
       "      <td>128.000</td>\n",
       "      <td>271427</td>\n",
       "      <td>4</td>\n",
       "      <td>2012-01-01</td>\n",
       "      <td>76.0</td>\n",
       "      <td>False</td>\n",
       "    </tr>\n",
       "    <tr>\n",
       "      <th>331</th>\n",
       "      <td>11007</td>\n",
       "      <td>1</td>\n",
       "      <td>the playlist</td>\n",
       "      <td>this playlist contains pretty much all my favo...</td>\n",
       "      <td>1508803200</td>\n",
       "      <td>169</td>\n",
       "      <td>150</td>\n",
       "      <td>2</td>\n",
       "      <td>131</td>\n",
       "      <td>OutKast</td>\n",
       "      <td>...</td>\n",
       "      <td>0.1030</td>\n",
       "      <td>0.000532</td>\n",
       "      <td>0.1740</td>\n",
       "      <td>0.965</td>\n",
       "      <td>79.526</td>\n",
       "      <td>235213</td>\n",
       "      <td>4</td>\n",
       "      <td>2003</td>\n",
       "      <td>83.0</td>\n",
       "      <td>False</td>\n",
       "    </tr>\n",
       "    <tr>\n",
       "      <th>332</th>\n",
       "      <td>11007</td>\n",
       "      <td>2</td>\n",
       "      <td>the playlist</td>\n",
       "      <td>this playlist contains pretty much all my favo...</td>\n",
       "      <td>1508803200</td>\n",
       "      <td>169</td>\n",
       "      <td>150</td>\n",
       "      <td>2</td>\n",
       "      <td>131</td>\n",
       "      <td>Foster The People</td>\n",
       "      <td>...</td>\n",
       "      <td>0.1450</td>\n",
       "      <td>0.115000</td>\n",
       "      <td>0.0956</td>\n",
       "      <td>0.965</td>\n",
       "      <td>127.975</td>\n",
       "      <td>239600</td>\n",
       "      <td>4</td>\n",
       "      <td>2011-05-23</td>\n",
       "      <td>84.0</td>\n",
       "      <td>False</td>\n",
       "    </tr>\n",
       "  </tbody>\n",
       "</table>\n",
       "<p>3 rows × 29 columns</p>\n",
       "</div>"
      ],
      "text/plain": [
       "       pid  pos          name  \\\n",
       "330  11007    0  the playlist   \n",
       "331  11007    1  the playlist   \n",
       "332  11007    2  the playlist   \n",
       "\n",
       "                                           description  modified_at  \\\n",
       "330  this playlist contains pretty much all my favo...   1508803200   \n",
       "331  this playlist contains pretty much all my favo...   1508803200   \n",
       "332  this playlist contains pretty much all my favo...   1508803200   \n",
       "\n",
       "     num_tracks  num_albums  num_followers  num_edits        artist_name  ...  \\\n",
       "330         169         150              2        131               Zedd  ...   \n",
       "331         169         150              2        131            OutKast  ...   \n",
       "332         169         150              2        131  Foster The People  ...   \n",
       "\n",
       "    acousticness instrumentalness liveness  valence    tempo  duration_ms  \\\n",
       "330       0.0398         0.000000   0.0749    0.176  128.000       271427   \n",
       "331       0.1030         0.000532   0.1740    0.965   79.526       235213   \n",
       "332       0.1450         0.115000   0.0956    0.965  127.975       239600   \n",
       "\n",
       "     time_signature  album_release_date  track_popularity  track_explicit  \n",
       "330               4          2012-01-01              76.0           False  \n",
       "331               4                2003              83.0           False  \n",
       "332               4          2011-05-23              84.0           False  \n",
       "\n",
       "[3 rows x 29 columns]"
      ]
     },
     "execution_count": 40,
     "metadata": {},
     "output_type": "execute_result"
    }
   ],
   "source": [
    "playlists_dataset[playlists_dataset.notna().all(axis=1)].head(3)"
   ]
  },
  {
   "cell_type": "code",
   "execution_count": null,
   "id": "238c40fe",
   "metadata": {},
   "outputs": [],
   "source": []
  },
  {
   "cell_type": "code",
   "execution_count": 19,
   "id": "87dff5e3",
   "metadata": {},
   "outputs": [
    {
     "name": "stderr",
     "output_type": "stream",
     "text": [
      "[codecarbon WARNING @ 12:21:38] Background scheduler didn't run for a long period (81s), results might be inaccurate\n",
      "[codecarbon INFO @ 12:21:38] Energy consumed for RAM : 0.000452 kWh. RAM Power : 11.759862899780273 W\n",
      "[codecarbon INFO @ 12:21:38] Energy consumed for all CPUs : 0.001634 kWh. All CPUs Power : 42.5 W\n",
      "[codecarbon INFO @ 12:21:38] 0.002087 kWh of electricity used since the begining.\n"
     ]
    },
    {
     "data": {
      "text/plain": [
       "0.00039647753147580814"
      ]
     },
     "execution_count": 19,
     "metadata": {},
     "output_type": "execute_result"
    },
    {
     "name": "stderr",
     "output_type": "stream",
     "text": [
      "[codecarbon INFO @ 12:21:38] Energy consumed for RAM : 0.004164 kWh. RAM Power : 11.759862899780273 W\n",
      "[codecarbon INFO @ 12:21:38] Energy consumed for all CPUs : 0.015051 kWh. All CPUs Power : 42.5 W\n",
      "[codecarbon INFO @ 12:21:38] 0.019214 kWh of electricity used since the begining.\n",
      "[codecarbon INFO @ 12:21:53] Energy consumed for RAM : 0.004213 kWh. RAM Power : 11.759862899780273 W\n",
      "[codecarbon INFO @ 12:21:53] Energy consumed for all CPUs : 0.015228 kWh. All CPUs Power : 42.5 W\n",
      "[codecarbon INFO @ 12:21:53] 0.019441 kWh of electricity used since the begining.\n",
      "[codecarbon INFO @ 12:22:08] Energy consumed for RAM : 0.004262 kWh. RAM Power : 11.759862899780273 W\n",
      "[codecarbon INFO @ 12:22:08] Energy consumed for all CPUs : 0.015405 kWh. All CPUs Power : 42.5 W\n",
      "[codecarbon INFO @ 12:22:08] 0.019667 kWh of electricity used since the begining.\n"
     ]
    }
   ],
   "source": [
    "experiment.end()\n",
    "\n",
    "emissions_tracker.stop()"
   ]
  },
  {
   "cell_type": "code",
   "execution_count": null,
   "id": "0df2e28b",
   "metadata": {},
   "outputs": [],
   "source": []
  }
 ],
 "metadata": {
  "kernelspec": {
   "display_name": "Python 3 (ipykernel)",
   "language": "python",
   "name": "python3"
  },
  "language_info": {
   "codemirror_mode": {
    "name": "ipython",
    "version": 3
   },
   "file_extension": ".py",
   "mimetype": "text/x-python",
   "name": "python",
   "nbconvert_exporter": "python",
   "pygments_lexer": "ipython3",
   "version": "3.8.10"
  }
 },
 "nbformat": 4,
 "nbformat_minor": 5
}
