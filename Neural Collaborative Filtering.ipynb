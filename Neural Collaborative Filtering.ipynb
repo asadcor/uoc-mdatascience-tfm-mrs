{
 "cells": [
  {
   "cell_type": "markdown",
   "id": "a76a586b",
   "metadata": {},
   "source": [
    "## Neural Collaborative Filtering Recommender"
   ]
  },
  {
   "cell_type": "code",
   "execution_count": 2,
   "id": "ae516742",
   "metadata": {},
   "outputs": [
    {
     "name": "stderr",
     "output_type": "stream",
     "text": [
      "\u001b[1;38;5;214mCOMET WARNING:\u001b[0m As you are running in a Jupyter environment, you will need to call `experiment.end()` when finished to ensure all metrics and code are logged before exiting.\n",
      "[codecarbon INFO @ 09:08:31] [setup] RAM Tracking...\n",
      "[codecarbon INFO @ 09:08:31] [setup] GPU Tracking...\n",
      "[codecarbon INFO @ 09:08:31] No GPU found.\n",
      "[codecarbon INFO @ 09:08:31] [setup] CPU Tracking...\n",
      "[codecarbon WARNING @ 09:08:31] No CPU tracking mode found. Falling back on CPU constant mode.\n",
      "[codecarbon WARNING @ 09:08:33] We saw that you have a Intel(R) Xeon(R) CPU E5-2630 v3 @ 2.40GHz but we don't know it. Please contact us.\n",
      "[codecarbon INFO @ 09:08:33] CPU Model on constant consumption mode: Intel(R) Xeon(R) CPU E5-2630 v3 @ 2.40GHz\n",
      "[codecarbon INFO @ 09:08:33] >>> Tracker's metadata:\n",
      "[codecarbon INFO @ 09:08:33]   Platform system: Linux-5.4.0-147-generic-x86_64-with-glibc2.29\n",
      "[codecarbon INFO @ 09:08:33]   Python version: 3.8.10\n",
      "[codecarbon INFO @ 09:08:33]   Available RAM : 31.360 GB\n",
      "[codecarbon INFO @ 09:08:33]   CPU count: 8\n",
      "[codecarbon INFO @ 09:08:33]   CPU model: Intel(R) Xeon(R) CPU E5-2630 v3 @ 2.40GHz\n",
      "[codecarbon INFO @ 09:08:33]   GPU count: None\n",
      "[codecarbon INFO @ 09:08:33]   GPU model: None\n",
      "\u001b[1;38;5;39mCOMET INFO:\u001b[0m Couldn't find a Git repository in '/home/asadcor' nor in any parent directory. Set `COMET_GIT_DIRECTORY` if your Git Repository is elsewhere.\n",
      "\u001b[1;38;5;39mCOMET INFO:\u001b[0m Experiment is live on comet.com https://www.comet.com/sadcor/general/a698a8c031f3443cb85948d7e5783675\n",
      "\n"
     ]
    }
   ],
   "source": [
    "from comet_ml import Experiment\n",
    "experiment = Experiment(api_key=\"ummagUWZ5eIZzmhPtFkA8oopu\")"
   ]
  },
  {
   "cell_type": "code",
   "execution_count": 3,
   "id": "c3b0e5cc",
   "metadata": {},
   "outputs": [
    {
     "name": "stderr",
     "output_type": "stream",
     "text": [
      "2023-05-01 09:08:40.067253: W tensorflow/stream_executor/platform/default/dso_loader.cc:64] Could not load dynamic library 'libcudart.so.11.0'; dlerror: libcudart.so.11.0: cannot open shared object file: No such file or directory\n",
      "2023-05-01 09:08:40.067329: I tensorflow/stream_executor/cuda/cudart_stub.cc:29] Ignore above cudart dlerror if you do not have a GPU set up on your machine.\n"
     ]
    }
   ],
   "source": [
    "from tqdm import tqdm\n",
    "\n",
    "import csv\n",
    "import numpy as np\n",
    "import pandas as pd\n",
    "import scipy.sparse as sp\n",
    "\n",
    "from sklearn.model_selection import train_test_split\n",
    "from scipy.sparse import csr_matrix\n",
    "\n",
    "import keras\n",
    "import tensorflow as tf\n",
    "from keras.callbacks import ModelCheckpoint\n",
    "from keras.models import load_model\n",
    "from sklearn.preprocessing import OneHotEncoder\n",
    "from sklearn.metrics import confusion_matrix\n",
    "from sklearn.metrics import f1_score\n",
    "from sklearn.metrics import roc_auc_score\n",
    "from keras.layers import Input, Embedding, Flatten, Dropout, Concatenate, Dot, BatchNormalization, Dense\n",
    "\n",
    "from IPython.display import SVG\n",
    "from keras.utils.vis_utils import model_to_dot"
   ]
  },
  {
   "cell_type": "code",
   "execution_count": 24,
   "id": "589a5107",
   "metadata": {},
   "outputs": [
    {
     "name": "stderr",
     "output_type": "stream",
     "text": [
      "[codecarbon INFO @ 09:16:52] Energy consumed for RAM : 0.001621 kWh. RAM Power : 11.759872913360596 W\n",
      "[codecarbon INFO @ 09:16:52] Energy consumed for all CPUs : 0.005862 kWh. All CPUs Power : 42.5 W\n",
      "[codecarbon INFO @ 09:16:52] 0.007483 kWh of electricity used since the begining.\n"
     ]
    }
   ],
   "source": [
    "import matplotlib.pyplot as plt\n",
    "import time"
   ]
  },
  {
   "cell_type": "code",
   "execution_count": 45,
   "id": "150ff77c",
   "metadata": {},
   "outputs": [],
   "source": [
    "import math"
   ]
  },
  {
   "cell_type": "markdown",
   "id": "9098ed11",
   "metadata": {},
   "source": [
    "###  Overview of NeuMF neural recommendation system\n",
    "\n",
    "1. Build sparse one-hot encoding matrix that maps relationships between users (playlists) and items (tracks).\n",
    "2. Playlist (more generally called u for user) and item (i) vectors are used to create embeddings (low-dimensional) for each playlist and item.\n",
    "3. Generalized Matrix Factorization (GMF) combines the two embeddings using the dot product (this is the classic matrix factorization).\n",
    "4. Multi-layer perceptron (MLP) can also create embeddings for user and items. However, instead of taking a dot product of these to obtain the rating, I can concatenate them to create a feature vector that is passed on to deeper layers.\n",
    "5. NeuMF then combines the predictions from MLP and GMF to obtain the final prediction.\n",
    "\n",
    "Neural Networks for Collaborative Filtering: https://nipunbatra.github.io/blog/posts/2017-12-29-neural-collaborative-filtering.html\n",
    "\n",
    "https://caravanuden.com/projects/spotify-recsys/"
   ]
  },
  {
   "cell_type": "code",
   "execution_count": 5,
   "id": "1bd8ae7f",
   "metadata": {},
   "outputs": [],
   "source": [
    "playlists_dataset_with_mood = pd.read_csv('working/playlists_dataset_with_mood.csv')"
   ]
  },
  {
   "cell_type": "code",
   "execution_count": 6,
   "id": "2046f3bb",
   "metadata": {},
   "outputs": [],
   "source": [
    "playlists_dataset_with_mood['trackindex'] = playlists_dataset_with_mood['track_uri'].astype('category').cat.codes\n",
    "playlists_dataset_with_mood = playlists_dataset_with_mood.drop('description', axis=1)\n",
    "playlists_dataset_with_mood = playlists_dataset_with_mood.dropna()"
   ]
  },
  {
   "cell_type": "markdown",
   "id": "1a0e993f",
   "metadata": {},
   "source": [
    "102773\n",
    "122323"
   ]
  },
  {
   "cell_type": "code",
   "execution_count": 7,
   "id": "353af3dc",
   "metadata": {},
   "outputs": [],
   "source": [
    "pdwm_100k = playlists_dataset_with_mood.sample(n=100000, random_state=12)\n",
    "\n",
    "mask = pdwm_100k['pid'].duplicated(keep=False)\n",
    "pdwm_100k_filtered = pdwm_100k[mask]"
   ]
  },
  {
   "cell_type": "code",
   "execution_count": 8,
   "id": "5f37b956",
   "metadata": {},
   "outputs": [
    {
     "data": {
      "text/plain": [
       "(97153, 30)"
      ]
     },
     "execution_count": 8,
     "metadata": {},
     "output_type": "execute_result"
    },
    {
     "name": "stderr",
     "output_type": "stream",
     "text": [
      "[codecarbon INFO @ 09:09:05] Energy consumed for RAM : 0.000098 kWh. RAM Power : 11.759872913360596 W\n",
      "[codecarbon INFO @ 09:09:05] Energy consumed for all CPUs : 0.000354 kWh. All CPUs Power : 42.5 W\n",
      "[codecarbon INFO @ 09:09:05] 0.000452 kWh of electricity used since the begining.\n"
     ]
    }
   ],
   "source": [
    "pdwm_100k_filtered.shape"
   ]
  },
  {
   "cell_type": "code",
   "execution_count": 9,
   "id": "107045ad",
   "metadata": {
    "scrolled": false
   },
   "outputs": [
    {
     "name": "stderr",
     "output_type": "stream",
     "text": [
      "[codecarbon INFO @ 09:09:22] Energy consumed for RAM : 0.000153 kWh. RAM Power : 11.759872913360596 W\n",
      "[codecarbon INFO @ 09:09:22] Energy consumed for all CPUs : 0.000552 kWh. All CPUs Power : 42.5 W\n",
      "[codecarbon INFO @ 09:09:22] 0.000704 kWh of electricity used since the begining.\n",
      "[codecarbon INFO @ 09:09:37] Energy consumed for RAM : 0.000202 kWh. RAM Power : 11.759872913360596 W\n",
      "[codecarbon INFO @ 09:09:37] Energy consumed for all CPUs : 0.000729 kWh. All CPUs Power : 42.5 W\n",
      "[codecarbon INFO @ 09:09:37] 0.000930 kWh of electricity used since the begining.\n",
      "[codecarbon INFO @ 09:09:52] Energy consumed for RAM : 0.000250 kWh. RAM Power : 11.759872913360596 W\n",
      "[codecarbon INFO @ 09:09:52] Energy consumed for all CPUs : 0.000906 kWh. All CPUs Power : 42.5 W\n",
      "[codecarbon INFO @ 09:09:52] 0.001156 kWh of electricity used since the begining.\n",
      "[codecarbon INFO @ 09:10:07] Energy consumed for RAM : 0.000299 kWh. RAM Power : 11.759872913360596 W\n",
      "[codecarbon INFO @ 09:10:07] Energy consumed for all CPUs : 0.001083 kWh. All CPUs Power : 42.5 W\n",
      "[codecarbon INFO @ 09:10:07] 0.001382 kWh of electricity used since the begining.\n",
      "[codecarbon INFO @ 09:10:22] Energy consumed for RAM : 0.000348 kWh. RAM Power : 11.759872913360596 W\n",
      "[codecarbon INFO @ 09:10:22] Energy consumed for all CPUs : 0.001260 kWh. All CPUs Power : 42.5 W\n",
      "[codecarbon INFO @ 09:10:22] 0.001608 kWh of electricity used since the begining.\n",
      "[codecarbon INFO @ 09:10:37] Energy consumed for RAM : 0.000397 kWh. RAM Power : 11.759872913360596 W\n",
      "[codecarbon INFO @ 09:10:37] Energy consumed for all CPUs : 0.001437 kWh. All CPUs Power : 42.5 W\n",
      "[codecarbon INFO @ 09:10:37] 0.001834 kWh of electricity used since the begining.\n",
      "[codecarbon INFO @ 09:10:52] Energy consumed for RAM : 0.000446 kWh. RAM Power : 11.759872913360596 W\n",
      "[codecarbon INFO @ 09:10:52] Energy consumed for all CPUs : 0.001614 kWh. All CPUs Power : 42.5 W\n",
      "[codecarbon INFO @ 09:10:52] 0.002060 kWh of electricity used since the begining.\n",
      "[codecarbon INFO @ 09:11:07] Energy consumed for RAM : 0.000495 kWh. RAM Power : 11.759872913360596 W\n",
      "[codecarbon INFO @ 09:11:07] Energy consumed for all CPUs : 0.001791 kWh. All CPUs Power : 42.5 W\n",
      "[codecarbon INFO @ 09:11:07] 0.002286 kWh of electricity used since the begining.\n",
      "[codecarbon INFO @ 09:11:22] Energy consumed for RAM : 0.000544 kWh. RAM Power : 11.759872913360596 W\n",
      "[codecarbon INFO @ 09:11:22] Energy consumed for all CPUs : 0.001968 kWh. All CPUs Power : 42.5 W\n",
      "[codecarbon INFO @ 09:11:22] 0.002512 kWh of electricity used since the begining.\n",
      "[codecarbon INFO @ 09:11:37] Energy consumed for RAM : 0.000593 kWh. RAM Power : 11.759872913360596 W\n",
      "[codecarbon INFO @ 09:11:37] Energy consumed for all CPUs : 0.002145 kWh. All CPUs Power : 42.5 W\n",
      "[codecarbon INFO @ 09:11:37] 0.002738 kWh of electricity used since the begining.\n",
      "[codecarbon INFO @ 09:11:52] Energy consumed for RAM : 0.000642 kWh. RAM Power : 11.759872913360596 W\n",
      "[codecarbon INFO @ 09:11:52] Energy consumed for all CPUs : 0.002322 kWh. All CPUs Power : 42.5 W\n",
      "[codecarbon INFO @ 09:11:52] 0.002964 kWh of electricity used since the begining.\n",
      "[codecarbon INFO @ 09:12:07] Energy consumed for RAM : 0.000691 kWh. RAM Power : 11.759872913360596 W\n",
      "[codecarbon INFO @ 09:12:07] Energy consumed for all CPUs : 0.002499 kWh. All CPUs Power : 42.5 W\n",
      "[codecarbon INFO @ 09:12:07] 0.003190 kWh of electricity used since the begining.\n",
      "[codecarbon INFO @ 09:12:22] Energy consumed for RAM : 0.000740 kWh. RAM Power : 11.759872913360596 W\n",
      "[codecarbon INFO @ 09:12:22] Energy consumed for all CPUs : 0.002676 kWh. All CPUs Power : 42.5 W\n",
      "[codecarbon INFO @ 09:12:22] 0.003416 kWh of electricity used since the begining.\n",
      "[codecarbon INFO @ 09:12:37] Energy consumed for RAM : 0.000789 kWh. RAM Power : 11.759872913360596 W\n",
      "[codecarbon INFO @ 09:12:37] Energy consumed for all CPUs : 0.002853 kWh. All CPUs Power : 42.5 W\n",
      "[codecarbon INFO @ 09:12:37] 0.003642 kWh of electricity used since the begining.\n",
      "[codecarbon INFO @ 09:12:52] Energy consumed for RAM : 0.000838 kWh. RAM Power : 11.759872913360596 W\n",
      "[codecarbon INFO @ 09:12:52] Energy consumed for all CPUs : 0.003030 kWh. All CPUs Power : 42.5 W\n",
      "[codecarbon INFO @ 09:12:52] 0.003869 kWh of electricity used since the begining.\n",
      "[codecarbon INFO @ 09:13:07] Energy consumed for RAM : 0.000887 kWh. RAM Power : 11.759872913360596 W\n",
      "[codecarbon INFO @ 09:13:07] Energy consumed for all CPUs : 0.003208 kWh. All CPUs Power : 42.5 W\n",
      "[codecarbon INFO @ 09:13:07] 0.004095 kWh of electricity used since the begining.\n",
      "[codecarbon INFO @ 09:13:22] Energy consumed for RAM : 0.000936 kWh. RAM Power : 11.759872913360596 W\n",
      "[codecarbon INFO @ 09:13:22] Energy consumed for all CPUs : 0.003384 kWh. All CPUs Power : 42.5 W\n",
      "[codecarbon INFO @ 09:13:22] 0.004319 kWh of electricity used since the begining.\n"
     ]
    },
    {
     "name": "stdout",
     "output_type": "stream",
     "text": [
      "CPU times: user 3min 40s, sys: 27 s, total: 4min 7s\n",
      "Wall time: 4min 7s\n"
     ]
    }
   ],
   "source": [
    "%%time\n",
    "\n",
    "# Create Binary Sparse Matrix\n",
    "s_matrix = pd.crosstab(pdwm_100k_filtered.pid, pdwm_100k_filtered.track_uri)\n",
    "s_matrix = s_matrix.clip(upper=1)\n",
    "\n",
    "assert np.max(s_matrix.describe().loc['max']) == 1\n",
    "\n",
    "sparse_matrix = csr_matrix(s_matrix, dtype=np.float64)"
   ]
  },
  {
   "cell_type": "code",
   "execution_count": 10,
   "id": "4f476929",
   "metadata": {},
   "outputs": [
    {
     "name": "stdout",
     "output_type": "stream",
     "text": [
      "False\n",
      "False\n"
     ]
    }
   ],
   "source": [
    "print(np.isnan(sparse_matrix.data).any())\n",
    "print(np.isinf(sparse_matrix.data).any())"
   ]
  },
  {
   "cell_type": "code",
   "execution_count": 11,
   "id": "30a80c46",
   "metadata": {},
   "outputs": [
    {
     "data": {
      "text/plain": [
       "<15246x46670 sparse matrix of type '<class 'numpy.float64'>'\n",
       "\twith 97049 stored elements in Compressed Sparse Row format>"
      ]
     },
     "execution_count": 11,
     "metadata": {},
     "output_type": "execute_result"
    }
   ],
   "source": [
    "sparse_matrix"
   ]
  },
  {
   "cell_type": "code",
   "execution_count": 12,
   "id": "a3f0c095",
   "metadata": {},
   "outputs": [
    {
     "data": {
      "text/plain": [
       "<15246x46670 sparse matrix of type '<class 'numpy.float64'>'\n",
       "\twith 97049 stored elements in Compressed Sparse Column format>"
      ]
     },
     "execution_count": 12,
     "metadata": {},
     "output_type": "execute_result"
    },
    {
     "name": "stderr",
     "output_type": "stream",
     "text": [
      "[codecarbon INFO @ 09:13:37] Energy consumed for RAM : 0.000985 kWh. RAM Power : 11.759872913360596 W\n",
      "[codecarbon INFO @ 09:13:37] Energy consumed for all CPUs : 0.003561 kWh. All CPUs Power : 42.5 W\n",
      "[codecarbon INFO @ 09:13:37] 0.004545 kWh of electricity used since the begining.\n",
      "[codecarbon INFO @ 09:13:52] Energy consumed for RAM : 0.001034 kWh. RAM Power : 11.759872913360596 W\n",
      "[codecarbon INFO @ 09:13:52] Energy consumed for all CPUs : 0.003738 kWh. All CPUs Power : 42.5 W\n",
      "[codecarbon INFO @ 09:13:52] 0.004771 kWh of electricity used since the begining.\n",
      "[codecarbon INFO @ 09:14:07] Energy consumed for RAM : 0.001083 kWh. RAM Power : 11.759872913360596 W\n",
      "[codecarbon INFO @ 09:14:07] Energy consumed for all CPUs : 0.003915 kWh. All CPUs Power : 42.5 W\n",
      "[codecarbon INFO @ 09:14:07] 0.004997 kWh of electricity used since the begining.\n"
     ]
    }
   ],
   "source": [
    "# convert matrix to csc type\n",
    "sparse_matrix_csv = sparse_matrix.tocsc()\n",
    "sparse_matrix_csv"
   ]
  },
  {
   "cell_type": "code",
   "execution_count": null,
   "id": "7708ac4c",
   "metadata": {},
   "outputs": [],
   "source": []
  },
  {
   "cell_type": "markdown",
   "id": "71ddeacf",
   "metadata": {},
   "source": [
    "## Creating the model"
   ]
  },
  {
   "cell_type": "code",
   "execution_count": 13,
   "id": "effab517",
   "metadata": {},
   "outputs": [],
   "source": [
    "# set latent factor number\n",
    "n_tracks, n_playlists = sparse_matrix.shape[0], sparse_matrix.shape[1]\n",
    "n_latent_mf = 30\n",
    "n_latent_playlist = 10\n",
    "n_latent_track = 10"
   ]
  },
  {
   "cell_type": "markdown",
   "id": "fc348680",
   "metadata": {},
   "source": [
    "### Network architecture"
   ]
  },
  {
   "cell_type": "code",
   "execution_count": 14,
   "id": "6586044c",
   "metadata": {},
   "outputs": [
    {
     "name": "stderr",
     "output_type": "stream",
     "text": [
      "2023-05-01 09:14:13.852208: W tensorflow/stream_executor/platform/default/dso_loader.cc:64] Could not load dynamic library 'libcuda.so.1'; dlerror: libcuda.so.1: cannot open shared object file: No such file or directory\n",
      "2023-05-01 09:14:13.852295: W tensorflow/stream_executor/cuda/cuda_driver.cc:269] failed call to cuInit: UNKNOWN ERROR (303)\n",
      "2023-05-01 09:14:13.852334: I tensorflow/stream_executor/cuda/cuda_diagnostics.cc:156] kernel driver does not appear to be running on this host (JptHub01): /proc/driver/nvidia/version does not exist\n",
      "2023-05-01 09:14:13.852740: I tensorflow/core/platform/cpu_feature_guard.cc:142] This TensorFlow binary is optimized with oneAPI Deep Neural Network Library (oneDNN) to use the following CPU instructions in performance-critical operations:  AVX2 FMA\n",
      "To enable them in other operations, rebuild TensorFlow with the appropriate compiler flags.\n"
     ]
    }
   ],
   "source": [
    "# track embedding stream\n",
    "track_input = Input(shape=[1],name='Track')\n",
    "track_embedding_mlp = Embedding(n_tracks + 1, n_latent_track, name='track-Embedding-MLP')(track_input)\n",
    "track_vec_mlp = Flatten(name='Flatten_tracks-MLP')(track_embedding_mlp)\n",
    "track_vec_mlp = Dropout(0.2)(track_vec_mlp)\n",
    "\n",
    "track_embedding_mf = Embedding(n_tracks + 1, n_latent_mf, name='track-Embedding-MF')(track_input)\n",
    "track_vec_mf = Flatten(name='Flatten_tracks-MF')(track_embedding_mf)\n",
    "track_vec_mf = Dropout(0.2)(track_vec_mf)\n",
    "\n",
    "# playlist embedding stream\n",
    "playlist_input = Input(shape=[1],name='Playlist')\n",
    "playlist_vec_mlp = Flatten(name='Flatten_playlists-MLP')(Embedding(n_playlists + 1, n_latent_playlist,name='playlist-Embedding-MLP')(playlist_input))\n",
    "playlist_vec_mlp = Dropout(0.2)(playlist_vec_mlp)\n",
    "\n",
    "playlist_vec_mf = Flatten(name='Flatten_playlists-MF')(Embedding(n_playlists + 1, n_latent_mf,name='playlist-Embedding-MF')(playlist_input))\n",
    "playlist_vec_mf = Dropout(0.2)(playlist_vec_mf)\n",
    "\n",
    "# MLP stream\n",
    "concat = Concatenate(axis=-1,name='Concat')([track_vec_mlp, playlist_vec_mlp])\n",
    "concat_dropout = Dropout(0.2)(concat)\n",
    "dense = Dense(200,name='FullyConnected')(concat_dropout)\n",
    "dense_batch = BatchNormalization(name='Batch')(dense)\n",
    "dropout_1 = Dropout(0.2,name='Dropout-1')(dense_batch)\n",
    "dense_2 = Dense(100,name='FullyConnected-1')(dropout_1)\n",
    "dense_batch_2 = BatchNormalization(name='Batch-2')(dense_2)\n",
    "dropout_2 = Dropout(0.2,name='Dropout-2')(dense_batch_2)\n",
    "dense_3 = Dense(50,name='FullyConnected-2')(dropout_2)\n",
    "dense_4 = Dense(20,name='FullyConnected-3', activation='relu')(dense_3)\n",
    "\n",
    "# end prediction for both streams\n",
    "pred_mf = Dot(1,name='Dot')([track_vec_mf, playlist_vec_mf])\n",
    "pred_mlp = Dense(1, activation='relu',name='Activation')(dense_4)\n",
    "\n",
    "# combine both stream\n",
    "combine_mlp_mf = Concatenate(axis=-1,name='Concat-MF-MLP')([pred_mf, pred_mlp])\n",
    "result_combine = Dense(100,name='Combine-MF-MLP')(combine_mlp_mf)\n",
    "deep_combine = Dense(100,name='FullyConnected-4')(result_combine)\n",
    "\n",
    "# final prediction layer\n",
    "result = Dense(2, activation = 'softmax', name='Prediction')(deep_combine)\n",
    "\n",
    "# build model\n",
    "model = keras.Model([playlist_input, track_input], result)\n",
    "\n",
    "# compile model\n",
    "opt = tf.keras.optimizers.Adam(learning_rate=0.1, decay=1e-5)\n",
    "model.compile(optimizer='adam', loss= 'binary_crossentropy', metrics = ['accuracy'])"
   ]
  },
  {
   "cell_type": "markdown",
   "id": "2132922e",
   "metadata": {},
   "source": [
    "architecture schema"
   ]
  },
  {
   "cell_type": "code",
   "execution_count": null,
   "id": "d2bbdfcb",
   "metadata": {},
   "outputs": [],
   "source": []
  },
  {
   "cell_type": "code",
   "execution_count": 15,
   "id": "c6b04ec4",
   "metadata": {
    "scrolled": true
   },
   "outputs": [
    {
     "data": {
      "image/svg+xml": [
       "<svg xmlns=\"http://www.w3.org/2000/svg\" xmlns:xlink=\"http://www.w3.org/1999/xlink\" width=\"1528pt\" height=\"1812pt\" viewBox=\"0.00 0.00 1146.00 1359.00\">\n",
       "<g id=\"graph0\" class=\"graph\" transform=\"scale(0.75 0.75) rotate(0) translate(4 1355)\">\n",
       "<title>G</title>\n",
       "<polygon fill=\"white\" stroke=\"transparent\" points=\"-4,4 -4,-1355 1142,-1355 1142,4 -4,4\"/>\n",
       "<!-- 139727400064624 -->\n",
       "<g id=\"node1\" class=\"node\">\n",
       "<title>139727400064624</title>\n",
       "<polygon fill=\"none\" stroke=\"black\" points=\"198.5,-1314.5 198.5,-1350.5 342.5,-1350.5 342.5,-1314.5 198.5,-1314.5\"/>\n",
       "<text text-anchor=\"middle\" x=\"270.5\" y=\"-1328.8\" font-family=\"Times,serif\" font-size=\"14.00\">Track: InputLayer</text>\n",
       "</g>\n",
       "<!-- 139727400064864 -->\n",
       "<g id=\"node3\" class=\"node\">\n",
       "<title>139727400064864</title>\n",
       "<polygon fill=\"none\" stroke=\"black\" points=\"277,-1241.5 277,-1277.5 544,-1277.5 544,-1241.5 277,-1241.5\"/>\n",
       "<text text-anchor=\"middle\" x=\"410.5\" y=\"-1255.8\" font-family=\"Times,serif\" font-size=\"14.00\">track-Embedding-MLP: Embedding</text>\n",
       "</g>\n",
       "<!-- 139727400064624&#45;&gt;139727400064864 -->\n",
       "<g id=\"edge1\" class=\"edge\">\n",
       "<title>139727400064624-&gt;139727400064864</title>\n",
       "<path fill=\"none\" stroke=\"black\" d=\"M304.03,-1314.49C323.11,-1304.82 347.21,-1292.6 367.65,-1282.23\"/>\n",
       "<polygon fill=\"black\" stroke=\"black\" points=\"369.42,-1285.26 376.75,-1277.61 366.25,-1279.02 369.42,-1285.26\"/>\n",
       "</g>\n",
       "<!-- 139727408302160 -->\n",
       "<g id=\"node16\" class=\"node\">\n",
       "<title>139727408302160</title>\n",
       "<polygon fill=\"none\" stroke=\"black\" points=\"0,-1241.5 0,-1277.5 259,-1277.5 259,-1241.5 0,-1241.5\"/>\n",
       "<text text-anchor=\"middle\" x=\"129.5\" y=\"-1255.8\" font-family=\"Times,serif\" font-size=\"14.00\">track-Embedding-MF: Embedding</text>\n",
       "</g>\n",
       "<!-- 139727400064624&#45;&gt;139727408302160 -->\n",
       "<g id=\"edge15\" class=\"edge\">\n",
       "<title>139727400064624-&gt;139727408302160</title>\n",
       "<path fill=\"none\" stroke=\"black\" d=\"M236.73,-1314.49C217.51,-1304.82 193.24,-1292.6 172.65,-1282.23\"/>\n",
       "<polygon fill=\"black\" stroke=\"black\" points=\"173.99,-1278.99 163.49,-1277.61 170.84,-1285.24 173.99,-1278.99\"/>\n",
       "</g>\n",
       "<!-- 139727408166416 -->\n",
       "<g id=\"node2\" class=\"node\">\n",
       "<title>139727408166416</title>\n",
       "<polygon fill=\"none\" stroke=\"black\" points=\"768.5,-1314.5 768.5,-1350.5 926.5,-1350.5 926.5,-1314.5 768.5,-1314.5\"/>\n",
       "<text text-anchor=\"middle\" x=\"847.5\" y=\"-1328.8\" font-family=\"Times,serif\" font-size=\"14.00\">Playlist: InputLayer</text>\n",
       "</g>\n",
       "<!-- 139727408279664 -->\n",
       "<g id=\"node4\" class=\"node\">\n",
       "<title>139727408279664</title>\n",
       "<polygon fill=\"none\" stroke=\"black\" points=\"855,-1241.5 855,-1277.5 1138,-1277.5 1138,-1241.5 855,-1241.5\"/>\n",
       "<text text-anchor=\"middle\" x=\"996.5\" y=\"-1255.8\" font-family=\"Times,serif\" font-size=\"14.00\">playlist-Embedding-MLP: Embedding</text>\n",
       "</g>\n",
       "<!-- 139727408166416&#45;&gt;139727408279664 -->\n",
       "<g id=\"edge2\" class=\"edge\">\n",
       "<title>139727408166416-&gt;139727408279664</title>\n",
       "<path fill=\"none\" stroke=\"black\" d=\"M883.19,-1314.49C903.68,-1304.73 929.6,-1292.38 951.48,-1281.95\"/>\n",
       "<polygon fill=\"black\" stroke=\"black\" points=\"953.06,-1285.07 960.59,-1277.61 950.05,-1278.76 953.06,-1285.07\"/>\n",
       "</g>\n",
       "<!-- 139727141570496 -->\n",
       "<g id=\"node17\" class=\"node\">\n",
       "<title>139727141570496</title>\n",
       "<polygon fill=\"none\" stroke=\"black\" points=\"562,-1241.5 562,-1277.5 837,-1277.5 837,-1241.5 562,-1241.5\"/>\n",
       "<text text-anchor=\"middle\" x=\"699.5\" y=\"-1255.8\" font-family=\"Times,serif\" font-size=\"14.00\">playlist-Embedding-MF: Embedding</text>\n",
       "</g>\n",
       "<!-- 139727408166416&#45;&gt;139727141570496 -->\n",
       "<g id=\"edge16\" class=\"edge\">\n",
       "<title>139727408166416-&gt;139727141570496</title>\n",
       "<path fill=\"none\" stroke=\"black\" d=\"M812.05,-1314.49C791.7,-1304.73 765.95,-1292.38 744.21,-1281.95\"/>\n",
       "<polygon fill=\"black\" stroke=\"black\" points=\"745.7,-1278.78 735.17,-1277.61 742.68,-1285.09 745.7,-1278.78\"/>\n",
       "</g>\n",
       "<!-- 139727400573008 -->\n",
       "<g id=\"node5\" class=\"node\">\n",
       "<title>139727400573008</title>\n",
       "<polygon fill=\"none\" stroke=\"black\" points=\"314,-1168.5 314,-1204.5 531,-1204.5 531,-1168.5 314,-1168.5\"/>\n",
       "<text text-anchor=\"middle\" x=\"422.5\" y=\"-1182.8\" font-family=\"Times,serif\" font-size=\"14.00\">Flatten_tracks-MLP: Flatten</text>\n",
       "</g>\n",
       "<!-- 139727400064864&#45;&gt;139727400573008 -->\n",
       "<g id=\"edge3\" class=\"edge\">\n",
       "<title>139727400064864-&gt;139727400573008</title>\n",
       "<path fill=\"none\" stroke=\"black\" d=\"M413.4,-1241.31C414.76,-1233.29 416.41,-1223.55 417.92,-1214.57\"/>\n",
       "<polygon fill=\"black\" stroke=\"black\" points=\"421.41,-1214.97 419.62,-1204.53 414.5,-1213.81 421.41,-1214.97\"/>\n",
       "</g>\n",
       "<!-- 139727408168480 -->\n",
       "<g id=\"node6\" class=\"node\">\n",
       "<title>139727408168480</title>\n",
       "<polygon fill=\"none\" stroke=\"black\" points=\"854,-1168.5 854,-1204.5 1087,-1204.5 1087,-1168.5 854,-1168.5\"/>\n",
       "<text text-anchor=\"middle\" x=\"970.5\" y=\"-1182.8\" font-family=\"Times,serif\" font-size=\"14.00\">Flatten_playlists-MLP: Flatten</text>\n",
       "</g>\n",
       "<!-- 139727408279664&#45;&gt;139727408168480 -->\n",
       "<g id=\"edge4\" class=\"edge\">\n",
       "<title>139727408279664-&gt;139727408168480</title>\n",
       "<path fill=\"none\" stroke=\"black\" d=\"M990.21,-1241.31C987.2,-1233.12 983.55,-1223.12 980.2,-1213.98\"/>\n",
       "<polygon fill=\"black\" stroke=\"black\" points=\"983.46,-1212.72 976.74,-1204.53 976.89,-1215.12 983.46,-1212.72\"/>\n",
       "</g>\n",
       "<!-- 139727408300240 -->\n",
       "<g id=\"node7\" class=\"node\">\n",
       "<title>139727408300240</title>\n",
       "<polygon fill=\"none\" stroke=\"black\" points=\"376.5,-1095.5 376.5,-1131.5 516.5,-1131.5 516.5,-1095.5 376.5,-1095.5\"/>\n",
       "<text text-anchor=\"middle\" x=\"446.5\" y=\"-1109.8\" font-family=\"Times,serif\" font-size=\"14.00\">dropout: Dropout</text>\n",
       "</g>\n",
       "<!-- 139727400573008&#45;&gt;139727408300240 -->\n",
       "<g id=\"edge5\" class=\"edge\">\n",
       "<title>139727400573008-&gt;139727408300240</title>\n",
       "<path fill=\"none\" stroke=\"black\" d=\"M428.31,-1168.31C431.05,-1160.2 434.39,-1150.34 437.45,-1141.28\"/>\n",
       "<polygon fill=\"black\" stroke=\"black\" points=\"440.86,-1142.12 440.74,-1131.53 434.23,-1139.88 440.86,-1142.12\"/>\n",
       "</g>\n",
       "<!-- 139727408165504 -->\n",
       "<g id=\"node8\" class=\"node\">\n",
       "<title>139727408165504</title>\n",
       "<polygon fill=\"none\" stroke=\"black\" points=\"836.5,-1095.5 836.5,-1131.5 992.5,-1131.5 992.5,-1095.5 836.5,-1095.5\"/>\n",
       "<text text-anchor=\"middle\" x=\"914.5\" y=\"-1109.8\" font-family=\"Times,serif\" font-size=\"14.00\">dropout_2: Dropout</text>\n",
       "</g>\n",
       "<!-- 139727408168480&#45;&gt;139727408165504 -->\n",
       "<g id=\"edge6\" class=\"edge\">\n",
       "<title>139727408168480-&gt;139727408165504</title>\n",
       "<path fill=\"none\" stroke=\"black\" d=\"M956.94,-1168.31C950.13,-1159.68 941.75,-1149.06 934.25,-1139.53\"/>\n",
       "<polygon fill=\"black\" stroke=\"black\" points=\"936.87,-1137.21 927.93,-1131.53 931.38,-1141.55 936.87,-1137.21\"/>\n",
       "</g>\n",
       "<!-- 139727408247664 -->\n",
       "<g id=\"node9\" class=\"node\">\n",
       "<title>139727408247664</title>\n",
       "<polygon fill=\"none\" stroke=\"black\" points=\"541.5,-1022.5 541.5,-1058.5 705.5,-1058.5 705.5,-1022.5 541.5,-1022.5\"/>\n",
       "<text text-anchor=\"middle\" x=\"623.5\" y=\"-1036.8\" font-family=\"Times,serif\" font-size=\"14.00\">Concat: Concatenate</text>\n",
       "</g>\n",
       "<!-- 139727408300240&#45;&gt;139727408247664 -->\n",
       "<g id=\"edge7\" class=\"edge\">\n",
       "<title>139727408300240-&gt;139727408247664</title>\n",
       "<path fill=\"none\" stroke=\"black\" d=\"M488.9,-1095.49C513.67,-1085.56 545.14,-1072.93 571.41,-1062.39\"/>\n",
       "<polygon fill=\"black\" stroke=\"black\" points=\"572.86,-1065.58 580.84,-1058.61 570.25,-1059.09 572.86,-1065.58\"/>\n",
       "</g>\n",
       "<!-- 139727408165504&#45;&gt;139727408247664 -->\n",
       "<g id=\"edge8\" class=\"edge\">\n",
       "<title>139727408165504-&gt;139727408247664</title>\n",
       "<path fill=\"none\" stroke=\"black\" d=\"M844.8,-1095.49C802.2,-1085.1 747.58,-1071.77 703.26,-1060.96\"/>\n",
       "<polygon fill=\"black\" stroke=\"black\" points=\"703.93,-1057.52 693.39,-1058.55 702.27,-1064.32 703.93,-1057.52\"/>\n",
       "</g>\n",
       "<!-- 139727131383072 -->\n",
       "<g id=\"node10\" class=\"node\">\n",
       "<title>139727131383072</title>\n",
       "<polygon fill=\"none\" stroke=\"black\" points=\"545.5,-949.5 545.5,-985.5 701.5,-985.5 701.5,-949.5 545.5,-949.5\"/>\n",
       "<text text-anchor=\"middle\" x=\"623.5\" y=\"-963.8\" font-family=\"Times,serif\" font-size=\"14.00\">dropout_4: Dropout</text>\n",
       "</g>\n",
       "<!-- 139727408247664&#45;&gt;139727131383072 -->\n",
       "<g id=\"edge9\" class=\"edge\">\n",
       "<title>139727408247664-&gt;139727131383072</title>\n",
       "<path fill=\"none\" stroke=\"black\" d=\"M623.5,-1022.31C623.5,-1014.29 623.5,-1004.55 623.5,-995.57\"/>\n",
       "<polygon fill=\"black\" stroke=\"black\" points=\"627,-995.53 623.5,-985.53 620,-995.53 627,-995.53\"/>\n",
       "</g>\n",
       "<!-- 139727442687648 -->\n",
       "<g id=\"node11\" class=\"node\">\n",
       "<title>139727442687648</title>\n",
       "<polygon fill=\"none\" stroke=\"black\" points=\"532.5,-876.5 532.5,-912.5 714.5,-912.5 714.5,-876.5 532.5,-876.5\"/>\n",
       "<text text-anchor=\"middle\" x=\"623.5\" y=\"-890.8\" font-family=\"Times,serif\" font-size=\"14.00\">FullyConnected: Dense</text>\n",
       "</g>\n",
       "<!-- 139727131383072&#45;&gt;139727442687648 -->\n",
       "<g id=\"edge10\" class=\"edge\">\n",
       "<title>139727131383072-&gt;139727442687648</title>\n",
       "<path fill=\"none\" stroke=\"black\" d=\"M623.5,-949.31C623.5,-941.29 623.5,-931.55 623.5,-922.57\"/>\n",
       "<polygon fill=\"black\" stroke=\"black\" points=\"627,-922.53 623.5,-912.53 620,-922.53 627,-922.53\"/>\n",
       "</g>\n",
       "<!-- 139727408167952 -->\n",
       "<g id=\"node12\" class=\"node\">\n",
       "<title>139727408167952</title>\n",
       "<polygon fill=\"none\" stroke=\"black\" points=\"519,-803.5 519,-839.5 728,-839.5 728,-803.5 519,-803.5\"/>\n",
       "<text text-anchor=\"middle\" x=\"623.5\" y=\"-817.8\" font-family=\"Times,serif\" font-size=\"14.00\">Batch: BatchNormalization</text>\n",
       "</g>\n",
       "<!-- 139727442687648&#45;&gt;139727408167952 -->\n",
       "<g id=\"edge11\" class=\"edge\">\n",
       "<title>139727442687648-&gt;139727408167952</title>\n",
       "<path fill=\"none\" stroke=\"black\" d=\"M623.5,-876.31C623.5,-868.29 623.5,-858.55 623.5,-849.57\"/>\n",
       "<polygon fill=\"black\" stroke=\"black\" points=\"627,-849.53 623.5,-839.53 620,-849.53 627,-849.53\"/>\n",
       "</g>\n",
       "<!-- 139727442625152 -->\n",
       "<g id=\"node13\" class=\"node\">\n",
       "<title>139727442625152</title>\n",
       "<polygon fill=\"none\" stroke=\"black\" points=\"545.5,-730.5 545.5,-766.5 701.5,-766.5 701.5,-730.5 545.5,-730.5\"/>\n",
       "<text text-anchor=\"middle\" x=\"623.5\" y=\"-744.8\" font-family=\"Times,serif\" font-size=\"14.00\">Dropout-1: Dropout</text>\n",
       "</g>\n",
       "<!-- 139727408167952&#45;&gt;139727442625152 -->\n",
       "<g id=\"edge12\" class=\"edge\">\n",
       "<title>139727408167952-&gt;139727442625152</title>\n",
       "<path fill=\"none\" stroke=\"black\" d=\"M623.5,-803.31C623.5,-795.29 623.5,-785.55 623.5,-776.57\"/>\n",
       "<polygon fill=\"black\" stroke=\"black\" points=\"627,-776.53 623.5,-766.53 620,-776.53 627,-776.53\"/>\n",
       "</g>\n",
       "<!-- 139727442166736 -->\n",
       "<g id=\"node14\" class=\"node\">\n",
       "<title>139727442166736</title>\n",
       "<polygon fill=\"none\" stroke=\"black\" points=\"526,-657.5 526,-693.5 721,-693.5 721,-657.5 526,-657.5\"/>\n",
       "<text text-anchor=\"middle\" x=\"623.5\" y=\"-671.8\" font-family=\"Times,serif\" font-size=\"14.00\">FullyConnected-1: Dense</text>\n",
       "</g>\n",
       "<!-- 139727442625152&#45;&gt;139727442166736 -->\n",
       "<g id=\"edge13\" class=\"edge\">\n",
       "<title>139727442625152-&gt;139727442166736</title>\n",
       "<path fill=\"none\" stroke=\"black\" d=\"M623.5,-730.31C623.5,-722.29 623.5,-712.55 623.5,-703.57\"/>\n",
       "<polygon fill=\"black\" stroke=\"black\" points=\"627,-703.53 623.5,-693.53 620,-703.53 627,-703.53\"/>\n",
       "</g>\n",
       "<!-- 139727408282880 -->\n",
       "<g id=\"node15\" class=\"node\">\n",
       "<title>139727408282880</title>\n",
       "<polygon fill=\"none\" stroke=\"black\" points=\"512,-584.5 512,-620.5 735,-620.5 735,-584.5 512,-584.5\"/>\n",
       "<text text-anchor=\"middle\" x=\"623.5\" y=\"-598.8\" font-family=\"Times,serif\" font-size=\"14.00\">Batch-2: BatchNormalization</text>\n",
       "</g>\n",
       "<!-- 139727442166736&#45;&gt;139727408282880 -->\n",
       "<g id=\"edge14\" class=\"edge\">\n",
       "<title>139727442166736-&gt;139727408282880</title>\n",
       "<path fill=\"none\" stroke=\"black\" d=\"M623.5,-657.31C623.5,-649.29 623.5,-639.55 623.5,-630.57\"/>\n",
       "<polygon fill=\"black\" stroke=\"black\" points=\"627,-630.53 623.5,-620.53 620,-630.53 627,-630.53\"/>\n",
       "</g>\n",
       "<!-- 139727408282256 -->\n",
       "<g id=\"node18\" class=\"node\">\n",
       "<title>139727408282256</title>\n",
       "<polygon fill=\"none\" stroke=\"black\" points=\"543.5,-511.5 543.5,-547.5 699.5,-547.5 699.5,-511.5 543.5,-511.5\"/>\n",
       "<text text-anchor=\"middle\" x=\"621.5\" y=\"-525.8\" font-family=\"Times,serif\" font-size=\"14.00\">Dropout-2: Dropout</text>\n",
       "</g>\n",
       "<!-- 139727408282880&#45;&gt;139727408282256 -->\n",
       "<g id=\"edge17\" class=\"edge\">\n",
       "<title>139727408282880-&gt;139727408282256</title>\n",
       "<path fill=\"none\" stroke=\"black\" d=\"M623.02,-584.31C622.79,-576.29 622.52,-566.55 622.26,-557.57\"/>\n",
       "<polygon fill=\"black\" stroke=\"black\" points=\"625.76,-557.43 621.98,-547.53 618.76,-557.62 625.76,-557.43\"/>\n",
       "</g>\n",
       "<!-- 139727408249824 -->\n",
       "<g id=\"node19\" class=\"node\">\n",
       "<title>139727408249824</title>\n",
       "<polygon fill=\"none\" stroke=\"black\" points=\"62,-1168.5 62,-1204.5 271,-1204.5 271,-1168.5 62,-1168.5\"/>\n",
       "<text text-anchor=\"middle\" x=\"166.5\" y=\"-1182.8\" font-family=\"Times,serif\" font-size=\"14.00\">Flatten_tracks-MF: Flatten</text>\n",
       "</g>\n",
       "<!-- 139727408302160&#45;&gt;139727408249824 -->\n",
       "<g id=\"edge18\" class=\"edge\">\n",
       "<title>139727408302160-&gt;139727408249824</title>\n",
       "<path fill=\"none\" stroke=\"black\" d=\"M138.46,-1241.31C142.82,-1232.94 148.16,-1222.7 153,-1213.4\"/>\n",
       "<polygon fill=\"black\" stroke=\"black\" points=\"156.11,-1215.01 157.63,-1204.53 149.9,-1211.78 156.11,-1215.01\"/>\n",
       "</g>\n",
       "<!-- 139727408283312 -->\n",
       "<g id=\"node20\" class=\"node\">\n",
       "<title>139727408283312</title>\n",
       "<polygon fill=\"none\" stroke=\"black\" points=\"574.5,-1168.5 574.5,-1204.5 798.5,-1204.5 798.5,-1168.5 574.5,-1168.5\"/>\n",
       "<text text-anchor=\"middle\" x=\"686.5\" y=\"-1182.8\" font-family=\"Times,serif\" font-size=\"14.00\">Flatten_playlists-MF: Flatten</text>\n",
       "</g>\n",
       "<!-- 139727141570496&#45;&gt;139727408283312 -->\n",
       "<g id=\"edge19\" class=\"edge\">\n",
       "<title>139727141570496-&gt;139727408283312</title>\n",
       "<path fill=\"none\" stroke=\"black\" d=\"M696.35,-1241.31C694.88,-1233.29 693.1,-1223.55 691.46,-1214.57\"/>\n",
       "<polygon fill=\"black\" stroke=\"black\" points=\"694.86,-1213.73 689.62,-1204.53 687.98,-1215 694.86,-1213.73\"/>\n",
       "</g>\n",
       "<!-- 139727131384752 -->\n",
       "<g id=\"node21\" class=\"node\">\n",
       "<title>139727131384752</title>\n",
       "<polygon fill=\"none\" stroke=\"black\" points=\"520,-438.5 520,-474.5 715,-474.5 715,-438.5 520,-438.5\"/>\n",
       "<text text-anchor=\"middle\" x=\"617.5\" y=\"-452.8\" font-family=\"Times,serif\" font-size=\"14.00\">FullyConnected-2: Dense</text>\n",
       "</g>\n",
       "<!-- 139727408282256&#45;&gt;139727131384752 -->\n",
       "<g id=\"edge20\" class=\"edge\">\n",
       "<title>139727408282256-&gt;139727131384752</title>\n",
       "<path fill=\"none\" stroke=\"black\" d=\"M620.53,-511.31C620.08,-503.29 619.53,-493.55 619.03,-484.57\"/>\n",
       "<polygon fill=\"black\" stroke=\"black\" points=\"622.52,-484.32 618.46,-474.53 615.53,-484.71 622.52,-484.32\"/>\n",
       "</g>\n",
       "<!-- 139727408280432 -->\n",
       "<g id=\"node22\" class=\"node\">\n",
       "<title>139727408280432</title>\n",
       "<polygon fill=\"none\" stroke=\"black\" points=\"157.5,-1095.5 157.5,-1131.5 313.5,-1131.5 313.5,-1095.5 157.5,-1095.5\"/>\n",
       "<text text-anchor=\"middle\" x=\"235.5\" y=\"-1109.8\" font-family=\"Times,serif\" font-size=\"14.00\">dropout_1: Dropout</text>\n",
       "</g>\n",
       "<!-- 139727408249824&#45;&gt;139727408280432 -->\n",
       "<g id=\"edge21\" class=\"edge\">\n",
       "<title>139727408249824-&gt;139727408280432</title>\n",
       "<path fill=\"none\" stroke=\"black\" d=\"M183.2,-1168.31C191.76,-1159.5 202.34,-1148.63 211.73,-1138.96\"/>\n",
       "<polygon fill=\"black\" stroke=\"black\" points=\"214.49,-1141.14 218.95,-1131.53 209.47,-1136.26 214.49,-1141.14\"/>\n",
       "</g>\n",
       "<!-- 139727141569776 -->\n",
       "<g id=\"node23\" class=\"node\">\n",
       "<title>139727141569776</title>\n",
       "<polygon fill=\"none\" stroke=\"black\" points=\"583.5,-1095.5 583.5,-1131.5 739.5,-1131.5 739.5,-1095.5 583.5,-1095.5\"/>\n",
       "<text text-anchor=\"middle\" x=\"661.5\" y=\"-1109.8\" font-family=\"Times,serif\" font-size=\"14.00\">dropout_3: Dropout</text>\n",
       "</g>\n",
       "<!-- 139727408283312&#45;&gt;139727141569776 -->\n",
       "<g id=\"edge22\" class=\"edge\">\n",
       "<title>139727408283312-&gt;139727141569776</title>\n",
       "<path fill=\"none\" stroke=\"black\" d=\"M680.45,-1168.31C677.56,-1160.12 674.04,-1150.12 670.83,-1140.98\"/>\n",
       "<polygon fill=\"black\" stroke=\"black\" points=\"674.12,-1139.8 667.5,-1131.53 667.52,-1142.12 674.12,-1139.8\"/>\n",
       "</g>\n",
       "<!-- 139727400994032 -->\n",
       "<g id=\"node24\" class=\"node\">\n",
       "<title>139727400994032</title>\n",
       "<polygon fill=\"none\" stroke=\"black\" points=\"518,-365.5 518,-401.5 713,-401.5 713,-365.5 518,-365.5\"/>\n",
       "<text text-anchor=\"middle\" x=\"615.5\" y=\"-379.8\" font-family=\"Times,serif\" font-size=\"14.00\">FullyConnected-3: Dense</text>\n",
       "</g>\n",
       "<!-- 139727131384752&#45;&gt;139727400994032 -->\n",
       "<g id=\"edge23\" class=\"edge\">\n",
       "<title>139727131384752-&gt;139727400994032</title>\n",
       "<path fill=\"none\" stroke=\"black\" d=\"M617.02,-438.31C616.79,-430.29 616.52,-420.55 616.26,-411.57\"/>\n",
       "<polygon fill=\"black\" stroke=\"black\" points=\"619.76,-411.43 615.98,-401.53 612.76,-411.62 619.76,-411.43\"/>\n",
       "</g>\n",
       "<!-- 139727400996048 -->\n",
       "<g id=\"node25\" class=\"node\">\n",
       "<title>139727400996048</title>\n",
       "<polygon fill=\"none\" stroke=\"black\" points=\"445,-1022.5 445,-1058.5 522,-1058.5 522,-1022.5 445,-1022.5\"/>\n",
       "<text text-anchor=\"middle\" x=\"483.5\" y=\"-1036.8\" font-family=\"Times,serif\" font-size=\"14.00\">Dot: Dot</text>\n",
       "</g>\n",
       "<!-- 139727408280432&#45;&gt;139727400996048 -->\n",
       "<g id=\"edge24\" class=\"edge\">\n",
       "<title>139727408280432-&gt;139727400996048</title>\n",
       "<path fill=\"none\" stroke=\"black\" d=\"M294.9,-1095.49C337.7,-1083.24 394.75,-1066.91 434.86,-1055.43\"/>\n",
       "<polygon fill=\"black\" stroke=\"black\" points=\"436.02,-1058.73 444.67,-1052.62 434.09,-1052 436.02,-1058.73\"/>\n",
       "</g>\n",
       "<!-- 139727141569776&#45;&gt;139727400996048 -->\n",
       "<g id=\"edge25\" class=\"edge\">\n",
       "<title>139727141569776-&gt;139727400996048</title>\n",
       "<path fill=\"none\" stroke=\"black\" d=\"M618.86,-1095.49C592.55,-1085 558.74,-1071.51 531.49,-1060.64\"/>\n",
       "<polygon fill=\"black\" stroke=\"black\" points=\"532.73,-1057.37 522.15,-1056.91 530.14,-1063.87 532.73,-1057.37\"/>\n",
       "</g>\n",
       "<!-- 139727131384416 -->\n",
       "<g id=\"node26\" class=\"node\">\n",
       "<title>139727131384416</title>\n",
       "<polygon fill=\"none\" stroke=\"black\" points=\"524.5,-292.5 524.5,-328.5 666.5,-328.5 666.5,-292.5 524.5,-292.5\"/>\n",
       "<text text-anchor=\"middle\" x=\"595.5\" y=\"-306.8\" font-family=\"Times,serif\" font-size=\"14.00\">Activation: Dense</text>\n",
       "</g>\n",
       "<!-- 139727400994032&#45;&gt;139727131384416 -->\n",
       "<g id=\"edge26\" class=\"edge\">\n",
       "<title>139727400994032-&gt;139727131384416</title>\n",
       "<path fill=\"none\" stroke=\"black\" d=\"M610.66,-365.31C608.37,-357.2 605.59,-347.34 603.04,-338.28\"/>\n",
       "<polygon fill=\"black\" stroke=\"black\" points=\"606.38,-337.21 600.3,-328.53 599.64,-339.1 606.38,-337.21\"/>\n",
       "</g>\n",
       "<!-- 139727131382640 -->\n",
       "<g id=\"node27\" class=\"node\">\n",
       "<title>139727131382640</title>\n",
       "<polygon fill=\"none\" stroke=\"black\" points=\"417.5,-219.5 417.5,-255.5 647.5,-255.5 647.5,-219.5 417.5,-219.5\"/>\n",
       "<text text-anchor=\"middle\" x=\"532.5\" y=\"-233.8\" font-family=\"Times,serif\" font-size=\"14.00\">Concat-MF-MLP: Concatenate</text>\n",
       "</g>\n",
       "<!-- 139727400996048&#45;&gt;139727131382640 -->\n",
       "<g id=\"edge27\" class=\"edge\">\n",
       "<title>139727400996048-&gt;139727131382640</title>\n",
       "<path fill=\"none\" stroke=\"black\" d=\"M483.5,-1022.21C483.5,-995.18 483.5,-941.25 483.5,-895.5 483.5,-895.5 483.5,-895.5 483.5,-382.5 483.5,-339.51 503.32,-292.96 517.75,-264.76\"/>\n",
       "<polygon fill=\"black\" stroke=\"black\" points=\"521.01,-266.07 522.58,-255.59 514.82,-262.8 521.01,-266.07\"/>\n",
       "</g>\n",
       "<!-- 139727131384416&#45;&gt;139727131382640 -->\n",
       "<g id=\"edge28\" class=\"edge\">\n",
       "<title>139727131384416-&gt;139727131382640</title>\n",
       "<path fill=\"none\" stroke=\"black\" d=\"M580.25,-292.31C572.51,-283.59 562.97,-272.84 554.46,-263.25\"/>\n",
       "<polygon fill=\"black\" stroke=\"black\" points=\"556.87,-260.69 547.61,-255.53 551.63,-265.33 556.87,-260.69\"/>\n",
       "</g>\n",
       "<!-- 139727408303408 -->\n",
       "<g id=\"node28\" class=\"node\">\n",
       "<title>139727408303408</title>\n",
       "<polygon fill=\"none\" stroke=\"black\" points=\"433.5,-146.5 433.5,-182.5 631.5,-182.5 631.5,-146.5 433.5,-146.5\"/>\n",
       "<text text-anchor=\"middle\" x=\"532.5\" y=\"-160.8\" font-family=\"Times,serif\" font-size=\"14.00\">Combine-MF-MLP: Dense</text>\n",
       "</g>\n",
       "<!-- 139727131382640&#45;&gt;139727408303408 -->\n",
       "<g id=\"edge29\" class=\"edge\">\n",
       "<title>139727131382640-&gt;139727408303408</title>\n",
       "<path fill=\"none\" stroke=\"black\" d=\"M532.5,-219.31C532.5,-211.29 532.5,-201.55 532.5,-192.57\"/>\n",
       "<polygon fill=\"black\" stroke=\"black\" points=\"536,-192.53 532.5,-182.53 529,-192.53 536,-192.53\"/>\n",
       "</g>\n",
       "<!-- 139727400992976 -->\n",
       "<g id=\"node29\" class=\"node\">\n",
       "<title>139727400992976</title>\n",
       "<polygon fill=\"none\" stroke=\"black\" points=\"435,-73.5 435,-109.5 630,-109.5 630,-73.5 435,-73.5\"/>\n",
       "<text text-anchor=\"middle\" x=\"532.5\" y=\"-87.8\" font-family=\"Times,serif\" font-size=\"14.00\">FullyConnected-4: Dense</text>\n",
       "</g>\n",
       "<!-- 139727408303408&#45;&gt;139727400992976 -->\n",
       "<g id=\"edge30\" class=\"edge\">\n",
       "<title>139727408303408-&gt;139727400992976</title>\n",
       "<path fill=\"none\" stroke=\"black\" d=\"M532.5,-146.31C532.5,-138.29 532.5,-128.55 532.5,-119.57\"/>\n",
       "<polygon fill=\"black\" stroke=\"black\" points=\"536,-119.53 532.5,-109.53 529,-119.53 536,-119.53\"/>\n",
       "</g>\n",
       "<!-- 139729003323600 -->\n",
       "<g id=\"node30\" class=\"node\">\n",
       "<title>139729003323600</title>\n",
       "<polygon fill=\"none\" stroke=\"black\" points=\"461,-0.5 461,-36.5 604,-36.5 604,-0.5 461,-0.5\"/>\n",
       "<text text-anchor=\"middle\" x=\"532.5\" y=\"-14.8\" font-family=\"Times,serif\" font-size=\"14.00\">Prediction: Dense</text>\n",
       "</g>\n",
       "<!-- 139727400992976&#45;&gt;139729003323600 -->\n",
       "<g id=\"edge31\" class=\"edge\">\n",
       "<title>139727400992976-&gt;139729003323600</title>\n",
       "<path fill=\"none\" stroke=\"black\" d=\"M532.5,-73.31C532.5,-65.29 532.5,-55.55 532.5,-46.57\"/>\n",
       "<polygon fill=\"black\" stroke=\"black\" points=\"536,-46.53 532.5,-36.53 529,-46.53 536,-46.53\"/>\n",
       "</g>\n",
       "</g>\n",
       "</svg>"
      ],
      "text/plain": [
       "<IPython.core.display.SVG object>"
      ]
     },
     "execution_count": 15,
     "metadata": {},
     "output_type": "execute_result"
    },
    {
     "name": "stderr",
     "output_type": "stream",
     "text": [
      "[codecarbon INFO @ 09:14:22] Energy consumed for RAM : 0.001132 kWh. RAM Power : 11.759872913360596 W\n",
      "[codecarbon INFO @ 09:14:22] Energy consumed for all CPUs : 0.004092 kWh. All CPUs Power : 42.5 W\n",
      "[codecarbon INFO @ 09:14:22] 0.005223 kWh of electricity used since the begining.\n"
     ]
    }
   ],
   "source": [
    "SVG(model_to_dot(model,  show_shapes=False, show_layer_names=True, rankdir='HB').\n",
    "    create(prog='dot', format='svg'))"
   ]
  },
  {
   "cell_type": "code",
   "execution_count": 16,
   "id": "1b7e9602",
   "metadata": {},
   "outputs": [
    {
     "name": "stdout",
     "output_type": "stream",
     "text": [
      "Model: \"model\"\n",
      "__________________________________________________________________________________________________\n",
      "Layer (type)                    Output Shape         Param #     Connected to                     \n",
      "==================================================================================================\n",
      "Track (InputLayer)              [(None, 1)]          0                                            \n",
      "__________________________________________________________________________________________________\n",
      "Playlist (InputLayer)           [(None, 1)]          0                                            \n",
      "__________________________________________________________________________________________________\n",
      "track-Embedding-MLP (Embedding) (None, 1, 10)        152470      Track[0][0]                      \n",
      "__________________________________________________________________________________________________\n",
      "playlist-Embedding-MLP (Embeddi (None, 1, 10)        466710      Playlist[0][0]                   \n",
      "__________________________________________________________________________________________________\n",
      "Flatten_tracks-MLP (Flatten)    (None, 10)           0           track-Embedding-MLP[0][0]        \n",
      "__________________________________________________________________________________________________\n",
      "Flatten_playlists-MLP (Flatten) (None, 10)           0           playlist-Embedding-MLP[0][0]     \n",
      "__________________________________________________________________________________________________\n",
      "dropout (Dropout)               (None, 10)           0           Flatten_tracks-MLP[0][0]         \n",
      "__________________________________________________________________________________________________\n",
      "dropout_2 (Dropout)             (None, 10)           0           Flatten_playlists-MLP[0][0]      \n",
      "__________________________________________________________________________________________________\n",
      "Concat (Concatenate)            (None, 20)           0           dropout[0][0]                    \n",
      "                                                                 dropout_2[0][0]                  \n",
      "__________________________________________________________________________________________________\n",
      "dropout_4 (Dropout)             (None, 20)           0           Concat[0][0]                     \n",
      "__________________________________________________________________________________________________\n",
      "FullyConnected (Dense)          (None, 200)          4200        dropout_4[0][0]                  \n",
      "__________________________________________________________________________________________________\n",
      "Batch (BatchNormalization)      (None, 200)          800         FullyConnected[0][0]             \n",
      "__________________________________________________________________________________________________\n",
      "Dropout-1 (Dropout)             (None, 200)          0           Batch[0][0]                      \n",
      "__________________________________________________________________________________________________\n",
      "FullyConnected-1 (Dense)        (None, 100)          20100       Dropout-1[0][0]                  \n",
      "__________________________________________________________________________________________________\n",
      "Batch-2 (BatchNormalization)    (None, 100)          400         FullyConnected-1[0][0]           \n",
      "__________________________________________________________________________________________________\n",
      "track-Embedding-MF (Embedding)  (None, 1, 30)        457410      Track[0][0]                      \n",
      "__________________________________________________________________________________________________\n",
      "playlist-Embedding-MF (Embeddin (None, 1, 30)        1400130     Playlist[0][0]                   \n",
      "__________________________________________________________________________________________________\n",
      "Dropout-2 (Dropout)             (None, 100)          0           Batch-2[0][0]                    \n",
      "__________________________________________________________________________________________________\n",
      "Flatten_tracks-MF (Flatten)     (None, 30)           0           track-Embedding-MF[0][0]         \n",
      "__________________________________________________________________________________________________\n",
      "Flatten_playlists-MF (Flatten)  (None, 30)           0           playlist-Embedding-MF[0][0]      \n",
      "__________________________________________________________________________________________________\n",
      "FullyConnected-2 (Dense)        (None, 50)           5050        Dropout-2[0][0]                  \n",
      "__________________________________________________________________________________________________\n",
      "dropout_1 (Dropout)             (None, 30)           0           Flatten_tracks-MF[0][0]          \n",
      "__________________________________________________________________________________________________\n",
      "dropout_3 (Dropout)             (None, 30)           0           Flatten_playlists-MF[0][0]       \n",
      "__________________________________________________________________________________________________\n",
      "FullyConnected-3 (Dense)        (None, 20)           1020        FullyConnected-2[0][0]           \n",
      "__________________________________________________________________________________________________\n",
      "Dot (Dot)                       (None, 1)            0           dropout_1[0][0]                  \n",
      "                                                                 dropout_3[0][0]                  \n",
      "__________________________________________________________________________________________________\n",
      "Activation (Dense)              (None, 1)            21          FullyConnected-3[0][0]           \n",
      "__________________________________________________________________________________________________\n",
      "Concat-MF-MLP (Concatenate)     (None, 2)            0           Dot[0][0]                        \n",
      "                                                                 Activation[0][0]                 \n",
      "__________________________________________________________________________________________________\n",
      "Combine-MF-MLP (Dense)          (None, 100)          300         Concat-MF-MLP[0][0]              \n",
      "__________________________________________________________________________________________________\n",
      "FullyConnected-4 (Dense)        (None, 100)          10100       Combine-MF-MLP[0][0]             \n",
      "__________________________________________________________________________________________________\n",
      "Prediction (Dense)              (None, 2)            202         FullyConnected-4[0][0]           \n",
      "==================================================================================================\n",
      "Total params: 2,518,913\n",
      "Trainable params: 2,518,313\n",
      "Non-trainable params: 600\n",
      "__________________________________________________________________________________________________\n"
     ]
    },
    {
     "name": "stderr",
     "output_type": "stream",
     "text": [
      "[codecarbon INFO @ 09:14:37] Energy consumed for RAM : 0.001181 kWh. RAM Power : 11.759872913360596 W\n",
      "[codecarbon INFO @ 09:14:37] Energy consumed for all CPUs : 0.004269 kWh. All CPUs Power : 42.5 W\n",
      "[codecarbon INFO @ 09:14:37] 0.005449 kWh of electricity used since the begining.\n"
     ]
    }
   ],
   "source": [
    "model.summary()"
   ]
  },
  {
   "cell_type": "code",
   "execution_count": null,
   "id": "89be5b38",
   "metadata": {},
   "outputs": [],
   "source": []
  },
  {
   "cell_type": "markdown",
   "id": "6e6b68fb",
   "metadata": {},
   "source": [
    "## Prediction performance of Neural Network based recommender system"
   ]
  },
  {
   "cell_type": "code",
   "execution_count": 17,
   "id": "d4a6468c",
   "metadata": {},
   "outputs": [
    {
     "name": "stderr",
     "output_type": "stream",
     "text": [
      "[codecarbon INFO @ 09:14:52] Energy consumed for RAM : 0.001230 kWh. RAM Power : 11.759872913360596 W\n",
      "[codecarbon INFO @ 09:14:52] Energy consumed for all CPUs : 0.004447 kWh. All CPUs Power : 42.5 W\n",
      "[codecarbon INFO @ 09:14:52] 0.005676 kWh of electricity used since the begining.\n"
     ]
    },
    {
     "name": "stdout",
     "output_type": "stream",
     "text": [
      "# of all sample = 711530820\n",
      "proportion of ones in all samples = 0.00013639465399404625\n",
      "# of split samples = 4985\n",
      "proportion of ones in split sample = 0.00014012042373652908\n"
     ]
    }
   ],
   "source": [
    "# split data for training vs. validation/testing\n",
    "data_size = n_playlists*n_tracks\n",
    "\n",
    "# split a portion of pairs for validation and test\n",
    "split_ratio = 0.05\n",
    "split_num = int(data_size*split_ratio)\n",
    "\n",
    "split_tracks = np.random.choice(n_tracks, split_num).reshape(-1,)\n",
    "split_playlists = np.random.choice(n_playlists, split_num).reshape(-1,)\n",
    "split_values = np.array(sparse_matrix_csv[split_tracks, split_playlists]).reshape(-1,)\n",
    "\n",
    "split_pair = [(tr, pl) for tr,pl in zip(split_tracks,split_playlists)]\n",
    "\n",
    "print('# of all sample =', data_size)\n",
    "print('proportion of ones in all samples =', sparse_matrix_csv.count_nonzero()/data_size)\n",
    "print('# of split samples =',int(np.sum(split_values)))\n",
    "print('proportion of ones in split sample =', np.mean(split_values))"
   ]
  },
  {
   "cell_type": "code",
   "execution_count": 18,
   "id": "34c4e8c2",
   "metadata": {},
   "outputs": [],
   "source": [
    "# split the saved pairs into validation and test data\n",
    "test_num = int(split_num/2)\n",
    "\n",
    "test_tracks = split_tracks[:test_num]\n",
    "test_playlists = split_playlists[:test_num]\n",
    "test_values = split_values[:test_num]\n",
    "test_target = tf.keras.utils.to_categorical(test_values, num_classes=2)\n",
    "\n",
    "val_tracks = split_tracks[test_num+1:]\n",
    "val_playlists = split_playlists[test_num+1:]\n",
    "val_values = split_values[test_num+1:]\n",
    "val_target = tf.keras.utils.to_categorical(val_values, num_classes=2)"
   ]
  },
  {
   "cell_type": "code",
   "execution_count": 19,
   "id": "81e3f732",
   "metadata": {},
   "outputs": [
    {
     "name": "stderr",
     "output_type": "stream",
     "text": [
      "[codecarbon INFO @ 09:15:07] Energy consumed for RAM : 0.001278 kWh. RAM Power : 11.759872913360596 W\n",
      "[codecarbon INFO @ 09:15:07] Energy consumed for all CPUs : 0.004623 kWh. All CPUs Power : 42.5 W\n",
      "[codecarbon INFO @ 09:15:07] 0.005901 kWh of electricity used since the begining.\n",
      "/usr/local/lib/python3.8/dist-packages/scipy/sparse/_index.py:125: SparseEfficiencyWarning: Changing the sparsity structure of a csc_matrix is expensive. lil_matrix is more efficient.\n",
      "  self._set_arrayXarray(i, j, x)\n"
     ]
    }
   ],
   "source": [
    "# put split sample values to 2\n",
    "sps_two = sparse_matrix_csv\n",
    "sps_two[split_tracks,split_playlists] = 2"
   ]
  },
  {
   "cell_type": "code",
   "execution_count": null,
   "id": "f0f85f99",
   "metadata": {},
   "outputs": [],
   "source": []
  },
  {
   "cell_type": "markdown",
   "id": "6786dd1d",
   "metadata": {},
   "source": [
    "In order to train our neural network to make better predictions, we needed to adjust the balance of the data so that we had more examples of the less common class (class 1 in this case). We did this by creating more artificial examples of the less common class using data augmentation techniques. By doing this, we forced the network to pay more attention to the less common class and be less biased towards the more common class. This bias towards the less common class meant that our network had a higher chance of making \"false positive\" predictions, which was actually what we wanted in this case. These \"false positive\" predictions were actually candidates for recommendations to extend a playlist."
   ]
  },
  {
   "cell_type": "code",
   "execution_count": 20,
   "id": "427bbe8c",
   "metadata": {},
   "outputs": [],
   "source": [
    "# define training sample generator (with balanced classes)\n",
    "\n",
    "# build one-hot encoder\n",
    "exampleCase = [0., 1.]\n",
    "ohe = OneHotEncoder(categories='auto').fit(np.array(exampleCase).reshape((len(exampleCase), 1)))\n",
    "\n",
    "def trainGenerator(sps_two, ohe, batch_size=10000, balance_ratio=0.5):\n",
    "    \"\"\"\n",
    "    Generates training batches for a recommendation model.\n",
    "\n",
    "    Parameters:\n",
    "        sps_two (scipy.sparse.coo_matrix): The sparse playlist-track matrix.\n",
    "        ohe (sklearn.preprocessing.OneHotEncoder): The OneHotEncoder used for encoding labels.\n",
    "        batch_size (int, optional): The size of each training batch. Defaults to 10000.\n",
    "        balance_ratio (float, optional): The ratio of positive (class 1) samples to negative (class 0) samples in each batch. Defaults to 0.5.\n",
    "\n",
    "    Yields:\n",
    "        tuple: A tuple containing input features and target labels for a training batch.\n",
    "\n",
    "    \"\"\"\n",
    "    while True:\n",
    "        n_tracks = sps_two.shape[0]\n",
    "        n_playlists = sps_two.shape[1]\n",
    "\n",
    "        # find indices for non-zero values\n",
    "        index = sp.find(sps_two)\n",
    "\n",
    "        # find number of ones and zeros in final yield\n",
    "        num_ones = np.ceil(batch_size*balance_ratio).astype(int)\n",
    "        num_zeros = batch_size - num_ones\n",
    "\n",
    "        # extract tracks, playlists and labels\n",
    "        tr = index[0] # track\n",
    "        pl = index[1] # playlist\n",
    "        la = index[2] # label\n",
    "\n",
    "        # find where label == 1\n",
    "        is_one = la == 1\n",
    "        tr = tr[is_one]\n",
    "        pl = pl[is_one]\n",
    "\n",
    "        # select class one samples\n",
    "        num = tr.shape[0]\n",
    "        one_ind = np.random.choice(num, num_ones)\n",
    "        one_tracks = tr[one_ind]\n",
    "        one_playlists = pl[one_ind]\n",
    "        one_values = np.ones((num_ones,1))\n",
    "\n",
    "        # over-sample 2 times of target number for class zero randomly (and later exclude non-zero samples)\n",
    "        rand_tracks = np.random.choice(n_tracks, num_zeros*2)\n",
    "        rand_playlists = np.random.choice(n_playlists, num_zeros*2)\n",
    "        rand_values = np.array(sps_two[rand_tracks, rand_playlists]).reshape(-1,)\n",
    "\n",
    "        # check to find class zero samples\n",
    "        is_zero = rand_values == 0\n",
    "        zero_tracks = rand_tracks[is_zero]\n",
    "        zero_playlists = rand_playlists[is_zero]\n",
    "        \n",
    "        # grab zero entries with the target number\n",
    "        zero_tracks = zero_tracks[:num_zeros]\n",
    "        zero_playlists = zero_playlists[:num_zeros]\n",
    "        zero_values = np.zeros((num_zeros,1))\n",
    "\n",
    "        # concatenate class one and zeros\n",
    "        sub_tracks = np.concatenate((one_tracks, zero_tracks))\n",
    "        sub_playlists = np.concatenate((one_playlists, zero_playlists))\n",
    "        values = np.concatenate((one_values, zero_values),axis = 0)\n",
    "        target = ohe.transform(values).toarray()\n",
    "        \n",
    "        yield [sub_playlists, sub_tracks], target"
   ]
  },
  {
   "cell_type": "code",
   "execution_count": 21,
   "id": "8e3485ed",
   "metadata": {},
   "outputs": [
    {
     "name": "stderr",
     "output_type": "stream",
     "text": [
      "[codecarbon INFO @ 09:15:22] Energy consumed for RAM : 0.001327 kWh. RAM Power : 11.759872913360596 W\n",
      "[codecarbon INFO @ 09:15:22] Energy consumed for all CPUs : 0.004800 kWh. All CPUs Power : 42.5 W\n",
      "[codecarbon INFO @ 09:15:22] 0.006127 kWh of electricity used since the begining.\n",
      "[codecarbon INFO @ 09:15:37] Energy consumed for RAM : 0.001376 kWh. RAM Power : 11.759872913360596 W\n",
      "[codecarbon INFO @ 09:15:37] Energy consumed for all CPUs : 0.004977 kWh. All CPUs Power : 42.5 W\n",
      "[codecarbon INFO @ 09:15:37] 0.006353 kWh of electricity used since the begining.\n",
      "[codecarbon INFO @ 09:15:52] Energy consumed for RAM : 0.001425 kWh. RAM Power : 11.759872913360596 W\n",
      "[codecarbon INFO @ 09:15:52] Energy consumed for all CPUs : 0.005154 kWh. All CPUs Power : 42.5 W\n",
      "[codecarbon INFO @ 09:15:52] 0.006579 kWh of electricity used since the begining.\n",
      "[codecarbon INFO @ 09:16:07] Energy consumed for RAM : 0.001474 kWh. RAM Power : 11.759872913360596 W\n",
      "[codecarbon INFO @ 09:16:07] Energy consumed for all CPUs : 0.005331 kWh. All CPUs Power : 42.5 W\n",
      "[codecarbon INFO @ 09:16:07] 0.006805 kWh of electricity used since the begining.\n",
      "[codecarbon INFO @ 09:16:22] Energy consumed for RAM : 0.001523 kWh. RAM Power : 11.759872913360596 W\n",
      "[codecarbon INFO @ 09:16:22] Energy consumed for all CPUs : 0.005508 kWh. All CPUs Power : 42.5 W\n",
      "[codecarbon INFO @ 09:16:22] 0.007031 kWh of electricity used since the begining.\n"
     ]
    }
   ],
   "source": [
    "is_ones_val = np.array(val_values).reshape(-1,)==1\n",
    "val_tracks_ones = val_tracks[is_ones_val]\n",
    "val_playlists_ones = val_playlists[is_ones_val]\n",
    "\n",
    "val_tracks_zeros = val_tracks[~is_ones_val]\n",
    "val_playlists_zeros = val_playlists[~is_ones_val]\n",
    "\n",
    "# define validation generator (with balanced classes)\n",
    "def valGenerator_balance(val_tracks_ones, val_playlists_ones, val_tracks_zeros, val_playlists_zeros, \n",
    "                         ohe, val_batch_size=10000, balance_ratio = 0.5):\n",
    "    \"\"\"\n",
    "    Generates balanced validation batches for a recommendation model.\n",
    "\n",
    "    Parameters:\n",
    "        val_tracks_ones (numpy.ndarray): An array containing the track indices for positive (class 1) validation samples.\n",
    "        val_playlists_ones (numpy.ndarray): An array containing the playlist indices for positive (class 1) validation samples.\n",
    "        val_tracks_zeros (numpy.ndarray): An array containing the track indices for negative (class 0) validation samples.\n",
    "        val_playlists_zeros (numpy.ndarray): An array containing the playlist indices for negative (class 0) validation samples.\n",
    "        ohe (sklearn.preprocessing.OneHotEncoder): The OneHotEncoder used for encoding labels.\n",
    "        val_batch_size (int, optional): The size of each validation batch. Defaults to 10000.\n",
    "        balance_ratio (float, optional): The ratio of positive (class 1) samples to negative (class 0) samples in each batch. Defaults to 0.5.\n",
    "\n",
    "    Yields:\n",
    "        tuple: A tuple containing input features and target labels for a validation batch.\n",
    "\n",
    "    \"\"\"\n",
    "    while True:\n",
    "        num_ones = int(val_batch_size*balance_ratio)\n",
    "        num_zeros = val_batch_size - num_ones\n",
    "        \n",
    "        num_ones_total = val_tracks_ones.shape[0]\n",
    "        num_zeros_total = val_tracks_zeros.shape[0]       \n",
    "        \n",
    "        ind_ones = np.random.choice(num_ones_total, num_ones)\n",
    "        sub_val_tracks_ones = val_tracks_ones[ind_ones]\n",
    "        sub_val_playlists_ones = val_playlists_ones[ind_ones]\n",
    "        sub_val_values_ones = np.ones((num_ones,))\n",
    "        \n",
    "        ind_zeros = np.random.choice(num_zeros_total, num_zeros)\n",
    "        sub_val_tracks_zeros = val_tracks_zeros[ind_zeros]\n",
    "        sub_val_playlists_zeros = val_playlists_zeros[ind_zeros]\n",
    "        sub_val_values_zeros = np.zeros((num_zeros,))\n",
    "        \n",
    "        sub_val_tracks = np.concatenate((sub_val_tracks_ones,sub_val_tracks_zeros))\n",
    "        sub_val_playlists = np.concatenate((sub_val_playlists_ones,sub_val_playlists_zeros))\n",
    "        sub_val_values = np.concatenate((sub_val_values_ones,sub_val_values_zeros))\n",
    "        sub_val_target = ohe.transform(sub_val_values.reshape(-1,1)).toarray()\n",
    "        \n",
    "        yield [sub_val_playlists, sub_val_tracks], sub_val_target"
   ]
  },
  {
   "cell_type": "code",
   "execution_count": null,
   "id": "91284d25",
   "metadata": {},
   "outputs": [],
   "source": []
  },
  {
   "cell_type": "markdown",
   "id": "e617e837",
   "metadata": {},
   "source": [
    "## Model training"
   ]
  },
  {
   "cell_type": "code",
   "execution_count": 22,
   "id": "1e6db458",
   "metadata": {},
   "outputs": [],
   "source": [
    "# set checkpoints\n",
    "filepath = \"models/NNFC/model.{epoch:02d}-{val_loss:.2f}-{val_accuracy:.2f}.h5\"\n",
    "\n",
    "checkpoint = ModelCheckpoint(filepath, monitor='val_loss', \n",
    "                             verbose=2, save_best_only=True, mode='auto', save_freq='epoch')\n",
    "callbacks_list = [checkpoint]"
   ]
  },
  {
   "cell_type": "code",
   "execution_count": 25,
   "id": "84cce9bd",
   "metadata": {},
   "outputs": [
    {
     "name": "stderr",
     "output_type": "stream",
     "text": [
      "[codecarbon INFO @ 09:17:07] Energy consumed for RAM : 0.001670 kWh. RAM Power : 11.759872913360596 W\n",
      "[codecarbon INFO @ 09:17:07] Energy consumed for all CPUs : 0.006039 kWh. All CPUs Power : 42.5 W\n",
      "[codecarbon INFO @ 09:17:07] 0.007709 kWh of electricity used since the begining.\n",
      "\u001b[1;38;5;39mCOMET INFO:\u001b[0m Ignoring automatic log_parameter('verbose') because 'keras:verbose' is in COMET_LOGGING_PARAMETERS_IGNORE\n",
      "2023-05-01 09:17:12.298963: I tensorflow/compiler/mlir/mlir_graph_optimization_pass.cc:185] None of the MLIR Optimization Passes are enabled (registered 2)\n"
     ]
    },
    {
     "name": "stdout",
     "output_type": "stream",
     "text": [
      "Epoch 1/500\n"
     ]
    },
    {
     "name": "stderr",
     "output_type": "stream",
     "text": [
      "\u001b[1;38;5;39mCOMET INFO:\u001b[0m ignoring tensorflow summary log of metrics because of keras; set `comet_ml.loggers.tensorboard_logger.LOG_METRICS = True` to override\n"
     ]
    },
    {
     "name": "stdout",
     "output_type": "stream",
     "text": [
      "1/1 - 2s - loss: 0.6985 - accuracy: 0.5003 - val_loss: 0.6932 - val_accuracy: 0.5000\n",
      "\n",
      "Epoch 00001: val_loss improved from inf to 0.69319, saving model to models/NNFC/model.01-0.69-0.50.h5\n",
      "Epoch 2/500\n"
     ]
    },
    {
     "name": "stderr",
     "output_type": "stream",
     "text": [
      "[codecarbon INFO @ 09:17:22] Energy consumed for RAM : 0.001719 kWh. RAM Power : 11.759872913360596 W\n",
      "[codecarbon INFO @ 09:17:22] Energy consumed for all CPUs : 0.006216 kWh. All CPUs Power : 42.5 W\n",
      "[codecarbon INFO @ 09:17:22] 0.007935 kWh of electricity used since the begining.\n"
     ]
    },
    {
     "name": "stdout",
     "output_type": "stream",
     "text": [
      "1/1 - 7s - loss: 0.6936 - accuracy: 0.4970 - val_loss: 0.6933 - val_accuracy: 0.5000\n",
      "\n",
      "Epoch 00002: val_loss did not improve from 0.69319\n",
      "Epoch 3/500\n",
      "1/1 - 8s - loss: 0.6933 - accuracy: 0.5000 - val_loss: 0.6934 - val_accuracy: 0.5000\n",
      "\n",
      "Epoch 00003: val_loss did not improve from 0.69319\n",
      "Epoch 4/500\n"
     ]
    },
    {
     "name": "stderr",
     "output_type": "stream",
     "text": [
      "[codecarbon INFO @ 09:17:37] Energy consumed for RAM : 0.001768 kWh. RAM Power : 11.759872913360596 W\n",
      "[codecarbon INFO @ 09:17:37] Energy consumed for all CPUs : 0.006393 kWh. All CPUs Power : 42.5 W\n",
      "[codecarbon INFO @ 09:17:37] 0.008161 kWh of electricity used since the begining.\n"
     ]
    },
    {
     "name": "stdout",
     "output_type": "stream",
     "text": [
      "1/1 - 10s - loss: 0.6935 - accuracy: 0.5000 - val_loss: 0.6934 - val_accuracy: 0.5000\n",
      "\n",
      "Epoch 00004: val_loss did not improve from 0.69319\n",
      "Epoch 5/500\n",
      "1/1 - 8s - loss: 0.6937 - accuracy: 0.5000 - val_loss: 0.6933 - val_accuracy: 0.5000\n",
      "\n",
      "Epoch 00005: val_loss did not improve from 0.69319\n",
      "Epoch 6/500\n"
     ]
    },
    {
     "name": "stderr",
     "output_type": "stream",
     "text": [
      "[codecarbon INFO @ 09:17:52] Energy consumed for RAM : 0.001817 kWh. RAM Power : 11.759872913360596 W\n",
      "[codecarbon INFO @ 09:17:52] Energy consumed for all CPUs : 0.006570 kWh. All CPUs Power : 42.5 W\n",
      "[codecarbon INFO @ 09:17:52] 0.008387 kWh of electricity used since the begining.\n"
     ]
    },
    {
     "name": "stdout",
     "output_type": "stream",
     "text": [
      "1/1 - 10s - loss: 0.6936 - accuracy: 0.5049 - val_loss: 0.6933 - val_accuracy: 0.5000\n",
      "\n",
      "Epoch 00006: val_loss did not improve from 0.69319\n",
      "Epoch 7/500\n",
      "1/1 - 8s - loss: 0.6936 - accuracy: 0.5037 - val_loss: 0.6932 - val_accuracy: 0.5000\n",
      "\n",
      "Epoch 00007: val_loss did not improve from 0.69319\n",
      "Epoch 8/500\n"
     ]
    },
    {
     "name": "stderr",
     "output_type": "stream",
     "text": [
      "[codecarbon INFO @ 09:18:07] Energy consumed for RAM : 0.001866 kWh. RAM Power : 11.759872913360596 W\n",
      "[codecarbon INFO @ 09:18:07] Energy consumed for all CPUs : 0.006747 kWh. All CPUs Power : 42.5 W\n",
      "[codecarbon INFO @ 09:18:07] 0.008613 kWh of electricity used since the begining.\n"
     ]
    },
    {
     "name": "stdout",
     "output_type": "stream",
     "text": [
      "1/1 - 9s - loss: 0.6936 - accuracy: 0.5010 - val_loss: 0.6932 - val_accuracy: 0.5000\n",
      "\n",
      "Epoch 00008: val_loss improved from 0.69319 to 0.69318, saving model to models/NNFC/model.08-0.69-0.50.h5\n",
      "Epoch 9/500\n"
     ]
    },
    {
     "name": "stderr",
     "output_type": "stream",
     "text": [
      "[codecarbon INFO @ 09:18:22] Energy consumed for RAM : 0.001915 kWh. RAM Power : 11.759872913360596 W\n",
      "[codecarbon INFO @ 09:18:22] Energy consumed for all CPUs : 0.006924 kWh. All CPUs Power : 42.5 W\n",
      "[codecarbon INFO @ 09:18:22] 0.008839 kWh of electricity used since the begining.\n"
     ]
    },
    {
     "name": "stdout",
     "output_type": "stream",
     "text": [
      "1/1 - 8s - loss: 0.6935 - accuracy: 0.4965 - val_loss: 0.6932 - val_accuracy: 0.5000\n",
      "\n",
      "Epoch 00009: val_loss improved from 0.69318 to 0.69316, saving model to models/NNFC/model.09-0.69-0.50.h5\n",
      "Epoch 10/500\n",
      "1/1 - 8s - loss: 0.6933 - accuracy: 0.5012 - val_loss: 0.6932 - val_accuracy: 0.5000\n",
      "\n",
      "Epoch 00010: val_loss improved from 0.69316 to 0.69316, saving model to models/NNFC/model.10-0.69-0.50.h5\n",
      "Epoch 11/500\n"
     ]
    },
    {
     "name": "stderr",
     "output_type": "stream",
     "text": [
      "[codecarbon INFO @ 09:18:37] Energy consumed for RAM : 0.001964 kWh. RAM Power : 11.759872913360596 W\n",
      "[codecarbon INFO @ 09:18:37] Energy consumed for all CPUs : 0.007101 kWh. All CPUs Power : 42.5 W\n",
      "[codecarbon INFO @ 09:18:37] 0.009065 kWh of electricity used since the begining.\n"
     ]
    },
    {
     "name": "stdout",
     "output_type": "stream",
     "text": [
      "1/1 - 8s - loss: 0.6933 - accuracy: 0.5016 - val_loss: 0.6932 - val_accuracy: 0.5000\n",
      "\n",
      "Epoch 00011: val_loss did not improve from 0.69316\n",
      "Epoch 12/500\n",
      "1/1 - 8s - loss: 0.6933 - accuracy: 0.4988 - val_loss: 0.6932 - val_accuracy: 0.5000\n",
      "\n",
      "Epoch 00012: val_loss did not improve from 0.69316\n",
      "Epoch 13/500\n"
     ]
    },
    {
     "name": "stderr",
     "output_type": "stream",
     "text": [
      "[codecarbon INFO @ 09:18:52] Energy consumed for RAM : 0.002013 kWh. RAM Power : 11.759872913360596 W\n",
      "[codecarbon INFO @ 09:18:52] Energy consumed for all CPUs : 0.007278 kWh. All CPUs Power : 42.5 W\n",
      "[codecarbon INFO @ 09:18:52] 0.009292 kWh of electricity used since the begining.\n"
     ]
    },
    {
     "name": "stdout",
     "output_type": "stream",
     "text": [
      "1/1 - 8s - loss: 0.6933 - accuracy: 0.5002 - val_loss: 0.6932 - val_accuracy: 0.5000\n",
      "\n",
      "Epoch 00013: val_loss did not improve from 0.69316\n",
      "Epoch 14/500\n",
      "1/1 - 8s - loss: 0.6933 - accuracy: 0.5020 - val_loss: 0.6932 - val_accuracy: 0.5000\n",
      "\n",
      "Epoch 00014: val_loss did not improve from 0.69316\n",
      "Epoch 15/500\n"
     ]
    },
    {
     "name": "stderr",
     "output_type": "stream",
     "text": [
      "[codecarbon INFO @ 09:19:07] Energy consumed for RAM : 0.002062 kWh. RAM Power : 11.759872913360596 W\n",
      "[codecarbon INFO @ 09:19:07] Energy consumed for all CPUs : 0.007456 kWh. All CPUs Power : 42.5 W\n",
      "[codecarbon INFO @ 09:19:07] 0.009518 kWh of electricity used since the begining.\n"
     ]
    },
    {
     "name": "stdout",
     "output_type": "stream",
     "text": [
      "1/1 - 8s - loss: 0.6933 - accuracy: 0.5009 - val_loss: 0.6933 - val_accuracy: 0.5000\n",
      "\n",
      "Epoch 00015: val_loss did not improve from 0.69316\n",
      "Epoch 16/500\n",
      "1/1 - 8s - loss: 0.6933 - accuracy: 0.5009 - val_loss: 0.6933 - val_accuracy: 0.5000\n",
      "\n",
      "Epoch 00016: val_loss did not improve from 0.69316\n",
      "Epoch 17/500\n"
     ]
    },
    {
     "name": "stderr",
     "output_type": "stream",
     "text": [
      "[codecarbon INFO @ 09:19:22] Energy consumed for RAM : 0.002111 kWh. RAM Power : 11.759872913360596 W\n",
      "[codecarbon INFO @ 09:19:22] Energy consumed for all CPUs : 0.007633 kWh. All CPUs Power : 42.5 W\n",
      "[codecarbon INFO @ 09:19:22] 0.009744 kWh of electricity used since the begining.\n"
     ]
    },
    {
     "name": "stdout",
     "output_type": "stream",
     "text": [
      "1/1 - 9s - loss: 0.6933 - accuracy: 0.5000 - val_loss: 0.6933 - val_accuracy: 0.5000\n",
      "\n",
      "Epoch 00017: val_loss did not improve from 0.69316\n",
      "Epoch 18/500\n",
      "1/1 - 8s - loss: 0.6933 - accuracy: 0.5000 - val_loss: 0.6932 - val_accuracy: 0.5000\n",
      "\n",
      "Epoch 00018: val_loss did not improve from 0.69316\n",
      "Epoch 19/500\n"
     ]
    },
    {
     "name": "stderr",
     "output_type": "stream",
     "text": [
      "[codecarbon INFO @ 09:19:37] Energy consumed for RAM : 0.002160 kWh. RAM Power : 11.759872913360596 W\n",
      "[codecarbon INFO @ 09:19:37] Energy consumed for all CPUs : 0.007810 kWh. All CPUs Power : 42.5 W\n",
      "[codecarbon INFO @ 09:19:37] 0.009970 kWh of electricity used since the begining.\n"
     ]
    },
    {
     "name": "stdout",
     "output_type": "stream",
     "text": [
      "1/1 - 8s - loss: 0.6932 - accuracy: 0.5000 - val_loss: 0.6932 - val_accuracy: 0.5000\n",
      "\n",
      "Epoch 00019: val_loss did not improve from 0.69316\n",
      "Epoch 20/500\n"
     ]
    },
    {
     "name": "stderr",
     "output_type": "stream",
     "text": [
      "[codecarbon INFO @ 09:19:52] Energy consumed for RAM : 0.002209 kWh. RAM Power : 11.759872913360596 W\n",
      "[codecarbon INFO @ 09:19:52] Energy consumed for all CPUs : 0.007987 kWh. All CPUs Power : 42.5 W\n",
      "[codecarbon INFO @ 09:19:52] 0.010196 kWh of electricity used since the begining.\n"
     ]
    },
    {
     "name": "stdout",
     "output_type": "stream",
     "text": [
      "1/1 - 8s - loss: 0.6932 - accuracy: 0.5000 - val_loss: 0.6932 - val_accuracy: 0.5000\n",
      "\n",
      "Epoch 00020: val_loss did not improve from 0.69316\n",
      "Epoch 21/500\n",
      "1/1 - 8s - loss: 0.6932 - accuracy: 0.5000 - val_loss: 0.6932 - val_accuracy: 0.5000\n",
      "\n",
      "Epoch 00021: val_loss did not improve from 0.69316\n",
      "Epoch 22/500\n"
     ]
    },
    {
     "name": "stderr",
     "output_type": "stream",
     "text": [
      "[codecarbon INFO @ 09:20:07] Energy consumed for RAM : 0.002258 kWh. RAM Power : 11.759872913360596 W\n",
      "[codecarbon INFO @ 09:20:07] Energy consumed for all CPUs : 0.008164 kWh. All CPUs Power : 42.5 W\n",
      "[codecarbon INFO @ 09:20:07] 0.010422 kWh of electricity used since the begining.\n"
     ]
    },
    {
     "name": "stdout",
     "output_type": "stream",
     "text": [
      "1/1 - 8s - loss: 0.6932 - accuracy: 0.5000 - val_loss: 0.6932 - val_accuracy: 0.5000\n",
      "\n",
      "Epoch 00022: val_loss did not improve from 0.69316\n",
      "Epoch 23/500\n",
      "1/1 - 9s - loss: 0.6932 - accuracy: 0.5000 - val_loss: 0.6931 - val_accuracy: 0.5000\n",
      "\n",
      "Epoch 00023: val_loss improved from 0.69316 to 0.69315, saving model to models/NNFC/model.23-0.69-0.50.h5\n",
      "Epoch 24/500\n"
     ]
    },
    {
     "name": "stderr",
     "output_type": "stream",
     "text": [
      "[codecarbon INFO @ 09:20:22] Energy consumed for RAM : 0.002307 kWh. RAM Power : 11.759872913360596 W\n",
      "[codecarbon INFO @ 09:20:22] Energy consumed for all CPUs : 0.008341 kWh. All CPUs Power : 42.5 W\n",
      "[codecarbon INFO @ 09:20:22] 0.010648 kWh of electricity used since the begining.\n"
     ]
    },
    {
     "name": "stdout",
     "output_type": "stream",
     "text": [
      "1/1 - 8s - loss: 0.6932 - accuracy: 0.4999 - val_loss: 0.6931 - val_accuracy: 0.5079\n",
      "\n",
      "Epoch 00024: val_loss improved from 0.69315 to 0.69315, saving model to models/NNFC/model.24-0.69-0.51.h5\n",
      "Epoch 25/500\n",
      "1/1 - 8s - loss: 0.6932 - accuracy: 0.5049 - val_loss: 0.6932 - val_accuracy: 0.5001\n",
      "\n",
      "Epoch 00025: val_loss did not improve from 0.69315\n",
      "Epoch 26/500\n"
     ]
    },
    {
     "name": "stderr",
     "output_type": "stream",
     "text": [
      "[codecarbon INFO @ 09:20:37] Energy consumed for RAM : 0.002356 kWh. RAM Power : 11.759872913360596 W\n",
      "[codecarbon INFO @ 09:20:37] Energy consumed for all CPUs : 0.008518 kWh. All CPUs Power : 42.5 W\n",
      "[codecarbon INFO @ 09:20:37] 0.010874 kWh of electricity used since the begining.\n"
     ]
    },
    {
     "name": "stdout",
     "output_type": "stream",
     "text": [
      "1/1 - 8s - loss: 0.6932 - accuracy: 0.5016 - val_loss: 0.6932 - val_accuracy: 0.5000\n",
      "\n",
      "Epoch 00026: val_loss did not improve from 0.69315\n",
      "Epoch 27/500\n",
      "1/1 - 8s - loss: 0.6932 - accuracy: 0.5002 - val_loss: 0.6932 - val_accuracy: 0.5000\n",
      "\n",
      "Epoch 00027: val_loss did not improve from 0.69315\n",
      "Epoch 28/500\n"
     ]
    },
    {
     "name": "stderr",
     "output_type": "stream",
     "text": [
      "[codecarbon INFO @ 09:20:52] Energy consumed for RAM : 0.002405 kWh. RAM Power : 11.759872913360596 W\n",
      "[codecarbon INFO @ 09:20:52] Energy consumed for all CPUs : 0.008695 kWh. All CPUs Power : 42.5 W\n",
      "[codecarbon INFO @ 09:20:52] 0.011100 kWh of electricity used since the begining.\n"
     ]
    },
    {
     "name": "stdout",
     "output_type": "stream",
     "text": [
      "1/1 - 8s - loss: 0.6932 - accuracy: 0.5001 - val_loss: 0.6932 - val_accuracy: 0.5000\n",
      "\n",
      "Epoch 00028: val_loss did not improve from 0.69315\n",
      "Epoch 29/500\n",
      "1/1 - 8s - loss: 0.6932 - accuracy: 0.4995 - val_loss: 0.6932 - val_accuracy: 0.5000\n",
      "\n",
      "Epoch 00029: val_loss did not improve from 0.69315\n",
      "Epoch 30/500\n"
     ]
    },
    {
     "name": "stderr",
     "output_type": "stream",
     "text": [
      "[codecarbon INFO @ 09:21:07] Energy consumed for RAM : 0.002454 kWh. RAM Power : 11.759872913360596 W\n",
      "[codecarbon INFO @ 09:21:07] Energy consumed for all CPUs : 0.008872 kWh. All CPUs Power : 42.5 W\n",
      "[codecarbon INFO @ 09:21:07] 0.011326 kWh of electricity used since the begining.\n"
     ]
    },
    {
     "name": "stdout",
     "output_type": "stream",
     "text": [
      "1/1 - 8s - loss: 0.6932 - accuracy: 0.5013 - val_loss: 0.6932 - val_accuracy: 0.5000\n",
      "\n",
      "Epoch 00030: val_loss did not improve from 0.69315\n",
      "Epoch 31/500\n",
      "1/1 - 8s - loss: 0.6932 - accuracy: 0.5005 - val_loss: 0.6932 - val_accuracy: 0.4996\n"
     ]
    },
    {
     "name": "stderr",
     "output_type": "stream",
     "text": [
      "[codecarbon INFO @ 09:21:22] Energy consumed for RAM : 0.002503 kWh. RAM Power : 11.759872913360596 W\n",
      "[codecarbon INFO @ 09:21:22] Energy consumed for all CPUs : 0.009049 kWh. All CPUs Power : 42.5 W\n",
      "[codecarbon INFO @ 09:21:22] 0.011552 kWh of electricity used since the begining.\n"
     ]
    },
    {
     "name": "stdout",
     "output_type": "stream",
     "text": [
      "\n",
      "Epoch 00031: val_loss did not improve from 0.69315\n",
      "Epoch 32/500\n",
      "1/1 - 8s - loss: 0.6932 - accuracy: 0.5008 - val_loss: 0.6932 - val_accuracy: 0.4990\n",
      "\n",
      "Epoch 00032: val_loss did not improve from 0.69315\n",
      "Epoch 33/500\n"
     ]
    },
    {
     "name": "stderr",
     "output_type": "stream",
     "text": [
      "[codecarbon INFO @ 09:21:37] Energy consumed for RAM : 0.002552 kWh. RAM Power : 11.759872913360596 W\n",
      "[codecarbon INFO @ 09:21:37] Energy consumed for all CPUs : 0.009226 kWh. All CPUs Power : 42.5 W\n",
      "[codecarbon INFO @ 09:21:37] 0.011778 kWh of electricity used since the begining.\n"
     ]
    },
    {
     "name": "stdout",
     "output_type": "stream",
     "text": [
      "1/1 - 8s - loss: 0.6932 - accuracy: 0.5021 - val_loss: 0.6932 - val_accuracy: 0.4967\n",
      "\n",
      "Epoch 00033: val_loss did not improve from 0.69315\n",
      "Epoch 34/500\n",
      "1/1 - 8s - loss: 0.6932 - accuracy: 0.5063 - val_loss: 0.6932 - val_accuracy: 0.5042\n",
      "\n",
      "Epoch 00034: val_loss did not improve from 0.69315\n",
      "Epoch 35/500\n"
     ]
    },
    {
     "name": "stderr",
     "output_type": "stream",
     "text": [
      "[codecarbon INFO @ 09:21:52] Energy consumed for RAM : 0.002601 kWh. RAM Power : 11.759872913360596 W\n",
      "[codecarbon INFO @ 09:21:52] Energy consumed for all CPUs : 0.009403 kWh. All CPUs Power : 42.5 W\n",
      "[codecarbon INFO @ 09:21:52] 0.012004 kWh of electricity used since the begining.\n"
     ]
    },
    {
     "name": "stdout",
     "output_type": "stream",
     "text": [
      "1/1 - 8s - loss: 0.6931 - accuracy: 0.5095 - val_loss: 0.6931 - val_accuracy: 0.5003\n",
      "\n",
      "Epoch 00035: val_loss improved from 0.69315 to 0.69314, saving model to models/NNFC/model.35-0.69-0.50.h5\n",
      "Epoch 36/500\n",
      "1/1 - 9s - loss: 0.6931 - accuracy: 0.4994 - val_loss: 0.6932 - val_accuracy: 0.4976\n",
      "\n",
      "Epoch 00036: val_loss did not improve from 0.69314\n",
      "Epoch 37/500\n"
     ]
    },
    {
     "name": "stderr",
     "output_type": "stream",
     "text": [
      "[codecarbon INFO @ 09:22:07] Energy consumed for RAM : 0.002650 kWh. RAM Power : 11.759872913360596 W\n",
      "[codecarbon INFO @ 09:22:07] Energy consumed for all CPUs : 0.009580 kWh. All CPUs Power : 42.5 W\n",
      "[codecarbon INFO @ 09:22:07] 0.012230 kWh of electricity used since the begining.\n"
     ]
    },
    {
     "name": "stdout",
     "output_type": "stream",
     "text": [
      "1/1 - 8s - loss: 0.6931 - accuracy: 0.4999 - val_loss: 0.6931 - val_accuracy: 0.4993\n",
      "\n",
      "Epoch 00037: val_loss did not improve from 0.69314\n",
      "Epoch 38/500\n",
      "1/1 - 10s - loss: 0.6931 - accuracy: 0.5021 - val_loss: 0.6931 - val_accuracy: 0.5026\n",
      "\n",
      "Epoch 00038: val_loss improved from 0.69314 to 0.69314, saving model to models/NNFC/model.38-0.69-0.50.h5\n",
      "Epoch 39/500\n"
     ]
    },
    {
     "name": "stderr",
     "output_type": "stream",
     "text": [
      "[codecarbon INFO @ 09:22:22] Energy consumed for RAM : 0.002699 kWh. RAM Power : 11.759872913360596 W\n",
      "[codecarbon INFO @ 09:22:22] Energy consumed for all CPUs : 0.009757 kWh. All CPUs Power : 42.5 W\n",
      "[codecarbon INFO @ 09:22:22] 0.012456 kWh of electricity used since the begining.\n"
     ]
    },
    {
     "name": "stdout",
     "output_type": "stream",
     "text": [
      "1/1 - 8s - loss: 0.6931 - accuracy: 0.5053 - val_loss: 0.6932 - val_accuracy: 0.5002\n",
      "\n",
      "Epoch 00039: val_loss did not improve from 0.69314\n",
      "Epoch 40/500\n"
     ]
    },
    {
     "name": "stderr",
     "output_type": "stream",
     "text": [
      "[codecarbon INFO @ 09:22:37] Energy consumed for RAM : 0.002748 kWh. RAM Power : 11.759872913360596 W\n",
      "[codecarbon INFO @ 09:22:37] Energy consumed for all CPUs : 0.009934 kWh. All CPUs Power : 42.5 W\n",
      "[codecarbon INFO @ 09:22:37] 0.012682 kWh of electricity used since the begining.\n"
     ]
    },
    {
     "name": "stdout",
     "output_type": "stream",
     "text": [
      "1/1 - 8s - loss: 0.6931 - accuracy: 0.5094 - val_loss: 0.6931 - val_accuracy: 0.5120\n",
      "\n",
      "Epoch 00040: val_loss did not improve from 0.69314\n",
      "Epoch 41/500\n",
      "1/1 - 8s - loss: 0.6931 - accuracy: 0.5122 - val_loss: 0.6932 - val_accuracy: 0.5027\n",
      "\n",
      "Epoch 00041: val_loss did not improve from 0.69314\n",
      "Epoch 42/500\n"
     ]
    },
    {
     "name": "stderr",
     "output_type": "stream",
     "text": [
      "[codecarbon INFO @ 09:22:52] Energy consumed for RAM : 0.002797 kWh. RAM Power : 11.759872913360596 W\n",
      "[codecarbon INFO @ 09:22:52] Energy consumed for all CPUs : 0.010112 kWh. All CPUs Power : 42.5 W\n",
      "[codecarbon INFO @ 09:22:52] 0.012908 kWh of electricity used since the begining.\n"
     ]
    },
    {
     "name": "stdout",
     "output_type": "stream",
     "text": [
      "1/1 - 9s - loss: 0.6931 - accuracy: 0.5067 - val_loss: 0.6932 - val_accuracy: 0.4911\n",
      "\n",
      "Epoch 00042: val_loss did not improve from 0.69314\n",
      "Epoch 43/500\n",
      "1/1 - 8s - loss: 0.6931 - accuracy: 0.5121 - val_loss: 0.6932 - val_accuracy: 0.4994\n",
      "\n",
      "Epoch 00043: val_loss did not improve from 0.69314\n",
      "Epoch 44/500\n"
     ]
    },
    {
     "name": "stderr",
     "output_type": "stream",
     "text": [
      "[codecarbon INFO @ 09:23:07] Energy consumed for RAM : 0.002846 kWh. RAM Power : 11.759872913360596 W\n",
      "[codecarbon INFO @ 09:23:07] Energy consumed for all CPUs : 0.010289 kWh. All CPUs Power : 42.5 W\n",
      "[codecarbon INFO @ 09:23:07] 0.013134 kWh of electricity used since the begining.\n"
     ]
    },
    {
     "name": "stdout",
     "output_type": "stream",
     "text": [
      "1/1 - 8s - loss: 0.6931 - accuracy: 0.5108 - val_loss: 0.6932 - val_accuracy: 0.4952\n",
      "\n",
      "Epoch 00044: val_loss did not improve from 0.69314\n",
      "Epoch 45/500\n",
      "1/1 - 9s - loss: 0.6931 - accuracy: 0.5153 - val_loss: 0.6932 - val_accuracy: 0.4942\n",
      "\n",
      "Epoch 00045: val_loss did not improve from 0.69314\n",
      "Epoch 46/500\n"
     ]
    },
    {
     "name": "stderr",
     "output_type": "stream",
     "text": [
      "[codecarbon INFO @ 09:23:22] Energy consumed for RAM : 0.002895 kWh. RAM Power : 11.759872913360596 W\n",
      "[codecarbon INFO @ 09:23:22] Energy consumed for all CPUs : 0.010466 kWh. All CPUs Power : 42.5 W\n",
      "[codecarbon INFO @ 09:23:22] 0.013360 kWh of electricity used since the begining.\n"
     ]
    },
    {
     "name": "stdout",
     "output_type": "stream",
     "text": [
      "1/1 - 8s - loss: 0.6931 - accuracy: 0.5195 - val_loss: 0.6931 - val_accuracy: 0.5095\n",
      "\n",
      "Epoch 00046: val_loss improved from 0.69314 to 0.69314, saving model to models/NNFC/model.46-0.69-0.51.h5\n",
      "Epoch 47/500\n"
     ]
    },
    {
     "name": "stderr",
     "output_type": "stream",
     "text": [
      "[codecarbon INFO @ 09:23:37] Energy consumed for RAM : 0.002944 kWh. RAM Power : 11.759872913360596 W\n",
      "[codecarbon INFO @ 09:23:37] Energy consumed for all CPUs : 0.010643 kWh. All CPUs Power : 42.5 W\n",
      "[codecarbon INFO @ 09:23:37] 0.013586 kWh of electricity used since the begining.\n"
     ]
    },
    {
     "name": "stdout",
     "output_type": "stream",
     "text": [
      "1/1 - 9s - loss: 0.6931 - accuracy: 0.5073 - val_loss: 0.6932 - val_accuracy: 0.4968\n",
      "\n",
      "Epoch 00047: val_loss did not improve from 0.69314\n",
      "Epoch 48/500\n",
      "1/1 - 9s - loss: 0.6931 - accuracy: 0.5139 - val_loss: 0.6932 - val_accuracy: 0.4901\n",
      "\n",
      "Epoch 00048: val_loss did not improve from 0.69314\n",
      "Epoch 49/500\n"
     ]
    },
    {
     "name": "stderr",
     "output_type": "stream",
     "text": [
      "[codecarbon INFO @ 09:23:52] Energy consumed for RAM : 0.002993 kWh. RAM Power : 11.759872913360596 W\n",
      "[codecarbon INFO @ 09:23:52] Energy consumed for all CPUs : 0.010820 kWh. All CPUs Power : 42.5 W\n",
      "[codecarbon INFO @ 09:23:52] 0.013812 kWh of electricity used since the begining.\n"
     ]
    },
    {
     "name": "stdout",
     "output_type": "stream",
     "text": [
      "1/1 - 9s - loss: 0.6931 - accuracy: 0.5167 - val_loss: 0.6931 - val_accuracy: 0.5064\n",
      "\n",
      "Epoch 00049: val_loss improved from 0.69314 to 0.69314, saving model to models/NNFC/model.49-0.69-0.51.h5\n",
      "Epoch 50/500\n",
      "1/1 - 8s - loss: 0.6931 - accuracy: 0.5229 - val_loss: 0.6931 - val_accuracy: 0.4978\n",
      "\n",
      "Epoch 00050: val_loss did not improve from 0.69314\n",
      "Epoch 51/500\n"
     ]
    },
    {
     "name": "stderr",
     "output_type": "stream",
     "text": [
      "[codecarbon INFO @ 09:24:07] Energy consumed for RAM : 0.003042 kWh. RAM Power : 11.759872913360596 W\n",
      "[codecarbon INFO @ 09:24:07] Energy consumed for all CPUs : 0.010997 kWh. All CPUs Power : 42.5 W\n",
      "[codecarbon INFO @ 09:24:07] 0.014038 kWh of electricity used since the begining.\n"
     ]
    },
    {
     "name": "stdout",
     "output_type": "stream",
     "text": [
      "1/1 - 9s - loss: 0.6931 - accuracy: 0.5261 - val_loss: 0.6932 - val_accuracy: 0.4963\n",
      "\n",
      "Epoch 00051: val_loss did not improve from 0.69314\n",
      "Epoch 52/500\n",
      "1/1 - 8s - loss: 0.6931 - accuracy: 0.5300 - val_loss: 0.6932 - val_accuracy: 0.4994\n",
      "\n",
      "Epoch 00052: val_loss did not improve from 0.69314\n",
      "Epoch 53/500\n"
     ]
    },
    {
     "name": "stderr",
     "output_type": "stream",
     "text": [
      "[codecarbon INFO @ 09:24:22] Energy consumed for RAM : 0.003091 kWh. RAM Power : 11.759872913360596 W\n",
      "[codecarbon INFO @ 09:24:22] Energy consumed for all CPUs : 0.011174 kWh. All CPUs Power : 42.5 W\n",
      "[codecarbon INFO @ 09:24:22] 0.014264 kWh of electricity used since the begining.\n"
     ]
    },
    {
     "name": "stdout",
     "output_type": "stream",
     "text": [
      "1/1 - 8s - loss: 0.6931 - accuracy: 0.5265 - val_loss: 0.6931 - val_accuracy: 0.4995\n",
      "\n",
      "Epoch 00053: val_loss did not improve from 0.69314\n",
      "Epoch 54/500\n"
     ]
    },
    {
     "name": "stderr",
     "output_type": "stream",
     "text": [
      "[codecarbon INFO @ 09:24:37] Energy consumed for RAM : 0.003140 kWh. RAM Power : 11.759872913360596 W\n",
      "[codecarbon INFO @ 09:24:37] Energy consumed for all CPUs : 0.011351 kWh. All CPUs Power : 42.5 W\n",
      "[codecarbon INFO @ 09:24:37] 0.014490 kWh of electricity used since the begining.\n"
     ]
    },
    {
     "name": "stdout",
     "output_type": "stream",
     "text": [
      "1/1 - 8s - loss: 0.6931 - accuracy: 0.5261 - val_loss: 0.6932 - val_accuracy: 0.4905\n",
      "\n",
      "Epoch 00054: val_loss did not improve from 0.69314\n",
      "Epoch 55/500\n",
      "1/1 - 8s - loss: 0.6930 - accuracy: 0.5340 - val_loss: 0.6931 - val_accuracy: 0.5057\n",
      "\n",
      "Epoch 00055: val_loss did not improve from 0.69314\n",
      "Epoch 56/500\n"
     ]
    },
    {
     "name": "stderr",
     "output_type": "stream",
     "text": [
      "[codecarbon INFO @ 09:24:52] Energy consumed for RAM : 0.003189 kWh. RAM Power : 11.759872913360596 W\n",
      "[codecarbon INFO @ 09:24:52] Energy consumed for all CPUs : 0.011528 kWh. All CPUs Power : 42.5 W\n",
      "[codecarbon INFO @ 09:24:52] 0.014717 kWh of electricity used since the begining.\n"
     ]
    },
    {
     "name": "stdout",
     "output_type": "stream",
     "text": [
      "1/1 - 10s - loss: 0.6931 - accuracy: 0.5242 - val_loss: 0.6931 - val_accuracy: 0.5054\n",
      "\n",
      "Epoch 00056: val_loss did not improve from 0.69314\n",
      "Epoch 57/500\n",
      "1/1 - 10s - loss: 0.6930 - accuracy: 0.5327 - val_loss: 0.6931 - val_accuracy: 0.5045\n",
      "\n",
      "Epoch 00057: val_loss did not improve from 0.69314\n",
      "Epoch 58/500\n"
     ]
    },
    {
     "name": "stderr",
     "output_type": "stream",
     "text": [
      "[codecarbon INFO @ 09:25:07] Energy consumed for RAM : 0.003238 kWh. RAM Power : 11.759872913360596 W\n",
      "[codecarbon INFO @ 09:25:07] Energy consumed for all CPUs : 0.011705 kWh. All CPUs Power : 42.5 W\n",
      "[codecarbon INFO @ 09:25:07] 0.014942 kWh of electricity used since the begining.\n"
     ]
    },
    {
     "name": "stdout",
     "output_type": "stream",
     "text": [
      "1/1 - 8s - loss: 0.6930 - accuracy: 0.5315 - val_loss: 0.6932 - val_accuracy: 0.4999\n",
      "\n",
      "Epoch 00058: val_loss did not improve from 0.69314\n",
      "Epoch 59/500\n"
     ]
    },
    {
     "name": "stderr",
     "output_type": "stream",
     "text": [
      "[codecarbon INFO @ 09:25:22] Energy consumed for RAM : 0.003287 kWh. RAM Power : 11.759872913360596 W\n",
      "[codecarbon INFO @ 09:25:22] Energy consumed for all CPUs : 0.011882 kWh. All CPUs Power : 42.5 W\n",
      "[codecarbon INFO @ 09:25:22] 0.015169 kWh of electricity used since the begining.\n"
     ]
    },
    {
     "name": "stdout",
     "output_type": "stream",
     "text": [
      "1/1 - 8s - loss: 0.6930 - accuracy: 0.5347 - val_loss: 0.6932 - val_accuracy: 0.4949\n",
      "\n",
      "Epoch 00059: val_loss did not improve from 0.69314\n",
      "Epoch 60/500\n",
      "1/1 - 9s - loss: 0.6930 - accuracy: 0.5393 - val_loss: 0.6931 - val_accuracy: 0.5030\n",
      "\n",
      "Epoch 00060: val_loss improved from 0.69314 to 0.69314, saving model to models/NNFC/model.60-0.69-0.50.h5\n",
      "Epoch 61/500\n"
     ]
    },
    {
     "name": "stderr",
     "output_type": "stream",
     "text": [
      "[codecarbon INFO @ 09:25:37] Energy consumed for RAM : 0.003336 kWh. RAM Power : 11.759872913360596 W\n",
      "[codecarbon INFO @ 09:25:37] Energy consumed for all CPUs : 0.012059 kWh. All CPUs Power : 42.5 W\n",
      "[codecarbon INFO @ 09:25:37] 0.015395 kWh of electricity used since the begining.\n"
     ]
    },
    {
     "name": "stdout",
     "output_type": "stream",
     "text": [
      "1/1 - 8s - loss: 0.6929 - accuracy: 0.5398 - val_loss: 0.6931 - val_accuracy: 0.5008\n",
      "\n",
      "Epoch 00061: val_loss improved from 0.69314 to 0.69314, saving model to models/NNFC/model.61-0.69-0.50.h5\n",
      "Epoch 62/500\n",
      "1/1 - 9s - loss: 0.6929 - accuracy: 0.5454 - val_loss: 0.6932 - val_accuracy: 0.4998\n",
      "\n",
      "Epoch 00062: val_loss did not improve from 0.69314\n",
      "Epoch 63/500\n"
     ]
    },
    {
     "name": "stderr",
     "output_type": "stream",
     "text": [
      "[codecarbon INFO @ 09:25:52] Energy consumed for RAM : 0.003385 kWh. RAM Power : 11.759872913360596 W\n",
      "[codecarbon INFO @ 09:25:52] Energy consumed for all CPUs : 0.012236 kWh. All CPUs Power : 42.5 W\n",
      "[codecarbon INFO @ 09:25:52] 0.015621 kWh of electricity used since the begining.\n"
     ]
    },
    {
     "name": "stdout",
     "output_type": "stream",
     "text": [
      "1/1 - 8s - loss: 0.6928 - accuracy: 0.5519 - val_loss: 0.6931 - val_accuracy: 0.5137\n",
      "\n",
      "Epoch 00063: val_loss did not improve from 0.69314\n",
      "Epoch 64/500\n",
      "1/1 - 8s - loss: 0.6928 - accuracy: 0.5517 - val_loss: 0.6931 - val_accuracy: 0.5082\n",
      "\n",
      "Epoch 00064: val_loss did not improve from 0.69314\n",
      "Epoch 65/500\n"
     ]
    },
    {
     "name": "stderr",
     "output_type": "stream",
     "text": [
      "[codecarbon INFO @ 09:26:07] Energy consumed for RAM : 0.003433 kWh. RAM Power : 11.759872913360596 W\n",
      "[codecarbon INFO @ 09:26:07] Energy consumed for all CPUs : 0.012413 kWh. All CPUs Power : 42.5 W\n",
      "[codecarbon INFO @ 09:26:07] 0.015847 kWh of electricity used since the begining.\n"
     ]
    },
    {
     "name": "stdout",
     "output_type": "stream",
     "text": [
      "1/1 - 9s - loss: 0.6928 - accuracy: 0.5623 - val_loss: 0.6932 - val_accuracy: 0.5044\n",
      "\n",
      "Epoch 00065: val_loss did not improve from 0.69314\n",
      "Epoch 66/500\n"
     ]
    },
    {
     "name": "stderr",
     "output_type": "stream",
     "text": [
      "[codecarbon INFO @ 09:26:22] Energy consumed for RAM : 0.003482 kWh. RAM Power : 11.759872913360596 W\n",
      "[codecarbon INFO @ 09:26:22] Energy consumed for all CPUs : 0.012590 kWh. All CPUs Power : 42.5 W\n",
      "[codecarbon INFO @ 09:26:22] 0.016073 kWh of electricity used since the begining.\n"
     ]
    },
    {
     "name": "stdout",
     "output_type": "stream",
     "text": [
      "1/1 - 10s - loss: 0.6927 - accuracy: 0.5630 - val_loss: 0.6931 - val_accuracy: 0.5021\n",
      "\n",
      "Epoch 00066: val_loss did not improve from 0.69314\n",
      "Epoch 67/500\n",
      "1/1 - 10s - loss: 0.6927 - accuracy: 0.5587 - val_loss: 0.6931 - val_accuracy: 0.4983\n",
      "\n",
      "Epoch 00067: val_loss did not improve from 0.69314\n",
      "Epoch 68/500\n"
     ]
    },
    {
     "name": "stderr",
     "output_type": "stream",
     "text": [
      "[codecarbon INFO @ 09:26:37] Energy consumed for RAM : 0.003531 kWh. RAM Power : 11.759872913360596 W\n",
      "[codecarbon INFO @ 09:26:37] Energy consumed for all CPUs : 0.012767 kWh. All CPUs Power : 42.5 W\n",
      "[codecarbon INFO @ 09:26:37] 0.016299 kWh of electricity used since the begining.\n"
     ]
    },
    {
     "name": "stdout",
     "output_type": "stream",
     "text": [
      "1/1 - 10s - loss: 0.6926 - accuracy: 0.5701 - val_loss: 0.6932 - val_accuracy: 0.4949\n",
      "\n",
      "Epoch 00068: val_loss did not improve from 0.69314\n",
      "Epoch 69/500\n",
      "1/1 - 9s - loss: 0.6925 - accuracy: 0.5810 - val_loss: 0.6932 - val_accuracy: 0.4982\n",
      "\n",
      "Epoch 00069: val_loss did not improve from 0.69314\n",
      "Epoch 70/500\n"
     ]
    },
    {
     "name": "stderr",
     "output_type": "stream",
     "text": [
      "[codecarbon INFO @ 09:26:52] Energy consumed for RAM : 0.003580 kWh. RAM Power : 11.759872913360596 W\n",
      "[codecarbon INFO @ 09:26:52] Energy consumed for all CPUs : 0.012944 kWh. All CPUs Power : 42.5 W\n",
      "[codecarbon INFO @ 09:26:52] 0.016525 kWh of electricity used since the begining.\n"
     ]
    },
    {
     "name": "stdout",
     "output_type": "stream",
     "text": [
      "1/1 - 8s - loss: 0.6925 - accuracy: 0.5746 - val_loss: 0.6931 - val_accuracy: 0.5087\n",
      "\n",
      "Epoch 00070: val_loss improved from 0.69314 to 0.69310, saving model to models/NNFC/model.70-0.69-0.51.h5\n",
      "Epoch 71/500\n"
     ]
    },
    {
     "name": "stderr",
     "output_type": "stream",
     "text": [
      "[codecarbon INFO @ 09:27:07] Energy consumed for RAM : 0.003629 kWh. RAM Power : 11.759872913360596 W\n",
      "[codecarbon INFO @ 09:27:07] Energy consumed for all CPUs : 0.013121 kWh. All CPUs Power : 42.5 W\n",
      "[codecarbon INFO @ 09:27:07] 0.016751 kWh of electricity used since the begining.\n"
     ]
    },
    {
     "name": "stdout",
     "output_type": "stream",
     "text": [
      "1/1 - 8s - loss: 0.6924 - accuracy: 0.5781 - val_loss: 0.6932 - val_accuracy: 0.5030\n",
      "\n",
      "Epoch 00071: val_loss did not improve from 0.69310\n",
      "Epoch 72/500\n",
      "1/1 - 8s - loss: 0.6923 - accuracy: 0.5854 - val_loss: 0.6932 - val_accuracy: 0.4954\n",
      "\n",
      "Epoch 00072: val_loss did not improve from 0.69310\n",
      "Epoch 73/500\n"
     ]
    },
    {
     "name": "stderr",
     "output_type": "stream",
     "text": [
      "[codecarbon INFO @ 09:27:22] Energy consumed for RAM : 0.003678 kWh. RAM Power : 11.759872913360596 W\n",
      "[codecarbon INFO @ 09:27:22] Energy consumed for all CPUs : 0.013298 kWh. All CPUs Power : 42.5 W\n",
      "[codecarbon INFO @ 09:27:22] 0.016977 kWh of electricity used since the begining.\n"
     ]
    },
    {
     "name": "stdout",
     "output_type": "stream",
     "text": [
      "1/1 - 8s - loss: 0.6923 - accuracy: 0.5856 - val_loss: 0.6931 - val_accuracy: 0.5069\n",
      "\n",
      "Epoch 00073: val_loss did not improve from 0.69310\n",
      "Epoch 74/500\n",
      "1/1 - 8s - loss: 0.6921 - accuracy: 0.5961 - val_loss: 0.6932 - val_accuracy: 0.5029\n",
      "\n",
      "Epoch 00074: val_loss did not improve from 0.69310\n",
      "Epoch 75/500\n"
     ]
    },
    {
     "name": "stderr",
     "output_type": "stream",
     "text": [
      "[codecarbon INFO @ 09:27:37] Energy consumed for RAM : 0.003727 kWh. RAM Power : 11.759872913360596 W\n",
      "[codecarbon INFO @ 09:27:37] Energy consumed for all CPUs : 0.013475 kWh. All CPUs Power : 42.5 W\n",
      "[codecarbon INFO @ 09:27:37] 0.017203 kWh of electricity used since the begining.\n"
     ]
    },
    {
     "name": "stdout",
     "output_type": "stream",
     "text": [
      "1/1 - 9s - loss: 0.6921 - accuracy: 0.5917 - val_loss: 0.6931 - val_accuracy: 0.5119\n",
      "\n",
      "Epoch 00075: val_loss improved from 0.69310 to 0.69310, saving model to models/NNFC/model.75-0.69-0.51.h5\n",
      "Epoch 76/500\n",
      "1/1 - 8s - loss: 0.6919 - accuracy: 0.5994 - val_loss: 0.6932 - val_accuracy: 0.4981\n",
      "\n",
      "Epoch 00076: val_loss did not improve from 0.69310\n",
      "Epoch 77/500\n"
     ]
    },
    {
     "name": "stderr",
     "output_type": "stream",
     "text": [
      "[codecarbon INFO @ 09:27:52] Energy consumed for RAM : 0.003776 kWh. RAM Power : 11.759872913360596 W\n",
      "[codecarbon INFO @ 09:27:52] Energy consumed for all CPUs : 0.013653 kWh. All CPUs Power : 42.5 W\n",
      "[codecarbon INFO @ 09:27:52] 0.017429 kWh of electricity used since the begining.\n"
     ]
    },
    {
     "name": "stdout",
     "output_type": "stream",
     "text": [
      "1/1 - 8s - loss: 0.6917 - accuracy: 0.6095 - val_loss: 0.6932 - val_accuracy: 0.4989\n",
      "\n",
      "Epoch 00077: val_loss did not improve from 0.69310\n",
      "Epoch 78/500\n",
      "1/1 - 8s - loss: 0.6916 - accuracy: 0.6113 - val_loss: 0.6931 - val_accuracy: 0.5034\n",
      "\n",
      "Epoch 00078: val_loss did not improve from 0.69310\n",
      "Epoch 79/500\n"
     ]
    },
    {
     "name": "stderr",
     "output_type": "stream",
     "text": [
      "[codecarbon INFO @ 09:28:07] Energy consumed for RAM : 0.003825 kWh. RAM Power : 11.759872913360596 W\n",
      "[codecarbon INFO @ 09:28:07] Energy consumed for all CPUs : 0.013830 kWh. All CPUs Power : 42.5 W\n",
      "[codecarbon INFO @ 09:28:07] 0.017655 kWh of electricity used since the begining.\n"
     ]
    },
    {
     "name": "stdout",
     "output_type": "stream",
     "text": [
      "1/1 - 9s - loss: 0.6914 - accuracy: 0.6169 - val_loss: 0.6932 - val_accuracy: 0.5021\n",
      "\n",
      "Epoch 00079: val_loss did not improve from 0.69310\n",
      "Epoch 80/500\n"
     ]
    },
    {
     "name": "stderr",
     "output_type": "stream",
     "text": [
      "[codecarbon INFO @ 09:28:22] Energy consumed for RAM : 0.003874 kWh. RAM Power : 11.759872913360596 W\n",
      "[codecarbon INFO @ 09:28:22] Energy consumed for all CPUs : 0.014007 kWh. All CPUs Power : 42.5 W\n",
      "[codecarbon INFO @ 09:28:22] 0.017881 kWh of electricity used since the begining.\n"
     ]
    },
    {
     "name": "stdout",
     "output_type": "stream",
     "text": [
      "1/1 - 8s - loss: 0.6913 - accuracy: 0.6145 - val_loss: 0.6932 - val_accuracy: 0.4989\n",
      "\n",
      "Epoch 00080: val_loss did not improve from 0.69310\n",
      "Epoch 81/500\n",
      "1/1 - 9s - loss: 0.6910 - accuracy: 0.6224 - val_loss: 0.6932 - val_accuracy: 0.5036\n",
      "\n",
      "Epoch 00081: val_loss did not improve from 0.69310\n",
      "Epoch 82/500\n"
     ]
    },
    {
     "name": "stderr",
     "output_type": "stream",
     "text": [
      "[codecarbon INFO @ 09:28:37] Energy consumed for RAM : 0.003923 kWh. RAM Power : 11.759872913360596 W\n",
      "[codecarbon INFO @ 09:28:37] Energy consumed for all CPUs : 0.014184 kWh. All CPUs Power : 42.5 W\n",
      "[codecarbon INFO @ 09:28:37] 0.018107 kWh of electricity used since the begining.\n"
     ]
    },
    {
     "name": "stdout",
     "output_type": "stream",
     "text": [
      "1/1 - 8s - loss: 0.6908 - accuracy: 0.6291 - val_loss: 0.6933 - val_accuracy: 0.4981\n",
      "\n",
      "Epoch 00082: val_loss did not improve from 0.69310\n",
      "Epoch 83/500\n",
      "1/1 - 9s - loss: 0.6905 - accuracy: 0.6323 - val_loss: 0.6931 - val_accuracy: 0.5129\n",
      "\n",
      "Epoch 00083: val_loss did not improve from 0.69310\n",
      "Epoch 84/500\n"
     ]
    },
    {
     "name": "stderr",
     "output_type": "stream",
     "text": [
      "[codecarbon INFO @ 09:28:52] Energy consumed for RAM : 0.003972 kWh. RAM Power : 11.759872913360596 W\n",
      "[codecarbon INFO @ 09:28:52] Energy consumed for all CPUs : 0.014361 kWh. All CPUs Power : 42.5 W\n",
      "[codecarbon INFO @ 09:28:52] 0.018333 kWh of electricity used since the begining.\n"
     ]
    },
    {
     "name": "stdout",
     "output_type": "stream",
     "text": [
      "1/1 - 8s - loss: 0.6902 - accuracy: 0.6416 - val_loss: 0.6932 - val_accuracy: 0.5066\n",
      "\n",
      "Epoch 00084: val_loss did not improve from 0.69310\n",
      "Epoch 85/500\n",
      "1/1 - 8s - loss: 0.6900 - accuracy: 0.6390 - val_loss: 0.6933 - val_accuracy: 0.5028\n",
      "\n",
      "Epoch 00085: val_loss did not improve from 0.69310\n",
      "Epoch 86/500\n"
     ]
    },
    {
     "name": "stderr",
     "output_type": "stream",
     "text": [
      "[codecarbon INFO @ 09:29:07] Energy consumed for RAM : 0.004021 kWh. RAM Power : 11.759872913360596 W\n",
      "[codecarbon INFO @ 09:29:07] Energy consumed for all CPUs : 0.014538 kWh. All CPUs Power : 42.5 W\n",
      "[codecarbon INFO @ 09:29:07] 0.018559 kWh of electricity used since the begining.\n"
     ]
    },
    {
     "name": "stdout",
     "output_type": "stream",
     "text": [
      "1/1 - 8s - loss: 0.6896 - accuracy: 0.6512 - val_loss: 0.6933 - val_accuracy: 0.4994\n",
      "\n",
      "Epoch 00086: val_loss did not improve from 0.69310\n",
      "Epoch 87/500\n",
      "1/1 - 8s - loss: 0.6892 - accuracy: 0.6561 - val_loss: 0.6933 - val_accuracy: 0.4987\n",
      "\n",
      "Epoch 00087: val_loss did not improve from 0.69310\n",
      "Epoch 88/500\n"
     ]
    },
    {
     "name": "stderr",
     "output_type": "stream",
     "text": [
      "[codecarbon INFO @ 09:29:22] Energy consumed for RAM : 0.004070 kWh. RAM Power : 11.759872913360596 W\n",
      "[codecarbon INFO @ 09:29:22] Energy consumed for all CPUs : 0.014715 kWh. All CPUs Power : 42.5 W\n",
      "[codecarbon INFO @ 09:29:22] 0.018785 kWh of electricity used since the begining.\n"
     ]
    },
    {
     "name": "stdout",
     "output_type": "stream",
     "text": [
      "1/1 - 8s - loss: 0.6889 - accuracy: 0.6608 - val_loss: 0.6933 - val_accuracy: 0.5035\n",
      "\n",
      "Epoch 00088: val_loss did not improve from 0.69310\n",
      "Epoch 89/500\n"
     ]
    },
    {
     "name": "stderr",
     "output_type": "stream",
     "text": [
      "[codecarbon INFO @ 09:29:37] Energy consumed for RAM : 0.004119 kWh. RAM Power : 11.759872913360596 W\n",
      "[codecarbon INFO @ 09:29:37] Energy consumed for all CPUs : 0.014892 kWh. All CPUs Power : 42.5 W\n",
      "[codecarbon INFO @ 09:29:37] 0.019011 kWh of electricity used since the begining.\n"
     ]
    },
    {
     "name": "stdout",
     "output_type": "stream",
     "text": [
      "1/1 - 8s - loss: 0.6884 - accuracy: 0.6635 - val_loss: 0.6933 - val_accuracy: 0.5074\n",
      "\n",
      "Epoch 00089: val_loss did not improve from 0.69310\n",
      "Epoch 90/500\n",
      "1/1 - 8s - loss: 0.6878 - accuracy: 0.6712 - val_loss: 0.6932 - val_accuracy: 0.5128\n",
      "\n",
      "Epoch 00090: val_loss did not improve from 0.69310\n",
      "Epoch 91/500\n"
     ]
    },
    {
     "name": "stderr",
     "output_type": "stream",
     "text": [
      "[codecarbon INFO @ 09:29:52] Energy consumed for RAM : 0.004168 kWh. RAM Power : 11.759872913360596 W\n",
      "[codecarbon INFO @ 09:29:52] Energy consumed for all CPUs : 0.015069 kWh. All CPUs Power : 42.5 W\n",
      "[codecarbon INFO @ 09:29:52] 0.019237 kWh of electricity used since the begining.\n"
     ]
    },
    {
     "name": "stdout",
     "output_type": "stream",
     "text": [
      "1/1 - 10s - loss: 0.6874 - accuracy: 0.6710 - val_loss: 0.6932 - val_accuracy: 0.5115\n",
      "\n",
      "Epoch 00091: val_loss did not improve from 0.69310\n",
      "Epoch 92/500\n",
      "1/1 - 8s - loss: 0.6868 - accuracy: 0.6823 - val_loss: 0.6933 - val_accuracy: 0.5098\n",
      "\n",
      "Epoch 00092: val_loss did not improve from 0.69310\n",
      "Epoch 93/500\n"
     ]
    },
    {
     "name": "stderr",
     "output_type": "stream",
     "text": [
      "[codecarbon INFO @ 09:30:07] Energy consumed for RAM : 0.004217 kWh. RAM Power : 11.759872913360596 W\n",
      "[codecarbon INFO @ 09:30:07] Energy consumed for all CPUs : 0.015246 kWh. All CPUs Power : 42.5 W\n",
      "[codecarbon INFO @ 09:30:07] 0.019463 kWh of electricity used since the begining.\n"
     ]
    },
    {
     "name": "stdout",
     "output_type": "stream",
     "text": [
      "1/1 - 8s - loss: 0.6861 - accuracy: 0.6887 - val_loss: 0.6934 - val_accuracy: 0.5042\n",
      "\n",
      "Epoch 00093: val_loss did not improve from 0.69310\n",
      "Epoch 94/500\n",
      "1/1 - 8s - loss: 0.6856 - accuracy: 0.6902 - val_loss: 0.6934 - val_accuracy: 0.5100\n",
      "\n",
      "Epoch 00094: val_loss did not improve from 0.69310\n",
      "Epoch 95/500\n"
     ]
    },
    {
     "name": "stderr",
     "output_type": "stream",
     "text": [
      "[codecarbon INFO @ 09:30:22] Energy consumed for RAM : 0.004266 kWh. RAM Power : 11.759872913360596 W\n",
      "[codecarbon INFO @ 09:30:22] Energy consumed for all CPUs : 0.015423 kWh. All CPUs Power : 42.5 W\n",
      "[codecarbon INFO @ 09:30:22] 0.019689 kWh of electricity used since the begining.\n"
     ]
    },
    {
     "name": "stdout",
     "output_type": "stream",
     "text": [
      "1/1 - 9s - loss: 0.6846 - accuracy: 0.6964 - val_loss: 0.6934 - val_accuracy: 0.5073\n",
      "\n",
      "Epoch 00095: val_loss did not improve from 0.69310\n",
      "Epoch 96/500\n",
      "1/1 - 8s - loss: 0.6839 - accuracy: 0.6988 - val_loss: 0.6934 - val_accuracy: 0.5020\n"
     ]
    },
    {
     "name": "stderr",
     "output_type": "stream",
     "text": [
      "[codecarbon INFO @ 09:30:37] Energy consumed for RAM : 0.004315 kWh. RAM Power : 11.759872913360596 W\n",
      "[codecarbon INFO @ 09:30:37] Energy consumed for all CPUs : 0.015600 kWh. All CPUs Power : 42.5 W\n",
      "[codecarbon INFO @ 09:30:37] 0.019915 kWh of electricity used since the begining.\n"
     ]
    },
    {
     "name": "stdout",
     "output_type": "stream",
     "text": [
      "\n",
      "Epoch 00096: val_loss did not improve from 0.69310\n",
      "Epoch 97/500\n",
      "1/1 - 8s - loss: 0.6833 - accuracy: 0.7009 - val_loss: 0.6935 - val_accuracy: 0.5032\n",
      "\n",
      "Epoch 00097: val_loss did not improve from 0.69310\n",
      "Epoch 98/500\n"
     ]
    },
    {
     "name": "stderr",
     "output_type": "stream",
     "text": [
      "[codecarbon INFO @ 09:30:52] Energy consumed for RAM : 0.004364 kWh. RAM Power : 11.759872913360596 W\n",
      "[codecarbon INFO @ 09:30:52] Energy consumed for all CPUs : 0.015777 kWh. All CPUs Power : 42.5 W\n",
      "[codecarbon INFO @ 09:30:52] 0.020141 kWh of electricity used since the begining.\n"
     ]
    },
    {
     "name": "stdout",
     "output_type": "stream",
     "text": [
      "1/1 - 8s - loss: 0.6820 - accuracy: 0.7111 - val_loss: 0.6934 - val_accuracy: 0.5081\n",
      "\n",
      "Epoch 00098: val_loss did not improve from 0.69310\n",
      "Epoch 99/500\n",
      "1/1 - 8s - loss: 0.6810 - accuracy: 0.7159 - val_loss: 0.6936 - val_accuracy: 0.5147\n",
      "\n",
      "Epoch 00099: val_loss did not improve from 0.69310\n",
      "Epoch 100/500\n"
     ]
    },
    {
     "name": "stderr",
     "output_type": "stream",
     "text": [
      "[codecarbon INFO @ 09:31:07] Energy consumed for RAM : 0.004413 kWh. RAM Power : 11.759872913360596 W\n",
      "[codecarbon INFO @ 09:31:07] Energy consumed for all CPUs : 0.015954 kWh. All CPUs Power : 42.5 W\n",
      "[codecarbon INFO @ 09:31:07] 0.020367 kWh of electricity used since the begining.\n"
     ]
    },
    {
     "name": "stdout",
     "output_type": "stream",
     "text": [
      "1/1 - 10s - loss: 0.6800 - accuracy: 0.7153 - val_loss: 0.6940 - val_accuracy: 0.5000\n",
      "\n",
      "Epoch 00100: val_loss did not improve from 0.69310\n",
      "Epoch 101/500\n",
      "1/1 - 9s - loss: 0.6787 - accuracy: 0.7235 - val_loss: 0.6936 - val_accuracy: 0.5087\n",
      "\n",
      "Epoch 00101: val_loss did not improve from 0.69310\n",
      "Epoch 102/500\n"
     ]
    },
    {
     "name": "stderr",
     "output_type": "stream",
     "text": [
      "[codecarbon INFO @ 09:31:22] Energy consumed for RAM : 0.004462 kWh. RAM Power : 11.759872913360596 W\n",
      "[codecarbon INFO @ 09:31:22] Energy consumed for all CPUs : 0.016131 kWh. All CPUs Power : 42.5 W\n",
      "[codecarbon INFO @ 09:31:22] 0.020593 kWh of electricity used since the begining.\n"
     ]
    },
    {
     "name": "stdout",
     "output_type": "stream",
     "text": [
      "1/1 - 9s - loss: 0.6770 - accuracy: 0.7324 - val_loss: 0.6937 - val_accuracy: 0.5086\n",
      "\n",
      "Epoch 00102: val_loss did not improve from 0.69310\n",
      "Epoch 103/500\n"
     ]
    },
    {
     "name": "stderr",
     "output_type": "stream",
     "text": [
      "[codecarbon INFO @ 09:31:37] Energy consumed for RAM : 0.004511 kWh. RAM Power : 11.759872913360596 W\n",
      "[codecarbon INFO @ 09:31:37] Energy consumed for all CPUs : 0.016308 kWh. All CPUs Power : 42.5 W\n",
      "[codecarbon INFO @ 09:31:37] 0.020819 kWh of electricity used since the begining.\n"
     ]
    },
    {
     "name": "stdout",
     "output_type": "stream",
     "text": [
      "1/1 - 9s - loss: 0.6757 - accuracy: 0.7393 - val_loss: 0.6937 - val_accuracy: 0.5085\n",
      "\n",
      "Epoch 00103: val_loss did not improve from 0.69310\n",
      "Epoch 104/500\n",
      "1/1 - 8s - loss: 0.6742 - accuracy: 0.7308 - val_loss: 0.6944 - val_accuracy: 0.5070\n",
      "\n",
      "Epoch 00104: val_loss did not improve from 0.69310\n",
      "Epoch 105/500\n"
     ]
    },
    {
     "name": "stderr",
     "output_type": "stream",
     "text": [
      "[codecarbon INFO @ 09:31:52] Energy consumed for RAM : 0.004560 kWh. RAM Power : 11.759872913360596 W\n",
      "[codecarbon INFO @ 09:31:52] Energy consumed for all CPUs : 0.016485 kWh. All CPUs Power : 42.5 W\n",
      "[codecarbon INFO @ 09:31:52] 0.021045 kWh of electricity used since the begining.\n"
     ]
    },
    {
     "name": "stdout",
     "output_type": "stream",
     "text": [
      "1/1 - 9s - loss: 0.6726 - accuracy: 0.7415 - val_loss: 0.6942 - val_accuracy: 0.5116\n",
      "\n",
      "Epoch 00105: val_loss did not improve from 0.69310\n",
      "Epoch 106/500\n",
      "1/1 - 8s - loss: 0.6705 - accuracy: 0.7484 - val_loss: 0.6940 - val_accuracy: 0.5125\n",
      "\n",
      "Epoch 00106: val_loss did not improve from 0.69310\n",
      "Epoch 107/500\n"
     ]
    },
    {
     "name": "stderr",
     "output_type": "stream",
     "text": [
      "[codecarbon INFO @ 09:32:07] Energy consumed for RAM : 0.004609 kWh. RAM Power : 11.759872913360596 W\n",
      "[codecarbon INFO @ 09:32:07] Energy consumed for all CPUs : 0.016663 kWh. All CPUs Power : 42.5 W\n",
      "[codecarbon INFO @ 09:32:07] 0.021272 kWh of electricity used since the begining.\n"
     ]
    },
    {
     "name": "stdout",
     "output_type": "stream",
     "text": [
      "1/1 - 8s - loss: 0.6686 - accuracy: 0.7515 - val_loss: 0.6944 - val_accuracy: 0.5090\n",
      "\n",
      "Epoch 00107: val_loss did not improve from 0.69310\n",
      "Epoch 108/500\n",
      "1/1 - 8s - loss: 0.6660 - accuracy: 0.7576 - val_loss: 0.6943 - val_accuracy: 0.5180\n",
      "\n",
      "Epoch 00108: val_loss did not improve from 0.69310\n",
      "Epoch 109/500\n"
     ]
    },
    {
     "name": "stderr",
     "output_type": "stream",
     "text": [
      "[codecarbon INFO @ 09:32:22] Energy consumed for RAM : 0.004658 kWh. RAM Power : 11.759872913360596 W\n",
      "[codecarbon INFO @ 09:32:22] Energy consumed for all CPUs : 0.016840 kWh. All CPUs Power : 42.5 W\n",
      "[codecarbon INFO @ 09:32:22] 0.021498 kWh of electricity used since the begining.\n"
     ]
    },
    {
     "name": "stdout",
     "output_type": "stream",
     "text": [
      "1/1 - 8s - loss: 0.6643 - accuracy: 0.7573 - val_loss: 0.6946 - val_accuracy: 0.5104\n",
      "\n",
      "Epoch 00109: val_loss did not improve from 0.69310\n",
      "Epoch 110/500\n",
      "1/1 - 8s - loss: 0.6615 - accuracy: 0.7616 - val_loss: 0.6946 - val_accuracy: 0.5130\n",
      "\n",
      "Epoch 00110: val_loss did not improve from 0.69310\n",
      "Epoch 111/500\n"
     ]
    },
    {
     "name": "stderr",
     "output_type": "stream",
     "text": [
      "[codecarbon INFO @ 09:32:37] Energy consumed for RAM : 0.004707 kWh. RAM Power : 11.759872913360596 W\n",
      "[codecarbon INFO @ 09:32:37] Energy consumed for all CPUs : 0.017017 kWh. All CPUs Power : 42.5 W\n",
      "[codecarbon INFO @ 09:32:37] 0.021724 kWh of electricity used since the begining.\n"
     ]
    },
    {
     "name": "stdout",
     "output_type": "stream",
     "text": [
      "1/1 - 9s - loss: 0.6583 - accuracy: 0.7680 - val_loss: 0.6953 - val_accuracy: 0.5116\n",
      "\n",
      "Epoch 00111: val_loss did not improve from 0.69310\n",
      "Epoch 112/500\n"
     ]
    },
    {
     "name": "stderr",
     "output_type": "stream",
     "text": [
      "[codecarbon INFO @ 09:32:52] Energy consumed for RAM : 0.004756 kWh. RAM Power : 11.759872913360596 W\n",
      "[codecarbon INFO @ 09:32:52] Energy consumed for all CPUs : 0.017194 kWh. All CPUs Power : 42.5 W\n",
      "[codecarbon INFO @ 09:32:52] 0.021950 kWh of electricity used since the begining.\n"
     ]
    },
    {
     "name": "stdout",
     "output_type": "stream",
     "text": [
      "1/1 - 8s - loss: 0.6554 - accuracy: 0.7732 - val_loss: 0.6952 - val_accuracy: 0.5125\n",
      "\n",
      "Epoch 00112: val_loss did not improve from 0.69310\n",
      "Epoch 113/500\n",
      "1/1 - 9s - loss: 0.6517 - accuracy: 0.7775 - val_loss: 0.6954 - val_accuracy: 0.5108\n",
      "\n",
      "Epoch 00113: val_loss did not improve from 0.69310\n",
      "Epoch 114/500\n"
     ]
    },
    {
     "name": "stderr",
     "output_type": "stream",
     "text": [
      "[codecarbon INFO @ 09:33:07] Energy consumed for RAM : 0.004805 kWh. RAM Power : 11.759872913360596 W\n",
      "[codecarbon INFO @ 09:33:07] Energy consumed for all CPUs : 0.017371 kWh. All CPUs Power : 42.5 W\n",
      "[codecarbon INFO @ 09:33:07] 0.022176 kWh of electricity used since the begining.\n"
     ]
    },
    {
     "name": "stdout",
     "output_type": "stream",
     "text": [
      "1/1 - 8s - loss: 0.6491 - accuracy: 0.7833 - val_loss: 0.6965 - val_accuracy: 0.5067\n",
      "\n",
      "Epoch 00114: val_loss did not improve from 0.69310\n",
      "Epoch 115/500\n",
      "1/1 - 9s - loss: 0.6451 - accuracy: 0.7822 - val_loss: 0.6957 - val_accuracy: 0.5162\n",
      "\n",
      "Epoch 00115: val_loss did not improve from 0.69310\n",
      "Epoch 116/500\n"
     ]
    },
    {
     "name": "stderr",
     "output_type": "stream",
     "text": [
      "[codecarbon INFO @ 09:33:22] Energy consumed for RAM : 0.004854 kWh. RAM Power : 11.759872913360596 W\n",
      "[codecarbon INFO @ 09:33:22] Energy consumed for all CPUs : 0.017548 kWh. All CPUs Power : 42.5 W\n",
      "[codecarbon INFO @ 09:33:22] 0.022402 kWh of electricity used since the begining.\n"
     ]
    },
    {
     "name": "stdout",
     "output_type": "stream",
     "text": [
      "1/1 - 8s - loss: 0.6417 - accuracy: 0.7875 - val_loss: 0.6972 - val_accuracy: 0.5090\n",
      "\n",
      "Epoch 00116: val_loss did not improve from 0.69310\n",
      "Epoch 117/500\n",
      "1/1 - 10s - loss: 0.6368 - accuracy: 0.7895 - val_loss: 0.6990 - val_accuracy: 0.5065\n",
      "\n",
      "Epoch 00117: val_loss did not improve from 0.69310\n",
      "Epoch 118/500\n"
     ]
    },
    {
     "name": "stderr",
     "output_type": "stream",
     "text": [
      "[codecarbon INFO @ 09:33:37] Energy consumed for RAM : 0.004903 kWh. RAM Power : 11.759872913360596 W\n",
      "[codecarbon INFO @ 09:33:37] Energy consumed for all CPUs : 0.017725 kWh. All CPUs Power : 42.5 W\n",
      "[codecarbon INFO @ 09:33:37] 0.022628 kWh of electricity used since the begining.\n"
     ]
    },
    {
     "name": "stdout",
     "output_type": "stream",
     "text": [
      "1/1 - 8s - loss: 0.6325 - accuracy: 0.7940 - val_loss: 0.6982 - val_accuracy: 0.5059\n",
      "\n",
      "Epoch 00118: val_loss did not improve from 0.69310\n",
      "Epoch 119/500\n"
     ]
    },
    {
     "name": "stderr",
     "output_type": "stream",
     "text": [
      "[codecarbon INFO @ 09:33:52] Energy consumed for RAM : 0.004952 kWh. RAM Power : 11.759872913360596 W\n",
      "[codecarbon INFO @ 09:33:52] Energy consumed for all CPUs : 0.017902 kWh. All CPUs Power : 42.5 W\n",
      "[codecarbon INFO @ 09:33:52] 0.022854 kWh of electricity used since the begining.\n"
     ]
    },
    {
     "name": "stdout",
     "output_type": "stream",
     "text": [
      "1/1 - 10s - loss: 0.6278 - accuracy: 0.7959 - val_loss: 0.7003 - val_accuracy: 0.5083\n",
      "\n",
      "Epoch 00119: val_loss did not improve from 0.69310\n",
      "Epoch 120/500\n",
      "1/1 - 8s - loss: 0.6233 - accuracy: 0.8000 - val_loss: 0.7004 - val_accuracy: 0.5118\n",
      "\n",
      "Epoch 00120: val_loss did not improve from 0.69310\n",
      "Epoch 121/500\n"
     ]
    },
    {
     "name": "stderr",
     "output_type": "stream",
     "text": [
      "[codecarbon INFO @ 09:34:07] Energy consumed for RAM : 0.005001 kWh. RAM Power : 11.759872913360596 W\n",
      "[codecarbon INFO @ 09:34:07] Energy consumed for all CPUs : 0.018079 kWh. All CPUs Power : 42.5 W\n",
      "[codecarbon INFO @ 09:34:07] 0.023080 kWh of electricity used since the begining.\n"
     ]
    },
    {
     "name": "stdout",
     "output_type": "stream",
     "text": [
      "1/1 - 10s - loss: 0.6187 - accuracy: 0.8015 - val_loss: 0.6992 - val_accuracy: 0.5161\n",
      "\n",
      "Epoch 00121: val_loss did not improve from 0.69310\n",
      "Epoch 122/500\n",
      "1/1 - 8s - loss: 0.6121 - accuracy: 0.8059 - val_loss: 0.7016 - val_accuracy: 0.5137\n",
      "\n",
      "Epoch 00122: val_loss did not improve from 0.69310\n",
      "Epoch 123/500\n"
     ]
    },
    {
     "name": "stderr",
     "output_type": "stream",
     "text": [
      "[codecarbon INFO @ 09:34:22] Energy consumed for RAM : 0.005050 kWh. RAM Power : 11.759872913360596 W\n",
      "[codecarbon INFO @ 09:34:22] Energy consumed for all CPUs : 0.018256 kWh. All CPUs Power : 42.5 W\n",
      "[codecarbon INFO @ 09:34:22] 0.023306 kWh of electricity used since the begining.\n"
     ]
    },
    {
     "name": "stdout",
     "output_type": "stream",
     "text": [
      "1/1 - 10s - loss: 0.6060 - accuracy: 0.8150 - val_loss: 0.7043 - val_accuracy: 0.5144\n",
      "\n",
      "Epoch 00123: val_loss did not improve from 0.69310\n",
      "Epoch 124/500\n"
     ]
    },
    {
     "name": "stderr",
     "output_type": "stream",
     "text": [
      "[codecarbon INFO @ 09:34:37] Energy consumed for RAM : 0.005099 kWh. RAM Power : 11.759872913360596 W\n",
      "[codecarbon INFO @ 09:34:37] Energy consumed for all CPUs : 0.018433 kWh. All CPUs Power : 42.5 W\n",
      "[codecarbon INFO @ 09:34:37] 0.023532 kWh of electricity used since the begining.\n"
     ]
    },
    {
     "name": "stdout",
     "output_type": "stream",
     "text": [
      "1/1 - 8s - loss: 0.6002 - accuracy: 0.8082 - val_loss: 0.7041 - val_accuracy: 0.5139\n",
      "\n",
      "Epoch 00124: val_loss did not improve from 0.69310\n",
      "Epoch 125/500\n",
      "1/1 - 8s - loss: 0.5937 - accuracy: 0.8124 - val_loss: 0.7049 - val_accuracy: 0.5136\n",
      "\n",
      "Epoch 00125: val_loss did not improve from 0.69310\n",
      "Epoch 126/500\n"
     ]
    },
    {
     "name": "stderr",
     "output_type": "stream",
     "text": [
      "[codecarbon INFO @ 09:34:52] Energy consumed for RAM : 0.005148 kWh. RAM Power : 11.759872913360596 W\n",
      "[codecarbon INFO @ 09:34:52] Energy consumed for all CPUs : 0.018610 kWh. All CPUs Power : 42.5 W\n",
      "[codecarbon INFO @ 09:34:52] 0.023758 kWh of electricity used since the begining.\n"
     ]
    },
    {
     "name": "stdout",
     "output_type": "stream",
     "text": [
      "1/1 - 8s - loss: 0.5874 - accuracy: 0.8160 - val_loss: 0.7094 - val_accuracy: 0.5133\n",
      "\n",
      "Epoch 00126: val_loss did not improve from 0.69310\n",
      "Epoch 127/500\n",
      "1/1 - 8s - loss: 0.5788 - accuracy: 0.8221 - val_loss: 0.7103 - val_accuracy: 0.5168\n",
      "\n",
      "Epoch 00127: val_loss did not improve from 0.69310\n",
      "Epoch 128/500\n"
     ]
    },
    {
     "name": "stderr",
     "output_type": "stream",
     "text": [
      "[codecarbon INFO @ 09:35:07] Energy consumed for RAM : 0.005197 kWh. RAM Power : 11.759872913360596 W\n",
      "[codecarbon INFO @ 09:35:07] Energy consumed for all CPUs : 0.018787 kWh. All CPUs Power : 42.5 W\n",
      "[codecarbon INFO @ 09:35:07] 0.023984 kWh of electricity used since the begining.\n"
     ]
    },
    {
     "name": "stdout",
     "output_type": "stream",
     "text": [
      "1/1 - 8s - loss: 0.5717 - accuracy: 0.8262 - val_loss: 0.7122 - val_accuracy: 0.5136\n",
      "\n",
      "Epoch 00128: val_loss did not improve from 0.69310\n",
      "Epoch 129/500\n",
      "1/1 - 9s - loss: 0.5635 - accuracy: 0.8292 - val_loss: 0.7144 - val_accuracy: 0.5168\n",
      "\n",
      "Epoch 00129: val_loss did not improve from 0.69310\n",
      "Epoch 130/500\n"
     ]
    },
    {
     "name": "stderr",
     "output_type": "stream",
     "text": [
      "[codecarbon INFO @ 09:35:22] Energy consumed for RAM : 0.005246 kWh. RAM Power : 11.759872913360596 W\n",
      "[codecarbon INFO @ 09:35:22] Energy consumed for all CPUs : 0.018964 kWh. All CPUs Power : 42.5 W\n",
      "[codecarbon INFO @ 09:35:22] 0.024210 kWh of electricity used since the begining.\n"
     ]
    },
    {
     "name": "stdout",
     "output_type": "stream",
     "text": [
      "1/1 - 8s - loss: 0.5570 - accuracy: 0.8309 - val_loss: 0.7221 - val_accuracy: 0.5117\n",
      "\n",
      "Epoch 00130: val_loss did not improve from 0.69310\n",
      "Epoch 131/500\n"
     ]
    },
    {
     "name": "stderr",
     "output_type": "stream",
     "text": [
      "[codecarbon INFO @ 09:35:37] Energy consumed for RAM : 0.005295 kWh. RAM Power : 11.759872913360596 W\n",
      "[codecarbon INFO @ 09:35:37] Energy consumed for all CPUs : 0.019141 kWh. All CPUs Power : 42.5 W\n",
      "[codecarbon INFO @ 09:35:37] 0.024436 kWh of electricity used since the begining.\n"
     ]
    },
    {
     "name": "stdout",
     "output_type": "stream",
     "text": [
      "1/1 - 9s - loss: 0.5496 - accuracy: 0.8303 - val_loss: 0.7196 - val_accuracy: 0.5186\n",
      "\n",
      "Epoch 00131: val_loss did not improve from 0.69310\n",
      "Epoch 132/500\n",
      "1/1 - 8s - loss: 0.5398 - accuracy: 0.8357 - val_loss: 0.7221 - val_accuracy: 0.5116\n",
      "\n",
      "Epoch 00132: val_loss did not improve from 0.69310\n",
      "Epoch 133/500\n"
     ]
    },
    {
     "name": "stderr",
     "output_type": "stream",
     "text": [
      "[codecarbon INFO @ 09:35:52] Energy consumed for RAM : 0.005344 kWh. RAM Power : 11.759872913360596 W\n",
      "[codecarbon INFO @ 09:35:52] Energy consumed for all CPUs : 0.019318 kWh. All CPUs Power : 42.5 W\n",
      "[codecarbon INFO @ 09:35:52] 0.024662 kWh of electricity used since the begining.\n"
     ]
    },
    {
     "name": "stdout",
     "output_type": "stream",
     "text": [
      "1/1 - 8s - loss: 0.5297 - accuracy: 0.8377 - val_loss: 0.7344 - val_accuracy: 0.5135\n",
      "\n",
      "Epoch 00133: val_loss did not improve from 0.69310\n",
      "Epoch 134/500\n",
      "1/1 - 8s - loss: 0.5204 - accuracy: 0.8408 - val_loss: 0.7382 - val_accuracy: 0.5167\n",
      "\n",
      "Epoch 00134: val_loss did not improve from 0.69310\n",
      "Epoch 135/500\n"
     ]
    },
    {
     "name": "stderr",
     "output_type": "stream",
     "text": [
      "[codecarbon INFO @ 09:36:07] Energy consumed for RAM : 0.005393 kWh. RAM Power : 11.759872913360596 W\n",
      "[codecarbon INFO @ 09:36:07] Energy consumed for all CPUs : 0.019495 kWh. All CPUs Power : 42.5 W\n",
      "[codecarbon INFO @ 09:36:07] 0.024888 kWh of electricity used since the begining.\n"
     ]
    },
    {
     "name": "stdout",
     "output_type": "stream",
     "text": [
      "1/1 - 8s - loss: 0.5124 - accuracy: 0.8413 - val_loss: 0.7341 - val_accuracy: 0.5144\n",
      "\n",
      "Epoch 00135: val_loss did not improve from 0.69310\n",
      "Epoch 136/500\n",
      "1/1 - 8s - loss: 0.5018 - accuracy: 0.8482 - val_loss: 0.7470 - val_accuracy: 0.5109\n",
      "\n",
      "Epoch 00136: val_loss did not improve from 0.69310\n",
      "Epoch 137/500\n"
     ]
    },
    {
     "name": "stderr",
     "output_type": "stream",
     "text": [
      "[codecarbon INFO @ 09:36:22] Energy consumed for RAM : 0.005442 kWh. RAM Power : 11.759872913360596 W\n",
      "[codecarbon INFO @ 09:36:22] Energy consumed for all CPUs : 0.019672 kWh. All CPUs Power : 42.5 W\n",
      "[codecarbon INFO @ 09:36:22] 0.025114 kWh of electricity used since the begining.\n"
     ]
    },
    {
     "name": "stdout",
     "output_type": "stream",
     "text": [
      "1/1 - 9s - loss: 0.4906 - accuracy: 0.8554 - val_loss: 0.7573 - val_accuracy: 0.5149\n",
      "\n",
      "Epoch 00137: val_loss did not improve from 0.69310\n",
      "Epoch 138/500\n",
      "1/1 - 8s - loss: 0.4832 - accuracy: 0.8511 - val_loss: 0.7574 - val_accuracy: 0.5114\n",
      "\n",
      "Epoch 00138: val_loss did not improve from 0.69310\n",
      "Epoch 139/500\n"
     ]
    },
    {
     "name": "stderr",
     "output_type": "stream",
     "text": [
      "[codecarbon INFO @ 09:36:37] Energy consumed for RAM : 0.005491 kWh. RAM Power : 11.759872913360596 W\n",
      "[codecarbon INFO @ 09:36:37] Energy consumed for all CPUs : 0.019849 kWh. All CPUs Power : 42.5 W\n",
      "[codecarbon INFO @ 09:36:37] 0.025340 kWh of electricity used since the begining.\n"
     ]
    },
    {
     "name": "stdout",
     "output_type": "stream",
     "text": [
      "1/1 - 10s - loss: 0.4731 - accuracy: 0.8511 - val_loss: 0.7652 - val_accuracy: 0.5154\n",
      "\n",
      "Epoch 00139: val_loss did not improve from 0.69310\n",
      "Epoch 140/500\n"
     ]
    },
    {
     "name": "stderr",
     "output_type": "stream",
     "text": [
      "[codecarbon INFO @ 09:36:52] Energy consumed for RAM : 0.005540 kWh. RAM Power : 11.759872913360596 W\n",
      "[codecarbon INFO @ 09:36:52] Energy consumed for all CPUs : 0.020027 kWh. All CPUs Power : 42.5 W\n",
      "[codecarbon INFO @ 09:36:52] 0.025567 kWh of electricity used since the begining.\n"
     ]
    },
    {
     "name": "stdout",
     "output_type": "stream",
     "text": [
      "1/1 - 8s - loss: 0.4640 - accuracy: 0.8562 - val_loss: 0.7798 - val_accuracy: 0.5086\n",
      "\n",
      "Epoch 00140: val_loss did not improve from 0.69310\n",
      "Epoch 141/500\n",
      "1/1 - 8s - loss: 0.4539 - accuracy: 0.8519 - val_loss: 0.7920 - val_accuracy: 0.5117\n",
      "\n",
      "Epoch 00141: val_loss did not improve from 0.69310\n",
      "Epoch 142/500\n"
     ]
    },
    {
     "name": "stderr",
     "output_type": "stream",
     "text": [
      "[codecarbon INFO @ 09:37:07] Energy consumed for RAM : 0.005589 kWh. RAM Power : 11.759872913360596 W\n",
      "[codecarbon INFO @ 09:37:07] Energy consumed for all CPUs : 0.020204 kWh. All CPUs Power : 42.5 W\n",
      "[codecarbon INFO @ 09:37:07] 0.025793 kWh of electricity used since the begining.\n"
     ]
    },
    {
     "name": "stdout",
     "output_type": "stream",
     "text": [
      "1/1 - 10s - loss: 0.4438 - accuracy: 0.8577 - val_loss: 0.7917 - val_accuracy: 0.5103\n",
      "\n",
      "Epoch 00142: val_loss did not improve from 0.69310\n",
      "Epoch 143/500\n",
      "1/1 - 10s - loss: 0.4343 - accuracy: 0.8654 - val_loss: 0.8079 - val_accuracy: 0.5128\n",
      "\n",
      "Epoch 00143: val_loss did not improve from 0.69310\n",
      "Epoch 144/500\n"
     ]
    },
    {
     "name": "stderr",
     "output_type": "stream",
     "text": [
      "[codecarbon INFO @ 09:37:22] Energy consumed for RAM : 0.005638 kWh. RAM Power : 11.759872913360596 W\n",
      "[codecarbon INFO @ 09:37:22] Energy consumed for all CPUs : 0.020381 kWh. All CPUs Power : 42.5 W\n",
      "[codecarbon INFO @ 09:37:22] 0.026019 kWh of electricity used since the begining.\n"
     ]
    },
    {
     "name": "stdout",
     "output_type": "stream",
     "text": [
      "1/1 - 10s - loss: 0.4262 - accuracy: 0.8604 - val_loss: 0.8290 - val_accuracy: 0.5168\n",
      "\n",
      "Epoch 00144: val_loss did not improve from 0.69310\n",
      "Epoch 145/500\n"
     ]
    },
    {
     "name": "stderr",
     "output_type": "stream",
     "text": [
      "[codecarbon INFO @ 09:37:37] Energy consumed for RAM : 0.005687 kWh. RAM Power : 11.759872913360596 W\n",
      "[codecarbon INFO @ 09:37:37] Energy consumed for all CPUs : 0.020558 kWh. All CPUs Power : 42.5 W\n",
      "[codecarbon INFO @ 09:37:37] 0.026245 kWh of electricity used since the begining.\n"
     ]
    },
    {
     "name": "stdout",
     "output_type": "stream",
     "text": [
      "1/1 - 9s - loss: 0.4170 - accuracy: 0.8633 - val_loss: 0.8390 - val_accuracy: 0.5140\n",
      "\n",
      "Epoch 00145: val_loss did not improve from 0.69310\n",
      "Epoch 146/500\n",
      "1/1 - 8s - loss: 0.4039 - accuracy: 0.8707 - val_loss: 0.8415 - val_accuracy: 0.5119\n",
      "\n",
      "Epoch 00146: val_loss did not improve from 0.69310\n",
      "Epoch 147/500\n"
     ]
    },
    {
     "name": "stderr",
     "output_type": "stream",
     "text": [
      "[codecarbon INFO @ 09:37:52] Energy consumed for RAM : 0.005736 kWh. RAM Power : 11.759872913360596 W\n",
      "[codecarbon INFO @ 09:37:52] Energy consumed for all CPUs : 0.020735 kWh. All CPUs Power : 42.5 W\n",
      "[codecarbon INFO @ 09:37:52] 0.026471 kWh of electricity used since the begining.\n"
     ]
    },
    {
     "name": "stdout",
     "output_type": "stream",
     "text": [
      "1/1 - 8s - loss: 0.3972 - accuracy: 0.8705 - val_loss: 0.8575 - val_accuracy: 0.5185\n",
      "\n",
      "Epoch 00147: val_loss did not improve from 0.69310\n",
      "Epoch 148/500\n",
      "1/1 - 8s - loss: 0.3801 - accuracy: 0.8771 - val_loss: 0.8799 - val_accuracy: 0.5151\n",
      "\n",
      "Epoch 00148: val_loss did not improve from 0.69310\n",
      "Epoch 149/500\n"
     ]
    },
    {
     "name": "stderr",
     "output_type": "stream",
     "text": [
      "[codecarbon INFO @ 09:38:07] Energy consumed for RAM : 0.005785 kWh. RAM Power : 11.759872913360596 W\n",
      "[codecarbon INFO @ 09:38:07] Energy consumed for all CPUs : 0.020912 kWh. All CPUs Power : 42.5 W\n",
      "[codecarbon INFO @ 09:38:07] 0.026697 kWh of electricity used since the begining.\n"
     ]
    },
    {
     "name": "stdout",
     "output_type": "stream",
     "text": [
      "1/1 - 10s - loss: 0.3783 - accuracy: 0.8742 - val_loss: 0.8846 - val_accuracy: 0.5139\n",
      "\n",
      "Epoch 00149: val_loss did not improve from 0.69310\n",
      "Epoch 150/500\n"
     ]
    },
    {
     "name": "stderr",
     "output_type": "stream",
     "text": [
      "[codecarbon INFO @ 09:38:22] Energy consumed for RAM : 0.005834 kWh. RAM Power : 11.759872913360596 W\n",
      "[codecarbon INFO @ 09:38:22] Energy consumed for all CPUs : 0.021089 kWh. All CPUs Power : 42.5 W\n",
      "[codecarbon INFO @ 09:38:22] 0.026923 kWh of electricity used since the begining.\n"
     ]
    },
    {
     "name": "stdout",
     "output_type": "stream",
     "text": [
      "1/1 - 10s - loss: 0.3700 - accuracy: 0.8755 - val_loss: 0.9007 - val_accuracy: 0.5157\n",
      "\n",
      "Epoch 00150: val_loss did not improve from 0.69310\n",
      "Epoch 151/500\n",
      "1/1 - 10s - loss: 0.3570 - accuracy: 0.8797 - val_loss: 0.9169 - val_accuracy: 0.5162\n",
      "\n",
      "Epoch 00151: val_loss did not improve from 0.69310\n",
      "Epoch 152/500\n"
     ]
    },
    {
     "name": "stderr",
     "output_type": "stream",
     "text": [
      "[codecarbon INFO @ 09:38:37] Energy consumed for RAM : 0.005883 kWh. RAM Power : 11.759872913360596 W\n",
      "[codecarbon INFO @ 09:38:37] Energy consumed for all CPUs : 0.021266 kWh. All CPUs Power : 42.5 W\n",
      "[codecarbon INFO @ 09:38:37] 0.027149 kWh of electricity used since the begining.\n"
     ]
    },
    {
     "name": "stdout",
     "output_type": "stream",
     "text": [
      "1/1 - 10s - loss: 0.3506 - accuracy: 0.8836 - val_loss: 0.9407 - val_accuracy: 0.5171\n",
      "\n",
      "Epoch 00152: val_loss did not improve from 0.69310\n",
      "Epoch 153/500\n"
     ]
    },
    {
     "name": "stderr",
     "output_type": "stream",
     "text": [
      "[codecarbon INFO @ 09:38:52] Energy consumed for RAM : 0.005932 kWh. RAM Power : 11.759872913360596 W\n",
      "[codecarbon INFO @ 09:38:52] Energy consumed for all CPUs : 0.021443 kWh. All CPUs Power : 42.5 W\n",
      "[codecarbon INFO @ 09:38:52] 0.027375 kWh of electricity used since the begining.\n"
     ]
    },
    {
     "name": "stdout",
     "output_type": "stream",
     "text": [
      "1/1 - 10s - loss: 0.3482 - accuracy: 0.8796 - val_loss: 0.9603 - val_accuracy: 0.5139\n",
      "\n",
      "Epoch 00153: val_loss did not improve from 0.69310\n",
      "Epoch 154/500\n",
      "1/1 - 10s - loss: 0.3326 - accuracy: 0.8864 - val_loss: 0.9726 - val_accuracy: 0.5140\n",
      "\n",
      "Epoch 00154: val_loss did not improve from 0.69310\n",
      "Epoch 155/500\n"
     ]
    },
    {
     "name": "stderr",
     "output_type": "stream",
     "text": [
      "[codecarbon INFO @ 09:39:07] Energy consumed for RAM : 0.005981 kWh. RAM Power : 11.759872913360596 W\n",
      "[codecarbon INFO @ 09:39:07] Energy consumed for all CPUs : 0.021620 kWh. All CPUs Power : 42.5 W\n",
      "[codecarbon INFO @ 09:39:07] 0.027601 kWh of electricity used since the begining.\n"
     ]
    },
    {
     "name": "stdout",
     "output_type": "stream",
     "text": [
      "1/1 - 10s - loss: 0.3241 - accuracy: 0.8883 - val_loss: 1.0219 - val_accuracy: 0.5107\n",
      "\n",
      "Epoch 00155: val_loss did not improve from 0.69310\n",
      "Epoch 156/500\n"
     ]
    },
    {
     "name": "stderr",
     "output_type": "stream",
     "text": [
      "[codecarbon INFO @ 09:39:22] Energy consumed for RAM : 0.006030 kWh. RAM Power : 11.759872913360596 W\n",
      "[codecarbon INFO @ 09:39:22] Energy consumed for all CPUs : 0.021798 kWh. All CPUs Power : 42.5 W\n",
      "[codecarbon INFO @ 09:39:22] 0.027827 kWh of electricity used since the begining.\n"
     ]
    },
    {
     "name": "stdout",
     "output_type": "stream",
     "text": [
      "1/1 - 10s - loss: 0.3198 - accuracy: 0.8888 - val_loss: 1.0084 - val_accuracy: 0.5187\n",
      "\n",
      "Epoch 00156: val_loss did not improve from 0.69310\n",
      "Epoch 157/500\n",
      "1/1 - 10s - loss: 0.3067 - accuracy: 0.8941 - val_loss: 1.0278 - val_accuracy: 0.5133\n"
     ]
    },
    {
     "name": "stderr",
     "output_type": "stream",
     "text": [
      "[codecarbon INFO @ 09:39:37] Energy consumed for RAM : 0.006078 kWh. RAM Power : 11.759872913360596 W\n",
      "[codecarbon INFO @ 09:39:37] Energy consumed for all CPUs : 0.021975 kWh. All CPUs Power : 42.5 W\n",
      "[codecarbon INFO @ 09:39:37] 0.028053 kWh of electricity used since the begining.\n"
     ]
    },
    {
     "name": "stdout",
     "output_type": "stream",
     "text": [
      "\n",
      "Epoch 00157: val_loss did not improve from 0.69310\n",
      "Epoch 158/500\n",
      "1/1 - 10s - loss: 0.3095 - accuracy: 0.8917 - val_loss: 1.0822 - val_accuracy: 0.5140\n",
      "\n",
      "Epoch 00158: val_loss did not improve from 0.69310\n",
      "Epoch 159/500\n"
     ]
    },
    {
     "name": "stderr",
     "output_type": "stream",
     "text": [
      "[codecarbon INFO @ 09:39:52] Energy consumed for RAM : 0.006127 kWh. RAM Power : 11.759872913360596 W\n",
      "[codecarbon INFO @ 09:39:52] Energy consumed for all CPUs : 0.022152 kWh. All CPUs Power : 42.5 W\n",
      "[codecarbon INFO @ 09:39:52] 0.028279 kWh of electricity used since the begining.\n"
     ]
    },
    {
     "name": "stdout",
     "output_type": "stream",
     "text": [
      "1/1 - 10s - loss: 0.3044 - accuracy: 0.8909 - val_loss: 1.0964 - val_accuracy: 0.5181\n",
      "\n",
      "Epoch 00159: val_loss did not improve from 0.69310\n",
      "Epoch 160/500\n"
     ]
    },
    {
     "name": "stderr",
     "output_type": "stream",
     "text": [
      "[codecarbon INFO @ 09:40:07] Energy consumed for RAM : 0.006176 kWh. RAM Power : 11.759872913360596 W\n",
      "[codecarbon INFO @ 09:40:07] Energy consumed for all CPUs : 0.022329 kWh. All CPUs Power : 42.5 W\n",
      "[codecarbon INFO @ 09:40:07] 0.028505 kWh of electricity used since the begining.\n"
     ]
    },
    {
     "name": "stdout",
     "output_type": "stream",
     "text": [
      "1/1 - 10s - loss: 0.2969 - accuracy: 0.8927 - val_loss: 1.1045 - val_accuracy: 0.5160\n",
      "\n",
      "Epoch 00160: val_loss did not improve from 0.69310\n",
      "Epoch 161/500\n",
      "1/1 - 10s - loss: 0.2868 - accuracy: 0.8971 - val_loss: 1.1218 - val_accuracy: 0.5124\n",
      "\n",
      "Epoch 00161: val_loss did not improve from 0.69310\n",
      "Epoch 162/500\n"
     ]
    },
    {
     "name": "stderr",
     "output_type": "stream",
     "text": [
      "[codecarbon INFO @ 09:40:22] Energy consumed for RAM : 0.006225 kWh. RAM Power : 11.759872913360596 W\n",
      "[codecarbon INFO @ 09:40:22] Energy consumed for all CPUs : 0.022506 kWh. All CPUs Power : 42.5 W\n",
      "[codecarbon INFO @ 09:40:22] 0.028731 kWh of electricity used since the begining.\n"
     ]
    },
    {
     "name": "stdout",
     "output_type": "stream",
     "text": [
      "1/1 - 10s - loss: 0.2814 - accuracy: 0.8979 - val_loss: 1.1787 - val_accuracy: 0.5154\n",
      "\n",
      "Epoch 00162: val_loss did not improve from 0.69310\n",
      "Epoch 163/500\n"
     ]
    },
    {
     "name": "stderr",
     "output_type": "stream",
     "text": [
      "[codecarbon INFO @ 09:40:37] Energy consumed for RAM : 0.006274 kWh. RAM Power : 11.759872913360596 W\n",
      "[codecarbon INFO @ 09:40:37] Energy consumed for all CPUs : 0.022683 kWh. All CPUs Power : 42.5 W\n",
      "[codecarbon INFO @ 09:40:37] 0.028957 kWh of electricity used since the begining.\n"
     ]
    },
    {
     "name": "stdout",
     "output_type": "stream",
     "text": [
      "1/1 - 10s - loss: 0.2769 - accuracy: 0.8984 - val_loss: 1.2067 - val_accuracy: 0.5101\n",
      "\n",
      "Epoch 00163: val_loss did not improve from 0.69310\n",
      "Epoch 164/500\n",
      "1/1 - 10s - loss: 0.2756 - accuracy: 0.8979 - val_loss: 1.2140 - val_accuracy: 0.5136\n",
      "\n",
      "Epoch 00164: val_loss did not improve from 0.69310\n",
      "Epoch 165/500\n"
     ]
    },
    {
     "name": "stderr",
     "output_type": "stream",
     "text": [
      "[codecarbon INFO @ 09:40:52] Energy consumed for RAM : 0.006323 kWh. RAM Power : 11.759872913360596 W\n",
      "[codecarbon INFO @ 09:40:52] Energy consumed for all CPUs : 0.022860 kWh. All CPUs Power : 42.5 W\n",
      "[codecarbon INFO @ 09:40:52] 0.029183 kWh of electricity used since the begining.\n"
     ]
    },
    {
     "name": "stdout",
     "output_type": "stream",
     "text": [
      "1/1 - 10s - loss: 0.2676 - accuracy: 0.9007 - val_loss: 1.2085 - val_accuracy: 0.5170\n",
      "\n",
      "Epoch 00165: val_loss did not improve from 0.69310\n",
      "Epoch 166/500\n"
     ]
    },
    {
     "name": "stderr",
     "output_type": "stream",
     "text": [
      "[codecarbon INFO @ 09:41:07] Energy consumed for RAM : 0.006372 kWh. RAM Power : 11.759872913360596 W\n",
      "[codecarbon INFO @ 09:41:07] Energy consumed for all CPUs : 0.023037 kWh. All CPUs Power : 42.5 W\n",
      "[codecarbon INFO @ 09:41:07] 0.029409 kWh of electricity used since the begining.\n"
     ]
    },
    {
     "name": "stdout",
     "output_type": "stream",
     "text": [
      "1/1 - 10s - loss: 0.2595 - accuracy: 0.9073 - val_loss: 1.2453 - val_accuracy: 0.5162\n",
      "\n",
      "Epoch 00166: val_loss did not improve from 0.69310\n",
      "Epoch 167/500\n",
      "1/1 - 10s - loss: 0.2575 - accuracy: 0.9078 - val_loss: 1.3065 - val_accuracy: 0.5142\n",
      "\n",
      "Epoch 00167: val_loss did not improve from 0.69310\n",
      "Epoch 168/500\n"
     ]
    },
    {
     "name": "stderr",
     "output_type": "stream",
     "text": [
      "[codecarbon INFO @ 09:41:22] Energy consumed for RAM : 0.006421 kWh. RAM Power : 11.759872913360596 W\n",
      "[codecarbon INFO @ 09:41:22] Energy consumed for all CPUs : 0.023214 kWh. All CPUs Power : 42.5 W\n",
      "[codecarbon INFO @ 09:41:22] 0.029635 kWh of electricity used since the begining.\n"
     ]
    },
    {
     "name": "stdout",
     "output_type": "stream",
     "text": [
      "1/1 - 10s - loss: 0.2510 - accuracy: 0.9076 - val_loss: 1.3488 - val_accuracy: 0.5174\n",
      "\n",
      "Epoch 00168: val_loss did not improve from 0.69310\n",
      "Epoch 169/500\n",
      "1/1 - 8s - loss: 0.2479 - accuracy: 0.9062 - val_loss: 1.3402 - val_accuracy: 0.5174\n",
      "\n",
      "Epoch 00169: val_loss did not improve from 0.69310\n",
      "Epoch 170/500\n"
     ]
    },
    {
     "name": "stderr",
     "output_type": "stream",
     "text": [
      "[codecarbon INFO @ 09:41:37] Energy consumed for RAM : 0.006470 kWh. RAM Power : 11.759872913360596 W\n",
      "[codecarbon INFO @ 09:41:37] Energy consumed for all CPUs : 0.023391 kWh. All CPUs Power : 42.5 W\n",
      "[codecarbon INFO @ 09:41:37] 0.029861 kWh of electricity used since the begining.\n"
     ]
    },
    {
     "name": "stdout",
     "output_type": "stream",
     "text": [
      "1/1 - 10s - loss: 0.2520 - accuracy: 0.9050 - val_loss: 1.3320 - val_accuracy: 0.5165\n",
      "\n",
      "Epoch 00170: val_loss did not improve from 0.69310\n",
      "Epoch 171/500\n"
     ]
    },
    {
     "name": "stderr",
     "output_type": "stream",
     "text": [
      "[codecarbon INFO @ 09:41:52] Energy consumed for RAM : 0.006519 kWh. RAM Power : 11.759872913360596 W\n",
      "[codecarbon INFO @ 09:41:52] Energy consumed for all CPUs : 0.023568 kWh. All CPUs Power : 42.5 W\n",
      "[codecarbon INFO @ 09:41:52] 0.030087 kWh of electricity used since the begining.\n"
     ]
    },
    {
     "name": "stdout",
     "output_type": "stream",
     "text": [
      "1/1 - 8s - loss: 0.2450 - accuracy: 0.9096 - val_loss: 1.3478 - val_accuracy: 0.5115\n",
      "\n",
      "Epoch 00171: val_loss did not improve from 0.69310\n",
      "Epoch 172/500\n",
      "1/1 - 10s - loss: 0.2349 - accuracy: 0.9136 - val_loss: 1.4185 - val_accuracy: 0.5194\n",
      "\n",
      "Epoch 00172: val_loss did not improve from 0.69310\n",
      "Epoch 173/500\n"
     ]
    },
    {
     "name": "stderr",
     "output_type": "stream",
     "text": [
      "[codecarbon INFO @ 09:42:07] Energy consumed for RAM : 0.006568 kWh. RAM Power : 11.759872913360596 W\n",
      "[codecarbon INFO @ 09:42:07] Energy consumed for all CPUs : 0.023745 kWh. All CPUs Power : 42.5 W\n",
      "[codecarbon INFO @ 09:42:07] 0.030313 kWh of electricity used since the begining.\n"
     ]
    },
    {
     "name": "stdout",
     "output_type": "stream",
     "text": [
      "1/1 - 8s - loss: 0.2351 - accuracy: 0.9135 - val_loss: 1.4926 - val_accuracy: 0.5135\n",
      "\n",
      "Epoch 00173: val_loss did not improve from 0.69310\n",
      "Epoch 174/500\n"
     ]
    },
    {
     "name": "stderr",
     "output_type": "stream",
     "text": [
      "[codecarbon INFO @ 09:42:22] Energy consumed for RAM : 0.006617 kWh. RAM Power : 11.759872913360596 W\n",
      "[codecarbon INFO @ 09:42:22] Energy consumed for all CPUs : 0.023922 kWh. All CPUs Power : 42.5 W\n",
      "[codecarbon INFO @ 09:42:22] 0.030540 kWh of electricity used since the begining.\n"
     ]
    },
    {
     "name": "stdout",
     "output_type": "stream",
     "text": [
      "1/1 - 10s - loss: 0.2309 - accuracy: 0.9116 - val_loss: 1.4710 - val_accuracy: 0.5194\n",
      "\n",
      "Epoch 00174: val_loss did not improve from 0.69310\n",
      "Epoch 175/500\n",
      "1/1 - 8s - loss: 0.2299 - accuracy: 0.9153 - val_loss: 1.4527 - val_accuracy: 0.5169\n",
      "\n",
      "Epoch 00175: val_loss did not improve from 0.69310\n",
      "Epoch 176/500\n"
     ]
    },
    {
     "name": "stderr",
     "output_type": "stream",
     "text": [
      "[codecarbon INFO @ 09:42:37] Energy consumed for RAM : 0.006666 kWh. RAM Power : 11.759872913360596 W\n",
      "[codecarbon INFO @ 09:42:37] Energy consumed for all CPUs : 0.024099 kWh. All CPUs Power : 42.5 W\n",
      "[codecarbon INFO @ 09:42:37] 0.030765 kWh of electricity used since the begining.\n"
     ]
    },
    {
     "name": "stdout",
     "output_type": "stream",
     "text": [
      "1/1 - 10s - loss: 0.2325 - accuracy: 0.9115 - val_loss: 1.4466 - val_accuracy: 0.5156\n",
      "\n",
      "Epoch 00176: val_loss did not improve from 0.69310\n",
      "Epoch 177/500\n",
      "1/1 - 8s - loss: 0.2198 - accuracy: 0.9197 - val_loss: 1.4894 - val_accuracy: 0.5166\n",
      "\n",
      "Epoch 00177: val_loss did not improve from 0.69310\n",
      "Epoch 178/500\n"
     ]
    },
    {
     "name": "stderr",
     "output_type": "stream",
     "text": [
      "[codecarbon INFO @ 09:42:52] Energy consumed for RAM : 0.006715 kWh. RAM Power : 11.759872913360596 W\n",
      "[codecarbon INFO @ 09:42:52] Energy consumed for all CPUs : 0.024276 kWh. All CPUs Power : 42.5 W\n",
      "[codecarbon INFO @ 09:42:52] 0.030992 kWh of electricity used since the begining.\n"
     ]
    },
    {
     "name": "stdout",
     "output_type": "stream",
     "text": [
      "1/1 - 10s - loss: 0.2218 - accuracy: 0.9168 - val_loss: 1.5744 - val_accuracy: 0.5152\n",
      "\n",
      "Epoch 00178: val_loss did not improve from 0.69310\n",
      "Epoch 179/500\n"
     ]
    },
    {
     "name": "stderr",
     "output_type": "stream",
     "text": [
      "[codecarbon INFO @ 09:43:07] Energy consumed for RAM : 0.006764 kWh. RAM Power : 11.759872913360596 W\n",
      "[codecarbon INFO @ 09:43:07] Energy consumed for all CPUs : 0.024453 kWh. All CPUs Power : 42.5 W\n",
      "[codecarbon INFO @ 09:43:07] 0.031218 kWh of electricity used since the begining.\n"
     ]
    },
    {
     "name": "stdout",
     "output_type": "stream",
     "text": [
      "1/1 - 9s - loss: 0.2203 - accuracy: 0.9176 - val_loss: 1.6256 - val_accuracy: 0.5151\n",
      "\n",
      "Epoch 00179: val_loss did not improve from 0.69310\n",
      "Epoch 180/500\n",
      "1/1 - 9s - loss: 0.2184 - accuracy: 0.9165 - val_loss: 1.6156 - val_accuracy: 0.5158\n",
      "\n",
      "Epoch 00180: val_loss did not improve from 0.69310\n",
      "Epoch 181/500\n"
     ]
    },
    {
     "name": "stderr",
     "output_type": "stream",
     "text": [
      "[codecarbon INFO @ 09:43:22] Energy consumed for RAM : 0.006813 kWh. RAM Power : 11.759872913360596 W\n",
      "[codecarbon INFO @ 09:43:22] Energy consumed for all CPUs : 0.024630 kWh. All CPUs Power : 42.5 W\n",
      "[codecarbon INFO @ 09:43:22] 0.031444 kWh of electricity used since the begining.\n"
     ]
    },
    {
     "name": "stdout",
     "output_type": "stream",
     "text": [
      "1/1 - 9s - loss: 0.2087 - accuracy: 0.9205 - val_loss: 1.5908 - val_accuracy: 0.5129\n",
      "\n",
      "Epoch 00181: val_loss did not improve from 0.69310\n",
      "Epoch 182/500\n",
      "1/1 - 8s - loss: 0.2048 - accuracy: 0.9234 - val_loss: 1.5965 - val_accuracy: 0.5176\n",
      "\n",
      "Epoch 00182: val_loss did not improve from 0.69310\n",
      "Epoch 183/500\n"
     ]
    },
    {
     "name": "stderr",
     "output_type": "stream",
     "text": [
      "[codecarbon INFO @ 09:43:37] Energy consumed for RAM : 0.006862 kWh. RAM Power : 11.759872913360596 W\n",
      "[codecarbon INFO @ 09:43:37] Energy consumed for all CPUs : 0.024807 kWh. All CPUs Power : 42.5 W\n",
      "[codecarbon INFO @ 09:43:37] 0.031670 kWh of electricity used since the begining.\n"
     ]
    },
    {
     "name": "stdout",
     "output_type": "stream",
     "text": [
      "1/1 - 8s - loss: 0.1993 - accuracy: 0.9276 - val_loss: 1.6442 - val_accuracy: 0.5164\n",
      "\n",
      "Epoch 00183: val_loss did not improve from 0.69310\n",
      "Epoch 184/500\n",
      "1/1 - 8s - loss: 0.2033 - accuracy: 0.9253 - val_loss: 1.6777 - val_accuracy: 0.5163\n",
      "\n",
      "Epoch 00184: val_loss did not improve from 0.69310\n",
      "Epoch 185/500\n"
     ]
    },
    {
     "name": "stderr",
     "output_type": "stream",
     "text": [
      "[codecarbon INFO @ 09:43:52] Energy consumed for RAM : 0.006911 kWh. RAM Power : 11.759872913360596 W\n",
      "[codecarbon INFO @ 09:43:52] Energy consumed for all CPUs : 0.024985 kWh. All CPUs Power : 42.5 W\n",
      "[codecarbon INFO @ 09:43:52] 0.031896 kWh of electricity used since the begining.\n",
      "[codecarbon INFO @ 09:44:07] Energy consumed for RAM : 0.006960 kWh. RAM Power : 11.759872913360596 W\n",
      "[codecarbon INFO @ 09:44:07] Energy consumed for all CPUs : 0.025162 kWh. All CPUs Power : 42.5 W\n",
      "[codecarbon INFO @ 09:44:07] 0.032122 kWh of electricity used since the begining.\n"
     ]
    },
    {
     "name": "stdout",
     "output_type": "stream",
     "text": [
      "1/1 - 8s - loss: 0.2021 - accuracy: 0.9233 - val_loss: 1.7573 - val_accuracy: 0.5153\n",
      "\n",
      "Epoch 00186: val_loss did not improve from 0.69310\n",
      "Epoch 187/500\n",
      "1/1 - 10s - loss: 0.1975 - accuracy: 0.9246 - val_loss: 1.7278 - val_accuracy: 0.5121\n",
      "\n",
      "Epoch 00187: val_loss did not improve from 0.69310\n",
      "Epoch 188/500\n"
     ]
    },
    {
     "name": "stderr",
     "output_type": "stream",
     "text": [
      "[codecarbon INFO @ 09:44:22] Energy consumed for RAM : 0.007009 kWh. RAM Power : 11.759872913360596 W\n",
      "[codecarbon INFO @ 09:44:22] Energy consumed for all CPUs : 0.025339 kWh. All CPUs Power : 42.5 W\n",
      "[codecarbon INFO @ 09:44:22] 0.032348 kWh of electricity used since the begining.\n"
     ]
    },
    {
     "name": "stdout",
     "output_type": "stream",
     "text": [
      "1/1 - 8s - loss: 0.1984 - accuracy: 0.9255 - val_loss: 1.7047 - val_accuracy: 0.5205\n",
      "\n",
      "Epoch 00188: val_loss did not improve from 0.69310\n",
      "Epoch 189/500\n",
      "1/1 - 10s - loss: 0.1947 - accuracy: 0.9255 - val_loss: 1.7506 - val_accuracy: 0.5145\n",
      "\n",
      "Epoch 00189: val_loss did not improve from 0.69310\n",
      "Epoch 190/500\n"
     ]
    },
    {
     "name": "stderr",
     "output_type": "stream",
     "text": [
      "[codecarbon INFO @ 09:44:37] Energy consumed for RAM : 0.007058 kWh. RAM Power : 11.759872913360596 W\n",
      "[codecarbon INFO @ 09:44:37] Energy consumed for all CPUs : 0.025516 kWh. All CPUs Power : 42.5 W\n",
      "[codecarbon INFO @ 09:44:37] 0.032574 kWh of electricity used since the begining.\n"
     ]
    },
    {
     "name": "stdout",
     "output_type": "stream",
     "text": [
      "1/1 - 8s - loss: 0.1927 - accuracy: 0.9292 - val_loss: 1.7820 - val_accuracy: 0.5187\n",
      "\n",
      "Epoch 00190: val_loss did not improve from 0.69310\n",
      "Epoch 191/500\n"
     ]
    },
    {
     "name": "stderr",
     "output_type": "stream",
     "text": [
      "[codecarbon INFO @ 09:44:52] Energy consumed for RAM : 0.007107 kWh. RAM Power : 11.759872913360596 W\n",
      "[codecarbon INFO @ 09:44:52] Energy consumed for all CPUs : 0.025693 kWh. All CPUs Power : 42.5 W\n",
      "[codecarbon INFO @ 09:44:52] 0.032800 kWh of electricity used since the begining.\n"
     ]
    },
    {
     "name": "stdout",
     "output_type": "stream",
     "text": [
      "1/1 - 10s - loss: 0.1877 - accuracy: 0.9306 - val_loss: 1.8528 - val_accuracy: 0.5116\n",
      "\n",
      "Epoch 00191: val_loss did not improve from 0.69310\n",
      "Epoch 192/500\n",
      "1/1 - 10s - loss: 0.1833 - accuracy: 0.9313 - val_loss: 1.8416 - val_accuracy: 0.5189\n",
      "\n",
      "Epoch 00192: val_loss did not improve from 0.69310\n",
      "Epoch 193/500\n"
     ]
    },
    {
     "name": "stderr",
     "output_type": "stream",
     "text": [
      "[codecarbon INFO @ 09:45:07] Energy consumed for RAM : 0.007156 kWh. RAM Power : 11.759872913360596 W\n",
      "[codecarbon INFO @ 09:45:07] Energy consumed for all CPUs : 0.025870 kWh. All CPUs Power : 42.5 W\n",
      "[codecarbon INFO @ 09:45:07] 0.033026 kWh of electricity used since the begining.\n"
     ]
    },
    {
     "name": "stdout",
     "output_type": "stream",
     "text": [
      "1/1 - 10s - loss: 0.1870 - accuracy: 0.9309 - val_loss: 1.8973 - val_accuracy: 0.5123\n",
      "\n",
      "Epoch 00193: val_loss did not improve from 0.69310\n",
      "Epoch 194/500\n"
     ]
    },
    {
     "name": "stderr",
     "output_type": "stream",
     "text": [
      "[codecarbon INFO @ 09:45:22] Energy consumed for RAM : 0.007205 kWh. RAM Power : 11.759872913360596 W\n",
      "[codecarbon INFO @ 09:45:22] Energy consumed for all CPUs : 0.026047 kWh. All CPUs Power : 42.5 W\n",
      "[codecarbon INFO @ 09:45:22] 0.033252 kWh of electricity used since the begining.\n"
     ]
    },
    {
     "name": "stdout",
     "output_type": "stream",
     "text": [
      "1/1 - 10s - loss: 0.1842 - accuracy: 0.9308 - val_loss: 1.8820 - val_accuracy: 0.5152\n",
      "\n",
      "Epoch 00194: val_loss did not improve from 0.69310\n",
      "Epoch 195/500\n",
      "1/1 - 10s - loss: 0.1806 - accuracy: 0.9337 - val_loss: 1.8569 - val_accuracy: 0.5144\n",
      "\n",
      "Epoch 00195: val_loss did not improve from 0.69310\n",
      "Epoch 196/500\n"
     ]
    },
    {
     "name": "stderr",
     "output_type": "stream",
     "text": [
      "[codecarbon INFO @ 09:45:37] Energy consumed for RAM : 0.007254 kWh. RAM Power : 11.759872913360596 W\n",
      "[codecarbon INFO @ 09:45:37] Energy consumed for all CPUs : 0.026224 kWh. All CPUs Power : 42.5 W\n",
      "[codecarbon INFO @ 09:45:37] 0.033478 kWh of electricity used since the begining.\n"
     ]
    },
    {
     "name": "stdout",
     "output_type": "stream",
     "text": [
      "1/1 - 10s - loss: 0.1851 - accuracy: 0.9301 - val_loss: 1.8543 - val_accuracy: 0.5163\n",
      "\n",
      "Epoch 00196: val_loss did not improve from 0.69310\n",
      "Epoch 197/500\n"
     ]
    },
    {
     "name": "stderr",
     "output_type": "stream",
     "text": [
      "[codecarbon INFO @ 09:45:52] Energy consumed for RAM : 0.007303 kWh. RAM Power : 11.759872913360596 W\n",
      "[codecarbon INFO @ 09:45:52] Energy consumed for all CPUs : 0.026401 kWh. All CPUs Power : 42.5 W\n",
      "[codecarbon INFO @ 09:45:52] 0.033704 kWh of electricity used since the begining.\n"
     ]
    },
    {
     "name": "stdout",
     "output_type": "stream",
     "text": [
      "1/1 - 10s - loss: 0.1835 - accuracy: 0.9334 - val_loss: 1.9050 - val_accuracy: 0.5159\n",
      "\n",
      "Epoch 00197: val_loss did not improve from 0.69310\n",
      "Epoch 198/500\n",
      "1/1 - 9s - loss: 0.1810 - accuracy: 0.9324 - val_loss: 2.0019 - val_accuracy: 0.5152\n",
      "\n",
      "Epoch 00198: val_loss did not improve from 0.69310\n",
      "Epoch 199/500\n"
     ]
    },
    {
     "name": "stderr",
     "output_type": "stream",
     "text": [
      "[codecarbon INFO @ 09:46:07] Energy consumed for RAM : 0.007352 kWh. RAM Power : 11.759872913360596 W\n",
      "[codecarbon INFO @ 09:46:07] Energy consumed for all CPUs : 0.026578 kWh. All CPUs Power : 42.5 W\n",
      "[codecarbon INFO @ 09:46:07] 0.033930 kWh of electricity used since the begining.\n"
     ]
    },
    {
     "name": "stdout",
     "output_type": "stream",
     "text": [
      "1/1 - 9s - loss: 0.1778 - accuracy: 0.9330 - val_loss: 1.9550 - val_accuracy: 0.5172\n",
      "\n",
      "Epoch 00199: val_loss did not improve from 0.69310\n",
      "Epoch 200/500\n",
      "1/1 - 8s - loss: 0.1790 - accuracy: 0.9319 - val_loss: 1.9817 - val_accuracy: 0.5142\n",
      "\n",
      "Epoch 00200: val_loss did not improve from 0.69310\n",
      "Epoch 201/500\n"
     ]
    },
    {
     "name": "stderr",
     "output_type": "stream",
     "text": [
      "[codecarbon INFO @ 09:46:22] Energy consumed for RAM : 0.007401 kWh. RAM Power : 11.759872913360596 W\n",
      "[codecarbon INFO @ 09:46:22] Energy consumed for all CPUs : 0.026755 kWh. All CPUs Power : 42.5 W\n",
      "[codecarbon INFO @ 09:46:22] 0.034156 kWh of electricity used since the begining.\n"
     ]
    },
    {
     "name": "stdout",
     "output_type": "stream",
     "text": [
      "1/1 - 10s - loss: 0.1743 - accuracy: 0.9374 - val_loss: 1.9356 - val_accuracy: 0.5173\n",
      "\n",
      "Epoch 00201: val_loss did not improve from 0.69310\n",
      "Epoch 202/500\n"
     ]
    },
    {
     "name": "stderr",
     "output_type": "stream",
     "text": [
      "[codecarbon INFO @ 09:46:37] Energy consumed for RAM : 0.007450 kWh. RAM Power : 11.759872913360596 W\n",
      "[codecarbon INFO @ 09:46:37] Energy consumed for all CPUs : 0.026932 kWh. All CPUs Power : 42.5 W\n",
      "[codecarbon INFO @ 09:46:37] 0.034382 kWh of electricity used since the begining.\n"
     ]
    },
    {
     "name": "stdout",
     "output_type": "stream",
     "text": [
      "1/1 - 8s - loss: 0.1699 - accuracy: 0.9380 - val_loss: 1.9358 - val_accuracy: 0.5150\n",
      "\n",
      "Epoch 00202: val_loss did not improve from 0.69310\n",
      "Epoch 203/500\n",
      "1/1 - 10s - loss: 0.1768 - accuracy: 0.9326 - val_loss: 1.9714 - val_accuracy: 0.5152\n",
      "\n",
      "Epoch 00203: val_loss did not improve from 0.69310\n",
      "Epoch 204/500\n"
     ]
    },
    {
     "name": "stderr",
     "output_type": "stream",
     "text": [
      "[codecarbon INFO @ 09:46:52] Energy consumed for RAM : 0.007499 kWh. RAM Power : 11.759872913360596 W\n",
      "[codecarbon INFO @ 09:46:52] Energy consumed for all CPUs : 0.027109 kWh. All CPUs Power : 42.5 W\n",
      "[codecarbon INFO @ 09:46:52] 0.034608 kWh of electricity used since the begining.\n"
     ]
    },
    {
     "name": "stdout",
     "output_type": "stream",
     "text": [
      "1/1 - 8s - loss: 0.1769 - accuracy: 0.9349 - val_loss: 2.0054 - val_accuracy: 0.5176\n",
      "\n",
      "Epoch 00204: val_loss did not improve from 0.69310\n",
      "Epoch 205/500\n",
      "1/1 - 10s - loss: 0.1750 - accuracy: 0.9366 - val_loss: 2.0435 - val_accuracy: 0.5114\n",
      "\n",
      "Epoch 00205: val_loss did not improve from 0.69310\n",
      "Epoch 206/500\n"
     ]
    },
    {
     "name": "stderr",
     "output_type": "stream",
     "text": [
      "[codecarbon INFO @ 09:47:07] Energy consumed for RAM : 0.007548 kWh. RAM Power : 11.759872913360596 W\n",
      "[codecarbon INFO @ 09:47:07] Energy consumed for all CPUs : 0.027286 kWh. All CPUs Power : 42.5 W\n",
      "[codecarbon INFO @ 09:47:07] 0.034834 kWh of electricity used since the begining.\n"
     ]
    },
    {
     "name": "stdout",
     "output_type": "stream",
     "text": [
      "1/1 - 10s - loss: 0.1613 - accuracy: 0.9418 - val_loss: 2.0833 - val_accuracy: 0.5161\n",
      "\n",
      "Epoch 00206: val_loss did not improve from 0.69310\n",
      "Epoch 207/500\n"
     ]
    },
    {
     "name": "stderr",
     "output_type": "stream",
     "text": [
      "[codecarbon INFO @ 09:47:22] Energy consumed for RAM : 0.007597 kWh. RAM Power : 11.759872913360596 W\n",
      "[codecarbon INFO @ 09:47:22] Energy consumed for all CPUs : 0.027463 kWh. All CPUs Power : 42.5 W\n",
      "[codecarbon INFO @ 09:47:22] 0.035060 kWh of electricity used since the begining.\n"
     ]
    },
    {
     "name": "stdout",
     "output_type": "stream",
     "text": [
      "1/1 - 10s - loss: 0.1678 - accuracy: 0.9388 - val_loss: 2.0798 - val_accuracy: 0.5161\n",
      "\n",
      "Epoch 00207: val_loss did not improve from 0.69310\n",
      "Epoch 208/500\n",
      "1/1 - 10s - loss: 0.1688 - accuracy: 0.9374 - val_loss: 2.0889 - val_accuracy: 0.5139\n",
      "\n",
      "Epoch 00208: val_loss did not improve from 0.69310\n",
      "Epoch 209/500\n"
     ]
    },
    {
     "name": "stderr",
     "output_type": "stream",
     "text": [
      "[codecarbon INFO @ 09:47:37] Energy consumed for RAM : 0.007646 kWh. RAM Power : 11.759872913360596 W\n",
      "[codecarbon INFO @ 09:47:37] Energy consumed for all CPUs : 0.027640 kWh. All CPUs Power : 42.5 W\n",
      "[codecarbon INFO @ 09:47:37] 0.035286 kWh of electricity used since the begining.\n"
     ]
    },
    {
     "name": "stdout",
     "output_type": "stream",
     "text": [
      "1/1 - 10s - loss: 0.1635 - accuracy: 0.9399 - val_loss: 2.0580 - val_accuracy: 0.5152\n",
      "\n",
      "Epoch 00209: val_loss did not improve from 0.69310\n",
      "Epoch 210/500\n"
     ]
    },
    {
     "name": "stderr",
     "output_type": "stream",
     "text": [
      "[codecarbon INFO @ 09:47:52] Energy consumed for RAM : 0.007695 kWh. RAM Power : 11.759872913360596 W\n",
      "[codecarbon INFO @ 09:47:52] Energy consumed for all CPUs : 0.027817 kWh. All CPUs Power : 42.5 W\n",
      "[codecarbon INFO @ 09:47:52] 0.035512 kWh of electricity used since the begining.\n"
     ]
    },
    {
     "name": "stdout",
     "output_type": "stream",
     "text": [
      "1/1 - 8s - loss: 0.1658 - accuracy: 0.9395 - val_loss: 2.0602 - val_accuracy: 0.5161\n",
      "\n",
      "Epoch 00210: val_loss did not improve from 0.69310\n",
      "Epoch 211/500\n",
      "1/1 - 9s - loss: 0.1635 - accuracy: 0.9409 - val_loss: 2.0979 - val_accuracy: 0.5145\n",
      "\n",
      "Epoch 00211: val_loss did not improve from 0.69310\n",
      "Epoch 212/500\n"
     ]
    },
    {
     "name": "stderr",
     "output_type": "stream",
     "text": [
      "[codecarbon INFO @ 09:48:07] Energy consumed for RAM : 0.007744 kWh. RAM Power : 11.759872913360596 W\n",
      "[codecarbon INFO @ 09:48:07] Energy consumed for all CPUs : 0.027995 kWh. All CPUs Power : 42.5 W\n",
      "[codecarbon INFO @ 09:48:07] 0.035738 kWh of electricity used since the begining.\n"
     ]
    },
    {
     "name": "stdout",
     "output_type": "stream",
     "text": [
      "1/1 - 8s - loss: 0.1544 - accuracy: 0.9427 - val_loss: 2.1421 - val_accuracy: 0.5136\n",
      "\n",
      "Epoch 00212: val_loss did not improve from 0.69310\n",
      "Epoch 213/500\n",
      "1/1 - 8s - loss: 0.1572 - accuracy: 0.9416 - val_loss: 2.2037 - val_accuracy: 0.5139\n",
      "\n",
      "Epoch 00213: val_loss did not improve from 0.69310\n",
      "Epoch 214/500\n"
     ]
    },
    {
     "name": "stderr",
     "output_type": "stream",
     "text": [
      "[codecarbon INFO @ 09:48:22] Energy consumed for RAM : 0.007793 kWh. RAM Power : 11.759872913360596 W\n",
      "[codecarbon INFO @ 09:48:22] Energy consumed for all CPUs : 0.028172 kWh. All CPUs Power : 42.5 W\n",
      "[codecarbon INFO @ 09:48:22] 0.035964 kWh of electricity used since the begining.\n"
     ]
    },
    {
     "name": "stdout",
     "output_type": "stream",
     "text": [
      "1/1 - 8s - loss: 0.1626 - accuracy: 0.9407 - val_loss: 2.1847 - val_accuracy: 0.5130\n",
      "\n",
      "Epoch 00214: val_loss did not improve from 0.69310\n",
      "Epoch 215/500\n",
      "1/1 - 8s - loss: 0.1533 - accuracy: 0.9470 - val_loss: 2.1527 - val_accuracy: 0.5128\n",
      "\n",
      "Epoch 00215: val_loss did not improve from 0.69310\n",
      "Epoch 216/500\n"
     ]
    },
    {
     "name": "stderr",
     "output_type": "stream",
     "text": [
      "[codecarbon INFO @ 09:48:37] Energy consumed for RAM : 0.007842 kWh. RAM Power : 11.759872913360596 W\n",
      "[codecarbon INFO @ 09:48:37] Energy consumed for all CPUs : 0.028349 kWh. All CPUs Power : 42.5 W\n",
      "[codecarbon INFO @ 09:48:37] 0.036190 kWh of electricity used since the begining.\n"
     ]
    },
    {
     "name": "stdout",
     "output_type": "stream",
     "text": [
      "1/1 - 8s - loss: 0.1508 - accuracy: 0.9449 - val_loss: 2.1116 - val_accuracy: 0.5170\n",
      "\n",
      "Epoch 00216: val_loss did not improve from 0.69310\n",
      "Epoch 217/500\n"
     ]
    },
    {
     "name": "stderr",
     "output_type": "stream",
     "text": [
      "[codecarbon INFO @ 09:48:52] Energy consumed for RAM : 0.007891 kWh. RAM Power : 11.759872913360596 W\n",
      "[codecarbon INFO @ 09:48:52] Energy consumed for all CPUs : 0.028526 kWh. All CPUs Power : 42.5 W\n",
      "[codecarbon INFO @ 09:48:52] 0.036417 kWh of electricity used since the begining.\n"
     ]
    },
    {
     "name": "stdout",
     "output_type": "stream",
     "text": [
      "1/1 - 8s - loss: 0.1543 - accuracy: 0.9452 - val_loss: 2.1454 - val_accuracy: 0.5145\n",
      "\n",
      "Epoch 00217: val_loss did not improve from 0.69310\n",
      "Epoch 218/500\n",
      "1/1 - 9s - loss: 0.1639 - accuracy: 0.9391 - val_loss: 2.1534 - val_accuracy: 0.5157\n",
      "\n",
      "Epoch 00218: val_loss did not improve from 0.69310\n",
      "Epoch 219/500\n"
     ]
    },
    {
     "name": "stderr",
     "output_type": "stream",
     "text": [
      "[codecarbon INFO @ 09:49:07] Energy consumed for RAM : 0.007940 kWh. RAM Power : 11.759872913360596 W\n",
      "[codecarbon INFO @ 09:49:07] Energy consumed for all CPUs : 0.028703 kWh. All CPUs Power : 42.5 W\n",
      "[codecarbon INFO @ 09:49:07] 0.036643 kWh of electricity used since the begining.\n"
     ]
    },
    {
     "name": "stdout",
     "output_type": "stream",
     "text": [
      "1/1 - 8s - loss: 0.1639 - accuracy: 0.9412 - val_loss: 2.2386 - val_accuracy: 0.5142\n",
      "\n",
      "Epoch 00219: val_loss did not improve from 0.69310\n",
      "Epoch 220/500\n",
      "1/1 - 8s - loss: 0.1541 - accuracy: 0.9419 - val_loss: 2.2684 - val_accuracy: 0.5136\n",
      "\n",
      "Epoch 00220: val_loss did not improve from 0.69310\n",
      "Epoch 221/500\n"
     ]
    },
    {
     "name": "stderr",
     "output_type": "stream",
     "text": [
      "[codecarbon INFO @ 09:49:22] Energy consumed for RAM : 0.007989 kWh. RAM Power : 11.759872913360596 W\n",
      "[codecarbon INFO @ 09:49:22] Energy consumed for all CPUs : 0.028880 kWh. All CPUs Power : 42.5 W\n",
      "[codecarbon INFO @ 09:49:22] 0.036869 kWh of electricity used since the begining.\n"
     ]
    },
    {
     "name": "stdout",
     "output_type": "stream",
     "text": [
      "1/1 - 8s - loss: 0.1557 - accuracy: 0.9457 - val_loss: 2.2262 - val_accuracy: 0.5130\n",
      "\n",
      "Epoch 00221: val_loss did not improve from 0.69310\n",
      "Epoch 222/500\n",
      "1/1 - 10s - loss: 0.1567 - accuracy: 0.9444 - val_loss: 2.2160 - val_accuracy: 0.5148\n",
      "\n",
      "Epoch 00222: val_loss did not improve from 0.69310\n",
      "Epoch 223/500\n"
     ]
    },
    {
     "name": "stderr",
     "output_type": "stream",
     "text": [
      "[codecarbon INFO @ 09:49:37] Energy consumed for RAM : 0.008038 kWh. RAM Power : 11.759872913360596 W\n",
      "[codecarbon INFO @ 09:49:37] Energy consumed for all CPUs : 0.029057 kWh. All CPUs Power : 42.5 W\n",
      "[codecarbon INFO @ 09:49:37] 0.037095 kWh of electricity used since the begining.\n"
     ]
    },
    {
     "name": "stdout",
     "output_type": "stream",
     "text": [
      "1/1 - 10s - loss: 0.1483 - accuracy: 0.9477 - val_loss: 2.2139 - val_accuracy: 0.5162\n",
      "\n",
      "Epoch 00223: val_loss did not improve from 0.69310\n",
      "Epoch 224/500\n"
     ]
    },
    {
     "name": "stderr",
     "output_type": "stream",
     "text": [
      "[codecarbon INFO @ 09:49:52] Energy consumed for RAM : 0.008087 kWh. RAM Power : 11.759872913360596 W\n",
      "[codecarbon INFO @ 09:49:52] Energy consumed for all CPUs : 0.029234 kWh. All CPUs Power : 42.5 W\n",
      "[codecarbon INFO @ 09:49:52] 0.037321 kWh of electricity used since the begining.\n"
     ]
    },
    {
     "name": "stdout",
     "output_type": "stream",
     "text": [
      "1/1 - 10s - loss: 0.1514 - accuracy: 0.9456 - val_loss: 2.2221 - val_accuracy: 0.5140\n",
      "\n",
      "Epoch 00224: val_loss did not improve from 0.69310\n",
      "Epoch 225/500\n",
      "1/1 - 10s - loss: 0.1517 - accuracy: 0.9456 - val_loss: 2.2082 - val_accuracy: 0.5139\n",
      "\n",
      "Epoch 00225: val_loss did not improve from 0.69310\n",
      "Epoch 226/500\n"
     ]
    },
    {
     "name": "stderr",
     "output_type": "stream",
     "text": [
      "[codecarbon INFO @ 09:50:07] Energy consumed for RAM : 0.008136 kWh. RAM Power : 11.759872913360596 W\n",
      "[codecarbon INFO @ 09:50:07] Energy consumed for all CPUs : 0.029411 kWh. All CPUs Power : 42.5 W\n",
      "[codecarbon INFO @ 09:50:07] 0.037547 kWh of electricity used since the begining.\n"
     ]
    },
    {
     "name": "stdout",
     "output_type": "stream",
     "text": [
      "1/1 - 10s - loss: 0.1592 - accuracy: 0.9420 - val_loss: 2.2674 - val_accuracy: 0.5168\n",
      "\n",
      "Epoch 00226: val_loss did not improve from 0.69310\n",
      "Epoch 227/500\n"
     ]
    },
    {
     "name": "stderr",
     "output_type": "stream",
     "text": [
      "[codecarbon INFO @ 09:50:22] Energy consumed for RAM : 0.008185 kWh. RAM Power : 11.759872913360596 W\n",
      "[codecarbon INFO @ 09:50:22] Energy consumed for all CPUs : 0.029588 kWh. All CPUs Power : 42.5 W\n",
      "[codecarbon INFO @ 09:50:22] 0.037773 kWh of electricity used since the begining.\n"
     ]
    },
    {
     "name": "stdout",
     "output_type": "stream",
     "text": [
      "1/1 - 10s - loss: 0.1528 - accuracy: 0.9460 - val_loss: 2.3066 - val_accuracy: 0.5142\n",
      "\n",
      "Epoch 00227: val_loss did not improve from 0.69310\n",
      "Epoch 228/500\n",
      "1/1 - 9s - loss: 0.1531 - accuracy: 0.9438 - val_loss: 2.3147 - val_accuracy: 0.5111\n",
      "\n",
      "Epoch 00228: val_loss did not improve from 0.69310\n",
      "Epoch 229/500\n"
     ]
    },
    {
     "name": "stderr",
     "output_type": "stream",
     "text": [
      "[codecarbon INFO @ 09:50:37] Energy consumed for RAM : 0.008234 kWh. RAM Power : 11.759872913360596 W\n",
      "[codecarbon INFO @ 09:50:37] Energy consumed for all CPUs : 0.029765 kWh. All CPUs Power : 42.5 W\n",
      "[codecarbon INFO @ 09:50:37] 0.037999 kWh of electricity used since the begining.\n"
     ]
    },
    {
     "name": "stdout",
     "output_type": "stream",
     "text": [
      "1/1 - 10s - loss: 0.1550 - accuracy: 0.9438 - val_loss: 2.2679 - val_accuracy: 0.5145\n",
      "\n",
      "Epoch 00229: val_loss did not improve from 0.69310\n",
      "Epoch 230/500\n"
     ]
    },
    {
     "name": "stderr",
     "output_type": "stream",
     "text": [
      "[codecarbon INFO @ 09:50:52] Energy consumed for RAM : 0.008283 kWh. RAM Power : 11.759872913360596 W\n",
      "[codecarbon INFO @ 09:50:52] Energy consumed for all CPUs : 0.029942 kWh. All CPUs Power : 42.5 W\n",
      "[codecarbon INFO @ 09:50:52] 0.038225 kWh of electricity used since the begining.\n"
     ]
    },
    {
     "name": "stdout",
     "output_type": "stream",
     "text": [
      "1/1 - 10s - loss: 0.1478 - accuracy: 0.9461 - val_loss: 2.2897 - val_accuracy: 0.5129\n",
      "\n",
      "Epoch 00230: val_loss did not improve from 0.69310\n",
      "Epoch 231/500\n",
      "1/1 - 10s - loss: 0.1467 - accuracy: 0.9467 - val_loss: 2.2721 - val_accuracy: 0.5142\n",
      "\n",
      "Epoch 00231: val_loss did not improve from 0.69310\n",
      "Epoch 232/500\n"
     ]
    },
    {
     "name": "stderr",
     "output_type": "stream",
     "text": [
      "[codecarbon INFO @ 09:51:07] Energy consumed for RAM : 0.008332 kWh. RAM Power : 11.759872913360596 W\n",
      "[codecarbon INFO @ 09:51:07] Energy consumed for all CPUs : 0.030119 kWh. All CPUs Power : 42.5 W\n",
      "[codecarbon INFO @ 09:51:07] 0.038451 kWh of electricity used since the begining.\n"
     ]
    },
    {
     "name": "stdout",
     "output_type": "stream",
     "text": [
      "1/1 - 10s - loss: 0.1417 - accuracy: 0.9481 - val_loss: 2.3029 - val_accuracy: 0.5163\n",
      "\n",
      "Epoch 00232: val_loss did not improve from 0.69310\n",
      "Epoch 233/500\n"
     ]
    },
    {
     "name": "stderr",
     "output_type": "stream",
     "text": [
      "[codecarbon INFO @ 09:51:22] Energy consumed for RAM : 0.008381 kWh. RAM Power : 11.759872913360596 W\n",
      "[codecarbon INFO @ 09:51:22] Energy consumed for all CPUs : 0.030296 kWh. All CPUs Power : 42.5 W\n",
      "[codecarbon INFO @ 09:51:22] 0.038677 kWh of electricity used since the begining.\n"
     ]
    },
    {
     "name": "stdout",
     "output_type": "stream",
     "text": [
      "1/1 - 10s - loss: 0.1501 - accuracy: 0.9471 - val_loss: 2.3306 - val_accuracy: 0.5137\n",
      "\n",
      "Epoch 00233: val_loss did not improve from 0.69310\n",
      "Epoch 234/500\n",
      "1/1 - 9s - loss: 0.1525 - accuracy: 0.9445 - val_loss: 2.3494 - val_accuracy: 0.5147\n",
      "\n",
      "Epoch 00234: val_loss did not improve from 0.69310\n",
      "Epoch 235/500\n"
     ]
    },
    {
     "name": "stderr",
     "output_type": "stream",
     "text": [
      "[codecarbon INFO @ 09:51:37] Energy consumed for RAM : 0.008430 kWh. RAM Power : 11.759872913360596 W\n",
      "[codecarbon INFO @ 09:51:37] Energy consumed for all CPUs : 0.030473 kWh. All CPUs Power : 42.5 W\n",
      "[codecarbon INFO @ 09:51:37] 0.038903 kWh of electricity used since the begining.\n"
     ]
    },
    {
     "name": "stdout",
     "output_type": "stream",
     "text": [
      "1/1 - 10s - loss: 0.1471 - accuracy: 0.9476 - val_loss: 2.3268 - val_accuracy: 0.5157\n",
      "\n",
      "Epoch 00235: val_loss did not improve from 0.69310\n",
      "Epoch 236/500\n",
      "1/1 - 10s - loss: 0.1440 - accuracy: 0.9462 - val_loss: 2.3487 - val_accuracy: 0.5130\n",
      "\n",
      "Epoch 00236: val_loss did not improve from 0.69310\n",
      "Epoch 237/500\n"
     ]
    },
    {
     "name": "stderr",
     "output_type": "stream",
     "text": [
      "[codecarbon INFO @ 09:51:52] Energy consumed for RAM : 0.008479 kWh. RAM Power : 11.759872913360596 W\n",
      "[codecarbon INFO @ 09:51:52] Energy consumed for all CPUs : 0.030650 kWh. All CPUs Power : 42.5 W\n",
      "[codecarbon INFO @ 09:51:52] 0.039129 kWh of electricity used since the begining.\n"
     ]
    },
    {
     "name": "stdout",
     "output_type": "stream",
     "text": [
      "1/1 - 8s - loss: 0.1413 - accuracy: 0.9500 - val_loss: 2.3593 - val_accuracy: 0.5157\n",
      "\n",
      "Epoch 00237: val_loss did not improve from 0.69310\n",
      "Epoch 238/500\n"
     ]
    },
    {
     "name": "stderr",
     "output_type": "stream",
     "text": [
      "[codecarbon INFO @ 09:52:07] Energy consumed for RAM : 0.008528 kWh. RAM Power : 11.759872913360596 W\n",
      "[codecarbon INFO @ 09:52:07] Energy consumed for all CPUs : 0.030827 kWh. All CPUs Power : 42.5 W\n",
      "[codecarbon INFO @ 09:52:07] 0.039355 kWh of electricity used since the begining.\n"
     ]
    },
    {
     "name": "stdout",
     "output_type": "stream",
     "text": [
      "1/1 - 8s - loss: 0.1474 - accuracy: 0.9481 - val_loss: 2.2992 - val_accuracy: 0.5167\n",
      "\n",
      "Epoch 00238: val_loss did not improve from 0.69310\n",
      "Epoch 239/500\n",
      "1/1 - 9s - loss: 0.1446 - accuracy: 0.9491 - val_loss: 2.3074 - val_accuracy: 0.5165\n",
      "\n",
      "Epoch 00239: val_loss did not improve from 0.69310\n",
      "Epoch 240/500\n"
     ]
    },
    {
     "name": "stderr",
     "output_type": "stream",
     "text": [
      "[codecarbon INFO @ 09:52:22] Energy consumed for RAM : 0.008576 kWh. RAM Power : 11.759872913360596 W\n",
      "[codecarbon INFO @ 09:52:22] Energy consumed for all CPUs : 0.031005 kWh. All CPUs Power : 42.5 W\n",
      "[codecarbon INFO @ 09:52:22] 0.039581 kWh of electricity used since the begining.\n"
     ]
    },
    {
     "name": "stdout",
     "output_type": "stream",
     "text": [
      "1/1 - 8s - loss: 0.1416 - accuracy: 0.9492 - val_loss: 2.3800 - val_accuracy: 0.5147\n",
      "\n",
      "Epoch 00240: val_loss did not improve from 0.69310\n",
      "Epoch 241/500\n",
      "1/1 - 9s - loss: 0.1458 - accuracy: 0.9492 - val_loss: 2.3525 - val_accuracy: 0.5186\n",
      "\n",
      "Epoch 00241: val_loss did not improve from 0.69310\n",
      "Epoch 242/500\n"
     ]
    },
    {
     "name": "stderr",
     "output_type": "stream",
     "text": [
      "[codecarbon INFO @ 09:52:37] Energy consumed for RAM : 0.008625 kWh. RAM Power : 11.759872913360596 W\n",
      "[codecarbon INFO @ 09:52:37] Energy consumed for all CPUs : 0.031182 kWh. All CPUs Power : 42.5 W\n",
      "[codecarbon INFO @ 09:52:37] 0.039807 kWh of electricity used since the begining.\n"
     ]
    },
    {
     "name": "stdout",
     "output_type": "stream",
     "text": [
      "1/1 - 8s - loss: 0.1397 - accuracy: 0.9489 - val_loss: 2.3838 - val_accuracy: 0.5177\n",
      "\n",
      "Epoch 00242: val_loss did not improve from 0.69310\n",
      "Epoch 243/500\n",
      "1/1 - 9s - loss: 0.1467 - accuracy: 0.9474 - val_loss: 2.4170 - val_accuracy: 0.5167\n",
      "\n",
      "Epoch 00243: val_loss did not improve from 0.69310\n",
      "Epoch 244/500\n"
     ]
    },
    {
     "name": "stderr",
     "output_type": "stream",
     "text": [
      "[codecarbon INFO @ 09:52:52] Energy consumed for RAM : 0.008674 kWh. RAM Power : 11.759872913360596 W\n",
      "[codecarbon INFO @ 09:52:52] Energy consumed for all CPUs : 0.031359 kWh. All CPUs Power : 42.5 W\n",
      "[codecarbon INFO @ 09:52:52] 0.040033 kWh of electricity used since the begining.\n"
     ]
    },
    {
     "name": "stdout",
     "output_type": "stream",
     "text": [
      "1/1 - 10s - loss: 0.1447 - accuracy: 0.9477 - val_loss: 2.3910 - val_accuracy: 0.5176\n",
      "\n",
      "Epoch 00244: val_loss did not improve from 0.69310\n",
      "Epoch 245/500\n"
     ]
    },
    {
     "name": "stderr",
     "output_type": "stream",
     "text": [
      "[codecarbon INFO @ 09:53:07] Energy consumed for RAM : 0.008723 kWh. RAM Power : 11.759872913360596 W\n",
      "[codecarbon INFO @ 09:53:07] Energy consumed for all CPUs : 0.031536 kWh. All CPUs Power : 42.5 W\n",
      "[codecarbon INFO @ 09:53:07] 0.040259 kWh of electricity used since the begining.\n"
     ]
    },
    {
     "name": "stdout",
     "output_type": "stream",
     "text": [
      "1/1 - 9s - loss: 0.1462 - accuracy: 0.9472 - val_loss: 2.4133 - val_accuracy: 0.5112\n",
      "\n",
      "Epoch 00245: val_loss did not improve from 0.69310\n",
      "Epoch 246/500\n",
      "1/1 - 9s - loss: 0.1406 - accuracy: 0.9489 - val_loss: 2.3543 - val_accuracy: 0.5164\n",
      "\n",
      "Epoch 00246: val_loss did not improve from 0.69310\n",
      "Epoch 247/500\n"
     ]
    },
    {
     "name": "stderr",
     "output_type": "stream",
     "text": [
      "[codecarbon INFO @ 09:53:22] Energy consumed for RAM : 0.008772 kWh. RAM Power : 11.759872913360596 W\n",
      "[codecarbon INFO @ 09:53:22] Energy consumed for all CPUs : 0.031713 kWh. All CPUs Power : 42.5 W\n",
      "[codecarbon INFO @ 09:53:22] 0.040485 kWh of electricity used since the begining.\n"
     ]
    },
    {
     "name": "stdout",
     "output_type": "stream",
     "text": [
      "1/1 - 8s - loss: 0.1435 - accuracy: 0.9502 - val_loss: 2.3820 - val_accuracy: 0.5155\n",
      "\n",
      "Epoch 00247: val_loss did not improve from 0.69310\n",
      "Epoch 248/500\n"
     ]
    },
    {
     "name": "stderr",
     "output_type": "stream",
     "text": [
      "[codecarbon INFO @ 09:53:37] Energy consumed for RAM : 0.008821 kWh. RAM Power : 11.759872913360596 W\n",
      "[codecarbon INFO @ 09:53:37] Energy consumed for all CPUs : 0.031890 kWh. All CPUs Power : 42.5 W\n",
      "[codecarbon INFO @ 09:53:37] 0.040711 kWh of electricity used since the begining.\n"
     ]
    },
    {
     "name": "stdout",
     "output_type": "stream",
     "text": [
      "1/1 - 10s - loss: 0.1388 - accuracy: 0.9510 - val_loss: 2.4073 - val_accuracy: 0.5167\n",
      "\n",
      "Epoch 00248: val_loss did not improve from 0.69310\n",
      "Epoch 249/500\n",
      "1/1 - 8s - loss: 0.1454 - accuracy: 0.9491 - val_loss: 2.4192 - val_accuracy: 0.5169\n",
      "\n",
      "Epoch 00249: val_loss did not improve from 0.69310\n",
      "Epoch 250/500\n"
     ]
    },
    {
     "name": "stderr",
     "output_type": "stream",
     "text": [
      "[codecarbon INFO @ 09:53:52] Energy consumed for RAM : 0.008870 kWh. RAM Power : 11.759872913360596 W\n",
      "[codecarbon INFO @ 09:53:52] Energy consumed for all CPUs : 0.032067 kWh. All CPUs Power : 42.5 W\n",
      "[codecarbon INFO @ 09:53:52] 0.040937 kWh of electricity used since the begining.\n"
     ]
    },
    {
     "name": "stdout",
     "output_type": "stream",
     "text": [
      "1/1 - 9s - loss: 0.1431 - accuracy: 0.9489 - val_loss: 2.4398 - val_accuracy: 0.5149\n",
      "\n",
      "Epoch 00250: val_loss did not improve from 0.69310\n",
      "Epoch 251/500\n",
      "1/1 - 8s - loss: 0.1319 - accuracy: 0.9531 - val_loss: 2.4322 - val_accuracy: 0.5155\n",
      "\n",
      "Epoch 00251: val_loss did not improve from 0.69310\n",
      "Epoch 252/500\n"
     ]
    },
    {
     "name": "stderr",
     "output_type": "stream",
     "text": [
      "[codecarbon INFO @ 09:54:07] Energy consumed for RAM : 0.008919 kWh. RAM Power : 11.759872913360596 W\n",
      "[codecarbon INFO @ 09:54:07] Energy consumed for all CPUs : 0.032244 kWh. All CPUs Power : 42.5 W\n",
      "[codecarbon INFO @ 09:54:07] 0.041163 kWh of electricity used since the begining.\n"
     ]
    },
    {
     "name": "stdout",
     "output_type": "stream",
     "text": [
      "1/1 - 9s - loss: 0.1425 - accuracy: 0.9481 - val_loss: 2.4652 - val_accuracy: 0.5155\n",
      "\n",
      "Epoch 00252: val_loss did not improve from 0.69310\n",
      "Epoch 253/500\n",
      "1/1 - 8s - loss: 0.1368 - accuracy: 0.9512 - val_loss: 2.4602 - val_accuracy: 0.5144\n",
      "\n",
      "Epoch 00253: val_loss did not improve from 0.69310\n",
      "Epoch 254/500\n"
     ]
    },
    {
     "name": "stderr",
     "output_type": "stream",
     "text": [
      "[codecarbon INFO @ 09:54:22] Energy consumed for RAM : 0.008968 kWh. RAM Power : 11.759872913360596 W\n",
      "[codecarbon INFO @ 09:54:22] Energy consumed for all CPUs : 0.032421 kWh. All CPUs Power : 42.5 W\n",
      "[codecarbon INFO @ 09:54:22] 0.041389 kWh of electricity used since the begining.\n"
     ]
    },
    {
     "name": "stdout",
     "output_type": "stream",
     "text": [
      "1/1 - 8s - loss: 0.1391 - accuracy: 0.9512 - val_loss: 2.4285 - val_accuracy: 0.5153\n",
      "\n",
      "Epoch 00254: val_loss did not improve from 0.69310\n",
      "Epoch 255/500\n"
     ]
    },
    {
     "name": "stderr",
     "output_type": "stream",
     "text": [
      "[codecarbon INFO @ 09:54:37] Energy consumed for RAM : 0.009017 kWh. RAM Power : 11.759872913360596 W\n",
      "[codecarbon INFO @ 09:54:37] Energy consumed for all CPUs : 0.032598 kWh. All CPUs Power : 42.5 W\n",
      "[codecarbon INFO @ 09:54:37] 0.041616 kWh of electricity used since the begining.\n"
     ]
    },
    {
     "name": "stdout",
     "output_type": "stream",
     "text": [
      "1/1 - 9s - loss: 0.1384 - accuracy: 0.9513 - val_loss: 2.3847 - val_accuracy: 0.5181\n",
      "\n",
      "Epoch 00255: val_loss did not improve from 0.69310\n",
      "Epoch 256/500\n",
      "1/1 - 9s - loss: 0.1345 - accuracy: 0.9518 - val_loss: 2.4187 - val_accuracy: 0.5184\n",
      "\n",
      "Epoch 00256: val_loss did not improve from 0.69310\n",
      "Epoch 257/500\n"
     ]
    },
    {
     "name": "stderr",
     "output_type": "stream",
     "text": [
      "[codecarbon INFO @ 09:54:52] Energy consumed for RAM : 0.009066 kWh. RAM Power : 11.759872913360596 W\n",
      "[codecarbon INFO @ 09:54:52] Energy consumed for all CPUs : 0.032775 kWh. All CPUs Power : 42.5 W\n",
      "[codecarbon INFO @ 09:54:52] 0.041842 kWh of electricity used since the begining.\n"
     ]
    },
    {
     "name": "stdout",
     "output_type": "stream",
     "text": [
      "1/1 - 10s - loss: 0.1369 - accuracy: 0.9521 - val_loss: 2.4556 - val_accuracy: 0.5189\n",
      "\n",
      "Epoch 00257: val_loss did not improve from 0.69310\n",
      "Epoch 258/500\n",
      "1/1 - 9s - loss: 0.1405 - accuracy: 0.9495 - val_loss: 2.5143 - val_accuracy: 0.5167\n",
      "\n",
      "Epoch 00258: val_loss did not improve from 0.69310\n",
      "Epoch 259/500\n"
     ]
    },
    {
     "name": "stderr",
     "output_type": "stream",
     "text": [
      "[codecarbon INFO @ 09:55:07] Energy consumed for RAM : 0.009115 kWh. RAM Power : 11.759872913360596 W\n",
      "[codecarbon INFO @ 09:55:07] Energy consumed for all CPUs : 0.032952 kWh. All CPUs Power : 42.5 W\n",
      "[codecarbon INFO @ 09:55:07] 0.042068 kWh of electricity used since the begining.\n"
     ]
    },
    {
     "name": "stdout",
     "output_type": "stream",
     "text": [
      "1/1 - 8s - loss: 0.1324 - accuracy: 0.9520 - val_loss: 2.4964 - val_accuracy: 0.5155\n",
      "\n",
      "Epoch 00259: val_loss did not improve from 0.69310\n",
      "Epoch 260/500\n"
     ]
    },
    {
     "name": "stderr",
     "output_type": "stream",
     "text": [
      "[codecarbon INFO @ 09:55:22] Energy consumed for RAM : 0.009164 kWh. RAM Power : 11.759872913360596 W\n",
      "[codecarbon INFO @ 09:55:22] Energy consumed for all CPUs : 0.033129 kWh. All CPUs Power : 42.5 W\n",
      "[codecarbon INFO @ 09:55:22] 0.042294 kWh of electricity used since the begining.\n"
     ]
    },
    {
     "name": "stdout",
     "output_type": "stream",
     "text": [
      "1/1 - 9s - loss: 0.1423 - accuracy: 0.9504 - val_loss: 2.5075 - val_accuracy: 0.5144\n",
      "\n",
      "Epoch 00260: val_loss did not improve from 0.69310\n",
      "Epoch 261/500\n",
      "1/1 - 9s - loss: 0.1383 - accuracy: 0.9516 - val_loss: 2.4964 - val_accuracy: 0.5120\n",
      "\n",
      "Epoch 00261: val_loss did not improve from 0.69310\n",
      "Epoch 262/500\n"
     ]
    },
    {
     "name": "stderr",
     "output_type": "stream",
     "text": [
      "[codecarbon INFO @ 09:55:37] Energy consumed for RAM : 0.009213 kWh. RAM Power : 11.759872913360596 W\n",
      "[codecarbon INFO @ 09:55:37] Energy consumed for all CPUs : 0.033306 kWh. All CPUs Power : 42.5 W\n",
      "[codecarbon INFO @ 09:55:37] 0.042520 kWh of electricity used since the begining.\n"
     ]
    },
    {
     "name": "stdout",
     "output_type": "stream",
     "text": [
      "1/1 - 8s - loss: 0.1273 - accuracy: 0.9549 - val_loss: 2.4474 - val_accuracy: 0.5183\n",
      "\n",
      "Epoch 00262: val_loss did not improve from 0.69310\n",
      "Epoch 263/500\n",
      "1/1 - 8s - loss: 0.1340 - accuracy: 0.9527 - val_loss: 2.4853 - val_accuracy: 0.5158\n",
      "\n",
      "Epoch 00263: val_loss did not improve from 0.69310\n",
      "Epoch 264/500\n"
     ]
    },
    {
     "name": "stderr",
     "output_type": "stream",
     "text": [
      "[codecarbon INFO @ 09:55:52] Energy consumed for RAM : 0.009262 kWh. RAM Power : 11.759872913360596 W\n",
      "[codecarbon INFO @ 09:55:52] Energy consumed for all CPUs : 0.033483 kWh. All CPUs Power : 42.5 W\n",
      "[codecarbon INFO @ 09:55:52] 0.042746 kWh of electricity used since the begining.\n"
     ]
    },
    {
     "name": "stdout",
     "output_type": "stream",
     "text": [
      "1/1 - 8s - loss: 0.1349 - accuracy: 0.9517 - val_loss: 2.4657 - val_accuracy: 0.5183\n",
      "\n",
      "Epoch 00264: val_loss did not improve from 0.69310\n",
      "Epoch 265/500\n",
      "1/1 - 8s - loss: 0.1382 - accuracy: 0.9528 - val_loss: 2.5181 - val_accuracy: 0.5170\n",
      "\n",
      "Epoch 00265: val_loss did not improve from 0.69310\n",
      "Epoch 266/500\n"
     ]
    },
    {
     "name": "stderr",
     "output_type": "stream",
     "text": [
      "[codecarbon INFO @ 09:56:07] Energy consumed for RAM : 0.009311 kWh. RAM Power : 11.759872913360596 W\n",
      "[codecarbon INFO @ 09:56:07] Energy consumed for all CPUs : 0.033660 kWh. All CPUs Power : 42.5 W\n",
      "[codecarbon INFO @ 09:56:07] 0.042972 kWh of electricity used since the begining.\n"
     ]
    },
    {
     "name": "stdout",
     "output_type": "stream",
     "text": [
      "1/1 - 8s - loss: 0.1317 - accuracy: 0.9514 - val_loss: 2.5226 - val_accuracy: 0.5171\n",
      "\n",
      "Epoch 00266: val_loss did not improve from 0.69310\n",
      "Epoch 267/500\n",
      "1/1 - 8s - loss: 0.1315 - accuracy: 0.9536 - val_loss: 2.4957 - val_accuracy: 0.5163\n"
     ]
    },
    {
     "name": "stderr",
     "output_type": "stream",
     "text": [
      "[codecarbon INFO @ 09:56:22] Energy consumed for RAM : 0.009360 kWh. RAM Power : 11.759872913360596 W\n",
      "[codecarbon INFO @ 09:56:22] Energy consumed for all CPUs : 0.033838 kWh. All CPUs Power : 42.5 W\n",
      "[codecarbon INFO @ 09:56:22] 0.043198 kWh of electricity used since the begining.\n"
     ]
    },
    {
     "name": "stdout",
     "output_type": "stream",
     "text": [
      "\n",
      "Epoch 00267: val_loss did not improve from 0.69310\n",
      "Epoch 268/500\n",
      "1/1 - 9s - loss: 0.1229 - accuracy: 0.9556 - val_loss: 2.5251 - val_accuracy: 0.5137\n",
      "\n",
      "Epoch 00268: val_loss did not improve from 0.69310\n",
      "Epoch 269/500\n"
     ]
    },
    {
     "name": "stderr",
     "output_type": "stream",
     "text": [
      "[codecarbon INFO @ 09:56:37] Energy consumed for RAM : 0.009409 kWh. RAM Power : 11.759872913360596 W\n",
      "[codecarbon INFO @ 09:56:37] Energy consumed for all CPUs : 0.034015 kWh. All CPUs Power : 42.5 W\n",
      "[codecarbon INFO @ 09:56:37] 0.043424 kWh of electricity used since the begining.\n"
     ]
    },
    {
     "name": "stdout",
     "output_type": "stream",
     "text": [
      "1/1 - 8s - loss: 0.1307 - accuracy: 0.9538 - val_loss: 2.4827 - val_accuracy: 0.5152\n",
      "\n",
      "Epoch 00269: val_loss did not improve from 0.69310\n",
      "Epoch 270/500\n",
      "1/1 - 8s - loss: 0.1298 - accuracy: 0.9542 - val_loss: 2.4754 - val_accuracy: 0.5174\n",
      "\n",
      "Epoch 00270: val_loss did not improve from 0.69310\n",
      "Epoch 271/500\n"
     ]
    },
    {
     "name": "stderr",
     "output_type": "stream",
     "text": [
      "[codecarbon INFO @ 09:56:52] Energy consumed for RAM : 0.009458 kWh. RAM Power : 11.759872913360596 W\n",
      "[codecarbon INFO @ 09:56:52] Energy consumed for all CPUs : 0.034192 kWh. All CPUs Power : 42.5 W\n",
      "[codecarbon INFO @ 09:56:52] 0.043650 kWh of electricity used since the begining.\n"
     ]
    },
    {
     "name": "stdout",
     "output_type": "stream",
     "text": [
      "1/1 - 8s - loss: 0.1442 - accuracy: 0.9503 - val_loss: 2.5124 - val_accuracy: 0.5194\n",
      "\n",
      "Epoch 00271: val_loss did not improve from 0.69310\n",
      "Epoch 272/500\n",
      "1/1 - 8s - loss: 0.1301 - accuracy: 0.9534 - val_loss: 2.5436 - val_accuracy: 0.5141\n",
      "\n",
      "Epoch 00272: val_loss did not improve from 0.69310\n",
      "Epoch 273/500\n"
     ]
    },
    {
     "name": "stderr",
     "output_type": "stream",
     "text": [
      "[codecarbon INFO @ 09:57:07] Energy consumed for RAM : 0.009507 kWh. RAM Power : 11.759872913360596 W\n",
      "[codecarbon INFO @ 09:57:07] Energy consumed for all CPUs : 0.034369 kWh. All CPUs Power : 42.5 W\n",
      "[codecarbon INFO @ 09:57:07] 0.043876 kWh of electricity used since the begining.\n"
     ]
    },
    {
     "name": "stdout",
     "output_type": "stream",
     "text": [
      "1/1 - 8s - loss: 0.1262 - accuracy: 0.9530 - val_loss: 2.5433 - val_accuracy: 0.5199\n",
      "\n",
      "Epoch 00273: val_loss did not improve from 0.69310\n",
      "Epoch 274/500\n"
     ]
    },
    {
     "name": "stderr",
     "output_type": "stream",
     "text": [
      "[codecarbon INFO @ 09:57:22] Energy consumed for RAM : 0.009556 kWh. RAM Power : 11.759872913360596 W\n",
      "[codecarbon INFO @ 09:57:22] Energy consumed for all CPUs : 0.034546 kWh. All CPUs Power : 42.5 W\n",
      "[codecarbon INFO @ 09:57:22] 0.044102 kWh of electricity used since the begining.\n"
     ]
    },
    {
     "name": "stdout",
     "output_type": "stream",
     "text": [
      "1/1 - 9s - loss: 0.1225 - accuracy: 0.9566 - val_loss: 2.5579 - val_accuracy: 0.5184\n",
      "\n",
      "Epoch 00274: val_loss did not improve from 0.69310\n",
      "Epoch 275/500\n",
      "1/1 - 8s - loss: 0.1282 - accuracy: 0.9560 - val_loss: 2.5880 - val_accuracy: 0.5170\n",
      "\n",
      "Epoch 00275: val_loss did not improve from 0.69310\n",
      "Epoch 276/500\n"
     ]
    },
    {
     "name": "stderr",
     "output_type": "stream",
     "text": [
      "[codecarbon INFO @ 09:57:37] Energy consumed for RAM : 0.009605 kWh. RAM Power : 11.759872913360596 W\n",
      "[codecarbon INFO @ 09:57:37] Energy consumed for all CPUs : 0.034723 kWh. All CPUs Power : 42.5 W\n",
      "[codecarbon INFO @ 09:57:37] 0.044328 kWh of electricity used since the begining.\n"
     ]
    },
    {
     "name": "stdout",
     "output_type": "stream",
     "text": [
      "1/1 - 10s - loss: 0.1289 - accuracy: 0.9540 - val_loss: 2.5947 - val_accuracy: 0.5138\n",
      "\n",
      "Epoch 00276: val_loss did not improve from 0.69310\n",
      "Epoch 277/500\n",
      "1/1 - 8s - loss: 0.1329 - accuracy: 0.9532 - val_loss: 2.5473 - val_accuracy: 0.5150\n",
      "\n",
      "Epoch 00277: val_loss did not improve from 0.69310\n",
      "Epoch 278/500\n"
     ]
    },
    {
     "name": "stderr",
     "output_type": "stream",
     "text": [
      "[codecarbon INFO @ 09:57:52] Energy consumed for RAM : 0.009654 kWh. RAM Power : 11.759872913360596 W\n",
      "[codecarbon INFO @ 09:57:52] Energy consumed for all CPUs : 0.034900 kWh. All CPUs Power : 42.5 W\n",
      "[codecarbon INFO @ 09:57:52] 0.044554 kWh of electricity used since the begining.\n"
     ]
    },
    {
     "name": "stdout",
     "output_type": "stream",
     "text": [
      "1/1 - 10s - loss: 0.1323 - accuracy: 0.9531 - val_loss: 2.5422 - val_accuracy: 0.5170\n",
      "\n",
      "Epoch 00278: val_loss did not improve from 0.69310\n",
      "Epoch 279/500\n",
      "1/1 - 8s - loss: 0.1287 - accuracy: 0.9563 - val_loss: 2.5419 - val_accuracy: 0.5195\n",
      "\n",
      "Epoch 00279: val_loss did not improve from 0.69310\n",
      "Epoch 280/500\n"
     ]
    },
    {
     "name": "stderr",
     "output_type": "stream",
     "text": [
      "[codecarbon INFO @ 09:58:07] Energy consumed for RAM : 0.009703 kWh. RAM Power : 11.759872913360596 W\n",
      "[codecarbon INFO @ 09:58:07] Energy consumed for all CPUs : 0.035077 kWh. All CPUs Power : 42.5 W\n",
      "[codecarbon INFO @ 09:58:07] 0.044780 kWh of electricity used since the begining.\n"
     ]
    },
    {
     "name": "stdout",
     "output_type": "stream",
     "text": [
      "1/1 - 10s - loss: 0.1281 - accuracy: 0.9542 - val_loss: 2.5728 - val_accuracy: 0.5159\n",
      "\n",
      "Epoch 00280: val_loss did not improve from 0.69310\n",
      "Epoch 281/500\n"
     ]
    },
    {
     "name": "stderr",
     "output_type": "stream",
     "text": [
      "[codecarbon INFO @ 09:58:22] Energy consumed for RAM : 0.009752 kWh. RAM Power : 11.759872913360596 W\n",
      "[codecarbon INFO @ 09:58:22] Energy consumed for all CPUs : 0.035254 kWh. All CPUs Power : 42.5 W\n",
      "[codecarbon INFO @ 09:58:22] 0.045006 kWh of electricity used since the begining.\n"
     ]
    },
    {
     "name": "stdout",
     "output_type": "stream",
     "text": [
      "1/1 - 8s - loss: 0.1295 - accuracy: 0.9545 - val_loss: 2.5414 - val_accuracy: 0.5169\n",
      "\n",
      "Epoch 00281: val_loss did not improve from 0.69310\n",
      "Epoch 282/500\n",
      "1/1 - 10s - loss: 0.1211 - accuracy: 0.9582 - val_loss: 2.5544 - val_accuracy: 0.5222\n",
      "\n",
      "Epoch 00282: val_loss did not improve from 0.69310\n",
      "Epoch 283/500\n"
     ]
    },
    {
     "name": "stderr",
     "output_type": "stream",
     "text": [
      "[codecarbon INFO @ 09:58:37] Energy consumed for RAM : 0.009801 kWh. RAM Power : 11.759872913360596 W\n",
      "[codecarbon INFO @ 09:58:37] Energy consumed for all CPUs : 0.035431 kWh. All CPUs Power : 42.5 W\n",
      "[codecarbon INFO @ 09:58:37] 0.045232 kWh of electricity used since the begining.\n"
     ]
    },
    {
     "name": "stdout",
     "output_type": "stream",
     "text": [
      "1/1 - 9s - loss: 0.1283 - accuracy: 0.9548 - val_loss: 2.6100 - val_accuracy: 0.5139\n",
      "\n",
      "Epoch 00283: val_loss did not improve from 0.69310\n",
      "Epoch 284/500\n"
     ]
    },
    {
     "name": "stderr",
     "output_type": "stream",
     "text": [
      "[codecarbon INFO @ 09:58:52] Energy consumed for RAM : 0.009850 kWh. RAM Power : 11.759872913360596 W\n",
      "[codecarbon INFO @ 09:58:52] Energy consumed for all CPUs : 0.035608 kWh. All CPUs Power : 42.5 W\n",
      "[codecarbon INFO @ 09:58:52] 0.045458 kWh of electricity used since the begining.\n"
     ]
    },
    {
     "name": "stdout",
     "output_type": "stream",
     "text": [
      "1/1 - 9s - loss: 0.1265 - accuracy: 0.9538 - val_loss: 2.6057 - val_accuracy: 0.5177\n",
      "\n",
      "Epoch 00284: val_loss did not improve from 0.69310\n",
      "Epoch 285/500\n",
      "1/1 - 8s - loss: 0.1267 - accuracy: 0.9544 - val_loss: 2.6579 - val_accuracy: 0.5168\n",
      "\n",
      "Epoch 00285: val_loss did not improve from 0.69310\n",
      "Epoch 286/500\n"
     ]
    },
    {
     "name": "stderr",
     "output_type": "stream",
     "text": [
      "[codecarbon INFO @ 09:59:07] Energy consumed for RAM : 0.009899 kWh. RAM Power : 11.759872913360596 W\n",
      "[codecarbon INFO @ 09:59:07] Energy consumed for all CPUs : 0.035785 kWh. All CPUs Power : 42.5 W\n",
      "[codecarbon INFO @ 09:59:07] 0.045684 kWh of electricity used since the begining.\n"
     ]
    },
    {
     "name": "stdout",
     "output_type": "stream",
     "text": [
      "1/1 - 9s - loss: 0.1227 - accuracy: 0.9571 - val_loss: 2.5913 - val_accuracy: 0.5165\n",
      "\n",
      "Epoch 00286: val_loss did not improve from 0.69310\n",
      "Epoch 287/500\n",
      "1/1 - 8s - loss: 0.1236 - accuracy: 0.9581 - val_loss: 2.6044 - val_accuracy: 0.5168\n",
      "\n",
      "Epoch 00287: val_loss did not improve from 0.69310\n",
      "Epoch 288/500\n"
     ]
    },
    {
     "name": "stderr",
     "output_type": "stream",
     "text": [
      "[codecarbon INFO @ 09:59:22] Energy consumed for RAM : 0.009948 kWh. RAM Power : 11.759872913360596 W\n",
      "[codecarbon INFO @ 09:59:22] Energy consumed for all CPUs : 0.035962 kWh. All CPUs Power : 42.5 W\n",
      "[codecarbon INFO @ 09:59:22] 0.045910 kWh of electricity used since the begining.\n"
     ]
    },
    {
     "name": "stdout",
     "output_type": "stream",
     "text": [
      "1/1 - 8s - loss: 0.1204 - accuracy: 0.9582 - val_loss: 2.6002 - val_accuracy: 0.5201\n",
      "\n",
      "Epoch 00288: val_loss did not improve from 0.69310\n",
      "Epoch 289/500\n",
      "1/1 - 8s - loss: 0.1242 - accuracy: 0.9561 - val_loss: 2.5732 - val_accuracy: 0.5208\n",
      "\n",
      "Epoch 00289: val_loss did not improve from 0.69310\n",
      "Epoch 290/500\n"
     ]
    },
    {
     "name": "stderr",
     "output_type": "stream",
     "text": [
      "[codecarbon INFO @ 09:59:37] Energy consumed for RAM : 0.009997 kWh. RAM Power : 11.759872913360596 W\n",
      "[codecarbon INFO @ 09:59:37] Energy consumed for all CPUs : 0.036139 kWh. All CPUs Power : 42.5 W\n",
      "[codecarbon INFO @ 09:59:37] 0.046136 kWh of electricity used since the begining.\n"
     ]
    },
    {
     "name": "stdout",
     "output_type": "stream",
     "text": [
      "1/1 - 8s - loss: 0.1215 - accuracy: 0.9584 - val_loss: 2.6301 - val_accuracy: 0.5173\n",
      "\n",
      "Epoch 00290: val_loss did not improve from 0.69310\n",
      "Epoch 291/500\n"
     ]
    },
    {
     "name": "stderr",
     "output_type": "stream",
     "text": [
      "[codecarbon INFO @ 09:59:52] Energy consumed for RAM : 0.010046 kWh. RAM Power : 11.759872913360596 W\n",
      "[codecarbon INFO @ 09:59:52] Energy consumed for all CPUs : 0.036316 kWh. All CPUs Power : 42.5 W\n",
      "[codecarbon INFO @ 09:59:52] 0.046362 kWh of electricity used since the begining.\n"
     ]
    },
    {
     "name": "stdout",
     "output_type": "stream",
     "text": [
      "1/1 - 8s - loss: 0.1259 - accuracy: 0.9561 - val_loss: 2.5863 - val_accuracy: 0.5193\n",
      "\n",
      "Epoch 00291: val_loss did not improve from 0.69310\n",
      "Epoch 292/500\n",
      "1/1 - 8s - loss: 0.1325 - accuracy: 0.9537 - val_loss: 2.5855 - val_accuracy: 0.5178\n",
      "\n",
      "Epoch 00292: val_loss did not improve from 0.69310\n",
      "Epoch 293/500\n"
     ]
    },
    {
     "name": "stderr",
     "output_type": "stream",
     "text": [
      "[codecarbon INFO @ 10:00:07] Energy consumed for RAM : 0.010095 kWh. RAM Power : 11.759872913360596 W\n",
      "[codecarbon INFO @ 10:00:07] Energy consumed for all CPUs : 0.036493 kWh. All CPUs Power : 42.5 W\n",
      "[codecarbon INFO @ 10:00:07] 0.046588 kWh of electricity used since the begining.\n"
     ]
    },
    {
     "name": "stdout",
     "output_type": "stream",
     "text": [
      "1/1 - 8s - loss: 0.1251 - accuracy: 0.9566 - val_loss: 2.6586 - val_accuracy: 0.5169\n",
      "\n",
      "Epoch 00293: val_loss did not improve from 0.69310\n",
      "Epoch 294/500\n",
      "1/1 - 9s - loss: 0.1263 - accuracy: 0.9528 - val_loss: 2.6130 - val_accuracy: 0.5197\n",
      "\n",
      "Epoch 00294: val_loss did not improve from 0.69310\n",
      "Epoch 295/500\n"
     ]
    },
    {
     "name": "stderr",
     "output_type": "stream",
     "text": [
      "[codecarbon INFO @ 10:00:22] Energy consumed for RAM : 0.010144 kWh. RAM Power : 11.759872913360596 W\n",
      "[codecarbon INFO @ 10:00:22] Energy consumed for all CPUs : 0.036670 kWh. All CPUs Power : 42.5 W\n",
      "[codecarbon INFO @ 10:00:22] 0.046814 kWh of electricity used since the begining.\n"
     ]
    },
    {
     "name": "stdout",
     "output_type": "stream",
     "text": [
      "1/1 - 8s - loss: 0.1281 - accuracy: 0.9553 - val_loss: 2.6184 - val_accuracy: 0.5153\n",
      "\n",
      "Epoch 00295: val_loss did not improve from 0.69310\n",
      "Epoch 296/500\n",
      "1/1 - 10s - loss: 0.1252 - accuracy: 0.9552 - val_loss: 2.6510 - val_accuracy: 0.5181\n",
      "\n",
      "Epoch 00296: val_loss did not improve from 0.69310\n",
      "Epoch 297/500\n"
     ]
    },
    {
     "name": "stderr",
     "output_type": "stream",
     "text": [
      "[codecarbon INFO @ 10:00:37] Energy consumed for RAM : 0.010193 kWh. RAM Power : 11.759872913360596 W\n",
      "[codecarbon INFO @ 10:00:37] Energy consumed for all CPUs : 0.036847 kWh. All CPUs Power : 42.5 W\n",
      "[codecarbon INFO @ 10:00:37] 0.047040 kWh of electricity used since the begining.\n"
     ]
    },
    {
     "name": "stdout",
     "output_type": "stream",
     "text": [
      "1/1 - 9s - loss: 0.1275 - accuracy: 0.9556 - val_loss: 2.6117 - val_accuracy: 0.5156\n",
      "\n",
      "Epoch 00297: val_loss did not improve from 0.69310\n",
      "Epoch 298/500\n"
     ]
    },
    {
     "name": "stderr",
     "output_type": "stream",
     "text": [
      "[codecarbon INFO @ 10:00:52] Energy consumed for RAM : 0.010242 kWh. RAM Power : 11.759872913360596 W\n",
      "[codecarbon INFO @ 10:00:52] Energy consumed for all CPUs : 0.037025 kWh. All CPUs Power : 42.5 W\n",
      "[codecarbon INFO @ 10:00:52] 0.047266 kWh of electricity used since the begining.\n"
     ]
    },
    {
     "name": "stdout",
     "output_type": "stream",
     "text": [
      "1/1 - 9s - loss: 0.1316 - accuracy: 0.9539 - val_loss: 2.6140 - val_accuracy: 0.5184\n",
      "\n",
      "Epoch 00298: val_loss did not improve from 0.69310\n",
      "Epoch 299/500\n",
      "1/1 - 10s - loss: 0.1206 - accuracy: 0.9585 - val_loss: 2.6859 - val_accuracy: 0.5175\n",
      "\n",
      "Epoch 00299: val_loss did not improve from 0.69310\n",
      "Epoch 300/500\n"
     ]
    },
    {
     "name": "stderr",
     "output_type": "stream",
     "text": [
      "[codecarbon INFO @ 10:01:07] Energy consumed for RAM : 0.010291 kWh. RAM Power : 11.759872913360596 W\n",
      "[codecarbon INFO @ 10:01:07] Energy consumed for all CPUs : 0.037202 kWh. All CPUs Power : 42.5 W\n",
      "[codecarbon INFO @ 10:01:07] 0.047492 kWh of electricity used since the begining.\n"
     ]
    },
    {
     "name": "stdout",
     "output_type": "stream",
     "text": [
      "1/1 - 10s - loss: 0.1263 - accuracy: 0.9545 - val_loss: 2.6467 - val_accuracy: 0.5189\n",
      "\n",
      "Epoch 00300: val_loss did not improve from 0.69310\n",
      "Epoch 301/500\n"
     ]
    },
    {
     "name": "stderr",
     "output_type": "stream",
     "text": [
      "[codecarbon INFO @ 10:01:22] Energy consumed for RAM : 0.010340 kWh. RAM Power : 11.759872913360596 W\n",
      "[codecarbon INFO @ 10:01:22] Energy consumed for all CPUs : 0.037379 kWh. All CPUs Power : 42.5 W\n",
      "[codecarbon INFO @ 10:01:22] 0.047718 kWh of electricity used since the begining.\n"
     ]
    },
    {
     "name": "stdout",
     "output_type": "stream",
     "text": [
      "1/1 - 9s - loss: 0.1285 - accuracy: 0.9546 - val_loss: 2.6862 - val_accuracy: 0.5168\n",
      "\n",
      "Epoch 00301: val_loss did not improve from 0.69310\n",
      "Epoch 302/500\n",
      "1/1 - 10s - loss: 0.1230 - accuracy: 0.9565 - val_loss: 2.6846 - val_accuracy: 0.5166\n",
      "\n",
      "Epoch 00302: val_loss did not improve from 0.69310\n",
      "Epoch 303/500\n"
     ]
    },
    {
     "name": "stderr",
     "output_type": "stream",
     "text": [
      "[codecarbon INFO @ 10:01:37] Energy consumed for RAM : 0.010389 kWh. RAM Power : 11.759872913360596 W\n",
      "[codecarbon INFO @ 10:01:37] Energy consumed for all CPUs : 0.037556 kWh. All CPUs Power : 42.5 W\n",
      "[codecarbon INFO @ 10:01:37] 0.047944 kWh of electricity used since the begining.\n"
     ]
    },
    {
     "name": "stdout",
     "output_type": "stream",
     "text": [
      "1/1 - 10s - loss: 0.1255 - accuracy: 0.9557 - val_loss: 2.6531 - val_accuracy: 0.5177\n",
      "\n",
      "Epoch 00303: val_loss did not improve from 0.69310\n",
      "Epoch 304/500\n"
     ]
    },
    {
     "name": "stderr",
     "output_type": "stream",
     "text": [
      "[codecarbon INFO @ 10:01:52] Energy consumed for RAM : 0.010438 kWh. RAM Power : 11.759872913360596 W\n",
      "[codecarbon INFO @ 10:01:52] Energy consumed for all CPUs : 0.037733 kWh. All CPUs Power : 42.5 W\n",
      "[codecarbon INFO @ 10:01:52] 0.048170 kWh of electricity used since the begining.\n"
     ]
    },
    {
     "name": "stdout",
     "output_type": "stream",
     "text": [
      "1/1 - 10s - loss: 0.1195 - accuracy: 0.9586 - val_loss: 2.6173 - val_accuracy: 0.5192\n",
      "\n",
      "Epoch 00304: val_loss did not improve from 0.69310\n",
      "Epoch 305/500\n",
      "1/1 - 9s - loss: 0.1215 - accuracy: 0.9584 - val_loss: 2.5627 - val_accuracy: 0.5214\n",
      "\n",
      "Epoch 00305: val_loss did not improve from 0.69310\n",
      "Epoch 306/500\n"
     ]
    },
    {
     "name": "stderr",
     "output_type": "stream",
     "text": [
      "[codecarbon INFO @ 10:02:07] Energy consumed for RAM : 0.010487 kWh. RAM Power : 11.759872913360596 W\n",
      "[codecarbon INFO @ 10:02:07] Energy consumed for all CPUs : 0.037910 kWh. All CPUs Power : 42.5 W\n",
      "[codecarbon INFO @ 10:02:07] 0.048397 kWh of electricity used since the begining.\n"
     ]
    },
    {
     "name": "stdout",
     "output_type": "stream",
     "text": [
      "1/1 - 9s - loss: 0.1180 - accuracy: 0.9585 - val_loss: 2.6305 - val_accuracy: 0.5179\n",
      "\n",
      "Epoch 00306: val_loss did not improve from 0.69310\n",
      "Epoch 307/500\n",
      "1/1 - 9s - loss: 0.1198 - accuracy: 0.9589 - val_loss: 2.6642 - val_accuracy: 0.5167\n",
      "\n",
      "Epoch 00307: val_loss did not improve from 0.69310\n",
      "Epoch 308/500\n"
     ]
    },
    {
     "name": "stderr",
     "output_type": "stream",
     "text": [
      "[codecarbon INFO @ 10:02:22] Energy consumed for RAM : 0.010536 kWh. RAM Power : 11.759872913360596 W\n",
      "[codecarbon INFO @ 10:02:22] Energy consumed for all CPUs : 0.038087 kWh. All CPUs Power : 42.5 W\n",
      "[codecarbon INFO @ 10:02:22] 0.048623 kWh of electricity used since the begining.\n"
     ]
    },
    {
     "name": "stdout",
     "output_type": "stream",
     "text": [
      "1/1 - 9s - loss: 0.1241 - accuracy: 0.9568 - val_loss: 2.6861 - val_accuracy: 0.5162\n",
      "\n",
      "Epoch 00308: val_loss did not improve from 0.69310\n",
      "Epoch 309/500\n"
     ]
    },
    {
     "name": "stderr",
     "output_type": "stream",
     "text": [
      "[codecarbon INFO @ 10:02:37] Energy consumed for RAM : 0.010585 kWh. RAM Power : 11.759872913360596 W\n",
      "[codecarbon INFO @ 10:02:37] Energy consumed for all CPUs : 0.038264 kWh. All CPUs Power : 42.5 W\n",
      "[codecarbon INFO @ 10:02:37] 0.048849 kWh of electricity used since the begining.\n"
     ]
    },
    {
     "name": "stdout",
     "output_type": "stream",
     "text": [
      "1/1 - 9s - loss: 0.1224 - accuracy: 0.9570 - val_loss: 2.7051 - val_accuracy: 0.5168\n",
      "\n",
      "Epoch 00309: val_loss did not improve from 0.69310\n",
      "Epoch 310/500\n",
      "1/1 - 9s - loss: 0.1197 - accuracy: 0.9569 - val_loss: 2.6522 - val_accuracy: 0.5170\n",
      "\n",
      "Epoch 00310: val_loss did not improve from 0.69310\n",
      "Epoch 311/500\n"
     ]
    },
    {
     "name": "stderr",
     "output_type": "stream",
     "text": [
      "[codecarbon INFO @ 10:02:52] Energy consumed for RAM : 0.010634 kWh. RAM Power : 11.759872913360596 W\n",
      "[codecarbon INFO @ 10:02:52] Energy consumed for all CPUs : 0.038441 kWh. All CPUs Power : 42.5 W\n",
      "[codecarbon INFO @ 10:02:52] 0.049075 kWh of electricity used since the begining.\n"
     ]
    },
    {
     "name": "stdout",
     "output_type": "stream",
     "text": [
      "1/1 - 9s - loss: 0.1224 - accuracy: 0.9573 - val_loss: 2.6150 - val_accuracy: 0.5190\n",
      "\n",
      "Epoch 00311: val_loss did not improve from 0.69310\n",
      "Epoch 312/500\n",
      "1/1 - 9s - loss: 0.1240 - accuracy: 0.9567 - val_loss: 2.6148 - val_accuracy: 0.5213\n",
      "\n",
      "Epoch 00312: val_loss did not improve from 0.69310\n",
      "Epoch 313/500\n"
     ]
    },
    {
     "name": "stderr",
     "output_type": "stream",
     "text": [
      "[codecarbon INFO @ 10:03:07] Energy consumed for RAM : 0.010683 kWh. RAM Power : 11.759872913360596 W\n",
      "[codecarbon INFO @ 10:03:07] Energy consumed for all CPUs : 0.038618 kWh. All CPUs Power : 42.5 W\n",
      "[codecarbon INFO @ 10:03:07] 0.049301 kWh of electricity used since the begining.\n"
     ]
    },
    {
     "name": "stdout",
     "output_type": "stream",
     "text": [
      "1/1 - 9s - loss: 0.1220 - accuracy: 0.9588 - val_loss: 2.6606 - val_accuracy: 0.5188\n",
      "\n",
      "Epoch 00313: val_loss did not improve from 0.69310\n",
      "Epoch 314/500\n"
     ]
    },
    {
     "name": "stderr",
     "output_type": "stream",
     "text": [
      "[codecarbon INFO @ 10:03:22] Energy consumed for RAM : 0.010732 kWh. RAM Power : 11.759872913360596 W\n",
      "[codecarbon INFO @ 10:03:22] Energy consumed for all CPUs : 0.038795 kWh. All CPUs Power : 42.5 W\n",
      "[codecarbon INFO @ 10:03:22] 0.049527 kWh of electricity used since the begining.\n"
     ]
    },
    {
     "name": "stdout",
     "output_type": "stream",
     "text": [
      "1/1 - 9s - loss: 0.1177 - accuracy: 0.9585 - val_loss: 2.6985 - val_accuracy: 0.5181\n",
      "\n",
      "Epoch 00314: val_loss did not improve from 0.69310\n",
      "Epoch 315/500\n",
      "1/1 - 9s - loss: 0.1215 - accuracy: 0.9582 - val_loss: 2.7092 - val_accuracy: 0.5150\n",
      "\n",
      "Epoch 00315: val_loss did not improve from 0.69310\n",
      "Epoch 316/500\n"
     ]
    },
    {
     "name": "stderr",
     "output_type": "stream",
     "text": [
      "[codecarbon INFO @ 10:03:37] Energy consumed for RAM : 0.010781 kWh. RAM Power : 11.759872913360596 W\n",
      "[codecarbon INFO @ 10:03:37] Energy consumed for all CPUs : 0.038972 kWh. All CPUs Power : 42.5 W\n",
      "[codecarbon INFO @ 10:03:37] 0.049753 kWh of electricity used since the begining.\n"
     ]
    },
    {
     "name": "stdout",
     "output_type": "stream",
     "text": [
      "1/1 - 9s - loss: 0.1174 - accuracy: 0.9586 - val_loss: 2.7352 - val_accuracy: 0.5177\n",
      "\n",
      "Epoch 00316: val_loss did not improve from 0.69310\n",
      "Epoch 317/500\n"
     ]
    },
    {
     "name": "stderr",
     "output_type": "stream",
     "text": [
      "[codecarbon INFO @ 10:03:52] Energy consumed for RAM : 0.010830 kWh. RAM Power : 11.759872913360596 W\n",
      "[codecarbon INFO @ 10:03:52] Energy consumed for all CPUs : 0.039149 kWh. All CPUs Power : 42.5 W\n",
      "[codecarbon INFO @ 10:03:52] 0.049979 kWh of electricity used since the begining.\n"
     ]
    },
    {
     "name": "stdout",
     "output_type": "stream",
     "text": [
      "1/1 - 9s - loss: 0.1225 - accuracy: 0.9560 - val_loss: 2.7582 - val_accuracy: 0.5186\n",
      "\n",
      "Epoch 00317: val_loss did not improve from 0.69310\n",
      "Epoch 318/500\n",
      "1/1 - 9s - loss: 0.1207 - accuracy: 0.9597 - val_loss: 2.7329 - val_accuracy: 0.5148\n",
      "\n",
      "Epoch 00318: val_loss did not improve from 0.69310\n",
      "Epoch 319/500\n"
     ]
    },
    {
     "name": "stderr",
     "output_type": "stream",
     "text": [
      "[codecarbon INFO @ 10:04:07] Energy consumed for RAM : 0.010879 kWh. RAM Power : 11.759872913360596 W\n",
      "[codecarbon INFO @ 10:04:07] Energy consumed for all CPUs : 0.039326 kWh. All CPUs Power : 42.5 W\n",
      "[codecarbon INFO @ 10:04:07] 0.050205 kWh of electricity used since the begining.\n"
     ]
    },
    {
     "name": "stdout",
     "output_type": "stream",
     "text": [
      "1/1 - 9s - loss: 0.1208 - accuracy: 0.9572 - val_loss: 2.6753 - val_accuracy: 0.5174\n",
      "\n",
      "Epoch 00319: val_loss did not improve from 0.69310\n",
      "Epoch 320/500\n",
      "1/1 - 9s - loss: 0.1178 - accuracy: 0.9586 - val_loss: 2.6913 - val_accuracy: 0.5143\n",
      "\n",
      "Epoch 00320: val_loss did not improve from 0.69310\n",
      "Epoch 321/500\n"
     ]
    },
    {
     "name": "stderr",
     "output_type": "stream",
     "text": [
      "[codecarbon INFO @ 10:04:22] Energy consumed for RAM : 0.010927 kWh. RAM Power : 11.759872913360596 W\n",
      "[codecarbon INFO @ 10:04:22] Energy consumed for all CPUs : 0.039503 kWh. All CPUs Power : 42.5 W\n",
      "[codecarbon INFO @ 10:04:22] 0.050431 kWh of electricity used since the begining.\n"
     ]
    },
    {
     "name": "stdout",
     "output_type": "stream",
     "text": [
      "1/1 - 9s - loss: 0.1186 - accuracy: 0.9578 - val_loss: 2.6462 - val_accuracy: 0.5188\n",
      "\n",
      "Epoch 00321: val_loss did not improve from 0.69310\n",
      "Epoch 322/500\n"
     ]
    },
    {
     "name": "stderr",
     "output_type": "stream",
     "text": [
      "[codecarbon INFO @ 10:04:37] Energy consumed for RAM : 0.010976 kWh. RAM Power : 11.759872913360596 W\n",
      "[codecarbon INFO @ 10:04:37] Energy consumed for all CPUs : 0.039680 kWh. All CPUs Power : 42.5 W\n",
      "[codecarbon INFO @ 10:04:37] 0.050657 kWh of electricity used since the begining.\n"
     ]
    },
    {
     "name": "stdout",
     "output_type": "stream",
     "text": [
      "1/1 - 9s - loss: 0.1207 - accuracy: 0.9574 - val_loss: 2.6330 - val_accuracy: 0.5165\n",
      "\n",
      "Epoch 00322: val_loss did not improve from 0.69310\n",
      "Epoch 323/500\n",
      "1/1 - 9s - loss: 0.1194 - accuracy: 0.9585 - val_loss: 2.6913 - val_accuracy: 0.5152\n",
      "\n",
      "Epoch 00323: val_loss did not improve from 0.69310\n",
      "Epoch 324/500\n"
     ]
    },
    {
     "name": "stderr",
     "output_type": "stream",
     "text": [
      "[codecarbon INFO @ 10:04:52] Energy consumed for RAM : 0.011025 kWh. RAM Power : 11.759872913360596 W\n",
      "[codecarbon INFO @ 10:04:52] Energy consumed for all CPUs : 0.039857 kWh. All CPUs Power : 42.5 W\n",
      "[codecarbon INFO @ 10:04:52] 0.050883 kWh of electricity used since the begining.\n"
     ]
    },
    {
     "name": "stdout",
     "output_type": "stream",
     "text": [
      "1/1 - 9s - loss: 0.1189 - accuracy: 0.9590 - val_loss: 2.7057 - val_accuracy: 0.5175\n",
      "\n",
      "Epoch 00324: val_loss did not improve from 0.69310\n",
      "Epoch 325/500\n",
      "1/1 - 9s - loss: 0.1160 - accuracy: 0.9585 - val_loss: 2.7334 - val_accuracy: 0.5210\n",
      "\n",
      "Epoch 00325: val_loss did not improve from 0.69310\n",
      "Epoch 326/500\n"
     ]
    },
    {
     "name": "stderr",
     "output_type": "stream",
     "text": [
      "[codecarbon INFO @ 10:05:07] Energy consumed for RAM : 0.011074 kWh. RAM Power : 11.759872913360596 W\n",
      "[codecarbon INFO @ 10:05:07] Energy consumed for all CPUs : 0.040035 kWh. All CPUs Power : 42.5 W\n",
      "[codecarbon INFO @ 10:05:07] 0.051109 kWh of electricity used since the begining.\n"
     ]
    },
    {
     "name": "stdout",
     "output_type": "stream",
     "text": [
      "1/1 - 9s - loss: 0.1172 - accuracy: 0.9577 - val_loss: 2.7691 - val_accuracy: 0.5143\n",
      "\n",
      "Epoch 00326: val_loss did not improve from 0.69310\n",
      "Epoch 327/500\n"
     ]
    },
    {
     "name": "stderr",
     "output_type": "stream",
     "text": [
      "[codecarbon INFO @ 10:05:22] Energy consumed for RAM : 0.011123 kWh. RAM Power : 11.759872913360596 W\n",
      "[codecarbon INFO @ 10:05:22] Energy consumed for all CPUs : 0.040212 kWh. All CPUs Power : 42.5 W\n",
      "[codecarbon INFO @ 10:05:22] 0.051335 kWh of electricity used since the begining.\n"
     ]
    },
    {
     "name": "stdout",
     "output_type": "stream",
     "text": [
      "1/1 - 9s - loss: 0.1205 - accuracy: 0.9577 - val_loss: 2.7654 - val_accuracy: 0.5189\n",
      "\n",
      "Epoch 00327: val_loss did not improve from 0.69310\n",
      "Epoch 328/500\n",
      "1/1 - 9s - loss: 0.1137 - accuracy: 0.9604 - val_loss: 2.7554 - val_accuracy: 0.5165\n",
      "\n",
      "Epoch 00328: val_loss did not improve from 0.69310\n",
      "Epoch 329/500\n"
     ]
    },
    {
     "name": "stderr",
     "output_type": "stream",
     "text": [
      "[codecarbon INFO @ 10:05:37] Energy consumed for RAM : 0.011172 kWh. RAM Power : 11.759872913360596 W\n",
      "[codecarbon INFO @ 10:05:37] Energy consumed for all CPUs : 0.040389 kWh. All CPUs Power : 42.5 W\n",
      "[codecarbon INFO @ 10:05:37] 0.051561 kWh of electricity used since the begining.\n"
     ]
    },
    {
     "name": "stdout",
     "output_type": "stream",
     "text": [
      "1/1 - 9s - loss: 0.1186 - accuracy: 0.9589 - val_loss: 2.7211 - val_accuracy: 0.5186\n",
      "\n",
      "Epoch 00329: val_loss did not improve from 0.69310\n",
      "Epoch 330/500\n",
      "1/1 - 9s - loss: 0.1125 - accuracy: 0.9613 - val_loss: 2.7300 - val_accuracy: 0.5160\n",
      "\n",
      "Epoch 00330: val_loss did not improve from 0.69310\n",
      "Epoch 331/500\n"
     ]
    },
    {
     "name": "stderr",
     "output_type": "stream",
     "text": [
      "[codecarbon INFO @ 10:05:52] Energy consumed for RAM : 0.011221 kWh. RAM Power : 11.759872913360596 W\n",
      "[codecarbon INFO @ 10:05:52] Energy consumed for all CPUs : 0.040566 kWh. All CPUs Power : 42.5 W\n",
      "[codecarbon INFO @ 10:05:52] 0.051787 kWh of electricity used since the begining.\n"
     ]
    },
    {
     "name": "stdout",
     "output_type": "stream",
     "text": [
      "1/1 - 9s - loss: 0.1182 - accuracy: 0.9594 - val_loss: 2.7622 - val_accuracy: 0.5172\n",
      "\n",
      "Epoch 00331: val_loss did not improve from 0.69310\n",
      "Epoch 332/500\n"
     ]
    },
    {
     "name": "stderr",
     "output_type": "stream",
     "text": [
      "[codecarbon INFO @ 10:06:07] Energy consumed for RAM : 0.011270 kWh. RAM Power : 11.759872913360596 W\n",
      "[codecarbon INFO @ 10:06:07] Energy consumed for all CPUs : 0.040743 kWh. All CPUs Power : 42.5 W\n",
      "[codecarbon INFO @ 10:06:07] 0.052013 kWh of electricity used since the begining.\n"
     ]
    },
    {
     "name": "stdout",
     "output_type": "stream",
     "text": [
      "1/1 - 9s - loss: 0.1126 - accuracy: 0.9617 - val_loss: 2.7160 - val_accuracy: 0.5191\n",
      "\n",
      "Epoch 00332: val_loss did not improve from 0.69310\n",
      "Epoch 333/500\n",
      "1/1 - 9s - loss: 0.1130 - accuracy: 0.9607 - val_loss: 2.7226 - val_accuracy: 0.5152\n",
      "\n",
      "Epoch 00333: val_loss did not improve from 0.69310\n",
      "Epoch 334/500\n"
     ]
    },
    {
     "name": "stderr",
     "output_type": "stream",
     "text": [
      "[codecarbon INFO @ 10:06:22] Energy consumed for RAM : 0.011319 kWh. RAM Power : 11.759872913360596 W\n",
      "[codecarbon INFO @ 10:06:22] Energy consumed for all CPUs : 0.040920 kWh. All CPUs Power : 42.5 W\n",
      "[codecarbon INFO @ 10:06:22] 0.052239 kWh of electricity used since the begining.\n"
     ]
    },
    {
     "name": "stdout",
     "output_type": "stream",
     "text": [
      "1/1 - 9s - loss: 0.1203 - accuracy: 0.9585 - val_loss: 2.6843 - val_accuracy: 0.5188\n",
      "\n",
      "Epoch 00334: val_loss did not improve from 0.69310\n",
      "Epoch 335/500\n"
     ]
    },
    {
     "name": "stderr",
     "output_type": "stream",
     "text": [
      "[codecarbon INFO @ 10:06:37] Energy consumed for RAM : 0.011368 kWh. RAM Power : 11.759872913360596 W\n",
      "[codecarbon INFO @ 10:06:37] Energy consumed for all CPUs : 0.041097 kWh. All CPUs Power : 42.5 W\n",
      "[codecarbon INFO @ 10:06:37] 0.052465 kWh of electricity used since the begining.\n"
     ]
    },
    {
     "name": "stdout",
     "output_type": "stream",
     "text": [
      "1/1 - 9s - loss: 0.1182 - accuracy: 0.9600 - val_loss: 2.7171 - val_accuracy: 0.5182\n",
      "\n",
      "Epoch 00335: val_loss did not improve from 0.69310\n",
      "Epoch 336/500\n",
      "1/1 - 9s - loss: 0.1149 - accuracy: 0.9621 - val_loss: 2.7242 - val_accuracy: 0.5197\n",
      "\n",
      "Epoch 00336: val_loss did not improve from 0.69310\n",
      "Epoch 337/500\n"
     ]
    },
    {
     "name": "stderr",
     "output_type": "stream",
     "text": [
      "[codecarbon INFO @ 10:06:52] Energy consumed for RAM : 0.011417 kWh. RAM Power : 11.759872913360596 W\n",
      "[codecarbon INFO @ 10:06:52] Energy consumed for all CPUs : 0.041274 kWh. All CPUs Power : 42.5 W\n",
      "[codecarbon INFO @ 10:06:52] 0.052691 kWh of electricity used since the begining.\n"
     ]
    },
    {
     "name": "stdout",
     "output_type": "stream",
     "text": [
      "1/1 - 9s - loss: 0.1182 - accuracy: 0.9596 - val_loss: 2.7631 - val_accuracy: 0.5187\n",
      "\n",
      "Epoch 00337: val_loss did not improve from 0.69310\n",
      "Epoch 338/500\n",
      "1/1 - 9s - loss: 0.1214 - accuracy: 0.9582 - val_loss: 2.7336 - val_accuracy: 0.5209\n",
      "\n",
      "Epoch 00338: val_loss did not improve from 0.69310\n",
      "Epoch 339/500\n"
     ]
    },
    {
     "name": "stderr",
     "output_type": "stream",
     "text": [
      "[codecarbon INFO @ 10:07:07] Energy consumed for RAM : 0.011466 kWh. RAM Power : 11.759872913360596 W\n",
      "[codecarbon INFO @ 10:07:07] Energy consumed for all CPUs : 0.041451 kWh. All CPUs Power : 42.5 W\n",
      "[codecarbon INFO @ 10:07:07] 0.052917 kWh of electricity used since the begining.\n"
     ]
    },
    {
     "name": "stdout",
     "output_type": "stream",
     "text": [
      "1/1 - 9s - loss: 0.1141 - accuracy: 0.9599 - val_loss: 2.7232 - val_accuracy: 0.5186\n",
      "\n",
      "Epoch 00339: val_loss did not improve from 0.69310\n",
      "Epoch 340/500\n",
      "1/1 - 9s - loss: 0.1165 - accuracy: 0.9585 - val_loss: 2.7371 - val_accuracy: 0.5196\n"
     ]
    },
    {
     "name": "stderr",
     "output_type": "stream",
     "text": [
      "[codecarbon INFO @ 10:07:22] Energy consumed for RAM : 0.011515 kWh. RAM Power : 11.759872913360596 W\n",
      "[codecarbon INFO @ 10:07:22] Energy consumed for all CPUs : 0.041628 kWh. All CPUs Power : 42.5 W\n",
      "[codecarbon INFO @ 10:07:22] 0.053143 kWh of electricity used since the begining.\n"
     ]
    },
    {
     "name": "stdout",
     "output_type": "stream",
     "text": [
      "\n",
      "Epoch 00340: val_loss did not improve from 0.69310\n",
      "Epoch 341/500\n",
      "1/1 - 9s - loss: 0.1122 - accuracy: 0.9612 - val_loss: 2.7225 - val_accuracy: 0.5172\n",
      "\n",
      "Epoch 00341: val_loss did not improve from 0.69310\n",
      "Epoch 342/500\n"
     ]
    },
    {
     "name": "stderr",
     "output_type": "stream",
     "text": [
      "[codecarbon INFO @ 10:07:37] Energy consumed for RAM : 0.011564 kWh. RAM Power : 11.759872913360596 W\n",
      "[codecarbon INFO @ 10:07:37] Energy consumed for all CPUs : 0.041805 kWh. All CPUs Power : 42.5 W\n",
      "[codecarbon INFO @ 10:07:37] 0.053369 kWh of electricity used since the begining.\n"
     ]
    },
    {
     "name": "stdout",
     "output_type": "stream",
     "text": [
      "1/1 - 9s - loss: 0.1128 - accuracy: 0.9616 - val_loss: 2.7222 - val_accuracy: 0.5203\n",
      "\n",
      "Epoch 00342: val_loss did not improve from 0.69310\n",
      "Epoch 343/500\n",
      "1/1 - 9s - loss: 0.1150 - accuracy: 0.9614 - val_loss: 2.7641 - val_accuracy: 0.5158\n",
      "\n",
      "Epoch 00343: val_loss did not improve from 0.69310\n",
      "Epoch 344/500\n"
     ]
    },
    {
     "name": "stderr",
     "output_type": "stream",
     "text": [
      "[codecarbon INFO @ 10:07:52] Energy consumed for RAM : 0.011613 kWh. RAM Power : 11.759872913360596 W\n",
      "[codecarbon INFO @ 10:07:52] Energy consumed for all CPUs : 0.041982 kWh. All CPUs Power : 42.5 W\n",
      "[codecarbon INFO @ 10:07:52] 0.053595 kWh of electricity used since the begining.\n"
     ]
    },
    {
     "name": "stdout",
     "output_type": "stream",
     "text": [
      "1/1 - 9s - loss: 0.1187 - accuracy: 0.9592 - val_loss: 2.7395 - val_accuracy: 0.5190\n",
      "\n",
      "Epoch 00344: val_loss did not improve from 0.69310\n",
      "Epoch 345/500\n",
      "1/1 - 9s - loss: 0.1145 - accuracy: 0.9596 - val_loss: 2.7513 - val_accuracy: 0.5177\n",
      "\n",
      "Epoch 00345: val_loss did not improve from 0.69310\n",
      "Epoch 346/500\n"
     ]
    },
    {
     "name": "stderr",
     "output_type": "stream",
     "text": [
      "[codecarbon INFO @ 10:08:07] Energy consumed for RAM : 0.011662 kWh. RAM Power : 11.759872913360596 W\n",
      "[codecarbon INFO @ 10:08:07] Energy consumed for all CPUs : 0.042159 kWh. All CPUs Power : 42.5 W\n",
      "[codecarbon INFO @ 10:08:07] 0.053821 kWh of electricity used since the begining.\n"
     ]
    },
    {
     "name": "stdout",
     "output_type": "stream",
     "text": [
      "1/1 - 9s - loss: 0.1182 - accuracy: 0.9587 - val_loss: 2.7903 - val_accuracy: 0.5188\n",
      "\n",
      "Epoch 00346: val_loss did not improve from 0.69310\n",
      "Epoch 347/500\n"
     ]
    },
    {
     "name": "stderr",
     "output_type": "stream",
     "text": [
      "[codecarbon INFO @ 10:08:22] Energy consumed for RAM : 0.011711 kWh. RAM Power : 11.759872913360596 W\n",
      "[codecarbon INFO @ 10:08:22] Energy consumed for all CPUs : 0.042336 kWh. All CPUs Power : 42.5 W\n",
      "[codecarbon INFO @ 10:08:22] 0.054047 kWh of electricity used since the begining.\n"
     ]
    },
    {
     "name": "stdout",
     "output_type": "stream",
     "text": [
      "1/1 - 9s - loss: 0.1130 - accuracy: 0.9597 - val_loss: 2.7443 - val_accuracy: 0.5192\n",
      "\n",
      "Epoch 00347: val_loss did not improve from 0.69310\n",
      "Epoch 348/500\n",
      "1/1 - 9s - loss: 0.1131 - accuracy: 0.9607 - val_loss: 2.7246 - val_accuracy: 0.5195\n",
      "\n",
      "Epoch 00348: val_loss did not improve from 0.69310\n",
      "Epoch 349/500\n"
     ]
    },
    {
     "name": "stderr",
     "output_type": "stream",
     "text": [
      "[codecarbon INFO @ 10:08:37] Energy consumed for RAM : 0.011760 kWh. RAM Power : 11.759872913360596 W\n",
      "[codecarbon INFO @ 10:08:37] Energy consumed for all CPUs : 0.042513 kWh. All CPUs Power : 42.5 W\n",
      "[codecarbon INFO @ 10:08:37] 0.054273 kWh of electricity used since the begining.\n"
     ]
    },
    {
     "name": "stdout",
     "output_type": "stream",
     "text": [
      "1/1 - 9s - loss: 0.1139 - accuracy: 0.9579 - val_loss: 2.7187 - val_accuracy: 0.5204\n",
      "\n",
      "Epoch 00349: val_loss did not improve from 0.69310\n",
      "Epoch 350/500\n",
      "1/1 - 9s - loss: 0.1148 - accuracy: 0.9603 - val_loss: 2.6852 - val_accuracy: 0.5207\n",
      "\n",
      "Epoch 00350: val_loss did not improve from 0.69310\n",
      "Epoch 351/500\n"
     ]
    },
    {
     "name": "stderr",
     "output_type": "stream",
     "text": [
      "[codecarbon INFO @ 10:08:52] Energy consumed for RAM : 0.011809 kWh. RAM Power : 11.759872913360596 W\n",
      "[codecarbon INFO @ 10:08:52] Energy consumed for all CPUs : 0.042690 kWh. All CPUs Power : 42.5 W\n",
      "[codecarbon INFO @ 10:08:52] 0.054499 kWh of electricity used since the begining.\n"
     ]
    },
    {
     "name": "stdout",
     "output_type": "stream",
     "text": [
      "1/1 - 9s - loss: 0.1114 - accuracy: 0.9612 - val_loss: 2.7660 - val_accuracy: 0.5176\n",
      "\n",
      "Epoch 00351: val_loss did not improve from 0.69310\n",
      "Epoch 352/500\n"
     ]
    },
    {
     "name": "stderr",
     "output_type": "stream",
     "text": [
      "[codecarbon INFO @ 10:09:07] Energy consumed for RAM : 0.011858 kWh. RAM Power : 11.759872913360596 W\n",
      "[codecarbon INFO @ 10:09:07] Energy consumed for all CPUs : 0.042868 kWh. All CPUs Power : 42.5 W\n",
      "[codecarbon INFO @ 10:09:07] 0.054726 kWh of electricity used since the begining.\n"
     ]
    },
    {
     "name": "stdout",
     "output_type": "stream",
     "text": [
      "1/1 - 9s - loss: 0.1127 - accuracy: 0.9596 - val_loss: 2.7846 - val_accuracy: 0.5190\n",
      "\n",
      "Epoch 00352: val_loss did not improve from 0.69310\n",
      "Epoch 353/500\n",
      "1/1 - 9s - loss: 0.1159 - accuracy: 0.9588 - val_loss: 2.8458 - val_accuracy: 0.5181\n",
      "\n",
      "Epoch 00353: val_loss did not improve from 0.69310\n",
      "Epoch 354/500\n"
     ]
    },
    {
     "name": "stderr",
     "output_type": "stream",
     "text": [
      "[codecarbon INFO @ 10:09:22] Energy consumed for RAM : 0.011907 kWh. RAM Power : 11.759872913360596 W\n",
      "[codecarbon INFO @ 10:09:22] Energy consumed for all CPUs : 0.043045 kWh. All CPUs Power : 42.5 W\n",
      "[codecarbon INFO @ 10:09:22] 0.054952 kWh of electricity used since the begining.\n"
     ]
    },
    {
     "name": "stdout",
     "output_type": "stream",
     "text": [
      "1/1 - 9s - loss: 0.1089 - accuracy: 0.9617 - val_loss: 2.8316 - val_accuracy: 0.5173\n",
      "\n",
      "Epoch 00354: val_loss did not improve from 0.69310\n",
      "Epoch 355/500\n",
      "1/1 - 9s - loss: 0.1103 - accuracy: 0.9630 - val_loss: 2.7957 - val_accuracy: 0.5191\n",
      "\n",
      "Epoch 00355: val_loss did not improve from 0.69310\n",
      "Epoch 356/500\n",
      "1/1 - 9s - loss: 0.1099 - accuracy: 0.9625 - val_loss: 2.7614 - val_accuracy: 0.5152\n",
      "\n",
      "Epoch 00356: val_loss did not improve from 0.69310\n",
      "Epoch 357/500\n",
      "1/1 - 9s - loss: 0.1056 - accuracy: 0.9637 - val_loss: 2.7812 - val_accuracy: 0.5172\n",
      "\n",
      "Epoch 00357: val_loss did not improve from 0.69310\n",
      "Epoch 358/500\n"
     ]
    },
    {
     "name": "stderr",
     "output_type": "stream",
     "text": [
      "[codecarbon INFO @ 10:09:52] Energy consumed for RAM : 0.012005 kWh. RAM Power : 11.759872913360596 W\n",
      "[codecarbon INFO @ 10:09:52] Energy consumed for all CPUs : 0.043399 kWh. All CPUs Power : 42.5 W\n",
      "[codecarbon INFO @ 10:09:52] 0.055404 kWh of electricity used since the begining.\n"
     ]
    },
    {
     "name": "stdout",
     "output_type": "stream",
     "text": [
      "1/1 - 9s - loss: 0.1125 - accuracy: 0.9587 - val_loss: 2.7231 - val_accuracy: 0.5159\n",
      "\n",
      "Epoch 00358: val_loss did not improve from 0.69310\n",
      "Epoch 359/500\n"
     ]
    },
    {
     "name": "stderr",
     "output_type": "stream",
     "text": [
      "[codecarbon INFO @ 10:10:07] Energy consumed for RAM : 0.012054 kWh. RAM Power : 11.759872913360596 W\n",
      "[codecarbon INFO @ 10:10:07] Energy consumed for all CPUs : 0.043576 kWh. All CPUs Power : 42.5 W\n",
      "[codecarbon INFO @ 10:10:07] 0.055630 kWh of electricity used since the begining.\n"
     ]
    },
    {
     "name": "stdout",
     "output_type": "stream",
     "text": [
      "1/1 - 9s - loss: 0.1156 - accuracy: 0.9596 - val_loss: 2.7201 - val_accuracy: 0.5221\n",
      "\n",
      "Epoch 00359: val_loss did not improve from 0.69310\n",
      "Epoch 360/500\n",
      "1/1 - 9s - loss: 0.1163 - accuracy: 0.9592 - val_loss: 2.7955 - val_accuracy: 0.5160\n",
      "\n",
      "Epoch 00360: val_loss did not improve from 0.69310\n",
      "Epoch 361/500\n"
     ]
    },
    {
     "name": "stderr",
     "output_type": "stream",
     "text": [
      "[codecarbon INFO @ 10:10:22] Energy consumed for RAM : 0.012103 kWh. RAM Power : 11.759872913360596 W\n",
      "[codecarbon INFO @ 10:10:22] Energy consumed for all CPUs : 0.043753 kWh. All CPUs Power : 42.5 W\n",
      "[codecarbon INFO @ 10:10:22] 0.055856 kWh of electricity used since the begining.\n"
     ]
    },
    {
     "name": "stdout",
     "output_type": "stream",
     "text": [
      "1/1 - 9s - loss: 0.1068 - accuracy: 0.9625 - val_loss: 2.8103 - val_accuracy: 0.5205\n",
      "\n",
      "Epoch 00361: val_loss did not improve from 0.69310\n",
      "Epoch 362/500\n",
      "1/1 - 9s - loss: 0.1142 - accuracy: 0.9608 - val_loss: 2.8056 - val_accuracy: 0.5169\n",
      "\n",
      "Epoch 00362: val_loss did not improve from 0.69310\n",
      "Epoch 363/500\n"
     ]
    },
    {
     "name": "stderr",
     "output_type": "stream",
     "text": [
      "[codecarbon INFO @ 10:10:37] Energy consumed for RAM : 0.012152 kWh. RAM Power : 11.759872913360596 W\n",
      "[codecarbon INFO @ 10:10:37] Energy consumed for all CPUs : 0.043930 kWh. All CPUs Power : 42.5 W\n",
      "[codecarbon INFO @ 10:10:37] 0.056082 kWh of electricity used since the begining.\n"
     ]
    },
    {
     "name": "stdout",
     "output_type": "stream",
     "text": [
      "1/1 - 9s - loss: 0.1082 - accuracy: 0.9635 - val_loss: 2.7912 - val_accuracy: 0.5166\n",
      "\n",
      "Epoch 00363: val_loss did not improve from 0.69310\n",
      "Epoch 364/500\n"
     ]
    },
    {
     "name": "stderr",
     "output_type": "stream",
     "text": [
      "[codecarbon INFO @ 10:10:52] Energy consumed for RAM : 0.012201 kWh. RAM Power : 11.759872913360596 W\n",
      "[codecarbon INFO @ 10:10:52] Energy consumed for all CPUs : 0.044107 kWh. All CPUs Power : 42.5 W\n",
      "[codecarbon INFO @ 10:10:52] 0.056308 kWh of electricity used since the begining.\n"
     ]
    },
    {
     "name": "stdout",
     "output_type": "stream",
     "text": [
      "1/1 - 9s - loss: 0.1088 - accuracy: 0.9635 - val_loss: 2.7930 - val_accuracy: 0.5178\n",
      "\n",
      "Epoch 00364: val_loss did not improve from 0.69310\n",
      "Epoch 365/500\n",
      "1/1 - 9s - loss: 0.1138 - accuracy: 0.9612 - val_loss: 2.7578 - val_accuracy: 0.5221\n",
      "\n",
      "Epoch 00365: val_loss did not improve from 0.69310\n",
      "Epoch 366/500\n"
     ]
    },
    {
     "name": "stderr",
     "output_type": "stream",
     "text": [
      "[codecarbon INFO @ 10:11:07] Energy consumed for RAM : 0.012250 kWh. RAM Power : 11.759872913360596 W\n",
      "[codecarbon INFO @ 10:11:07] Energy consumed for all CPUs : 0.044284 kWh. All CPUs Power : 42.5 W\n",
      "[codecarbon INFO @ 10:11:07] 0.056534 kWh of electricity used since the begining.\n"
     ]
    },
    {
     "name": "stdout",
     "output_type": "stream",
     "text": [
      "1/1 - 9s - loss: 0.1134 - accuracy: 0.9615 - val_loss: 2.7826 - val_accuracy: 0.5168\n",
      "\n",
      "Epoch 00366: val_loss did not improve from 0.69310\n",
      "Epoch 367/500\n",
      "1/1 - 9s - loss: 0.1095 - accuracy: 0.9627 - val_loss: 2.7332 - val_accuracy: 0.5179\n",
      "\n",
      "Epoch 00367: val_loss did not improve from 0.69310\n",
      "Epoch 368/500\n"
     ]
    },
    {
     "name": "stderr",
     "output_type": "stream",
     "text": [
      "[codecarbon INFO @ 10:11:22] Energy consumed for RAM : 0.012299 kWh. RAM Power : 11.759872913360596 W\n",
      "[codecarbon INFO @ 10:11:22] Energy consumed for all CPUs : 0.044461 kWh. All CPUs Power : 42.5 W\n",
      "[codecarbon INFO @ 10:11:22] 0.056760 kWh of electricity used since the begining.\n"
     ]
    },
    {
     "name": "stdout",
     "output_type": "stream",
     "text": [
      "1/1 - 9s - loss: 0.1123 - accuracy: 0.9612 - val_loss: 2.7839 - val_accuracy: 0.5201\n",
      "\n",
      "Epoch 00368: val_loss did not improve from 0.69310\n",
      "Epoch 369/500\n"
     ]
    },
    {
     "name": "stderr",
     "output_type": "stream",
     "text": [
      "[codecarbon INFO @ 10:11:37] Energy consumed for RAM : 0.012348 kWh. RAM Power : 11.759872913360596 W\n",
      "[codecarbon INFO @ 10:11:37] Energy consumed for all CPUs : 0.044638 kWh. All CPUs Power : 42.5 W\n",
      "[codecarbon INFO @ 10:11:37] 0.056986 kWh of electricity used since the begining.\n"
     ]
    },
    {
     "name": "stdout",
     "output_type": "stream",
     "text": [
      "1/1 - 9s - loss: 0.1149 - accuracy: 0.9593 - val_loss: 2.7668 - val_accuracy: 0.5182\n",
      "\n",
      "Epoch 00369: val_loss did not improve from 0.69310\n",
      "Epoch 370/500\n",
      "1/1 - 9s - loss: 0.1109 - accuracy: 0.9625 - val_loss: 2.7841 - val_accuracy: 0.5163\n",
      "\n",
      "Epoch 00370: val_loss did not improve from 0.69310\n",
      "Epoch 371/500\n"
     ]
    },
    {
     "name": "stderr",
     "output_type": "stream",
     "text": [
      "[codecarbon INFO @ 10:11:52] Energy consumed for RAM : 0.012397 kWh. RAM Power : 11.759872913360596 W\n",
      "[codecarbon INFO @ 10:11:52] Energy consumed for all CPUs : 0.044815 kWh. All CPUs Power : 42.5 W\n",
      "[codecarbon INFO @ 10:11:52] 0.057212 kWh of electricity used since the begining.\n"
     ]
    },
    {
     "name": "stdout",
     "output_type": "stream",
     "text": [
      "1/1 - 9s - loss: 0.1105 - accuracy: 0.9628 - val_loss: 2.8164 - val_accuracy: 0.5204\n",
      "\n",
      "Epoch 00371: val_loss did not improve from 0.69310\n",
      "Epoch 372/500\n",
      "1/1 - 9s - loss: 0.1154 - accuracy: 0.9602 - val_loss: 2.8439 - val_accuracy: 0.5196\n",
      "\n",
      "Epoch 00372: val_loss did not improve from 0.69310\n",
      "Epoch 373/500\n"
     ]
    },
    {
     "name": "stderr",
     "output_type": "stream",
     "text": [
      "[codecarbon INFO @ 10:12:07] Energy consumed for RAM : 0.012446 kWh. RAM Power : 11.759872913360596 W\n",
      "[codecarbon INFO @ 10:12:07] Energy consumed for all CPUs : 0.044992 kWh. All CPUs Power : 42.5 W\n",
      "[codecarbon INFO @ 10:12:07] 0.057438 kWh of electricity used since the begining.\n"
     ]
    },
    {
     "name": "stdout",
     "output_type": "stream",
     "text": [
      "1/1 - 9s - loss: 0.1071 - accuracy: 0.9632 - val_loss: 2.7824 - val_accuracy: 0.5204\n",
      "\n",
      "Epoch 00373: val_loss did not improve from 0.69310\n",
      "Epoch 374/500\n"
     ]
    },
    {
     "name": "stderr",
     "output_type": "stream",
     "text": [
      "[codecarbon INFO @ 10:12:22] Energy consumed for RAM : 0.012495 kWh. RAM Power : 11.759872913360596 W\n",
      "[codecarbon INFO @ 10:12:22] Energy consumed for all CPUs : 0.045169 kWh. All CPUs Power : 42.5 W\n",
      "[codecarbon INFO @ 10:12:22] 0.057664 kWh of electricity used since the begining.\n"
     ]
    },
    {
     "name": "stdout",
     "output_type": "stream",
     "text": [
      "1/1 - 9s - loss: 0.1094 - accuracy: 0.9613 - val_loss: 2.7823 - val_accuracy: 0.5212\n",
      "\n",
      "Epoch 00374: val_loss did not improve from 0.69310\n",
      "Epoch 375/500\n",
      "1/1 - 9s - loss: 0.1080 - accuracy: 0.9632 - val_loss: 2.8084 - val_accuracy: 0.5157\n",
      "\n",
      "Epoch 00375: val_loss did not improve from 0.69310\n",
      "Epoch 376/500\n"
     ]
    },
    {
     "name": "stderr",
     "output_type": "stream",
     "text": [
      "[codecarbon INFO @ 10:12:37] Energy consumed for RAM : 0.012544 kWh. RAM Power : 11.759872913360596 W\n",
      "[codecarbon INFO @ 10:12:37] Energy consumed for all CPUs : 0.045346 kWh. All CPUs Power : 42.5 W\n",
      "[codecarbon INFO @ 10:12:37] 0.057890 kWh of electricity used since the begining.\n"
     ]
    },
    {
     "name": "stdout",
     "output_type": "stream",
     "text": [
      "1/1 - 9s - loss: 0.1086 - accuracy: 0.9619 - val_loss: 2.8411 - val_accuracy: 0.5200\n",
      "\n",
      "Epoch 00376: val_loss did not improve from 0.69310\n",
      "Epoch 377/500\n",
      "1/1 - 9s - loss: 0.1046 - accuracy: 0.9631 - val_loss: 2.8684 - val_accuracy: 0.5168\n",
      "\n",
      "Epoch 00377: val_loss did not improve from 0.69310\n",
      "Epoch 378/500\n"
     ]
    },
    {
     "name": "stderr",
     "output_type": "stream",
     "text": [
      "[codecarbon INFO @ 10:12:52] Energy consumed for RAM : 0.012593 kWh. RAM Power : 11.759872913360596 W\n",
      "[codecarbon INFO @ 10:12:52] Energy consumed for all CPUs : 0.045523 kWh. All CPUs Power : 42.5 W\n",
      "[codecarbon INFO @ 10:12:52] 0.058116 kWh of electricity used since the begining.\n"
     ]
    },
    {
     "name": "stdout",
     "output_type": "stream",
     "text": [
      "1/1 - 9s - loss: 0.1124 - accuracy: 0.9607 - val_loss: 2.8602 - val_accuracy: 0.5235\n",
      "\n",
      "Epoch 00378: val_loss did not improve from 0.69310\n",
      "Epoch 379/500\n"
     ]
    },
    {
     "name": "stderr",
     "output_type": "stream",
     "text": [
      "[codecarbon INFO @ 10:13:07] Energy consumed for RAM : 0.012642 kWh. RAM Power : 11.759872913360596 W\n",
      "[codecarbon INFO @ 10:13:07] Energy consumed for all CPUs : 0.045701 kWh. All CPUs Power : 42.5 W\n",
      "[codecarbon INFO @ 10:13:07] 0.058342 kWh of electricity used since the begining.\n"
     ]
    },
    {
     "name": "stdout",
     "output_type": "stream",
     "text": [
      "1/1 - 9s - loss: 0.1151 - accuracy: 0.9592 - val_loss: 2.8275 - val_accuracy: 0.5199\n",
      "\n",
      "Epoch 00379: val_loss did not improve from 0.69310\n",
      "Epoch 380/500\n",
      "1/1 - 9s - loss: 0.1108 - accuracy: 0.9626 - val_loss: 2.8368 - val_accuracy: 0.5193\n",
      "\n",
      "Epoch 00380: val_loss did not improve from 0.69310\n",
      "Epoch 381/500\n"
     ]
    },
    {
     "name": "stderr",
     "output_type": "stream",
     "text": [
      "[codecarbon INFO @ 10:13:22] Energy consumed for RAM : 0.012691 kWh. RAM Power : 11.759872913360596 W\n",
      "[codecarbon INFO @ 10:13:22] Energy consumed for all CPUs : 0.045878 kWh. All CPUs Power : 42.5 W\n",
      "[codecarbon INFO @ 10:13:22] 0.058568 kWh of electricity used since the begining.\n"
     ]
    },
    {
     "name": "stdout",
     "output_type": "stream",
     "text": [
      "1/1 - 9s - loss: 0.1075 - accuracy: 0.9625 - val_loss: 2.8085 - val_accuracy: 0.5184\n",
      "\n",
      "Epoch 00381: val_loss did not improve from 0.69310\n",
      "Epoch 382/500\n",
      "1/1 - 9s - loss: 0.1111 - accuracy: 0.9619 - val_loss: 2.7951 - val_accuracy: 0.5196\n",
      "\n",
      "Epoch 00382: val_loss did not improve from 0.69310\n",
      "Epoch 383/500\n"
     ]
    },
    {
     "name": "stderr",
     "output_type": "stream",
     "text": [
      "[codecarbon INFO @ 10:13:37] Energy consumed for RAM : 0.012740 kWh. RAM Power : 11.759872913360596 W\n",
      "[codecarbon INFO @ 10:13:37] Energy consumed for all CPUs : 0.046055 kWh. All CPUs Power : 42.5 W\n",
      "[codecarbon INFO @ 10:13:37] 0.058794 kWh of electricity used since the begining.\n"
     ]
    },
    {
     "name": "stdout",
     "output_type": "stream",
     "text": [
      "1/1 - 9s - loss: 0.1154 - accuracy: 0.9608 - val_loss: 2.8525 - val_accuracy: 0.5187\n",
      "\n",
      "Epoch 00383: val_loss did not improve from 0.69310\n",
      "Epoch 384/500\n"
     ]
    },
    {
     "name": "stderr",
     "output_type": "stream",
     "text": [
      "[codecarbon INFO @ 10:13:52] Energy consumed for RAM : 0.012789 kWh. RAM Power : 11.759872913360596 W\n",
      "[codecarbon INFO @ 10:13:52] Energy consumed for all CPUs : 0.046232 kWh. All CPUs Power : 42.5 W\n",
      "[codecarbon INFO @ 10:13:52] 0.059021 kWh of electricity used since the begining.\n"
     ]
    },
    {
     "name": "stdout",
     "output_type": "stream",
     "text": [
      "1/1 - 9s - loss: 0.1111 - accuracy: 0.9621 - val_loss: 2.8068 - val_accuracy: 0.5214\n",
      "\n",
      "Epoch 00384: val_loss did not improve from 0.69310\n",
      "Epoch 385/500\n",
      "1/1 - 9s - loss: 0.1114 - accuracy: 0.9617 - val_loss: 2.8669 - val_accuracy: 0.5222\n",
      "\n",
      "Epoch 00385: val_loss did not improve from 0.69310\n",
      "Epoch 386/500\n"
     ]
    },
    {
     "name": "stderr",
     "output_type": "stream",
     "text": [
      "[codecarbon INFO @ 10:14:07] Energy consumed for RAM : 0.012838 kWh. RAM Power : 11.759872913360596 W\n",
      "[codecarbon INFO @ 10:14:07] Energy consumed for all CPUs : 0.046409 kWh. All CPUs Power : 42.5 W\n",
      "[codecarbon INFO @ 10:14:07] 0.059247 kWh of electricity used since the begining.\n"
     ]
    },
    {
     "name": "stdout",
     "output_type": "stream",
     "text": [
      "1/1 - 9s - loss: 0.1115 - accuracy: 0.9616 - val_loss: 2.8603 - val_accuracy: 0.5206\n",
      "\n",
      "Epoch 00386: val_loss did not improve from 0.69310\n",
      "Epoch 387/500\n",
      "1/1 - 9s - loss: 0.1120 - accuracy: 0.9617 - val_loss: 2.8165 - val_accuracy: 0.5175\n",
      "\n",
      "Epoch 00387: val_loss did not improve from 0.69310\n",
      "Epoch 388/500\n"
     ]
    },
    {
     "name": "stderr",
     "output_type": "stream",
     "text": [
      "[codecarbon INFO @ 10:14:22] Energy consumed for RAM : 0.012887 kWh. RAM Power : 11.759872913360596 W\n",
      "[codecarbon INFO @ 10:14:22] Energy consumed for all CPUs : 0.046586 kWh. All CPUs Power : 42.5 W\n",
      "[codecarbon INFO @ 10:14:22] 0.059473 kWh of electricity used since the begining.\n"
     ]
    },
    {
     "name": "stdout",
     "output_type": "stream",
     "text": [
      "1/1 - 9s - loss: 0.1088 - accuracy: 0.9620 - val_loss: 2.8157 - val_accuracy: 0.5178\n",
      "\n",
      "Epoch 00388: val_loss did not improve from 0.69310\n",
      "Epoch 389/500\n",
      "1/1 - 9s - loss: 0.1097 - accuracy: 0.9641 - val_loss: 2.8054 - val_accuracy: 0.5189\n"
     ]
    },
    {
     "name": "stderr",
     "output_type": "stream",
     "text": [
      "[codecarbon INFO @ 10:14:37] Energy consumed for RAM : 0.012936 kWh. RAM Power : 11.759872913360596 W\n",
      "[codecarbon INFO @ 10:14:37] Energy consumed for all CPUs : 0.046763 kWh. All CPUs Power : 42.5 W\n",
      "[codecarbon INFO @ 10:14:37] 0.059699 kWh of electricity used since the begining.\n"
     ]
    },
    {
     "name": "stdout",
     "output_type": "stream",
     "text": [
      "\n",
      "Epoch 00389: val_loss did not improve from 0.69310\n",
      "Epoch 390/500\n",
      "1/1 - 9s - loss: 0.1075 - accuracy: 0.9620 - val_loss: 2.8784 - val_accuracy: 0.5167\n",
      "\n",
      "Epoch 00390: val_loss did not improve from 0.69310\n",
      "Epoch 391/500\n"
     ]
    },
    {
     "name": "stderr",
     "output_type": "stream",
     "text": [
      "[codecarbon INFO @ 10:14:52] Energy consumed for RAM : 0.012985 kWh. RAM Power : 11.759872913360596 W\n",
      "[codecarbon INFO @ 10:14:52] Energy consumed for all CPUs : 0.046940 kWh. All CPUs Power : 42.5 W\n",
      "[codecarbon INFO @ 10:14:52] 0.059925 kWh of electricity used since the begining.\n"
     ]
    },
    {
     "name": "stdout",
     "output_type": "stream",
     "text": [
      "1/1 - 9s - loss: 0.1102 - accuracy: 0.9645 - val_loss: 2.8488 - val_accuracy: 0.5184\n",
      "\n",
      "Epoch 00391: val_loss did not improve from 0.69310\n",
      "Epoch 392/500\n",
      "1/1 - 9s - loss: 0.1101 - accuracy: 0.9620 - val_loss: 2.8998 - val_accuracy: 0.5204\n",
      "\n",
      "Epoch 00392: val_loss did not improve from 0.69310\n",
      "Epoch 393/500\n"
     ]
    },
    {
     "name": "stderr",
     "output_type": "stream",
     "text": [
      "[codecarbon INFO @ 10:15:07] Energy consumed for RAM : 0.013034 kWh. RAM Power : 11.759872913360596 W\n",
      "[codecarbon INFO @ 10:15:07] Energy consumed for all CPUs : 0.047117 kWh. All CPUs Power : 42.5 W\n",
      "[codecarbon INFO @ 10:15:07] 0.060151 kWh of electricity used since the begining.\n"
     ]
    },
    {
     "name": "stdout",
     "output_type": "stream",
     "text": [
      "1/1 - 9s - loss: 0.1060 - accuracy: 0.9625 - val_loss: 2.8783 - val_accuracy: 0.5209\n",
      "\n",
      "Epoch 00393: val_loss did not improve from 0.69310\n",
      "Epoch 394/500\n",
      "1/1 - 9s - loss: 0.1102 - accuracy: 0.9617 - val_loss: 2.8785 - val_accuracy: 0.5184\n",
      "\n",
      "Epoch 00394: val_loss did not improve from 0.69310\n",
      "Epoch 395/500\n"
     ]
    },
    {
     "name": "stderr",
     "output_type": "stream",
     "text": [
      "[codecarbon INFO @ 10:15:22] Energy consumed for RAM : 0.013083 kWh. RAM Power : 11.759872913360596 W\n",
      "[codecarbon INFO @ 10:15:22] Energy consumed for all CPUs : 0.047294 kWh. All CPUs Power : 42.5 W\n",
      "[codecarbon INFO @ 10:15:22] 0.060377 kWh of electricity used since the begining.\n"
     ]
    },
    {
     "name": "stdout",
     "output_type": "stream",
     "text": [
      "1/1 - 10s - loss: 0.1054 - accuracy: 0.9641 - val_loss: 2.8254 - val_accuracy: 0.5179\n",
      "\n",
      "Epoch 00395: val_loss did not improve from 0.69310\n",
      "Epoch 396/500\n"
     ]
    },
    {
     "name": "stderr",
     "output_type": "stream",
     "text": [
      "[codecarbon INFO @ 10:15:37] Energy consumed for RAM : 0.013132 kWh. RAM Power : 11.759872913360596 W\n",
      "[codecarbon INFO @ 10:15:37] Energy consumed for all CPUs : 0.047471 kWh. All CPUs Power : 42.5 W\n",
      "[codecarbon INFO @ 10:15:37] 0.060603 kWh of electricity used since the begining.\n"
     ]
    },
    {
     "name": "stdout",
     "output_type": "stream",
     "text": [
      "1/1 - 9s - loss: 0.1050 - accuracy: 0.9644 - val_loss: 2.7666 - val_accuracy: 0.5193\n",
      "\n",
      "Epoch 00396: val_loss did not improve from 0.69310\n",
      "Epoch 397/500\n",
      "1/1 - 9s - loss: 0.1052 - accuracy: 0.9639 - val_loss: 2.7600 - val_accuracy: 0.5147\n",
      "\n",
      "Epoch 00397: val_loss did not improve from 0.69310\n",
      "Epoch 398/500\n"
     ]
    },
    {
     "name": "stderr",
     "output_type": "stream",
     "text": [
      "[codecarbon INFO @ 10:15:52] Energy consumed for RAM : 0.013181 kWh. RAM Power : 11.759872913360596 W\n",
      "[codecarbon INFO @ 10:15:52] Energy consumed for all CPUs : 0.047648 kWh. All CPUs Power : 42.5 W\n",
      "[codecarbon INFO @ 10:15:52] 0.060829 kWh of electricity used since the begining.\n"
     ]
    },
    {
     "name": "stdout",
     "output_type": "stream",
     "text": [
      "1/1 - 9s - loss: 0.1074 - accuracy: 0.9628 - val_loss: 2.8020 - val_accuracy: 0.5206\n",
      "\n",
      "Epoch 00398: val_loss did not improve from 0.69310\n",
      "Epoch 399/500\n"
     ]
    },
    {
     "name": "stderr",
     "output_type": "stream",
     "text": [
      "[codecarbon INFO @ 10:16:07] Energy consumed for RAM : 0.013230 kWh. RAM Power : 11.759872913360596 W\n",
      "[codecarbon INFO @ 10:16:07] Energy consumed for all CPUs : 0.047825 kWh. All CPUs Power : 42.5 W\n",
      "[codecarbon INFO @ 10:16:07] 0.061055 kWh of electricity used since the begining.\n"
     ]
    },
    {
     "name": "stdout",
     "output_type": "stream",
     "text": [
      "1/1 - 9s - loss: 0.1101 - accuracy: 0.9635 - val_loss: 2.8866 - val_accuracy: 0.5185\n",
      "\n",
      "Epoch 00399: val_loss did not improve from 0.69310\n",
      "Epoch 400/500\n",
      "1/1 - 9s - loss: 0.1033 - accuracy: 0.9637 - val_loss: 2.9400 - val_accuracy: 0.5186\n",
      "\n",
      "Epoch 00400: val_loss did not improve from 0.69310\n",
      "Epoch 401/500\n"
     ]
    },
    {
     "name": "stderr",
     "output_type": "stream",
     "text": [
      "[codecarbon INFO @ 10:16:22] Energy consumed for RAM : 0.013279 kWh. RAM Power : 11.759872913360596 W\n",
      "[codecarbon INFO @ 10:16:22] Energy consumed for all CPUs : 0.048002 kWh. All CPUs Power : 42.5 W\n",
      "[codecarbon INFO @ 10:16:22] 0.061281 kWh of electricity used since the begining.\n"
     ]
    },
    {
     "name": "stdout",
     "output_type": "stream",
     "text": [
      "1/1 - 9s - loss: 0.1056 - accuracy: 0.9637 - val_loss: 2.9015 - val_accuracy: 0.5215\n",
      "\n",
      "Epoch 00401: val_loss did not improve from 0.69310\n",
      "Epoch 402/500\n",
      "1/1 - 9s - loss: 0.1035 - accuracy: 0.9641 - val_loss: 2.9039 - val_accuracy: 0.5222\n",
      "\n",
      "Epoch 00402: val_loss did not improve from 0.69310\n",
      "Epoch 403/500\n"
     ]
    },
    {
     "name": "stderr",
     "output_type": "stream",
     "text": [
      "[codecarbon INFO @ 10:16:37] Energy consumed for RAM : 0.013328 kWh. RAM Power : 11.759872913360596 W\n",
      "[codecarbon INFO @ 10:16:37] Energy consumed for all CPUs : 0.048179 kWh. All CPUs Power : 42.5 W\n",
      "[codecarbon INFO @ 10:16:37] 0.061507 kWh of electricity used since the begining.\n"
     ]
    },
    {
     "name": "stdout",
     "output_type": "stream",
     "text": [
      "1/1 - 9s - loss: 0.1005 - accuracy: 0.9655 - val_loss: 2.8621 - val_accuracy: 0.5167\n",
      "\n",
      "Epoch 00403: val_loss did not improve from 0.69310\n",
      "Epoch 404/500\n"
     ]
    },
    {
     "name": "stderr",
     "output_type": "stream",
     "text": [
      "[codecarbon INFO @ 10:16:52] Energy consumed for RAM : 0.013376 kWh. RAM Power : 11.759872913360596 W\n",
      "[codecarbon INFO @ 10:16:52] Energy consumed for all CPUs : 0.048356 kWh. All CPUs Power : 42.5 W\n",
      "[codecarbon INFO @ 10:16:52] 0.061733 kWh of electricity used since the begining.\n"
     ]
    },
    {
     "name": "stdout",
     "output_type": "stream",
     "text": [
      "1/1 - 9s - loss: 0.1076 - accuracy: 0.9629 - val_loss: 2.8670 - val_accuracy: 0.5164\n",
      "\n",
      "Epoch 00404: val_loss did not improve from 0.69310\n",
      "Epoch 405/500\n",
      "1/1 - 9s - loss: 0.1042 - accuracy: 0.9635 - val_loss: 2.8412 - val_accuracy: 0.5173\n",
      "\n",
      "Epoch 00405: val_loss did not improve from 0.69310\n",
      "Epoch 406/500\n"
     ]
    },
    {
     "name": "stderr",
     "output_type": "stream",
     "text": [
      "[codecarbon INFO @ 10:17:07] Energy consumed for RAM : 0.013425 kWh. RAM Power : 11.759872913360596 W\n",
      "[codecarbon INFO @ 10:17:07] Energy consumed for all CPUs : 0.048534 kWh. All CPUs Power : 42.5 W\n",
      "[codecarbon INFO @ 10:17:07] 0.061959 kWh of electricity used since the begining.\n"
     ]
    },
    {
     "name": "stdout",
     "output_type": "stream",
     "text": [
      "1/1 - 9s - loss: 0.1089 - accuracy: 0.9618 - val_loss: 2.7971 - val_accuracy: 0.5238\n",
      "\n",
      "Epoch 00406: val_loss did not improve from 0.69310\n",
      "Epoch 407/500\n",
      "1/1 - 9s - loss: 0.1064 - accuracy: 0.9646 - val_loss: 2.8451 - val_accuracy: 0.5177\n",
      "\n",
      "Epoch 00407: val_loss did not improve from 0.69310\n",
      "Epoch 408/500\n"
     ]
    },
    {
     "name": "stderr",
     "output_type": "stream",
     "text": [
      "[codecarbon INFO @ 10:17:22] Energy consumed for RAM : 0.013474 kWh. RAM Power : 11.759872913360596 W\n",
      "[codecarbon INFO @ 10:17:22] Energy consumed for all CPUs : 0.048711 kWh. All CPUs Power : 42.5 W\n",
      "[codecarbon INFO @ 10:17:22] 0.062185 kWh of electricity used since the begining.\n"
     ]
    },
    {
     "name": "stdout",
     "output_type": "stream",
     "text": [
      "1/1 - 9s - loss: 0.1056 - accuracy: 0.9628 - val_loss: 2.8939 - val_accuracy: 0.5179\n",
      "\n",
      "Epoch 00408: val_loss did not improve from 0.69310\n",
      "Epoch 409/500\n"
     ]
    },
    {
     "name": "stderr",
     "output_type": "stream",
     "text": [
      "[codecarbon INFO @ 10:17:37] Energy consumed for RAM : 0.013523 kWh. RAM Power : 11.759872913360596 W\n",
      "[codecarbon INFO @ 10:17:37] Energy consumed for all CPUs : 0.048888 kWh. All CPUs Power : 42.5 W\n",
      "[codecarbon INFO @ 10:17:37] 0.062411 kWh of electricity used since the begining.\n"
     ]
    },
    {
     "name": "stdout",
     "output_type": "stream",
     "text": [
      "1/1 - 9s - loss: 0.1094 - accuracy: 0.9624 - val_loss: 2.8936 - val_accuracy: 0.5171\n",
      "\n",
      "Epoch 00409: val_loss did not improve from 0.69310\n",
      "Epoch 410/500\n",
      "1/1 - 9s - loss: 0.1116 - accuracy: 0.9610 - val_loss: 2.8486 - val_accuracy: 0.5181\n",
      "\n",
      "Epoch 00410: val_loss did not improve from 0.69310\n",
      "Epoch 411/500\n"
     ]
    },
    {
     "name": "stderr",
     "output_type": "stream",
     "text": [
      "[codecarbon INFO @ 10:17:52] Energy consumed for RAM : 0.013572 kWh. RAM Power : 11.759872913360596 W\n",
      "[codecarbon INFO @ 10:17:52] Energy consumed for all CPUs : 0.049065 kWh. All CPUs Power : 42.5 W\n",
      "[codecarbon INFO @ 10:17:52] 0.062637 kWh of electricity used since the begining.\n"
     ]
    },
    {
     "name": "stdout",
     "output_type": "stream",
     "text": [
      "1/1 - 9s - loss: 0.1046 - accuracy: 0.9643 - val_loss: 2.9334 - val_accuracy: 0.5156\n",
      "\n",
      "Epoch 00411: val_loss did not improve from 0.69310\n",
      "Epoch 412/500\n",
      "1/1 - 9s - loss: 0.1094 - accuracy: 0.9625 - val_loss: 2.8787 - val_accuracy: 0.5210\n",
      "\n",
      "Epoch 00412: val_loss did not improve from 0.69310\n",
      "Epoch 413/500\n"
     ]
    },
    {
     "name": "stderr",
     "output_type": "stream",
     "text": [
      "[codecarbon INFO @ 10:18:07] Energy consumed for RAM : 0.013621 kWh. RAM Power : 11.759872913360596 W\n",
      "[codecarbon INFO @ 10:18:07] Energy consumed for all CPUs : 0.049242 kWh. All CPUs Power : 42.5 W\n",
      "[codecarbon INFO @ 10:18:07] 0.062863 kWh of electricity used since the begining.\n"
     ]
    },
    {
     "name": "stdout",
     "output_type": "stream",
     "text": [
      "1/1 - 9s - loss: 0.1077 - accuracy: 0.9638 - val_loss: 2.8686 - val_accuracy: 0.5189\n",
      "\n",
      "Epoch 00413: val_loss did not improve from 0.69310\n",
      "Epoch 414/500\n",
      "1/1 - 9s - loss: 0.1059 - accuracy: 0.9632 - val_loss: 2.8476 - val_accuracy: 0.5187\n",
      "\n",
      "Epoch 00414: val_loss did not improve from 0.69310\n",
      "Epoch 415/500\n"
     ]
    },
    {
     "name": "stderr",
     "output_type": "stream",
     "text": [
      "[codecarbon INFO @ 10:18:22] Energy consumed for RAM : 0.013670 kWh. RAM Power : 11.759872913360596 W\n",
      "[codecarbon INFO @ 10:18:22] Energy consumed for all CPUs : 0.049419 kWh. All CPUs Power : 42.5 W\n",
      "[codecarbon INFO @ 10:18:22] 0.063089 kWh of electricity used since the begining.\n"
     ]
    },
    {
     "name": "stdout",
     "output_type": "stream",
     "text": [
      "1/1 - 9s - loss: 0.1003 - accuracy: 0.9666 - val_loss: 2.8679 - val_accuracy: 0.5181\n",
      "\n",
      "Epoch 00415: val_loss did not improve from 0.69310\n",
      "Epoch 416/500\n"
     ]
    },
    {
     "name": "stderr",
     "output_type": "stream",
     "text": [
      "[codecarbon INFO @ 10:18:37] Energy consumed for RAM : 0.013719 kWh. RAM Power : 11.759872913360596 W\n",
      "[codecarbon INFO @ 10:18:37] Energy consumed for all CPUs : 0.049596 kWh. All CPUs Power : 42.5 W\n",
      "[codecarbon INFO @ 10:18:37] 0.063315 kWh of electricity used since the begining.\n"
     ]
    },
    {
     "name": "stdout",
     "output_type": "stream",
     "text": [
      "1/1 - 9s - loss: 0.1035 - accuracy: 0.9644 - val_loss: 2.8525 - val_accuracy: 0.5201\n",
      "\n",
      "Epoch 00416: val_loss did not improve from 0.69310\n",
      "Epoch 417/500\n",
      "1/1 - 9s - loss: 0.1063 - accuracy: 0.9636 - val_loss: 2.8873 - val_accuracy: 0.5196\n",
      "\n",
      "Epoch 00417: val_loss did not improve from 0.69310\n",
      "Epoch 418/500\n"
     ]
    },
    {
     "name": "stderr",
     "output_type": "stream",
     "text": [
      "[codecarbon INFO @ 10:18:52] Energy consumed for RAM : 0.013768 kWh. RAM Power : 11.759872913360596 W\n",
      "[codecarbon INFO @ 10:18:52] Energy consumed for all CPUs : 0.049773 kWh. All CPUs Power : 42.5 W\n",
      "[codecarbon INFO @ 10:18:52] 0.063541 kWh of electricity used since the begining.\n"
     ]
    },
    {
     "name": "stdout",
     "output_type": "stream",
     "text": [
      "1/1 - 9s - loss: 0.1064 - accuracy: 0.9632 - val_loss: 2.8722 - val_accuracy: 0.5208\n",
      "\n",
      "Epoch 00418: val_loss did not improve from 0.69310\n",
      "Epoch 419/500\n",
      "1/1 - 9s - loss: 0.1039 - accuracy: 0.9639 - val_loss: 2.9216 - val_accuracy: 0.5198\n",
      "\n",
      "Epoch 00419: val_loss did not improve from 0.69310\n",
      "Epoch 420/500\n"
     ]
    },
    {
     "name": "stderr",
     "output_type": "stream",
     "text": [
      "[codecarbon INFO @ 10:19:07] Energy consumed for RAM : 0.013817 kWh. RAM Power : 11.759872913360596 W\n",
      "[codecarbon INFO @ 10:19:07] Energy consumed for all CPUs : 0.049950 kWh. All CPUs Power : 42.5 W\n",
      "[codecarbon INFO @ 10:19:07] 0.063767 kWh of electricity used since the begining.\n"
     ]
    },
    {
     "name": "stdout",
     "output_type": "stream",
     "text": [
      "1/1 - 9s - loss: 0.1047 - accuracy: 0.9639 - val_loss: 2.9491 - val_accuracy: 0.5175\n",
      "\n",
      "Epoch 00420: val_loss did not improve from 0.69310\n",
      "Epoch 421/500\n"
     ]
    },
    {
     "name": "stderr",
     "output_type": "stream",
     "text": [
      "[codecarbon INFO @ 10:19:22] Energy consumed for RAM : 0.013866 kWh. RAM Power : 11.759872913360596 W\n",
      "[codecarbon INFO @ 10:19:22] Energy consumed for all CPUs : 0.050127 kWh. All CPUs Power : 42.5 W\n",
      "[codecarbon INFO @ 10:19:22] 0.063993 kWh of electricity used since the begining.\n"
     ]
    },
    {
     "name": "stdout",
     "output_type": "stream",
     "text": [
      "1/1 - 9s - loss: 0.1123 - accuracy: 0.9619 - val_loss: 2.9098 - val_accuracy: 0.5172\n",
      "\n",
      "Epoch 00421: val_loss did not improve from 0.69310\n",
      "Epoch 422/500\n",
      "1/1 - 9s - loss: 0.0977 - accuracy: 0.9665 - val_loss: 2.9084 - val_accuracy: 0.5219\n",
      "\n",
      "Epoch 00422: val_loss did not improve from 0.69310\n",
      "Epoch 423/500\n"
     ]
    },
    {
     "name": "stderr",
     "output_type": "stream",
     "text": [
      "[codecarbon INFO @ 10:19:37] Energy consumed for RAM : 0.013915 kWh. RAM Power : 11.759872913360596 W\n",
      "[codecarbon INFO @ 10:19:37] Energy consumed for all CPUs : 0.050304 kWh. All CPUs Power : 42.5 W\n",
      "[codecarbon INFO @ 10:19:37] 0.064219 kWh of electricity used since the begining.\n"
     ]
    },
    {
     "name": "stdout",
     "output_type": "stream",
     "text": [
      "1/1 - 9s - loss: 0.1054 - accuracy: 0.9661 - val_loss: 2.8864 - val_accuracy: 0.5207\n",
      "\n",
      "Epoch 00423: val_loss did not improve from 0.69310\n",
      "Epoch 424/500\n",
      "1/1 - 9s - loss: 0.1015 - accuracy: 0.9665 - val_loss: 2.8532 - val_accuracy: 0.5229\n",
      "\n",
      "Epoch 00424: val_loss did not improve from 0.69310\n",
      "Epoch 425/500\n"
     ]
    },
    {
     "name": "stderr",
     "output_type": "stream",
     "text": [
      "[codecarbon INFO @ 10:19:52] Energy consumed for RAM : 0.013964 kWh. RAM Power : 11.759872913360596 W\n",
      "[codecarbon INFO @ 10:19:52] Energy consumed for all CPUs : 0.050481 kWh. All CPUs Power : 42.5 W\n",
      "[codecarbon INFO @ 10:19:52] 0.064445 kWh of electricity used since the begining.\n"
     ]
    },
    {
     "name": "stdout",
     "output_type": "stream",
     "text": [
      "1/1 - 9s - loss: 0.1028 - accuracy: 0.9647 - val_loss: 2.8778 - val_accuracy: 0.5176\n",
      "\n",
      "Epoch 00425: val_loss did not improve from 0.69310\n",
      "Epoch 426/500\n"
     ]
    },
    {
     "name": "stderr",
     "output_type": "stream",
     "text": [
      "[codecarbon INFO @ 10:20:07] Energy consumed for RAM : 0.014013 kWh. RAM Power : 11.759872913360596 W\n",
      "[codecarbon INFO @ 10:20:07] Energy consumed for all CPUs : 0.050658 kWh. All CPUs Power : 42.5 W\n",
      "[codecarbon INFO @ 10:20:07] 0.064671 kWh of electricity used since the begining.\n"
     ]
    },
    {
     "name": "stdout",
     "output_type": "stream",
     "text": [
      "1/1 - 9s - loss: 0.1003 - accuracy: 0.9651 - val_loss: 2.8525 - val_accuracy: 0.5185\n",
      "\n",
      "Epoch 00426: val_loss did not improve from 0.69310\n",
      "Epoch 427/500\n",
      "1/1 - 9s - loss: 0.1026 - accuracy: 0.9639 - val_loss: 2.9632 - val_accuracy: 0.5167\n",
      "\n",
      "Epoch 00427: val_loss did not improve from 0.69310\n",
      "Epoch 428/500\n"
     ]
    },
    {
     "name": "stderr",
     "output_type": "stream",
     "text": [
      "[codecarbon INFO @ 10:20:22] Energy consumed for RAM : 0.014062 kWh. RAM Power : 11.759872913360596 W\n",
      "[codecarbon INFO @ 10:20:22] Energy consumed for all CPUs : 0.050835 kWh. All CPUs Power : 42.5 W\n",
      "[codecarbon INFO @ 10:20:22] 0.064898 kWh of electricity used since the begining.\n"
     ]
    },
    {
     "name": "stdout",
     "output_type": "stream",
     "text": [
      "1/1 - 9s - loss: 0.1032 - accuracy: 0.9661 - val_loss: 2.9062 - val_accuracy: 0.5225\n",
      "\n",
      "Epoch 00428: val_loss did not improve from 0.69310\n",
      "Epoch 429/500\n",
      "1/1 - 9s - loss: 0.1082 - accuracy: 0.9627 - val_loss: 2.9694 - val_accuracy: 0.5182\n",
      "\n",
      "Epoch 00429: val_loss did not improve from 0.69310\n",
      "Epoch 430/500\n"
     ]
    },
    {
     "name": "stderr",
     "output_type": "stream",
     "text": [
      "[codecarbon INFO @ 10:20:37] Energy consumed for RAM : 0.014111 kWh. RAM Power : 11.759872913360596 W\n",
      "[codecarbon INFO @ 10:20:37] Energy consumed for all CPUs : 0.051012 kWh. All CPUs Power : 42.5 W\n",
      "[codecarbon INFO @ 10:20:37] 0.065124 kWh of electricity used since the begining.\n"
     ]
    },
    {
     "name": "stdout",
     "output_type": "stream",
     "text": [
      "1/1 - 9s - loss: 0.1039 - accuracy: 0.9637 - val_loss: 2.8864 - val_accuracy: 0.5213\n",
      "\n",
      "Epoch 00430: val_loss did not improve from 0.69310\n",
      "Epoch 431/500\n",
      "1/1 - 9s - loss: 0.1046 - accuracy: 0.9636 - val_loss: 2.8478 - val_accuracy: 0.5210\n",
      "\n",
      "Epoch 00431: val_loss did not improve from 0.69310\n",
      "Epoch 432/500\n"
     ]
    },
    {
     "name": "stderr",
     "output_type": "stream",
     "text": [
      "[codecarbon INFO @ 10:20:52] Energy consumed for RAM : 0.014160 kWh. RAM Power : 11.759872913360596 W\n",
      "[codecarbon INFO @ 10:20:52] Energy consumed for all CPUs : 0.051189 kWh. All CPUs Power : 42.5 W\n",
      "[codecarbon INFO @ 10:20:52] 0.065350 kWh of electricity used since the begining.\n"
     ]
    },
    {
     "name": "stdout",
     "output_type": "stream",
     "text": [
      "1/1 - 9s - loss: 0.1022 - accuracy: 0.9648 - val_loss: 2.7979 - val_accuracy: 0.5230\n",
      "\n",
      "Epoch 00432: val_loss did not improve from 0.69310\n",
      "Epoch 433/500\n"
     ]
    },
    {
     "name": "stderr",
     "output_type": "stream",
     "text": [
      "[codecarbon INFO @ 10:21:07] Energy consumed for RAM : 0.014209 kWh. RAM Power : 11.759872913360596 W\n",
      "[codecarbon INFO @ 10:21:07] Energy consumed for all CPUs : 0.051366 kWh. All CPUs Power : 42.5 W\n",
      "[codecarbon INFO @ 10:21:07] 0.065576 kWh of electricity used since the begining.\n"
     ]
    },
    {
     "name": "stdout",
     "output_type": "stream",
     "text": [
      "1/1 - 9s - loss: 0.1017 - accuracy: 0.9664 - val_loss: 2.8780 - val_accuracy: 0.5174\n",
      "\n",
      "Epoch 00433: val_loss did not improve from 0.69310\n",
      "Epoch 434/500\n",
      "1/1 - 9s - loss: 0.1072 - accuracy: 0.9630 - val_loss: 2.8474 - val_accuracy: 0.5217\n",
      "\n",
      "Epoch 00434: val_loss did not improve from 0.69310\n",
      "Epoch 435/500\n"
     ]
    },
    {
     "name": "stderr",
     "output_type": "stream",
     "text": [
      "[codecarbon INFO @ 10:21:22] Energy consumed for RAM : 0.014258 kWh. RAM Power : 11.759872913360596 W\n",
      "[codecarbon INFO @ 10:21:22] Energy consumed for all CPUs : 0.051544 kWh. All CPUs Power : 42.5 W\n",
      "[codecarbon INFO @ 10:21:22] 0.065802 kWh of electricity used since the begining.\n"
     ]
    },
    {
     "name": "stdout",
     "output_type": "stream",
     "text": [
      "1/1 - 9s - loss: 0.1080 - accuracy: 0.9641 - val_loss: 2.9209 - val_accuracy: 0.5168\n",
      "\n",
      "Epoch 00435: val_loss did not improve from 0.69310\n",
      "Epoch 436/500\n",
      "1/1 - 9s - loss: 0.1024 - accuracy: 0.9658 - val_loss: 2.9621 - val_accuracy: 0.5211\n",
      "\n",
      "Epoch 00436: val_loss did not improve from 0.69310\n",
      "Epoch 437/500\n"
     ]
    },
    {
     "name": "stderr",
     "output_type": "stream",
     "text": [
      "[codecarbon INFO @ 10:21:37] Energy consumed for RAM : 0.014307 kWh. RAM Power : 11.759872913360596 W\n",
      "[codecarbon INFO @ 10:21:37] Energy consumed for all CPUs : 0.051721 kWh. All CPUs Power : 42.5 W\n",
      "[codecarbon INFO @ 10:21:37] 0.066028 kWh of electricity used since the begining.\n"
     ]
    },
    {
     "name": "stdout",
     "output_type": "stream",
     "text": [
      "1/1 - 9s - loss: 0.0986 - accuracy: 0.9653 - val_loss: 3.0313 - val_accuracy: 0.5162\n",
      "\n",
      "Epoch 00437: val_loss did not improve from 0.69310\n",
      "Epoch 438/500\n"
     ]
    },
    {
     "name": "stderr",
     "output_type": "stream",
     "text": [
      "[codecarbon INFO @ 10:21:52] Energy consumed for RAM : 0.014356 kWh. RAM Power : 11.759872913360596 W\n",
      "[codecarbon INFO @ 10:21:52] Energy consumed for all CPUs : 0.051898 kWh. All CPUs Power : 42.5 W\n",
      "[codecarbon INFO @ 10:21:52] 0.066254 kWh of electricity used since the begining.\n"
     ]
    },
    {
     "name": "stdout",
     "output_type": "stream",
     "text": [
      "1/1 - 9s - loss: 0.1013 - accuracy: 0.9658 - val_loss: 2.9495 - val_accuracy: 0.5213\n",
      "\n",
      "Epoch 00438: val_loss did not improve from 0.69310\n",
      "Epoch 439/500\n",
      "1/1 - 9s - loss: 0.1015 - accuracy: 0.9642 - val_loss: 2.8858 - val_accuracy: 0.5227\n",
      "\n",
      "Epoch 00439: val_loss did not improve from 0.69310\n",
      "Epoch 440/500\n"
     ]
    },
    {
     "name": "stderr",
     "output_type": "stream",
     "text": [
      "[codecarbon INFO @ 10:22:07] Energy consumed for RAM : 0.014405 kWh. RAM Power : 11.759872913360596 W\n",
      "[codecarbon INFO @ 10:22:07] Energy consumed for all CPUs : 0.052075 kWh. All CPUs Power : 42.5 W\n",
      "[codecarbon INFO @ 10:22:07] 0.066480 kWh of electricity used since the begining.\n"
     ]
    },
    {
     "name": "stdout",
     "output_type": "stream",
     "text": [
      "1/1 - 9s - loss: 0.1034 - accuracy: 0.9655 - val_loss: 2.8731 - val_accuracy: 0.5208\n",
      "\n",
      "Epoch 00440: val_loss did not improve from 0.69310\n",
      "Epoch 441/500\n",
      "1/1 - 9s - loss: 0.1045 - accuracy: 0.9639 - val_loss: 2.8417 - val_accuracy: 0.5198\n",
      "\n",
      "Epoch 00441: val_loss did not improve from 0.69310\n",
      "Epoch 442/500\n"
     ]
    },
    {
     "name": "stderr",
     "output_type": "stream",
     "text": [
      "[codecarbon INFO @ 10:22:22] Energy consumed for RAM : 0.014454 kWh. RAM Power : 11.759872913360596 W\n",
      "[codecarbon INFO @ 10:22:22] Energy consumed for all CPUs : 0.052252 kWh. All CPUs Power : 42.5 W\n",
      "[codecarbon INFO @ 10:22:22] 0.066706 kWh of electricity used since the begining.\n"
     ]
    },
    {
     "name": "stdout",
     "output_type": "stream",
     "text": [
      "1/1 - 9s - loss: 0.1081 - accuracy: 0.9631 - val_loss: 2.8787 - val_accuracy: 0.5202\n",
      "\n",
      "Epoch 00442: val_loss did not improve from 0.69310\n",
      "Epoch 443/500\n"
     ]
    },
    {
     "name": "stderr",
     "output_type": "stream",
     "text": [
      "[codecarbon INFO @ 10:22:37] Energy consumed for RAM : 0.014503 kWh. RAM Power : 11.759872913360596 W\n",
      "[codecarbon INFO @ 10:22:37] Energy consumed for all CPUs : 0.052429 kWh. All CPUs Power : 42.5 W\n",
      "[codecarbon INFO @ 10:22:37] 0.066932 kWh of electricity used since the begining.\n"
     ]
    },
    {
     "name": "stdout",
     "output_type": "stream",
     "text": [
      "1/1 - 9s - loss: 0.1057 - accuracy: 0.9632 - val_loss: 2.9155 - val_accuracy: 0.5227\n",
      "\n",
      "Epoch 00443: val_loss did not improve from 0.69310\n",
      "Epoch 444/500\n",
      "1/1 - 9s - loss: 0.1078 - accuracy: 0.9625 - val_loss: 2.8955 - val_accuracy: 0.5203\n",
      "\n",
      "Epoch 00444: val_loss did not improve from 0.69310\n",
      "Epoch 445/500\n"
     ]
    },
    {
     "name": "stderr",
     "output_type": "stream",
     "text": [
      "[codecarbon INFO @ 10:22:52] Energy consumed for RAM : 0.014552 kWh. RAM Power : 11.759872913360596 W\n",
      "[codecarbon INFO @ 10:22:52] Energy consumed for all CPUs : 0.052606 kWh. All CPUs Power : 42.5 W\n",
      "[codecarbon INFO @ 10:22:52] 0.067158 kWh of electricity used since the begining.\n"
     ]
    },
    {
     "name": "stdout",
     "output_type": "stream",
     "text": [
      "1/1 - 9s - loss: 0.0985 - accuracy: 0.9667 - val_loss: 2.9433 - val_accuracy: 0.5189\n",
      "\n",
      "Epoch 00445: val_loss did not improve from 0.69310\n",
      "Epoch 446/500\n",
      "1/1 - 9s - loss: 0.1062 - accuracy: 0.9621 - val_loss: 2.9372 - val_accuracy: 0.5190\n",
      "\n",
      "Epoch 00446: val_loss did not improve from 0.69310\n",
      "Epoch 447/500\n"
     ]
    },
    {
     "name": "stderr",
     "output_type": "stream",
     "text": [
      "[codecarbon INFO @ 10:23:07] Energy consumed for RAM : 0.014601 kWh. RAM Power : 11.759872913360596 W\n",
      "[codecarbon INFO @ 10:23:07] Energy consumed for all CPUs : 0.052783 kWh. All CPUs Power : 42.5 W\n",
      "[codecarbon INFO @ 10:23:07] 0.067384 kWh of electricity used since the begining.\n"
     ]
    },
    {
     "name": "stdout",
     "output_type": "stream",
     "text": [
      "1/1 - 9s - loss: 0.1066 - accuracy: 0.9651 - val_loss: 2.9659 - val_accuracy: 0.5181\n",
      "\n",
      "Epoch 00447: val_loss did not improve from 0.69310\n",
      "Epoch 448/500\n"
     ]
    },
    {
     "name": "stderr",
     "output_type": "stream",
     "text": [
      "[codecarbon INFO @ 10:23:22] Energy consumed for RAM : 0.014650 kWh. RAM Power : 11.759872913360596 W\n",
      "[codecarbon INFO @ 10:23:22] Energy consumed for all CPUs : 0.052960 kWh. All CPUs Power : 42.5 W\n",
      "[codecarbon INFO @ 10:23:22] 0.067610 kWh of electricity used since the begining.\n"
     ]
    },
    {
     "name": "stdout",
     "output_type": "stream",
     "text": [
      "1/1 - 9s - loss: 0.1040 - accuracy: 0.9633 - val_loss: 2.9517 - val_accuracy: 0.5202\n",
      "\n",
      "Epoch 00448: val_loss did not improve from 0.69310\n",
      "Epoch 449/500\n",
      "1/1 - 9s - loss: 0.1025 - accuracy: 0.9659 - val_loss: 2.9055 - val_accuracy: 0.5230\n",
      "\n",
      "Epoch 00449: val_loss did not improve from 0.69310\n",
      "Epoch 450/500\n"
     ]
    },
    {
     "name": "stderr",
     "output_type": "stream",
     "text": [
      "[codecarbon INFO @ 10:23:37] Energy consumed for RAM : 0.014699 kWh. RAM Power : 11.759872913360596 W\n",
      "[codecarbon INFO @ 10:23:37] Energy consumed for all CPUs : 0.053137 kWh. All CPUs Power : 42.5 W\n",
      "[codecarbon INFO @ 10:23:37] 0.067836 kWh of electricity used since the begining.\n"
     ]
    },
    {
     "name": "stdout",
     "output_type": "stream",
     "text": [
      "1/1 - 9s - loss: 0.1044 - accuracy: 0.9642 - val_loss: 2.8779 - val_accuracy: 0.5237\n",
      "\n",
      "Epoch 00450: val_loss did not improve from 0.69310\n",
      "Epoch 451/500\n",
      "1/1 - 9s - loss: 0.1006 - accuracy: 0.9661 - val_loss: 2.8794 - val_accuracy: 0.5227\n",
      "\n",
      "Epoch 00451: val_loss did not improve from 0.69310\n",
      "Epoch 452/500\n"
     ]
    },
    {
     "name": "stderr",
     "output_type": "stream",
     "text": [
      "[codecarbon INFO @ 10:23:52] Energy consumed for RAM : 0.014748 kWh. RAM Power : 11.759872913360596 W\n",
      "[codecarbon INFO @ 10:23:52] Energy consumed for all CPUs : 0.053314 kWh. All CPUs Power : 42.5 W\n",
      "[codecarbon INFO @ 10:23:52] 0.068062 kWh of electricity used since the begining.\n"
     ]
    },
    {
     "name": "stdout",
     "output_type": "stream",
     "text": [
      "1/1 - 9s - loss: 0.1063 - accuracy: 0.9636 - val_loss: 2.9086 - val_accuracy: 0.5224\n",
      "\n",
      "Epoch 00452: val_loss did not improve from 0.69310\n",
      "Epoch 453/500\n"
     ]
    },
    {
     "name": "stderr",
     "output_type": "stream",
     "text": [
      "[codecarbon INFO @ 10:24:07] Energy consumed for RAM : 0.014797 kWh. RAM Power : 11.759872913360596 W\n",
      "[codecarbon INFO @ 10:24:07] Energy consumed for all CPUs : 0.053491 kWh. All CPUs Power : 42.5 W\n",
      "[codecarbon INFO @ 10:24:07] 0.068288 kWh of electricity used since the begining.\n"
     ]
    },
    {
     "name": "stdout",
     "output_type": "stream",
     "text": [
      "1/1 - 9s - loss: 0.1073 - accuracy: 0.9650 - val_loss: 2.8858 - val_accuracy: 0.5243\n",
      "\n",
      "Epoch 00453: val_loss did not improve from 0.69310\n",
      "Epoch 454/500\n",
      "1/1 - 9s - loss: 0.0948 - accuracy: 0.9672 - val_loss: 2.9403 - val_accuracy: 0.5184\n",
      "\n",
      "Epoch 00454: val_loss did not improve from 0.69310\n",
      "Epoch 455/500\n"
     ]
    },
    {
     "name": "stderr",
     "output_type": "stream",
     "text": [
      "[codecarbon INFO @ 10:24:22] Energy consumed for RAM : 0.014846 kWh. RAM Power : 11.759872913360596 W\n",
      "[codecarbon INFO @ 10:24:22] Energy consumed for all CPUs : 0.053668 kWh. All CPUs Power : 42.5 W\n",
      "[codecarbon INFO @ 10:24:22] 0.068514 kWh of electricity used since the begining.\n"
     ]
    },
    {
     "name": "stdout",
     "output_type": "stream",
     "text": [
      "1/1 - 9s - loss: 0.1062 - accuracy: 0.9653 - val_loss: 2.9469 - val_accuracy: 0.5196\n",
      "\n",
      "Epoch 00455: val_loss did not improve from 0.69310\n",
      "Epoch 456/500\n",
      "1/1 - 9s - loss: 0.1054 - accuracy: 0.9625 - val_loss: 2.9403 - val_accuracy: 0.5200\n",
      "\n",
      "Epoch 00456: val_loss did not improve from 0.69310\n",
      "Epoch 457/500\n"
     ]
    },
    {
     "name": "stderr",
     "output_type": "stream",
     "text": [
      "[codecarbon INFO @ 10:24:37] Energy consumed for RAM : 0.014895 kWh. RAM Power : 11.759872913360596 W\n",
      "[codecarbon INFO @ 10:24:37] Energy consumed for all CPUs : 0.053845 kWh. All CPUs Power : 42.5 W\n",
      "[codecarbon INFO @ 10:24:37] 0.068740 kWh of electricity used since the begining.\n"
     ]
    },
    {
     "name": "stdout",
     "output_type": "stream",
     "text": [
      "1/1 - 9s - loss: 0.1008 - accuracy: 0.9657 - val_loss: 2.9378 - val_accuracy: 0.5150\n",
      "\n",
      "Epoch 00457: val_loss did not improve from 0.69310\n",
      "Epoch 458/500\n"
     ]
    },
    {
     "name": "stderr",
     "output_type": "stream",
     "text": [
      "[codecarbon INFO @ 10:24:52] Energy consumed for RAM : 0.014944 kWh. RAM Power : 11.759872913360596 W\n",
      "[codecarbon INFO @ 10:24:52] Energy consumed for all CPUs : 0.054022 kWh. All CPUs Power : 42.5 W\n",
      "[codecarbon INFO @ 10:24:52] 0.068966 kWh of electricity used since the begining.\n"
     ]
    },
    {
     "name": "stdout",
     "output_type": "stream",
     "text": [
      "1/1 - 9s - loss: 0.1042 - accuracy: 0.9635 - val_loss: 2.8916 - val_accuracy: 0.5220\n",
      "\n",
      "Epoch 00458: val_loss did not improve from 0.69310\n",
      "Epoch 459/500\n",
      "1/1 - 9s - loss: 0.1029 - accuracy: 0.9651 - val_loss: 2.8575 - val_accuracy: 0.5208\n",
      "\n",
      "Epoch 00459: val_loss did not improve from 0.69310\n",
      "Epoch 460/500\n"
     ]
    },
    {
     "name": "stderr",
     "output_type": "stream",
     "text": [
      "[codecarbon INFO @ 10:25:07] Energy consumed for RAM : 0.014993 kWh. RAM Power : 11.759872913360596 W\n",
      "[codecarbon INFO @ 10:25:07] Energy consumed for all CPUs : 0.054199 kWh. All CPUs Power : 42.5 W\n",
      "[codecarbon INFO @ 10:25:07] 0.069192 kWh of electricity used since the begining.\n"
     ]
    },
    {
     "name": "stdout",
     "output_type": "stream",
     "text": [
      "1/1 - 9s - loss: 0.1051 - accuracy: 0.9644 - val_loss: 2.8552 - val_accuracy: 0.5221\n",
      "\n",
      "Epoch 00460: val_loss did not improve from 0.69310\n",
      "Epoch 461/500\n",
      "1/1 - 9s - loss: 0.1021 - accuracy: 0.9643 - val_loss: 2.8704 - val_accuracy: 0.5221\n",
      "\n",
      "Epoch 00461: val_loss did not improve from 0.69310\n",
      "Epoch 462/500\n"
     ]
    },
    {
     "name": "stderr",
     "output_type": "stream",
     "text": [
      "[codecarbon INFO @ 10:25:22] Energy consumed for RAM : 0.015042 kWh. RAM Power : 11.759872913360596 W\n",
      "[codecarbon INFO @ 10:25:22] Energy consumed for all CPUs : 0.054377 kWh. All CPUs Power : 42.5 W\n",
      "[codecarbon INFO @ 10:25:22] 0.069418 kWh of electricity used since the begining.\n"
     ]
    },
    {
     "name": "stdout",
     "output_type": "stream",
     "text": [
      "1/1 - 9s - loss: 0.1057 - accuracy: 0.9650 - val_loss: 2.8777 - val_accuracy: 0.5197\n",
      "\n",
      "Epoch 00462: val_loss did not improve from 0.69310\n",
      "Epoch 463/500\n"
     ]
    },
    {
     "name": "stderr",
     "output_type": "stream",
     "text": [
      "[codecarbon INFO @ 10:25:37] Energy consumed for RAM : 0.015091 kWh. RAM Power : 11.759872913360596 W\n",
      "[codecarbon INFO @ 10:25:37] Energy consumed for all CPUs : 0.054554 kWh. All CPUs Power : 42.5 W\n",
      "[codecarbon INFO @ 10:25:37] 0.069644 kWh of electricity used since the begining.\n"
     ]
    },
    {
     "name": "stdout",
     "output_type": "stream",
     "text": [
      "1/1 - 9s - loss: 0.1000 - accuracy: 0.9647 - val_loss: 2.8899 - val_accuracy: 0.5227\n",
      "\n",
      "Epoch 00463: val_loss did not improve from 0.69310\n",
      "Epoch 464/500\n",
      "1/1 - 9s - loss: 0.1091 - accuracy: 0.9639 - val_loss: 2.9191 - val_accuracy: 0.5198\n",
      "\n",
      "Epoch 00464: val_loss did not improve from 0.69310\n",
      "Epoch 465/500\n"
     ]
    },
    {
     "name": "stderr",
     "output_type": "stream",
     "text": [
      "[codecarbon INFO @ 10:25:52] Energy consumed for RAM : 0.015140 kWh. RAM Power : 11.759872913360596 W\n",
      "[codecarbon INFO @ 10:25:52] Energy consumed for all CPUs : 0.054731 kWh. All CPUs Power : 42.5 W\n",
      "[codecarbon INFO @ 10:25:52] 0.069870 kWh of electricity used since the begining.\n"
     ]
    },
    {
     "name": "stdout",
     "output_type": "stream",
     "text": [
      "1/1 - 9s - loss: 0.0997 - accuracy: 0.9649 - val_loss: 2.9204 - val_accuracy: 0.5204\n",
      "\n",
      "Epoch 00465: val_loss did not improve from 0.69310\n",
      "Epoch 466/500\n",
      "1/1 - 9s - loss: 0.1004 - accuracy: 0.9653 - val_loss: 2.9557 - val_accuracy: 0.5188\n",
      "\n",
      "Epoch 00466: val_loss did not improve from 0.69310\n",
      "Epoch 467/500\n"
     ]
    },
    {
     "name": "stderr",
     "output_type": "stream",
     "text": [
      "[codecarbon INFO @ 10:26:07] Energy consumed for RAM : 0.015189 kWh. RAM Power : 11.759872913360596 W\n",
      "[codecarbon INFO @ 10:26:07] Energy consumed for all CPUs : 0.054908 kWh. All CPUs Power : 42.5 W\n",
      "[codecarbon INFO @ 10:26:07] 0.070097 kWh of electricity used since the begining.\n"
     ]
    },
    {
     "name": "stdout",
     "output_type": "stream",
     "text": [
      "1/1 - 9s - loss: 0.0967 - accuracy: 0.9669 - val_loss: 2.9161 - val_accuracy: 0.5217\n",
      "\n",
      "Epoch 00467: val_loss did not improve from 0.69310\n",
      "Epoch 468/500\n"
     ]
    },
    {
     "name": "stderr",
     "output_type": "stream",
     "text": [
      "[codecarbon INFO @ 10:26:22] Energy consumed for RAM : 0.015238 kWh. RAM Power : 11.759872913360596 W\n",
      "[codecarbon INFO @ 10:26:22] Energy consumed for all CPUs : 0.055085 kWh. All CPUs Power : 42.5 W\n",
      "[codecarbon INFO @ 10:26:22] 0.070322 kWh of electricity used since the begining.\n"
     ]
    },
    {
     "name": "stdout",
     "output_type": "stream",
     "text": [
      "1/1 - 9s - loss: 0.0996 - accuracy: 0.9669 - val_loss: 2.8515 - val_accuracy: 0.5224\n",
      "\n",
      "Epoch 00468: val_loss did not improve from 0.69310\n",
      "Epoch 469/500\n",
      "1/1 - 9s - loss: 0.0956 - accuracy: 0.9679 - val_loss: 2.8604 - val_accuracy: 0.5216\n",
      "\n",
      "Epoch 00469: val_loss did not improve from 0.69310\n",
      "Epoch 470/500\n"
     ]
    },
    {
     "name": "stderr",
     "output_type": "stream",
     "text": [
      "[codecarbon INFO @ 10:26:37] Energy consumed for RAM : 0.015287 kWh. RAM Power : 11.759872913360596 W\n",
      "[codecarbon INFO @ 10:26:37] Energy consumed for all CPUs : 0.055262 kWh. All CPUs Power : 42.5 W\n",
      "[codecarbon INFO @ 10:26:37] 0.070548 kWh of electricity used since the begining.\n"
     ]
    },
    {
     "name": "stdout",
     "output_type": "stream",
     "text": [
      "1/1 - 9s - loss: 0.0982 - accuracy: 0.9658 - val_loss: 2.8686 - val_accuracy: 0.5230\n",
      "\n",
      "Epoch 00470: val_loss did not improve from 0.69310\n",
      "Epoch 471/500\n",
      "1/1 - 9s - loss: 0.0964 - accuracy: 0.9660 - val_loss: 2.9031 - val_accuracy: 0.5218\n",
      "\n",
      "Epoch 00471: val_loss did not improve from 0.69310\n",
      "Epoch 472/500\n"
     ]
    },
    {
     "name": "stderr",
     "output_type": "stream",
     "text": [
      "[codecarbon INFO @ 10:26:52] Energy consumed for RAM : 0.015336 kWh. RAM Power : 11.759872913360596 W\n",
      "[codecarbon INFO @ 10:26:52] Energy consumed for all CPUs : 0.055439 kWh. All CPUs Power : 42.5 W\n",
      "[codecarbon INFO @ 10:26:52] 0.070775 kWh of electricity used since the begining.\n"
     ]
    },
    {
     "name": "stdout",
     "output_type": "stream",
     "text": [
      "1/1 - 9s - loss: 0.1007 - accuracy: 0.9654 - val_loss: 2.9254 - val_accuracy: 0.5195\n",
      "\n",
      "Epoch 00472: val_loss did not improve from 0.69310\n",
      "Epoch 473/500\n"
     ]
    },
    {
     "name": "stderr",
     "output_type": "stream",
     "text": [
      "[codecarbon INFO @ 10:27:07] Energy consumed for RAM : 0.015385 kWh. RAM Power : 11.759872913360596 W\n",
      "[codecarbon INFO @ 10:27:07] Energy consumed for all CPUs : 0.055616 kWh. All CPUs Power : 42.5 W\n",
      "[codecarbon INFO @ 10:27:07] 0.071001 kWh of electricity used since the begining.\n"
     ]
    },
    {
     "name": "stdout",
     "output_type": "stream",
     "text": [
      "1/1 - 9s - loss: 0.1077 - accuracy: 0.9659 - val_loss: 2.9711 - val_accuracy: 0.5204\n",
      "\n",
      "Epoch 00473: val_loss did not improve from 0.69310\n",
      "Epoch 474/500\n",
      "1/1 - 9s - loss: 0.1020 - accuracy: 0.9658 - val_loss: 2.9495 - val_accuracy: 0.5191\n",
      "\n",
      "Epoch 00474: val_loss did not improve from 0.69310\n",
      "Epoch 475/500\n"
     ]
    },
    {
     "name": "stderr",
     "output_type": "stream",
     "text": [
      "[codecarbon INFO @ 10:27:22] Energy consumed for RAM : 0.015434 kWh. RAM Power : 11.759872913360596 W\n",
      "[codecarbon INFO @ 10:27:22] Energy consumed for all CPUs : 0.055793 kWh. All CPUs Power : 42.5 W\n",
      "[codecarbon INFO @ 10:27:22] 0.071227 kWh of electricity used since the begining.\n"
     ]
    },
    {
     "name": "stdout",
     "output_type": "stream",
     "text": [
      "1/1 - 9s - loss: 0.1017 - accuracy: 0.9657 - val_loss: 2.9666 - val_accuracy: 0.5205\n",
      "\n",
      "Epoch 00475: val_loss did not improve from 0.69310\n",
      "Epoch 476/500\n",
      "1/1 - 9s - loss: 0.1003 - accuracy: 0.9653 - val_loss: 2.9393 - val_accuracy: 0.5202\n",
      "\n",
      "Epoch 00476: val_loss did not improve from 0.69310\n",
      "Epoch 477/500\n"
     ]
    },
    {
     "name": "stderr",
     "output_type": "stream",
     "text": [
      "[codecarbon INFO @ 10:27:37] Energy consumed for RAM : 0.015483 kWh. RAM Power : 11.759872913360596 W\n",
      "[codecarbon INFO @ 10:27:37] Energy consumed for all CPUs : 0.055970 kWh. All CPUs Power : 42.5 W\n",
      "[codecarbon INFO @ 10:27:37] 0.071453 kWh of electricity used since the begining.\n"
     ]
    },
    {
     "name": "stdout",
     "output_type": "stream",
     "text": [
      "1/1 - 9s - loss: 0.1026 - accuracy: 0.9657 - val_loss: 2.8491 - val_accuracy: 0.5243\n",
      "\n",
      "Epoch 00477: val_loss did not improve from 0.69310\n",
      "Epoch 478/500\n"
     ]
    },
    {
     "name": "stderr",
     "output_type": "stream",
     "text": [
      "[codecarbon INFO @ 10:27:52] Energy consumed for RAM : 0.015532 kWh. RAM Power : 11.759872913360596 W\n",
      "[codecarbon INFO @ 10:27:52] Energy consumed for all CPUs : 0.056148 kWh. All CPUs Power : 42.5 W\n",
      "[codecarbon INFO @ 10:27:52] 0.071679 kWh of electricity used since the begining.\n"
     ]
    },
    {
     "name": "stdout",
     "output_type": "stream",
     "text": [
      "1/1 - 9s - loss: 0.1013 - accuracy: 0.9664 - val_loss: 2.9035 - val_accuracy: 0.5179\n",
      "\n",
      "Epoch 00478: val_loss did not improve from 0.69310\n",
      "Epoch 479/500\n",
      "1/1 - 9s - loss: 0.1040 - accuracy: 0.9661 - val_loss: 2.9082 - val_accuracy: 0.5204\n",
      "\n",
      "Epoch 00479: val_loss did not improve from 0.69310\n",
      "Epoch 480/500\n"
     ]
    },
    {
     "name": "stderr",
     "output_type": "stream",
     "text": [
      "[codecarbon INFO @ 10:28:07] Energy consumed for RAM : 0.015581 kWh. RAM Power : 11.759872913360596 W\n",
      "[codecarbon INFO @ 10:28:07] Energy consumed for all CPUs : 0.056325 kWh. All CPUs Power : 42.5 W\n",
      "[codecarbon INFO @ 10:28:07] 0.071905 kWh of electricity used since the begining.\n"
     ]
    },
    {
     "name": "stdout",
     "output_type": "stream",
     "text": [
      "1/1 - 9s - loss: 0.0945 - accuracy: 0.9664 - val_loss: 2.9273 - val_accuracy: 0.5204\n",
      "\n",
      "Epoch 00480: val_loss did not improve from 0.69310\n",
      "Epoch 481/500\n",
      "1/1 - 9s - loss: 0.0990 - accuracy: 0.9660 - val_loss: 2.9227 - val_accuracy: 0.5224\n",
      "\n",
      "Epoch 00481: val_loss did not improve from 0.69310\n",
      "Epoch 482/500\n"
     ]
    },
    {
     "name": "stderr",
     "output_type": "stream",
     "text": [
      "[codecarbon INFO @ 10:28:22] Energy consumed for RAM : 0.015630 kWh. RAM Power : 11.759872913360596 W\n",
      "[codecarbon INFO @ 10:28:22] Energy consumed for all CPUs : 0.056502 kWh. All CPUs Power : 42.5 W\n",
      "[codecarbon INFO @ 10:28:22] 0.072131 kWh of electricity used since the begining.\n"
     ]
    },
    {
     "name": "stdout",
     "output_type": "stream",
     "text": [
      "1/1 - 9s - loss: 0.0991 - accuracy: 0.9658 - val_loss: 2.9767 - val_accuracy: 0.5188\n",
      "\n",
      "Epoch 00482: val_loss did not improve from 0.69310\n",
      "Epoch 483/500\n"
     ]
    },
    {
     "name": "stderr",
     "output_type": "stream",
     "text": [
      "[codecarbon INFO @ 10:28:37] Energy consumed for RAM : 0.015679 kWh. RAM Power : 11.759872913360596 W\n",
      "[codecarbon INFO @ 10:28:37] Energy consumed for all CPUs : 0.056679 kWh. All CPUs Power : 42.5 W\n",
      "[codecarbon INFO @ 10:28:37] 0.072357 kWh of electricity used since the begining.\n"
     ]
    },
    {
     "name": "stdout",
     "output_type": "stream",
     "text": [
      "1/1 - 9s - loss: 0.1057 - accuracy: 0.9650 - val_loss: 2.9538 - val_accuracy: 0.5222\n",
      "\n",
      "Epoch 00483: val_loss did not improve from 0.69310\n",
      "Epoch 484/500\n",
      "1/1 - 9s - loss: 0.1041 - accuracy: 0.9650 - val_loss: 2.9559 - val_accuracy: 0.5199\n",
      "\n",
      "Epoch 00484: val_loss did not improve from 0.69310\n",
      "Epoch 485/500\n"
     ]
    },
    {
     "name": "stderr",
     "output_type": "stream",
     "text": [
      "[codecarbon INFO @ 10:28:52] Energy consumed for RAM : 0.015728 kWh. RAM Power : 11.759872913360596 W\n",
      "[codecarbon INFO @ 10:28:52] Energy consumed for all CPUs : 0.056856 kWh. All CPUs Power : 42.5 W\n",
      "[codecarbon INFO @ 10:28:52] 0.072583 kWh of electricity used since the begining.\n"
     ]
    },
    {
     "name": "stdout",
     "output_type": "stream",
     "text": [
      "1/1 - 9s - loss: 0.0990 - accuracy: 0.9665 - val_loss: 2.9469 - val_accuracy: 0.5208\n",
      "\n",
      "Epoch 00485: val_loss did not improve from 0.69310\n",
      "Epoch 486/500\n",
      "1/1 - 9s - loss: 0.0986 - accuracy: 0.9662 - val_loss: 2.9085 - val_accuracy: 0.5234\n",
      "\n",
      "Epoch 00486: val_loss did not improve from 0.69310\n",
      "Epoch 487/500\n"
     ]
    },
    {
     "name": "stderr",
     "output_type": "stream",
     "text": [
      "[codecarbon INFO @ 10:29:07] Energy consumed for RAM : 0.015777 kWh. RAM Power : 11.759872913360596 W\n",
      "[codecarbon INFO @ 10:29:07] Energy consumed for all CPUs : 0.057033 kWh. All CPUs Power : 42.5 W\n",
      "[codecarbon INFO @ 10:29:07] 0.072809 kWh of electricity used since the begining.\n"
     ]
    },
    {
     "name": "stdout",
     "output_type": "stream",
     "text": [
      "1/1 - 9s - loss: 0.1008 - accuracy: 0.9650 - val_loss: 2.9150 - val_accuracy: 0.5225\n",
      "\n",
      "Epoch 00487: val_loss did not improve from 0.69310\n",
      "Epoch 488/500\n"
     ]
    },
    {
     "name": "stderr",
     "output_type": "stream",
     "text": [
      "[codecarbon INFO @ 10:29:22] Energy consumed for RAM : 0.015826 kWh. RAM Power : 11.759872913360596 W\n",
      "[codecarbon INFO @ 10:29:22] Energy consumed for all CPUs : 0.057210 kWh. All CPUs Power : 42.5 W\n",
      "[codecarbon INFO @ 10:29:22] 0.073035 kWh of electricity used since the begining.\n"
     ]
    },
    {
     "name": "stdout",
     "output_type": "stream",
     "text": [
      "1/1 - 9s - loss: 0.0951 - accuracy: 0.9686 - val_loss: 2.9352 - val_accuracy: 0.5218\n",
      "\n",
      "Epoch 00488: val_loss did not improve from 0.69310\n",
      "Epoch 489/500\n",
      "1/1 - 9s - loss: 0.0965 - accuracy: 0.9672 - val_loss: 2.9757 - val_accuracy: 0.5189\n",
      "\n",
      "Epoch 00489: val_loss did not improve from 0.69310\n",
      "Epoch 490/500\n"
     ]
    },
    {
     "name": "stderr",
     "output_type": "stream",
     "text": [
      "[codecarbon INFO @ 10:29:37] Energy consumed for RAM : 0.015875 kWh. RAM Power : 11.759872913360596 W\n",
      "[codecarbon INFO @ 10:29:37] Energy consumed for all CPUs : 0.057387 kWh. All CPUs Power : 42.5 W\n",
      "[codecarbon INFO @ 10:29:37] 0.073261 kWh of electricity used since the begining.\n"
     ]
    },
    {
     "name": "stdout",
     "output_type": "stream",
     "text": [
      "1/1 - 9s - loss: 0.0943 - accuracy: 0.9675 - val_loss: 2.9149 - val_accuracy: 0.5181\n",
      "\n",
      "Epoch 00490: val_loss did not improve from 0.69310\n",
      "Epoch 491/500\n",
      "1/1 - 9s - loss: 0.1026 - accuracy: 0.9664 - val_loss: 2.9305 - val_accuracy: 0.5223\n",
      "\n",
      "Epoch 00491: val_loss did not improve from 0.69310\n",
      "Epoch 492/500\n"
     ]
    },
    {
     "name": "stderr",
     "output_type": "stream",
     "text": [
      "[codecarbon INFO @ 10:29:52] Energy consumed for RAM : 0.015923 kWh. RAM Power : 11.759872913360596 W\n",
      "[codecarbon INFO @ 10:29:52] Energy consumed for all CPUs : 0.057564 kWh. All CPUs Power : 42.5 W\n",
      "[codecarbon INFO @ 10:29:52] 0.073487 kWh of electricity used since the begining.\n"
     ]
    },
    {
     "name": "stdout",
     "output_type": "stream",
     "text": [
      "1/1 - 9s - loss: 0.1044 - accuracy: 0.9665 - val_loss: 3.0018 - val_accuracy: 0.5193\n",
      "\n",
      "Epoch 00492: val_loss did not improve from 0.69310\n",
      "Epoch 493/500\n"
     ]
    },
    {
     "name": "stderr",
     "output_type": "stream",
     "text": [
      "[codecarbon INFO @ 10:30:07] Energy consumed for RAM : 0.015972 kWh. RAM Power : 11.759872913360596 W\n",
      "[codecarbon INFO @ 10:30:07] Energy consumed for all CPUs : 0.057741 kWh. All CPUs Power : 42.5 W\n",
      "[codecarbon INFO @ 10:30:07] 0.073714 kWh of electricity used since the begining.\n"
     ]
    },
    {
     "name": "stdout",
     "output_type": "stream",
     "text": [
      "1/1 - 9s - loss: 0.1016 - accuracy: 0.9650 - val_loss: 2.9471 - val_accuracy: 0.5183\n",
      "\n",
      "Epoch 00493: val_loss did not improve from 0.69310\n",
      "Epoch 494/500\n",
      "1/1 - 9s - loss: 0.0941 - accuracy: 0.9668 - val_loss: 2.8973 - val_accuracy: 0.5234\n",
      "\n",
      "Epoch 00494: val_loss did not improve from 0.69310\n",
      "Epoch 495/500\n"
     ]
    },
    {
     "name": "stderr",
     "output_type": "stream",
     "text": [
      "[codecarbon INFO @ 10:30:22] Energy consumed for RAM : 0.016021 kWh. RAM Power : 11.759872913360596 W\n",
      "[codecarbon INFO @ 10:30:22] Energy consumed for all CPUs : 0.057918 kWh. All CPUs Power : 42.5 W\n",
      "[codecarbon INFO @ 10:30:22] 0.073940 kWh of electricity used since the begining.\n"
     ]
    },
    {
     "name": "stdout",
     "output_type": "stream",
     "text": [
      "1/1 - 9s - loss: 0.1006 - accuracy: 0.9674 - val_loss: 2.9036 - val_accuracy: 0.5206\n",
      "\n",
      "Epoch 00495: val_loss did not improve from 0.69310\n",
      "Epoch 496/500\n",
      "1/1 - 9s - loss: 0.0971 - accuracy: 0.9682 - val_loss: 2.9296 - val_accuracy: 0.5210\n",
      "\n",
      "Epoch 00496: val_loss did not improve from 0.69310\n",
      "Epoch 497/500\n"
     ]
    },
    {
     "name": "stderr",
     "output_type": "stream",
     "text": [
      "[codecarbon INFO @ 10:30:37] Energy consumed for RAM : 0.016070 kWh. RAM Power : 11.759872913360596 W\n",
      "[codecarbon INFO @ 10:30:37] Energy consumed for all CPUs : 0.058095 kWh. All CPUs Power : 42.5 W\n",
      "[codecarbon INFO @ 10:30:37] 0.074166 kWh of electricity used since the begining.\n"
     ]
    },
    {
     "name": "stdout",
     "output_type": "stream",
     "text": [
      "1/1 - 9s - loss: 0.1020 - accuracy: 0.9657 - val_loss: 2.9154 - val_accuracy: 0.5227\n",
      "\n",
      "Epoch 00497: val_loss did not improve from 0.69310\n",
      "Epoch 498/500\n"
     ]
    },
    {
     "name": "stderr",
     "output_type": "stream",
     "text": [
      "[codecarbon INFO @ 10:30:52] Energy consumed for RAM : 0.016119 kWh. RAM Power : 11.759872913360596 W\n",
      "[codecarbon INFO @ 10:30:52] Energy consumed for all CPUs : 0.058272 kWh. All CPUs Power : 42.5 W\n",
      "[codecarbon INFO @ 10:30:52] 0.074392 kWh of electricity used since the begining.\n"
     ]
    },
    {
     "name": "stdout",
     "output_type": "stream",
     "text": [
      "1/1 - 9s - loss: 0.1004 - accuracy: 0.9662 - val_loss: 2.9335 - val_accuracy: 0.5223\n",
      "\n",
      "Epoch 00498: val_loss did not improve from 0.69310\n",
      "Epoch 499/500\n",
      "1/1 - 9s - loss: 0.0968 - accuracy: 0.9661 - val_loss: 2.9863 - val_accuracy: 0.5230\n",
      "\n",
      "Epoch 00499: val_loss did not improve from 0.69310\n",
      "Epoch 500/500\n"
     ]
    },
    {
     "name": "stderr",
     "output_type": "stream",
     "text": [
      "[codecarbon INFO @ 10:31:07] Energy consumed for RAM : 0.016168 kWh. RAM Power : 11.759872913360596 W\n",
      "[codecarbon INFO @ 10:31:07] Energy consumed for all CPUs : 0.058449 kWh. All CPUs Power : 42.5 W\n",
      "[codecarbon INFO @ 10:31:07] 0.074618 kWh of electricity used since the begining.\n"
     ]
    },
    {
     "name": "stdout",
     "output_type": "stream",
     "text": [
      "1/1 - 9s - loss: 0.1014 - accuracy: 0.9643 - val_loss: 2.9733 - val_accuracy: 0.5207\n",
      "\n",
      "Epoch 00500: val_loss did not improve from 0.69310\n"
     ]
    },
    {
     "name": "stderr",
     "output_type": "stream",
     "text": [
      "[codecarbon INFO @ 10:31:22] Energy consumed for RAM : 0.016217 kWh. RAM Power : 11.759872913360596 W\n",
      "[codecarbon INFO @ 10:31:22] Energy consumed for all CPUs : 0.058626 kWh. All CPUs Power : 42.5 W\n",
      "[codecarbon INFO @ 10:31:22] 0.074844 kWh of electricity used since the begining.\n"
     ]
    },
    {
     "name": "stdout",
     "output_type": "stream",
     "text": [
      "Training time: 74.61 minutes\n"
     ]
    }
   ],
   "source": [
    "# Net training\n",
    "start_time = time.time()\n",
    "\n",
    "# fit model with validation data\n",
    "history = model.fit(\n",
    "    trainGenerator(sps_two, ohe, batch_size=20000, balance_ratio=0.5), \n",
    "    epochs=500, steps_per_epoch = 1, verbose=2, workers=1, use_multiprocessing=False,\n",
    "    validation_data=valGenerator_balance(\n",
    "        val_tracks_ones, val_playlists_ones, \n",
    "        val_tracks_zeros, val_playlists_zeros,\n",
    "        ohe, val_batch_size=10000, balance_ratio = 0.5),\n",
    "    validation_steps=1,\n",
    "    callbacks=callbacks_list)\n",
    "\n",
    "end_time = time.time()\n",
    "print('Training time: ' + str(round((end_time-start_time)/60,2)) + \" minutes\")"
   ]
  },
  {
   "cell_type": "code",
   "execution_count": 26,
   "id": "8fbcd580",
   "metadata": {},
   "outputs": [],
   "source": [
    "def plot_training(mfit, hide_plot=None):\n",
    "     \"\"\"\n",
    "    Plots the training loss and accuracy curves.\n",
    "\n",
    "    Parameters:\n",
    "        mfit (keras.callbacks.History): The History object obtained from model training.\n",
    "        hide_plot (bool, optional): Specifies whether to hide the plot or display it. Defaults to None.\n",
    "\n",
    "    \"\"\"\n",
    "    plt.style.use(\"ggplot\")\n",
    "    fig, (ax1, ax2) = plt.subplots(1, 2, figsize=(18,6))\n",
    "    fig.suptitle('Training Loss and Accuracy')\n",
    "    \n",
    "    ax1.plot(mfit.history[\"loss\"], label=\"train_loss\")\n",
    "    ax1.plot(mfit.history[\"val_loss\"], label=\"val_loss\")\n",
    "    ax1.set_title(\"Loss\")\n",
    "    ax1.set_xlabel(\"epoch\")\n",
    "    ax1.set_ylabel(\"loss\")\n",
    "    ax1.legend(loc=\"lower left\")\n",
    "\n",
    "    ax2.plot(mfit.history[\"accuracy\"], label=\"train_accuracy\")\n",
    "    ax2.plot(mfit.history[\"val_accuracy\"], label=\"val_accuracy\")\n",
    "    ax2.set_title(\"Accuracy\")\n",
    "    ax2.set_xlabel(\"epoch\")\n",
    "    ax2.set_ylabel(\"accuracy\")\n",
    "    ax2.legend(loc=\"lower left\")\n",
    "    \n",
    "    plt.show()"
   ]
  },
  {
   "cell_type": "code",
   "execution_count": 27,
   "id": "ca99ffdb",
   "metadata": {},
   "outputs": [
    {
     "data": {
      "image/png": "[encoded data removed]",
      "text/plain": [
       "<Figure size 1296x432 with 2 Axes>"
      ]
     },
     "metadata": {},
     "output_type": "display_data"
    },
    {
     "name": "stderr",
     "output_type": "stream",
     "text": [
      "[codecarbon INFO @ 10:33:37] Energy consumed for RAM : 0.016658 kWh. RAM Power : 11.759872913360596 W\n",
      "[codecarbon INFO @ 10:33:37] Energy consumed for all CPUs : 0.060220 kWh. All CPUs Power : 42.5 W\n",
      "[codecarbon INFO @ 10:33:37] 0.076878 kWh of electricity used since the begining.\n"
     ]
    }
   ],
   "source": [
    "plot_training(history)"
   ]
  },
  {
   "cell_type": "code",
   "execution_count": 28,
   "id": "950441b9",
   "metadata": {},
   "outputs": [
    {
     "name": "stdout",
     "output_type": "stream",
     "text": [
      "  2504/555884 [..............................] - ETA: 16:41 - loss: 0.0482 - accuracy: 0.9856"
     ]
    },
    {
     "name": "stderr",
     "output_type": "stream",
     "text": [
      "[codecarbon INFO @ 10:33:52] Energy consumed for RAM : 0.016707 kWh. RAM Power : 11.759872913360596 W\n",
      "[codecarbon INFO @ 10:33:52] Energy consumed for all CPUs : 0.060397 kWh. All CPUs Power : 42.5 W\n",
      "[codecarbon INFO @ 10:33:52] 0.077104 kWh of electricity used since the begining.\n"
     ]
    },
    {
     "name": "stdout",
     "output_type": "stream",
     "text": [
      " 11055/555884 [..............................] - ETA: 16:02 - loss: 0.0487 - accuracy: 0.9857"
     ]
    },
    {
     "name": "stderr",
     "output_type": "stream",
     "text": [
      "[codecarbon INFO @ 10:34:07] Energy consumed for RAM : 0.016756 kWh. RAM Power : 11.759872913360596 W\n",
      "[codecarbon INFO @ 10:34:07] Energy consumed for all CPUs : 0.060574 kWh. All CPUs Power : 42.5 W\n",
      "[codecarbon INFO @ 10:34:07] 0.077330 kWh of electricity used since the begining.\n"
     ]
    },
    {
     "name": "stdout",
     "output_type": "stream",
     "text": [
      " 19581/555884 [>.............................] - ETA: 15:45 - loss: 0.0489 - accuracy: 0.9856"
     ]
    },
    {
     "name": "stderr",
     "output_type": "stream",
     "text": [
      "[codecarbon INFO @ 10:34:22] Energy consumed for RAM : 0.016805 kWh. RAM Power : 11.759872913360596 W\n",
      "[codecarbon INFO @ 10:34:22] Energy consumed for all CPUs : 0.060751 kWh. All CPUs Power : 42.5 W\n",
      "[codecarbon INFO @ 10:34:22] 0.077556 kWh of electricity used since the begining.\n"
     ]
    },
    {
     "name": "stdout",
     "output_type": "stream",
     "text": [
      " 28242/555884 [>.............................] - ETA: 15:25 - loss: 0.0492 - accuracy: 0.9855"
     ]
    },
    {
     "name": "stderr",
     "output_type": "stream",
     "text": [
      "[codecarbon INFO @ 10:34:37] Energy consumed for RAM : 0.016854 kWh. RAM Power : 11.759872913360596 W\n",
      "[codecarbon INFO @ 10:34:37] Energy consumed for all CPUs : 0.060928 kWh. All CPUs Power : 42.5 W\n",
      "[codecarbon INFO @ 10:34:37] 0.077782 kWh of electricity used since the begining.\n"
     ]
    },
    {
     "name": "stdout",
     "output_type": "stream",
     "text": [
      " 36884/555884 [>.............................] - ETA: 15:08 - loss: 0.0492 - accuracy: 0.9855"
     ]
    },
    {
     "name": "stderr",
     "output_type": "stream",
     "text": [
      "[codecarbon INFO @ 10:34:52] Energy consumed for RAM : 0.016903 kWh. RAM Power : 11.759872913360596 W\n",
      "[codecarbon INFO @ 10:34:52] Energy consumed for all CPUs : 0.061105 kWh. All CPUs Power : 42.5 W\n",
      "[codecarbon INFO @ 10:34:52] 0.078008 kWh of electricity used since the begining.\n"
     ]
    },
    {
     "name": "stdout",
     "output_type": "stream",
     "text": [
      " 45541/555884 [=>............................] - ETA: 14:51 - loss: 0.0492 - accuracy: 0.9855"
     ]
    },
    {
     "name": "stderr",
     "output_type": "stream",
     "text": [
      "[codecarbon INFO @ 10:35:07] Energy consumed for RAM : 0.016952 kWh. RAM Power : 11.759872913360596 W\n",
      "[codecarbon INFO @ 10:35:07] Energy consumed for all CPUs : 0.061282 kWh. All CPUs Power : 42.5 W\n",
      "[codecarbon INFO @ 10:35:07] 0.078234 kWh of electricity used since the begining.\n"
     ]
    },
    {
     "name": "stdout",
     "output_type": "stream",
     "text": [
      " 54195/555884 [=>............................] - ETA: 14:35 - loss: 0.0490 - accuracy: 0.9855"
     ]
    },
    {
     "name": "stderr",
     "output_type": "stream",
     "text": [
      "[codecarbon INFO @ 10:35:22] Energy consumed for RAM : 0.017001 kWh. RAM Power : 11.759872913360596 W\n",
      "[codecarbon INFO @ 10:35:22] Energy consumed for all CPUs : 0.061459 kWh. All CPUs Power : 42.5 W\n",
      "[codecarbon INFO @ 10:35:22] 0.078460 kWh of electricity used since the begining.\n"
     ]
    },
    {
     "name": "stdout",
     "output_type": "stream",
     "text": [
      " 62774/555884 [==>...........................] - ETA: 14:20 - loss: 0.0491 - accuracy: 0.9855"
     ]
    },
    {
     "name": "stderr",
     "output_type": "stream",
     "text": [
      "[codecarbon INFO @ 10:35:37] Energy consumed for RAM : 0.017050 kWh. RAM Power : 11.759872913360596 W\n",
      "[codecarbon INFO @ 10:35:37] Energy consumed for all CPUs : 0.061636 kWh. All CPUs Power : 42.5 W\n",
      "[codecarbon INFO @ 10:35:37] 0.078686 kWh of electricity used since the begining.\n"
     ]
    },
    {
     "name": "stdout",
     "output_type": "stream",
     "text": [
      " 71288/555884 [==>...........................] - ETA: 14:06 - loss: 0.0492 - accuracy: 0.9855"
     ]
    },
    {
     "name": "stderr",
     "output_type": "stream",
     "text": [
      "[codecarbon INFO @ 10:35:52] Energy consumed for RAM : 0.017099 kWh. RAM Power : 11.759872913360596 W\n",
      "[codecarbon INFO @ 10:35:52] Energy consumed for all CPUs : 0.061813 kWh. All CPUs Power : 42.5 W\n",
      "[codecarbon INFO @ 10:35:52] 0.078912 kWh of electricity used since the begining.\n"
     ]
    },
    {
     "name": "stdout",
     "output_type": "stream",
     "text": [
      " 79821/555884 [===>..........................] - ETA: 13:52 - loss: 0.0492 - accuracy: 0.9855"
     ]
    },
    {
     "name": "stderr",
     "output_type": "stream",
     "text": [
      "[codecarbon INFO @ 10:36:07] Energy consumed for RAM : 0.017148 kWh. RAM Power : 11.759872913360596 W\n",
      "[codecarbon INFO @ 10:36:07] Energy consumed for all CPUs : 0.061990 kWh. All CPUs Power : 42.5 W\n",
      "[codecarbon INFO @ 10:36:07] 0.079138 kWh of electricity used since the begining.\n"
     ]
    },
    {
     "name": "stdout",
     "output_type": "stream",
     "text": [
      " 88381/555884 [===>..........................] - ETA: 13:37 - loss: 0.0491 - accuracy: 0.9855- ETA: 13:4"
     ]
    },
    {
     "name": "stderr",
     "output_type": "stream",
     "text": [
      "[codecarbon INFO @ 10:36:22] Energy consumed for RAM : 0.017197 kWh. RAM Power : 11.759872913360596 W\n",
      "[codecarbon INFO @ 10:36:22] Energy consumed for all CPUs : 0.062167 kWh. All CPUs Power : 42.5 W\n",
      "[codecarbon INFO @ 10:36:22] 0.079364 kWh of electricity used since the begining.\n"
     ]
    },
    {
     "name": "stdout",
     "output_type": "stream",
     "text": [
      " 96938/555884 [====>.........................] - ETA: 13:22 - loss: 0.0491 - accuracy: 0.9855"
     ]
    },
    {
     "name": "stderr",
     "output_type": "stream",
     "text": [
      "[codecarbon INFO @ 10:36:37] Energy consumed for RAM : 0.017246 kWh. RAM Power : 11.759872913360596 W\n",
      "[codecarbon INFO @ 10:36:37] Energy consumed for all CPUs : 0.062344 kWh. All CPUs Power : 42.5 W\n",
      "[codecarbon INFO @ 10:36:37] 0.079590 kWh of electricity used since the begining.\n"
     ]
    },
    {
     "name": "stdout",
     "output_type": "stream",
     "text": [
      "105642/555884 [====>.........................] - ETA: 13:06 - loss: 0.0492 - accuracy: 0.9855"
     ]
    },
    {
     "name": "stderr",
     "output_type": "stream",
     "text": [
      "[codecarbon INFO @ 10:36:52] Energy consumed for RAM : 0.017295 kWh. RAM Power : 11.759872913360596 W\n",
      "[codecarbon INFO @ 10:36:52] Energy consumed for all CPUs : 0.062521 kWh. All CPUs Power : 42.5 W\n",
      "[codecarbon INFO @ 10:36:52] 0.079816 kWh of electricity used since the begining.\n"
     ]
    },
    {
     "name": "stdout",
     "output_type": "stream",
     "text": [
      "114342/555884 [=====>........................] - ETA: 12:50 - loss: 0.0492 - accuracy: 0.9855"
     ]
    },
    {
     "name": "stderr",
     "output_type": "stream",
     "text": [
      "[codecarbon INFO @ 10:37:07] Energy consumed for RAM : 0.017344 kWh. RAM Power : 11.759872913360596 W\n",
      "[codecarbon INFO @ 10:37:07] Energy consumed for all CPUs : 0.062699 kWh. All CPUs Power : 42.5 W\n",
      "[codecarbon INFO @ 10:37:07] 0.080042 kWh of electricity used since the begining.\n"
     ]
    },
    {
     "name": "stdout",
     "output_type": "stream",
     "text": [
      "123050/555884 [=====>........................] - ETA: 12:34 - loss: 0.0492 - accuracy: 0.9855"
     ]
    },
    {
     "name": "stderr",
     "output_type": "stream",
     "text": [
      "[codecarbon INFO @ 10:37:22] Energy consumed for RAM : 0.017393 kWh. RAM Power : 11.759872913360596 W\n",
      "[codecarbon INFO @ 10:37:22] Energy consumed for all CPUs : 0.062876 kWh. All CPUs Power : 42.5 W\n",
      "[codecarbon INFO @ 10:37:22] 0.080269 kWh of electricity used since the begining.\n"
     ]
    },
    {
     "name": "stdout",
     "output_type": "stream",
     "text": [
      "131547/555884 [======>.......................] - ETA: 12:20 - loss: 0.0493 - accuracy: 0.9855"
     ]
    },
    {
     "name": "stderr",
     "output_type": "stream",
     "text": [
      "[codecarbon INFO @ 10:37:37] Energy consumed for RAM : 0.017442 kWh. RAM Power : 11.759872913360596 W\n",
      "[codecarbon INFO @ 10:37:37] Energy consumed for all CPUs : 0.063053 kWh. All CPUs Power : 42.5 W\n",
      "[codecarbon INFO @ 10:37:37] 0.080495 kWh of electricity used since the begining.\n"
     ]
    },
    {
     "name": "stdout",
     "output_type": "stream",
     "text": [
      "140255/555884 [======>.......................] - ETA: 12:04 - loss: 0.0492 - accuracy: 0.9855"
     ]
    },
    {
     "name": "stderr",
     "output_type": "stream",
     "text": [
      "[codecarbon INFO @ 10:37:52] Energy consumed for RAM : 0.017491 kWh. RAM Power : 11.759872913360596 W\n",
      "[codecarbon INFO @ 10:37:52] Energy consumed for all CPUs : 0.063230 kWh. All CPUs Power : 42.5 W\n",
      "[codecarbon INFO @ 10:37:52] 0.080721 kWh of electricity used since the begining.\n"
     ]
    },
    {
     "name": "stdout",
     "output_type": "stream",
     "text": [
      "148753/555884 [=======>......................] - ETA: 11:50 - loss: 0.0493 - accuracy: 0.9854"
     ]
    },
    {
     "name": "stderr",
     "output_type": "stream",
     "text": [
      "[codecarbon INFO @ 10:38:07] Energy consumed for RAM : 0.017540 kWh. RAM Power : 11.759872913360596 W\n",
      "[codecarbon INFO @ 10:38:07] Energy consumed for all CPUs : 0.063407 kWh. All CPUs Power : 42.5 W\n",
      "[codecarbon INFO @ 10:38:07] 0.080947 kWh of electricity used since the begining.\n"
     ]
    },
    {
     "name": "stdout",
     "output_type": "stream",
     "text": [
      "157453/555884 [=======>......................] - ETA: 11:34 - loss: 0.0493 - accuracy: 0.9855"
     ]
    },
    {
     "name": "stderr",
     "output_type": "stream",
     "text": [
      "[codecarbon INFO @ 10:38:22] Energy consumed for RAM : 0.017589 kWh. RAM Power : 11.759872913360596 W\n"
     ]
    },
    {
     "name": "stdout",
     "output_type": "stream",
     "text": [
      "\b\b\b\b\b\b\b\b\b\b\b\b\b\b\b\b\b\b\b\b\b\b\b\b\b\b\b\b\b\b\b\b\b\b\b\b\b\b\b\b\b\b\b\b\b\b\b\b\b\b\b\b\b\b\b\b\b\b\b\b\b\b\b\b\b\b\b\b\b\b\b\b\b\b\b\b\b\b\b\b\b\b\b\b\b\b\b\b\b\b\b\b\b\r",
      "157481/555884 [=======>......................] - ETA: 11:34 - loss: 0.0493 - accuracy: 0.9855"
     ]
    },
    {
     "name": "stderr",
     "output_type": "stream",
     "text": [
      "[codecarbon INFO @ 10:38:22] Energy consumed for all CPUs : 0.063584 kWh. All CPUs Power : 42.5 W\n",
      "[codecarbon INFO @ 10:38:22] 0.081173 kWh of electricity used since the begining.\n"
     ]
    },
    {
     "name": "stdout",
     "output_type": "stream",
     "text": [
      "166161/555884 [=======>......................] - ETA: 11:19 - loss: 0.0493 - accuracy: 0.9854"
     ]
    },
    {
     "name": "stderr",
     "output_type": "stream",
     "text": [
      "[codecarbon INFO @ 10:38:37] Energy consumed for RAM : 0.017638 kWh. RAM Power : 11.759872913360596 W\n",
      "[codecarbon INFO @ 10:38:37] Energy consumed for all CPUs : 0.063761 kWh. All CPUs Power : 42.5 W\n",
      "[codecarbon INFO @ 10:38:37] 0.081399 kWh of electricity used since the begining.\n"
     ]
    },
    {
     "name": "stdout",
     "output_type": "stream",
     "text": [
      "174905/555884 [========>.....................] - ETA: 11:03 - loss: 0.0493 - accuracy: 0.9854- ETA: 11:05 -"
     ]
    },
    {
     "name": "stderr",
     "output_type": "stream",
     "text": [
      "[codecarbon INFO @ 10:38:52] Energy consumed for RAM : 0.017687 kWh. RAM Power : 11.759872913360596 W\n",
      "[codecarbon INFO @ 10:38:52] Energy consumed for all CPUs : 0.063938 kWh. All CPUs Power : 42.5 W\n",
      "[codecarbon INFO @ 10:38:52] 0.081625 kWh of electricity used since the begining.\n"
     ]
    },
    {
     "name": "stdout",
     "output_type": "stream",
     "text": [
      "183581/555884 [========>.....................] - ETA: 10:48 - loss: 0.0493 - accuracy: 0.9855"
     ]
    },
    {
     "name": "stderr",
     "output_type": "stream",
     "text": [
      "[codecarbon INFO @ 10:39:07] Energy consumed for RAM : 0.017736 kWh. RAM Power : 11.759872913360596 W\n",
      "[codecarbon INFO @ 10:39:07] Energy consumed for all CPUs : 0.064115 kWh. All CPUs Power : 42.5 W\n",
      "[codecarbon INFO @ 10:39:07] 0.081851 kWh of electricity used since the begining.\n"
     ]
    },
    {
     "name": "stdout",
     "output_type": "stream",
     "text": [
      "192216/555884 [=========>....................] - ETA: 10:32 - loss: 0.0493 - accuracy: 0.9855"
     ]
    },
    {
     "name": "stderr",
     "output_type": "stream",
     "text": [
      "[codecarbon INFO @ 10:39:22] Energy consumed for RAM : 0.017785 kWh. RAM Power : 11.759872913360596 W\n",
      "[codecarbon INFO @ 10:39:22] Energy consumed for all CPUs : 0.064292 kWh. All CPUs Power : 42.5 W\n",
      "[codecarbon INFO @ 10:39:22] 0.082077 kWh of electricity used since the begining.\n"
     ]
    },
    {
     "name": "stdout",
     "output_type": "stream",
     "text": [
      "200811/555884 [=========>....................] - ETA: 10:18 - loss: 0.0493 - accuracy: 0.9854"
     ]
    },
    {
     "name": "stderr",
     "output_type": "stream",
     "text": [
      "[codecarbon INFO @ 10:39:37] Energy consumed for RAM : 0.017834 kWh. RAM Power : 11.759872913360596 W\n",
      "[codecarbon INFO @ 10:39:37] Energy consumed for all CPUs : 0.064469 kWh. All CPUs Power : 42.5 W\n",
      "[codecarbon INFO @ 10:39:37] 0.082303 kWh of electricity used since the begining.\n"
     ]
    },
    {
     "name": "stdout",
     "output_type": "stream",
     "text": [
      "209388/555884 [==========>...................] - ETA: 10:03 - loss: 0.0493 - accuracy: 0.9855"
     ]
    },
    {
     "name": "stderr",
     "output_type": "stream",
     "text": [
      "[codecarbon INFO @ 10:39:52] Energy consumed for RAM : 0.017883 kWh. RAM Power : 11.759872913360596 W\n",
      "[codecarbon INFO @ 10:39:52] Energy consumed for all CPUs : 0.064646 kWh. All CPUs Power : 42.5 W\n",
      "[codecarbon INFO @ 10:39:52] 0.082529 kWh of electricity used since the begining.\n"
     ]
    },
    {
     "name": "stdout",
     "output_type": "stream",
     "text": [
      "218020/555884 [==========>...................] - ETA: 9:48 - loss: 0.0493 - accuracy: 0.9854"
     ]
    },
    {
     "name": "stderr",
     "output_type": "stream",
     "text": [
      "[codecarbon INFO @ 10:40:07] Energy consumed for RAM : 0.017932 kWh. RAM Power : 11.759872913360596 W\n",
      "[codecarbon INFO @ 10:40:07] Energy consumed for all CPUs : 0.064823 kWh. All CPUs Power : 42.5 W\n",
      "[codecarbon INFO @ 10:40:07] 0.082755 kWh of electricity used since the begining.\n"
     ]
    },
    {
     "name": "stdout",
     "output_type": "stream",
     "text": [
      "226627/555884 [===========>..................] - ETA: 9:33 - loss: 0.0493 - accuracy: 0.9854"
     ]
    },
    {
     "name": "stderr",
     "output_type": "stream",
     "text": [
      "[codecarbon INFO @ 10:40:22] Energy consumed for RAM : 0.017981 kWh. RAM Power : 11.759872913360596 W\n",
      "[codecarbon INFO @ 10:40:22] Energy consumed for all CPUs : 0.065000 kWh. All CPUs Power : 42.5 W\n",
      "[codecarbon INFO @ 10:40:22] 0.082981 kWh of electricity used since the begining.\n"
     ]
    },
    {
     "name": "stdout",
     "output_type": "stream",
     "text": [
      "235299/555884 [===========>..................] - ETA: 9:18 - loss: 0.0493 - accuracy: 0.9854"
     ]
    },
    {
     "name": "stderr",
     "output_type": "stream",
     "text": [
      "[codecarbon INFO @ 10:40:37] Energy consumed for RAM : 0.018030 kWh. RAM Power : 11.759872913360596 W\n",
      "[codecarbon INFO @ 10:40:37] Energy consumed for all CPUs : 0.065177 kWh. All CPUs Power : 42.5 W\n",
      "[codecarbon INFO @ 10:40:37] 0.083207 kWh of electricity used since the begining.\n"
     ]
    },
    {
     "name": "stdout",
     "output_type": "stream",
     "text": [
      "244002/555884 [============>.................] - ETA: 9:02 - loss: 0.0493 - accuracy: 0.9854"
     ]
    },
    {
     "name": "stderr",
     "output_type": "stream",
     "text": [
      "[codecarbon INFO @ 10:40:52] Energy consumed for RAM : 0.018079 kWh. RAM Power : 11.759872913360596 W\n",
      "[codecarbon INFO @ 10:40:52] Energy consumed for all CPUs : 0.065354 kWh. All CPUs Power : 42.5 W\n",
      "[codecarbon INFO @ 10:40:52] 0.083433 kWh of electricity used since the begining.\n"
     ]
    },
    {
     "name": "stdout",
     "output_type": "stream",
     "text": [
      "252765/555884 [============>.................] - ETA: 8:47 - loss: 0.0493 - accuracy: 0.9854"
     ]
    },
    {
     "name": "stderr",
     "output_type": "stream",
     "text": [
      "[codecarbon INFO @ 10:41:07] Energy consumed for RAM : 0.018128 kWh. RAM Power : 11.759872913360596 W\n",
      "[codecarbon INFO @ 10:41:07] Energy consumed for all CPUs : 0.065531 kWh. All CPUs Power : 42.5 W\n",
      "[codecarbon INFO @ 10:41:07] 0.083659 kWh of electricity used since the begining.\n"
     ]
    },
    {
     "name": "stdout",
     "output_type": "stream",
     "text": [
      "261326/555884 [=============>................] - ETA: 8:32 - loss: 0.0493 - accuracy: 0.9854"
     ]
    },
    {
     "name": "stderr",
     "output_type": "stream",
     "text": [
      "[codecarbon INFO @ 10:41:22] Energy consumed for RAM : 0.018177 kWh. RAM Power : 11.759872913360596 W\n",
      "[codecarbon INFO @ 10:41:22] Energy consumed for all CPUs : 0.065708 kWh. All CPUs Power : 42.5 W\n"
     ]
    },
    {
     "name": "stdout",
     "output_type": "stream",
     "text": [
      "\b\b\b\b\b\b\b\b\b\b\b\b\b\b\b\b\b\b\b\b\b\b\b\b\b\b\b\b\b\b\b\b\b\b\b\b\b\b\b\b\b\b\b\b\b\b\b\b\b\b\b\b\b\b\b\b\b\b\b\b\b\b\b\b\b\b\b\b\b\b\b\b\b\b\b\b\b\b\b\b\b\b\b\b\b\b\b\b\b\b\b\b\r",
      "261352/555884 [=============>................] - ETA: 8:32 - loss: 0.0493 - accuracy: 0.9854"
     ]
    },
    {
     "name": "stderr",
     "output_type": "stream",
     "text": [
      "[codecarbon INFO @ 10:41:22] 0.083885 kWh of electricity used since the begining.\n"
     ]
    },
    {
     "name": "stdout",
     "output_type": "stream",
     "text": [
      "269872/555884 [=============>................] - ETA: 8:17 - loss: 0.0493 - accuracy: 0.9854"
     ]
    },
    {
     "name": "stderr",
     "output_type": "stream",
     "text": [
      "[codecarbon INFO @ 10:41:37] Energy consumed for RAM : 0.018226 kWh. RAM Power : 11.759872913360596 W\n",
      "[codecarbon INFO @ 10:41:37] Energy consumed for all CPUs : 0.065886 kWh. All CPUs Power : 42.5 W\n",
      "[codecarbon INFO @ 10:41:37] 0.084111 kWh of electricity used since the begining.\n"
     ]
    },
    {
     "name": "stdout",
     "output_type": "stream",
     "text": [
      "278376/555884 [==============>...............] - ETA: 8:03 - loss: 0.0493 - accuracy: 0.9854"
     ]
    },
    {
     "name": "stderr",
     "output_type": "stream",
     "text": [
      "[codecarbon INFO @ 10:41:52] Energy consumed for RAM : 0.018275 kWh. RAM Power : 11.759872913360596 W\n",
      "[codecarbon INFO @ 10:41:52] Energy consumed for all CPUs : 0.066063 kWh. All CPUs Power : 42.5 W\n",
      "[codecarbon INFO @ 10:41:52] 0.084337 kWh of electricity used since the begining.\n"
     ]
    },
    {
     "name": "stdout",
     "output_type": "stream",
     "text": [
      "286967/555884 [==============>...............] - ETA: 7:48 - loss: 0.0493 - accuracy: 0.9854"
     ]
    },
    {
     "name": "stderr",
     "output_type": "stream",
     "text": [
      "[codecarbon INFO @ 10:42:07] Energy consumed for RAM : 0.018324 kWh. RAM Power : 11.759872913360596 W\n",
      "[codecarbon INFO @ 10:42:07] Energy consumed for all CPUs : 0.066240 kWh. All CPUs Power : 42.5 W\n",
      "[codecarbon INFO @ 10:42:07] 0.084563 kWh of electricity used since the begining.\n"
     ]
    },
    {
     "name": "stdout",
     "output_type": "stream",
     "text": [
      "295584/555884 [==============>...............] - ETA: 7:33 - loss: 0.0493 - accuracy: 0.9854"
     ]
    },
    {
     "name": "stderr",
     "output_type": "stream",
     "text": [
      "[codecarbon INFO @ 10:42:22] Energy consumed for RAM : 0.018373 kWh. RAM Power : 11.759872913360596 W\n",
      "[codecarbon INFO @ 10:42:22] Energy consumed for all CPUs : 0.066417 kWh. All CPUs Power : 42.5 W\n",
      "[codecarbon INFO @ 10:42:22] 0.084789 kWh of electricity used since the begining.\n"
     ]
    },
    {
     "name": "stdout",
     "output_type": "stream",
     "text": [
      "304124/555884 [===============>..............] - ETA: 7:18 - loss: 0.0493 - accuracy: 0.9854"
     ]
    },
    {
     "name": "stderr",
     "output_type": "stream",
     "text": [
      "[codecarbon INFO @ 10:42:37] Energy consumed for RAM : 0.018422 kWh. RAM Power : 11.759872913360596 W\n",
      "[codecarbon INFO @ 10:42:37] Energy consumed for all CPUs : 0.066594 kWh. All CPUs Power : 42.5 W\n",
      "[codecarbon INFO @ 10:42:37] 0.085015 kWh of electricity used since the begining.\n"
     ]
    },
    {
     "name": "stdout",
     "output_type": "stream",
     "text": [
      "312677/555884 [===============>..............] - ETA: 7:03 - loss: 0.0493 - accuracy: 0.9854"
     ]
    },
    {
     "name": "stderr",
     "output_type": "stream",
     "text": [
      "[codecarbon INFO @ 10:42:52] Energy consumed for RAM : 0.018471 kWh. RAM Power : 11.759872913360596 W\n",
      "[codecarbon INFO @ 10:42:52] Energy consumed for all CPUs : 0.066771 kWh. All CPUs Power : 42.5 W\n",
      "[codecarbon INFO @ 10:42:52] 0.085241 kWh of electricity used since the begining.\n"
     ]
    },
    {
     "name": "stdout",
     "output_type": "stream",
     "text": [
      "321187/555884 [================>.............] - ETA: 6:48 - loss: 0.0493 - accuracy: 0.9854"
     ]
    },
    {
     "name": "stderr",
     "output_type": "stream",
     "text": [
      "[codecarbon INFO @ 10:43:07] Energy consumed for RAM : 0.018520 kWh. RAM Power : 11.759872913360596 W\n",
      "[codecarbon INFO @ 10:43:07] Energy consumed for all CPUs : 0.066948 kWh. All CPUs Power : 42.5 W\n",
      "[codecarbon INFO @ 10:43:07] 0.085467 kWh of electricity used since the begining.\n"
     ]
    },
    {
     "name": "stdout",
     "output_type": "stream",
     "text": [
      "329711/555884 [================>.............] - ETA: 6:34 - loss: 0.0493 - accuracy: 0.9854"
     ]
    },
    {
     "name": "stderr",
     "output_type": "stream",
     "text": [
      "[codecarbon INFO @ 10:43:22] Energy consumed for RAM : 0.018568 kWh. RAM Power : 11.759872913360596 W\n",
      "[codecarbon INFO @ 10:43:22] Energy consumed for all CPUs : 0.067125 kWh. All CPUs Power : 42.5 W\n",
      "[codecarbon INFO @ 10:43:22] 0.085693 kWh of electricity used since the begining.\n"
     ]
    },
    {
     "name": "stdout",
     "output_type": "stream",
     "text": [
      "338475/555884 [=================>............] - ETA: 6:18 - loss: 0.0493 - accuracy: 0.9854"
     ]
    },
    {
     "name": "stderr",
     "output_type": "stream",
     "text": [
      "[codecarbon INFO @ 10:43:37] Energy consumed for RAM : 0.018617 kWh. RAM Power : 11.759872913360596 W\n",
      "[codecarbon INFO @ 10:43:37] Energy consumed for all CPUs : 0.067302 kWh. All CPUs Power : 42.5 W\n",
      "[codecarbon INFO @ 10:43:37] 0.085919 kWh of electricity used since the begining.\n"
     ]
    },
    {
     "name": "stdout",
     "output_type": "stream",
     "text": [
      "347166/555884 [=================>............] - ETA: 6:03 - loss: 0.0493 - accuracy: 0.9854"
     ]
    },
    {
     "name": "stderr",
     "output_type": "stream",
     "text": [
      "[codecarbon INFO @ 10:43:52] Energy consumed for RAM : 0.018666 kWh. RAM Power : 11.759872913360596 W\n",
      "[codecarbon INFO @ 10:43:52] Energy consumed for all CPUs : 0.067479 kWh. All CPUs Power : 42.5 W\n",
      "[codecarbon INFO @ 10:43:52] 0.086146 kWh of electricity used since the begining.\n"
     ]
    },
    {
     "name": "stdout",
     "output_type": "stream",
     "text": [
      "355485/555884 [==================>...........] - ETA: 5:49 - loss: 0.0493 - accuracy: 0.9854"
     ]
    },
    {
     "name": "stderr",
     "output_type": "stream",
     "text": [
      "[codecarbon INFO @ 10:44:07] Energy consumed for RAM : 0.018715 kWh. RAM Power : 11.759872913360596 W\n",
      "[codecarbon INFO @ 10:44:07] Energy consumed for all CPUs : 0.067656 kWh. All CPUs Power : 42.5 W\n",
      "[codecarbon INFO @ 10:44:07] 0.086372 kWh of electricity used since the begining.\n"
     ]
    },
    {
     "name": "stdout",
     "output_type": "stream",
     "text": [
      "364083/555884 [==================>...........] - ETA: 5:34 - loss: 0.0493 - accuracy: 0.9854"
     ]
    },
    {
     "name": "stderr",
     "output_type": "stream",
     "text": [
      "[codecarbon INFO @ 10:44:22] Energy consumed for RAM : 0.018764 kWh. RAM Power : 11.759872913360596 W\n",
      "[codecarbon INFO @ 10:44:22] Energy consumed for all CPUs : 0.067833 kWh. All CPUs Power : 42.5 W\n",
      "[codecarbon INFO @ 10:44:22] 0.086598 kWh of electricity used since the begining.\n"
     ]
    },
    {
     "name": "stdout",
     "output_type": "stream",
     "text": [
      "372696/555884 [===================>..........] - ETA: 5:19 - loss: 0.0493 - accuracy: 0.9854"
     ]
    },
    {
     "name": "stderr",
     "output_type": "stream",
     "text": [
      "[codecarbon INFO @ 10:44:37] Energy consumed for RAM : 0.018813 kWh. RAM Power : 11.759872913360596 W\n",
      "[codecarbon INFO @ 10:44:37] Energy consumed for all CPUs : 0.068010 kWh. All CPUs Power : 42.5 W\n",
      "[codecarbon INFO @ 10:44:37] 0.086824 kWh of electricity used since the begining.\n"
     ]
    },
    {
     "name": "stdout",
     "output_type": "stream",
     "text": [
      "381234/555884 [===================>..........] - ETA: 5:04 - loss: 0.0493 - accuracy: 0.9854"
     ]
    },
    {
     "name": "stderr",
     "output_type": "stream",
     "text": [
      "[codecarbon INFO @ 10:44:52] Energy consumed for RAM : 0.018862 kWh. RAM Power : 11.759872913360596 W\n",
      "[codecarbon INFO @ 10:44:52] Energy consumed for all CPUs : 0.068187 kWh. All CPUs Power : 42.5 W\n",
      "[codecarbon INFO @ 10:44:52] 0.087050 kWh of electricity used since the begining.\n"
     ]
    },
    {
     "name": "stdout",
     "output_type": "stream",
     "text": [
      "389807/555884 [====================>.........] - ETA: 4:49 - loss: 0.0493 - accuracy: 0.9854"
     ]
    },
    {
     "name": "stderr",
     "output_type": "stream",
     "text": [
      "[codecarbon INFO @ 10:45:07] Energy consumed for RAM : 0.018911 kWh. RAM Power : 11.759872913360596 W\n",
      "[codecarbon INFO @ 10:45:07] Energy consumed for all CPUs : 0.068364 kWh. All CPUs Power : 42.5 W\n",
      "[codecarbon INFO @ 10:45:07] 0.087276 kWh of electricity used since the begining.\n"
     ]
    },
    {
     "name": "stdout",
     "output_type": "stream",
     "text": [
      "398368/555884 [====================>.........] - ETA: 4:34 - loss: 0.0494 - accuracy: 0.9854"
     ]
    },
    {
     "name": "stderr",
     "output_type": "stream",
     "text": [
      "[codecarbon INFO @ 10:45:22] Energy consumed for RAM : 0.018960 kWh. RAM Power : 11.759872913360596 W\n",
      "[codecarbon INFO @ 10:45:22] Energy consumed for all CPUs : 0.068541 kWh. All CPUs Power : 42.5 W\n"
     ]
    },
    {
     "name": "stdout",
     "output_type": "stream",
     "text": [
      "\b\b\b\b\b\b\b\b\b\b\b\b\b\b\b\b\b\b\b\b\b\b\b\b\b\b\b\b\b\b\b\b\b\b\b\b\b\b\b\b\b\b\b\b\b\b\b\b\b\b\b\b\b\b\b\b\b\b\b\b\b\b\b\b\b\b\b\b\b\b\b\b\b\b\b\b\b\b\b\b\b\b\b\b\b\b\b\b\b\b\b\b\r",
      "398398/555884 [====================>.........] - ETA: 4:34 - loss: 0.0493 - accuracy: 0.9854"
     ]
    },
    {
     "name": "stderr",
     "output_type": "stream",
     "text": [
      "[codecarbon INFO @ 10:45:22] 0.087502 kWh of electricity used since the begining.\n"
     ]
    },
    {
     "name": "stdout",
     "output_type": "stream",
     "text": [
      "406877/555884 [====================>.........] - ETA: 4:19 - loss: 0.0493 - accuracy: 0.9854"
     ]
    },
    {
     "name": "stderr",
     "output_type": "stream",
     "text": [
      "[codecarbon INFO @ 10:45:37] Energy consumed for RAM : 0.019009 kWh. RAM Power : 11.759872913360596 W\n",
      "[codecarbon INFO @ 10:45:37] Energy consumed for all CPUs : 0.068718 kWh. All CPUs Power : 42.5 W\n",
      "[codecarbon INFO @ 10:45:37] 0.087728 kWh of electricity used since the begining.\n"
     ]
    },
    {
     "name": "stdout",
     "output_type": "stream",
     "text": [
      "415518/555884 [=====================>........] - ETA: 4:04 - loss: 0.0493 - accuracy: 0.9854"
     ]
    },
    {
     "name": "stderr",
     "output_type": "stream",
     "text": [
      "[codecarbon INFO @ 10:45:52] Energy consumed for RAM : 0.019058 kWh. RAM Power : 11.759872913360596 W\n",
      "[codecarbon INFO @ 10:45:52] Energy consumed for all CPUs : 0.068895 kWh. All CPUs Power : 42.5 W\n",
      "[codecarbon INFO @ 10:45:52] 0.087954 kWh of electricity used since the begining.\n"
     ]
    },
    {
     "name": "stdout",
     "output_type": "stream",
     "text": [
      "424151/555884 [=====================>........] - ETA: 3:49 - loss: 0.0493 - accuracy: 0.9854"
     ]
    },
    {
     "name": "stderr",
     "output_type": "stream",
     "text": [
      "[codecarbon INFO @ 10:46:07] Energy consumed for RAM : 0.019107 kWh. RAM Power : 11.759872913360596 W\n",
      "[codecarbon INFO @ 10:46:07] Energy consumed for all CPUs : 0.069073 kWh. All CPUs Power : 42.5 W\n",
      "[codecarbon INFO @ 10:46:07] 0.088180 kWh of electricity used since the begining.\n"
     ]
    },
    {
     "name": "stdout",
     "output_type": "stream",
     "text": [
      "432702/555884 [======================>.......] - ETA: 3:34 - loss: 0.0493 - accuracy: 0.9854"
     ]
    },
    {
     "name": "stderr",
     "output_type": "stream",
     "text": [
      "[codecarbon INFO @ 10:46:22] Energy consumed for RAM : 0.019156 kWh. RAM Power : 11.759872913360596 W\n",
      "[codecarbon INFO @ 10:46:22] Energy consumed for all CPUs : 0.069250 kWh. All CPUs Power : 42.5 W\n",
      "[codecarbon INFO @ 10:46:22] 0.088406 kWh of electricity used since the begining.\n"
     ]
    },
    {
     "name": "stdout",
     "output_type": "stream",
     "text": [
      "441235/555884 [======================>.......] - ETA: 3:19 - loss: 0.0493 - accuracy: 0.9854"
     ]
    },
    {
     "name": "stderr",
     "output_type": "stream",
     "text": [
      "[codecarbon INFO @ 10:46:37] Energy consumed for RAM : 0.019205 kWh. RAM Power : 11.759872913360596 W\n",
      "[codecarbon INFO @ 10:46:37] Energy consumed for all CPUs : 0.069427 kWh. All CPUs Power : 42.5 W\n",
      "[codecarbon INFO @ 10:46:37] 0.088632 kWh of electricity used since the begining.\n"
     ]
    },
    {
     "name": "stdout",
     "output_type": "stream",
     "text": [
      "449776/555884 [=======================>......] - ETA: 3:05 - loss: 0.0494 - accuracy: 0.9854"
     ]
    },
    {
     "name": "stderr",
     "output_type": "stream",
     "text": [
      "[codecarbon INFO @ 10:46:52] Energy consumed for RAM : 0.019254 kWh. RAM Power : 11.759872913360596 W\n"
     ]
    },
    {
     "name": "stdout",
     "output_type": "stream",
     "text": [
      "\b\b\b\b\b\b\b\b\b\b\b\b\b\b\b\b\b\b\b\b\b\b\b\b\b\b\b\b\b\b\b\b\b\b\b\b\b\b\b\b\b\b\b\b\b\b\b\b\b\b\b\b\b\b\b\b\b\b\b\b\b\b\b\b\b\b\b\b\b\b\b\b\b\b\b\b\b\b\b\b\b\b\b\b\b\b\b\b\b\b\b\b\r",
      "449807/555884 [=======================>......] - ETA: 3:05 - loss: 0.0494 - accuracy: 0.9854"
     ]
    },
    {
     "name": "stderr",
     "output_type": "stream",
     "text": [
      "[codecarbon INFO @ 10:46:52] Energy consumed for all CPUs : 0.069604 kWh. All CPUs Power : 42.5 W\n",
      "[codecarbon INFO @ 10:46:52] 0.088858 kWh of electricity used since the begining.\n"
     ]
    },
    {
     "name": "stdout",
     "output_type": "stream",
     "text": [
      "458279/555884 [=======================>......] - ETA: 2:50 - loss: 0.0494 - accuracy: 0.9854"
     ]
    },
    {
     "name": "stderr",
     "output_type": "stream",
     "text": [
      "[codecarbon INFO @ 10:47:07] Energy consumed for RAM : 0.019303 kWh. RAM Power : 11.759872913360596 W\n",
      "[codecarbon INFO @ 10:47:07] Energy consumed for all CPUs : 0.069781 kWh. All CPUs Power : 42.5 W\n",
      "[codecarbon INFO @ 10:47:07] 0.089084 kWh of electricity used since the begining.\n"
     ]
    },
    {
     "name": "stdout",
     "output_type": "stream",
     "text": [
      "466854/555884 [========================>.....] - ETA: 2:35 - loss: 0.0494 - accuracy: 0.9854"
     ]
    },
    {
     "name": "stderr",
     "output_type": "stream",
     "text": [
      "[codecarbon INFO @ 10:47:22] Energy consumed for RAM : 0.019352 kWh. RAM Power : 11.759872913360596 W\n",
      "[codecarbon INFO @ 10:47:22] Energy consumed for all CPUs : 0.069958 kWh. All CPUs Power : 42.5 W\n",
      "[codecarbon INFO @ 10:47:22] 0.089310 kWh of electricity used since the begining.\n"
     ]
    },
    {
     "name": "stdout",
     "output_type": "stream",
     "text": [
      "475413/555884 [========================>.....] - ETA: 2:20 - loss: 0.0494 - accuracy: 0.9854"
     ]
    },
    {
     "name": "stderr",
     "output_type": "stream",
     "text": [
      "[codecarbon INFO @ 10:47:37] Energy consumed for RAM : 0.019401 kWh. RAM Power : 11.759872913360596 W\n",
      "[codecarbon INFO @ 10:47:37] Energy consumed for all CPUs : 0.070135 kWh. All CPUs Power : 42.5 W\n",
      "[codecarbon INFO @ 10:47:37] 0.089536 kWh of electricity used since the begining.\n"
     ]
    },
    {
     "name": "stdout",
     "output_type": "stream",
     "text": [
      "483943/555884 [=========================>....] - ETA: 2:05 - loss: 0.0494 - accuracy: 0.9854"
     ]
    },
    {
     "name": "stderr",
     "output_type": "stream",
     "text": [
      "[codecarbon INFO @ 10:47:52] Energy consumed for RAM : 0.019450 kWh. RAM Power : 11.759872913360596 W\n",
      "[codecarbon INFO @ 10:47:52] Energy consumed for all CPUs : 0.070312 kWh. All CPUs Power : 42.5 W\n",
      "[codecarbon INFO @ 10:47:52] 0.089762 kWh of electricity used since the begining.\n"
     ]
    },
    {
     "name": "stdout",
     "output_type": "stream",
     "text": [
      "492741/555884 [=========================>....] - ETA: 1:50 - loss: 0.0494 - accuracy: 0.9854"
     ]
    },
    {
     "name": "stderr",
     "output_type": "stream",
     "text": [
      "[codecarbon INFO @ 10:48:07] Energy consumed for RAM : 0.019499 kWh. RAM Power : 11.759872913360596 W\n",
      "[codecarbon INFO @ 10:48:07] Energy consumed for all CPUs : 0.070489 kWh. All CPUs Power : 42.5 W\n",
      "[codecarbon INFO @ 10:48:07] 0.089988 kWh of electricity used since the begining.\n"
     ]
    },
    {
     "name": "stdout",
     "output_type": "stream",
     "text": [
      "501564/555884 [==========================>...] - ETA: 1:34 - loss: 0.0494 - accuracy: 0.9854"
     ]
    },
    {
     "name": "stderr",
     "output_type": "stream",
     "text": [
      "[codecarbon INFO @ 10:48:22] Energy consumed for RAM : 0.019548 kWh. RAM Power : 11.759872913360596 W\n",
      "[codecarbon INFO @ 10:48:22] Energy consumed for all CPUs : 0.070666 kWh. All CPUs Power : 42.5 W\n",
      "[codecarbon INFO @ 10:48:22] 0.090214 kWh of electricity used since the begining.\n"
     ]
    },
    {
     "name": "stdout",
     "output_type": "stream",
     "text": [
      "510156/555884 [==========================>...] - ETA: 1:19 - loss: 0.0494 - accuracy: 0.9854"
     ]
    },
    {
     "name": "stderr",
     "output_type": "stream",
     "text": [
      "[codecarbon INFO @ 10:48:37] Energy consumed for RAM : 0.019597 kWh. RAM Power : 11.759872913360596 W\n",
      "[codecarbon INFO @ 10:48:37] Energy consumed for all CPUs : 0.070843 kWh. All CPUs Power : 42.5 W\n",
      "[codecarbon INFO @ 10:48:37] 0.090440 kWh of electricity used since the begining.\n"
     ]
    },
    {
     "name": "stdout",
     "output_type": "stream",
     "text": [
      "518759/555884 [==========================>...] - ETA: 1:04 - loss: 0.0494 - accuracy: 0.9854"
     ]
    },
    {
     "name": "stderr",
     "output_type": "stream",
     "text": [
      "[codecarbon INFO @ 10:48:52] Energy consumed for RAM : 0.019646 kWh. RAM Power : 11.759872913360596 W\n",
      "[codecarbon INFO @ 10:48:52] Energy consumed for all CPUs : 0.071020 kWh. All CPUs Power : 42.5 W\n",
      "[codecarbon INFO @ 10:48:52] 0.090666 kWh of electricity used since the begining.\n"
     ]
    },
    {
     "name": "stdout",
     "output_type": "stream",
     "text": [
      "527372/555884 [===========================>..] - ETA: 49s - loss: 0.0494 - accuracy: 0.9854"
     ]
    },
    {
     "name": "stderr",
     "output_type": "stream",
     "text": [
      "[codecarbon INFO @ 10:49:07] Energy consumed for RAM : 0.019695 kWh. RAM Power : 11.759872913360596 W\n",
      "[codecarbon INFO @ 10:49:07] Energy consumed for all CPUs : 0.071197 kWh. All CPUs Power : 42.5 W\n",
      "[codecarbon INFO @ 10:49:07] 0.090892 kWh of electricity used since the begining.\n"
     ]
    },
    {
     "name": "stdout",
     "output_type": "stream",
     "text": [
      "535976/555884 [===========================>..] - ETA: 34s - loss: 0.0494 - accuracy: 0.9854"
     ]
    },
    {
     "name": "stderr",
     "output_type": "stream",
     "text": [
      "[codecarbon INFO @ 10:49:22] Energy consumed for RAM : 0.019744 kWh. RAM Power : 11.759872913360596 W\n",
      "[codecarbon INFO @ 10:49:22] Energy consumed for all CPUs : 0.071374 kWh. All CPUs Power : 42.5 W\n",
      "[codecarbon INFO @ 10:49:22] 0.091118 kWh of electricity used since the begining.\n"
     ]
    },
    {
     "name": "stdout",
     "output_type": "stream",
     "text": [
      "544611/555884 [============================>.] - ETA: 19s - loss: 0.0494 - accuracy: 0.9855"
     ]
    },
    {
     "name": "stderr",
     "output_type": "stream",
     "text": [
      "[codecarbon INFO @ 10:49:37] Energy consumed for RAM : 0.019793 kWh. RAM Power : 11.759872913360596 W\n",
      "[codecarbon INFO @ 10:49:37] Energy consumed for all CPUs : 0.071551 kWh. All CPUs Power : 42.5 W\n"
     ]
    },
    {
     "name": "stdout",
     "output_type": "stream",
     "text": [
      "\b\b\b\b\b\b\b\b\b\b\b\b\b\b\b\b\b\b\b\b\b\b\b\b\b\b\b\b\b\b\b\b\b\b\b\b\b\b\b\b\b\b\b\b\b\b\b\b\b\b\b\b\b\b\b\b\b\b\b\b\b\b\b\b\b\b\b\b\b\b\b\b\b\b\b\b\b\b\b\b\b\b\b\b\b\b\b\b\b\b\b\r",
      "544641/555884 [============================>.] - ETA: 19s - loss: 0.0494 - accuracy: 0.9855"
     ]
    },
    {
     "name": "stderr",
     "output_type": "stream",
     "text": [
      "[codecarbon INFO @ 10:49:37] 0.091344 kWh of electricity used since the begining.\n"
     ]
    },
    {
     "name": "stdout",
     "output_type": "stream",
     "text": [
      "553333/555884 [============================>.] - ETA: 4s - loss: 0.0494 - accuracy: 0.9856"
     ]
    },
    {
     "name": "stderr",
     "output_type": "stream",
     "text": [
      "[codecarbon INFO @ 10:49:52] Energy consumed for RAM : 0.019842 kWh. RAM Power : 11.759872913360596 W\n",
      "[codecarbon INFO @ 10:49:52] Energy consumed for all CPUs : 0.071728 kWh. All CPUs Power : 42.5 W\n"
     ]
    },
    {
     "name": "stdout",
     "output_type": "stream",
     "text": [
      "\b\b\b\b\b\b\b\b\b\b\b\b\b\b\b\b\b\b\b\b\b\b\b\b\b\b\b\b\b\b\b\b\b\b\b\b\b\b\b\b\b\b\b\b\b\b\b\b\b\b\b\b\b\b\b\b\b\b\b\b\b\b\b\b\b\b\b\b\b\b\b\b\b\b\b\b\b\b\b\b\b\b\b\b\b\b\b\b\b\b\r",
      "553362/555884 [============================>.] - ETA: 4s - loss: 0.0494 - accuracy: 0.9856"
     ]
    },
    {
     "name": "stderr",
     "output_type": "stream",
     "text": [
      "[codecarbon INFO @ 10:49:52] 0.091570 kWh of electricity used since the begining.\n"
     ]
    },
    {
     "name": "stdout",
     "output_type": "stream",
     "text": [
      "555884/555884 [==============================] - 969s 2ms/step - loss: 0.0494 - accuracy: 0.9857\n",
      "Loss on test data = 0.04938657954335213 \n",
      "Accuracy on test data = 0.9856530427932739\n"
     ]
    },
    {
     "name": "stderr",
     "output_type": "stream",
     "text": [
      "[codecarbon INFO @ 10:50:07] Energy consumed for RAM : 0.019891 kWh. RAM Power : 11.759872913360596 W\n",
      "[codecarbon INFO @ 10:50:07] Energy consumed for all CPUs : 0.071905 kWh. All CPUs Power : 42.5 W\n",
      "[codecarbon INFO @ 10:50:07] 0.091796 kWh of electricity used since the begining.\n",
      "[codecarbon INFO @ 10:50:22] Energy consumed for RAM : 0.019940 kWh. RAM Power : 11.759872913360596 W\n",
      "[codecarbon INFO @ 10:50:22] Energy consumed for all CPUs : 0.072082 kWh. All CPUs Power : 42.5 W\n",
      "[codecarbon INFO @ 10:50:22] 0.092022 kWh of electricity used since the begining.\n",
      "[codecarbon INFO @ 10:50:37] Energy consumed for RAM : 0.019989 kWh. RAM Power : 11.759872913360596 W\n",
      "[codecarbon INFO @ 10:50:37] Energy consumed for all CPUs : 0.072259 kWh. All CPUs Power : 42.5 W\n",
      "[codecarbon INFO @ 10:50:37] 0.092248 kWh of electricity used since the begining.\n",
      "[codecarbon INFO @ 10:50:52] Energy consumed for RAM : 0.020038 kWh. RAM Power : 11.759872913360596 W\n",
      "[codecarbon INFO @ 10:50:52] Energy consumed for all CPUs : 0.072436 kWh. All CPUs Power : 42.5 W\n",
      "[codecarbon INFO @ 10:50:52] 0.092474 kWh of electricity used since the begining.\n",
      "[codecarbon INFO @ 10:51:07] Energy consumed for RAM : 0.020087 kWh. RAM Power : 11.759872913360596 W\n",
      "[codecarbon INFO @ 10:51:07] Energy consumed for all CPUs : 0.072614 kWh. All CPUs Power : 42.5 W\n",
      "[codecarbon INFO @ 10:51:07] 0.092700 kWh of electricity used since the begining.\n",
      "[codecarbon INFO @ 10:51:22] Energy consumed for RAM : 0.020136 kWh. RAM Power : 11.759872913360596 W\n",
      "[codecarbon INFO @ 10:51:22] Energy consumed for all CPUs : 0.072791 kWh. All CPUs Power : 42.5 W\n",
      "[codecarbon INFO @ 10:51:22] 0.092926 kWh of electricity used since the begining.\n",
      "[codecarbon INFO @ 10:51:37] Energy consumed for RAM : 0.020185 kWh. RAM Power : 11.759872913360596 W\n",
      "[codecarbon INFO @ 10:51:37] Energy consumed for all CPUs : 0.072968 kWh. All CPUs Power : 42.5 W\n",
      "[codecarbon INFO @ 10:51:37] 0.093152 kWh of electricity used since the begining.\n",
      "[codecarbon INFO @ 10:51:52] Energy consumed for RAM : 0.020234 kWh. RAM Power : 11.759872913360596 W\n",
      "[codecarbon INFO @ 10:51:52] Energy consumed for all CPUs : 0.073145 kWh. All CPUs Power : 42.5 W\n",
      "[codecarbon INFO @ 10:51:52] 0.093379 kWh of electricity used since the begining.\n",
      "[codecarbon INFO @ 10:52:07] Energy consumed for RAM : 0.020283 kWh. RAM Power : 11.759872913360596 W\n",
      "[codecarbon INFO @ 10:52:07] Energy consumed for all CPUs : 0.073322 kWh. All CPUs Power : 42.5 W\n",
      "[codecarbon INFO @ 10:52:07] 0.093605 kWh of electricity used since the begining.\n",
      "[codecarbon INFO @ 10:52:22] Energy consumed for RAM : 0.020332 kWh. RAM Power : 11.759872913360596 W\n",
      "[codecarbon INFO @ 10:52:22] Energy consumed for all CPUs : 0.073499 kWh. All CPUs Power : 42.5 W\n",
      "[codecarbon INFO @ 10:52:22] 0.093831 kWh of electricity used since the begining.\n",
      "[codecarbon INFO @ 10:52:37] Energy consumed for RAM : 0.020381 kWh. RAM Power : 11.759872913360596 W\n",
      "[codecarbon INFO @ 10:52:37] Energy consumed for all CPUs : 0.073676 kWh. All CPUs Power : 42.5 W\n",
      "[codecarbon INFO @ 10:52:37] 0.094057 kWh of electricity used since the begining.\n",
      "[codecarbon INFO @ 10:52:52] Energy consumed for RAM : 0.020430 kWh. RAM Power : 11.759872913360596 W\n",
      "[codecarbon INFO @ 10:52:52] Energy consumed for all CPUs : 0.073853 kWh. All CPUs Power : 42.5 W\n",
      "[codecarbon INFO @ 10:52:52] 0.094283 kWh of electricity used since the begining.\n",
      "[codecarbon INFO @ 10:53:07] Energy consumed for RAM : 0.020479 kWh. RAM Power : 11.759872913360596 W\n",
      "[codecarbon INFO @ 10:53:07] Energy consumed for all CPUs : 0.074030 kWh. All CPUs Power : 42.5 W\n",
      "[codecarbon INFO @ 10:53:07] 0.094509 kWh of electricity used since the begining.\n",
      "[codecarbon INFO @ 10:53:22] Energy consumed for RAM : 0.020528 kWh. RAM Power : 11.759872913360596 W\n",
      "[codecarbon INFO @ 10:53:22] Energy consumed for all CPUs : 0.074207 kWh. All CPUs Power : 42.5 W\n",
      "[codecarbon INFO @ 10:53:22] 0.094735 kWh of electricity used since the begining.\n",
      "[codecarbon INFO @ 10:53:37] Energy consumed for RAM : 0.020577 kWh. RAM Power : 11.759872913360596 W\n",
      "[codecarbon INFO @ 10:53:37] Energy consumed for all CPUs : 0.074384 kWh. All CPUs Power : 42.5 W\n",
      "[codecarbon INFO @ 10:53:37] 0.094961 kWh of electricity used since the begining.\n",
      "[codecarbon INFO @ 10:53:52] Energy consumed for RAM : 0.020626 kWh. RAM Power : 11.759872913360596 W\n",
      "[codecarbon INFO @ 10:53:52] Energy consumed for all CPUs : 0.074561 kWh. All CPUs Power : 42.5 W\n",
      "[codecarbon INFO @ 10:53:52] 0.095187 kWh of electricity used since the begining.\n",
      "[codecarbon INFO @ 10:54:07] Energy consumed for RAM : 0.020675 kWh. RAM Power : 11.759872913360596 W\n",
      "[codecarbon INFO @ 10:54:07] Energy consumed for all CPUs : 0.074738 kWh. All CPUs Power : 42.5 W\n",
      "[codecarbon INFO @ 10:54:07] 0.095413 kWh of electricity used since the begining.\n",
      "[codecarbon INFO @ 10:54:22] Energy consumed for RAM : 0.020724 kWh. RAM Power : 11.759872913360596 W\n",
      "[codecarbon INFO @ 10:54:22] Energy consumed for all CPUs : 0.074915 kWh. All CPUs Power : 42.5 W\n",
      "[codecarbon INFO @ 10:54:22] 0.095639 kWh of electricity used since the begining.\n",
      "[codecarbon INFO @ 10:54:37] Energy consumed for RAM : 0.020773 kWh. RAM Power : 11.759872913360596 W\n",
      "[codecarbon INFO @ 10:54:37] Energy consumed for all CPUs : 0.075092 kWh. All CPUs Power : 42.5 W\n",
      "[codecarbon INFO @ 10:54:37] 0.095865 kWh of electricity used since the begining.\n",
      "[codecarbon INFO @ 10:54:52] Energy consumed for RAM : 0.020822 kWh. RAM Power : 11.759872913360596 W\n",
      "[codecarbon INFO @ 10:54:52] Energy consumed for all CPUs : 0.075269 kWh. All CPUs Power : 42.5 W\n",
      "[codecarbon INFO @ 10:54:52] 0.096091 kWh of electricity used since the begining.\n",
      "[codecarbon INFO @ 10:55:07] Energy consumed for RAM : 0.020871 kWh. RAM Power : 11.759872913360596 W\n",
      "[codecarbon INFO @ 10:55:07] Energy consumed for all CPUs : 0.075446 kWh. All CPUs Power : 42.5 W\n",
      "[codecarbon INFO @ 10:55:07] 0.096317 kWh of electricity used since the begining.\n",
      "[codecarbon INFO @ 10:55:22] Energy consumed for RAM : 0.020920 kWh. RAM Power : 11.759872913360596 W\n",
      "[codecarbon INFO @ 10:55:22] Energy consumed for all CPUs : 0.075624 kWh. All CPUs Power : 42.5 W\n",
      "[codecarbon INFO @ 10:55:22] 0.096543 kWh of electricity used since the begining.\n",
      "[codecarbon INFO @ 10:55:37] Energy consumed for RAM : 0.020968 kWh. RAM Power : 11.759872913360596 W\n",
      "[codecarbon INFO @ 10:55:37] Energy consumed for all CPUs : 0.075801 kWh. All CPUs Power : 42.5 W\n",
      "[codecarbon INFO @ 10:55:37] 0.096769 kWh of electricity used since the begining.\n",
      "[codecarbon INFO @ 10:55:52] Energy consumed for RAM : 0.021017 kWh. RAM Power : 11.759872913360596 W\n",
      "[codecarbon INFO @ 10:55:52] Energy consumed for all CPUs : 0.075978 kWh. All CPUs Power : 42.5 W\n",
      "[codecarbon INFO @ 10:55:52] 0.096995 kWh of electricity used since the begining.\n",
      "[codecarbon INFO @ 10:56:07] Energy consumed for RAM : 0.021066 kWh. RAM Power : 11.759872913360596 W\n",
      "[codecarbon INFO @ 10:56:07] Energy consumed for all CPUs : 0.076155 kWh. All CPUs Power : 42.5 W\n",
      "[codecarbon INFO @ 10:56:07] 0.097221 kWh of electricity used since the begining.\n",
      "[codecarbon INFO @ 10:56:22] Energy consumed for RAM : 0.021115 kWh. RAM Power : 11.759872913360596 W\n",
      "[codecarbon INFO @ 10:56:22] Energy consumed for all CPUs : 0.076332 kWh. All CPUs Power : 42.5 W\n",
      "[codecarbon INFO @ 10:56:22] 0.097447 kWh of electricity used since the begining.\n",
      "[codecarbon INFO @ 10:56:37] Energy consumed for RAM : 0.021164 kWh. RAM Power : 11.759872913360596 W\n",
      "[codecarbon INFO @ 10:56:37] Energy consumed for all CPUs : 0.076509 kWh. All CPUs Power : 42.5 W\n",
      "[codecarbon INFO @ 10:56:37] 0.097673 kWh of electricity used since the begining.\n",
      "[codecarbon INFO @ 10:56:52] Energy consumed for RAM : 0.021213 kWh. RAM Power : 11.759872913360596 W\n",
      "[codecarbon INFO @ 10:56:52] Energy consumed for all CPUs : 0.076686 kWh. All CPUs Power : 42.5 W\n",
      "[codecarbon INFO @ 10:56:52] 0.097899 kWh of electricity used since the begining.\n",
      "[codecarbon INFO @ 10:57:07] Energy consumed for RAM : 0.021262 kWh. RAM Power : 11.759872913360596 W\n",
      "[codecarbon INFO @ 10:57:07] Energy consumed for all CPUs : 0.076863 kWh. All CPUs Power : 42.5 W\n",
      "[codecarbon INFO @ 10:57:07] 0.098125 kWh of electricity used since the begining.\n",
      "[codecarbon INFO @ 10:57:22] Energy consumed for RAM : 0.021311 kWh. RAM Power : 11.759872913360596 W\n"
     ]
    },
    {
     "name": "stderr",
     "output_type": "stream",
     "text": [
      "[codecarbon INFO @ 10:57:22] Energy consumed for all CPUs : 0.077040 kWh. All CPUs Power : 42.5 W\n",
      "[codecarbon INFO @ 10:57:22] 0.098351 kWh of electricity used since the begining.\n"
     ]
    }
   ],
   "source": [
    "# evaluate test data\n",
    "test_target = tf.keras.utils.to_categorical(test_values, num_classes=2)\n",
    "test_result = model.evaluate([test_playlists, test_tracks],test_target)\n",
    "print('Loss on test data =', test_result[0],\n",
    "      '\\nAccuracy on test data =', test_result[1])"
   ]
  },
  {
   "cell_type": "code",
   "execution_count": null,
   "id": "fcfd2511",
   "metadata": {},
   "outputs": [],
   "source": []
  },
  {
   "cell_type": "markdown",
   "id": "983dd3be",
   "metadata": {},
   "source": [
    "## Model Performance Metrics"
   ]
  },
  {
   "cell_type": "code",
   "execution_count": 35,
   "id": "12592a3d",
   "metadata": {
    "collapsed": true
   },
   "outputs": [
    {
     "name": "stderr",
     "output_type": "stream",
     "text": [
      "[codecarbon INFO @ 11:00:07] Energy consumed for RAM : 0.021850 kWh. RAM Power : 11.759872913360596 W\n",
      "[codecarbon INFO @ 11:00:07] Energy consumed for all CPUs : 0.078988 kWh. All CPUs Power : 42.5 W\n",
      "[codecarbon INFO @ 11:00:07] 0.100838 kWh of electricity used since the begining.\n",
      "[codecarbon INFO @ 11:00:22] Energy consumed for RAM : 0.021899 kWh. RAM Power : 11.759872913360596 W\n",
      "[codecarbon INFO @ 11:00:22] Energy consumed for all CPUs : 0.079165 kWh. All CPUs Power : 42.5 W\n",
      "[codecarbon INFO @ 11:00:22] 0.101064 kWh of electricity used since the begining.\n",
      "[codecarbon INFO @ 11:00:37] Energy consumed for RAM : 0.021948 kWh. RAM Power : 11.759872913360596 W\n",
      "[codecarbon INFO @ 11:00:37] Energy consumed for all CPUs : 0.079342 kWh. All CPUs Power : 42.5 W\n",
      "[codecarbon INFO @ 11:00:37] 0.101290 kWh of electricity used since the begining.\n",
      "[codecarbon INFO @ 11:00:52] Energy consumed for RAM : 0.021997 kWh. RAM Power : 11.759872913360596 W\n",
      "[codecarbon INFO @ 11:00:52] Energy consumed for all CPUs : 0.079519 kWh. All CPUs Power : 42.5 W\n",
      "[codecarbon INFO @ 11:00:52] 0.101516 kWh of electricity used since the begining.\n",
      "[codecarbon INFO @ 11:01:07] Energy consumed for RAM : 0.022046 kWh. RAM Power : 11.759872913360596 W\n",
      "[codecarbon INFO @ 11:01:07] Energy consumed for all CPUs : 0.079696 kWh. All CPUs Power : 42.5 W\n",
      "[codecarbon INFO @ 11:01:07] 0.101742 kWh of electricity used since the begining.\n",
      "[codecarbon INFO @ 11:01:22] Energy consumed for RAM : 0.022095 kWh. RAM Power : 11.759872913360596 W\n",
      "[codecarbon INFO @ 11:01:22] Energy consumed for all CPUs : 0.079873 kWh. All CPUs Power : 42.5 W\n",
      "[codecarbon INFO @ 11:01:22] 0.101968 kWh of electricity used since the begining.\n",
      "[codecarbon INFO @ 11:01:37] Energy consumed for RAM : 0.022144 kWh. RAM Power : 11.759872913360596 W\n",
      "[codecarbon INFO @ 11:01:37] Energy consumed for all CPUs : 0.080050 kWh. All CPUs Power : 42.5 W\n",
      "[codecarbon INFO @ 11:01:37] 0.102194 kWh of electricity used since the begining.\n",
      "[codecarbon INFO @ 11:01:52] Energy consumed for RAM : 0.022193 kWh. RAM Power : 11.759872913360596 W\n",
      "[codecarbon INFO @ 11:01:52] Energy consumed for all CPUs : 0.080227 kWh. All CPUs Power : 42.5 W\n",
      "[codecarbon INFO @ 11:01:52] 0.102420 kWh of electricity used since the begining.\n",
      "[codecarbon INFO @ 11:02:07] Energy consumed for RAM : 0.022242 kWh. RAM Power : 11.759872913360596 W\n",
      "[codecarbon INFO @ 11:02:07] Energy consumed for all CPUs : 0.080404 kWh. All CPUs Power : 42.5 W\n",
      "[codecarbon INFO @ 11:02:07] 0.102646 kWh of electricity used since the begining.\n",
      "[codecarbon INFO @ 11:02:22] Energy consumed for RAM : 0.022291 kWh. RAM Power : 11.759872913360596 W\n",
      "[codecarbon INFO @ 11:02:22] Energy consumed for all CPUs : 0.080581 kWh. All CPUs Power : 42.5 W\n",
      "[codecarbon INFO @ 11:02:22] 0.102872 kWh of electricity used since the begining.\n",
      "[codecarbon INFO @ 11:02:37] Energy consumed for RAM : 0.022340 kWh. RAM Power : 11.759872913360596 W\n",
      "[codecarbon INFO @ 11:02:37] Energy consumed for all CPUs : 0.080758 kWh. All CPUs Power : 42.5 W\n",
      "[codecarbon INFO @ 11:02:37] 0.103098 kWh of electricity used since the begining.\n",
      "[codecarbon INFO @ 11:02:52] Energy consumed for RAM : 0.022389 kWh. RAM Power : 11.759872913360596 W\n",
      "[codecarbon INFO @ 11:02:52] Energy consumed for all CPUs : 0.080935 kWh. All CPUs Power : 42.5 W\n",
      "[codecarbon INFO @ 11:02:52] 0.103324 kWh of electricity used since the begining.\n",
      "[codecarbon INFO @ 11:03:07] Energy consumed for RAM : 0.022438 kWh. RAM Power : 11.759872913360596 W\n",
      "[codecarbon INFO @ 11:03:07] Energy consumed for all CPUs : 0.081112 kWh. All CPUs Power : 42.5 W\n",
      "[codecarbon INFO @ 11:03:07] 0.103550 kWh of electricity used since the begining.\n",
      "[codecarbon INFO @ 11:03:22] Energy consumed for RAM : 0.022487 kWh. RAM Power : 11.759872913360596 W\n",
      "[codecarbon INFO @ 11:03:22] Energy consumed for all CPUs : 0.081289 kWh. All CPUs Power : 42.5 W\n",
      "[codecarbon INFO @ 11:03:22] 0.103776 kWh of electricity used since the begining.\n",
      "[codecarbon INFO @ 11:03:37] Energy consumed for RAM : 0.022536 kWh. RAM Power : 11.759872913360596 W\n",
      "[codecarbon INFO @ 11:03:37] Energy consumed for all CPUs : 0.081466 kWh. All CPUs Power : 42.5 W\n",
      "[codecarbon INFO @ 11:03:37] 0.104002 kWh of electricity used since the begining.\n",
      "[codecarbon INFO @ 11:03:52] Energy consumed for RAM : 0.022585 kWh. RAM Power : 11.759872913360596 W\n",
      "[codecarbon INFO @ 11:03:52] Energy consumed for all CPUs : 0.081643 kWh. All CPUs Power : 42.5 W\n",
      "[codecarbon INFO @ 11:03:52] 0.104228 kWh of electricity used since the begining.\n",
      "[codecarbon INFO @ 11:04:07] Energy consumed for RAM : 0.022634 kWh. RAM Power : 11.759872913360596 W\n",
      "[codecarbon INFO @ 11:04:07] Energy consumed for all CPUs : 0.081822 kWh. All CPUs Power : 42.5 W\n",
      "[codecarbon INFO @ 11:04:07] 0.104457 kWh of electricity used since the begining.\n",
      "[codecarbon INFO @ 11:04:22] Energy consumed for RAM : 0.022683 kWh. RAM Power : 11.759872913360596 W\n",
      "[codecarbon INFO @ 11:04:22] Energy consumed for all CPUs : 0.081999 kWh. All CPUs Power : 42.5 W\n",
      "[codecarbon INFO @ 11:04:22] 0.104683 kWh of electricity used since the begining.\n",
      "[codecarbon INFO @ 11:04:37] Energy consumed for RAM : 0.022732 kWh. RAM Power : 11.759872913360596 W\n",
      "[codecarbon INFO @ 11:04:37] Energy consumed for all CPUs : 0.082176 kWh. All CPUs Power : 42.5 W\n",
      "[codecarbon INFO @ 11:04:37] 0.104909 kWh of electricity used since the begining.\n",
      "[codecarbon INFO @ 11:04:52] Energy consumed for RAM : 0.022781 kWh. RAM Power : 11.759872913360596 W\n",
      "[codecarbon INFO @ 11:04:52] Energy consumed for all CPUs : 0.082353 kWh. All CPUs Power : 42.5 W\n",
      "[codecarbon INFO @ 11:04:52] 0.105135 kWh of electricity used since the begining.\n",
      "[codecarbon INFO @ 11:05:07] Energy consumed for RAM : 0.022830 kWh. RAM Power : 11.759872913360596 W\n",
      "[codecarbon INFO @ 11:05:07] Energy consumed for all CPUs : 0.082530 kWh. All CPUs Power : 42.5 W\n",
      "[codecarbon INFO @ 11:05:07] 0.105361 kWh of electricity used since the begining.\n",
      "[codecarbon INFO @ 11:05:22] Energy consumed for RAM : 0.022879 kWh. RAM Power : 11.759872913360596 W\n",
      "[codecarbon INFO @ 11:05:22] Energy consumed for all CPUs : 0.082707 kWh. All CPUs Power : 42.5 W\n",
      "[codecarbon INFO @ 11:05:22] 0.105587 kWh of electricity used since the begining.\n",
      "[codecarbon INFO @ 11:05:37] Energy consumed for RAM : 0.022928 kWh. RAM Power : 11.759872913360596 W\n",
      "[codecarbon INFO @ 11:05:37] Energy consumed for all CPUs : 0.082885 kWh. All CPUs Power : 42.5 W\n",
      "[codecarbon INFO @ 11:05:37] 0.105813 kWh of electricity used since the begining.\n",
      "[codecarbon INFO @ 11:05:52] Energy consumed for RAM : 0.022977 kWh. RAM Power : 11.759872913360596 W\n",
      "[codecarbon INFO @ 11:05:52] Energy consumed for all CPUs : 0.083062 kWh. All CPUs Power : 42.5 W\n",
      "[codecarbon INFO @ 11:05:52] 0.106039 kWh of electricity used since the begining.\n",
      "[codecarbon INFO @ 11:06:07] Energy consumed for RAM : 0.023026 kWh. RAM Power : 11.759872913360596 W\n",
      "[codecarbon INFO @ 11:06:07] Energy consumed for all CPUs : 0.083239 kWh. All CPUs Power : 42.5 W\n",
      "[codecarbon INFO @ 11:06:07] 0.106265 kWh of electricity used since the begining.\n",
      "[codecarbon INFO @ 11:06:22] Energy consumed for RAM : 0.023075 kWh. RAM Power : 11.759872913360596 W\n",
      "[codecarbon INFO @ 11:06:22] Energy consumed for all CPUs : 0.083416 kWh. All CPUs Power : 42.5 W\n",
      "[codecarbon INFO @ 11:06:22] 0.106491 kWh of electricity used since the begining.\n",
      "[codecarbon INFO @ 11:06:37] Energy consumed for RAM : 0.023124 kWh. RAM Power : 11.759872913360596 W\n",
      "[codecarbon INFO @ 11:06:37] Energy consumed for all CPUs : 0.083593 kWh. All CPUs Power : 42.5 W\n",
      "[codecarbon INFO @ 11:06:37] 0.106717 kWh of electricity used since the begining.\n",
      "[codecarbon INFO @ 11:06:52] Energy consumed for RAM : 0.023173 kWh. RAM Power : 11.759872913360596 W\n",
      "[codecarbon INFO @ 11:06:52] Energy consumed for all CPUs : 0.083770 kWh. All CPUs Power : 42.5 W\n",
      "[codecarbon INFO @ 11:06:52] 0.106943 kWh of electricity used since the begining.\n",
      "[codecarbon INFO @ 11:07:07] Energy consumed for RAM : 0.023222 kWh. RAM Power : 11.759872913360596 W\n",
      "[codecarbon INFO @ 11:07:07] Energy consumed for all CPUs : 0.083947 kWh. All CPUs Power : 42.5 W\n",
      "[codecarbon INFO @ 11:07:07] 0.107169 kWh of electricity used since the begining.\n",
      "[codecarbon INFO @ 11:07:22] Energy consumed for RAM : 0.023271 kWh. RAM Power : 11.759872913360596 W\n"
     ]
    },
    {
     "name": "stderr",
     "output_type": "stream",
     "text": [
      "[codecarbon INFO @ 11:07:22] Energy consumed for all CPUs : 0.084124 kWh. All CPUs Power : 42.5 W\n",
      "[codecarbon INFO @ 11:07:22] 0.107395 kWh of electricity used since the begining.\n",
      "[codecarbon INFO @ 11:07:37] Energy consumed for RAM : 0.023320 kWh. RAM Power : 11.759872913360596 W\n",
      "[codecarbon INFO @ 11:07:37] Energy consumed for all CPUs : 0.084301 kWh. All CPUs Power : 42.5 W\n",
      "[codecarbon INFO @ 11:07:37] 0.107621 kWh of electricity used since the begining.\n",
      "[codecarbon INFO @ 11:07:52] Energy consumed for RAM : 0.023369 kWh. RAM Power : 11.759872913360596 W\n",
      "[codecarbon INFO @ 11:07:52] Energy consumed for all CPUs : 0.084478 kWh. All CPUs Power : 42.5 W\n",
      "[codecarbon INFO @ 11:07:52] 0.107847 kWh of electricity used since the begining.\n",
      "[codecarbon INFO @ 11:08:07] Energy consumed for RAM : 0.023418 kWh. RAM Power : 11.759872913360596 W\n",
      "[codecarbon INFO @ 11:08:07] Energy consumed for all CPUs : 0.084655 kWh. All CPUs Power : 42.5 W\n",
      "[codecarbon INFO @ 11:08:07] 0.108073 kWh of electricity used since the begining.\n",
      "[codecarbon INFO @ 11:08:22] Energy consumed for RAM : 0.023467 kWh. RAM Power : 11.759872913360596 W\n",
      "[codecarbon INFO @ 11:08:22] Energy consumed for all CPUs : 0.084832 kWh. All CPUs Power : 42.5 W\n",
      "[codecarbon INFO @ 11:08:22] 0.108299 kWh of electricity used since the begining.\n",
      "[codecarbon INFO @ 11:08:37] Energy consumed for RAM : 0.023516 kWh. RAM Power : 11.759872913360596 W\n",
      "[codecarbon INFO @ 11:08:37] Energy consumed for all CPUs : 0.085009 kWh. All CPUs Power : 42.5 W\n",
      "[codecarbon INFO @ 11:08:37] 0.108525 kWh of electricity used since the begining.\n",
      "[codecarbon INFO @ 11:08:52] Energy consumed for RAM : 0.023565 kWh. RAM Power : 11.759872913360596 W\n",
      "[codecarbon INFO @ 11:08:52] Energy consumed for all CPUs : 0.085186 kWh. All CPUs Power : 42.5 W\n",
      "[codecarbon INFO @ 11:08:52] 0.108751 kWh of electricity used since the begining.\n",
      "[codecarbon INFO @ 11:09:07] Energy consumed for RAM : 0.023614 kWh. RAM Power : 11.759872913360596 W\n",
      "[codecarbon INFO @ 11:09:07] Energy consumed for all CPUs : 0.085363 kWh. All CPUs Power : 42.5 W\n",
      "[codecarbon INFO @ 11:09:07] 0.108977 kWh of electricity used since the begining.\n",
      "[codecarbon INFO @ 11:09:22] Energy consumed for RAM : 0.023663 kWh. RAM Power : 11.759872913360596 W\n",
      "[codecarbon INFO @ 11:09:22] Energy consumed for all CPUs : 0.085540 kWh. All CPUs Power : 42.5 W\n",
      "[codecarbon INFO @ 11:09:22] 0.109203 kWh of electricity used since the begining.\n",
      "[codecarbon INFO @ 11:09:37] Energy consumed for RAM : 0.023712 kWh. RAM Power : 11.759872913360596 W\n",
      "[codecarbon INFO @ 11:09:37] Energy consumed for all CPUs : 0.085717 kWh. All CPUs Power : 42.5 W\n",
      "[codecarbon INFO @ 11:09:37] 0.109429 kWh of electricity used since the begining.\n"
     ]
    },
    {
     "data": {
      "text/plain": [
       "array([[9.9999952e-01, 4.7830139e-07],\n",
       "       [1.0000000e+00, 7.2190838e-12],\n",
       "       [9.9999917e-01, 7.8072975e-07],\n",
       "       ...,\n",
       "       [9.9999881e-01, 1.1355085e-06],\n",
       "       [9.9933392e-01, 6.6607608e-04],\n",
       "       [1.0000000e+00, 7.5064852e-09]], dtype=float32)"
      ]
     },
     "execution_count": 35,
     "metadata": {},
     "output_type": "execute_result"
    },
    {
     "name": "stderr",
     "output_type": "stream",
     "text": [
      "[codecarbon INFO @ 11:09:52] Energy consumed for RAM : 0.023761 kWh. RAM Power : 11.759872913360596 W\n",
      "[codecarbon INFO @ 11:09:52] Energy consumed for all CPUs : 0.085894 kWh. All CPUs Power : 42.5 W\n",
      "[codecarbon INFO @ 11:09:52] 0.109655 kWh of electricity used since the begining.\n",
      "[codecarbon INFO @ 11:10:07] Energy consumed for RAM : 0.023810 kWh. RAM Power : 11.759872913360596 W\n",
      "[codecarbon INFO @ 11:10:07] Energy consumed for all CPUs : 0.086072 kWh. All CPUs Power : 42.5 W\n",
      "[codecarbon INFO @ 11:10:07] 0.109881 kWh of electricity used since the begining.\n",
      "[codecarbon INFO @ 11:10:22] Energy consumed for RAM : 0.023859 kWh. RAM Power : 11.759872913360596 W\n",
      "[codecarbon INFO @ 11:10:22] Energy consumed for all CPUs : 0.086249 kWh. All CPUs Power : 42.5 W\n",
      "[codecarbon INFO @ 11:10:22] 0.110107 kWh of electricity used since the begining.\n",
      "[codecarbon INFO @ 11:10:37] Energy consumed for RAM : 0.023908 kWh. RAM Power : 11.759872913360596 W\n",
      "[codecarbon INFO @ 11:10:37] Energy consumed for all CPUs : 0.086426 kWh. All CPUs Power : 42.5 W\n",
      "[codecarbon INFO @ 11:10:37] 0.110333 kWh of electricity used since the begining.\n",
      "[codecarbon INFO @ 11:10:52] Energy consumed for RAM : 0.023957 kWh. RAM Power : 11.759872913360596 W\n",
      "[codecarbon INFO @ 11:10:52] Energy consumed for all CPUs : 0.086603 kWh. All CPUs Power : 42.5 W\n",
      "[codecarbon INFO @ 11:10:52] 0.110559 kWh of electricity used since the begining.\n",
      "[codecarbon INFO @ 11:11:07] Energy consumed for RAM : 0.024006 kWh. RAM Power : 11.759872913360596 W\n",
      "[codecarbon INFO @ 11:11:07] Energy consumed for all CPUs : 0.086780 kWh. All CPUs Power : 42.5 W\n",
      "[codecarbon INFO @ 11:11:07] 0.110786 kWh of electricity used since the begining.\n",
      "[codecarbon INFO @ 11:11:22] Energy consumed for RAM : 0.024055 kWh. RAM Power : 11.759872913360596 W\n",
      "[codecarbon INFO @ 11:11:22] Energy consumed for all CPUs : 0.086957 kWh. All CPUs Power : 42.5 W\n",
      "[codecarbon INFO @ 11:11:22] 0.111012 kWh of electricity used since the begining.\n",
      "[codecarbon INFO @ 11:11:37] Energy consumed for RAM : 0.024104 kWh. RAM Power : 11.759872913360596 W\n",
      "[codecarbon INFO @ 11:11:37] Energy consumed for all CPUs : 0.087134 kWh. All CPUs Power : 42.5 W\n",
      "[codecarbon INFO @ 11:11:37] 0.111238 kWh of electricity used since the begining.\n",
      "[codecarbon INFO @ 11:11:52] Energy consumed for RAM : 0.024153 kWh. RAM Power : 11.759872913360596 W\n",
      "[codecarbon INFO @ 11:11:52] Energy consumed for all CPUs : 0.087311 kWh. All CPUs Power : 42.5 W\n",
      "[codecarbon INFO @ 11:11:52] 0.111464 kWh of electricity used since the begining.\n",
      "[codecarbon INFO @ 11:12:07] Energy consumed for RAM : 0.024202 kWh. RAM Power : 11.759872913360596 W\n",
      "[codecarbon INFO @ 11:12:07] Energy consumed for all CPUs : 0.087488 kWh. All CPUs Power : 42.5 W\n",
      "[codecarbon INFO @ 11:12:07] 0.111690 kWh of electricity used since the begining.\n",
      "[codecarbon INFO @ 11:12:22] Energy consumed for RAM : 0.024251 kWh. RAM Power : 11.759872913360596 W\n",
      "[codecarbon INFO @ 11:12:22] Energy consumed for all CPUs : 0.087665 kWh. All CPUs Power : 42.5 W\n",
      "[codecarbon INFO @ 11:12:22] 0.111916 kWh of electricity used since the begining.\n",
      "[codecarbon INFO @ 11:12:37] Energy consumed for RAM : 0.024300 kWh. RAM Power : 11.759872913360596 W\n",
      "[codecarbon INFO @ 11:12:37] Energy consumed for all CPUs : 0.087842 kWh. All CPUs Power : 42.5 W\n",
      "[codecarbon INFO @ 11:12:37] 0.112142 kWh of electricity used since the begining.\n",
      "[codecarbon INFO @ 11:12:52] Energy consumed for RAM : 0.024349 kWh. RAM Power : 11.759872913360596 W\n",
      "[codecarbon INFO @ 11:12:52] Energy consumed for all CPUs : 0.088019 kWh. All CPUs Power : 42.5 W\n",
      "[codecarbon INFO @ 11:12:52] 0.112368 kWh of electricity used since the begining.\n",
      "[codecarbon INFO @ 11:13:07] Energy consumed for RAM : 0.024398 kWh. RAM Power : 11.759872913360596 W\n",
      "[codecarbon INFO @ 11:13:07] Energy consumed for all CPUs : 0.088196 kWh. All CPUs Power : 42.5 W\n",
      "[codecarbon INFO @ 11:13:07] 0.112594 kWh of electricity used since the begining.\n"
     ]
    }
   ],
   "source": [
    "y_prob = model.predict([test_playlists, test_tracks])\n",
    "y_classes = y_prob.argmax(axis=-1)"
   ]
  },
  {
   "cell_type": "code",
   "execution_count": 104,
   "id": "a2b82670",
   "metadata": {},
   "outputs": [
    {
     "name": "stderr",
     "output_type": "stream",
     "text": [
      "[codecarbon INFO @ 12:31:22] Energy consumed for RAM : 0.039728 kWh. RAM Power : 11.759872913360596 W\n",
      "[codecarbon INFO @ 12:31:22] Energy consumed for all CPUs : 0.143614 kWh. All CPUs Power : 42.5 W\n",
      "[codecarbon INFO @ 12:31:22] 0.183342 kWh of electricity used since the begining.\n"
     ]
    }
   ],
   "source": [
    "def R_precision(rec, Y):\n",
    "    \"\"\"\n",
    "    Computes the R-Precision score for a given recommendation list.\n",
    "\n",
    "    Parameters:\n",
    "        rec (list): The recommendation list.\n",
    "        Y (list): The ground truth track list.\n",
    "\n",
    "    Returns:\n",
    "        float: The R-Precision score.\n",
    "\n",
    "    \"\"\"\n",
    "    count = 0\n",
    "    for song in Y:\n",
    "        if song in rec[:len(Y)]:\n",
    "            count += 1 \n",
    "    return count/len(Y)\n",
    "\n",
    "def NDCG(rec, Y):\n",
    "    \"\"\"\n",
    "    Computes the Normalized Discounted Cumulative Gain (NDCG) score for a given recommendation list.\n",
    "\n",
    "    Parameters:\n",
    "        rec (list): The recommendation list.\n",
    "        Y (list): The ground truth track list.\n",
    "\n",
    "    Returns:\n",
    "        float: The NDCG score.\n",
    "\n",
    "    \"\"\"\n",
    "    IDCG = 0\n",
    "    for i in range(0,len(Y)):\n",
    "        if i == 0: IDCG += 1\n",
    "        else: IDCG += 1/math.log((i+2),2)\n",
    "    DCG = 0\n",
    "    for i in range(0,len(rec)):\n",
    "        if i == 0 and rec[i] in Y: DCG += 1\n",
    "        elif i > 0 and rec[i] in Y: DCG += 1/math.log((i+2),2)     \n",
    "    return DCG/IDCG\n",
    "\n",
    "def clicks(rec, Y):\n",
    "    \"\"\"\n",
    "    Computes the number of recommendations until the first correct recommendation is found.\n",
    "\n",
    "    Parameters:\n",
    "        rec (list): The recommendation list.\n",
    "        Y (list): The ground truth track list.\n",
    "\n",
    "    Returns:\n",
    "        int: The number of recommendations until the first correct recommendation is found.\n",
    "\n",
    "    \"\"\"\n",
    "    found_at = -1\n",
    "    find = 0\n",
    "    while found_at == -1 and find < len(Y):\n",
    "        if rec[find] in Y: found_at = find\n",
    "        else: find += 1\n",
    "    if found_at == -1:\n",
    "        return len(Y)//10\n",
    "    else:\n",
    "        return found_at//10"
   ]
  },
  {
   "cell_type": "code",
   "execution_count": 110,
   "id": "aeabcc9b",
   "metadata": {},
   "outputs": [],
   "source": [
    "rec = np.where(y_classes == 1)[0].tolist()\n",
    "Y = np.where(test_values == 1)[0].tolist()"
   ]
  },
  {
   "cell_type": "code",
   "execution_count": 115,
   "id": "73a593da",
   "metadata": {},
   "outputs": [
    {
     "name": "stdout",
     "output_type": "stream",
     "text": [
      "R_precision: 0.0003969829297340214\n",
      "NDCG: 0.035040232846971144\n",
      "clicks: 53\n"
     ]
    },
    {
     "name": "stderr",
     "output_type": "stream",
     "text": [
      "[codecarbon INFO @ 12:38:53] Energy consumed for RAM : 0.041196 kWh. RAM Power : 11.759872913360596 W\n",
      "[codecarbon INFO @ 12:38:53] Energy consumed for all CPUs : 0.148922 kWh. All CPUs Power : 42.5 W\n",
      "[codecarbon INFO @ 12:38:53] 0.190118 kWh of electricity used since the begining.\n"
     ]
    }
   ],
   "source": [
    "R_precision_score = R_precision(rec, Y)\n",
    "NDCG_score = NDCG(rec, Y)\n",
    "clicks_score = clicks(rec, Y)\n",
    "\n",
    "print(f'R_precision: {R_precision_score}')\n",
    "print(f'NDCG: {NDCG_score}')\n",
    "print(f'clicks: {clicks_score}')"
   ]
  },
  {
   "cell_type": "code",
   "execution_count": 123,
   "id": "84f4028d",
   "metadata": {},
   "outputs": [
    {
     "name": "stderr",
     "output_type": "stream",
     "text": [
      "[codecarbon INFO @ 12:54:00] Energy consumed for RAM : 0.044151 kWh. RAM Power : 11.759872913360596 W\n",
      "[codecarbon INFO @ 12:54:00] Energy consumed for all CPUs : 0.159623 kWh. All CPUs Power : 42.5 W\n",
      "[codecarbon INFO @ 12:54:00] 0.203774 kWh of electricity used since the begining.\n",
      "\u001b[1;38;5;39mCOMET INFO:\u001b[0m ---------------------------------------------------------------------------------------\n",
      "\u001b[1;38;5;39mCOMET INFO:\u001b[0m Comet.ml Experiment Summary\n",
      "\u001b[1;38;5;39mCOMET INFO:\u001b[0m ---------------------------------------------------------------------------------------\n",
      "\u001b[1;38;5;39mCOMET INFO:\u001b[0m   Data:\n",
      "\u001b[1;38;5;39mCOMET INFO:\u001b[0m     display_summary_level : 1\n",
      "\u001b[1;38;5;39mCOMET INFO:\u001b[0m     url                   : https://www.comet.com/sadcor/general/a698a8c031f3443cb85948d7e5783675\n",
      "\u001b[1;38;5;39mCOMET INFO:\u001b[0m   Metrics [count] (min, max):\n",
      "\u001b[1;38;5;39mCOMET INFO:\u001b[0m     accuracy [500]                : (0.4964500069618225, 0.9685999751091003)\n",
      "\u001b[1;38;5;39mCOMET INFO:\u001b[0m     batch_accuracy [500]          : (0.4964500069618225, 0.9685999751091003)\n",
      "\u001b[1;38;5;39mCOMET INFO:\u001b[0m     batch_loss [500]              : (0.09409907460212708, 0.6984562277793884)\n",
      "\u001b[1;38;5;39mCOMET INFO:\u001b[0m     epoch_duration [500]          : (2.9018577788956463, 10.404610882978886)\n",
      "\u001b[1;38;5;39mCOMET INFO:\u001b[0m     loss [500]                    : (0.09409907460212708, 0.6984562277793884)\n",
      "\u001b[1;38;5;39mCOMET INFO:\u001b[0m     val_accuracy [500]            : (0.4900999963283539, 0.5242999792098999)\n",
      "\u001b[1;38;5;39mCOMET INFO:\u001b[0m     val_loss [500]                : (0.6930985450744629, 3.031297445297241)\n",
      "\u001b[1;38;5;39mCOMET INFO:\u001b[0m     validate_batch_accuracy [500] : (0.4900999963283539, 0.5242999792098999)\n",
      "\u001b[1;38;5;39mCOMET INFO:\u001b[0m     validate_batch_loss [500]     : (0.6930985450744629, 3.031297445297241)\n",
      "\u001b[1;38;5;39mCOMET INFO:\u001b[0m   Others:\n",
      "\u001b[1;38;5;39mCOMET INFO:\u001b[0m     trainable_params : 2518913\n",
      "\u001b[1;38;5;39mCOMET INFO:\u001b[0m   Parameters:\n",
      "\u001b[1;38;5;39mCOMET INFO:\u001b[0m     Adam_amsgrad       : False\n",
      "\u001b[1;38;5;39mCOMET INFO:\u001b[0m     Adam_beta_1        : 0.9\n",
      "\u001b[1;38;5;39mCOMET INFO:\u001b[0m     Adam_beta_2        : 0.999\n",
      "\u001b[1;38;5;39mCOMET INFO:\u001b[0m     Adam_decay         : 0.0\n",
      "\u001b[1;38;5;39mCOMET INFO:\u001b[0m     Adam_epsilon       : 1e-07\n",
      "\u001b[1;38;5;39mCOMET INFO:\u001b[0m     Adam_learning_rate : 0.001\n",
      "\u001b[1;38;5;39mCOMET INFO:\u001b[0m     Adam_name          : Adam\n",
      "\u001b[1;38;5;39mCOMET INFO:\u001b[0m     Optimizer          : Adam\n",
      "\u001b[1;38;5;39mCOMET INFO:\u001b[0m     categories         : auto\n",
      "\u001b[1;38;5;39mCOMET INFO:\u001b[0m     drop               : 1\n",
      "\u001b[1;38;5;39mCOMET INFO:\u001b[0m     dtype              : <class 'numpy.float64'>\n",
      "\u001b[1;38;5;39mCOMET INFO:\u001b[0m     epochs             : 500\n",
      "\u001b[1;38;5;39mCOMET INFO:\u001b[0m     handle_unknown     : error\n",
      "\u001b[1;38;5;39mCOMET INFO:\u001b[0m     sparse             : True\n",
      "\u001b[1;38;5;39mCOMET INFO:\u001b[0m     steps              : 1\n",
      "\u001b[1;38;5;39mCOMET INFO:\u001b[0m   Uploads:\n",
      "\u001b[1;38;5;39mCOMET INFO:\u001b[0m     asset               : 1 (685 bytes)\n",
      "\u001b[1;38;5;39mCOMET INFO:\u001b[0m     environment details : 1\n",
      "\u001b[1;38;5;39mCOMET INFO:\u001b[0m     filename            : 1\n",
      "\u001b[1;38;5;39mCOMET INFO:\u001b[0m     installed packages  : 1\n",
      "\u001b[1;38;5;39mCOMET INFO:\u001b[0m     model graph         : 1\n",
      "\u001b[1;38;5;39mCOMET INFO:\u001b[0m     notebook            : 1\n",
      "\u001b[1;38;5;39mCOMET INFO:\u001b[0m     os packages         : 1\n",
      "\u001b[1;38;5;39mCOMET INFO:\u001b[0m     source_code         : 1\n",
      "\u001b[1;38;5;39mCOMET INFO:\u001b[0m \n",
      "\u001b[1;38;5;39mCOMET INFO:\u001b[0m Please wait for metadata to finish uploading (timeout is 3600 seconds)\n",
      "\u001b[1;38;5;39mCOMET INFO:\u001b[0m Please wait for assets to finish uploading (timeout is 10800 seconds)\n",
      "\u001b[1;38;5;39mCOMET INFO:\u001b[0m Still uploading 1 file(s), remaining 50.66 MB/53.30 MB\n",
      "\u001b[1;38;5;39mCOMET INFO:\u001b[0m Still uploading 1 asset(s), remaining 35.21 MB/53.30 MB, Throughput 1.03 MB/s, ETA ~35s\n",
      "\u001b[1;38;5;39mCOMET INFO:\u001b[0m Still uploading 1 asset(s), remaining 18.38 MB/53.30 MB, Throughput 1.12 MB/s, ETA ~17s\n"
     ]
    }
   ],
   "source": [
    "experiment.end()"
   ]
  },
  {
   "cell_type": "code",
   "execution_count": null,
   "id": "5f515924",
   "metadata": {},
   "outputs": [],
   "source": []
  }
 ],
 "metadata": {
  "kernelspec": {
   "display_name": "Python 3 (ipykernel)",
   "language": "python",
   "name": "python3"
  },
  "language_info": {
   "codemirror_mode": {
    "name": "ipython",
    "version": 3
   },
   "file_extension": ".py",
   "mimetype": "text/x-python",
   "name": "python",
   "nbconvert_exporter": "python",
   "pygments_lexer": "ipython3",
   "version": "3.8.10"
  }
 },
 "nbformat": 4,
 "nbformat_minor": 5
}
